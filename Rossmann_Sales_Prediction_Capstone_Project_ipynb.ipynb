{
  "nbformat": 4,
  "nbformat_minor": 0,
  "metadata": {
    "kernelspec": {
      "display_name": "Python 3",
      "language": "python",
      "name": "python3"
    },
    "language_info": {
      "codemirror_mode": {
        "name": "ipython",
        "version": 3
      },
      "file_extension": ".py",
      "mimetype": "text/x-python",
      "name": "python",
      "nbconvert_exporter": "python",
      "pygments_lexer": "ipython3",
      "version": "3.6.6"
    },
    "colab": {
      "name": "Rossmann Sales Prediction - Capstone Project.ipynb.ipynb",
      "provenance": [],
      "collapsed_sections": [
        "Y06xIdG26kRF",
        "WWeU1f9bwqQq"
      ],
      "include_colab_link": true
    }
  },
  "cells": [
    {
      "cell_type": "markdown",
      "metadata": {
        "id": "view-in-github",
        "colab_type": "text"
      },
      "source": [
        "<a href=\"https://colab.research.google.com/github/Team-AlmaBetter/Retail-Sales-Prediction/blob/main/Rossmann_Sales_Prediction_Capstone_Project_ipynb.ipynb\" target=\"_parent\"><img src=\"https://colab.research.google.com/assets/colab-badge.svg\" alt=\"Open In Colab\"/></a>"
      ]
    },
    {
      "cell_type": "markdown",
      "metadata": {
        "id": "tOGC-qoyhJeX"
      },
      "source": [
        "# <b><u> Project Title : Sales Prediction : Predicting sales of a major store chain Rossmann</u></b>"
      ]
    },
    {
      "cell_type": "markdown",
      "metadata": {
        "id": "Y06xIdG26kRF"
      },
      "source": [
        "## <b> Problem Description </b>\n",
        "\n",
        "### Rossmann operates over 3,000 drug stores in 7 European countries. Currently, Rossmann store managers are tasked with predicting their daily sales for up to six weeks in advance. Store sales are influenced by many factors, including promotions, competition, school and state holidays, seasonality, and locality. With thousands of individual managers predicting sales based on their unique circumstances, the accuracy of results can be quite varied.\n",
        "\n",
        "### You are provided with historical sales data for 1,115 Rossmann stores. The task is to forecast the \"Sales\" column for the test set. Note that some stores in the dataset were temporarily closed for refurbishment."
      ]
    },
    {
      "cell_type": "markdown",
      "metadata": {
        "id": "WWeU1f9bwqQq"
      },
      "source": [
        "## <b> Data Description </b>\n",
        "\n",
        "### <b>Rossmann Stores Data.csv </b> - historical data including Sales\n",
        "### <b>store.csv </b> - supplemental information about the stores\n",
        "\n",
        "\n",
        "### <b><u>Data fields</u></b>\n",
        "### Most of the fields are self-explanatory. The following are descriptions for those that aren't.\n",
        "\n",
        "* #### Id - an Id that represents a (Store, Date) duple within the test set\n",
        "* #### Store - a unique Id for each store\n",
        "* #### Sales - the turnover for any given day (this is what you are predicting)\n",
        "* #### Customers - the number of customers on a given day\n",
        "* #### Open - an indicator for whether the store was open: 0 = closed, 1 = open\n",
        "* #### StateHoliday - indicates a state holiday. Normally all stores, with few exceptions, are closed on state holidays. Note that all schools are closed on public holidays and weekends. a = public holiday, b = Easter holiday, c = Christmas, 0 = None\n",
        "* #### SchoolHoliday - indicates if the (Store, Date) was affected by the closure of public schools\n",
        "* #### StoreType - differentiates between 4 different store models: a, b, c, d\n",
        "* #### Assortment - describes an assortment level: a = basic, b = extra, c = extended\n",
        "* #### CompetitionDistance - distance in meters to the nearest competitor store\n",
        "* #### CompetitionOpenSince[Month/Year] - gives the approximate year and month of the time the nearest competitor was opened\n",
        "* #### Promo - indicates whether a store is running a promo on that day\n",
        "* #### Promo2 - Promo2 is a continuing and consecutive promotion for some stores: 0 = store is not participating, 1 = store is participating\n",
        "* #### Promo2Since[Year/Week] - describes the year and calendar week when the store started participating in Promo2\n",
        "* #### PromoInterval - describes the consecutive intervals Promo2 is started, naming the months the promotion is started anew. E.g. \"Feb,May,Aug,Nov\" means each round starts in February, May, August, November of any given year for that store"
      ]
    },
    {
      "cell_type": "markdown",
      "metadata": {
        "id": "T3MoEdinglmF"
      },
      "source": [
        "#<b>1. Import necessary libraries"
      ]
    },
    {
      "cell_type": "code",
      "metadata": {
        "id": "bbW-99A1gWrp",
        "colab": {
          "base_uri": "https://localhost:8080/"
        },
        "outputId": "c90bcd51-3997-42c5-c6f3-3d190eb555cd"
      },
      "source": [
        "!pip install chart_studio\n",
        "import pandas as pd, datetime\n",
        "import numpy as np\n",
        "import matplotlib.pyplot as plt\n",
        "import scipy.stats as stats\n",
        "import seaborn as sns\n",
        "from statsmodels.tsa.stattools import adfuller\n",
        "get_ipython().run_line_magic('matplotlib', 'inline')\n",
        "from time import time\n",
        "from math import sqrt\n",
        "from statsmodels.tsa.seasonal import seasonal_decompose\n",
        "from statsmodels.graphics.tsaplots import plot_acf, plot_pacf\n",
        "import itertools\n",
        "import statsmodels.api as sm\n",
        "from statsmodels.tsa.stattools import acf,pacf\n",
        "from statsmodels.tsa.arima_model import  ARIMA\n",
        "from sklearn import model_selection\n",
        "from sklearn.metrics import mean_squared_error, r2_score\n",
        "from pandas import DataFrame\n",
        "import plotly.graph_objs as go\n",
        "import chart_studio.plotly as py\n",
        "from plotly.offline import iplot\n",
        "from matplotlib.pyplot import *\n",
        "import numpy as np\n",
        "import matplotlib.pyplot as plt\n",
        "sns.set(style=\"whitegrid\")\n",
        "import warnings\n",
        "warnings.filterwarnings('ignore')"
      ],
      "execution_count": 1,
      "outputs": [
        {
          "output_type": "stream",
          "name": "stdout",
          "text": [
            "Collecting chart_studio\n",
            "  Downloading chart_studio-1.1.0-py3-none-any.whl (64 kB)\n",
            "\u001b[?25l\r\u001b[K     |█████                           | 10 kB 26.5 MB/s eta 0:00:01\r\u001b[K     |██████████▏                     | 20 kB 25.8 MB/s eta 0:00:01\r\u001b[K     |███████████████▎                | 30 kB 18.0 MB/s eta 0:00:01\r\u001b[K     |████████████████████▍           | 40 kB 16.1 MB/s eta 0:00:01\r\u001b[K     |█████████████████████████▍      | 51 kB 5.7 MB/s eta 0:00:01\r\u001b[K     |██████████████████████████████▌ | 61 kB 6.2 MB/s eta 0:00:01\r\u001b[K     |████████████████████████████████| 64 kB 1.9 MB/s \n",
            "\u001b[?25hRequirement already satisfied: six in /usr/local/lib/python3.7/dist-packages (from chart_studio) (1.15.0)\n",
            "Requirement already satisfied: retrying>=1.3.3 in /usr/local/lib/python3.7/dist-packages (from chart_studio) (1.3.3)\n",
            "Requirement already satisfied: plotly in /usr/local/lib/python3.7/dist-packages (from chart_studio) (4.4.1)\n",
            "Requirement already satisfied: requests in /usr/local/lib/python3.7/dist-packages (from chart_studio) (2.23.0)\n",
            "Requirement already satisfied: certifi>=2017.4.17 in /usr/local/lib/python3.7/dist-packages (from requests->chart_studio) (2021.5.30)\n",
            "Requirement already satisfied: urllib3!=1.25.0,!=1.25.1,<1.26,>=1.21.1 in /usr/local/lib/python3.7/dist-packages (from requests->chart_studio) (1.24.3)\n",
            "Requirement already satisfied: idna<3,>=2.5 in /usr/local/lib/python3.7/dist-packages (from requests->chart_studio) (2.10)\n",
            "Requirement already satisfied: chardet<4,>=3.0.2 in /usr/local/lib/python3.7/dist-packages (from requests->chart_studio) (3.0.4)\n",
            "Installing collected packages: chart-studio\n",
            "Successfully installed chart-studio-1.1.0\n"
          ]
        },
        {
          "output_type": "stream",
          "name": "stderr",
          "text": [
            "/usr/local/lib/python3.7/dist-packages/statsmodels/tools/_testing.py:19: FutureWarning: pandas.util.testing is deprecated. Use the functions in the public API at pandas.testing instead.\n",
            "  import pandas.util.testing as tm\n"
          ]
        }
      ]
    },
    {
      "cell_type": "markdown",
      "metadata": {
        "id": "S7w84heoa1T1"
      },
      "source": [
        "#<b>2. Data Preparation"
      ]
    },
    {
      "cell_type": "markdown",
      "metadata": {
        "id": "iP29Mf7Dhd3I"
      },
      "source": [
        "##<b>2.1 Import Datasets"
      ]
    },
    {
      "cell_type": "code",
      "metadata": {
        "colab": {
          "base_uri": "https://localhost:8080/"
        },
        "id": "9q1zIoR6ivsV",
        "outputId": "059e7c70-493f-40f2-97f4-14466d945ef2"
      },
      "source": [
        "from google.colab import drive\n",
        "drive.mount('/content/drive')"
      ],
      "execution_count": 2,
      "outputs": [
        {
          "output_type": "stream",
          "name": "stdout",
          "text": [
            "Mounted at /content/drive\n"
          ]
        }
      ]
    },
    {
      "cell_type": "code",
      "metadata": {
        "colab": {
          "base_uri": "https://localhost:8080/",
          "height": 206
        },
        "id": "oXI6uRS2i1FB",
        "outputId": "facc3210-ad00-46c6-f8aa-c302592504b1"
      },
      "source": [
        "R_data = pd.read_csv('/content/drive/MyDrive/Retail Sales Prediction-Capstone 2/Data & Resources/Rossmann Stores Data.csv')\n",
        "R_data.head()"
      ],
      "execution_count": 6,
      "outputs": [
        {
          "output_type": "execute_result",
          "data": {
            "text/html": [
              "<div>\n",
              "<style scoped>\n",
              "    .dataframe tbody tr th:only-of-type {\n",
              "        vertical-align: middle;\n",
              "    }\n",
              "\n",
              "    .dataframe tbody tr th {\n",
              "        vertical-align: top;\n",
              "    }\n",
              "\n",
              "    .dataframe thead th {\n",
              "        text-align: right;\n",
              "    }\n",
              "</style>\n",
              "<table border=\"1\" class=\"dataframe\">\n",
              "  <thead>\n",
              "    <tr style=\"text-align: right;\">\n",
              "      <th></th>\n",
              "      <th>Store</th>\n",
              "      <th>DayOfWeek</th>\n",
              "      <th>Date</th>\n",
              "      <th>Sales</th>\n",
              "      <th>Customers</th>\n",
              "      <th>Open</th>\n",
              "      <th>Promo</th>\n",
              "      <th>StateHoliday</th>\n",
              "      <th>SchoolHoliday</th>\n",
              "    </tr>\n",
              "  </thead>\n",
              "  <tbody>\n",
              "    <tr>\n",
              "      <th>0</th>\n",
              "      <td>1</td>\n",
              "      <td>5</td>\n",
              "      <td>2015-07-31</td>\n",
              "      <td>5263</td>\n",
              "      <td>555</td>\n",
              "      <td>1</td>\n",
              "      <td>1</td>\n",
              "      <td>0</td>\n",
              "      <td>1</td>\n",
              "    </tr>\n",
              "    <tr>\n",
              "      <th>1</th>\n",
              "      <td>2</td>\n",
              "      <td>5</td>\n",
              "      <td>2015-07-31</td>\n",
              "      <td>6064</td>\n",
              "      <td>625</td>\n",
              "      <td>1</td>\n",
              "      <td>1</td>\n",
              "      <td>0</td>\n",
              "      <td>1</td>\n",
              "    </tr>\n",
              "    <tr>\n",
              "      <th>2</th>\n",
              "      <td>3</td>\n",
              "      <td>5</td>\n",
              "      <td>2015-07-31</td>\n",
              "      <td>8314</td>\n",
              "      <td>821</td>\n",
              "      <td>1</td>\n",
              "      <td>1</td>\n",
              "      <td>0</td>\n",
              "      <td>1</td>\n",
              "    </tr>\n",
              "    <tr>\n",
              "      <th>3</th>\n",
              "      <td>4</td>\n",
              "      <td>5</td>\n",
              "      <td>2015-07-31</td>\n",
              "      <td>13995</td>\n",
              "      <td>1498</td>\n",
              "      <td>1</td>\n",
              "      <td>1</td>\n",
              "      <td>0</td>\n",
              "      <td>1</td>\n",
              "    </tr>\n",
              "    <tr>\n",
              "      <th>4</th>\n",
              "      <td>5</td>\n",
              "      <td>5</td>\n",
              "      <td>2015-07-31</td>\n",
              "      <td>4822</td>\n",
              "      <td>559</td>\n",
              "      <td>1</td>\n",
              "      <td>1</td>\n",
              "      <td>0</td>\n",
              "      <td>1</td>\n",
              "    </tr>\n",
              "  </tbody>\n",
              "</table>\n",
              "</div>"
            ],
            "text/plain": [
              "   Store  DayOfWeek        Date  Sales  ...  Open  Promo  StateHoliday SchoolHoliday\n",
              "0      1          5  2015-07-31   5263  ...     1      1             0             1\n",
              "1      2          5  2015-07-31   6064  ...     1      1             0             1\n",
              "2      3          5  2015-07-31   8314  ...     1      1             0             1\n",
              "3      4          5  2015-07-31  13995  ...     1      1             0             1\n",
              "4      5          5  2015-07-31   4822  ...     1      1             0             1\n",
              "\n",
              "[5 rows x 9 columns]"
            ]
          },
          "metadata": {},
          "execution_count": 6
        }
      ]
    },
    {
      "cell_type": "code",
      "metadata": {
        "colab": {
          "base_uri": "https://localhost:8080/",
          "height": 206
        },
        "id": "LIh9qVTNYl8S",
        "outputId": "c10cacac-18f0-4dfc-eff5-32fee964ddd4"
      },
      "source": [
        "R_data.tail()"
      ],
      "execution_count": 7,
      "outputs": [
        {
          "output_type": "execute_result",
          "data": {
            "text/html": [
              "<div>\n",
              "<style scoped>\n",
              "    .dataframe tbody tr th:only-of-type {\n",
              "        vertical-align: middle;\n",
              "    }\n",
              "\n",
              "    .dataframe tbody tr th {\n",
              "        vertical-align: top;\n",
              "    }\n",
              "\n",
              "    .dataframe thead th {\n",
              "        text-align: right;\n",
              "    }\n",
              "</style>\n",
              "<table border=\"1\" class=\"dataframe\">\n",
              "  <thead>\n",
              "    <tr style=\"text-align: right;\">\n",
              "      <th></th>\n",
              "      <th>Store</th>\n",
              "      <th>DayOfWeek</th>\n",
              "      <th>Date</th>\n",
              "      <th>Sales</th>\n",
              "      <th>Customers</th>\n",
              "      <th>Open</th>\n",
              "      <th>Promo</th>\n",
              "      <th>StateHoliday</th>\n",
              "      <th>SchoolHoliday</th>\n",
              "    </tr>\n",
              "  </thead>\n",
              "  <tbody>\n",
              "    <tr>\n",
              "      <th>1017204</th>\n",
              "      <td>1111</td>\n",
              "      <td>2</td>\n",
              "      <td>2013-01-01</td>\n",
              "      <td>0</td>\n",
              "      <td>0</td>\n",
              "      <td>0</td>\n",
              "      <td>0</td>\n",
              "      <td>a</td>\n",
              "      <td>1</td>\n",
              "    </tr>\n",
              "    <tr>\n",
              "      <th>1017205</th>\n",
              "      <td>1112</td>\n",
              "      <td>2</td>\n",
              "      <td>2013-01-01</td>\n",
              "      <td>0</td>\n",
              "      <td>0</td>\n",
              "      <td>0</td>\n",
              "      <td>0</td>\n",
              "      <td>a</td>\n",
              "      <td>1</td>\n",
              "    </tr>\n",
              "    <tr>\n",
              "      <th>1017206</th>\n",
              "      <td>1113</td>\n",
              "      <td>2</td>\n",
              "      <td>2013-01-01</td>\n",
              "      <td>0</td>\n",
              "      <td>0</td>\n",
              "      <td>0</td>\n",
              "      <td>0</td>\n",
              "      <td>a</td>\n",
              "      <td>1</td>\n",
              "    </tr>\n",
              "    <tr>\n",
              "      <th>1017207</th>\n",
              "      <td>1114</td>\n",
              "      <td>2</td>\n",
              "      <td>2013-01-01</td>\n",
              "      <td>0</td>\n",
              "      <td>0</td>\n",
              "      <td>0</td>\n",
              "      <td>0</td>\n",
              "      <td>a</td>\n",
              "      <td>1</td>\n",
              "    </tr>\n",
              "    <tr>\n",
              "      <th>1017208</th>\n",
              "      <td>1115</td>\n",
              "      <td>2</td>\n",
              "      <td>2013-01-01</td>\n",
              "      <td>0</td>\n",
              "      <td>0</td>\n",
              "      <td>0</td>\n",
              "      <td>0</td>\n",
              "      <td>a</td>\n",
              "      <td>1</td>\n",
              "    </tr>\n",
              "  </tbody>\n",
              "</table>\n",
              "</div>"
            ],
            "text/plain": [
              "         Store  DayOfWeek        Date  ...  Promo  StateHoliday  SchoolHoliday\n",
              "1017204   1111          2  2013-01-01  ...      0             a              1\n",
              "1017205   1112          2  2013-01-01  ...      0             a              1\n",
              "1017206   1113          2  2013-01-01  ...      0             a              1\n",
              "1017207   1114          2  2013-01-01  ...      0             a              1\n",
              "1017208   1115          2  2013-01-01  ...      0             a              1\n",
              "\n",
              "[5 rows x 9 columns]"
            ]
          },
          "metadata": {},
          "execution_count": 7
        }
      ]
    },
    {
      "cell_type": "code",
      "metadata": {
        "colab": {
          "base_uri": "https://localhost:8080/"
        },
        "id": "3DppFg4vjfcC",
        "outputId": "f203b3b5-bf16-40df-d419-14a56b206144"
      },
      "source": [
        "R_data.shape"
      ],
      "execution_count": 8,
      "outputs": [
        {
          "output_type": "execute_result",
          "data": {
            "text/plain": [
              "(1017209, 9)"
            ]
          },
          "metadata": {},
          "execution_count": 8
        }
      ]
    },
    {
      "cell_type": "code",
      "metadata": {
        "colab": {
          "base_uri": "https://localhost:8080/",
          "height": 226
        },
        "id": "3ZoNe3mcjrNT",
        "outputId": "7e63f8e0-31cb-43ba-9a00-9e8269b2591e"
      },
      "source": [
        "store = pd.read_csv('/content/drive/MyDrive/Retail Sales Prediction-Capstone 2/Data & Resources/store.csv')\n",
        "store.head()"
      ],
      "execution_count": 12,
      "outputs": [
        {
          "output_type": "execute_result",
          "data": {
            "text/html": [
              "<div>\n",
              "<style scoped>\n",
              "    .dataframe tbody tr th:only-of-type {\n",
              "        vertical-align: middle;\n",
              "    }\n",
              "\n",
              "    .dataframe tbody tr th {\n",
              "        vertical-align: top;\n",
              "    }\n",
              "\n",
              "    .dataframe thead th {\n",
              "        text-align: right;\n",
              "    }\n",
              "</style>\n",
              "<table border=\"1\" class=\"dataframe\">\n",
              "  <thead>\n",
              "    <tr style=\"text-align: right;\">\n",
              "      <th></th>\n",
              "      <th>Store</th>\n",
              "      <th>StoreType</th>\n",
              "      <th>Assortment</th>\n",
              "      <th>CompetitionDistance</th>\n",
              "      <th>CompetitionOpenSinceMonth</th>\n",
              "      <th>CompetitionOpenSinceYear</th>\n",
              "      <th>Promo2</th>\n",
              "      <th>Promo2SinceWeek</th>\n",
              "      <th>Promo2SinceYear</th>\n",
              "      <th>PromoInterval</th>\n",
              "    </tr>\n",
              "  </thead>\n",
              "  <tbody>\n",
              "    <tr>\n",
              "      <th>0</th>\n",
              "      <td>1</td>\n",
              "      <td>c</td>\n",
              "      <td>a</td>\n",
              "      <td>1270.0</td>\n",
              "      <td>9.0</td>\n",
              "      <td>2008.0</td>\n",
              "      <td>0</td>\n",
              "      <td>NaN</td>\n",
              "      <td>NaN</td>\n",
              "      <td>NaN</td>\n",
              "    </tr>\n",
              "    <tr>\n",
              "      <th>1</th>\n",
              "      <td>2</td>\n",
              "      <td>a</td>\n",
              "      <td>a</td>\n",
              "      <td>570.0</td>\n",
              "      <td>11.0</td>\n",
              "      <td>2007.0</td>\n",
              "      <td>1</td>\n",
              "      <td>13.0</td>\n",
              "      <td>2010.0</td>\n",
              "      <td>Jan,Apr,Jul,Oct</td>\n",
              "    </tr>\n",
              "    <tr>\n",
              "      <th>2</th>\n",
              "      <td>3</td>\n",
              "      <td>a</td>\n",
              "      <td>a</td>\n",
              "      <td>14130.0</td>\n",
              "      <td>12.0</td>\n",
              "      <td>2006.0</td>\n",
              "      <td>1</td>\n",
              "      <td>14.0</td>\n",
              "      <td>2011.0</td>\n",
              "      <td>Jan,Apr,Jul,Oct</td>\n",
              "    </tr>\n",
              "    <tr>\n",
              "      <th>3</th>\n",
              "      <td>4</td>\n",
              "      <td>c</td>\n",
              "      <td>c</td>\n",
              "      <td>620.0</td>\n",
              "      <td>9.0</td>\n",
              "      <td>2009.0</td>\n",
              "      <td>0</td>\n",
              "      <td>NaN</td>\n",
              "      <td>NaN</td>\n",
              "      <td>NaN</td>\n",
              "    </tr>\n",
              "    <tr>\n",
              "      <th>4</th>\n",
              "      <td>5</td>\n",
              "      <td>a</td>\n",
              "      <td>a</td>\n",
              "      <td>29910.0</td>\n",
              "      <td>4.0</td>\n",
              "      <td>2015.0</td>\n",
              "      <td>0</td>\n",
              "      <td>NaN</td>\n",
              "      <td>NaN</td>\n",
              "      <td>NaN</td>\n",
              "    </tr>\n",
              "  </tbody>\n",
              "</table>\n",
              "</div>"
            ],
            "text/plain": [
              "   Store StoreType  ... Promo2SinceYear    PromoInterval\n",
              "0      1         c  ...             NaN              NaN\n",
              "1      2         a  ...          2010.0  Jan,Apr,Jul,Oct\n",
              "2      3         a  ...          2011.0  Jan,Apr,Jul,Oct\n",
              "3      4         c  ...             NaN              NaN\n",
              "4      5         a  ...             NaN              NaN\n",
              "\n",
              "[5 rows x 10 columns]"
            ]
          },
          "metadata": {},
          "execution_count": 12
        }
      ]
    },
    {
      "cell_type": "code",
      "metadata": {
        "colab": {
          "base_uri": "https://localhost:8080/",
          "height": 226
        },
        "id": "ELCyqhiLYvY_",
        "outputId": "5796870f-6d0f-4169-b95d-188540bbb28f"
      },
      "source": [
        "store.tail()"
      ],
      "execution_count": 13,
      "outputs": [
        {
          "output_type": "execute_result",
          "data": {
            "text/html": [
              "<div>\n",
              "<style scoped>\n",
              "    .dataframe tbody tr th:only-of-type {\n",
              "        vertical-align: middle;\n",
              "    }\n",
              "\n",
              "    .dataframe tbody tr th {\n",
              "        vertical-align: top;\n",
              "    }\n",
              "\n",
              "    .dataframe thead th {\n",
              "        text-align: right;\n",
              "    }\n",
              "</style>\n",
              "<table border=\"1\" class=\"dataframe\">\n",
              "  <thead>\n",
              "    <tr style=\"text-align: right;\">\n",
              "      <th></th>\n",
              "      <th>Store</th>\n",
              "      <th>StoreType</th>\n",
              "      <th>Assortment</th>\n",
              "      <th>CompetitionDistance</th>\n",
              "      <th>CompetitionOpenSinceMonth</th>\n",
              "      <th>CompetitionOpenSinceYear</th>\n",
              "      <th>Promo2</th>\n",
              "      <th>Promo2SinceWeek</th>\n",
              "      <th>Promo2SinceYear</th>\n",
              "      <th>PromoInterval</th>\n",
              "    </tr>\n",
              "  </thead>\n",
              "  <tbody>\n",
              "    <tr>\n",
              "      <th>1110</th>\n",
              "      <td>1111</td>\n",
              "      <td>a</td>\n",
              "      <td>a</td>\n",
              "      <td>1900.0</td>\n",
              "      <td>6.0</td>\n",
              "      <td>2014.0</td>\n",
              "      <td>1</td>\n",
              "      <td>31.0</td>\n",
              "      <td>2013.0</td>\n",
              "      <td>Jan,Apr,Jul,Oct</td>\n",
              "    </tr>\n",
              "    <tr>\n",
              "      <th>1111</th>\n",
              "      <td>1112</td>\n",
              "      <td>c</td>\n",
              "      <td>c</td>\n",
              "      <td>1880.0</td>\n",
              "      <td>4.0</td>\n",
              "      <td>2006.0</td>\n",
              "      <td>0</td>\n",
              "      <td>NaN</td>\n",
              "      <td>NaN</td>\n",
              "      <td>NaN</td>\n",
              "    </tr>\n",
              "    <tr>\n",
              "      <th>1112</th>\n",
              "      <td>1113</td>\n",
              "      <td>a</td>\n",
              "      <td>c</td>\n",
              "      <td>9260.0</td>\n",
              "      <td>NaN</td>\n",
              "      <td>NaN</td>\n",
              "      <td>0</td>\n",
              "      <td>NaN</td>\n",
              "      <td>NaN</td>\n",
              "      <td>NaN</td>\n",
              "    </tr>\n",
              "    <tr>\n",
              "      <th>1113</th>\n",
              "      <td>1114</td>\n",
              "      <td>a</td>\n",
              "      <td>c</td>\n",
              "      <td>870.0</td>\n",
              "      <td>NaN</td>\n",
              "      <td>NaN</td>\n",
              "      <td>0</td>\n",
              "      <td>NaN</td>\n",
              "      <td>NaN</td>\n",
              "      <td>NaN</td>\n",
              "    </tr>\n",
              "    <tr>\n",
              "      <th>1114</th>\n",
              "      <td>1115</td>\n",
              "      <td>d</td>\n",
              "      <td>c</td>\n",
              "      <td>5350.0</td>\n",
              "      <td>NaN</td>\n",
              "      <td>NaN</td>\n",
              "      <td>1</td>\n",
              "      <td>22.0</td>\n",
              "      <td>2012.0</td>\n",
              "      <td>Mar,Jun,Sept,Dec</td>\n",
              "    </tr>\n",
              "  </tbody>\n",
              "</table>\n",
              "</div>"
            ],
            "text/plain": [
              "      Store StoreType  ... Promo2SinceYear     PromoInterval\n",
              "1110   1111         a  ...          2013.0   Jan,Apr,Jul,Oct\n",
              "1111   1112         c  ...             NaN               NaN\n",
              "1112   1113         a  ...             NaN               NaN\n",
              "1113   1114         a  ...             NaN               NaN\n",
              "1114   1115         d  ...          2012.0  Mar,Jun,Sept,Dec\n",
              "\n",
              "[5 rows x 10 columns]"
            ]
          },
          "metadata": {},
          "execution_count": 13
        }
      ]
    },
    {
      "cell_type": "code",
      "metadata": {
        "colab": {
          "base_uri": "https://localhost:8080/"
        },
        "id": "15HCcccgjzzb",
        "outputId": "566216ba-6ac2-41ab-ce20-b4418b8660b1"
      },
      "source": [
        "store.shape"
      ],
      "execution_count": 14,
      "outputs": [
        {
          "output_type": "execute_result",
          "data": {
            "text/plain": [
              "(1115, 10)"
            ]
          },
          "metadata": {},
          "execution_count": 14
        }
      ]
    },
    {
      "cell_type": "markdown",
      "metadata": {
        "id": "N_QGYvgYc0S5"
      },
      "source": [
        "##<b>2.2 Dealing With Missing Values "
      ]
    },
    {
      "cell_type": "markdown",
      "metadata": {
        "id": "q4fV5t4ycm8W"
      },
      "source": [
        "###<b>2.2.1 Count missing values in each dataset"
      ]
    },
    {
      "cell_type": "code",
      "metadata": {
        "colab": {
          "base_uri": "https://localhost:8080/"
        },
        "id": "OtaJ0Cj_dJIs",
        "outputId": "86f17417-f7f2-4da3-98d9-bed06e5aba5f"
      },
      "source": [
        "print(\"R_data:\\n\\n\", R_data.isnull().sum(),  \n",
        "     \"\\n\\nstore:\\n\\n\", store.isnull().sum())"
      ],
      "execution_count": 15,
      "outputs": [
        {
          "output_type": "stream",
          "name": "stdout",
          "text": [
            "R_data:\n",
            "\n",
            " Store            0\n",
            "DayOfWeek        0\n",
            "Date             0\n",
            "Sales            0\n",
            "Customers        0\n",
            "Open             0\n",
            "Promo            0\n",
            "StateHoliday     0\n",
            "SchoolHoliday    0\n",
            "dtype: int64 \n",
            "\n",
            "store:\n",
            "\n",
            " Store                          0\n",
            "StoreType                      0\n",
            "Assortment                     0\n",
            "CompetitionDistance            3\n",
            "CompetitionOpenSinceMonth    354\n",
            "CompetitionOpenSinceYear     354\n",
            "Promo2                         0\n",
            "Promo2SinceWeek              544\n",
            "Promo2SinceYear              544\n",
            "PromoInterval                544\n",
            "dtype: int64\n"
          ]
        }
      ]
    },
    {
      "cell_type": "markdown",
      "metadata": {
        "id": "QV6x7SVZL5JB"
      },
      "source": [
        "### 2.2.2 Replace missing values in features with low percentages of missing values"
      ]
    },
    {
      "cell_type": "code",
      "metadata": {
        "id": "hWaj1lwyNXdp",
        "colab": {
          "base_uri": "https://localhost:8080/"
        },
        "outputId": "e1b4ead2-d7cd-4d0e-f48a-d8873b5c59dd"
      },
      "source": [
        "# check for any null values\n",
        "store.isnull().sum()"
      ],
      "execution_count": 16,
      "outputs": [
        {
          "output_type": "execute_result",
          "data": {
            "text/plain": [
              "Store                          0\n",
              "StoreType                      0\n",
              "Assortment                     0\n",
              "CompetitionDistance            3\n",
              "CompetitionOpenSinceMonth    354\n",
              "CompetitionOpenSinceYear     354\n",
              "Promo2                         0\n",
              "Promo2SinceWeek              544\n",
              "Promo2SinceYear              544\n",
              "PromoInterval                544\n",
              "dtype: int64"
            ]
          },
          "metadata": {},
          "execution_count": 16
        }
      ]
    },
    {
      "cell_type": "markdown",
      "metadata": {
        "id": "w_0fj0z1igVO"
      },
      "source": [
        "### Let's start the cleansing process by order"
      ]
    },
    {
      "cell_type": "markdown",
      "metadata": {
        "id": "aYISp3UejbHF"
      },
      "source": [
        "CompetitionDistance:"
      ]
    },
    {
      "cell_type": "markdown",
      "metadata": {
        "id": "DyL1IKkeNh4V"
      },
      "source": [
        "Since Competition distance have 3 null values.\n"
      ]
    },
    {
      "cell_type": "markdown",
      "metadata": {
        "id": "tMZ6oNFRjjl5"
      },
      "source": [
        "Before deciding how to treat this,we know there are infinite ways of filling missing values.\n",
        "\n",
        "The most common and simplistic approach is to fill it with either the mean or the median of this variable.\n"
      ]
    },
    {
      "cell_type": "markdown",
      "metadata": {
        "id": "Wh6t6aVWj7GR"
      },
      "source": [
        "It is realistically better to input the median value to the three Nan stores then the mean since the mean is biased by those outliers."
      ]
    },
    {
      "cell_type": "code",
      "metadata": {
        "id": "-z9lOSSMM8Qb"
      },
      "source": [
        "# filling competition distance with mean\n",
        "store['CompetitionDistance'].fillna(store['CompetitionDistance'].median(), inplace = True)\n"
      ],
      "execution_count": 17,
      "outputs": []
    },
    {
      "cell_type": "code",
      "metadata": {
        "id": "GxaT_4teN7Rx",
        "colab": {
          "base_uri": "https://localhost:8080/"
        },
        "outputId": "e0b41617-5ecb-4709-fcab-1c5dee207232"
      },
      "source": [
        "# lets check again for null value\n",
        "store.isnull().sum()"
      ],
      "execution_count": 18,
      "outputs": [
        {
          "output_type": "execute_result",
          "data": {
            "text/plain": [
              "Store                          0\n",
              "StoreType                      0\n",
              "Assortment                     0\n",
              "CompetitionDistance            0\n",
              "CompetitionOpenSinceMonth    354\n",
              "CompetitionOpenSinceYear     354\n",
              "Promo2                         0\n",
              "Promo2SinceWeek              544\n",
              "Promo2SinceYear              544\n",
              "PromoInterval                544\n",
              "dtype: int64"
            ]
          },
          "metadata": {},
          "execution_count": 18
        }
      ]
    },
    {
      "cell_type": "markdown",
      "metadata": {
        "id": "SnfDpSMUMBSx"
      },
      "source": [
        "##<b>2.3 Date Extraction"
      ]
    },
    {
      "cell_type": "markdown",
      "metadata": {
        "id": "EutMSO34OjSe"
      },
      "source": [
        "Lets extract the dates from date features\n",
        "Since we have only dates, we will extract years, months, day and weakof year"
      ]
    },
    {
      "cell_type": "code",
      "metadata": {
        "id": "FOe2Hc8jQ9ll",
        "colab": {
          "base_uri": "https://localhost:8080/"
        },
        "outputId": "38f4d3d2-8afd-436d-c41a-25695f681014"
      },
      "source": [
        "R_data.info()"
      ],
      "execution_count": 19,
      "outputs": [
        {
          "output_type": "stream",
          "name": "stdout",
          "text": [
            "<class 'pandas.core.frame.DataFrame'>\n",
            "RangeIndex: 1017209 entries, 0 to 1017208\n",
            "Data columns (total 9 columns):\n",
            " #   Column         Non-Null Count    Dtype \n",
            "---  ------         --------------    ----- \n",
            " 0   Store          1017209 non-null  int64 \n",
            " 1   DayOfWeek      1017209 non-null  int64 \n",
            " 2   Date           1017209 non-null  object\n",
            " 3   Sales          1017209 non-null  int64 \n",
            " 4   Customers      1017209 non-null  int64 \n",
            " 5   Open           1017209 non-null  int64 \n",
            " 6   Promo          1017209 non-null  int64 \n",
            " 7   StateHoliday   1017209 non-null  object\n",
            " 8   SchoolHoliday  1017209 non-null  int64 \n",
            "dtypes: int64(7), object(2)\n",
            "memory usage: 69.8+ MB\n"
          ]
        }
      ]
    },
    {
      "cell_type": "markdown",
      "metadata": {
        "id": "O7wg10I_RdzE"
      },
      "source": [
        "  Firstly convert the datatype of 'Date' column to datetime format"
      ]
    },
    {
      "cell_type": "code",
      "metadata": {
        "id": "-qJlFDVMRvnH"
      },
      "source": [
        "# converting to datetime datatype\n",
        "\n",
        "R_data['Date']=pd.to_datetime(R_data['Date'])"
      ],
      "execution_count": 20,
      "outputs": []
    },
    {
      "cell_type": "code",
      "metadata": {
        "id": "aruC5bODSNB8",
        "colab": {
          "base_uri": "https://localhost:8080/"
        },
        "outputId": "a802cb39-d47c-4864-dd7b-4623bf9fd812"
      },
      "source": [
        "R_data.info()"
      ],
      "execution_count": 21,
      "outputs": [
        {
          "output_type": "stream",
          "name": "stdout",
          "text": [
            "<class 'pandas.core.frame.DataFrame'>\n",
            "RangeIndex: 1017209 entries, 0 to 1017208\n",
            "Data columns (total 9 columns):\n",
            " #   Column         Non-Null Count    Dtype         \n",
            "---  ------         --------------    -----         \n",
            " 0   Store          1017209 non-null  int64         \n",
            " 1   DayOfWeek      1017209 non-null  int64         \n",
            " 2   Date           1017209 non-null  datetime64[ns]\n",
            " 3   Sales          1017209 non-null  int64         \n",
            " 4   Customers      1017209 non-null  int64         \n",
            " 5   Open           1017209 non-null  int64         \n",
            " 6   Promo          1017209 non-null  int64         \n",
            " 7   StateHoliday   1017209 non-null  object        \n",
            " 8   SchoolHoliday  1017209 non-null  int64         \n",
            "dtypes: datetime64[ns](1), int64(7), object(1)\n",
            "memory usage: 69.8+ MB\n"
          ]
        }
      ]
    },
    {
      "cell_type": "code",
      "metadata": {
        "id": "sj_phudoOggS"
      },
      "source": [
        "# extract year, month, day and week of year from \"Date\"\n",
        "R_data['Year'] =pd.DatetimeIndex(R_data['Date']).year\n",
        "R_data['Month'] =pd.DatetimeIndex(R_data['Date']).month\n",
        "R_data['Day'] =pd.DatetimeIndex(R_data['Date']).day\n",
        "R_data['WeekOfYear'] = pd.DatetimeIndex(R_data['Date']).weekofyear\n",
        "# R_data = R_data.reset_index()"
      ],
      "execution_count": 22,
      "outputs": []
    },
    {
      "cell_type": "code",
      "metadata": {
        "id": "GecTFP75ULOi",
        "colab": {
          "base_uri": "https://localhost:8080/"
        },
        "outputId": "ae98a1e9-175a-4421-de57-0551e33ec265"
      },
      "source": [
        "R_data.info()"
      ],
      "execution_count": 23,
      "outputs": [
        {
          "output_type": "stream",
          "name": "stdout",
          "text": [
            "<class 'pandas.core.frame.DataFrame'>\n",
            "RangeIndex: 1017209 entries, 0 to 1017208\n",
            "Data columns (total 13 columns):\n",
            " #   Column         Non-Null Count    Dtype         \n",
            "---  ------         --------------    -----         \n",
            " 0   Store          1017209 non-null  int64         \n",
            " 1   DayOfWeek      1017209 non-null  int64         \n",
            " 2   Date           1017209 non-null  datetime64[ns]\n",
            " 3   Sales          1017209 non-null  int64         \n",
            " 4   Customers      1017209 non-null  int64         \n",
            " 5   Open           1017209 non-null  int64         \n",
            " 6   Promo          1017209 non-null  int64         \n",
            " 7   StateHoliday   1017209 non-null  object        \n",
            " 8   SchoolHoliday  1017209 non-null  int64         \n",
            " 9   Year           1017209 non-null  int64         \n",
            " 10  Month          1017209 non-null  int64         \n",
            " 11  Day            1017209 non-null  int64         \n",
            " 12  WeekOfYear     1017209 non-null  int64         \n",
            "dtypes: datetime64[ns](1), int64(11), object(1)\n",
            "memory usage: 100.9+ MB\n"
          ]
        }
      ]
    },
    {
      "cell_type": "markdown",
      "metadata": {
        "id": "i1u8gTt9MHxH"
      },
      "source": [
        "##<b> 2.4 Joining Tables"
      ]
    },
    {
      "cell_type": "markdown",
      "metadata": {
        "id": "Sixe8EKdUsFW"
      },
      "source": [
        "Now join the table R_data and store dataframe "
      ]
    },
    {
      "cell_type": "code",
      "metadata": {
        "id": "1saB7171UWuD",
        "colab": {
          "base_uri": "https://localhost:8080/",
          "height": 313
        },
        "outputId": "f58a6b6c-2aae-4e58-cd53-6f482f0ef353"
      },
      "source": [
        "data = pd.merge(R_data, store, how='left', on='Store')\n",
        "data.head()"
      ],
      "execution_count": 24,
      "outputs": [
        {
          "output_type": "execute_result",
          "data": {
            "text/html": [
              "<div>\n",
              "<style scoped>\n",
              "    .dataframe tbody tr th:only-of-type {\n",
              "        vertical-align: middle;\n",
              "    }\n",
              "\n",
              "    .dataframe tbody tr th {\n",
              "        vertical-align: top;\n",
              "    }\n",
              "\n",
              "    .dataframe thead th {\n",
              "        text-align: right;\n",
              "    }\n",
              "</style>\n",
              "<table border=\"1\" class=\"dataframe\">\n",
              "  <thead>\n",
              "    <tr style=\"text-align: right;\">\n",
              "      <th></th>\n",
              "      <th>Store</th>\n",
              "      <th>DayOfWeek</th>\n",
              "      <th>Date</th>\n",
              "      <th>Sales</th>\n",
              "      <th>Customers</th>\n",
              "      <th>Open</th>\n",
              "      <th>Promo</th>\n",
              "      <th>StateHoliday</th>\n",
              "      <th>SchoolHoliday</th>\n",
              "      <th>Year</th>\n",
              "      <th>Month</th>\n",
              "      <th>Day</th>\n",
              "      <th>WeekOfYear</th>\n",
              "      <th>StoreType</th>\n",
              "      <th>Assortment</th>\n",
              "      <th>CompetitionDistance</th>\n",
              "      <th>CompetitionOpenSinceMonth</th>\n",
              "      <th>CompetitionOpenSinceYear</th>\n",
              "      <th>Promo2</th>\n",
              "      <th>Promo2SinceWeek</th>\n",
              "      <th>Promo2SinceYear</th>\n",
              "      <th>PromoInterval</th>\n",
              "    </tr>\n",
              "  </thead>\n",
              "  <tbody>\n",
              "    <tr>\n",
              "      <th>0</th>\n",
              "      <td>1</td>\n",
              "      <td>5</td>\n",
              "      <td>2015-07-31</td>\n",
              "      <td>5263</td>\n",
              "      <td>555</td>\n",
              "      <td>1</td>\n",
              "      <td>1</td>\n",
              "      <td>0</td>\n",
              "      <td>1</td>\n",
              "      <td>2015</td>\n",
              "      <td>7</td>\n",
              "      <td>31</td>\n",
              "      <td>31</td>\n",
              "      <td>c</td>\n",
              "      <td>a</td>\n",
              "      <td>1270.0</td>\n",
              "      <td>9.0</td>\n",
              "      <td>2008.0</td>\n",
              "      <td>0</td>\n",
              "      <td>NaN</td>\n",
              "      <td>NaN</td>\n",
              "      <td>NaN</td>\n",
              "    </tr>\n",
              "    <tr>\n",
              "      <th>1</th>\n",
              "      <td>2</td>\n",
              "      <td>5</td>\n",
              "      <td>2015-07-31</td>\n",
              "      <td>6064</td>\n",
              "      <td>625</td>\n",
              "      <td>1</td>\n",
              "      <td>1</td>\n",
              "      <td>0</td>\n",
              "      <td>1</td>\n",
              "      <td>2015</td>\n",
              "      <td>7</td>\n",
              "      <td>31</td>\n",
              "      <td>31</td>\n",
              "      <td>a</td>\n",
              "      <td>a</td>\n",
              "      <td>570.0</td>\n",
              "      <td>11.0</td>\n",
              "      <td>2007.0</td>\n",
              "      <td>1</td>\n",
              "      <td>13.0</td>\n",
              "      <td>2010.0</td>\n",
              "      <td>Jan,Apr,Jul,Oct</td>\n",
              "    </tr>\n",
              "    <tr>\n",
              "      <th>2</th>\n",
              "      <td>3</td>\n",
              "      <td>5</td>\n",
              "      <td>2015-07-31</td>\n",
              "      <td>8314</td>\n",
              "      <td>821</td>\n",
              "      <td>1</td>\n",
              "      <td>1</td>\n",
              "      <td>0</td>\n",
              "      <td>1</td>\n",
              "      <td>2015</td>\n",
              "      <td>7</td>\n",
              "      <td>31</td>\n",
              "      <td>31</td>\n",
              "      <td>a</td>\n",
              "      <td>a</td>\n",
              "      <td>14130.0</td>\n",
              "      <td>12.0</td>\n",
              "      <td>2006.0</td>\n",
              "      <td>1</td>\n",
              "      <td>14.0</td>\n",
              "      <td>2011.0</td>\n",
              "      <td>Jan,Apr,Jul,Oct</td>\n",
              "    </tr>\n",
              "    <tr>\n",
              "      <th>3</th>\n",
              "      <td>4</td>\n",
              "      <td>5</td>\n",
              "      <td>2015-07-31</td>\n",
              "      <td>13995</td>\n",
              "      <td>1498</td>\n",
              "      <td>1</td>\n",
              "      <td>1</td>\n",
              "      <td>0</td>\n",
              "      <td>1</td>\n",
              "      <td>2015</td>\n",
              "      <td>7</td>\n",
              "      <td>31</td>\n",
              "      <td>31</td>\n",
              "      <td>c</td>\n",
              "      <td>c</td>\n",
              "      <td>620.0</td>\n",
              "      <td>9.0</td>\n",
              "      <td>2009.0</td>\n",
              "      <td>0</td>\n",
              "      <td>NaN</td>\n",
              "      <td>NaN</td>\n",
              "      <td>NaN</td>\n",
              "    </tr>\n",
              "    <tr>\n",
              "      <th>4</th>\n",
              "      <td>5</td>\n",
              "      <td>5</td>\n",
              "      <td>2015-07-31</td>\n",
              "      <td>4822</td>\n",
              "      <td>559</td>\n",
              "      <td>1</td>\n",
              "      <td>1</td>\n",
              "      <td>0</td>\n",
              "      <td>1</td>\n",
              "      <td>2015</td>\n",
              "      <td>7</td>\n",
              "      <td>31</td>\n",
              "      <td>31</td>\n",
              "      <td>a</td>\n",
              "      <td>a</td>\n",
              "      <td>29910.0</td>\n",
              "      <td>4.0</td>\n",
              "      <td>2015.0</td>\n",
              "      <td>0</td>\n",
              "      <td>NaN</td>\n",
              "      <td>NaN</td>\n",
              "      <td>NaN</td>\n",
              "    </tr>\n",
              "  </tbody>\n",
              "</table>\n",
              "</div>"
            ],
            "text/plain": [
              "   Store  DayOfWeek  ... Promo2SinceYear    PromoInterval\n",
              "0      1          5  ...             NaN              NaN\n",
              "1      2          5  ...          2010.0  Jan,Apr,Jul,Oct\n",
              "2      3          5  ...          2011.0  Jan,Apr,Jul,Oct\n",
              "3      4          5  ...             NaN              NaN\n",
              "4      5          5  ...             NaN              NaN\n",
              "\n",
              "[5 rows x 22 columns]"
            ]
          },
          "metadata": {},
          "execution_count": 24
        }
      ]
    },
    {
      "cell_type": "code",
      "metadata": {
        "id": "Z4kvFLLbVgbY",
        "colab": {
          "base_uri": "https://localhost:8080/"
        },
        "outputId": "134628e0-4cdf-46d2-c33b-aa34e414d2f0"
      },
      "source": [
        "data.info()"
      ],
      "execution_count": 25,
      "outputs": [
        {
          "output_type": "stream",
          "name": "stdout",
          "text": [
            "<class 'pandas.core.frame.DataFrame'>\n",
            "Int64Index: 1017209 entries, 0 to 1017208\n",
            "Data columns (total 22 columns):\n",
            " #   Column                     Non-Null Count    Dtype         \n",
            "---  ------                     --------------    -----         \n",
            " 0   Store                      1017209 non-null  int64         \n",
            " 1   DayOfWeek                  1017209 non-null  int64         \n",
            " 2   Date                       1017209 non-null  datetime64[ns]\n",
            " 3   Sales                      1017209 non-null  int64         \n",
            " 4   Customers                  1017209 non-null  int64         \n",
            " 5   Open                       1017209 non-null  int64         \n",
            " 6   Promo                      1017209 non-null  int64         \n",
            " 7   StateHoliday               1017209 non-null  object        \n",
            " 8   SchoolHoliday              1017209 non-null  int64         \n",
            " 9   Year                       1017209 non-null  int64         \n",
            " 10  Month                      1017209 non-null  int64         \n",
            " 11  Day                        1017209 non-null  int64         \n",
            " 12  WeekOfYear                 1017209 non-null  int64         \n",
            " 13  StoreType                  1017209 non-null  object        \n",
            " 14  Assortment                 1017209 non-null  object        \n",
            " 15  CompetitionDistance        1017209 non-null  float64       \n",
            " 16  CompetitionOpenSinceMonth  693861 non-null   float64       \n",
            " 17  CompetitionOpenSinceYear   693861 non-null   float64       \n",
            " 18  Promo2                     1017209 non-null  int64         \n",
            " 19  Promo2SinceWeek            509178 non-null   float64       \n",
            " 20  Promo2SinceYear            509178 non-null   float64       \n",
            " 21  PromoInterval              509178 non-null   object        \n",
            "dtypes: datetime64[ns](1), float64(5), int64(12), object(4)\n",
            "memory usage: 178.5+ MB\n"
          ]
        }
      ]
    },
    {
      "cell_type": "code",
      "metadata": {
        "id": "cm_9Q5VJVl8Y",
        "colab": {
          "base_uri": "https://localhost:8080/"
        },
        "outputId": "a5c5719d-b97c-471e-c5f1-5e27a895ff8f"
      },
      "source": [
        "data.isnull().sum()"
      ],
      "execution_count": 26,
      "outputs": [
        {
          "output_type": "execute_result",
          "data": {
            "text/plain": [
              "Store                             0\n",
              "DayOfWeek                         0\n",
              "Date                              0\n",
              "Sales                             0\n",
              "Customers                         0\n",
              "Open                              0\n",
              "Promo                             0\n",
              "StateHoliday                      0\n",
              "SchoolHoliday                     0\n",
              "Year                              0\n",
              "Month                             0\n",
              "Day                               0\n",
              "WeekOfYear                        0\n",
              "StoreType                         0\n",
              "Assortment                        0\n",
              "CompetitionDistance               0\n",
              "CompetitionOpenSinceMonth    323348\n",
              "CompetitionOpenSinceYear     323348\n",
              "Promo2                            0\n",
              "Promo2SinceWeek              508031\n",
              "Promo2SinceYear              508031\n",
              "PromoInterval                508031\n",
              "dtype: int64"
            ]
          },
          "metadata": {},
          "execution_count": 26
        }
      ]
    },
    {
      "cell_type": "markdown",
      "metadata": {
        "id": "99MPfQlsm3z0"
      },
      "source": [
        "##<b>Checking the nominal values"
      ]
    },
    {
      "cell_type": "code",
      "metadata": {
        "colab": {
          "base_uri": "https://localhost:8080/"
        },
        "id": "19dlmuv5m_x3",
        "outputId": "f5c0acc8-45b2-4d54-ddd2-51515db02fe3"
      },
      "source": [
        "# Nominal Values\n",
        "set(data.StateHoliday),set(data.Assortment),set(data.StoreType)"
      ],
      "execution_count": 27,
      "outputs": [
        {
          "output_type": "execute_result",
          "data": {
            "text/plain": [
              "({0, '0', 'a', 'b', 'c'}, {'a', 'b', 'c'}, {'a', 'b', 'c', 'd'})"
            ]
          },
          "metadata": {},
          "execution_count": 27
        }
      ]
    },
    {
      "cell_type": "markdown",
      "metadata": {
        "id": "oEpkIRr6nepY"
      },
      "source": [
        "Since StateHoliday have zero for none.\n",
        "let's convert that into string '0'"
      ]
    },
    {
      "cell_type": "code",
      "metadata": {
        "id": "lgbmuu_inxVc"
      },
      "source": [
        "# converting 0 to string '0'\n",
        "data.loc[data.StateHoliday == 0,'StateHoliday'] = data.loc[data.StateHoliday == 0,'StateHoliday'].astype(str)"
      ],
      "execution_count": 28,
      "outputs": []
    },
    {
      "cell_type": "code",
      "metadata": {
        "colab": {
          "base_uri": "https://localhost:8080/"
        },
        "id": "D7HHucVGdDLq",
        "outputId": "b22f945c-82bc-403f-8743-ba2bb9d1c814"
      },
      "source": [
        "data.info()"
      ],
      "execution_count": 29,
      "outputs": [
        {
          "output_type": "stream",
          "name": "stdout",
          "text": [
            "<class 'pandas.core.frame.DataFrame'>\n",
            "Int64Index: 1017209 entries, 0 to 1017208\n",
            "Data columns (total 22 columns):\n",
            " #   Column                     Non-Null Count    Dtype         \n",
            "---  ------                     --------------    -----         \n",
            " 0   Store                      1017209 non-null  int64         \n",
            " 1   DayOfWeek                  1017209 non-null  int64         \n",
            " 2   Date                       1017209 non-null  datetime64[ns]\n",
            " 3   Sales                      1017209 non-null  int64         \n",
            " 4   Customers                  1017209 non-null  int64         \n",
            " 5   Open                       1017209 non-null  int64         \n",
            " 6   Promo                      1017209 non-null  int64         \n",
            " 7   StateHoliday               1017209 non-null  object        \n",
            " 8   SchoolHoliday              1017209 non-null  int64         \n",
            " 9   Year                       1017209 non-null  int64         \n",
            " 10  Month                      1017209 non-null  int64         \n",
            " 11  Day                        1017209 non-null  int64         \n",
            " 12  WeekOfYear                 1017209 non-null  int64         \n",
            " 13  StoreType                  1017209 non-null  object        \n",
            " 14  Assortment                 1017209 non-null  object        \n",
            " 15  CompetitionDistance        1017209 non-null  float64       \n",
            " 16  CompetitionOpenSinceMonth  693861 non-null   float64       \n",
            " 17  CompetitionOpenSinceYear   693861 non-null   float64       \n",
            " 18  Promo2                     1017209 non-null  int64         \n",
            " 19  Promo2SinceWeek            509178 non-null   float64       \n",
            " 20  Promo2SinceYear            509178 non-null   float64       \n",
            " 21  PromoInterval              509178 non-null   object        \n",
            "dtypes: datetime64[ns](1), float64(5), int64(12), object(4)\n",
            "memory usage: 178.5+ MB\n"
          ]
        }
      ]
    },
    {
      "cell_type": "markdown",
      "metadata": {
        "id": "7pkPBB0BlwyX"
      },
      "source": [
        "###Checking data(merged) columns,unique values"
      ]
    },
    {
      "cell_type": "code",
      "metadata": {
        "id": "GnfS6-6Jks4A",
        "colab": {
          "base_uri": "https://localhost:8080/"
        },
        "outputId": "ac1a3629-2041-458d-dfa7-2b90581813d3"
      },
      "source": [
        "data.columns"
      ],
      "execution_count": 30,
      "outputs": [
        {
          "output_type": "execute_result",
          "data": {
            "text/plain": [
              "Index(['Store', 'DayOfWeek', 'Date', 'Sales', 'Customers', 'Open', 'Promo',\n",
              "       'StateHoliday', 'SchoolHoliday', 'Year', 'Month', 'Day', 'WeekOfYear',\n",
              "       'StoreType', 'Assortment', 'CompetitionDistance',\n",
              "       'CompetitionOpenSinceMonth', 'CompetitionOpenSinceYear', 'Promo2',\n",
              "       'Promo2SinceWeek', 'Promo2SinceYear', 'PromoInterval'],\n",
              "      dtype='object')"
            ]
          },
          "metadata": {},
          "execution_count": 30
        }
      ]
    },
    {
      "cell_type": "code",
      "metadata": {
        "id": "Yu3DqQzmks69",
        "colab": {
          "base_uri": "https://localhost:8080/"
        },
        "outputId": "b22396ba-eaea-40e7-b91f-8b425b8104bb"
      },
      "source": [
        "data.nunique()"
      ],
      "execution_count": 31,
      "outputs": [
        {
          "output_type": "execute_result",
          "data": {
            "text/plain": [
              "Store                         1115\n",
              "DayOfWeek                        7\n",
              "Date                           942\n",
              "Sales                        21734\n",
              "Customers                     4086\n",
              "Open                             2\n",
              "Promo                            2\n",
              "StateHoliday                     4\n",
              "SchoolHoliday                    2\n",
              "Year                             3\n",
              "Month                           12\n",
              "Day                             31\n",
              "WeekOfYear                      52\n",
              "StoreType                        4\n",
              "Assortment                       3\n",
              "CompetitionDistance            655\n",
              "CompetitionOpenSinceMonth       12\n",
              "CompetitionOpenSinceYear        23\n",
              "Promo2                           2\n",
              "Promo2SinceWeek                 24\n",
              "Promo2SinceYear                  7\n",
              "PromoInterval                    3\n",
              "dtype: int64"
            ]
          },
          "metadata": {},
          "execution_count": 31
        }
      ]
    },
    {
      "cell_type": "code",
      "metadata": {
        "id": "qHFfBoACks8l",
        "colab": {
          "base_uri": "https://localhost:8080/"
        },
        "outputId": "0c93e32a-d167-48d1-8d09-f3adf8efa87d"
      },
      "source": [
        "data.Date.unique()#to check seperately"
      ],
      "execution_count": 32,
      "outputs": [
        {
          "output_type": "execute_result",
          "data": {
            "text/plain": [
              "array(['2015-07-31T00:00:00.000000000', '2015-07-30T00:00:00.000000000',\n",
              "       '2015-07-29T00:00:00.000000000', '2015-07-28T00:00:00.000000000',\n",
              "       '2015-07-27T00:00:00.000000000', '2015-07-26T00:00:00.000000000',\n",
              "       '2015-07-25T00:00:00.000000000', '2015-07-24T00:00:00.000000000',\n",
              "       '2015-07-23T00:00:00.000000000', '2015-07-22T00:00:00.000000000',\n",
              "       '2015-07-21T00:00:00.000000000', '2015-07-20T00:00:00.000000000',\n",
              "       '2015-07-19T00:00:00.000000000', '2015-07-18T00:00:00.000000000',\n",
              "       '2015-07-17T00:00:00.000000000', '2015-07-16T00:00:00.000000000',\n",
              "       '2015-07-15T00:00:00.000000000', '2015-07-14T00:00:00.000000000',\n",
              "       '2015-07-13T00:00:00.000000000', '2015-07-12T00:00:00.000000000',\n",
              "       '2015-07-11T00:00:00.000000000', '2015-07-10T00:00:00.000000000',\n",
              "       '2015-07-09T00:00:00.000000000', '2015-07-08T00:00:00.000000000',\n",
              "       '2015-07-07T00:00:00.000000000', '2015-07-06T00:00:00.000000000',\n",
              "       '2015-07-05T00:00:00.000000000', '2015-07-04T00:00:00.000000000',\n",
              "       '2015-07-03T00:00:00.000000000', '2015-07-02T00:00:00.000000000',\n",
              "       '2015-07-01T00:00:00.000000000', '2015-06-30T00:00:00.000000000',\n",
              "       '2015-06-29T00:00:00.000000000', '2015-06-28T00:00:00.000000000',\n",
              "       '2015-06-27T00:00:00.000000000', '2015-06-26T00:00:00.000000000',\n",
              "       '2015-06-25T00:00:00.000000000', '2015-06-24T00:00:00.000000000',\n",
              "       '2015-06-23T00:00:00.000000000', '2015-06-22T00:00:00.000000000',\n",
              "       '2015-06-21T00:00:00.000000000', '2015-06-20T00:00:00.000000000',\n",
              "       '2015-06-19T00:00:00.000000000', '2015-06-18T00:00:00.000000000',\n",
              "       '2015-06-17T00:00:00.000000000', '2015-06-16T00:00:00.000000000',\n",
              "       '2015-06-15T00:00:00.000000000', '2015-06-14T00:00:00.000000000',\n",
              "       '2015-06-13T00:00:00.000000000', '2015-06-12T00:00:00.000000000',\n",
              "       '2015-06-11T00:00:00.000000000', '2015-06-10T00:00:00.000000000',\n",
              "       '2015-06-09T00:00:00.000000000', '2015-06-08T00:00:00.000000000',\n",
              "       '2015-06-07T00:00:00.000000000', '2015-06-06T00:00:00.000000000',\n",
              "       '2015-06-05T00:00:00.000000000', '2015-06-04T00:00:00.000000000',\n",
              "       '2015-06-03T00:00:00.000000000', '2015-06-02T00:00:00.000000000',\n",
              "       '2015-06-01T00:00:00.000000000', '2015-05-31T00:00:00.000000000',\n",
              "       '2015-05-30T00:00:00.000000000', '2015-05-29T00:00:00.000000000',\n",
              "       '2015-05-28T00:00:00.000000000', '2015-05-27T00:00:00.000000000',\n",
              "       '2015-05-26T00:00:00.000000000', '2015-05-25T00:00:00.000000000',\n",
              "       '2015-05-24T00:00:00.000000000', '2015-05-23T00:00:00.000000000',\n",
              "       '2015-05-22T00:00:00.000000000', '2015-05-21T00:00:00.000000000',\n",
              "       '2015-05-20T00:00:00.000000000', '2015-05-19T00:00:00.000000000',\n",
              "       '2015-05-18T00:00:00.000000000', '2015-05-17T00:00:00.000000000',\n",
              "       '2015-05-16T00:00:00.000000000', '2015-05-15T00:00:00.000000000',\n",
              "       '2015-05-14T00:00:00.000000000', '2015-05-13T00:00:00.000000000',\n",
              "       '2015-05-12T00:00:00.000000000', '2015-05-11T00:00:00.000000000',\n",
              "       '2015-05-10T00:00:00.000000000', '2015-05-09T00:00:00.000000000',\n",
              "       '2015-05-08T00:00:00.000000000', '2015-05-07T00:00:00.000000000',\n",
              "       '2015-05-06T00:00:00.000000000', '2015-05-05T00:00:00.000000000',\n",
              "       '2015-05-04T00:00:00.000000000', '2015-05-03T00:00:00.000000000',\n",
              "       '2015-05-02T00:00:00.000000000', '2015-05-01T00:00:00.000000000',\n",
              "       '2015-04-30T00:00:00.000000000', '2015-04-29T00:00:00.000000000',\n",
              "       '2015-04-28T00:00:00.000000000', '2015-04-27T00:00:00.000000000',\n",
              "       '2015-04-26T00:00:00.000000000', '2015-04-25T00:00:00.000000000',\n",
              "       '2015-04-24T00:00:00.000000000', '2015-04-23T00:00:00.000000000',\n",
              "       '2015-04-22T00:00:00.000000000', '2015-04-21T00:00:00.000000000',\n",
              "       '2015-04-20T00:00:00.000000000', '2015-04-19T00:00:00.000000000',\n",
              "       '2015-04-18T00:00:00.000000000', '2015-04-17T00:00:00.000000000',\n",
              "       '2015-04-16T00:00:00.000000000', '2015-04-15T00:00:00.000000000',\n",
              "       '2015-04-14T00:00:00.000000000', '2015-04-13T00:00:00.000000000',\n",
              "       '2015-04-12T00:00:00.000000000', '2015-04-11T00:00:00.000000000',\n",
              "       '2015-04-10T00:00:00.000000000', '2015-04-09T00:00:00.000000000',\n",
              "       '2015-04-08T00:00:00.000000000', '2015-04-07T00:00:00.000000000',\n",
              "       '2015-04-06T00:00:00.000000000', '2015-04-05T00:00:00.000000000',\n",
              "       '2015-04-04T00:00:00.000000000', '2015-04-03T00:00:00.000000000',\n",
              "       '2015-04-02T00:00:00.000000000', '2015-04-01T00:00:00.000000000',\n",
              "       '2015-03-31T00:00:00.000000000', '2015-03-30T00:00:00.000000000',\n",
              "       '2015-03-29T00:00:00.000000000', '2015-03-28T00:00:00.000000000',\n",
              "       '2015-03-27T00:00:00.000000000', '2015-03-26T00:00:00.000000000',\n",
              "       '2015-03-25T00:00:00.000000000', '2015-03-24T00:00:00.000000000',\n",
              "       '2015-03-23T00:00:00.000000000', '2015-03-22T00:00:00.000000000',\n",
              "       '2015-03-21T00:00:00.000000000', '2015-03-20T00:00:00.000000000',\n",
              "       '2015-03-19T00:00:00.000000000', '2015-03-18T00:00:00.000000000',\n",
              "       '2015-03-17T00:00:00.000000000', '2015-03-16T00:00:00.000000000',\n",
              "       '2015-03-15T00:00:00.000000000', '2015-03-14T00:00:00.000000000',\n",
              "       '2015-03-13T00:00:00.000000000', '2015-03-12T00:00:00.000000000',\n",
              "       '2015-03-11T00:00:00.000000000', '2015-03-10T00:00:00.000000000',\n",
              "       '2015-03-09T00:00:00.000000000', '2015-03-08T00:00:00.000000000',\n",
              "       '2015-03-07T00:00:00.000000000', '2015-03-06T00:00:00.000000000',\n",
              "       '2015-03-05T00:00:00.000000000', '2015-03-04T00:00:00.000000000',\n",
              "       '2015-03-03T00:00:00.000000000', '2015-03-02T00:00:00.000000000',\n",
              "       '2015-03-01T00:00:00.000000000', '2015-02-28T00:00:00.000000000',\n",
              "       '2015-02-27T00:00:00.000000000', '2015-02-26T00:00:00.000000000',\n",
              "       '2015-02-25T00:00:00.000000000', '2015-02-24T00:00:00.000000000',\n",
              "       '2015-02-23T00:00:00.000000000', '2015-02-22T00:00:00.000000000',\n",
              "       '2015-02-21T00:00:00.000000000', '2015-02-20T00:00:00.000000000',\n",
              "       '2015-02-19T00:00:00.000000000', '2015-02-18T00:00:00.000000000',\n",
              "       '2015-02-17T00:00:00.000000000', '2015-02-16T00:00:00.000000000',\n",
              "       '2015-02-15T00:00:00.000000000', '2015-02-14T00:00:00.000000000',\n",
              "       '2015-02-13T00:00:00.000000000', '2015-02-12T00:00:00.000000000',\n",
              "       '2015-02-11T00:00:00.000000000', '2015-02-10T00:00:00.000000000',\n",
              "       '2015-02-09T00:00:00.000000000', '2015-02-08T00:00:00.000000000',\n",
              "       '2015-02-07T00:00:00.000000000', '2015-02-06T00:00:00.000000000',\n",
              "       '2015-02-05T00:00:00.000000000', '2015-02-04T00:00:00.000000000',\n",
              "       '2015-02-03T00:00:00.000000000', '2015-02-02T00:00:00.000000000',\n",
              "       '2015-02-01T00:00:00.000000000', '2015-01-31T00:00:00.000000000',\n",
              "       '2015-01-30T00:00:00.000000000', '2015-01-29T00:00:00.000000000',\n",
              "       '2015-01-28T00:00:00.000000000', '2015-01-27T00:00:00.000000000',\n",
              "       '2015-01-26T00:00:00.000000000', '2015-01-25T00:00:00.000000000',\n",
              "       '2015-01-24T00:00:00.000000000', '2015-01-23T00:00:00.000000000',\n",
              "       '2015-01-22T00:00:00.000000000', '2015-01-21T00:00:00.000000000',\n",
              "       '2015-01-20T00:00:00.000000000', '2015-01-19T00:00:00.000000000',\n",
              "       '2015-01-18T00:00:00.000000000', '2015-01-17T00:00:00.000000000',\n",
              "       '2015-01-16T00:00:00.000000000', '2015-01-15T00:00:00.000000000',\n",
              "       '2015-01-14T00:00:00.000000000', '2015-01-13T00:00:00.000000000',\n",
              "       '2015-01-12T00:00:00.000000000', '2015-01-11T00:00:00.000000000',\n",
              "       '2015-01-10T00:00:00.000000000', '2015-01-09T00:00:00.000000000',\n",
              "       '2015-01-08T00:00:00.000000000', '2015-01-07T00:00:00.000000000',\n",
              "       '2015-01-06T00:00:00.000000000', '2015-01-05T00:00:00.000000000',\n",
              "       '2015-01-04T00:00:00.000000000', '2015-01-03T00:00:00.000000000',\n",
              "       '2015-01-02T00:00:00.000000000', '2015-01-01T00:00:00.000000000',\n",
              "       '2014-12-31T00:00:00.000000000', '2014-12-30T00:00:00.000000000',\n",
              "       '2014-12-29T00:00:00.000000000', '2014-12-28T00:00:00.000000000',\n",
              "       '2014-12-27T00:00:00.000000000', '2014-12-26T00:00:00.000000000',\n",
              "       '2014-12-25T00:00:00.000000000', '2014-12-24T00:00:00.000000000',\n",
              "       '2014-12-23T00:00:00.000000000', '2014-12-22T00:00:00.000000000',\n",
              "       '2014-12-21T00:00:00.000000000', '2014-12-20T00:00:00.000000000',\n",
              "       '2014-12-19T00:00:00.000000000', '2014-12-18T00:00:00.000000000',\n",
              "       '2014-12-17T00:00:00.000000000', '2014-12-16T00:00:00.000000000',\n",
              "       '2014-12-15T00:00:00.000000000', '2014-12-14T00:00:00.000000000',\n",
              "       '2014-12-13T00:00:00.000000000', '2014-12-12T00:00:00.000000000',\n",
              "       '2014-12-11T00:00:00.000000000', '2014-12-10T00:00:00.000000000',\n",
              "       '2014-12-09T00:00:00.000000000', '2014-12-08T00:00:00.000000000',\n",
              "       '2014-12-07T00:00:00.000000000', '2014-12-06T00:00:00.000000000',\n",
              "       '2014-12-05T00:00:00.000000000', '2014-12-04T00:00:00.000000000',\n",
              "       '2014-12-03T00:00:00.000000000', '2014-12-02T00:00:00.000000000',\n",
              "       '2014-12-01T00:00:00.000000000', '2014-11-30T00:00:00.000000000',\n",
              "       '2014-11-29T00:00:00.000000000', '2014-11-28T00:00:00.000000000',\n",
              "       '2014-11-27T00:00:00.000000000', '2014-11-26T00:00:00.000000000',\n",
              "       '2014-11-25T00:00:00.000000000', '2014-11-24T00:00:00.000000000',\n",
              "       '2014-11-23T00:00:00.000000000', '2014-11-22T00:00:00.000000000',\n",
              "       '2014-11-21T00:00:00.000000000', '2014-11-20T00:00:00.000000000',\n",
              "       '2014-11-19T00:00:00.000000000', '2014-11-18T00:00:00.000000000',\n",
              "       '2014-11-17T00:00:00.000000000', '2014-11-16T00:00:00.000000000',\n",
              "       '2014-11-15T00:00:00.000000000', '2014-11-14T00:00:00.000000000',\n",
              "       '2014-11-13T00:00:00.000000000', '2014-11-12T00:00:00.000000000',\n",
              "       '2014-11-11T00:00:00.000000000', '2014-11-10T00:00:00.000000000',\n",
              "       '2014-11-09T00:00:00.000000000', '2014-11-08T00:00:00.000000000',\n",
              "       '2014-11-07T00:00:00.000000000', '2014-11-06T00:00:00.000000000',\n",
              "       '2014-11-05T00:00:00.000000000', '2014-11-04T00:00:00.000000000',\n",
              "       '2014-11-03T00:00:00.000000000', '2014-11-02T00:00:00.000000000',\n",
              "       '2014-11-01T00:00:00.000000000', '2014-10-31T00:00:00.000000000',\n",
              "       '2014-10-30T00:00:00.000000000', '2014-10-29T00:00:00.000000000',\n",
              "       '2014-10-28T00:00:00.000000000', '2014-10-27T00:00:00.000000000',\n",
              "       '2014-10-26T00:00:00.000000000', '2014-10-25T00:00:00.000000000',\n",
              "       '2014-10-24T00:00:00.000000000', '2014-10-23T00:00:00.000000000',\n",
              "       '2014-10-22T00:00:00.000000000', '2014-10-21T00:00:00.000000000',\n",
              "       '2014-10-20T00:00:00.000000000', '2014-10-19T00:00:00.000000000',\n",
              "       '2014-10-18T00:00:00.000000000', '2014-10-17T00:00:00.000000000',\n",
              "       '2014-10-16T00:00:00.000000000', '2014-10-15T00:00:00.000000000',\n",
              "       '2014-10-14T00:00:00.000000000', '2014-10-13T00:00:00.000000000',\n",
              "       '2014-10-12T00:00:00.000000000', '2014-10-11T00:00:00.000000000',\n",
              "       '2014-10-10T00:00:00.000000000', '2014-10-09T00:00:00.000000000',\n",
              "       '2014-10-08T00:00:00.000000000', '2014-10-07T00:00:00.000000000',\n",
              "       '2014-10-06T00:00:00.000000000', '2014-10-05T00:00:00.000000000',\n",
              "       '2014-10-04T00:00:00.000000000', '2014-10-03T00:00:00.000000000',\n",
              "       '2014-10-02T00:00:00.000000000', '2014-10-01T00:00:00.000000000',\n",
              "       '2014-09-30T00:00:00.000000000', '2014-09-29T00:00:00.000000000',\n",
              "       '2014-09-28T00:00:00.000000000', '2014-09-27T00:00:00.000000000',\n",
              "       '2014-09-26T00:00:00.000000000', '2014-09-25T00:00:00.000000000',\n",
              "       '2014-09-24T00:00:00.000000000', '2014-09-23T00:00:00.000000000',\n",
              "       '2014-09-22T00:00:00.000000000', '2014-09-21T00:00:00.000000000',\n",
              "       '2014-09-20T00:00:00.000000000', '2014-09-19T00:00:00.000000000',\n",
              "       '2014-09-18T00:00:00.000000000', '2014-09-17T00:00:00.000000000',\n",
              "       '2014-09-16T00:00:00.000000000', '2014-09-15T00:00:00.000000000',\n",
              "       '2014-09-14T00:00:00.000000000', '2014-09-13T00:00:00.000000000',\n",
              "       '2014-09-12T00:00:00.000000000', '2014-09-11T00:00:00.000000000',\n",
              "       '2014-09-10T00:00:00.000000000', '2014-09-09T00:00:00.000000000',\n",
              "       '2014-09-08T00:00:00.000000000', '2014-09-07T00:00:00.000000000',\n",
              "       '2014-09-06T00:00:00.000000000', '2014-09-05T00:00:00.000000000',\n",
              "       '2014-09-04T00:00:00.000000000', '2014-09-03T00:00:00.000000000',\n",
              "       '2014-09-02T00:00:00.000000000', '2014-09-01T00:00:00.000000000',\n",
              "       '2014-08-31T00:00:00.000000000', '2014-08-30T00:00:00.000000000',\n",
              "       '2014-08-29T00:00:00.000000000', '2014-08-28T00:00:00.000000000',\n",
              "       '2014-08-27T00:00:00.000000000', '2014-08-26T00:00:00.000000000',\n",
              "       '2014-08-25T00:00:00.000000000', '2014-08-24T00:00:00.000000000',\n",
              "       '2014-08-23T00:00:00.000000000', '2014-08-22T00:00:00.000000000',\n",
              "       '2014-08-21T00:00:00.000000000', '2014-08-20T00:00:00.000000000',\n",
              "       '2014-08-19T00:00:00.000000000', '2014-08-18T00:00:00.000000000',\n",
              "       '2014-08-17T00:00:00.000000000', '2014-08-16T00:00:00.000000000',\n",
              "       '2014-08-15T00:00:00.000000000', '2014-08-14T00:00:00.000000000',\n",
              "       '2014-08-13T00:00:00.000000000', '2014-08-12T00:00:00.000000000',\n",
              "       '2014-08-11T00:00:00.000000000', '2014-08-10T00:00:00.000000000',\n",
              "       '2014-08-09T00:00:00.000000000', '2014-08-08T00:00:00.000000000',\n",
              "       '2014-08-07T00:00:00.000000000', '2014-08-06T00:00:00.000000000',\n",
              "       '2014-08-05T00:00:00.000000000', '2014-08-04T00:00:00.000000000',\n",
              "       '2014-08-03T00:00:00.000000000', '2014-08-02T00:00:00.000000000',\n",
              "       '2014-08-01T00:00:00.000000000', '2014-07-31T00:00:00.000000000',\n",
              "       '2014-07-30T00:00:00.000000000', '2014-07-29T00:00:00.000000000',\n",
              "       '2014-07-28T00:00:00.000000000', '2014-07-27T00:00:00.000000000',\n",
              "       '2014-07-26T00:00:00.000000000', '2014-07-25T00:00:00.000000000',\n",
              "       '2014-07-24T00:00:00.000000000', '2014-07-23T00:00:00.000000000',\n",
              "       '2014-07-22T00:00:00.000000000', '2014-07-21T00:00:00.000000000',\n",
              "       '2014-07-20T00:00:00.000000000', '2014-07-19T00:00:00.000000000',\n",
              "       '2014-07-18T00:00:00.000000000', '2014-07-17T00:00:00.000000000',\n",
              "       '2014-07-16T00:00:00.000000000', '2014-07-15T00:00:00.000000000',\n",
              "       '2014-07-14T00:00:00.000000000', '2014-07-13T00:00:00.000000000',\n",
              "       '2014-07-12T00:00:00.000000000', '2014-07-11T00:00:00.000000000',\n",
              "       '2014-07-10T00:00:00.000000000', '2014-07-09T00:00:00.000000000',\n",
              "       '2014-07-08T00:00:00.000000000', '2014-07-07T00:00:00.000000000',\n",
              "       '2014-07-06T00:00:00.000000000', '2014-07-05T00:00:00.000000000',\n",
              "       '2014-07-04T00:00:00.000000000', '2014-07-03T00:00:00.000000000',\n",
              "       '2014-07-02T00:00:00.000000000', '2014-07-01T00:00:00.000000000',\n",
              "       '2014-06-30T00:00:00.000000000', '2014-06-29T00:00:00.000000000',\n",
              "       '2014-06-28T00:00:00.000000000', '2014-06-27T00:00:00.000000000',\n",
              "       '2014-06-26T00:00:00.000000000', '2014-06-25T00:00:00.000000000',\n",
              "       '2014-06-24T00:00:00.000000000', '2014-06-23T00:00:00.000000000',\n",
              "       '2014-06-22T00:00:00.000000000', '2014-06-21T00:00:00.000000000',\n",
              "       '2014-06-20T00:00:00.000000000', '2014-06-19T00:00:00.000000000',\n",
              "       '2014-06-18T00:00:00.000000000', '2014-06-17T00:00:00.000000000',\n",
              "       '2014-06-16T00:00:00.000000000', '2014-06-15T00:00:00.000000000',\n",
              "       '2014-06-14T00:00:00.000000000', '2014-06-13T00:00:00.000000000',\n",
              "       '2014-06-12T00:00:00.000000000', '2014-06-11T00:00:00.000000000',\n",
              "       '2014-06-10T00:00:00.000000000', '2014-06-09T00:00:00.000000000',\n",
              "       '2014-06-08T00:00:00.000000000', '2014-06-07T00:00:00.000000000',\n",
              "       '2014-06-06T00:00:00.000000000', '2014-06-05T00:00:00.000000000',\n",
              "       '2014-06-04T00:00:00.000000000', '2014-06-03T00:00:00.000000000',\n",
              "       '2014-06-02T00:00:00.000000000', '2014-06-01T00:00:00.000000000',\n",
              "       '2014-05-31T00:00:00.000000000', '2014-05-30T00:00:00.000000000',\n",
              "       '2014-05-29T00:00:00.000000000', '2014-05-28T00:00:00.000000000',\n",
              "       '2014-05-27T00:00:00.000000000', '2014-05-26T00:00:00.000000000',\n",
              "       '2014-05-25T00:00:00.000000000', '2014-05-24T00:00:00.000000000',\n",
              "       '2014-05-23T00:00:00.000000000', '2014-05-22T00:00:00.000000000',\n",
              "       '2014-05-21T00:00:00.000000000', '2014-05-20T00:00:00.000000000',\n",
              "       '2014-05-19T00:00:00.000000000', '2014-05-18T00:00:00.000000000',\n",
              "       '2014-05-17T00:00:00.000000000', '2014-05-16T00:00:00.000000000',\n",
              "       '2014-05-15T00:00:00.000000000', '2014-05-14T00:00:00.000000000',\n",
              "       '2014-05-13T00:00:00.000000000', '2014-05-12T00:00:00.000000000',\n",
              "       '2014-05-11T00:00:00.000000000', '2014-05-10T00:00:00.000000000',\n",
              "       '2014-05-09T00:00:00.000000000', '2014-05-08T00:00:00.000000000',\n",
              "       '2014-05-07T00:00:00.000000000', '2014-05-06T00:00:00.000000000',\n",
              "       '2014-05-05T00:00:00.000000000', '2014-05-04T00:00:00.000000000',\n",
              "       '2014-05-03T00:00:00.000000000', '2014-05-02T00:00:00.000000000',\n",
              "       '2014-05-01T00:00:00.000000000', '2014-04-30T00:00:00.000000000',\n",
              "       '2014-04-29T00:00:00.000000000', '2014-04-28T00:00:00.000000000',\n",
              "       '2014-04-27T00:00:00.000000000', '2014-04-26T00:00:00.000000000',\n",
              "       '2014-04-25T00:00:00.000000000', '2014-04-24T00:00:00.000000000',\n",
              "       '2014-04-23T00:00:00.000000000', '2014-04-22T00:00:00.000000000',\n",
              "       '2014-04-21T00:00:00.000000000', '2014-04-20T00:00:00.000000000',\n",
              "       '2014-04-19T00:00:00.000000000', '2014-04-18T00:00:00.000000000',\n",
              "       '2014-04-17T00:00:00.000000000', '2014-04-16T00:00:00.000000000',\n",
              "       '2014-04-15T00:00:00.000000000', '2014-04-14T00:00:00.000000000',\n",
              "       '2014-04-13T00:00:00.000000000', '2014-04-12T00:00:00.000000000',\n",
              "       '2014-04-11T00:00:00.000000000', '2014-04-10T00:00:00.000000000',\n",
              "       '2014-04-09T00:00:00.000000000', '2014-04-08T00:00:00.000000000',\n",
              "       '2014-04-07T00:00:00.000000000', '2014-04-06T00:00:00.000000000',\n",
              "       '2014-04-05T00:00:00.000000000', '2014-04-04T00:00:00.000000000',\n",
              "       '2014-04-03T00:00:00.000000000', '2014-04-02T00:00:00.000000000',\n",
              "       '2014-04-01T00:00:00.000000000', '2014-03-31T00:00:00.000000000',\n",
              "       '2014-03-30T00:00:00.000000000', '2014-03-29T00:00:00.000000000',\n",
              "       '2014-03-28T00:00:00.000000000', '2014-03-27T00:00:00.000000000',\n",
              "       '2014-03-26T00:00:00.000000000', '2014-03-25T00:00:00.000000000',\n",
              "       '2014-03-24T00:00:00.000000000', '2014-03-23T00:00:00.000000000',\n",
              "       '2014-03-22T00:00:00.000000000', '2014-03-21T00:00:00.000000000',\n",
              "       '2014-03-20T00:00:00.000000000', '2014-03-19T00:00:00.000000000',\n",
              "       '2014-03-18T00:00:00.000000000', '2014-03-17T00:00:00.000000000',\n",
              "       '2014-03-16T00:00:00.000000000', '2014-03-15T00:00:00.000000000',\n",
              "       '2014-03-14T00:00:00.000000000', '2014-03-13T00:00:00.000000000',\n",
              "       '2014-03-12T00:00:00.000000000', '2014-03-11T00:00:00.000000000',\n",
              "       '2014-03-10T00:00:00.000000000', '2014-03-09T00:00:00.000000000',\n",
              "       '2014-03-08T00:00:00.000000000', '2014-03-07T00:00:00.000000000',\n",
              "       '2014-03-06T00:00:00.000000000', '2014-03-05T00:00:00.000000000',\n",
              "       '2014-03-04T00:00:00.000000000', '2014-03-03T00:00:00.000000000',\n",
              "       '2014-03-02T00:00:00.000000000', '2014-03-01T00:00:00.000000000',\n",
              "       '2014-02-28T00:00:00.000000000', '2014-02-27T00:00:00.000000000',\n",
              "       '2014-02-26T00:00:00.000000000', '2014-02-25T00:00:00.000000000',\n",
              "       '2014-02-24T00:00:00.000000000', '2014-02-23T00:00:00.000000000',\n",
              "       '2014-02-22T00:00:00.000000000', '2014-02-21T00:00:00.000000000',\n",
              "       '2014-02-20T00:00:00.000000000', '2014-02-19T00:00:00.000000000',\n",
              "       '2014-02-18T00:00:00.000000000', '2014-02-17T00:00:00.000000000',\n",
              "       '2014-02-16T00:00:00.000000000', '2014-02-15T00:00:00.000000000',\n",
              "       '2014-02-14T00:00:00.000000000', '2014-02-13T00:00:00.000000000',\n",
              "       '2014-02-12T00:00:00.000000000', '2014-02-11T00:00:00.000000000',\n",
              "       '2014-02-10T00:00:00.000000000', '2014-02-09T00:00:00.000000000',\n",
              "       '2014-02-08T00:00:00.000000000', '2014-02-07T00:00:00.000000000',\n",
              "       '2014-02-06T00:00:00.000000000', '2014-02-05T00:00:00.000000000',\n",
              "       '2014-02-04T00:00:00.000000000', '2014-02-03T00:00:00.000000000',\n",
              "       '2014-02-02T00:00:00.000000000', '2014-02-01T00:00:00.000000000',\n",
              "       '2014-01-31T00:00:00.000000000', '2014-01-30T00:00:00.000000000',\n",
              "       '2014-01-29T00:00:00.000000000', '2014-01-28T00:00:00.000000000',\n",
              "       '2014-01-27T00:00:00.000000000', '2014-01-26T00:00:00.000000000',\n",
              "       '2014-01-25T00:00:00.000000000', '2014-01-24T00:00:00.000000000',\n",
              "       '2014-01-23T00:00:00.000000000', '2014-01-22T00:00:00.000000000',\n",
              "       '2014-01-21T00:00:00.000000000', '2014-01-20T00:00:00.000000000',\n",
              "       '2014-01-19T00:00:00.000000000', '2014-01-18T00:00:00.000000000',\n",
              "       '2014-01-17T00:00:00.000000000', '2014-01-16T00:00:00.000000000',\n",
              "       '2014-01-15T00:00:00.000000000', '2014-01-14T00:00:00.000000000',\n",
              "       '2014-01-13T00:00:00.000000000', '2014-01-12T00:00:00.000000000',\n",
              "       '2014-01-11T00:00:00.000000000', '2014-01-10T00:00:00.000000000',\n",
              "       '2014-01-09T00:00:00.000000000', '2014-01-08T00:00:00.000000000',\n",
              "       '2014-01-07T00:00:00.000000000', '2014-01-06T00:00:00.000000000',\n",
              "       '2014-01-05T00:00:00.000000000', '2014-01-04T00:00:00.000000000',\n",
              "       '2014-01-03T00:00:00.000000000', '2014-01-02T00:00:00.000000000',\n",
              "       '2014-01-01T00:00:00.000000000', '2013-12-31T00:00:00.000000000',\n",
              "       '2013-12-30T00:00:00.000000000', '2013-12-29T00:00:00.000000000',\n",
              "       '2013-12-28T00:00:00.000000000', '2013-12-27T00:00:00.000000000',\n",
              "       '2013-12-26T00:00:00.000000000', '2013-12-25T00:00:00.000000000',\n",
              "       '2013-12-24T00:00:00.000000000', '2013-12-23T00:00:00.000000000',\n",
              "       '2013-12-22T00:00:00.000000000', '2013-12-21T00:00:00.000000000',\n",
              "       '2013-12-20T00:00:00.000000000', '2013-12-19T00:00:00.000000000',\n",
              "       '2013-12-18T00:00:00.000000000', '2013-12-17T00:00:00.000000000',\n",
              "       '2013-12-16T00:00:00.000000000', '2013-12-15T00:00:00.000000000',\n",
              "       '2013-12-14T00:00:00.000000000', '2013-12-13T00:00:00.000000000',\n",
              "       '2013-12-12T00:00:00.000000000', '2013-12-11T00:00:00.000000000',\n",
              "       '2013-12-10T00:00:00.000000000', '2013-12-09T00:00:00.000000000',\n",
              "       '2013-12-08T00:00:00.000000000', '2013-12-07T00:00:00.000000000',\n",
              "       '2013-12-06T00:00:00.000000000', '2013-12-05T00:00:00.000000000',\n",
              "       '2013-12-04T00:00:00.000000000', '2013-12-03T00:00:00.000000000',\n",
              "       '2013-12-02T00:00:00.000000000', '2013-12-01T00:00:00.000000000',\n",
              "       '2013-11-30T00:00:00.000000000', '2013-11-29T00:00:00.000000000',\n",
              "       '2013-11-28T00:00:00.000000000', '2013-11-27T00:00:00.000000000',\n",
              "       '2013-11-26T00:00:00.000000000', '2013-11-25T00:00:00.000000000',\n",
              "       '2013-11-24T00:00:00.000000000', '2013-11-23T00:00:00.000000000',\n",
              "       '2013-11-22T00:00:00.000000000', '2013-11-21T00:00:00.000000000',\n",
              "       '2013-11-20T00:00:00.000000000', '2013-11-19T00:00:00.000000000',\n",
              "       '2013-11-18T00:00:00.000000000', '2013-11-17T00:00:00.000000000',\n",
              "       '2013-11-16T00:00:00.000000000', '2013-11-15T00:00:00.000000000',\n",
              "       '2013-11-14T00:00:00.000000000', '2013-11-13T00:00:00.000000000',\n",
              "       '2013-11-12T00:00:00.000000000', '2013-11-11T00:00:00.000000000',\n",
              "       '2013-11-10T00:00:00.000000000', '2013-11-09T00:00:00.000000000',\n",
              "       '2013-11-08T00:00:00.000000000', '2013-11-07T00:00:00.000000000',\n",
              "       '2013-11-06T00:00:00.000000000', '2013-11-05T00:00:00.000000000',\n",
              "       '2013-11-04T00:00:00.000000000', '2013-11-03T00:00:00.000000000',\n",
              "       '2013-11-02T00:00:00.000000000', '2013-11-01T00:00:00.000000000',\n",
              "       '2013-10-31T00:00:00.000000000', '2013-10-30T00:00:00.000000000',\n",
              "       '2013-10-29T00:00:00.000000000', '2013-10-28T00:00:00.000000000',\n",
              "       '2013-10-27T00:00:00.000000000', '2013-10-26T00:00:00.000000000',\n",
              "       '2013-10-25T00:00:00.000000000', '2013-10-24T00:00:00.000000000',\n",
              "       '2013-10-23T00:00:00.000000000', '2013-10-22T00:00:00.000000000',\n",
              "       '2013-10-21T00:00:00.000000000', '2013-10-20T00:00:00.000000000',\n",
              "       '2013-10-19T00:00:00.000000000', '2013-10-18T00:00:00.000000000',\n",
              "       '2013-10-17T00:00:00.000000000', '2013-10-16T00:00:00.000000000',\n",
              "       '2013-10-15T00:00:00.000000000', '2013-10-14T00:00:00.000000000',\n",
              "       '2013-10-13T00:00:00.000000000', '2013-10-12T00:00:00.000000000',\n",
              "       '2013-10-11T00:00:00.000000000', '2013-10-10T00:00:00.000000000',\n",
              "       '2013-10-09T00:00:00.000000000', '2013-10-08T00:00:00.000000000',\n",
              "       '2013-10-07T00:00:00.000000000', '2013-10-06T00:00:00.000000000',\n",
              "       '2013-10-05T00:00:00.000000000', '2013-10-04T00:00:00.000000000',\n",
              "       '2013-10-03T00:00:00.000000000', '2013-10-02T00:00:00.000000000',\n",
              "       '2013-10-01T00:00:00.000000000', '2013-09-30T00:00:00.000000000',\n",
              "       '2013-09-29T00:00:00.000000000', '2013-09-28T00:00:00.000000000',\n",
              "       '2013-09-27T00:00:00.000000000', '2013-09-26T00:00:00.000000000',\n",
              "       '2013-09-25T00:00:00.000000000', '2013-09-24T00:00:00.000000000',\n",
              "       '2013-09-23T00:00:00.000000000', '2013-09-22T00:00:00.000000000',\n",
              "       '2013-09-21T00:00:00.000000000', '2013-09-20T00:00:00.000000000',\n",
              "       '2013-09-19T00:00:00.000000000', '2013-09-18T00:00:00.000000000',\n",
              "       '2013-09-17T00:00:00.000000000', '2013-09-16T00:00:00.000000000',\n",
              "       '2013-09-15T00:00:00.000000000', '2013-09-14T00:00:00.000000000',\n",
              "       '2013-09-13T00:00:00.000000000', '2013-09-12T00:00:00.000000000',\n",
              "       '2013-09-11T00:00:00.000000000', '2013-09-10T00:00:00.000000000',\n",
              "       '2013-09-09T00:00:00.000000000', '2013-09-08T00:00:00.000000000',\n",
              "       '2013-09-07T00:00:00.000000000', '2013-09-06T00:00:00.000000000',\n",
              "       '2013-09-05T00:00:00.000000000', '2013-09-04T00:00:00.000000000',\n",
              "       '2013-09-03T00:00:00.000000000', '2013-09-02T00:00:00.000000000',\n",
              "       '2013-09-01T00:00:00.000000000', '2013-08-31T00:00:00.000000000',\n",
              "       '2013-08-30T00:00:00.000000000', '2013-08-29T00:00:00.000000000',\n",
              "       '2013-08-28T00:00:00.000000000', '2013-08-27T00:00:00.000000000',\n",
              "       '2013-08-26T00:00:00.000000000', '2013-08-25T00:00:00.000000000',\n",
              "       '2013-08-24T00:00:00.000000000', '2013-08-23T00:00:00.000000000',\n",
              "       '2013-08-22T00:00:00.000000000', '2013-08-21T00:00:00.000000000',\n",
              "       '2013-08-20T00:00:00.000000000', '2013-08-19T00:00:00.000000000',\n",
              "       '2013-08-18T00:00:00.000000000', '2013-08-17T00:00:00.000000000',\n",
              "       '2013-08-16T00:00:00.000000000', '2013-08-15T00:00:00.000000000',\n",
              "       '2013-08-14T00:00:00.000000000', '2013-08-13T00:00:00.000000000',\n",
              "       '2013-08-12T00:00:00.000000000', '2013-08-11T00:00:00.000000000',\n",
              "       '2013-08-10T00:00:00.000000000', '2013-08-09T00:00:00.000000000',\n",
              "       '2013-08-08T00:00:00.000000000', '2013-08-07T00:00:00.000000000',\n",
              "       '2013-08-06T00:00:00.000000000', '2013-08-05T00:00:00.000000000',\n",
              "       '2013-08-04T00:00:00.000000000', '2013-08-03T00:00:00.000000000',\n",
              "       '2013-08-02T00:00:00.000000000', '2013-08-01T00:00:00.000000000',\n",
              "       '2013-07-31T00:00:00.000000000', '2013-07-30T00:00:00.000000000',\n",
              "       '2013-07-29T00:00:00.000000000', '2013-07-28T00:00:00.000000000',\n",
              "       '2013-07-27T00:00:00.000000000', '2013-07-26T00:00:00.000000000',\n",
              "       '2013-07-25T00:00:00.000000000', '2013-07-24T00:00:00.000000000',\n",
              "       '2013-07-23T00:00:00.000000000', '2013-07-22T00:00:00.000000000',\n",
              "       '2013-07-21T00:00:00.000000000', '2013-07-20T00:00:00.000000000',\n",
              "       '2013-07-19T00:00:00.000000000', '2013-07-18T00:00:00.000000000',\n",
              "       '2013-07-17T00:00:00.000000000', '2013-07-16T00:00:00.000000000',\n",
              "       '2013-07-15T00:00:00.000000000', '2013-07-14T00:00:00.000000000',\n",
              "       '2013-07-13T00:00:00.000000000', '2013-07-12T00:00:00.000000000',\n",
              "       '2013-07-11T00:00:00.000000000', '2013-07-10T00:00:00.000000000',\n",
              "       '2013-07-09T00:00:00.000000000', '2013-07-08T00:00:00.000000000',\n",
              "       '2013-07-07T00:00:00.000000000', '2013-07-06T00:00:00.000000000',\n",
              "       '2013-07-05T00:00:00.000000000', '2013-07-04T00:00:00.000000000',\n",
              "       '2013-07-03T00:00:00.000000000', '2013-07-02T00:00:00.000000000',\n",
              "       '2013-07-01T00:00:00.000000000', '2013-06-30T00:00:00.000000000',\n",
              "       '2013-06-29T00:00:00.000000000', '2013-06-28T00:00:00.000000000',\n",
              "       '2013-06-27T00:00:00.000000000', '2013-06-26T00:00:00.000000000',\n",
              "       '2013-06-25T00:00:00.000000000', '2013-06-24T00:00:00.000000000',\n",
              "       '2013-06-23T00:00:00.000000000', '2013-06-22T00:00:00.000000000',\n",
              "       '2013-06-21T00:00:00.000000000', '2013-06-20T00:00:00.000000000',\n",
              "       '2013-06-19T00:00:00.000000000', '2013-06-18T00:00:00.000000000',\n",
              "       '2013-06-17T00:00:00.000000000', '2013-06-16T00:00:00.000000000',\n",
              "       '2013-06-15T00:00:00.000000000', '2013-06-14T00:00:00.000000000',\n",
              "       '2013-06-13T00:00:00.000000000', '2013-06-12T00:00:00.000000000',\n",
              "       '2013-06-11T00:00:00.000000000', '2013-06-10T00:00:00.000000000',\n",
              "       '2013-06-09T00:00:00.000000000', '2013-06-08T00:00:00.000000000',\n",
              "       '2013-06-07T00:00:00.000000000', '2013-06-06T00:00:00.000000000',\n",
              "       '2013-06-05T00:00:00.000000000', '2013-06-04T00:00:00.000000000',\n",
              "       '2013-06-03T00:00:00.000000000', '2013-06-02T00:00:00.000000000',\n",
              "       '2013-06-01T00:00:00.000000000', '2013-05-31T00:00:00.000000000',\n",
              "       '2013-05-30T00:00:00.000000000', '2013-05-29T00:00:00.000000000',\n",
              "       '2013-05-28T00:00:00.000000000', '2013-05-27T00:00:00.000000000',\n",
              "       '2013-05-26T00:00:00.000000000', '2013-05-25T00:00:00.000000000',\n",
              "       '2013-05-24T00:00:00.000000000', '2013-05-23T00:00:00.000000000',\n",
              "       '2013-05-22T00:00:00.000000000', '2013-05-21T00:00:00.000000000',\n",
              "       '2013-05-20T00:00:00.000000000', '2013-05-19T00:00:00.000000000',\n",
              "       '2013-05-18T00:00:00.000000000', '2013-05-17T00:00:00.000000000',\n",
              "       '2013-05-16T00:00:00.000000000', '2013-05-15T00:00:00.000000000',\n",
              "       '2013-05-14T00:00:00.000000000', '2013-05-13T00:00:00.000000000',\n",
              "       '2013-05-12T00:00:00.000000000', '2013-05-11T00:00:00.000000000',\n",
              "       '2013-05-10T00:00:00.000000000', '2013-05-09T00:00:00.000000000',\n",
              "       '2013-05-08T00:00:00.000000000', '2013-05-07T00:00:00.000000000',\n",
              "       '2013-05-06T00:00:00.000000000', '2013-05-05T00:00:00.000000000',\n",
              "       '2013-05-04T00:00:00.000000000', '2013-05-03T00:00:00.000000000',\n",
              "       '2013-05-02T00:00:00.000000000', '2013-05-01T00:00:00.000000000',\n",
              "       '2013-04-30T00:00:00.000000000', '2013-04-29T00:00:00.000000000',\n",
              "       '2013-04-28T00:00:00.000000000', '2013-04-27T00:00:00.000000000',\n",
              "       '2013-04-26T00:00:00.000000000', '2013-04-25T00:00:00.000000000',\n",
              "       '2013-04-24T00:00:00.000000000', '2013-04-23T00:00:00.000000000',\n",
              "       '2013-04-22T00:00:00.000000000', '2013-04-21T00:00:00.000000000',\n",
              "       '2013-04-20T00:00:00.000000000', '2013-04-19T00:00:00.000000000',\n",
              "       '2013-04-18T00:00:00.000000000', '2013-04-17T00:00:00.000000000',\n",
              "       '2013-04-16T00:00:00.000000000', '2013-04-15T00:00:00.000000000',\n",
              "       '2013-04-14T00:00:00.000000000', '2013-04-13T00:00:00.000000000',\n",
              "       '2013-04-12T00:00:00.000000000', '2013-04-11T00:00:00.000000000',\n",
              "       '2013-04-10T00:00:00.000000000', '2013-04-09T00:00:00.000000000',\n",
              "       '2013-04-08T00:00:00.000000000', '2013-04-07T00:00:00.000000000',\n",
              "       '2013-04-06T00:00:00.000000000', '2013-04-05T00:00:00.000000000',\n",
              "       '2013-04-04T00:00:00.000000000', '2013-04-03T00:00:00.000000000',\n",
              "       '2013-04-02T00:00:00.000000000', '2013-04-01T00:00:00.000000000',\n",
              "       '2013-03-31T00:00:00.000000000', '2013-03-30T00:00:00.000000000',\n",
              "       '2013-03-29T00:00:00.000000000', '2013-03-28T00:00:00.000000000',\n",
              "       '2013-03-27T00:00:00.000000000', '2013-03-26T00:00:00.000000000',\n",
              "       '2013-03-25T00:00:00.000000000', '2013-03-24T00:00:00.000000000',\n",
              "       '2013-03-23T00:00:00.000000000', '2013-03-22T00:00:00.000000000',\n",
              "       '2013-03-21T00:00:00.000000000', '2013-03-20T00:00:00.000000000',\n",
              "       '2013-03-19T00:00:00.000000000', '2013-03-18T00:00:00.000000000',\n",
              "       '2013-03-17T00:00:00.000000000', '2013-03-16T00:00:00.000000000',\n",
              "       '2013-03-15T00:00:00.000000000', '2013-03-14T00:00:00.000000000',\n",
              "       '2013-03-13T00:00:00.000000000', '2013-03-12T00:00:00.000000000',\n",
              "       '2013-03-11T00:00:00.000000000', '2013-03-10T00:00:00.000000000',\n",
              "       '2013-03-09T00:00:00.000000000', '2013-03-08T00:00:00.000000000',\n",
              "       '2013-03-07T00:00:00.000000000', '2013-03-06T00:00:00.000000000',\n",
              "       '2013-03-05T00:00:00.000000000', '2013-03-04T00:00:00.000000000',\n",
              "       '2013-03-03T00:00:00.000000000', '2013-03-02T00:00:00.000000000',\n",
              "       '2013-03-01T00:00:00.000000000', '2013-02-28T00:00:00.000000000',\n",
              "       '2013-02-27T00:00:00.000000000', '2013-02-26T00:00:00.000000000',\n",
              "       '2013-02-25T00:00:00.000000000', '2013-02-24T00:00:00.000000000',\n",
              "       '2013-02-23T00:00:00.000000000', '2013-02-22T00:00:00.000000000',\n",
              "       '2013-02-21T00:00:00.000000000', '2013-02-20T00:00:00.000000000',\n",
              "       '2013-02-19T00:00:00.000000000', '2013-02-18T00:00:00.000000000',\n",
              "       '2013-02-17T00:00:00.000000000', '2013-02-16T00:00:00.000000000',\n",
              "       '2013-02-15T00:00:00.000000000', '2013-02-14T00:00:00.000000000',\n",
              "       '2013-02-13T00:00:00.000000000', '2013-02-12T00:00:00.000000000',\n",
              "       '2013-02-11T00:00:00.000000000', '2013-02-10T00:00:00.000000000',\n",
              "       '2013-02-09T00:00:00.000000000', '2013-02-08T00:00:00.000000000',\n",
              "       '2013-02-07T00:00:00.000000000', '2013-02-06T00:00:00.000000000',\n",
              "       '2013-02-05T00:00:00.000000000', '2013-02-04T00:00:00.000000000',\n",
              "       '2013-02-03T00:00:00.000000000', '2013-02-02T00:00:00.000000000',\n",
              "       '2013-02-01T00:00:00.000000000', '2013-01-31T00:00:00.000000000',\n",
              "       '2013-01-30T00:00:00.000000000', '2013-01-29T00:00:00.000000000',\n",
              "       '2013-01-28T00:00:00.000000000', '2013-01-27T00:00:00.000000000',\n",
              "       '2013-01-26T00:00:00.000000000', '2013-01-25T00:00:00.000000000',\n",
              "       '2013-01-24T00:00:00.000000000', '2013-01-23T00:00:00.000000000',\n",
              "       '2013-01-22T00:00:00.000000000', '2013-01-21T00:00:00.000000000',\n",
              "       '2013-01-20T00:00:00.000000000', '2013-01-19T00:00:00.000000000',\n",
              "       '2013-01-18T00:00:00.000000000', '2013-01-17T00:00:00.000000000',\n",
              "       '2013-01-16T00:00:00.000000000', '2013-01-15T00:00:00.000000000',\n",
              "       '2013-01-14T00:00:00.000000000', '2013-01-13T00:00:00.000000000',\n",
              "       '2013-01-12T00:00:00.000000000', '2013-01-11T00:00:00.000000000',\n",
              "       '2013-01-10T00:00:00.000000000', '2013-01-09T00:00:00.000000000',\n",
              "       '2013-01-08T00:00:00.000000000', '2013-01-07T00:00:00.000000000',\n",
              "       '2013-01-06T00:00:00.000000000', '2013-01-05T00:00:00.000000000',\n",
              "       '2013-01-04T00:00:00.000000000', '2013-01-03T00:00:00.000000000',\n",
              "       '2013-01-02T00:00:00.000000000', '2013-01-01T00:00:00.000000000'],\n",
              "      dtype='datetime64[ns]')"
            ]
          },
          "metadata": {},
          "execution_count": 32
        }
      ]
    },
    {
      "cell_type": "markdown",
      "metadata": {
        "id": "3XZ7jAzhlRr-"
      },
      "source": [
        "<B>The dataset is from 1 January 2013 to 31 July 2015 , i.e. approx. 2.5 yrs."
      ]
    },
    {
      "cell_type": "code",
      "metadata": {
        "id": "9mNJneFwks_a",
        "colab": {
          "base_uri": "https://localhost:8080/"
        },
        "outputId": "6d19ccf5-2253-4302-a9cb-5183ffea95eb"
      },
      "source": [
        "li = [\"DayOfWeek\" , \"StateHoliday\" , \"SchoolHoliday\"]\n",
        "\n",
        "for i in li:\n",
        "  print(i)\n",
        "  print(data[i].unique())\n",
        "  print(\"-----------------------\")"
      ],
      "execution_count": 33,
      "outputs": [
        {
          "output_type": "stream",
          "name": "stdout",
          "text": [
            "DayOfWeek\n",
            "[5 4 3 2 1 7 6]\n",
            "-----------------------\n",
            "StateHoliday\n",
            "['0' 'a' 'b' 'c']\n",
            "-----------------------\n",
            "SchoolHoliday\n",
            "[1 0]\n",
            "-----------------------\n"
          ]
        }
      ]
    },
    {
      "cell_type": "markdown",
      "metadata": {
        "id": "QvhpK1tEldmR"
      },
      "source": [
        "<b>a = public holiday, b = Easter holiday, c = Christmas, 0 = No holidays\n",
        "\n",
        "Indicates if the (Store, Date) was affected by the closure of public schools"
      ]
    },
    {
      "cell_type": "code",
      "metadata": {
        "id": "mhRITsKrktDO",
        "colab": {
          "base_uri": "https://localhost:8080/"
        },
        "outputId": "b072d2f9-8676-49fa-d7ed-9930b19289bd"
      },
      "source": [
        "data.Store.nunique()"
      ],
      "execution_count": 34,
      "outputs": [
        {
          "output_type": "execute_result",
          "data": {
            "text/plain": [
              "1115"
            ]
          },
          "metadata": {},
          "execution_count": 34
        }
      ]
    },
    {
      "cell_type": "markdown",
      "metadata": {
        "id": "j9gw-2W4bxhb"
      },
      "source": [
        "#<b>3. Exploratory Data Analysis"
      ]
    },
    {
      "cell_type": "markdown",
      "metadata": {
        "id": "FcTMfHJ3U0Bv"
      },
      "source": [
        "## 3.1 Opened store"
      ]
    },
    {
      "cell_type": "code",
      "metadata": {
        "colab": {
          "base_uri": "https://localhost:8080/",
          "height": 247
        },
        "id": "gjCWiGd-CnWb",
        "outputId": "2dd05935-f1ea-45c6-cc6e-d8784caa0468"
      },
      "source": [
        "# Open\n",
        "fig, (axis1) = plt.subplots(1,1,figsize=(15,4))\n",
        "sns.countplot(x='Open',hue='DayOfWeek', data=data,palette=\"husl\", ax=axis1)\n",
        "\n",
        "# fill NaN values in data with Open=1 if DayOfWeek != 7\n",
        "data[\"Open\"][data[\"Open\"] != data[\"Open\"]] = (data[\"DayOfWeek\"] != 7).astype(int)\n",
        "\n",
        "# Drop Open column\n",
        "\n",
        "data.drop(\"Open\", axis=1, inplace=True)"
      ],
      "execution_count": 35,
      "outputs": [
        {
          "output_type": "display_data",
          "data": {
            "image/png": "[encoded data removed]",
            "text/plain": [
              "<Figure size 1080x288 with 1 Axes>"
            ]
          },
          "metadata": {
            "needs_background": "light"
          }
        }
      ]
    },
    {
      "cell_type": "markdown",
      "metadata": {
        "id": "GRMtUuU0nufS"
      },
      "source": [
        "## 3.2. Average Sales & Sales percent change"
      ]
    },
    {
      "cell_type": "code",
      "metadata": {
        "id": "7sHdX-s-idst"
      },
      "source": [
        "# Date\n",
        "\n",
        "# Create Year and Month columns\n",
        "\n",
        "data['Year']  = data['Date'].apply(lambda x: int(str(x)[:4]))\n",
        "data['Month'] = data['Date'].apply(lambda x: int(str(x)[5:7]))\n",
        "\n",
        "# Assign Date column to Date(Year-Month) instead of (Year-Month-Day)\n",
        "# this column will be useful in analysis and visualization\n",
        "\n",
        "data['Date'] = data['Date'].apply(lambda x: (str(x)[:7]))"
      ],
      "execution_count": 36,
      "outputs": []
    },
    {
      "cell_type": "markdown",
      "metadata": {
        "id": "acQOqmpoUHqe"
      },
      "source": [
        "## 3.3. Average sales over time(year-month)"
      ]
    },
    {
      "cell_type": "code",
      "metadata": {
        "id": "i0AHxBtkilIb",
        "colab": {
          "base_uri": "https://localhost:8080/",
          "height": 494
        },
        "outputId": "63eb19d9-458c-4424-8d1a-f080cc2dcd9c"
      },
      "source": [
        "# group by date and get average sales, and precent change\n",
        "average_sales    = data.groupby('Date')[\"Sales\"].mean()\n",
        "pct_change_sales = data.groupby('Date')[\"Sales\"].sum().pct_change()\n",
        "\n",
        "fig, (axis1,axis2) = plt.subplots(2,1,sharex=True,figsize=(15,8))\n",
        "\n",
        "# plot average sales over time(year-month)\n",
        "ax1 = average_sales.plot(legend=True,ax=axis1,marker='o',title=\"Average Sales\")\n",
        "ax1.set_xticks(range(len(average_sales)))\n",
        "ax1.set_xticklabels(average_sales.index.tolist(), rotation=90)\n",
        "\n",
        "# plot precent change for sales over time(year-month)\n",
        "ax2 = pct_change_sales.plot(legend=True,ax=axis2,marker='o',rot=90,colormap=\"summer\",title=\"Sales Percent Change\")\n",
        "# ax2.set_xticks(range(len(pct_change_sales)))\n",
        "# ax2.set_xticklabels(pct_change_sales.index.tolist(), rotation=90)"
      ],
      "execution_count": 37,
      "outputs": [
        {
          "output_type": "display_data",
          "data": {
            "image/png": "[encoded data removed]",
            "text/plain": [
              "<Figure size 1080x576 with 2 Axes>"
            ]
          },
          "metadata": {
            "needs_background": "light"
          }
        }
      ]
    },
    {
      "cell_type": "markdown",
      "metadata": {
        "id": "-9wANckkUMYq"
      },
      "source": [
        "## 3.4. Average sales & customers for every year"
      ]
    },
    {
      "cell_type": "code",
      "metadata": {
        "id": "jBBPkWbaiub_",
        "colab": {
          "base_uri": "https://localhost:8080/",
          "height": 251
        },
        "outputId": "d5ea83e0-1b9e-4a53-946c-86be558f6061"
      },
      "source": [
        "# .... contiune with Date\n",
        "\n",
        "# Plot average sales & customers for every year\n",
        "fig, (axis1,axis2) = plt.subplots(1,2,figsize=(15,4))\n",
        "\n",
        "sns.barplot(x='Year', y='Sales', data=data, ax=axis1)\n",
        "sns.barplot(x='Year', y='Customers', data=data, ax=axis2)\n",
        "\n",
        "# Drop Date column\n",
        "\n",
        "data.drop(['Date'], axis=1,inplace=True)"
      ],
      "execution_count": 38,
      "outputs": [
        {
          "output_type": "display_data",
          "data": {
            "image/png": "[encoded data removed]",
            "text/plain": [
              "<Figure size 1080x288 with 2 Axes>"
            ]
          },
          "metadata": {
            "needs_background": "light"
          }
        }
      ]
    },
    {
      "cell_type": "markdown",
      "metadata": {
        "id": "CJKMFvJ-UQ20"
      },
      "source": [
        "##  3.5. DayOfWeek"
      ]
    },
    {
      "cell_type": "code",
      "metadata": {
        "colab": {
          "base_uri": "https://localhost:8080/",
          "height": 268
        },
        "id": "Yh8UJSCqD-7m",
        "outputId": "1e56f78b-f8b1-462d-9011-fc8c0d0dd71d"
      },
      "source": [
        "# DayOfWeek\n",
        "# In both cases where the store is closed and opened\n",
        "\n",
        "fig, (axis1,axis2) = plt.subplots(1,2,figsize=(15,4))\n",
        "\n",
        "sns.barplot(x='DayOfWeek', y='Sales', data=data, order=[1,2,3,4,5,6,7], ax=axis1)\n",
        "sns.barplot(x='DayOfWeek', y='Customers', data=data, order=[1,2,3,4,5,6,7], ax=axis2)\n"
      ],
      "execution_count": 39,
      "outputs": [
        {
          "output_type": "execute_result",
          "data": {
            "text/plain": [
              "<matplotlib.axes._subplots.AxesSubplot at 0x7f1019003350>"
            ]
          },
          "metadata": {},
          "execution_count": 39
        },
        {
          "output_type": "display_data",
          "data": {
            "image/png": "[encoded data removed]",
            "text/plain": [
              "<Figure size 1080x288 with 2 Axes>"
            ]
          },
          "metadata": {
            "needs_background": "light"
          }
        }
      ]
    },
    {
      "cell_type": "markdown",
      "metadata": {
        "id": "VW3hJ_UaUgbV"
      },
      "source": [
        "## 3.6. StateHoliday"
      ]
    },
    {
      "cell_type": "code",
      "metadata": {
        "colab": {
          "base_uri": "https://localhost:8080/",
          "height": 547
        },
        "id": "uPPZYYgfERoe",
        "outputId": "b042c394-58be-4f98-9466-c9d9428a81e5"
      },
      "source": [
        "# StateHoliday\n",
        "\n",
        "# StateHoliday column has values 0 & \"0\", So, we need to merge values with 0 to \"0\"\n",
        "data[\"StateHoliday\"].loc[data[\"StateHoliday\"] == 0] = \"0\"\n",
        "\n",
        "# Plot\n",
        "sns.countplot(x='StateHoliday', data=data)\n",
        "\n",
        "# Before\n",
        "fig, (axis1,axis2) = plt.subplots(1,2,figsize=(15,4))\n",
        "\n",
        "sns.barplot(x='StateHoliday', y='Sales', data=data, ax=axis1)\n",
        "\n",
        "mask = (data[\"StateHoliday\"] != \"0\") & (data[\"Sales\"] > 0)\n",
        "sns.barplot(x='StateHoliday', y='Sales', data=data[mask], ax=axis2)"
      ],
      "execution_count": 40,
      "outputs": [
        {
          "output_type": "execute_result",
          "data": {
            "text/plain": [
              "<matplotlib.axes._subplots.AxesSubplot at 0x7f10172a91d0>"
            ]
          },
          "metadata": {},
          "execution_count": 40
        },
        {
          "output_type": "display_data",
          "data": {
            "image/png": "[encoded data removed]",
            "text/plain": [
              "<Figure size 432x288 with 1 Axes>"
            ]
          },
          "metadata": {
            "needs_background": "light"
          }
        },
        {
          "output_type": "display_data",
          "data": {
            "image/png": "[encoded data removed]",
            "text/plain": [
              "<Figure size 1080x288 with 2 Axes>"
            ]
          },
          "metadata": {
            "needs_background": "light"
          }
        }
      ]
    },
    {
      "cell_type": "markdown",
      "metadata": {
        "id": "ehuJE1D9VCK-"
      },
      "source": [
        "continue with StateHoliday"
      ]
    },
    {
      "cell_type": "markdown",
      "metadata": {
        "id": "NnWSFXQdugT7"
      },
      "source": [
        "We have StateHoliday as Obejcts we need to convert them to numerical categories:\n",
        "\n"
      ]
    },
    {
      "cell_type": "code",
      "metadata": {
        "colab": {
          "base_uri": "https://localhost:8080/",
          "height": 268
        },
        "id": "HxZlQQptEb-7",
        "outputId": "10af0e87-ec3d-4fbc-ecb4-2cd43a08af42"
      },
      "source": [
        "# .... continue with StateHoliday\n",
        "\n",
        "# After\n",
        "data[\"StateHoliday\"]     = data[\"StateHoliday\"].map({0: 0, \"0\": 0, \"a\": 1, \"b\": 1, \"c\": 1})\n",
        "\n",
        "fig, (axis1,axis2) = plt.subplots(1,2,figsize=(15,4))\n",
        "\n",
        "sns.barplot(x='StateHoliday', y='Sales', data=data, ax=axis1)\n",
        "sns.barplot(x='StateHoliday', y='Customers', data=data, ax=axis2)"
      ],
      "execution_count": 41,
      "outputs": [
        {
          "output_type": "execute_result",
          "data": {
            "text/plain": [
              "<matplotlib.axes._subplots.AxesSubplot at 0x7f1023b51f90>"
            ]
          },
          "metadata": {},
          "execution_count": 41
        },
        {
          "output_type": "display_data",
          "data": {
            "image/png": "[encoded data removed]",
            "text/plain": [
              "<Figure size 1080x288 with 2 Axes>"
            ]
          },
          "metadata": {
            "needs_background": "light"
          }
        }
      ]
    },
    {
      "cell_type": "markdown",
      "metadata": {
        "id": "CnZlGXHgu-Ev"
      },
      "source": [
        "Finding:"
      ]
    },
    {
      "cell_type": "markdown",
      "metadata": {
        "id": "rWGiHK79vP_z"
      },
      "source": [
        "From the graph, we can see that, Sales and customer are dramatically high on stateholidays"
      ]
    },
    {
      "cell_type": "markdown",
      "metadata": {
        "id": "G8n3xUtWEuOo"
      },
      "source": [
        "##3.7. Sales affected by SchoolHoliday or not?"
      ]
    },
    {
      "cell_type": "code",
      "metadata": {
        "colab": {
          "base_uri": "https://localhost:8080/",
          "height": 536
        },
        "id": "EgnHFTq4Emep",
        "outputId": "f97650ee-b9c2-4cf8-8918-7e175cb25543"
      },
      "source": [
        "# SchoolHoliday\n",
        "\n",
        "# Plot\n",
        "sns.countplot(x='SchoolHoliday', data=data)\n",
        "\n",
        "fig, (axis1,axis2) = plt.subplots(1,2,figsize=(15,4))\n",
        "\n",
        "sns.barplot(x='SchoolHoliday', y='Sales', data=data, ax=axis1)\n",
        "sns.barplot(x='SchoolHoliday', y='Customers', data=data, ax=axis2)"
      ],
      "execution_count": 42,
      "outputs": [
        {
          "output_type": "execute_result",
          "data": {
            "text/plain": [
              "<matplotlib.axes._subplots.AxesSubplot at 0x7f10180d8810>"
            ]
          },
          "metadata": {},
          "execution_count": 42
        },
        {
          "output_type": "display_data",
          "data": {
            "image/png": "[encoded data removed]",
            "text/plain": [
              "<Figure size 432x288 with 1 Axes>"
            ]
          },
          "metadata": {
            "needs_background": "light"
          }
        },
        {
          "output_type": "display_data",
          "data": {
            "image/png": "[encoded data removed]",
            "text/plain": [
              "<Figure size 1080x288 with 2 Axes>"
            ]
          },
          "metadata": {
            "needs_background": "light"
          }
        }
      ]
    },
    {
      "cell_type": "code",
      "metadata": {
        "colab": {
          "base_uri": "https://localhost:8080/",
          "height": 373
        },
        "id": "EghC6cKXE3R6",
        "outputId": "c6a1b5fa-66c5-4d26-fd41-fef00ebade0c"
      },
      "source": [
        "labels = 'Not-Affected' , 'Affected'\n",
        "sizes = data.SchoolHoliday.value_counts()\n",
        "colors = ['gold', 'silver']\n",
        "explode = (0.1, 0.0)\n",
        "plt.pie(sizes, explode=explode, labels=labels, colors=colors,\n",
        "        autopct='%1.1f%%', shadow=True, startangle=180)\n",
        "plt.axis('equal')\n",
        "plt.title(\"Sales Affected by Schoolholiday or Not ?\")\n",
        "plt.plot()\n",
        "fig=plt.gcf()\n",
        "fig.set_size_inches(6,6)\n",
        "plt.show()"
      ],
      "execution_count": 43,
      "outputs": [
        {
          "output_type": "display_data",
          "data": {
            "image/png": "[encoded data removed]",
            "text/plain": [
              "<Figure size 432x432 with 1 Axes>"
            ]
          },
          "metadata": {}
        }
      ]
    },
    {
      "cell_type": "markdown",
      "metadata": {
        "id": "IRGY3inbm3wB"
      },
      "source": [
        "##3.8 Sales by StoreTypes"
      ]
    },
    {
      "cell_type": "code",
      "metadata": {
        "id": "Q3B2cAVm-D0c"
      },
      "source": [
        "temp = []\n",
        "for i in data.groupby('Store')[[\"Sales\", \"Customers\"]].mean()[\"Sales\"]:\n",
        "  temp.append(i)\n",
        "store[\"AvgSales\"] = temp"
      ],
      "execution_count": 44,
      "outputs": []
    },
    {
      "cell_type": "code",
      "metadata": {
        "id": "kLIwzpCN-gs4"
      },
      "source": [
        "temp = []\n",
        "for i in data.groupby('Store')[[\"Sales\", \"Customers\"]].mean()[\"Customers\"]:\n",
        "  temp.append(i)\n",
        "store[\"AvgCustomers\"] = temp"
      ],
      "execution_count": 45,
      "outputs": []
    },
    {
      "cell_type": "code",
      "metadata": {
        "id": "R7Re65pb-rY0",
        "colab": {
          "base_uri": "https://localhost:8080/",
          "height": 377
        },
        "outputId": "7c304d1a-3215-4844-c135-2f5576fdc8c7"
      },
      "source": [
        "labels = 'a' , 'b' , 'c' , 'd'\n",
        "sizes = store.StoreType.value_counts()\n",
        "colors = ['orange', 'green' , 'red' , 'pink']\n",
        "explode = (0.1, 0.0 , 0.15 , 0.0)\n",
        "plt.pie(sizes, explode=explode, labels=labels, colors=colors,\n",
        "        autopct='%1.1f%%', shadow=True, startangle=180)\n",
        "plt.axis('equal')\n",
        "plt.title(\"Distribution of different StoreTypes\")\n",
        "plt.plot()\n",
        "fig=plt.gcf()\n",
        "fig.set_size_inches(6,6)\n",
        "plt.show()"
      ],
      "execution_count": 46,
      "outputs": [
        {
          "output_type": "display_data",
          "data": {
            "image/png": "[encoded data removed]",
            "text/plain": [
              "<Figure size 432x432 with 1 Axes>"
            ]
          },
          "metadata": {}
        }
      ]
    },
    {
      "cell_type": "markdown",
      "metadata": {
        "id": "MWHqXHwGQFM_"
      },
      "source": [
        "## 3.9. StoreType, & StoreType Vs average sales and customers"
      ]
    },
    {
      "cell_type": "markdown",
      "metadata": {
        "id": "Jd5fRxw_kYv5"
      },
      "source": [
        "The best way to asses the performance of a store type is to see what is the sales per customer so that we normalize everything and we get the store that makes its customers spend the most on average."
      ]
    },
    {
      "cell_type": "markdown",
      "metadata": {
        "id": "YuTiCT2VkfLN"
      },
      "source": [
        "Let's compare first the total sales of each store type, its average sales and then see how it changes when we add the customers to the equation:"
      ]
    },
    {
      "cell_type": "code",
      "metadata": {
        "colab": {
          "base_uri": "https://localhost:8080/",
          "height": 534
        },
        "id": "Wn_BqT8AMA9q",
        "outputId": "4d5249ef-9a5a-4dfe-e3db-4e97ef323154"
      },
      "source": [
        "# StoreType \n",
        "\n",
        "# Plot StoreType, & StoreType Vs average sales and customers\n",
        "\n",
        "sns.countplot(x='StoreType', data=data, order=['a','b','c', 'd'])\n",
        "\n",
        "fig, (axis1,axis2) = plt.subplots(1,2,figsize=(15,4))\n",
        "\n",
        "sns.barplot(x='StoreType', y='Sales', data=data, order=['a','b','c', 'd'],ax=axis1)\n",
        "sns.barplot(x='StoreType', y='Customers', data=data, order=['a','b','c', 'd'], ax=axis2)"
      ],
      "execution_count": 47,
      "outputs": [
        {
          "output_type": "execute_result",
          "data": {
            "text/plain": [
              "<matplotlib.axes._subplots.AxesSubplot at 0x7f10191dea50>"
            ]
          },
          "metadata": {},
          "execution_count": 47
        },
        {
          "output_type": "display_data",
          "data": {
            "image/png": "[encoded data removed]",
            "text/plain": [
              "<Figure size 432x288 with 1 Axes>"
            ]
          },
          "metadata": {
            "needs_background": "light"
          }
        },
        {
          "output_type": "display_data",
          "data": {
            "image/png": "[encoded data removed]",
            "text/plain": [
              "<Figure size 1080x288 with 2 Axes>"
            ]
          },
          "metadata": {
            "needs_background": "light"
          }
        }
      ]
    },
    {
      "cell_type": "markdown",
      "metadata": {
        "id": "anQ-O6fnkqjV"
      },
      "source": [
        "**Findings:**"
      ]
    },
    {
      "cell_type": "markdown",
      "metadata": {
        "id": "dgpZ0kGIktXO"
      },
      "source": [
        "From this training set we can see that Storetype A \n",
        "has the highest number of branches,sales and customers from the 4 different storetypes. But this doesn't mean it's the best performing Storetype.\n"
      ]
    },
    {
      "cell_type": "markdown",
      "metadata": {
        "id": "qz-v9kh0kwm9"
      },
      "source": [
        "When looking at the average sales and number of customers, we see that actually it is Storetype B who was the highest average Sales and highest average Number of Customers. One assumption could be that if B has only 17 stores but such a high amount of average sales and customers that it is likely hyper Rossman branches whereas A would be smaller in size but much more present."
      ]
    },
    {
      "cell_type": "markdown",
      "metadata": {
        "id": "9Qtd9VNNqkcA"
      },
      "source": [
        "#####<b>Stores which are opened on Sundays"
      ]
    },
    {
      "cell_type": "code",
      "metadata": {
        "id": "I3QB4mMU_EhN",
        "colab": {
          "base_uri": "https://localhost:8080/"
        },
        "outputId": "d12fa7f6-2d00-4021-f187-bb146c66c60f"
      },
      "source": [
        "store.isnull().sum()"
      ],
      "execution_count": 48,
      "outputs": [
        {
          "output_type": "execute_result",
          "data": {
            "text/plain": [
              "Store                          0\n",
              "StoreType                      0\n",
              "Assortment                     0\n",
              "CompetitionDistance            0\n",
              "CompetitionOpenSinceMonth    354\n",
              "CompetitionOpenSinceYear     354\n",
              "Promo2                         0\n",
              "Promo2SinceWeek              544\n",
              "Promo2SinceYear              544\n",
              "PromoInterval                544\n",
              "AvgSales                       0\n",
              "AvgCustomers                   0\n",
              "dtype: int64"
            ]
          },
          "metadata": {},
          "execution_count": 48
        }
      ]
    },
    {
      "cell_type": "code",
      "metadata": {
        "colab": {
          "base_uri": "https://localhost:8080/"
        },
        "id": "62_k9vqLGvc-",
        "outputId": "a868c100-eb2b-4ff2-c967-73a8fd1977b7"
      },
      "source": [
        "R_data.SchoolHoliday.value_counts()"
      ],
      "execution_count": 49,
      "outputs": [
        {
          "output_type": "execute_result",
          "data": {
            "text/plain": [
              "0    835488\n",
              "1    181721\n",
              "Name: SchoolHoliday, dtype: int64"
            ]
          },
          "metadata": {},
          "execution_count": 49
        }
      ]
    },
    {
      "cell_type": "markdown",
      "metadata": {
        "id": "ZeJsPIM0QLVR"
      },
      "source": [
        "## 3.10. Assortment, & Assortment Vs average sales and customers"
      ]
    },
    {
      "cell_type": "markdown",
      "metadata": {
        "id": "9uCf7emBlUXS"
      },
      "source": [
        "As we cited in the description, assortments have three types and each store has a defined type and assortment type:\n",
        "\n"
      ]
    },
    {
      "cell_type": "markdown",
      "metadata": {
        "id": "mR7E1jM_ldxD"
      },
      "source": [
        "\n",
        "\n",
        "*   a-means basic things\n",
        "*   b-means extra things\n",
        "*   c-means extended things so the highest variety    of products.\n",
        "\n",
        "\n",
        "\n",
        "\n",
        "\n",
        "\n"
      ]
    },
    {
      "cell_type": "markdown",
      "metadata": {
        "id": "W7B4vynFl2TQ"
      },
      "source": [
        "\n",
        "What could be interesting is to see the relationship between a store type and its respective assortment type."
      ]
    },
    {
      "cell_type": "code",
      "metadata": {
        "colab": {
          "base_uri": "https://localhost:8080/",
          "height": 536
        },
        "id": "vv80jr5NGJQr",
        "outputId": "433b7703-8e34-432b-99bb-f1c6303f9de9"
      },
      "source": [
        "# Assortment \n",
        "\n",
        "# Plot Assortment, & Assortment Vs average sales and customers\n",
        "\n",
        "sns.countplot(x='Assortment', data=data, order=['a','b','c'])\n",
        "\n",
        "fig, (axis1,axis2) = plt.subplots(1,2,figsize=(15,4))\n",
        "\n",
        "sns.barplot(x='Assortment', y='Sales', data=data, order=['a','b','c'], ax=axis1)\n",
        "sns.barplot(x='Assortment', y='Customers', data=data, order=['a','b','c'], ax=axis2)"
      ],
      "execution_count": 50,
      "outputs": [
        {
          "output_type": "execute_result",
          "data": {
            "text/plain": [
              "<matplotlib.axes._subplots.AxesSubplot at 0x7f1019c9bf10>"
            ]
          },
          "metadata": {},
          "execution_count": 50
        },
        {
          "output_type": "display_data",
          "data": {
            "image/png": "[encoded data removed]",
            "text/plain": [
              "<Figure size 432x288 with 1 Axes>"
            ]
          },
          "metadata": {
            "needs_background": "light"
          }
        },
        {
          "output_type": "display_data",
          "data": {
            "image/png": "[encoded data removed]",
            "text/plain": [
              "<Figure size 1080x288 with 2 Axes>"
            ]
          },
          "metadata": {
            "needs_background": "light"
          }
        }
      ]
    },
    {
      "cell_type": "markdown",
      "metadata": {
        "id": "ciTd5WawmHJt"
      },
      "source": [
        "Findings:"
      ]
    },
    {
      "cell_type": "markdown",
      "metadata": {
        "id": "2semRgFwmNH2"
      },
      "source": [
        "We can clearly see here that most of the stores have either a assortment type or c assortment type.\n"
      ]
    },
    {
      "cell_type": "markdown",
      "metadata": {
        "id": "hc-UFeGKmULo"
      },
      "source": [
        "Interestingly enough assortment type B have maximum sales and customers.\n"
      ]
    },
    {
      "cell_type": "markdown",
      "metadata": {
        "id": "TzBex2iMWXAa"
      },
      "source": [
        "## 3.11. CompetitionDistance"
      ]
    },
    {
      "cell_type": "markdown",
      "metadata": {
        "id": "D1IxTU96rFvy"
      },
      "source": [
        "What we find also interesting to plot is the effect of the closest competition distance on Sales, to see whether the one with very far competition actually make more sales then the one with close competition."
      ]
    },
    {
      "cell_type": "code",
      "metadata": {
        "colab": {
          "base_uri": "https://localhost:8080/",
          "height": 518
        },
        "id": "06sJOsMOG_rn",
        "outputId": "0842b8cd-ab11-401a-b187-2669c8e86acc"
      },
      "source": [
        "# CompetitionDistance\n",
        "\n",
        "# Plot CompetitionDistance Vs Sales\n",
        "\n",
        "store.plot(kind='scatter',x='CompetitionDistance',y='AvgSales',figsize=(15,4))\n",
        "store.plot(kind='kde',x='CompetitionDistance',y='AvgSales',figsize=(15,4))"
      ],
      "execution_count": 51,
      "outputs": [
        {
          "output_type": "stream",
          "name": "stderr",
          "text": [
            "*c* argument looks like a single numeric RGB or RGBA sequence, which should be avoided as value-mapping will have precedence in case its length matches with *x* & *y*.  Please use the *color* keyword-argument or provide a 2-D array with a single row if you intend to specify the same RGB or RGBA value for all points.\n"
          ]
        },
        {
          "output_type": "execute_result",
          "data": {
            "text/plain": [
              "<matplotlib.axes._subplots.AxesSubplot at 0x7f101a4d9d10>"
            ]
          },
          "metadata": {},
          "execution_count": 51
        },
        {
          "output_type": "display_data",
          "data": {
            "image/png": "[encoded data removed]",
            "text/plain": [
              "<Figure size 1080x288 with 1 Axes>"
            ]
          },
          "metadata": {
            "needs_background": "light"
          }
        },
        {
          "output_type": "display_data",
          "data": {
            "image/png": "[encoded data removed]",
            "text/plain": [
              "<Figure size 1080x288 with 1 Axes>"
            ]
          },
          "metadata": {
            "needs_background": "light"
          }
        }
      ]
    },
    {
      "cell_type": "markdown",
      "metadata": {
        "id": "2lOUG6OTs5pZ"
      },
      "source": [
        "Findings:"
      ]
    },
    {
      "cell_type": "markdown",
      "metadata": {
        "id": "auKponwes7t5"
      },
      "source": [
        "As we can see here, like i thought, the stores that are the furthest have the highest average sales and number of customers."
      ]
    },
    {
      "cell_type": "markdown",
      "metadata": {
        "id": "Rplvv7P-s-At"
      },
      "source": [
        "This doesn't mean automatically that the furthest the better, but it does shed light on the fact that when there are no competition nearby, stores tend to sell more and have more customers because there are almost a monopoly in this region. We could think of it as McDonalds on highways where there are no other restaurants around, people who are hungry are forced to go there to eat."
      ]
    },
    {
      "cell_type": "code",
      "metadata": {
        "colab": {
          "base_uri": "https://localhost:8080/",
          "height": 347
        },
        "id": "jTRFmlWCHKeE",
        "outputId": "7e60613d-8a4b-44b2-8908-ba2bde9202d2"
      },
      "source": [
        "# What happened to the average sales of a store over time when competition started?\n",
        "# Example: the average sales for store_id = 6 has dramatically decreased since the competition started\n",
        "\n",
        "store_id = 6\n",
        "store_data = R_data[R_data[\"Store\"] == store_id]\n",
        "\n",
        "average_store_sales = store_data.groupby('Date')[\"Sales\"].mean()\n",
        "\n",
        "# Get year, and month when Competition started\n",
        "y = store[\"CompetitionOpenSinceYear\"].loc[store[\"Store\"]  == store_id].values[0]\n",
        "m = store[\"CompetitionOpenSinceMonth\"].loc[store[\"Store\"] == store_id].values[0]\n",
        "\n",
        "# Plot \n",
        "ax = average_store_sales.plot(legend=True,figsize=(15,4),marker='o')\n",
        "ax.set_xticks(range(len(average_store_sales)))\n",
        "ax.set_xticklabels(average_store_sales.index.tolist(), rotation=90)\n",
        "\n",
        "# Since all data of store sales given in rossmann_df starts with year=2013 till 2015,\n",
        "# So, we need to check if year>=2013 and y & m aren't NaN values.\n",
        "if y >= 2013 and y == y and m == m:\n",
        "    plt.axvline(x=((y-2013) * 12) + (m - 1), linewidth=3, color='grey')"
      ],
      "execution_count": 52,
      "outputs": [
        {
          "output_type": "display_data",
          "data": {
            "image/png": "[encoded data removed]",
            "text/plain": [
              "<Figure size 1080x288 with 1 Axes>"
            ]
          },
          "metadata": {
            "needs_background": "light"
          }
        }
      ]
    },
    {
      "cell_type": "markdown",
      "metadata": {
        "id": "NIUveg1heSGd"
      },
      "source": [
        "## 3.12. Sales by Season"
      ]
    },
    {
      "cell_type": "code",
      "metadata": {
        "colab": {
          "base_uri": "https://localhost:8080/"
        },
        "id": "VDpsM-e-aB99",
        "outputId": "bce4556e-082e-43a8-9fe8-1a574a300b41"
      },
      "source": [
        "data.info()"
      ],
      "execution_count": 53,
      "outputs": [
        {
          "output_type": "stream",
          "name": "stdout",
          "text": [
            "<class 'pandas.core.frame.DataFrame'>\n",
            "Int64Index: 1017209 entries, 0 to 1017208\n",
            "Data columns (total 20 columns):\n",
            " #   Column                     Non-Null Count    Dtype  \n",
            "---  ------                     --------------    -----  \n",
            " 0   Store                      1017209 non-null  int64  \n",
            " 1   DayOfWeek                  1017209 non-null  int64  \n",
            " 2   Sales                      1017209 non-null  int64  \n",
            " 3   Customers                  1017209 non-null  int64  \n",
            " 4   Promo                      1017209 non-null  int64  \n",
            " 5   StateHoliday               1017209 non-null  int64  \n",
            " 6   SchoolHoliday              1017209 non-null  int64  \n",
            " 7   Year                       1017209 non-null  int64  \n",
            " 8   Month                      1017209 non-null  int64  \n",
            " 9   Day                        1017209 non-null  int64  \n",
            " 10  WeekOfYear                 1017209 non-null  int64  \n",
            " 11  StoreType                  1017209 non-null  object \n",
            " 12  Assortment                 1017209 non-null  object \n",
            " 13  CompetitionDistance        1017209 non-null  float64\n",
            " 14  CompetitionOpenSinceMonth  693861 non-null   float64\n",
            " 15  CompetitionOpenSinceYear   693861 non-null   float64\n",
            " 16  Promo2                     1017209 non-null  int64  \n",
            " 17  Promo2SinceWeek            509178 non-null   float64\n",
            " 18  Promo2SinceYear            509178 non-null   float64\n",
            " 19  PromoInterval              509178 non-null   object \n",
            "dtypes: float64(5), int64(12), object(3)\n",
            "memory usage: 163.0+ MB\n"
          ]
        }
      ]
    },
    {
      "cell_type": "code",
      "metadata": {
        "id": "80jVTAZzfdle"
      },
      "source": [
        "# Create new column Season\n",
        "\n",
        "data['Season'] = np.where(data['Month'].isin([3,4,5]), \"Spring\",\n",
        "                 np.where(data['Month'].isin([6,7,8]), \"Summer\",\n",
        "                 np.where(data['Month'].isin([9,10,11]), \"Fall\",\n",
        "                 np.where(data['Month'].isin([12,1,2]), \"Winter\", \"None\"))))"
      ],
      "execution_count": 54,
      "outputs": []
    },
    {
      "cell_type": "code",
      "metadata": {
        "id": "8xEx0B27n9A3",
        "colab": {
          "base_uri": "https://localhost:8080/",
          "height": 316
        },
        "outputId": "34d5994d-4a9e-454c-e24a-65061080b07e"
      },
      "source": [
        "# Prepare data\n",
        "\n",
        "years = data['Year'].unique()\n",
        "\n",
        "# Draw Plot\n",
        "fig, axes = plt.subplots(1, 3, figsize=(20,7), dpi= 80)\n",
        "sns.boxplot(x='Year', y='Sales', data=data, ax=axes[0])\n",
        "sns.boxplot(x='Month', y='Sales', data=data.loc[~data.Year.isin([2013, 2015]), :])\n",
        "sns.boxplot(x='Season', y='Sales', data=data, ax=axes[1])\n",
        "\n",
        "# Set Title\n",
        "axes[0].set_title('Year-wise Box Plot', fontsize=18)\n",
        "axes[1].set_title('Season-wise Box Plot', fontsize=18)\n",
        "axes[2].set_title('Month-wise Box Plot', fontsize=18)\n",
        "plt.show()"
      ],
      "execution_count": 55,
      "outputs": [
        {
          "output_type": "display_data",
          "data": {
            "image/png": "[encoded data removed]",
            "text/plain": [
              "<Figure size 1600x560 with 3 Axes>"
            ]
          },
          "metadata": {
            "needs_background": "light"
          }
        }
      ]
    },
    {
      "cell_type": "code",
      "metadata": {
        "id": "lXlZtymX4Jsn",
        "colab": {
          "base_uri": "https://localhost:8080/",
          "height": 625
        },
        "outputId": "8d02cdf2-64c5-4584-b8a3-42e90b9d4dbc"
      },
      "source": [
        "# Sales trend over the seasons and year\n",
        "sns.factorplot(data = data, x =\"Season\", y = \"Sales\", \n",
        "               col = 'StoreType',\n",
        "               row = \"Year\")"
      ],
      "execution_count": 56,
      "outputs": [
        {
          "output_type": "execute_result",
          "data": {
            "text/plain": [
              "<seaborn.axisgrid.FacetGrid at 0x7f101a09c9d0>"
            ]
          },
          "metadata": {},
          "execution_count": 56
        },
        {
          "output_type": "display_data",
          "data": {
            "image/png": "[encoded data removed]",
            "text/plain": [
              "<Figure size 1440x1080 with 12 Axes>"
            ]
          },
          "metadata": {
            "needs_background": "light"
          }
        }
      ]
    },
    {
      "cell_type": "markdown",
      "metadata": {
        "id": "k0V16zyRHeIi"
      },
      "source": [
        "## 3.13.  Effect of Promotion on sales"
      ]
    },
    {
      "cell_type": "markdown",
      "metadata": {
        "id": "lrfvDzyeniKN"
      },
      "source": [
        "Promotion:"
      ]
    },
    {
      "cell_type": "markdown",
      "metadata": {
        "id": "IfLjB1ewnp53"
      },
      "source": [
        "Let's see how Promotion affect the overall sales of Rossman by looking at when there is and when there isn't promotion over those 3 years. This allow us first to see the impact of promotion and as well to see the evolution of sales over specific years (so trends in a given year) and the gradual increase in sales from 2013 to 2015:"
      ]
    },
    {
      "cell_type": "code",
      "metadata": {
        "colab": {
          "base_uri": "https://localhost:8080/",
          "height": 268
        },
        "id": "M75X7y4qEHGs",
        "outputId": "ad3f0fc3-b675-400d-a1fe-b667b25d415c"
      },
      "source": [
        "# Promo\n",
        "\n",
        "# Plot average sales & customers with/without promo\n",
        "fig, (axis1,axis2) = plt.subplots(1,2,figsize=(15,4))\n",
        "\n",
        "sns.barplot(x='Promo', y='Sales', data=data, ax=axis1)\n",
        "sns.barplot(x='Promo', y='Customers', data=data, ax=axis2)"
      ],
      "execution_count": 57,
      "outputs": [
        {
          "output_type": "execute_result",
          "data": {
            "text/plain": [
              "<matplotlib.axes._subplots.AxesSubplot at 0x7f101ba45fd0>"
            ]
          },
          "metadata": {},
          "execution_count": 57
        },
        {
          "output_type": "display_data",
          "data": {
            "image/png": "[encoded data removed]",
            "text/plain": [
              "<Figure size 1080x288 with 2 Axes>"
            ]
          },
          "metadata": {
            "needs_background": "light"
          }
        }
      ]
    },
    {
      "cell_type": "markdown",
      "metadata": {
        "id": "t5WcFeJXoTaG"
      },
      "source": [
        "**Finding :**"
      ]
    },
    {
      "cell_type": "markdown",
      "metadata": {
        "id": "00Fp54CvoWTa"
      },
      "source": [
        "We see the dramatic change when we compare having promotion Promo=1 to not having promotion Promo=0 and can conclude that a store that have promotion on a given day changes its amount of sales considerably."
      ]
    },
    {
      "cell_type": "markdown",
      "metadata": {
        "id": "SZ2BY8tiQSRj"
      },
      "source": [
        "### Promo2 & Promo2 Vs average sales and customers"
      ]
    },
    {
      "cell_type": "code",
      "metadata": {
        "colab": {
          "base_uri": "https://localhost:8080/",
          "height": 536
        },
        "id": "38PCpKcsG2_S",
        "outputId": "d2c8727e-a149-4433-9485-5edfe0bf6fbf"
      },
      "source": [
        "# Promo2\n",
        "\n",
        "# Plot Promo2, & Promo2 Vs average sales and customers\n",
        "\n",
        "sns.countplot(x='Promo2', data=data)\n",
        "\n",
        "fig, (axis1,axis2) = plt.subplots(1,2,figsize=(15,4))\n",
        "\n",
        "sns.barplot(x='Promo2', y='Sales', data=data, ax=axis1)\n",
        "sns.barplot(x='Promo2', y='Customers', data=data, ax=axis2)"
      ],
      "execution_count": 58,
      "outputs": [
        {
          "output_type": "execute_result",
          "data": {
            "text/plain": [
              "<matplotlib.axes._subplots.AxesSubplot at 0x7f101bd7b0d0>"
            ]
          },
          "metadata": {},
          "execution_count": 58
        },
        {
          "output_type": "display_data",
          "data": {
            "image/png": "[encoded data removed]",
            "text/plain": [
              "<Figure size 432x288 with 1 Axes>"
            ]
          },
          "metadata": {
            "needs_background": "light"
          }
        },
        {
          "output_type": "display_data",
          "data": {
            "image/png": "[encoded data removed]",
            "text/plain": [
              "<Figure size 1080x288 with 2 Axes>"
            ]
          },
          "metadata": {
            "needs_background": "light"
          }
        }
      ]
    },
    {
      "cell_type": "markdown",
      "metadata": {
        "id": "pzFg2LySpOLE"
      },
      "source": [
        "Finding :"
      ]
    },
    {
      "cell_type": "markdown",
      "metadata": {
        "id": "q2aDl2PEpPzq"
      },
      "source": [
        "Customer over promotion we understand that initially those stores suffer from low sales and those continuous promotion shows a tremending increase in the buying power of customers."
      ]
    },
    {
      "cell_type": "code",
      "metadata": {
        "id": "gK4ABkpE7rjl",
        "colab": {
          "base_uri": "https://localhost:8080/",
          "height": 513
        },
        "outputId": "19950ac6-cfff-40ce-eaef-9d08bdce4d0e"
      },
      "source": [
        "fig, axes = plt.subplots(2,1)\n",
        "fig.set_size_inches(15,9)\n",
        "sns.barplot(x= \"Promo\", y= \"Sales\", data=data ,hue=\"StoreType\", ax=axes[0])\n",
        "axes[0].set_title('Effect on sales after first promotion', fontsize=10)\n",
        "\n",
        "sns.barplot(x= \"Promo2\", y= \"Sales\", data=data ,hue=\"StoreType\", ax=axes[1])\n",
        "axes[1].set_title('Effect of sales after second promotion', fontsize=10)"
      ],
      "execution_count": 59,
      "outputs": [
        {
          "output_type": "execute_result",
          "data": {
            "text/plain": [
              "Text(0.5, 1.0, 'Effect of sales after second promotion')"
            ]
          },
          "metadata": {},
          "execution_count": 59
        },
        {
          "output_type": "display_data",
          "data": {
            "image/png": "[encoded data removed]",
            "text/plain": [
              "<Figure size 1080x648 with 2 Axes>"
            ]
          },
          "metadata": {
            "needs_background": "light"
          }
        }
      ]
    },
    {
      "cell_type": "markdown",
      "metadata": {
        "id": "GZaOqOwto95X"
      },
      "source": [
        "**Findings:**"
      ]
    },
    {
      "cell_type": "markdown",
      "metadata": {
        "id": "pjkNGAk4Hx4p"
      },
      "source": [
        "First promotion have positive effect on sales, but second promotion has negative impact on sales."
      ]
    },
    {
      "cell_type": "markdown",
      "metadata": {
        "id": "Ee5JySDxOVY-"
      },
      "source": [
        "## 3.14. Sales Distribution  - "
      ]
    },
    {
      "cell_type": "code",
      "metadata": {
        "colab": {
          "base_uri": "https://localhost:8080/"
        },
        "id": "EilSh9NOh_x-",
        "outputId": "682d2cba-14a6-42cf-b125-730ce47b4b9b"
      },
      "source": [
        "R_data.info()"
      ],
      "execution_count": 105,
      "outputs": [
        {
          "output_type": "stream",
          "name": "stdout",
          "text": [
            "<class 'pandas.core.frame.DataFrame'>\n",
            "RangeIndex: 1017209 entries, 0 to 1017208\n",
            "Data columns (total 13 columns):\n",
            " #   Column         Non-Null Count    Dtype         \n",
            "---  ------         --------------    -----         \n",
            " 0   Store          1017209 non-null  int64         \n",
            " 1   DayOfWeek      1017209 non-null  int64         \n",
            " 2   Date           1017209 non-null  datetime64[ns]\n",
            " 3   Sales          1017209 non-null  int64         \n",
            " 4   Customers      1017209 non-null  int64         \n",
            " 5   Open           1017209 non-null  int64         \n",
            " 6   Promo          1017209 non-null  int64         \n",
            " 7   StateHoliday   1017209 non-null  object        \n",
            " 8   SchoolHoliday  1017209 non-null  int64         \n",
            " 9   Year           1017209 non-null  int64         \n",
            " 10  Month          1017209 non-null  int64         \n",
            " 11  Day            1017209 non-null  int64         \n",
            " 12  WeekOfYear     1017209 non-null  int64         \n",
            "dtypes: datetime64[ns](1), int64(11), object(1)\n",
            "memory usage: 100.9+ MB\n"
          ]
        }
      ]
    },
    {
      "cell_type": "code",
      "metadata": {
        "id": "Xktn82CWOoyb",
        "colab": {
          "base_uri": "https://localhost:8080/",
          "height": 436
        },
        "outputId": "a16a098a-adf5-473a-9add-9db141b08d7a"
      },
      "source": [
        "# Sales\n",
        "\n",
        "fig, (axis1,axis2) = plt.subplots(2,1,figsize=(15,8))\n",
        "\n",
        "# Plot max, min values, & 2nd, 3rd quartile\n",
        "sns.boxplot(x= R_data[\"Customers\"], whis=np.inf, ax=axis1)\n",
        "\n",
        "# Plot sales values \n",
        "# Notice that values with 0 is mostly because the store was closed\n",
        "R_data[\"Sales\"].plot(kind='hist',bins=70,xlim=(0,15000),ax=axis2)"
      ],
      "execution_count": 108,
      "outputs": [
        {
          "output_type": "execute_result",
          "data": {
            "text/plain": [
              "<matplotlib.axes._subplots.AxesSubplot at 0x7f101ae68a10>"
            ]
          },
          "metadata": {},
          "execution_count": 108
        },
        {
          "output_type": "display_data",
          "data": {
            "image/png": "[encoded data removed]",
            "text/plain": [
              "<Figure size 1080x576 with 2 Axes>"
            ]
          },
          "metadata": {
            "needs_background": "light"
          }
        }
      ]
    },
    {
      "cell_type": "markdown",
      "metadata": {
        "id": "HGniGYwpZ1iI"
      },
      "source": [
        "## Risk Analysis"
      ]
    },
    {
      "cell_type": "code",
      "metadata": {
        "colab": {
          "base_uri": "https://localhost:8080/"
        },
        "id": "D-pb1jWAbhLQ",
        "outputId": "7039c50c-34cb-4659-dc0b-adaa34fab89c"
      },
      "source": [
        "R_data.info()"
      ],
      "execution_count": 60,
      "outputs": [
        {
          "output_type": "stream",
          "name": "stdout",
          "text": [
            "<class 'pandas.core.frame.DataFrame'>\n",
            "RangeIndex: 1017209 entries, 0 to 1017208\n",
            "Data columns (total 13 columns):\n",
            " #   Column         Non-Null Count    Dtype         \n",
            "---  ------         --------------    -----         \n",
            " 0   Store          1017209 non-null  int64         \n",
            " 1   DayOfWeek      1017209 non-null  int64         \n",
            " 2   Date           1017209 non-null  datetime64[ns]\n",
            " 3   Sales          1017209 non-null  int64         \n",
            " 4   Customers      1017209 non-null  int64         \n",
            " 5   Open           1017209 non-null  int64         \n",
            " 6   Promo          1017209 non-null  int64         \n",
            " 7   StateHoliday   1017209 non-null  object        \n",
            " 8   SchoolHoliday  1017209 non-null  int64         \n",
            " 9   Year           1017209 non-null  int64         \n",
            " 10  Month          1017209 non-null  int64         \n",
            " 11  Day            1017209 non-null  int64         \n",
            " 12  WeekOfYear     1017209 non-null  int64         \n",
            "dtypes: datetime64[ns](1), int64(11), object(1)\n",
            "memory usage: 100.9+ MB\n"
          ]
        }
      ]
    },
    {
      "cell_type": "code",
      "metadata": {
        "id": "ECtH0JmZmIJw",
        "colab": {
          "base_uri": "https://localhost:8080/",
          "height": 0
        },
        "outputId": "b67007d5-a501-495f-90a8-fe3a7498fe37"
      },
      "source": [
        "# Risk Analysis\n",
        "# Analyze the risk of a store; Risk(std) Vs Expected(mean)\n",
        "\n",
        "# .... countiue using data\n",
        "store_average = data[\"Sales\"].mean()\n",
        "store_std     = data[\"Sales\"].std()\n",
        "\n",
        "# Plot\n",
        "plt.scatter(store_average, store_std,alpha = 0.5,s =np.pi*20)\n",
        "\n",
        "# Get min & max mean and std of data sales\n",
        "std_sales = data.groupby('Store')[\"Sales\"].std()\n",
        "\n",
        "min_average = data[\"Sales\"].min()\n",
        "max_average = data[\"Sales\"].max()\n",
        "min_std     = std_sales.min()\n",
        "max_std     = std_sales.max()\n",
        "\n",
        "# Set the x and y limits of the plot\n",
        "plt.ylim([min_std, max_std])\n",
        "plt.xlim([min_average, max_average])\n",
        "\n",
        "# Set the plot axis titles\n",
        "plt.xlabel('Expected Sales')\n",
        "plt.ylabel('Risk')\n",
        "\n",
        "# Set label\n",
        "label, x, y = \"Store {}\".format(store_id), store_average, store_std\n",
        "plt.annotate(\n",
        "        label, \n",
        "        xy = (x, y), xytext = (50, 50),\n",
        "        textcoords = 'offset points', ha = 'right', va = 'bottom',\n",
        "        arrowprops = dict(arrowstyle = '-', connectionstyle = 'arc3,rad=-0.3'))"
      ],
      "execution_count": 61,
      "outputs": [
        {
          "output_type": "execute_result",
          "data": {
            "text/plain": [
              "Text(50, 50, 'Store 6')"
            ]
          },
          "metadata": {},
          "execution_count": 61
        },
        {
          "output_type": "display_data",
          "data": {
            "image/png": "[encoded data removed]",
            "text/plain": [
              "<Figure size 432x288 with 1 Axes>"
            ]
          },
          "metadata": {
            "needs_background": "light"
          }
        }
      ]
    },
    {
      "cell_type": "markdown",
      "metadata": {
        "id": "Ocv0zIi-j1qJ"
      },
      "source": [
        "#<B>4.Feature Engineering"
      ]
    },
    {
      "cell_type": "markdown",
      "metadata": {
        "id": "MpPfTOY0tsL-"
      },
      "source": [
        "Since we need numerical variables for both our correlation Analysis and to feed the  models, we need to transform what is not numerical to a numerical representation while keeping the logic behind it present."
      ]
    },
    {
      "cell_type": "markdown",
      "metadata": {
        "id": "wv-zikFLjztC"
      },
      "source": [
        "## 4.1 Remove features with high percentages of missing values"
      ]
    },
    {
      "cell_type": "markdown",
      "metadata": {
        "id": "L-LX1kTwkA4d"
      },
      "source": [
        "We can see that some features have a high percentage of missing values and they won't be accurate as indicators, so we will remove features with more than 30% missing values."
      ]
    },
    {
      "cell_type": "code",
      "metadata": {
        "id": "60wEGeYtj_yW"
      },
      "source": [
        "# remove features\n",
        "data = data.drop(['CompetitionOpenSinceMonth', 'CompetitionOpenSinceYear','Promo2SinceWeek',\n",
        "                     'Promo2SinceYear', 'PromoInterval'], axis=1)"
      ],
      "execution_count": 62,
      "outputs": []
    },
    {
      "cell_type": "code",
      "metadata": {
        "colab": {
          "base_uri": "https://localhost:8080/"
        },
        "id": "xb7HQX5TcdNA",
        "outputId": "8d23c1e6-011d-492a-f484-5329c19fff34"
      },
      "source": [
        "data.info()"
      ],
      "execution_count": 63,
      "outputs": [
        {
          "output_type": "stream",
          "name": "stdout",
          "text": [
            "<class 'pandas.core.frame.DataFrame'>\n",
            "Int64Index: 1017209 entries, 0 to 1017208\n",
            "Data columns (total 16 columns):\n",
            " #   Column               Non-Null Count    Dtype  \n",
            "---  ------               --------------    -----  \n",
            " 0   Store                1017209 non-null  int64  \n",
            " 1   DayOfWeek            1017209 non-null  int64  \n",
            " 2   Sales                1017209 non-null  int64  \n",
            " 3   Customers            1017209 non-null  int64  \n",
            " 4   Promo                1017209 non-null  int64  \n",
            " 5   StateHoliday         1017209 non-null  int64  \n",
            " 6   SchoolHoliday        1017209 non-null  int64  \n",
            " 7   Year                 1017209 non-null  int64  \n",
            " 8   Month                1017209 non-null  int64  \n",
            " 9   Day                  1017209 non-null  int64  \n",
            " 10  WeekOfYear           1017209 non-null  int64  \n",
            " 11  StoreType            1017209 non-null  object \n",
            " 12  Assortment           1017209 non-null  object \n",
            " 13  CompetitionDistance  1017209 non-null  float64\n",
            " 14  Promo2               1017209 non-null  int64  \n",
            " 15  Season               1017209 non-null  object \n",
            "dtypes: float64(1), int64(12), object(3)\n",
            "memory usage: 131.9+ MB\n"
          ]
        }
      ]
    },
    {
      "cell_type": "markdown",
      "metadata": {
        "id": "_kCHNuGikG-t"
      },
      "source": [
        "## 4.2 Drop Subsets Of Data Which Might Cause Bias"
      ]
    },
    {
      "cell_type": "code",
      "metadata": {
        "colab": {
          "base_uri": "https://localhost:8080/"
        },
        "id": "GNvTzSVhkOCo",
        "outputId": "6fa3de61-9eab-4937-f4d4-c6d533517117"
      },
      "source": [
        "# Check for Opened store with zero sales\n",
        "data[data.Sales==0]['Store'].sum()"
      ],
      "execution_count": 64,
      "outputs": [
        {
          "output_type": "execute_result",
          "data": {
            "text/plain": [
              "96543358"
            ]
          },
          "metadata": {},
          "execution_count": 64
        }
      ]
    },
    {
      "cell_type": "code",
      "metadata": {
        "colab": {
          "base_uri": "https://localhost:8080/"
        },
        "id": "OXEP9A6ykQWT",
        "outputId": "7beedcde-adc3-4587-bf95-22ff04c599d8"
      },
      "source": [
        "# percentage of open stored with zero sales\n",
        "data[data.Sales == 0]['Sales'].sum()/data.Sales.sum()"
      ],
      "execution_count": 65,
      "outputs": [
        {
          "output_type": "execute_result",
          "data": {
            "text/plain": [
              "0.0"
            ]
          },
          "metadata": {},
          "execution_count": 65
        }
      ]
    },
    {
      "cell_type": "code",
      "metadata": {
        "id": "iITzSqrKkUZO"
      },
      "source": [
        "# Remove the Stores with zero sales\n",
        "data=data[data.Sales != 0]"
      ],
      "execution_count": 66,
      "outputs": []
    },
    {
      "cell_type": "code",
      "metadata": {
        "colab": {
          "base_uri": "https://localhost:8080/"
        },
        "id": "luwl2ht-kWyy",
        "outputId": "5dc097a5-b2e5-4c55-f27b-c42880daa750"
      },
      "source": [
        "# see what variable types we have\n",
        "data.info()"
      ],
      "execution_count": 67,
      "outputs": [
        {
          "output_type": "stream",
          "name": "stdout",
          "text": [
            "<class 'pandas.core.frame.DataFrame'>\n",
            "Int64Index: 844338 entries, 0 to 1017190\n",
            "Data columns (total 16 columns):\n",
            " #   Column               Non-Null Count   Dtype  \n",
            "---  ------               --------------   -----  \n",
            " 0   Store                844338 non-null  int64  \n",
            " 1   DayOfWeek            844338 non-null  int64  \n",
            " 2   Sales                844338 non-null  int64  \n",
            " 3   Customers            844338 non-null  int64  \n",
            " 4   Promo                844338 non-null  int64  \n",
            " 5   StateHoliday         844338 non-null  int64  \n",
            " 6   SchoolHoliday        844338 non-null  int64  \n",
            " 7   Year                 844338 non-null  int64  \n",
            " 8   Month                844338 non-null  int64  \n",
            " 9   Day                  844338 non-null  int64  \n",
            " 10  WeekOfYear           844338 non-null  int64  \n",
            " 11  StoreType            844338 non-null  object \n",
            " 12  Assortment           844338 non-null  object \n",
            " 13  CompetitionDistance  844338 non-null  float64\n",
            " 14  Promo2               844338 non-null  int64  \n",
            " 15  Season               844338 non-null  object \n",
            "dtypes: float64(1), int64(12), object(3)\n",
            "memory usage: 109.5+ MB\n"
          ]
        }
      ]
    },
    {
      "cell_type": "code",
      "metadata": {
        "colab": {
          "base_uri": "https://localhost:8080/"
        },
        "id": "Uoy7-ZmFkZY8",
        "outputId": "2e020073-7c80-48d8-bbd9-d25d4507ee45"
      },
      "source": [
        "store.info()"
      ],
      "execution_count": 68,
      "outputs": [
        {
          "output_type": "stream",
          "name": "stdout",
          "text": [
            "<class 'pandas.core.frame.DataFrame'>\n",
            "RangeIndex: 1115 entries, 0 to 1114\n",
            "Data columns (total 12 columns):\n",
            " #   Column                     Non-Null Count  Dtype  \n",
            "---  ------                     --------------  -----  \n",
            " 0   Store                      1115 non-null   int64  \n",
            " 1   StoreType                  1115 non-null   object \n",
            " 2   Assortment                 1115 non-null   object \n",
            " 3   CompetitionDistance        1115 non-null   float64\n",
            " 4   CompetitionOpenSinceMonth  761 non-null    float64\n",
            " 5   CompetitionOpenSinceYear   761 non-null    float64\n",
            " 6   Promo2                     1115 non-null   int64  \n",
            " 7   Promo2SinceWeek            571 non-null    float64\n",
            " 8   Promo2SinceYear            571 non-null    float64\n",
            " 9   PromoInterval              571 non-null    object \n",
            " 10  AvgSales                   1115 non-null   float64\n",
            " 11  AvgCustomers               1115 non-null   float64\n",
            "dtypes: float64(7), int64(2), object(3)\n",
            "memory usage: 104.7+ KB\n"
          ]
        }
      ]
    },
    {
      "cell_type": "markdown",
      "metadata": {
        "id": "1DDzWZMBkiAb"
      },
      "source": [
        "## 4.3 Create new variable \"AvgSales\" create a variable that calculates monthly average sales for each store"
      ]
    },
    {
      "cell_type": "code",
      "metadata": {
        "id": "74A8qpOLkce2"
      },
      "source": [
        "# calculate weekly average sales\n",
        "sales = data[['Year','Month','Store','Sales']].groupby(['Year','Month','Store']).mean()\n",
        "sales = sales.rename(columns={'Sales':'AvgSales'})\n",
        "sales = sales.reset_index()"
      ],
      "execution_count": 69,
      "outputs": []
    },
    {
      "cell_type": "code",
      "metadata": {
        "id": "DPY35t9kklgR"
      },
      "source": [
        "data['sales_key']=data['Year'].map(str) + data['Month'].map(str) + data['Store'].map(str)\n",
        "sales['sales_key']=sales['Year'].map(str) + sales['Month'].map(str) + sales['Store'].map(str)"
      ],
      "execution_count": 70,
      "outputs": []
    },
    {
      "cell_type": "code",
      "metadata": {
        "id": "Innbj_aJkq9K"
      },
      "source": [
        "# drop extra columns\n",
        "sales = sales.drop(['Year','Month','Store'], axis=1)\n",
        "# merge\n",
        "data = pd.merge(data, sales, how='left', on=('sales_key'))"
      ],
      "execution_count": 71,
      "outputs": []
    },
    {
      "cell_type": "markdown",
      "metadata": {
        "id": "czj8-93Sk07i"
      },
      "source": [
        "Create new variable \"AvgCustomer\" create a variable that calculates Monthly average number of customers for each store, becuase daily number of customer is another variable to be predicted"
      ]
    },
    {
      "cell_type": "code",
      "metadata": {
        "id": "FZt_q7pEkw7i"
      },
      "source": [
        "# calculate weekly average\n",
        "cust = data[['Year','Month','Store','Customers']].groupby(['Year','Month', 'Store']).mean()\n",
        "cust = cust.rename(columns={'Customers':'AvgCustomer'})\n",
        "cust = cust.reset_index()\n",
        "\n",
        "data['cust_key']=data['Year'].map(str) + data['Month'].map(str) + data['Store'].map(str)\n",
        "cust['cust_key']=cust['Year'].map(str) + cust['Month'].map(str) + cust['Store'].map(str)\n",
        "\n",
        "# drop original feature Customers\n",
        "data = data.drop('Customers', axis=1)# drop extra columns\n",
        "cust = cust.drop(['Year', 'Month', 'Store'], axis=1)\n",
        "\n",
        "# merge\n",
        "data = pd.merge(data, cust, how=\"left\", on=('cust_key'))"
      ],
      "execution_count": 72,
      "outputs": []
    },
    {
      "cell_type": "markdown",
      "metadata": {
        "id": "17j2tZfslpbf"
      },
      "source": [
        "## 4.4 Transform Variable \"StateHoliday\""
      ]
    },
    {
      "cell_type": "code",
      "metadata": {
        "id": "gbIXk7yflUtW"
      },
      "source": [
        "# 0 - not a state holiday; 1- is on a state holiday\n",
        "# data['StateHoliday'] = data.StateHoliday.map({'0':0, 'a':1 ,'b' : 1,'c': 1})\n",
        "\n",
        "# drop extra columns\n",
        "data = data.drop(['cust_key','sales_key','Store','Season'], axis=1)"
      ],
      "execution_count": 73,
      "outputs": []
    },
    {
      "cell_type": "markdown",
      "metadata": {
        "id": "xMcTATcNnH8W"
      },
      "source": [
        "#<B>5. Correlation Heatmap"
      ]
    },
    {
      "cell_type": "code",
      "metadata": {
        "id": "K04dIz_WKh9Q",
        "colab": {
          "base_uri": "https://localhost:8080/",
          "height": 0
        },
        "outputId": "6db9a0e8-8883-41dd-8f42-43c243103e16"
      },
      "source": [
        "corr = data.corr()\n",
        "corr"
      ],
      "execution_count": 74,
      "outputs": [
        {
          "output_type": "execute_result",
          "data": {
            "text/html": [
              "<div>\n",
              "<style scoped>\n",
              "    .dataframe tbody tr th:only-of-type {\n",
              "        vertical-align: middle;\n",
              "    }\n",
              "\n",
              "    .dataframe tbody tr th {\n",
              "        vertical-align: top;\n",
              "    }\n",
              "\n",
              "    .dataframe thead th {\n",
              "        text-align: right;\n",
              "    }\n",
              "</style>\n",
              "<table border=\"1\" class=\"dataframe\">\n",
              "  <thead>\n",
              "    <tr style=\"text-align: right;\">\n",
              "      <th></th>\n",
              "      <th>DayOfWeek</th>\n",
              "      <th>Sales</th>\n",
              "      <th>Promo</th>\n",
              "      <th>StateHoliday</th>\n",
              "      <th>SchoolHoliday</th>\n",
              "      <th>Year</th>\n",
              "      <th>Month</th>\n",
              "      <th>Day</th>\n",
              "      <th>WeekOfYear</th>\n",
              "      <th>CompetitionDistance</th>\n",
              "      <th>Promo2</th>\n",
              "      <th>AvgSales</th>\n",
              "      <th>AvgCustomer</th>\n",
              "    </tr>\n",
              "  </thead>\n",
              "  <tbody>\n",
              "    <tr>\n",
              "      <th>DayOfWeek</th>\n",
              "      <td>1.000000</td>\n",
              "      <td>-0.178733</td>\n",
              "      <td>-0.286350</td>\n",
              "      <td>-0.002101</td>\n",
              "      <td>-0.135893</td>\n",
              "      <td>0.002316</td>\n",
              "      <td>-0.020707</td>\n",
              "      <td>0.006419</td>\n",
              "      <td>-0.011978</td>\n",
              "      <td>0.004975</td>\n",
              "      <td>-0.003150</td>\n",
              "      <td>0.001605</td>\n",
              "      <td>0.014897</td>\n",
              "    </tr>\n",
              "    <tr>\n",
              "      <th>Sales</th>\n",
              "      <td>-0.178733</td>\n",
              "      <td>1.000000</td>\n",
              "      <td>0.369741</td>\n",
              "      <td>0.019434</td>\n",
              "      <td>0.036777</td>\n",
              "      <td>0.036711</td>\n",
              "      <td>0.087562</td>\n",
              "      <td>-0.055308</td>\n",
              "      <td>0.088965</td>\n",
              "      <td>-0.032779</td>\n",
              "      <td>-0.125413</td>\n",
              "      <td>0.774885</td>\n",
              "      <td>0.644470</td>\n",
              "    </tr>\n",
              "    <tr>\n",
              "      <th>Promo</th>\n",
              "      <td>-0.286350</td>\n",
              "      <td>0.369741</td>\n",
              "      <td>1.000000</td>\n",
              "      <td>0.001268</td>\n",
              "      <td>0.017027</td>\n",
              "      <td>0.026754</td>\n",
              "      <td>0.000732</td>\n",
              "      <td>-0.132124</td>\n",
              "      <td>0.016307</td>\n",
              "      <td>-0.001701</td>\n",
              "      <td>-0.000708</td>\n",
              "      <td>0.001422</td>\n",
              "      <td>-0.005552</td>\n",
              "    </tr>\n",
              "    <tr>\n",
              "      <th>StateHoliday</th>\n",
              "      <td>-0.002101</td>\n",
              "      <td>0.019434</td>\n",
              "      <td>0.001268</td>\n",
              "      <td>1.000000</td>\n",
              "      <td>0.014592</td>\n",
              "      <td>0.002879</td>\n",
              "      <td>0.000827</td>\n",
              "      <td>-0.008347</td>\n",
              "      <td>0.000885</td>\n",
              "      <td>0.009299</td>\n",
              "      <td>-0.010480</td>\n",
              "      <td>0.019200</td>\n",
              "      <td>0.053578</td>\n",
              "    </tr>\n",
              "    <tr>\n",
              "      <th>SchoolHoliday</th>\n",
              "      <td>-0.135893</td>\n",
              "      <td>0.036777</td>\n",
              "      <td>0.017027</td>\n",
              "      <td>0.014592</td>\n",
              "      <td>1.000000</td>\n",
              "      <td>-0.031159</td>\n",
              "      <td>0.103183</td>\n",
              "      <td>0.029469</td>\n",
              "      <td>0.056861</td>\n",
              "      <td>-0.004064</td>\n",
              "      <td>-0.007698</td>\n",
              "      <td>-0.002353</td>\n",
              "      <td>-0.001876</td>\n",
              "    </tr>\n",
              "    <tr>\n",
              "      <th>Year</th>\n",
              "      <td>0.002316</td>\n",
              "      <td>0.036711</td>\n",
              "      <td>0.026754</td>\n",
              "      <td>0.002879</td>\n",
              "      <td>-0.031159</td>\n",
              "      <td>1.000000</td>\n",
              "      <td>-0.244638</td>\n",
              "      <td>0.006749</td>\n",
              "      <td>-0.230790</td>\n",
              "      <td>0.000879</td>\n",
              "      <td>-0.007467</td>\n",
              "      <td>0.045135</td>\n",
              "      <td>0.003051</td>\n",
              "    </tr>\n",
              "    <tr>\n",
              "      <th>Month</th>\n",
              "      <td>-0.020707</td>\n",
              "      <td>0.087562</td>\n",
              "      <td>0.000732</td>\n",
              "      <td>0.000827</td>\n",
              "      <td>0.103183</td>\n",
              "      <td>-0.244638</td>\n",
              "      <td>1.000000</td>\n",
              "      <td>-0.011624</td>\n",
              "      <td>0.958622</td>\n",
              "      <td>0.009890</td>\n",
              "      <td>-0.024807</td>\n",
              "      <td>0.072891</td>\n",
              "      <td>0.048639</td>\n",
              "    </tr>\n",
              "    <tr>\n",
              "      <th>Day</th>\n",
              "      <td>0.006419</td>\n",
              "      <td>-0.055308</td>\n",
              "      <td>-0.132124</td>\n",
              "      <td>-0.008347</td>\n",
              "      <td>0.029469</td>\n",
              "      <td>0.006749</td>\n",
              "      <td>-0.011624</td>\n",
              "      <td>1.000000</td>\n",
              "      <td>0.030196</td>\n",
              "      <td>-0.000527</td>\n",
              "      <td>0.001740</td>\n",
              "      <td>-0.002638</td>\n",
              "      <td>-0.002813</td>\n",
              "    </tr>\n",
              "    <tr>\n",
              "      <th>WeekOfYear</th>\n",
              "      <td>-0.011978</td>\n",
              "      <td>0.088965</td>\n",
              "      <td>0.016307</td>\n",
              "      <td>0.000885</td>\n",
              "      <td>0.056861</td>\n",
              "      <td>-0.230790</td>\n",
              "      <td>0.958622</td>\n",
              "      <td>0.030196</td>\n",
              "      <td>1.000000</td>\n",
              "      <td>0.009548</td>\n",
              "      <td>-0.023877</td>\n",
              "      <td>0.060182</td>\n",
              "      <td>0.042028</td>\n",
              "    </tr>\n",
              "    <tr>\n",
              "      <th>CompetitionDistance</th>\n",
              "      <td>0.004975</td>\n",
              "      <td>-0.032779</td>\n",
              "      <td>-0.001701</td>\n",
              "      <td>0.009299</td>\n",
              "      <td>-0.004064</td>\n",
              "      <td>0.000879</td>\n",
              "      <td>0.009890</td>\n",
              "      <td>-0.000527</td>\n",
              "      <td>0.009548</td>\n",
              "      <td>1.000000</td>\n",
              "      <td>-0.140459</td>\n",
              "      <td>-0.046165</td>\n",
              "      <td>-0.156835</td>\n",
              "    </tr>\n",
              "    <tr>\n",
              "      <th>Promo2</th>\n",
              "      <td>-0.003150</td>\n",
              "      <td>-0.125413</td>\n",
              "      <td>-0.000708</td>\n",
              "      <td>-0.010480</td>\n",
              "      <td>-0.007698</td>\n",
              "      <td>-0.007467</td>\n",
              "      <td>-0.024807</td>\n",
              "      <td>0.001740</td>\n",
              "      <td>-0.023877</td>\n",
              "      <td>-0.140459</td>\n",
              "      <td>1.000000</td>\n",
              "      <td>-0.153337</td>\n",
              "      <td>-0.213213</td>\n",
              "    </tr>\n",
              "    <tr>\n",
              "      <th>AvgSales</th>\n",
              "      <td>0.001605</td>\n",
              "      <td>0.774885</td>\n",
              "      <td>0.001422</td>\n",
              "      <td>0.019200</td>\n",
              "      <td>-0.002353</td>\n",
              "      <td>0.045135</td>\n",
              "      <td>0.072891</td>\n",
              "      <td>-0.002638</td>\n",
              "      <td>0.060182</td>\n",
              "      <td>-0.046165</td>\n",
              "      <td>-0.153337</td>\n",
              "      <td>1.000000</td>\n",
              "      <td>0.797845</td>\n",
              "    </tr>\n",
              "    <tr>\n",
              "      <th>AvgCustomer</th>\n",
              "      <td>0.014897</td>\n",
              "      <td>0.644470</td>\n",
              "      <td>-0.005552</td>\n",
              "      <td>0.053578</td>\n",
              "      <td>-0.001876</td>\n",
              "      <td>0.003051</td>\n",
              "      <td>0.048639</td>\n",
              "      <td>-0.002813</td>\n",
              "      <td>0.042028</td>\n",
              "      <td>-0.156835</td>\n",
              "      <td>-0.213213</td>\n",
              "      <td>0.797845</td>\n",
              "      <td>1.000000</td>\n",
              "    </tr>\n",
              "  </tbody>\n",
              "</table>\n",
              "</div>"
            ],
            "text/plain": [
              "                     DayOfWeek     Sales  ...  AvgSales  AvgCustomer\n",
              "DayOfWeek             1.000000 -0.178733  ...  0.001605     0.014897\n",
              "Sales                -0.178733  1.000000  ...  0.774885     0.644470\n",
              "Promo                -0.286350  0.369741  ...  0.001422    -0.005552\n",
              "StateHoliday         -0.002101  0.019434  ...  0.019200     0.053578\n",
              "SchoolHoliday        -0.135893  0.036777  ... -0.002353    -0.001876\n",
              "Year                  0.002316  0.036711  ...  0.045135     0.003051\n",
              "Month                -0.020707  0.087562  ...  0.072891     0.048639\n",
              "Day                   0.006419 -0.055308  ... -0.002638    -0.002813\n",
              "WeekOfYear           -0.011978  0.088965  ...  0.060182     0.042028\n",
              "CompetitionDistance   0.004975 -0.032779  ... -0.046165    -0.156835\n",
              "Promo2               -0.003150 -0.125413  ... -0.153337    -0.213213\n",
              "AvgSales              0.001605  0.774885  ...  1.000000     0.797845\n",
              "AvgCustomer           0.014897  0.644470  ...  0.797845     1.000000\n",
              "\n",
              "[13 rows x 13 columns]"
            ]
          },
          "metadata": {},
          "execution_count": 74
        }
      ]
    },
    {
      "cell_type": "code",
      "metadata": {
        "id": "IIVMr8sNnUNW",
        "colab": {
          "base_uri": "https://localhost:8080/",
          "height": 0
        },
        "outputId": "f71aa7e9-8073-444c-c691-6bc8a638d3a9"
      },
      "source": [
        "mask = np.zeros_like(corr, dtype = np.bool)\n",
        "mask[np.triu_indices_from(mask)] = True\n",
        "f, ax = plt.subplots(figsize = (11, 9))\n",
        "# sns.heatmap(corr, mask = mask,square = True, linewidths = .5, ax = ax, cmap = \"BuPu\")\n",
        "sns.heatmap(corr,square = True,mask=mask, linewidths = .5,ax=ax, cmap = \"BuPu\")\n",
        "plt.title(\"Correlation Heatmap\", fontsize=20)"
      ],
      "execution_count": 75,
      "outputs": [
        {
          "output_type": "execute_result",
          "data": {
            "text/plain": [
              "Text(0.5, 1.0, 'Correlation Heatmap')"
            ]
          },
          "metadata": {},
          "execution_count": 75
        },
        {
          "output_type": "display_data",
          "data": {
            "image/png": "[encoded data removed]",
            "text/plain": [
              "<Figure size 792x648 with 2 Axes>"
            ]
          },
          "metadata": {
            "needs_background": "light"
          }
        }
      ]
    },
    {
      "cell_type": "markdown",
      "metadata": {
        "id": "tZNgTzmuwXTe"
      },
      "source": [
        "### Interpretation:"
      ]
    },
    {
      "cell_type": "markdown",
      "metadata": {
        "id": "S7mDo6CBwdl0"
      },
      "source": [
        "We can first see the 0.8 between AvgCustomers and Avgsales which suggests that they are positively correlated like we stated above in the analysis."
      ]
    },
    {
      "cell_type": "markdown",
      "metadata": {
        "id": "ymhbAwaYwrSi"
      },
      "source": [
        "It's interesting to see that Sales and Promo ( more than 0.2) actually correlate positively, since running a promotion increases that number .\n"
      ]
    },
    {
      "cell_type": "markdown",
      "metadata": {
        "id": "Ntg0Fc12xH_g"
      },
      "source": [
        "Sales correlates with Competition Distance(more than 0.1), in a positive manner, like we said up the higher the competitionn distance the more sales per customer we do, which makes sense , the further our competition, the more monopolization Rossman can achieve in the region."
      ]
    },
    {
      "cell_type": "markdown",
      "metadata": {
        "id": "baF6xdbVy3bo"
      },
      "source": [
        "Additionally, the effect of promo to Sales like we said above as well(about 0.4), it did provoke a change in the buying pattern and increased it when continuous promotion were applied."
      ]
    },
    {
      "cell_type": "markdown",
      "metadata": {
        "id": "a0lOEINbzzcN"
      },
      "source": [
        "### Conclusion of Exploratory Analysis:\n"
      ]
    },
    {
      "cell_type": "markdown",
      "metadata": {
        "id": "M9E4JqeFz12A"
      },
      "source": [
        "At this stage, we got a solid understanding of the distributions, the statistical properties and the relationships of our variables. The next step is to identify what variables to model for training and to work on the modeling part of the project"
      ]
    },
    {
      "cell_type": "markdown",
      "metadata": {
        "id": "YI28vYkWo1j9"
      },
      "source": [
        "#<b>6. Encode the data"
      ]
    },
    {
      "cell_type": "code",
      "metadata": {
        "id": "IDl3wopNo4UL"
      },
      "source": [
        "from sklearn.preprocessing import LabelEncoder\n",
        "from sklearn.preprocessing import OneHotEncoder"
      ],
      "execution_count": 76,
      "outputs": []
    },
    {
      "cell_type": "code",
      "metadata": {
        "id": "c7siZXBho7iC"
      },
      "source": [
        "target = ['Sales']\n",
        "numeric_col = ['Customers', 'Open', 'Promo', 'Promo2', 'StateHoliday', 'SchoolHoliday', 'CompetitionDistance']\n",
        "categorical_col = ['DayOfWeek', 'Quarter', 'Month', 'Year', 'StoreType', 'Assortment', 'Season']"
      ],
      "execution_count": 77,
      "outputs": []
    },
    {
      "cell_type": "code",
      "metadata": {
        "id": "hNigLXX8pL9F"
      },
      "source": [
        "def create_encode(df, col):\n",
        "    le = LabelEncoder()\n",
        "    a = le.fit_transform(data[col]).reshape(-1,1)\n",
        "    ohe = OneHotEncoder(sparse=False)\n",
        "    col_names = [col+ \"_\" + str(i) for i in le.classes_]\n",
        "    return (pd.DataFrame(ohe.fit_transform(a), columns = col_names))"
      ],
      "execution_count": 78,
      "outputs": []
    },
    {
      "cell_type": "markdown",
      "metadata": {
        "id": "oH8GElcjn8Gn"
      },
      "source": [
        "#<B>7. Store Sales Prediction"
      ]
    },
    {
      "cell_type": "markdown",
      "metadata": {
        "id": "vnQLwEB6meP0"
      },
      "source": [
        "##<b> 7.1 Data Splitting "
      ]
    },
    {
      "cell_type": "code",
      "metadata": {
        "id": "doA6KBGomsR9"
      },
      "source": [
        "df = data.sample(n=50000, random_state=1)"
      ],
      "execution_count": 79,
      "outputs": []
    },
    {
      "cell_type": "code",
      "metadata": {
        "id": "TOja7Wnemzaa"
      },
      "source": [
        "# split features and labels\n",
        "X = df.drop('Sales', axis=1)\n",
        "y = df.Sales"
      ],
      "execution_count": 80,
      "outputs": []
    },
    {
      "cell_type": "code",
      "metadata": {
        "id": "xPvInXjenDGr"
      },
      "source": [
        "# get dummy variables for categorical features for linear regression\n",
        "X_dummies=X.copy()\n",
        "X_dummies = pd.get_dummies(X_dummies)"
      ],
      "execution_count": 81,
      "outputs": []
    },
    {
      "cell_type": "code",
      "metadata": {
        "id": "YPXGzSwZnbxp"
      },
      "source": [
        "# label nominal variables for tree based regression\n",
        "X_label = X.copy()\n",
        "\n",
        "from sklearn.preprocessing import LabelEncoder\n",
        "label = LabelEncoder()\n",
        "X_label.Assortment = label.fit_transform(X_label.Assortment)\n",
        "X_label.StoreType = label.fit_transform(X_label.StoreType)\n",
        "X_label.StateHoliday = label.fit_transform(X_label.StateHoliday)"
      ],
      "execution_count": 82,
      "outputs": []
    },
    {
      "cell_type": "markdown",
      "metadata": {
        "id": "18ReI2tJFvRK"
      },
      "source": [
        "Train-Test Split\n",
        "\n",
        "You now need to split our variable into training and testing sets. You'll perform this by importing train_test_split from the sklearn.model_selection library. It is usually a good practice to keep 70% of the data in your train dataset and the rest 30% in your test dataset"
      ]
    },
    {
      "cell_type": "code",
      "metadata": {
        "id": "3gqudhY8pQZ6"
      },
      "source": [
        "# split training and test datasets\n",
        "from sklearn.model_selection import train_test_split\n",
        "Xd_train, Xd_test, yd_train, yd_test = train_test_split(X, y, train_size = 0.7, test_size = 0.3, random_state = 100)\n",
        "Xd_train,Xd_test,yd_train,yd_test = train_test_split(X_dummies,y,test_size=0.3, random_state=1)\n",
        "Xl_train,Xl_test,yl_train,yl_test = train_test_split(X_label,y,test_size=0.3, random_state=1)"
      ],
      "execution_count": 83,
      "outputs": []
    },
    {
      "cell_type": "code",
      "metadata": {
        "id": "XSm2BIMLD3dJ",
        "colab": {
          "base_uri": "https://localhost:8080/",
          "height": 0
        },
        "outputId": "d1267174-39ae-4485-af49-2e8db635133d"
      },
      "source": [
        "# Let's now take a look at the train dataset\n",
        "Xd_train.head()"
      ],
      "execution_count": 84,
      "outputs": [
        {
          "output_type": "execute_result",
          "data": {
            "text/html": [
              "<div>\n",
              "<style scoped>\n",
              "    .dataframe tbody tr th:only-of-type {\n",
              "        vertical-align: middle;\n",
              "    }\n",
              "\n",
              "    .dataframe tbody tr th {\n",
              "        vertical-align: top;\n",
              "    }\n",
              "\n",
              "    .dataframe thead th {\n",
              "        text-align: right;\n",
              "    }\n",
              "</style>\n",
              "<table border=\"1\" class=\"dataframe\">\n",
              "  <thead>\n",
              "    <tr style=\"text-align: right;\">\n",
              "      <th></th>\n",
              "      <th>DayOfWeek</th>\n",
              "      <th>Promo</th>\n",
              "      <th>StateHoliday</th>\n",
              "      <th>SchoolHoliday</th>\n",
              "      <th>Year</th>\n",
              "      <th>Month</th>\n",
              "      <th>Day</th>\n",
              "      <th>WeekOfYear</th>\n",
              "      <th>CompetitionDistance</th>\n",
              "      <th>Promo2</th>\n",
              "      <th>AvgSales</th>\n",
              "      <th>AvgCustomer</th>\n",
              "      <th>StoreType_a</th>\n",
              "      <th>StoreType_b</th>\n",
              "      <th>StoreType_c</th>\n",
              "      <th>StoreType_d</th>\n",
              "      <th>Assortment_a</th>\n",
              "      <th>Assortment_b</th>\n",
              "      <th>Assortment_c</th>\n",
              "    </tr>\n",
              "  </thead>\n",
              "  <tbody>\n",
              "    <tr>\n",
              "      <th>668920</th>\n",
              "      <td>6</td>\n",
              "      <td>0</td>\n",
              "      <td>0</td>\n",
              "      <td>0</td>\n",
              "      <td>2013</td>\n",
              "      <td>8</td>\n",
              "      <td>24</td>\n",
              "      <td>34</td>\n",
              "      <td>1310.0</td>\n",
              "      <td>1</td>\n",
              "      <td>6341.592593</td>\n",
              "      <td>567.444444</td>\n",
              "      <td>1</td>\n",
              "      <td>0</td>\n",
              "      <td>0</td>\n",
              "      <td>0</td>\n",
              "      <td>1</td>\n",
              "      <td>0</td>\n",
              "      <td>0</td>\n",
              "    </tr>\n",
              "    <tr>\n",
              "      <th>37690</th>\n",
              "      <td>2</td>\n",
              "      <td>0</td>\n",
              "      <td>0</td>\n",
              "      <td>0</td>\n",
              "      <td>2015</td>\n",
              "      <td>6</td>\n",
              "      <td>23</td>\n",
              "      <td>26</td>\n",
              "      <td>560.0</td>\n",
              "      <td>1</td>\n",
              "      <td>7451.560000</td>\n",
              "      <td>756.000000</td>\n",
              "      <td>1</td>\n",
              "      <td>0</td>\n",
              "      <td>0</td>\n",
              "      <td>0</td>\n",
              "      <td>1</td>\n",
              "      <td>0</td>\n",
              "      <td>0</td>\n",
              "    </tr>\n",
              "    <tr>\n",
              "      <th>437004</th>\n",
              "      <td>6</td>\n",
              "      <td>0</td>\n",
              "      <td>0</td>\n",
              "      <td>0</td>\n",
              "      <td>2014</td>\n",
              "      <td>3</td>\n",
              "      <td>29</td>\n",
              "      <td>13</td>\n",
              "      <td>9230.0</td>\n",
              "      <td>1</td>\n",
              "      <td>6749.807692</td>\n",
              "      <td>556.961538</td>\n",
              "      <td>0</td>\n",
              "      <td>0</td>\n",
              "      <td>0</td>\n",
              "      <td>1</td>\n",
              "      <td>0</td>\n",
              "      <td>0</td>\n",
              "      <td>1</td>\n",
              "    </tr>\n",
              "    <tr>\n",
              "      <th>690799</th>\n",
              "      <td>4</td>\n",
              "      <td>1</td>\n",
              "      <td>0</td>\n",
              "      <td>1</td>\n",
              "      <td>2013</td>\n",
              "      <td>8</td>\n",
              "      <td>1</td>\n",
              "      <td>31</td>\n",
              "      <td>29910.0</td>\n",
              "      <td>0</td>\n",
              "      <td>4665.518519</td>\n",
              "      <td>539.444444</td>\n",
              "      <td>1</td>\n",
              "      <td>0</td>\n",
              "      <td>0</td>\n",
              "      <td>0</td>\n",
              "      <td>1</td>\n",
              "      <td>0</td>\n",
              "      <td>0</td>\n",
              "    </tr>\n",
              "    <tr>\n",
              "      <th>580662</th>\n",
              "      <td>4</td>\n",
              "      <td>1</td>\n",
              "      <td>0</td>\n",
              "      <td>0</td>\n",
              "      <td>2013</td>\n",
              "      <td>11</td>\n",
              "      <td>21</td>\n",
              "      <td>47</td>\n",
              "      <td>19700.0</td>\n",
              "      <td>1</td>\n",
              "      <td>6507.269231</td>\n",
              "      <td>545.807692</td>\n",
              "      <td>0</td>\n",
              "      <td>0</td>\n",
              "      <td>0</td>\n",
              "      <td>1</td>\n",
              "      <td>1</td>\n",
              "      <td>0</td>\n",
              "      <td>0</td>\n",
              "    </tr>\n",
              "  </tbody>\n",
              "</table>\n",
              "</div>"
            ],
            "text/plain": [
              "        DayOfWeek  Promo  ...  Assortment_b  Assortment_c\n",
              "668920          6      0  ...             0             0\n",
              "37690           2      0  ...             0             0\n",
              "437004          6      0  ...             0             1\n",
              "690799          4      1  ...             0             0\n",
              "580662          4      1  ...             0             0\n",
              "\n",
              "[5 rows x 19 columns]"
            ]
          },
          "metadata": {},
          "execution_count": 84
        }
      ]
    },
    {
      "cell_type": "code",
      "metadata": {
        "id": "wbqzXtqUEO74",
        "colab": {
          "base_uri": "https://localhost:8080/"
        },
        "outputId": "240116b1-2c9f-45c6-dffe-0cff54c2c3a9"
      },
      "source": [
        "yd_train.head()"
      ],
      "execution_count": 85,
      "outputs": [
        {
          "output_type": "execute_result",
          "data": {
            "text/plain": [
              "668920    3408\n",
              "37690     6194\n",
              "437004    6079\n",
              "690799    6373\n",
              "580662    7070\n",
              "Name: Sales, dtype: int64"
            ]
          },
          "metadata": {},
          "execution_count": 85
        }
      ]
    },
    {
      "cell_type": "markdown",
      "metadata": {
        "id": "ndhFbWuVrbBx"
      },
      "source": [
        "##<b> 7.2 Linear Regression"
      ]
    },
    {
      "cell_type": "markdown",
      "metadata": {
        "id": "u4mcfhi30dbN"
      },
      "source": [
        "Training with Linear Regressor:"
      ]
    },
    {
      "cell_type": "markdown",
      "metadata": {
        "id": "zXwZnQGk0gQ-"
      },
      "source": [
        "Definition:"
      ]
    },
    {
      "cell_type": "markdown",
      "metadata": {
        "id": "7snEle4y0i34"
      },
      "source": [
        "Its advantages:"
      ]
    },
    {
      "cell_type": "markdown",
      "metadata": {
        "id": "j-Itrzgv0k-2"
      },
      "source": [
        "Its Disadvantages:"
      ]
    },
    {
      "cell_type": "code",
      "metadata": {
        "id": "MI8FugNCbBeK"
      },
      "source": [
        "from sklearn.linear_model import LinearRegression\n",
        "lin= LinearRegression()\n",
        "linreg = lin.fit(Xd_train, yd_train)"
      ],
      "execution_count": 86,
      "outputs": []
    },
    {
      "cell_type": "code",
      "metadata": {
        "id": "DN5YPeypbD-m",
        "colab": {
          "base_uri": "https://localhost:8080/"
        },
        "outputId": "797bb766-269a-4365-c34d-b6de7a053509"
      },
      "source": [
        "# definte RMSE function\n",
        "from sklearn.metrics import mean_squared_error\n",
        "from math import sqrt\n",
        "\n",
        "def rmse(x, y):\n",
        "    return sqrt(mean_squared_error(x, y))\n",
        "\n",
        "# definte MAPE function\n",
        "def mape(x, y): \n",
        "    return np.mean(np.abs((x - y) / x)) * 100  \n",
        "  \n",
        "# get cross validation scores \n",
        "yd_predicted = linreg.predict(Xd_train)\n",
        "yd_test_predicted = linreg.predict(Xd_test)\n",
        "\n",
        "print(\"Regresion Model Score\" , \":\" , linreg.score(Xd_train, yd_train) , \",\" ,\n",
        "      \"Out of Sample Test Score\" ,\":\" , linreg.score(Xd_test, yd_test))\n",
        "print(\"Training RMSE\", \":\", rmse(yd_train, yd_predicted),\n",
        "      \"Testing RMSE\", \":\", rmse(yd_test, yd_test_predicted))\n",
        "print(\"Training MAPE\", \":\", mape(yd_train, yd_predicted),\n",
        "      \"Testing MAPE\", \":\", mape(yd_test, yd_test_predicted))"
      ],
      "execution_count": 87,
      "outputs": [
        {
          "output_type": "stream",
          "name": "stdout",
          "text": [
            "Regresion Model Score : 0.7534426463092014 , Out of Sample Test Score : 0.7374031695181285\n",
            "Training RMSE : 1558.666986443433 Testing RMSE : 1569.7998978110754\n",
            "Training MAPE : 16.994613661283044 Testing MAPE : 17.223983944754266\n"
          ]
        }
      ]
    },
    {
      "cell_type": "markdown",
      "metadata": {
        "id": "HY9kl4VbEt9t"
      },
      "source": [
        "Need to import the statsmodel.api library using which will help to perform the linear regression."
      ]
    },
    {
      "cell_type": "code",
      "metadata": {
        "id": "rh1aWhuyFAFp"
      },
      "source": [
        "import statsmodels.api as sm"
      ],
      "execution_count": 88,
      "outputs": []
    },
    {
      "cell_type": "markdown",
      "metadata": {
        "id": "dok6aIrBFBH6"
      },
      "source": [
        "By default, the statsmodels library fits a line on the dataset which passes through the origin. But in order to have an intercept, you need to manually use the add_constant attribute of statsmodels. And once you've added the constant to your Xd_train dataset, you can go ahead and fit a regression line using the OLS (Ordinary Least Squares) attribute of statsmodels as shown below"
      ]
    },
    {
      "cell_type": "code",
      "metadata": {
        "id": "B4wJl9YipZlu"
      },
      "source": [
        "# Add a constant to get an intercept\n",
        "Xd_train_sm = sm.add_constant(Xd_train)\n",
        "\n",
        "# Fit the resgression line using 'OLS'\n",
        "lr = sm.OLS(yd_train, Xd_train_sm).fit()"
      ],
      "execution_count": 89,
      "outputs": []
    },
    {
      "cell_type": "code",
      "metadata": {
        "id": "wTtMHJ3iGSjC",
        "colab": {
          "base_uri": "https://localhost:8080/"
        },
        "outputId": "ec73ea7a-251e-44d8-fc68-8632f2b431d9"
      },
      "source": [
        "# Print the parameters, i.e. the intercept and the slope of the regression line fitted\n",
        "lr.params"
      ],
      "execution_count": 90,
      "outputs": [
        {
          "output_type": "execute_result",
          "data": {
            "text/plain": [
              "const                 -15602.042781\n",
              "DayOfWeek               -143.316484\n",
              "Promo                   2162.113987\n",
              "StateHoliday            -427.226558\n",
              "SchoolHoliday            190.833290\n",
              "Year                      11.950262\n",
              "Month                    -74.954386\n",
              "Day                       -3.782284\n",
              "WeekOfYear                24.282954\n",
              "CompetitionDistance        0.006542\n",
              "Promo2                    29.806530\n",
              "AvgSales                   0.847149\n",
              "AvgCustomer                1.052652\n",
              "StoreType_a            -3910.319473\n",
              "StoreType_b            -3972.876704\n",
              "StoreType_c            -3928.478568\n",
              "StoreType_d            -3790.368036\n",
              "Assortment_a           -4960.196464\n",
              "Assortment_b           -5776.639295\n",
              "Assortment_c           -4865.207021\n",
              "dtype: float64"
            ]
          },
          "metadata": {},
          "execution_count": 90
        }
      ]
    },
    {
      "cell_type": "code",
      "metadata": {
        "id": "tWXVjBVfGSk2",
        "colab": {
          "base_uri": "https://localhost:8080/"
        },
        "outputId": "b780c907-2271-4a31-80b1-363c5174f8c7"
      },
      "source": [
        "# Performing a summary operation lists out all the different parameters of the regression line fitted\n",
        "print(lr.summary())"
      ],
      "execution_count": 91,
      "outputs": [
        {
          "output_type": "stream",
          "name": "stdout",
          "text": [
            "                            OLS Regression Results                            \n",
            "==============================================================================\n",
            "Dep. Variable:                  Sales   R-squared:                       0.753\n",
            "Model:                            OLS   Adj. R-squared:                  0.753\n",
            "Method:                 Least Squares   F-statistic:                     6288.\n",
            "Date:                Wed, 27 Oct 2021   Prob (F-statistic):               0.00\n",
            "Time:                        19:28:50   Log-Likelihood:            -3.0697e+05\n",
            "No. Observations:               35000   AIC:                         6.140e+05\n",
            "Df Residuals:                   34982   BIC:                         6.141e+05\n",
            "Df Model:                          17                                         \n",
            "Covariance Type:            nonrobust                                         \n",
            "=======================================================================================\n",
            "                          coef    std err          t      P>|t|      [0.025      0.975]\n",
            "---------------------------------------------------------------------------------------\n",
            "const                -1.56e+04   1.44e+04     -1.085      0.278   -4.38e+04    1.26e+04\n",
            "DayOfWeek            -143.3165      5.085    -28.183      0.000    -153.284    -133.349\n",
            "Promo                2162.1140     17.784    121.577      0.000    2127.257    2196.971\n",
            "StateHoliday         -427.2266    257.817     -1.657      0.098    -932.556      78.103\n",
            "SchoolHoliday         190.8333     21.838      8.739      0.000     148.030     233.636\n",
            "Year                   11.9503     11.299      1.058      0.290     -10.197      34.097\n",
            "Month                 -74.9544      8.517     -8.800      0.000     -91.649     -58.260\n",
            "Day                    -3.7823      0.979     -3.863      0.000      -5.701      -1.863\n",
            "WeekOfYear             24.2830      1.955     12.424      0.000      20.452      28.114\n",
            "CompetitionDistance     0.0065      0.001      5.852      0.000       0.004       0.009\n",
            "Promo2                 29.8065     17.466      1.707      0.088      -4.427      64.040\n",
            "AvgSales                0.8471      0.007    127.232      0.000       0.834       0.860\n",
            "AvgCustomer             1.0527      0.052     20.289      0.000       0.951       1.154\n",
            "StoreType_a         -3910.3195   3593.103     -1.088      0.276    -1.1e+04    3132.277\n",
            "StoreType_b         -3972.8767   3595.711     -1.105      0.269    -1.1e+04    3074.832\n",
            "StoreType_c         -3928.4786   3593.304     -1.093      0.274    -1.1e+04    3114.512\n",
            "StoreType_d         -3790.3680   3592.279     -1.055      0.291   -1.08e+04    3250.613\n",
            "Assortment_a        -4960.1965   4790.600     -1.035      0.300   -1.43e+04    4429.533\n",
            "Assortment_b        -5776.6393   4793.289     -1.205      0.228   -1.52e+04    3618.360\n",
            "Assortment_c        -4865.2070   4790.606     -1.016      0.310   -1.43e+04    4524.534\n",
            "==============================================================================\n",
            "Omnibus:                    10179.428   Durbin-Watson:                   2.017\n",
            "Prob(Omnibus):                  0.000   Jarque-Bera (JB):           120570.568\n",
            "Skew:                           1.060   Prob(JB):                         0.00\n",
            "Kurtosis:                      11.842   Cond. No.                     1.02e+20\n",
            "==============================================================================\n",
            "\n",
            "Warnings:\n",
            "[1] Standard Errors assume that the covariance matrix of the errors is correctly specified.\n",
            "[2] The smallest eigenvalue is 3.99e-28. This might indicate that there are\n",
            "strong multicollinearity problems or that the design matrix is singular.\n"
          ]
        }
      ]
    },
    {
      "cell_type": "markdown",
      "metadata": {
        "id": "oXL7hUKONd-c"
      },
      "source": [
        "<B>Looking at some key statistics from the summary"
      ]
    },
    {
      "cell_type": "markdown",
      "metadata": {
        "id": "dAZiNP7vNhOy"
      },
      "source": [
        "The values we are concerned with are -\n",
        "\n",
        "1. The coefficients and significance (p-values)\n",
        "2. R-squared\n",
        "3. F statistic and its significance"
      ]
    },
    {
      "cell_type": "markdown",
      "metadata": {
        "id": "jdPHuO63Nvf8"
      },
      "source": [
        "1. The coefficient for Average sales is 0.8472, with a very low p value."
      ]
    },
    {
      "cell_type": "markdown",
      "metadata": {
        "id": "nmnk_miNOIzJ"
      },
      "source": [
        "2. R - squared is 0.753\n",
        "Meaning that 75.3% of the variance in Sales\n",
        "This is a decent R-squared value."
      ]
    },
    {
      "cell_type": "markdown",
      "metadata": {
        "id": "JM_T2EP9OsAb"
      },
      "source": [
        "3. F statistic has a very low p value (practically low)\n",
        "Meaning that the model fit is statistically significant, and the explained variance isn't purely by chance."
      ]
    },
    {
      "cell_type": "markdown",
      "metadata": {
        "id": "czWh0Pk1rw0s"
      },
      "source": [
        "##<b> 7.3 Bayesian Ridge Regression"
      ]
    },
    {
      "cell_type": "code",
      "metadata": {
        "id": "gUDv003c8aI4"
      },
      "source": [
        "from sklearn.linear_model import BayesianRidge\n",
        "rdg = BayesianRidge()\n",
        "rdgreg = rdg.fit(Xd_train, yd_train)"
      ],
      "execution_count": 92,
      "outputs": []
    },
    {
      "cell_type": "code",
      "metadata": {
        "colab": {
          "base_uri": "https://localhost:8080/"
        },
        "id": "89qT6csO9Ja0",
        "outputId": "fbac5fb1-d323-410b-ecc0-946321915870"
      },
      "source": [
        "# validation\n",
        "print(\"Regresion Model Score\" , \":\" , rdgreg.score(Xd_train, yd_train) , \",\" ,\n",
        "      \"Out of Sample Test Score\" ,\":\" , rdgreg.score(Xd_test, yd_test))\n",
        "\n",
        "yd_predicted = rdgreg.predict(Xd_train)\n",
        "yd_test_predicted = rdgreg.predict(Xd_test)\n",
        "\n",
        "print(\"Training RMSE\", \":\", rmse(yd_train, yd_predicted),\n",
        "      \"Testing RMSE\", \":\", rmse(yd_test, yd_test_predicted))\n",
        "print(\"Training MAPE\", \":\", mape(yd_train, yd_predicted),\n",
        "      \"Testing MAPE\", \":\", mape(yd_test, yd_test_predicted))"
      ],
      "execution_count": 93,
      "outputs": [
        {
          "output_type": "stream",
          "name": "stdout",
          "text": [
            "Regresion Model Score : 0.7534416656134255 , Out of Sample Test Score : 0.7373596254116661\n",
            "Training RMSE : 1558.6700862832608 Testing RMSE : 1569.9300454223128\n",
            "Training MAPE : 16.994522837437685 Testing MAPE : 17.223700672394976\n"
          ]
        }
      ]
    },
    {
      "cell_type": "markdown",
      "metadata": {
        "id": "OyEvOO4hr7WP"
      },
      "source": [
        "##<b> 7.4 LARS Lasso Regression\n",
        "\n",
        "\n"
      ]
    },
    {
      "cell_type": "code",
      "metadata": {
        "id": "UQdQOSX990RY"
      },
      "source": [
        "from sklearn.linear_model import LassoLars\n",
        "las = LassoLars(alpha=0.3, fit_intercept=False, normalize=True)\n",
        "lasreg = las.fit(Xd_train, yd_train)"
      ],
      "execution_count": 94,
      "outputs": []
    },
    {
      "cell_type": "code",
      "metadata": {
        "colab": {
          "base_uri": "https://localhost:8080/"
        },
        "id": "oFaIX60095eJ",
        "outputId": "84be87f5-4de5-49a1-b787-164f442c50d6"
      },
      "source": [
        "print(\"Regresion Model Score\" , \":\" , lasreg.score(Xd_train, yd_train) , \",\" ,\n",
        "      \"Out of Sample Test Score\" ,\":\" , lasreg.score(Xd_test, yd_test))\n",
        "\n",
        "yd_predicted = lasreg.predict(Xd_train)\n",
        "yd_test_predicted = lasreg.predict(Xd_test)\n",
        "\n",
        "print(\"Training RMSE\", \":\", rmse(yd_train, yd_predicted),\n",
        "      \"Testing RMSE\", \":\", rmse(yd_test, yd_test_predicted))\n",
        "print(\"Training MAPE\", \":\", mape(yd_train, yd_predicted),\n",
        "      \"Testing MAPE\", \":\", mape(yd_test, yd_test_predicted))"
      ],
      "execution_count": 95,
      "outputs": [
        {
          "output_type": "stream",
          "name": "stdout",
          "text": [
            "Regresion Model Score : 0.7534242474036914 , Out of Sample Test Score : 0.7372795308701507\n",
            "Training RMSE : 1558.7251417391258 Testing RMSE : 1570.1694093096376\n",
            "Training MAPE : 16.99560177298277 Testing MAPE : 17.223041874173248\n"
          ]
        }
      ]
    },
    {
      "cell_type": "markdown",
      "metadata": {
        "id": "5Clw9vgvJOKj"
      },
      "source": [
        "##<b> 7.5 K-Nearest Neighbor Regression"
      ]
    },
    {
      "cell_type": "code",
      "metadata": {
        "id": "opsQtqK9JMiL"
      },
      "source": [
        "from sklearn.neighbors import KNeighborsRegressor\n",
        "knn = KNeighborsRegressor(n_neighbors = 30)\n",
        "knnreg = knn.fit(Xd_train, yd_train)"
      ],
      "execution_count": 96,
      "outputs": []
    },
    {
      "cell_type": "code",
      "metadata": {
        "colab": {
          "base_uri": "https://localhost:8080/"
        },
        "id": "5IDqSAsQJi5-",
        "outputId": "34357bd2-6852-4236-8546-3569ef7e2603"
      },
      "source": [
        "print(\"Regresion Model Score\" , \":\" , knnreg.score(Xd_train, yd_train) , \",\" ,\n",
        "      \"Out of Sample Test Score\" ,\":\" , knnreg.score(Xd_test, yd_test))\n",
        "\n",
        "yd_predicted = knnreg.predict(Xd_train)\n",
        "yd_test_predicted = knnreg.predict(Xd_test)\n",
        "\n",
        "print(\"Training RMSE\", \":\", rmse(yd_train, yd_predicted),\n",
        "      \"Testing RMSE\", \":\", rmse(yd_test, yd_test_predicted))\n",
        "print(\"Training MAPE\", \":\", mape(yd_train, yd_predicted),\n",
        "      \"Testing MAPE\", \":\", mape(yd_test, yd_test_predicted))"
      ],
      "execution_count": 97,
      "outputs": [
        {
          "output_type": "stream",
          "name": "stdout",
          "text": [
            "Regresion Model Score : 0.6275761316749886 , Out of Sample Test Score : 0.57616778527949\n",
            "Training RMSE : 1915.6365301074293 Testing RMSE : 1994.3277777509113\n",
            "Training MAPE : 22.923501535229647 Testing MAPE : 23.86797893442435\n"
          ]
        }
      ]
    },
    {
      "cell_type": "code",
      "metadata": {
        "colab": {
          "base_uri": "https://localhost:8080/"
        },
        "id": "j9i6JDSKJ0rg",
        "outputId": "0811aa2b-f9bd-470b-d973-c03547cbbbb8"
      },
      "source": [
        "for x in range(1,30):\n",
        "    knn = KNeighborsRegressor(n_neighbors = x)\n",
        "    knnreg = knn.fit(Xd_train, yd_train)\n",
        "    print(\"Regresion Model Score\" , \":\" , knnreg.score(Xd_train, yd_train) , \",\" ,\n",
        "      \"Out of Sample Test Score\" ,\":\" , knnreg.score(Xd_test, yd_test))"
      ],
      "execution_count": 98,
      "outputs": [
        {
          "output_type": "stream",
          "name": "stdout",
          "text": [
            "Regresion Model Score : 1.0 , Out of Sample Test Score : 0.2568662059879595\n",
            "Regresion Model Score : 0.8260507138458782 , Out of Sample Test Score : 0.42427432580945346\n",
            "Regresion Model Score : 0.7624912347255007 , Out of Sample Test Score : 0.4862514313830809\n",
            "Regresion Model Score : 0.7295685142655963 , Out of Sample Test Score : 0.5118785656033964\n",
            "Regresion Model Score : 0.7083883488235312 , Out of Sample Test Score : 0.5316238924579666\n",
            "Regresion Model Score : 0.6921137957106409 , Out of Sample Test Score : 0.5420025256528676\n",
            "Regresion Model Score : 0.6819028242731748 , Out of Sample Test Score : 0.5474864389769398\n",
            "Regresion Model Score : 0.6737819470988362 , Out of Sample Test Score : 0.5529378320048752\n",
            "Regresion Model Score : 0.6679587864018279 , Out of Sample Test Score : 0.5579367597393575\n",
            "Regresion Model Score : 0.6616134612124918 , Out of Sample Test Score : 0.5618922745198187\n",
            "Regresion Model Score : 0.6561654273732106 , Out of Sample Test Score : 0.5635035948021927\n",
            "Regresion Model Score : 0.6527994283993193 , Out of Sample Test Score : 0.5647340318516396\n",
            "Regresion Model Score : 0.6487506044628768 , Out of Sample Test Score : 0.56602121903056\n",
            "Regresion Model Score : 0.6465224332458704 , Out of Sample Test Score : 0.5674688574381496\n",
            "Regresion Model Score : 0.6448011738994288 , Out of Sample Test Score : 0.568632744624473\n",
            "Regresion Model Score : 0.642849183474562 , Out of Sample Test Score : 0.5690463025334371\n",
            "Regresion Model Score : 0.641416015328421 , Out of Sample Test Score : 0.5693585771574865\n",
            "Regresion Model Score : 0.6393603918961435 , Out of Sample Test Score : 0.5699899508374827\n",
            "Regresion Model Score : 0.6377691326719057 , Out of Sample Test Score : 0.5706853328489063\n",
            "Regresion Model Score : 0.6368142604794074 , Out of Sample Test Score : 0.5716304884812591\n",
            "Regresion Model Score : 0.6353622705638369 , Out of Sample Test Score : 0.5719169661460451\n",
            "Regresion Model Score : 0.6341828340779998 , Out of Sample Test Score : 0.5723251869898289\n",
            "Regresion Model Score : 0.6332905256528526 , Out of Sample Test Score : 0.5726272950587877\n",
            "Regresion Model Score : 0.632542112126224 , Out of Sample Test Score : 0.5735598506167006\n",
            "Regresion Model Score : 0.6315180867456718 , Out of Sample Test Score : 0.5744640902247218\n",
            "Regresion Model Score : 0.6306144737720369 , Out of Sample Test Score : 0.5752564206976745\n",
            "Regresion Model Score : 0.629828623269975 , Out of Sample Test Score : 0.5753351899630026\n",
            "Regresion Model Score : 0.6289146309896454 , Out of Sample Test Score : 0.5759242084628009\n",
            "Regresion Model Score : 0.6282235399964327 , Out of Sample Test Score : 0.5763353782894469\n"
          ]
        }
      ]
    },
    {
      "cell_type": "markdown",
      "metadata": {
        "id": "o4kiTUOV_Snx"
      },
      "source": [
        "## **7.6 Decison Tree Regression**"
      ]
    },
    {
      "cell_type": "code",
      "metadata": {
        "id": "0xpAnjIr_Z9Y"
      },
      "source": [
        "from sklearn.tree import DecisionTreeRegressor\n",
        "tree = DecisionTreeRegressor(min_samples_leaf=20)\n",
        "treereg = tree.fit(Xd_train, yd_train)"
      ],
      "execution_count": 99,
      "outputs": []
    },
    {
      "cell_type": "code",
      "metadata": {
        "colab": {
          "base_uri": "https://localhost:8080/"
        },
        "id": "-d3Mz6s0_1r8",
        "outputId": "00672228-4852-4879-c9ef-c991d4ae457b"
      },
      "source": [
        "print(\"Regresion Model Score\" , \":\" , treereg.score(Xd_train, yd_train) , \",\" ,\n",
        "      \"Out of Sample Test Score\" ,\":\" , treereg.score(Xd_test, yd_test))\n",
        "\n",
        "yd_predicted = treereg.predict(Xd_train)\n",
        "yd_test_predicted = treereg.predict(Xd_test)\n",
        "print(\"Training RMSE\", \":\", rmse(yd_train, yd_predicted),\n",
        "      \"Testing RMSE\", \":\", rmse(yd_test, yd_test_predicted))\n",
        "print(\"Training MAPE\", \":\", mape(yd_train, yd_predicted),\n",
        "      \"Testing MAPE\", \":\", mape(yd_test, yd_test_predicted))"
      ],
      "execution_count": 100,
      "outputs": [
        {
          "output_type": "stream",
          "name": "stdout",
          "text": [
            "Regresion Model Score : 0.854477787801514 , Out of Sample Test Score : 0.7913013916201115\n",
            "Training RMSE : 1197.4544462444844 Testing RMSE : 1399.4562727891573\n",
            "Training MAPE : 12.474392715790573 Testing MAPE : 14.703443980495573\n"
          ]
        }
      ]
    },
    {
      "cell_type": "markdown",
      "metadata": {
        "id": "5IMf4JjiAxwF"
      },
      "source": [
        "## **7.7 Random Forest Regression**"
      ]
    },
    {
      "cell_type": "code",
      "metadata": {
        "id": "rXt4lS3NA2iM"
      },
      "source": [
        "from sklearn.ensemble import RandomForestRegressor\n",
        "rdf = RandomForestRegressor(n_estimators=30)\n",
        "rdfreg = rdf.fit(Xd_train, yd_train)"
      ],
      "execution_count": 101,
      "outputs": []
    },
    {
      "cell_type": "code",
      "metadata": {
        "colab": {
          "base_uri": "https://localhost:8080/"
        },
        "id": "SSA9st6UBNL7",
        "outputId": "d79598f5-624e-4402-b746-4f956a1dbc86"
      },
      "source": [
        "print(\"Regresion Model Score\" , \":\" , rdfreg.score(Xd_train, yd_train) , \",\" ,\n",
        "      \"Out of Sample Test Score\" ,\":\" , rdfreg.score(Xd_test, yd_test))   \n",
        "\n",
        "yl_predicted = rdfreg.predict(Xd_train)\n",
        "yl_test_predicted = rdfreg.predict(Xd_test)\n",
        "\n",
        "print(\"Training RMSE\", \":\", rmse(yd_train, yd_predicted),\n",
        "      \"Testing RMSE\", \":\", rmse(yd_test, yd_test_predicted))\n",
        "print(\"Training MAPE\", \":\", mape(yd_train, yd_predicted),\n",
        "      \"Testing MAPE\", \":\", mape(yd_test, yd_test_predicted))"
      ],
      "execution_count": 102,
      "outputs": [
        {
          "output_type": "stream",
          "name": "stdout",
          "text": [
            "Regresion Model Score : 0.9783844556686256 , Out of Sample Test Score : 0.8418746931909753\n",
            "Training RMSE : 1197.4544462444844 Testing RMSE : 1399.4562727891573\n",
            "Training MAPE : 12.474392715790573 Testing MAPE : 14.703443980495573\n"
          ]
        }
      ]
    },
    {
      "cell_type": "markdown",
      "metadata": {
        "id": "6hTN5LrLKY6o"
      },
      "source": [
        "# Feature Importance"
      ]
    },
    {
      "cell_type": "code",
      "metadata": {
        "id": "ILpzuMP6Lj4w"
      },
      "source": [
        "from sklearn.ensemble import RandomForestRegressor\n",
        "rdf = RandomForestRegressor(n_estimators=30)\n",
        "rdfreg = rdf.fit(Xl_train, yl_train)"
      ],
      "execution_count": 103,
      "outputs": []
    },
    {
      "cell_type": "code",
      "metadata": {
        "colab": {
          "base_uri": "https://localhost:8080/",
          "height": 649
        },
        "id": "8-yiIqJXKGsF",
        "outputId": "1c742860-1beb-464c-846e-ce2fe675cec4"
      },
      "source": [
        "features = Xl_train.columns\n",
        "importances = rdfreg.feature_importances_\n",
        "indices = np.argsort(importances)\n",
        "plt.figure(figsize=(8,10))\n",
        "plt.title('Feature Importances', fontsize=20)\n",
        "plt.barh(range(len(indices)), importances[indices], color='pink', align='center')\n",
        "plt.yticks(range(len(indices)), features[indices])\n",
        "plt.xlabel('Relative Importance')"
      ],
      "execution_count": 104,
      "outputs": [
        {
          "output_type": "execute_result",
          "data": {
            "text/plain": [
              "Text(0.5, 0, 'Relative Importance')"
            ]
          },
          "metadata": {},
          "execution_count": 104
        },
        {
          "output_type": "display_data",
          "data": {
            "image/png": "[encoded data removed]",
            "text/plain": [
              "<Figure size 576x720 with 1 Axes>"
            ]
          },
          "metadata": {
            "needs_background": "light"
          }
        }
      ]
    },
    {
      "cell_type": "markdown",
      "metadata": {
        "id": "pCZR9HeR1nyz"
      },
      "source": [
        "Findings:"
      ]
    },
    {
      "cell_type": "markdown",
      "metadata": {
        "id": "4YEIZor_1luq"
      },
      "source": [
        "\n",
        "\n",
        "Our top 5 most important variables are:\n",
        "\n",
        "1-Competitor Distance: This indeed impacts a lot the sales of a store like we saw previously in our EDA,when competition is very far stores tend to sell a lot more.\n",
        "\n",
        "2-Promo: Promotion is primordial for a store to increase its sales, it allows price breaking and thus more customers intersted in buying.\n",
        "\n",
        "3-Store: The Store itself represents a unique identificator for the algorithm to recognise which store has what attributes and indeed better accounts for the forecasting of those same stores in a future timeline.\n",
        "\n",
        "4-CompetitionOpenSince: The merging of this variable paid out and allowed us to give more accurate predicitions of the sales based on the time of opening of those competitors.\n",
        "\n",
        "5-DayofWeek: Like we said, during a week , the pattern varies a lot if it's a sunday or a monday (like we saw in our EDA) for instance and each day in the week has his own attributes and properties that allow to know how much are we going to sell.\n",
        "\n"
      ]
    },
    {
      "cell_type": "code",
      "metadata": {
        "id": "i1yhj7fJK7eu"
      },
      "source": [
        ""
      ],
      "execution_count": 104,
      "outputs": []
    }
  ]
}