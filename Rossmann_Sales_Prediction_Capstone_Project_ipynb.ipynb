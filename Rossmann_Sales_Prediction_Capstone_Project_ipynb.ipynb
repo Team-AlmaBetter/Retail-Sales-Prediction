{
  "nbformat": 4,
  "nbformat_minor": 0,
  "metadata": {
    "kernelspec": {
      "display_name": "Python 3",
      "language": "python",
      "name": "python3"
    },
    "language_info": {
      "codemirror_mode": {
        "name": "ipython",
        "version": 3
      },
      "file_extension": ".py",
      "mimetype": "text/x-python",
      "name": "python",
      "nbconvert_exporter": "python",
      "pygments_lexer": "ipython3",
      "version": "3.6.6"
    },
    "colab": {
      "name": "Rossmann Sales Prediction - Capstone Project.ipynb.ipynb",
      "provenance": [],
      "collapsed_sections": [
        "Y06xIdG26kRF",
        "WWeU1f9bwqQq"
      ],
      "include_colab_link": true
    }
  },
  "cells": [
    {
      "cell_type": "markdown",
      "metadata": {
        "id": "view-in-github",
        "colab_type": "text"
      },
      "source": [
        "<a href=\"https://colab.research.google.com/github/Team-AlmaBetter/Retail-Sales-Prediction/blob/main/Rossmann_Sales_Prediction_Capstone_Project_ipynb.ipynb\" target=\"_parent\"><img src=\"https://colab.research.google.com/assets/colab-badge.svg\" alt=\"Open In Colab\"/></a>"
      ]
    },
    {
      "cell_type": "markdown",
      "metadata": {
        "id": "tOGC-qoyhJeX"
      },
      "source": [
        "# <b><u> Project Title : Sales Prediction : Predicting sales of a major store chain Rossmann</u></b>"
      ]
    },
    {
      "cell_type": "markdown",
      "metadata": {
        "id": "Y06xIdG26kRF"
      },
      "source": [
        "## <b> Problem Description </b>\n",
        "\n",
        "### Rossmann operates over 3,000 drug stores in 7 European countries. Currently, Rossmann store managers are tasked with predicting their daily sales for up to six weeks in advance. Store sales are influenced by many factors, including promotions, competition, school and state holidays, seasonality, and locality. With thousands of individual managers predicting sales based on their unique circumstances, the accuracy of results can be quite varied.\n",
        "\n",
        "### You are provided with historical sales data for 1,115 Rossmann stores. The task is to forecast the \"Sales\" column for the test set. Note that some stores in the dataset were temporarily closed for refurbishment."
      ]
    },
    {
      "cell_type": "markdown",
      "metadata": {
        "id": "WWeU1f9bwqQq"
      },
      "source": [
        "## <b> Data Description </b>\n",
        "\n",
        "### <b>Rossmann Stores Data.csv </b> - historical data including Sales\n",
        "### <b>store.csv </b> - supplemental information about the stores\n",
        "\n",
        "\n",
        "### <b><u>Data fields</u></b>\n",
        "### Most of the fields are self-explanatory. The following are descriptions for those that aren't.\n",
        "\n",
        "* #### Id - an Id that represents a (Store, Date) duple within the test set\n",
        "* #### Store - a unique Id for each store\n",
        "* #### Sales - the turnover for any given day (this is what you are predicting)\n",
        "* #### Customers - the number of customers on a given day\n",
        "* #### Open - an indicator for whether the store was open: 0 = closed, 1 = open\n",
        "* #### StateHoliday - indicates a state holiday. Normally all stores, with few exceptions, are closed on state holidays. Note that all schools are closed on public holidays and weekends. a = public holiday, b = Easter holiday, c = Christmas, 0 = None\n",
        "* #### SchoolHoliday - indicates if the (Store, Date) was affected by the closure of public schools\n",
        "* #### StoreType - differentiates between 4 different store models: a, b, c, d\n",
        "* #### Assortment - describes an assortment level: a = basic, b = extra, c = extended\n",
        "* #### CompetitionDistance - distance in meters to the nearest competitor store\n",
        "* #### CompetitionOpenSince[Month/Year] - gives the approximate year and month of the time the nearest competitor was opened\n",
        "* #### Promo - indicates whether a store is running a promo on that day\n",
        "* #### Promo2 - Promo2 is a continuing and consecutive promotion for some stores: 0 = store is not participating, 1 = store is participating\n",
        "* #### Promo2Since[Year/Week] - describes the year and calendar week when the store started participating in Promo2\n",
        "* #### PromoInterval - describes the consecutive intervals Promo2 is started, naming the months the promotion is started anew. E.g. \"Feb,May,Aug,Nov\" means each round starts in February, May, August, November of any given year for that store"
      ]
    },
    {
      "cell_type": "markdown",
      "metadata": {
        "id": "T3MoEdinglmF"
      },
      "source": [
        "#<b>Import necessary libraries"
      ]
    },
    {
      "cell_type": "code",
      "metadata": {
        "id": "bbW-99A1gWrp",
        "colab": {
          "base_uri": "https://localhost:8080/"
        },
        "outputId": "d2e599fe-ac5a-4826-d6fa-0b089cf6120b"
      },
      "source": [
        "!pip install chart_studio\n",
        "import pandas as pd , datetime\n",
        "import numpy as np\n",
        "import matplotlib.pyplot as plt\n",
        "import scipy.stats as stats\n",
        "import seaborn as sns\n",
        "from statsmodels.tsa.stattools import adfuller\n",
        "get_ipython().run_line_magic('matplotlib', 'inline')\n",
        "from time import time\n",
        "from math import sqrt\n",
        "from statsmodels.tsa.seasonal import seasonal_decompose\n",
        "from statsmodels.graphics.tsaplots import plot_acf, plot_pacf\n",
        "import itertools\n",
        "import statsmodels.api as sm\n",
        "from statsmodels.tsa.stattools import acf,pacf\n",
        "from statsmodels.tsa.arima_model import  ARIMA\n",
        "from sklearn import model_selection\n",
        "from sklearn.metrics import mean_squared_error, r2_score\n",
        "from pandas import DataFrame\n",
        "import plotly.graph_objs as go\n",
        "import chart_studio.plotly as py\n",
        "from plotly.offline import iplot\n",
        "from matplotlib.pyplot import *\n",
        "import numpy as np\n",
        "import matplotlib.pyplot as plt\n",
        "sns.set(style=\"whitegrid\")\n",
        "import warnings\n",
        "warnings.filterwarnings('ignore')"
      ],
      "execution_count": 49,
      "outputs": [
        {
          "output_type": "stream",
          "name": "stdout",
          "text": [
            "Collecting chart_studio\n",
            "  Downloading chart_studio-1.1.0-py3-none-any.whl (64 kB)\n",
            "\u001b[?25l\r\u001b[K     |█████                           | 10 kB 23.6 MB/s eta 0:00:01\r\u001b[K     |██████████▏                     | 20 kB 13.1 MB/s eta 0:00:01\r\u001b[K     |███████████████▎                | 30 kB 9.9 MB/s eta 0:00:01\r\u001b[K     |████████████████████▍           | 40 kB 9.0 MB/s eta 0:00:01\r\u001b[K     |█████████████████████████▍      | 51 kB 5.1 MB/s eta 0:00:01\r\u001b[K     |██████████████████████████████▌ | 61 kB 5.6 MB/s eta 0:00:01\r\u001b[K     |████████████████████████████████| 64 kB 1.8 MB/s \n",
            "\u001b[?25hRequirement already satisfied: six in /usr/local/lib/python3.7/dist-packages (from chart_studio) (1.15.0)\n",
            "Requirement already satisfied: requests in /usr/local/lib/python3.7/dist-packages (from chart_studio) (2.23.0)\n",
            "Requirement already satisfied: plotly in /usr/local/lib/python3.7/dist-packages (from chart_studio) (4.4.1)\n",
            "Requirement already satisfied: retrying>=1.3.3 in /usr/local/lib/python3.7/dist-packages (from chart_studio) (1.3.3)\n",
            "Requirement already satisfied: certifi>=2017.4.17 in /usr/local/lib/python3.7/dist-packages (from requests->chart_studio) (2021.5.30)\n",
            "Requirement already satisfied: idna<3,>=2.5 in /usr/local/lib/python3.7/dist-packages (from requests->chart_studio) (2.10)\n",
            "Requirement already satisfied: urllib3!=1.25.0,!=1.25.1,<1.26,>=1.21.1 in /usr/local/lib/python3.7/dist-packages (from requests->chart_studio) (1.24.3)\n",
            "Requirement already satisfied: chardet<4,>=3.0.2 in /usr/local/lib/python3.7/dist-packages (from requests->chart_studio) (3.0.4)\n",
            "Installing collected packages: chart-studio\n",
            "Successfully installed chart-studio-1.1.0\n"
          ]
        },
        {
          "output_type": "stream",
          "name": "stderr",
          "text": [
            "/usr/local/lib/python3.7/dist-packages/statsmodels/tools/_testing.py:19: FutureWarning: pandas.util.testing is deprecated. Use the functions in the public API at pandas.testing instead.\n",
            "  import pandas.util.testing as tm\n"
          ]
        }
      ]
    },
    {
      "cell_type": "markdown",
      "metadata": {
        "id": "S7w84heoa1T1"
      },
      "source": [
        "# <b>2.Data Preparation"
      ]
    },
    {
      "cell_type": "markdown",
      "metadata": {
        "id": "iP29Mf7Dhd3I"
      },
      "source": [
        "##<b>2.1 Import Datasets"
      ]
    },
    {
      "cell_type": "code",
      "metadata": {
        "colab": {
          "base_uri": "https://localhost:8080/"
        },
        "id": "9q1zIoR6ivsV",
        "outputId": "d31ff2dd-5c23-448e-81de-327dffa9d442"
      },
      "source": [
        "from google.colab import drive\n",
        "drive.mount('/content/drive')"
      ],
      "execution_count": 1,
      "outputs": [
        {
          "output_type": "stream",
          "name": "stdout",
          "text": [
            "Mounted at /content/drive\n"
          ]
        }
      ]
    },
    {
      "cell_type": "code",
      "metadata": {
        "colab": {
          "base_uri": "https://localhost:8080/",
          "height": 237
        },
        "id": "oXI6uRS2i1FB",
        "outputId": "e172c7e8-2707-42ee-c882-43dc40e02e3e"
      },
      "source": [
        "import pandas as pd\n",
        "R_data = pd.read_csv('/content/drive/MyDrive/Retail Sales Prediction-Capstone 2/Data & Resources/Rossmann Stores Data.csv')\n",
        "R_data.head()"
      ],
      "execution_count": 4,
      "outputs": [
        {
          "output_type": "stream",
          "name": "stderr",
          "text": [
            "/usr/local/lib/python3.7/dist-packages/IPython/core/interactiveshell.py:2718: DtypeWarning: Columns (7) have mixed types.Specify dtype option on import or set low_memory=False.\n",
            "  interactivity=interactivity, compiler=compiler, result=result)\n"
          ]
        },
        {
          "output_type": "execute_result",
          "data": {
            "text/html": [
              "<div>\n",
              "<style scoped>\n",
              "    .dataframe tbody tr th:only-of-type {\n",
              "        vertical-align: middle;\n",
              "    }\n",
              "\n",
              "    .dataframe tbody tr th {\n",
              "        vertical-align: top;\n",
              "    }\n",
              "\n",
              "    .dataframe thead th {\n",
              "        text-align: right;\n",
              "    }\n",
              "</style>\n",
              "<table border=\"1\" class=\"dataframe\">\n",
              "  <thead>\n",
              "    <tr style=\"text-align: right;\">\n",
              "      <th></th>\n",
              "      <th>Store</th>\n",
              "      <th>DayOfWeek</th>\n",
              "      <th>Date</th>\n",
              "      <th>Sales</th>\n",
              "      <th>Customers</th>\n",
              "      <th>Open</th>\n",
              "      <th>Promo</th>\n",
              "      <th>StateHoliday</th>\n",
              "      <th>SchoolHoliday</th>\n",
              "    </tr>\n",
              "  </thead>\n",
              "  <tbody>\n",
              "    <tr>\n",
              "      <th>0</th>\n",
              "      <td>1</td>\n",
              "      <td>5</td>\n",
              "      <td>2015-07-31</td>\n",
              "      <td>5263</td>\n",
              "      <td>555</td>\n",
              "      <td>1</td>\n",
              "      <td>1</td>\n",
              "      <td>0</td>\n",
              "      <td>1</td>\n",
              "    </tr>\n",
              "    <tr>\n",
              "      <th>1</th>\n",
              "      <td>2</td>\n",
              "      <td>5</td>\n",
              "      <td>2015-07-31</td>\n",
              "      <td>6064</td>\n",
              "      <td>625</td>\n",
              "      <td>1</td>\n",
              "      <td>1</td>\n",
              "      <td>0</td>\n",
              "      <td>1</td>\n",
              "    </tr>\n",
              "    <tr>\n",
              "      <th>2</th>\n",
              "      <td>3</td>\n",
              "      <td>5</td>\n",
              "      <td>2015-07-31</td>\n",
              "      <td>8314</td>\n",
              "      <td>821</td>\n",
              "      <td>1</td>\n",
              "      <td>1</td>\n",
              "      <td>0</td>\n",
              "      <td>1</td>\n",
              "    </tr>\n",
              "    <tr>\n",
              "      <th>3</th>\n",
              "      <td>4</td>\n",
              "      <td>5</td>\n",
              "      <td>2015-07-31</td>\n",
              "      <td>13995</td>\n",
              "      <td>1498</td>\n",
              "      <td>1</td>\n",
              "      <td>1</td>\n",
              "      <td>0</td>\n",
              "      <td>1</td>\n",
              "    </tr>\n",
              "    <tr>\n",
              "      <th>4</th>\n",
              "      <td>5</td>\n",
              "      <td>5</td>\n",
              "      <td>2015-07-31</td>\n",
              "      <td>4822</td>\n",
              "      <td>559</td>\n",
              "      <td>1</td>\n",
              "      <td>1</td>\n",
              "      <td>0</td>\n",
              "      <td>1</td>\n",
              "    </tr>\n",
              "  </tbody>\n",
              "</table>\n",
              "</div>"
            ],
            "text/plain": [
              "   Store  DayOfWeek        Date  Sales  ...  Open  Promo  StateHoliday SchoolHoliday\n",
              "0      1          5  2015-07-31   5263  ...     1      1             0             1\n",
              "1      2          5  2015-07-31   6064  ...     1      1             0             1\n",
              "2      3          5  2015-07-31   8314  ...     1      1             0             1\n",
              "3      4          5  2015-07-31  13995  ...     1      1             0             1\n",
              "4      5          5  2015-07-31   4822  ...     1      1             0             1\n",
              "\n",
              "[5 rows x 9 columns]"
            ]
          },
          "metadata": {},
          "execution_count": 4
        }
      ]
    },
    {
      "cell_type": "code",
      "metadata": {
        "colab": {
          "base_uri": "https://localhost:8080/",
          "height": 203
        },
        "id": "LIh9qVTNYl8S",
        "outputId": "1e02ea6e-ec08-44e2-b1ff-19fc1459321a"
      },
      "source": [
        "R_data.tail()"
      ],
      "execution_count": 5,
      "outputs": [
        {
          "output_type": "execute_result",
          "data": {
            "text/html": [
              "<div>\n",
              "<style scoped>\n",
              "    .dataframe tbody tr th:only-of-type {\n",
              "        vertical-align: middle;\n",
              "    }\n",
              "\n",
              "    .dataframe tbody tr th {\n",
              "        vertical-align: top;\n",
              "    }\n",
              "\n",
              "    .dataframe thead th {\n",
              "        text-align: right;\n",
              "    }\n",
              "</style>\n",
              "<table border=\"1\" class=\"dataframe\">\n",
              "  <thead>\n",
              "    <tr style=\"text-align: right;\">\n",
              "      <th></th>\n",
              "      <th>Store</th>\n",
              "      <th>DayOfWeek</th>\n",
              "      <th>Date</th>\n",
              "      <th>Sales</th>\n",
              "      <th>Customers</th>\n",
              "      <th>Open</th>\n",
              "      <th>Promo</th>\n",
              "      <th>StateHoliday</th>\n",
              "      <th>SchoolHoliday</th>\n",
              "    </tr>\n",
              "  </thead>\n",
              "  <tbody>\n",
              "    <tr>\n",
              "      <th>1017204</th>\n",
              "      <td>1111</td>\n",
              "      <td>2</td>\n",
              "      <td>2013-01-01</td>\n",
              "      <td>0</td>\n",
              "      <td>0</td>\n",
              "      <td>0</td>\n",
              "      <td>0</td>\n",
              "      <td>a</td>\n",
              "      <td>1</td>\n",
              "    </tr>\n",
              "    <tr>\n",
              "      <th>1017205</th>\n",
              "      <td>1112</td>\n",
              "      <td>2</td>\n",
              "      <td>2013-01-01</td>\n",
              "      <td>0</td>\n",
              "      <td>0</td>\n",
              "      <td>0</td>\n",
              "      <td>0</td>\n",
              "      <td>a</td>\n",
              "      <td>1</td>\n",
              "    </tr>\n",
              "    <tr>\n",
              "      <th>1017206</th>\n",
              "      <td>1113</td>\n",
              "      <td>2</td>\n",
              "      <td>2013-01-01</td>\n",
              "      <td>0</td>\n",
              "      <td>0</td>\n",
              "      <td>0</td>\n",
              "      <td>0</td>\n",
              "      <td>a</td>\n",
              "      <td>1</td>\n",
              "    </tr>\n",
              "    <tr>\n",
              "      <th>1017207</th>\n",
              "      <td>1114</td>\n",
              "      <td>2</td>\n",
              "      <td>2013-01-01</td>\n",
              "      <td>0</td>\n",
              "      <td>0</td>\n",
              "      <td>0</td>\n",
              "      <td>0</td>\n",
              "      <td>a</td>\n",
              "      <td>1</td>\n",
              "    </tr>\n",
              "    <tr>\n",
              "      <th>1017208</th>\n",
              "      <td>1115</td>\n",
              "      <td>2</td>\n",
              "      <td>2013-01-01</td>\n",
              "      <td>0</td>\n",
              "      <td>0</td>\n",
              "      <td>0</td>\n",
              "      <td>0</td>\n",
              "      <td>a</td>\n",
              "      <td>1</td>\n",
              "    </tr>\n",
              "  </tbody>\n",
              "</table>\n",
              "</div>"
            ],
            "text/plain": [
              "         Store  DayOfWeek        Date  ...  Promo  StateHoliday  SchoolHoliday\n",
              "1017204   1111          2  2013-01-01  ...      0             a              1\n",
              "1017205   1112          2  2013-01-01  ...      0             a              1\n",
              "1017206   1113          2  2013-01-01  ...      0             a              1\n",
              "1017207   1114          2  2013-01-01  ...      0             a              1\n",
              "1017208   1115          2  2013-01-01  ...      0             a              1\n",
              "\n",
              "[5 rows x 9 columns]"
            ]
          },
          "metadata": {},
          "execution_count": 5
        }
      ]
    },
    {
      "cell_type": "code",
      "metadata": {
        "colab": {
          "base_uri": "https://localhost:8080/"
        },
        "id": "3DppFg4vjfcC",
        "outputId": "27632e15-fcb5-47ae-8f61-b9b84dc5f6ed"
      },
      "source": [
        "R_data.shape"
      ],
      "execution_count": 6,
      "outputs": [
        {
          "output_type": "execute_result",
          "data": {
            "text/plain": [
              "(1017209, 9)"
            ]
          },
          "metadata": {},
          "execution_count": 6
        }
      ]
    },
    {
      "cell_type": "code",
      "metadata": {
        "colab": {
          "base_uri": "https://localhost:8080/",
          "height": 203
        },
        "id": "3ZoNe3mcjrNT",
        "outputId": "378ba1c2-e3a1-44b8-c121-9dec49e80854"
      },
      "source": [
        "store = pd.read_csv('/content/drive/MyDrive/Retail Sales Prediction-Capstone 2/Data & Resources/store.csv')\n",
        "store.head()"
      ],
      "execution_count": 7,
      "outputs": [
        {
          "output_type": "execute_result",
          "data": {
            "text/html": [
              "<div>\n",
              "<style scoped>\n",
              "    .dataframe tbody tr th:only-of-type {\n",
              "        vertical-align: middle;\n",
              "    }\n",
              "\n",
              "    .dataframe tbody tr th {\n",
              "        vertical-align: top;\n",
              "    }\n",
              "\n",
              "    .dataframe thead th {\n",
              "        text-align: right;\n",
              "    }\n",
              "</style>\n",
              "<table border=\"1\" class=\"dataframe\">\n",
              "  <thead>\n",
              "    <tr style=\"text-align: right;\">\n",
              "      <th></th>\n",
              "      <th>Store</th>\n",
              "      <th>StoreType</th>\n",
              "      <th>Assortment</th>\n",
              "      <th>CompetitionDistance</th>\n",
              "      <th>CompetitionOpenSinceMonth</th>\n",
              "      <th>CompetitionOpenSinceYear</th>\n",
              "      <th>Promo2</th>\n",
              "      <th>Promo2SinceWeek</th>\n",
              "      <th>Promo2SinceYear</th>\n",
              "      <th>PromoInterval</th>\n",
              "    </tr>\n",
              "  </thead>\n",
              "  <tbody>\n",
              "    <tr>\n",
              "      <th>0</th>\n",
              "      <td>1</td>\n",
              "      <td>c</td>\n",
              "      <td>a</td>\n",
              "      <td>1270.0</td>\n",
              "      <td>9.0</td>\n",
              "      <td>2008.0</td>\n",
              "      <td>0</td>\n",
              "      <td>NaN</td>\n",
              "      <td>NaN</td>\n",
              "      <td>NaN</td>\n",
              "    </tr>\n",
              "    <tr>\n",
              "      <th>1</th>\n",
              "      <td>2</td>\n",
              "      <td>a</td>\n",
              "      <td>a</td>\n",
              "      <td>570.0</td>\n",
              "      <td>11.0</td>\n",
              "      <td>2007.0</td>\n",
              "      <td>1</td>\n",
              "      <td>13.0</td>\n",
              "      <td>2010.0</td>\n",
              "      <td>Jan,Apr,Jul,Oct</td>\n",
              "    </tr>\n",
              "    <tr>\n",
              "      <th>2</th>\n",
              "      <td>3</td>\n",
              "      <td>a</td>\n",
              "      <td>a</td>\n",
              "      <td>14130.0</td>\n",
              "      <td>12.0</td>\n",
              "      <td>2006.0</td>\n",
              "      <td>1</td>\n",
              "      <td>14.0</td>\n",
              "      <td>2011.0</td>\n",
              "      <td>Jan,Apr,Jul,Oct</td>\n",
              "    </tr>\n",
              "    <tr>\n",
              "      <th>3</th>\n",
              "      <td>4</td>\n",
              "      <td>c</td>\n",
              "      <td>c</td>\n",
              "      <td>620.0</td>\n",
              "      <td>9.0</td>\n",
              "      <td>2009.0</td>\n",
              "      <td>0</td>\n",
              "      <td>NaN</td>\n",
              "      <td>NaN</td>\n",
              "      <td>NaN</td>\n",
              "    </tr>\n",
              "    <tr>\n",
              "      <th>4</th>\n",
              "      <td>5</td>\n",
              "      <td>a</td>\n",
              "      <td>a</td>\n",
              "      <td>29910.0</td>\n",
              "      <td>4.0</td>\n",
              "      <td>2015.0</td>\n",
              "      <td>0</td>\n",
              "      <td>NaN</td>\n",
              "      <td>NaN</td>\n",
              "      <td>NaN</td>\n",
              "    </tr>\n",
              "  </tbody>\n",
              "</table>\n",
              "</div>"
            ],
            "text/plain": [
              "   Store StoreType  ... Promo2SinceYear    PromoInterval\n",
              "0      1         c  ...             NaN              NaN\n",
              "1      2         a  ...          2010.0  Jan,Apr,Jul,Oct\n",
              "2      3         a  ...          2011.0  Jan,Apr,Jul,Oct\n",
              "3      4         c  ...             NaN              NaN\n",
              "4      5         a  ...             NaN              NaN\n",
              "\n",
              "[5 rows x 10 columns]"
            ]
          },
          "metadata": {},
          "execution_count": 7
        }
      ]
    },
    {
      "cell_type": "code",
      "metadata": {
        "colab": {
          "base_uri": "https://localhost:8080/",
          "height": 203
        },
        "id": "ELCyqhiLYvY_",
        "outputId": "6ff479b7-9b47-432b-ecaa-9b81413f8e88"
      },
      "source": [
        "store.tail()"
      ],
      "execution_count": 8,
      "outputs": [
        {
          "output_type": "execute_result",
          "data": {
            "text/html": [
              "<div>\n",
              "<style scoped>\n",
              "    .dataframe tbody tr th:only-of-type {\n",
              "        vertical-align: middle;\n",
              "    }\n",
              "\n",
              "    .dataframe tbody tr th {\n",
              "        vertical-align: top;\n",
              "    }\n",
              "\n",
              "    .dataframe thead th {\n",
              "        text-align: right;\n",
              "    }\n",
              "</style>\n",
              "<table border=\"1\" class=\"dataframe\">\n",
              "  <thead>\n",
              "    <tr style=\"text-align: right;\">\n",
              "      <th></th>\n",
              "      <th>Store</th>\n",
              "      <th>StoreType</th>\n",
              "      <th>Assortment</th>\n",
              "      <th>CompetitionDistance</th>\n",
              "      <th>CompetitionOpenSinceMonth</th>\n",
              "      <th>CompetitionOpenSinceYear</th>\n",
              "      <th>Promo2</th>\n",
              "      <th>Promo2SinceWeek</th>\n",
              "      <th>Promo2SinceYear</th>\n",
              "      <th>PromoInterval</th>\n",
              "    </tr>\n",
              "  </thead>\n",
              "  <tbody>\n",
              "    <tr>\n",
              "      <th>1110</th>\n",
              "      <td>1111</td>\n",
              "      <td>a</td>\n",
              "      <td>a</td>\n",
              "      <td>1900.0</td>\n",
              "      <td>6.0</td>\n",
              "      <td>2014.0</td>\n",
              "      <td>1</td>\n",
              "      <td>31.0</td>\n",
              "      <td>2013.0</td>\n",
              "      <td>Jan,Apr,Jul,Oct</td>\n",
              "    </tr>\n",
              "    <tr>\n",
              "      <th>1111</th>\n",
              "      <td>1112</td>\n",
              "      <td>c</td>\n",
              "      <td>c</td>\n",
              "      <td>1880.0</td>\n",
              "      <td>4.0</td>\n",
              "      <td>2006.0</td>\n",
              "      <td>0</td>\n",
              "      <td>NaN</td>\n",
              "      <td>NaN</td>\n",
              "      <td>NaN</td>\n",
              "    </tr>\n",
              "    <tr>\n",
              "      <th>1112</th>\n",
              "      <td>1113</td>\n",
              "      <td>a</td>\n",
              "      <td>c</td>\n",
              "      <td>9260.0</td>\n",
              "      <td>NaN</td>\n",
              "      <td>NaN</td>\n",
              "      <td>0</td>\n",
              "      <td>NaN</td>\n",
              "      <td>NaN</td>\n",
              "      <td>NaN</td>\n",
              "    </tr>\n",
              "    <tr>\n",
              "      <th>1113</th>\n",
              "      <td>1114</td>\n",
              "      <td>a</td>\n",
              "      <td>c</td>\n",
              "      <td>870.0</td>\n",
              "      <td>NaN</td>\n",
              "      <td>NaN</td>\n",
              "      <td>0</td>\n",
              "      <td>NaN</td>\n",
              "      <td>NaN</td>\n",
              "      <td>NaN</td>\n",
              "    </tr>\n",
              "    <tr>\n",
              "      <th>1114</th>\n",
              "      <td>1115</td>\n",
              "      <td>d</td>\n",
              "      <td>c</td>\n",
              "      <td>5350.0</td>\n",
              "      <td>NaN</td>\n",
              "      <td>NaN</td>\n",
              "      <td>1</td>\n",
              "      <td>22.0</td>\n",
              "      <td>2012.0</td>\n",
              "      <td>Mar,Jun,Sept,Dec</td>\n",
              "    </tr>\n",
              "  </tbody>\n",
              "</table>\n",
              "</div>"
            ],
            "text/plain": [
              "      Store StoreType  ... Promo2SinceYear     PromoInterval\n",
              "1110   1111         a  ...          2013.0   Jan,Apr,Jul,Oct\n",
              "1111   1112         c  ...             NaN               NaN\n",
              "1112   1113         a  ...             NaN               NaN\n",
              "1113   1114         a  ...             NaN               NaN\n",
              "1114   1115         d  ...          2012.0  Mar,Jun,Sept,Dec\n",
              "\n",
              "[5 rows x 10 columns]"
            ]
          },
          "metadata": {},
          "execution_count": 8
        }
      ]
    },
    {
      "cell_type": "code",
      "metadata": {
        "colab": {
          "base_uri": "https://localhost:8080/"
        },
        "id": "15HCcccgjzzb",
        "outputId": "3978cc5b-4e9a-4060-fd0a-8c16a7f6335b"
      },
      "source": [
        "store.shape"
      ],
      "execution_count": 9,
      "outputs": [
        {
          "output_type": "execute_result",
          "data": {
            "text/plain": [
              "(1115, 10)"
            ]
          },
          "metadata": {},
          "execution_count": 9
        }
      ]
    },
    {
      "cell_type": "markdown",
      "metadata": {
        "id": "N_QGYvgYc0S5"
      },
      "source": [
        "#<B>2.2 Dealing With Missing Values "
      ]
    },
    {
      "cell_type": "markdown",
      "metadata": {
        "id": "q4fV5t4ycm8W"
      },
      "source": [
        "##<b>2.2.1 Count missing values in each dataset"
      ]
    },
    {
      "cell_type": "code",
      "metadata": {
        "colab": {
          "base_uri": "https://localhost:8080/"
        },
        "id": "OtaJ0Cj_dJIs",
        "outputId": "fe957bc4-8302-49a5-a574-d23142237d05"
      },
      "source": [
        "print(\"R_data:\\n\\n\", R_data.isnull().sum(),  \n",
        "     \"\\n\\nstore:\\n\\n\", store.isnull().sum())"
      ],
      "execution_count": 10,
      "outputs": [
        {
          "output_type": "stream",
          "name": "stdout",
          "text": [
            "R_data:\n",
            "\n",
            " Store            0\n",
            "DayOfWeek        0\n",
            "Date             0\n",
            "Sales            0\n",
            "Customers        0\n",
            "Open             0\n",
            "Promo            0\n",
            "StateHoliday     0\n",
            "SchoolHoliday    0\n",
            "dtype: int64 \n",
            "\n",
            "store:\n",
            "\n",
            " Store                          0\n",
            "StoreType                      0\n",
            "Assortment                     0\n",
            "CompetitionDistance            3\n",
            "CompetitionOpenSinceMonth    354\n",
            "CompetitionOpenSinceYear     354\n",
            "Promo2                         0\n",
            "Promo2SinceWeek              544\n",
            "Promo2SinceYear              544\n",
            "PromoInterval                544\n",
            "dtype: int64\n"
          ]
        }
      ]
    },
    {
      "cell_type": "markdown",
      "metadata": {
        "id": "8KX6H6QmdULG"
      },
      "source": [
        "##<b>2.2.2 Remove features with high percentages of missing values"
      ]
    },
    {
      "cell_type": "markdown",
      "metadata": {
        "id": "riLUcOnvdfW9"
      },
      "source": [
        "We can see that some features have a high percentage of missing values and they won't be accurate as indicators, so we will remove features with more than 30% missing values."
      ]
    },
    {
      "cell_type": "code",
      "metadata": {
        "id": "dlce4psPdTNg"
      },
      "source": [
        "# remove features\n",
        "store_df = store.drop(['CompetitionOpenSinceMonth', 'CompetitionOpenSinceYear','Promo2SinceWeek',\n",
        "                     'Promo2SinceYear', 'PromoInterval'], axis=1)"
      ],
      "execution_count": 11,
      "outputs": []
    },
    {
      "cell_type": "markdown",
      "metadata": {
        "id": "QV6x7SVZL5JB"
      },
      "source": [
        "## 2.2.3 Replace missing values in features with low percentages of missing values"
      ]
    },
    {
      "cell_type": "code",
      "metadata": {
        "id": "hWaj1lwyNXdp",
        "colab": {
          "base_uri": "https://localhost:8080/"
        },
        "outputId": "60136cd8-6e97-481a-8bee-cebfa4f3d77c"
      },
      "source": [
        "# check for any null values\n",
        "store_df.isnull().sum()"
      ],
      "execution_count": 12,
      "outputs": [
        {
          "output_type": "execute_result",
          "data": {
            "text/plain": [
              "Store                  0\n",
              "StoreType              0\n",
              "Assortment             0\n",
              "CompetitionDistance    3\n",
              "Promo2                 0\n",
              "dtype: int64"
            ]
          },
          "metadata": {},
          "execution_count": 12
        }
      ]
    },
    {
      "cell_type": "markdown",
      "metadata": {
        "id": "DyL1IKkeNh4V"
      },
      "source": [
        "Since Competition distance have 3 null values.\n",
        "So we will fill the null values with its mean"
      ]
    },
    {
      "cell_type": "code",
      "metadata": {
        "id": "-z9lOSSMM8Qb"
      },
      "source": [
        "# filling competition distance with mean\n",
        "store_df['CompetitionDistance'].fillna(store_df['CompetitionDistance'].mean(), inplace = True)\n"
      ],
      "execution_count": 13,
      "outputs": []
    },
    {
      "cell_type": "code",
      "metadata": {
        "id": "GxaT_4teN7Rx",
        "colab": {
          "base_uri": "https://localhost:8080/"
        },
        "outputId": "ff98f4a6-4de6-42d7-c1b1-a55a7012ddab"
      },
      "source": [
        "# lets check again for null value\n",
        "store_df.isnull().sum()"
      ],
      "execution_count": 14,
      "outputs": [
        {
          "output_type": "execute_result",
          "data": {
            "text/plain": [
              "Store                  0\n",
              "StoreType              0\n",
              "Assortment             0\n",
              "CompetitionDistance    0\n",
              "Promo2                 0\n",
              "dtype: int64"
            ]
          },
          "metadata": {},
          "execution_count": 14
        }
      ]
    },
    {
      "cell_type": "markdown",
      "metadata": {
        "id": "SnfDpSMUMBSx"
      },
      "source": [
        "#2.3 Date Extraction"
      ]
    },
    {
      "cell_type": "markdown",
      "metadata": {
        "id": "EutMSO34OjSe"
      },
      "source": [
        "Lets extract the dates from date features\n",
        "Since we have only dates, we will extract years, months, day and weakof year"
      ]
    },
    {
      "cell_type": "code",
      "metadata": {
        "id": "FOe2Hc8jQ9ll",
        "colab": {
          "base_uri": "https://localhost:8080/"
        },
        "outputId": "32c2ed03-9a9b-40e1-9505-17deb58ad5a0"
      },
      "source": [
        "R_data.info()"
      ],
      "execution_count": 15,
      "outputs": [
        {
          "output_type": "stream",
          "name": "stdout",
          "text": [
            "<class 'pandas.core.frame.DataFrame'>\n",
            "RangeIndex: 1017209 entries, 0 to 1017208\n",
            "Data columns (total 9 columns):\n",
            " #   Column         Non-Null Count    Dtype \n",
            "---  ------         --------------    ----- \n",
            " 0   Store          1017209 non-null  int64 \n",
            " 1   DayOfWeek      1017209 non-null  int64 \n",
            " 2   Date           1017209 non-null  object\n",
            " 3   Sales          1017209 non-null  int64 \n",
            " 4   Customers      1017209 non-null  int64 \n",
            " 5   Open           1017209 non-null  int64 \n",
            " 6   Promo          1017209 non-null  int64 \n",
            " 7   StateHoliday   1017209 non-null  object\n",
            " 8   SchoolHoliday  1017209 non-null  int64 \n",
            "dtypes: int64(7), object(2)\n",
            "memory usage: 69.8+ MB\n"
          ]
        }
      ]
    },
    {
      "cell_type": "markdown",
      "metadata": {
        "id": "O7wg10I_RdzE"
      },
      "source": [
        "Firstly convert the datatype of 'Date' column to datetime format"
      ]
    },
    {
      "cell_type": "code",
      "metadata": {
        "id": "-qJlFDVMRvnH"
      },
      "source": [
        "# converting to datetime datatype\n",
        "\n",
        "R_data['Date']=pd.to_datetime(R_data['Date'])\n"
      ],
      "execution_count": 16,
      "outputs": []
    },
    {
      "cell_type": "code",
      "metadata": {
        "id": "aruC5bODSNB8",
        "colab": {
          "base_uri": "https://localhost:8080/"
        },
        "outputId": "8f3f6920-91d7-4573-b98c-ec201c296ab1"
      },
      "source": [
        "R_data.info()"
      ],
      "execution_count": 17,
      "outputs": [
        {
          "output_type": "stream",
          "name": "stdout",
          "text": [
            "<class 'pandas.core.frame.DataFrame'>\n",
            "RangeIndex: 1017209 entries, 0 to 1017208\n",
            "Data columns (total 9 columns):\n",
            " #   Column         Non-Null Count    Dtype         \n",
            "---  ------         --------------    -----         \n",
            " 0   Store          1017209 non-null  int64         \n",
            " 1   DayOfWeek      1017209 non-null  int64         \n",
            " 2   Date           1017209 non-null  datetime64[ns]\n",
            " 3   Sales          1017209 non-null  int64         \n",
            " 4   Customers      1017209 non-null  int64         \n",
            " 5   Open           1017209 non-null  int64         \n",
            " 6   Promo          1017209 non-null  int64         \n",
            " 7   StateHoliday   1017209 non-null  object        \n",
            " 8   SchoolHoliday  1017209 non-null  int64         \n",
            "dtypes: datetime64[ns](1), int64(7), object(1)\n",
            "memory usage: 69.8+ MB\n"
          ]
        }
      ]
    },
    {
      "cell_type": "code",
      "metadata": {
        "id": "sj_phudoOggS",
        "colab": {
          "base_uri": "https://localhost:8080/"
        },
        "outputId": "af2ce220-1acc-4252-f2db-93fa17ebbcf0"
      },
      "source": [
        "# extract year, month, day and week of year from \"Date\"\n",
        "R_data['Year'] =pd.DatetimeIndex(R_data['Date']).year\n",
        "R_data['Month'] =pd.DatetimeIndex(R_data['Date']).month\n",
        "R_data['Day'] =pd.DatetimeIndex(R_data['Date']).day\n",
        "R_data['WeekOfYear'] = pd.DatetimeIndex(R_data['Date']).weekofyear\n",
        "# R_data = R_data.reset_index()"
      ],
      "execution_count": 18,
      "outputs": [
        {
          "output_type": "stream",
          "name": "stderr",
          "text": [
            "/usr/local/lib/python3.7/dist-packages/ipykernel_launcher.py:5: FutureWarning: weekofyear and week have been deprecated, please use DatetimeIndex.isocalendar().week instead, which returns a Series.  To exactly reproduce the behavior of week and weekofyear and return an Index, you may call pd.Int64Index(idx.isocalendar().week)\n",
            "  \"\"\"\n"
          ]
        }
      ]
    },
    {
      "cell_type": "code",
      "metadata": {
        "id": "GecTFP75ULOi",
        "colab": {
          "base_uri": "https://localhost:8080/"
        },
        "outputId": "a61af16f-e105-4123-81d6-ea8f5cc36e8b"
      },
      "source": [
        "R_data.info()"
      ],
      "execution_count": 19,
      "outputs": [
        {
          "output_type": "stream",
          "name": "stdout",
          "text": [
            "<class 'pandas.core.frame.DataFrame'>\n",
            "RangeIndex: 1017209 entries, 0 to 1017208\n",
            "Data columns (total 13 columns):\n",
            " #   Column         Non-Null Count    Dtype         \n",
            "---  ------         --------------    -----         \n",
            " 0   Store          1017209 non-null  int64         \n",
            " 1   DayOfWeek      1017209 non-null  int64         \n",
            " 2   Date           1017209 non-null  datetime64[ns]\n",
            " 3   Sales          1017209 non-null  int64         \n",
            " 4   Customers      1017209 non-null  int64         \n",
            " 5   Open           1017209 non-null  int64         \n",
            " 6   Promo          1017209 non-null  int64         \n",
            " 7   StateHoliday   1017209 non-null  object        \n",
            " 8   SchoolHoliday  1017209 non-null  int64         \n",
            " 9   Year           1017209 non-null  int64         \n",
            " 10  Month          1017209 non-null  int64         \n",
            " 11  Day            1017209 non-null  int64         \n",
            " 12  WeekOfYear     1017209 non-null  int64         \n",
            "dtypes: datetime64[ns](1), int64(11), object(1)\n",
            "memory usage: 100.9+ MB\n"
          ]
        }
      ]
    },
    {
      "cell_type": "markdown",
      "metadata": {
        "id": "i1u8gTt9MHxH"
      },
      "source": [
        "# 2.4 Joining Tables"
      ]
    },
    {
      "cell_type": "markdown",
      "metadata": {
        "id": "Sixe8EKdUsFW"
      },
      "source": [
        "Now join the table R_data and store dataframe "
      ]
    },
    {
      "cell_type": "code",
      "metadata": {
        "id": "1saB7171UWuD",
        "colab": {
          "base_uri": "https://localhost:8080/",
          "height": 203
        },
        "outputId": "d2700e09-7d80-482b-c312-f0c474996a9e"
      },
      "source": [
        "data = pd.merge(R_data, store_df, how='left', on='Store')\n",
        "data.head()"
      ],
      "execution_count": 20,
      "outputs": [
        {
          "output_type": "execute_result",
          "data": {
            "text/html": [
              "<div>\n",
              "<style scoped>\n",
              "    .dataframe tbody tr th:only-of-type {\n",
              "        vertical-align: middle;\n",
              "    }\n",
              "\n",
              "    .dataframe tbody tr th {\n",
              "        vertical-align: top;\n",
              "    }\n",
              "\n",
              "    .dataframe thead th {\n",
              "        text-align: right;\n",
              "    }\n",
              "</style>\n",
              "<table border=\"1\" class=\"dataframe\">\n",
              "  <thead>\n",
              "    <tr style=\"text-align: right;\">\n",
              "      <th></th>\n",
              "      <th>Store</th>\n",
              "      <th>DayOfWeek</th>\n",
              "      <th>Date</th>\n",
              "      <th>Sales</th>\n",
              "      <th>Customers</th>\n",
              "      <th>Open</th>\n",
              "      <th>Promo</th>\n",
              "      <th>StateHoliday</th>\n",
              "      <th>SchoolHoliday</th>\n",
              "      <th>Year</th>\n",
              "      <th>Month</th>\n",
              "      <th>Day</th>\n",
              "      <th>WeekOfYear</th>\n",
              "      <th>StoreType</th>\n",
              "      <th>Assortment</th>\n",
              "      <th>CompetitionDistance</th>\n",
              "      <th>Promo2</th>\n",
              "    </tr>\n",
              "  </thead>\n",
              "  <tbody>\n",
              "    <tr>\n",
              "      <th>0</th>\n",
              "      <td>1</td>\n",
              "      <td>5</td>\n",
              "      <td>2015-07-31</td>\n",
              "      <td>5263</td>\n",
              "      <td>555</td>\n",
              "      <td>1</td>\n",
              "      <td>1</td>\n",
              "      <td>0</td>\n",
              "      <td>1</td>\n",
              "      <td>2015</td>\n",
              "      <td>7</td>\n",
              "      <td>31</td>\n",
              "      <td>31</td>\n",
              "      <td>c</td>\n",
              "      <td>a</td>\n",
              "      <td>1270.0</td>\n",
              "      <td>0</td>\n",
              "    </tr>\n",
              "    <tr>\n",
              "      <th>1</th>\n",
              "      <td>2</td>\n",
              "      <td>5</td>\n",
              "      <td>2015-07-31</td>\n",
              "      <td>6064</td>\n",
              "      <td>625</td>\n",
              "      <td>1</td>\n",
              "      <td>1</td>\n",
              "      <td>0</td>\n",
              "      <td>1</td>\n",
              "      <td>2015</td>\n",
              "      <td>7</td>\n",
              "      <td>31</td>\n",
              "      <td>31</td>\n",
              "      <td>a</td>\n",
              "      <td>a</td>\n",
              "      <td>570.0</td>\n",
              "      <td>1</td>\n",
              "    </tr>\n",
              "    <tr>\n",
              "      <th>2</th>\n",
              "      <td>3</td>\n",
              "      <td>5</td>\n",
              "      <td>2015-07-31</td>\n",
              "      <td>8314</td>\n",
              "      <td>821</td>\n",
              "      <td>1</td>\n",
              "      <td>1</td>\n",
              "      <td>0</td>\n",
              "      <td>1</td>\n",
              "      <td>2015</td>\n",
              "      <td>7</td>\n",
              "      <td>31</td>\n",
              "      <td>31</td>\n",
              "      <td>a</td>\n",
              "      <td>a</td>\n",
              "      <td>14130.0</td>\n",
              "      <td>1</td>\n",
              "    </tr>\n",
              "    <tr>\n",
              "      <th>3</th>\n",
              "      <td>4</td>\n",
              "      <td>5</td>\n",
              "      <td>2015-07-31</td>\n",
              "      <td>13995</td>\n",
              "      <td>1498</td>\n",
              "      <td>1</td>\n",
              "      <td>1</td>\n",
              "      <td>0</td>\n",
              "      <td>1</td>\n",
              "      <td>2015</td>\n",
              "      <td>7</td>\n",
              "      <td>31</td>\n",
              "      <td>31</td>\n",
              "      <td>c</td>\n",
              "      <td>c</td>\n",
              "      <td>620.0</td>\n",
              "      <td>0</td>\n",
              "    </tr>\n",
              "    <tr>\n",
              "      <th>4</th>\n",
              "      <td>5</td>\n",
              "      <td>5</td>\n",
              "      <td>2015-07-31</td>\n",
              "      <td>4822</td>\n",
              "      <td>559</td>\n",
              "      <td>1</td>\n",
              "      <td>1</td>\n",
              "      <td>0</td>\n",
              "      <td>1</td>\n",
              "      <td>2015</td>\n",
              "      <td>7</td>\n",
              "      <td>31</td>\n",
              "      <td>31</td>\n",
              "      <td>a</td>\n",
              "      <td>a</td>\n",
              "      <td>29910.0</td>\n",
              "      <td>0</td>\n",
              "    </tr>\n",
              "  </tbody>\n",
              "</table>\n",
              "</div>"
            ],
            "text/plain": [
              "   Store  DayOfWeek       Date  ...  Assortment  CompetitionDistance  Promo2\n",
              "0      1          5 2015-07-31  ...           a               1270.0       0\n",
              "1      2          5 2015-07-31  ...           a                570.0       1\n",
              "2      3          5 2015-07-31  ...           a              14130.0       1\n",
              "3      4          5 2015-07-31  ...           c                620.0       0\n",
              "4      5          5 2015-07-31  ...           a              29910.0       0\n",
              "\n",
              "[5 rows x 17 columns]"
            ]
          },
          "metadata": {},
          "execution_count": 20
        }
      ]
    },
    {
      "cell_type": "code",
      "metadata": {
        "id": "Z4kvFLLbVgbY",
        "colab": {
          "base_uri": "https://localhost:8080/"
        },
        "outputId": "8771b090-856a-43f2-eeb8-3de522a941d1"
      },
      "source": [
        "data.info()"
      ],
      "execution_count": 21,
      "outputs": [
        {
          "output_type": "stream",
          "name": "stdout",
          "text": [
            "<class 'pandas.core.frame.DataFrame'>\n",
            "Int64Index: 1017209 entries, 0 to 1017208\n",
            "Data columns (total 17 columns):\n",
            " #   Column               Non-Null Count    Dtype         \n",
            "---  ------               --------------    -----         \n",
            " 0   Store                1017209 non-null  int64         \n",
            " 1   DayOfWeek            1017209 non-null  int64         \n",
            " 2   Date                 1017209 non-null  datetime64[ns]\n",
            " 3   Sales                1017209 non-null  int64         \n",
            " 4   Customers            1017209 non-null  int64         \n",
            " 5   Open                 1017209 non-null  int64         \n",
            " 6   Promo                1017209 non-null  int64         \n",
            " 7   StateHoliday         1017209 non-null  object        \n",
            " 8   SchoolHoliday        1017209 non-null  int64         \n",
            " 9   Year                 1017209 non-null  int64         \n",
            " 10  Month                1017209 non-null  int64         \n",
            " 11  Day                  1017209 non-null  int64         \n",
            " 12  WeekOfYear           1017209 non-null  int64         \n",
            " 13  StoreType            1017209 non-null  object        \n",
            " 14  Assortment           1017209 non-null  object        \n",
            " 15  CompetitionDistance  1017209 non-null  float64       \n",
            " 16  Promo2               1017209 non-null  int64         \n",
            "dtypes: datetime64[ns](1), float64(1), int64(12), object(3)\n",
            "memory usage: 139.7+ MB\n"
          ]
        }
      ]
    },
    {
      "cell_type": "code",
      "metadata": {
        "id": "cm_9Q5VJVl8Y",
        "colab": {
          "base_uri": "https://localhost:8080/"
        },
        "outputId": "c4cdfd09-05c6-41f9-8190-f829c65b3018"
      },
      "source": [
        "data.isnull().sum()"
      ],
      "execution_count": 22,
      "outputs": [
        {
          "output_type": "execute_result",
          "data": {
            "text/plain": [
              "Store                  0\n",
              "DayOfWeek              0\n",
              "Date                   0\n",
              "Sales                  0\n",
              "Customers              0\n",
              "Open                   0\n",
              "Promo                  0\n",
              "StateHoliday           0\n",
              "SchoolHoliday          0\n",
              "Year                   0\n",
              "Month                  0\n",
              "Day                    0\n",
              "WeekOfYear             0\n",
              "StoreType              0\n",
              "Assortment             0\n",
              "CompetitionDistance    0\n",
              "Promo2                 0\n",
              "dtype: int64"
            ]
          },
          "metadata": {},
          "execution_count": 22
        }
      ]
    },
    {
      "cell_type": "markdown",
      "metadata": {
        "id": "B0jT3jd4MT8J"
      },
      "source": [
        "# 2.5 Drop Subsets Of Data Which Might Cause Bias"
      ]
    },
    {
      "cell_type": "code",
      "metadata": {
        "id": "N505G9h3ZlOU"
      },
      "source": [
        "# We will remove the part of the datasets,where stores are closed, they won't generate sales\n",
        "data=data[data.Open != 0]"
      ],
      "execution_count": 23,
      "outputs": []
    },
    {
      "cell_type": "code",
      "metadata": {
        "id": "tdEvbgmiW_Xq"
      },
      "source": [
        "# lets drop open column as it have no use now\n",
        "data.drop('Open',axis=1,inplace=True)"
      ],
      "execution_count": 24,
      "outputs": []
    },
    {
      "cell_type": "code",
      "metadata": {
        "colab": {
          "base_uri": "https://localhost:8080/"
        },
        "id": "TC2VlgbvaUVl",
        "outputId": "5460fd4e-a685-49a3-81eb-6463b32306a0"
      },
      "source": [
        "# Check for Opened store with zero sales\n",
        "data[data.Sales==0]['Store'].sum()"
      ],
      "execution_count": 25,
      "outputs": [
        {
          "output_type": "execute_result",
          "data": {
            "text/plain": [
              "31460"
            ]
          },
          "metadata": {},
          "execution_count": 25
        }
      ]
    },
    {
      "cell_type": "code",
      "metadata": {
        "colab": {
          "base_uri": "https://localhost:8080/"
        },
        "id": "UbyK3mnibXHh",
        "outputId": "ddcf7f8d-e54a-426c-b92d-99ae72a4c335"
      },
      "source": [
        "# percentage of open stored with zero sales\n",
        "data[data.Sales == 0]['Sales'].sum()/data.Sales.sum()"
      ],
      "execution_count": 26,
      "outputs": [
        {
          "output_type": "execute_result",
          "data": {
            "text/plain": [
              "0.0"
            ]
          },
          "metadata": {},
          "execution_count": 26
        }
      ]
    },
    {
      "cell_type": "code",
      "metadata": {
        "id": "j3Jucy5DbjG-"
      },
      "source": [
        "# Remove the Stores with zero sales\n",
        "data=data[data.Sales != 0]"
      ],
      "execution_count": 27,
      "outputs": []
    },
    {
      "cell_type": "markdown",
      "metadata": {
        "id": "99MPfQlsm3z0"
      },
      "source": [
        "Checking the nominal values"
      ]
    },
    {
      "cell_type": "code",
      "metadata": {
        "colab": {
          "base_uri": "https://localhost:8080/"
        },
        "id": "19dlmuv5m_x3",
        "outputId": "ebb05b7e-0922-4492-fc61-58b31cc9e890"
      },
      "source": [
        "# Nominal Values\n",
        "set(data.StateHoliday),set(data.Assortment),set(data.StoreType)"
      ],
      "execution_count": 28,
      "outputs": [
        {
          "output_type": "execute_result",
          "data": {
            "text/plain": [
              "({0, '0', 'a', 'b', 'c'}, {'a', 'b', 'c'}, {'a', 'b', 'c', 'd'})"
            ]
          },
          "metadata": {},
          "execution_count": 28
        }
      ]
    },
    {
      "cell_type": "markdown",
      "metadata": {
        "id": "oEpkIRr6nepY"
      },
      "source": [
        "Since StateHoliday have zero for none.\n",
        "let's convert that into string '0'"
      ]
    },
    {
      "cell_type": "code",
      "metadata": {
        "id": "lgbmuu_inxVc"
      },
      "source": [
        "# converting 0 to string '0'\n",
        "data.loc[data.StateHoliday == 0,'StateHoliday'] = data.loc[data.StateHoliday == 0,'StateHoliday'].astype(str)"
      ],
      "execution_count": 29,
      "outputs": []
    },
    {
      "cell_type": "markdown",
      "metadata": {
        "id": "CGXW9BliWk6f"
      },
      "source": [
        "---\n",
        "## 2.6 Feature Engineering \n",
        "---"
      ]
    },
    {
      "cell_type": "code",
      "metadata": {
        "id": "AT4kpBHCWx74",
        "colab": {
          "base_uri": "https://localhost:8080/"
        },
        "outputId": "be39216d-7727-46ce-ef90-f75fe4262252"
      },
      "source": [
        "# see what variable types we have\n",
        "data.info()"
      ],
      "execution_count": 30,
      "outputs": [
        {
          "output_type": "stream",
          "name": "stdout",
          "text": [
            "<class 'pandas.core.frame.DataFrame'>\n",
            "Int64Index: 844338 entries, 0 to 1017190\n",
            "Data columns (total 16 columns):\n",
            " #   Column               Non-Null Count   Dtype         \n",
            "---  ------               --------------   -----         \n",
            " 0   Store                844338 non-null  int64         \n",
            " 1   DayOfWeek            844338 non-null  int64         \n",
            " 2   Date                 844338 non-null  datetime64[ns]\n",
            " 3   Sales                844338 non-null  int64         \n",
            " 4   Customers            844338 non-null  int64         \n",
            " 5   Promo                844338 non-null  int64         \n",
            " 6   StateHoliday         844338 non-null  object        \n",
            " 7   SchoolHoliday        844338 non-null  int64         \n",
            " 8   Year                 844338 non-null  int64         \n",
            " 9   Month                844338 non-null  int64         \n",
            " 10  Day                  844338 non-null  int64         \n",
            " 11  WeekOfYear           844338 non-null  int64         \n",
            " 12  StoreType            844338 non-null  object        \n",
            " 13  Assortment           844338 non-null  object        \n",
            " 14  CompetitionDistance  844338 non-null  float64       \n",
            " 15  Promo2               844338 non-null  int64         \n",
            "dtypes: datetime64[ns](1), float64(1), int64(11), object(3)\n",
            "memory usage: 109.5+ MB\n"
          ]
        }
      ]
    },
    {
      "cell_type": "code",
      "metadata": {
        "id": "0txVkeCvXNOQ"
      },
      "source": [
        "# make a copy for me\n",
        "data2 = data.copy()"
      ],
      "execution_count": 31,
      "outputs": []
    },
    {
      "cell_type": "code",
      "metadata": {
        "colab": {
          "base_uri": "https://localhost:8080/"
        },
        "id": "oIa18aiQdJEu",
        "outputId": "45de4641-6906-4daf-8edc-f1cda40869f9"
      },
      "source": [
        "data2.info()"
      ],
      "execution_count": 32,
      "outputs": [
        {
          "output_type": "stream",
          "name": "stdout",
          "text": [
            "<class 'pandas.core.frame.DataFrame'>\n",
            "Int64Index: 844338 entries, 0 to 1017190\n",
            "Data columns (total 16 columns):\n",
            " #   Column               Non-Null Count   Dtype         \n",
            "---  ------               --------------   -----         \n",
            " 0   Store                844338 non-null  int64         \n",
            " 1   DayOfWeek            844338 non-null  int64         \n",
            " 2   Date                 844338 non-null  datetime64[ns]\n",
            " 3   Sales                844338 non-null  int64         \n",
            " 4   Customers            844338 non-null  int64         \n",
            " 5   Promo                844338 non-null  int64         \n",
            " 6   StateHoliday         844338 non-null  object        \n",
            " 7   SchoolHoliday        844338 non-null  int64         \n",
            " 8   Year                 844338 non-null  int64         \n",
            " 9   Month                844338 non-null  int64         \n",
            " 10  Day                  844338 non-null  int64         \n",
            " 11  WeekOfYear           844338 non-null  int64         \n",
            " 12  StoreType            844338 non-null  object        \n",
            " 13  Assortment           844338 non-null  object        \n",
            " 14  CompetitionDistance  844338 non-null  float64       \n",
            " 15  Promo2               844338 non-null  int64         \n",
            "dtypes: datetime64[ns](1), float64(1), int64(11), object(3)\n",
            "memory usage: 109.5+ MB\n"
          ]
        }
      ]
    },
    {
      "cell_type": "code",
      "metadata": {
        "colab": {
          "base_uri": "https://localhost:8080/"
        },
        "id": "UCHt0dZsqoc9",
        "outputId": "09b0acfe-b487-4580-e21d-3600b8dd8718"
      },
      "source": [
        "store_df.info()"
      ],
      "execution_count": 33,
      "outputs": [
        {
          "output_type": "stream",
          "name": "stdout",
          "text": [
            "<class 'pandas.core.frame.DataFrame'>\n",
            "RangeIndex: 1115 entries, 0 to 1114\n",
            "Data columns (total 5 columns):\n",
            " #   Column               Non-Null Count  Dtype  \n",
            "---  ------               --------------  -----  \n",
            " 0   Store                1115 non-null   int64  \n",
            " 1   StoreType            1115 non-null   object \n",
            " 2   Assortment           1115 non-null   object \n",
            " 3   CompetitionDistance  1115 non-null   float64\n",
            " 4   Promo2               1115 non-null   int64  \n",
            "dtypes: float64(1), int64(2), object(2)\n",
            "memory usage: 43.7+ KB\n"
          ]
        }
      ]
    },
    {
      "cell_type": "markdown",
      "metadata": {
        "id": "W7K7YGQQYEK7"
      },
      "source": [
        "## 2.6.1 Create new variable \"AvgSales\" \n",
        "create a variable that calculates monthly average sales for each store"
      ]
    },
    {
      "cell_type": "code",
      "metadata": {
        "id": "N1p57NKGXlFh"
      },
      "source": [
        "# calculate weekly average sales\n",
        "sales = data2[['Year','Month','Store','Sales']].groupby(['Year','Month','Store']).mean()\n",
        "sales = sales.rename(columns={'Sales':'AvgSales'})\n",
        "sales = sales.reset_index()"
      ],
      "execution_count": 34,
      "outputs": []
    },
    {
      "cell_type": "code",
      "metadata": {
        "id": "yZwjhUd6cegn"
      },
      "source": [
        "data2['sales_key']=data2['Year'].map(str) + data['Month'].map(str) + data['Store'].map(str)\n",
        "sales['sales_key']=sales['Year'].map(str) + sales['Month'].map(str) + sales['Store'].map(str)"
      ],
      "execution_count": 35,
      "outputs": []
    },
    {
      "cell_type": "code",
      "metadata": {
        "id": "aNURw-hccjVk"
      },
      "source": [
        "# drop extra columns\n",
        "sales = sales.drop(['Year','Month','Store'], axis=1)\n",
        "# merge\n",
        "data2 = pd.merge(data2, sales, how='left', on=('sales_key'))"
      ],
      "execution_count": 36,
      "outputs": []
    },
    {
      "cell_type": "code",
      "metadata": {
        "colab": {
          "base_uri": "https://localhost:8080/"
        },
        "id": "D7HHucVGdDLq",
        "outputId": "fda6a401-581b-4794-d957-6fbf46b1c721"
      },
      "source": [
        "data2.info()"
      ],
      "execution_count": 37,
      "outputs": [
        {
          "output_type": "stream",
          "name": "stdout",
          "text": [
            "<class 'pandas.core.frame.DataFrame'>\n",
            "Int64Index: 864294 entries, 0 to 864293\n",
            "Data columns (total 18 columns):\n",
            " #   Column               Non-Null Count   Dtype         \n",
            "---  ------               --------------   -----         \n",
            " 0   Store                864294 non-null  int64         \n",
            " 1   DayOfWeek            864294 non-null  int64         \n",
            " 2   Date                 864294 non-null  datetime64[ns]\n",
            " 3   Sales                864294 non-null  int64         \n",
            " 4   Customers            864294 non-null  int64         \n",
            " 5   Promo                864294 non-null  int64         \n",
            " 6   StateHoliday         864294 non-null  object        \n",
            " 7   SchoolHoliday        864294 non-null  int64         \n",
            " 8   Year                 864294 non-null  int64         \n",
            " 9   Month                864294 non-null  int64         \n",
            " 10  Day                  864294 non-null  int64         \n",
            " 11  WeekOfYear           864294 non-null  int64         \n",
            " 12  StoreType            864294 non-null  object        \n",
            " 13  Assortment           864294 non-null  object        \n",
            " 14  CompetitionDistance  864294 non-null  float64       \n",
            " 15  Promo2               864294 non-null  int64         \n",
            " 16  sales_key            864294 non-null  object        \n",
            " 17  AvgSales             864294 non-null  float64       \n",
            "dtypes: datetime64[ns](1), float64(2), int64(11), object(4)\n",
            "memory usage: 125.3+ MB\n"
          ]
        }
      ]
    },
    {
      "cell_type": "markdown",
      "metadata": {
        "id": "fm4vv6VuYtZg"
      },
      "source": [
        "## 2.6.2 Create new variable \"AvgCustomer\" \n",
        "create a variable that calculates Monthly average number of customers for each store, becuase daily number of customer is another variable to be predicted"
      ]
    },
    {
      "cell_type": "code",
      "metadata": {
        "id": "QTgSSlyLYKQF"
      },
      "source": [
        "# calculate weekly average\n",
        "cust = data2[['Year','Month','Store','Customers']].groupby(['Year','Month', 'Store']).mean()\n",
        "cust = cust.rename(columns={'Customers':'AvgCustomer'})\n",
        "cust = cust.reset_index()\n",
        "\n",
        "data2['cust_key']=data2['Year'].map(str) + data2['Month'].map(str) + data2['Store'].map(str)\n",
        "cust['cust_key']=cust['Year'].map(str) + cust['Month'].map(str) + cust['Store'].map(str)\n",
        "\n",
        "# drop original feature Customers\n",
        "data2 = data2.drop('Customers', axis=1)# drop extra columns\n",
        "cust = cust.drop(['Year', 'Month', 'Store'], axis=1)\n",
        "\n",
        "# merge\n",
        "data2 = pd.merge(data2, cust, how=\"left\", on=('cust_key'))"
      ],
      "execution_count": 38,
      "outputs": []
    },
    {
      "cell_type": "code",
      "metadata": {
        "colab": {
          "base_uri": "https://localhost:8080/"
        },
        "id": "vSOqy0m7d24T",
        "outputId": "0b6eb7c3-a6d1-4941-d0c7-0b2077e586d7"
      },
      "source": [
        "data2.info()"
      ],
      "execution_count": 39,
      "outputs": [
        {
          "output_type": "stream",
          "name": "stdout",
          "text": [
            "<class 'pandas.core.frame.DataFrame'>\n",
            "Int64Index: 904206 entries, 0 to 904205\n",
            "Data columns (total 19 columns):\n",
            " #   Column               Non-Null Count   Dtype         \n",
            "---  ------               --------------   -----         \n",
            " 0   Store                904206 non-null  int64         \n",
            " 1   DayOfWeek            904206 non-null  int64         \n",
            " 2   Date                 904206 non-null  datetime64[ns]\n",
            " 3   Sales                904206 non-null  int64         \n",
            " 4   Promo                904206 non-null  int64         \n",
            " 5   StateHoliday         904206 non-null  object        \n",
            " 6   SchoolHoliday        904206 non-null  int64         \n",
            " 7   Year                 904206 non-null  int64         \n",
            " 8   Month                904206 non-null  int64         \n",
            " 9   Day                  904206 non-null  int64         \n",
            " 10  WeekOfYear           904206 non-null  int64         \n",
            " 11  StoreType            904206 non-null  object        \n",
            " 12  Assortment           904206 non-null  object        \n",
            " 13  CompetitionDistance  904206 non-null  float64       \n",
            " 14  Promo2               904206 non-null  int64         \n",
            " 15  sales_key            904206 non-null  object        \n",
            " 16  AvgSales             904206 non-null  float64       \n",
            " 17  cust_key             904206 non-null  object        \n",
            " 18  AvgCustomer          904206 non-null  float64       \n",
            "dtypes: datetime64[ns](1), float64(3), int64(10), object(5)\n",
            "memory usage: 138.0+ MB\n"
          ]
        }
      ]
    },
    {
      "cell_type": "markdown",
      "metadata": {
        "id": "lATXBly7YoAW"
      },
      "source": [
        "## 2.6.3 Transform Variable \"StateHoliday\""
      ]
    },
    {
      "cell_type": "code",
      "metadata": {
        "id": "LnWgYzR6YbVc"
      },
      "source": [
        "# 0 - not a state holiday; 1- is on a state holiday\n",
        "data2['StateHoliday'] = data2.StateHoliday.map({'0':0, 'a':1 ,'b' : 1,'c': 1})\n",
        "\n",
        "# drop extra columns\n",
        "data2 = data2.drop(['cust_key','sales_key','Store','Date'], axis=1)"
      ],
      "execution_count": 40,
      "outputs": []
    },
    {
      "cell_type": "markdown",
      "metadata": {
        "id": "7pkPBB0BlwyX"
      },
      "source": [
        "###Checking data2(merged) columns,unique values"
      ]
    },
    {
      "cell_type": "code",
      "metadata": {
        "id": "I-qvEUxAD6Fj"
      },
      "source": [
        "# let make a copy data for EDA\n",
        "data3 = data.copy()"
      ],
      "execution_count": 41,
      "outputs": []
    },
    {
      "cell_type": "code",
      "metadata": {
        "colab": {
          "base_uri": "https://localhost:8080/"
        },
        "id": "GnfS6-6Jks4A",
        "outputId": "b4271904-0156-4a85-8dd9-cb344efeac16"
      },
      "source": [
        "data3.columns"
      ],
      "execution_count": 42,
      "outputs": [
        {
          "output_type": "execute_result",
          "data": {
            "text/plain": [
              "Index(['Store', 'DayOfWeek', 'Date', 'Sales', 'Customers', 'Promo',\n",
              "       'StateHoliday', 'SchoolHoliday', 'Year', 'Month', 'Day', 'WeekOfYear',\n",
              "       'StoreType', 'Assortment', 'CompetitionDistance', 'Promo2'],\n",
              "      dtype='object')"
            ]
          },
          "metadata": {},
          "execution_count": 42
        }
      ]
    },
    {
      "cell_type": "code",
      "metadata": {
        "colab": {
          "base_uri": "https://localhost:8080/"
        },
        "id": "Yu3DqQzmks69",
        "outputId": "6b11b5ac-ec16-4dca-b923-10f1dd4ab74e"
      },
      "source": [
        "data3.nunique()"
      ],
      "execution_count": 43,
      "outputs": [
        {
          "output_type": "execute_result",
          "data": {
            "text/plain": [
              "Store                   1115\n",
              "DayOfWeek                  7\n",
              "Date                     942\n",
              "Sales                  21733\n",
              "Customers               4083\n",
              "Promo                      2\n",
              "StateHoliday               4\n",
              "SchoolHoliday              2\n",
              "Year                       3\n",
              "Month                     12\n",
              "Day                       31\n",
              "WeekOfYear                52\n",
              "StoreType                  4\n",
              "Assortment                 3\n",
              "CompetitionDistance      655\n",
              "Promo2                     2\n",
              "dtype: int64"
            ]
          },
          "metadata": {},
          "execution_count": 43
        }
      ]
    },
    {
      "cell_type": "code",
      "metadata": {
        "id": "qHFfBoACks8l",
        "colab": {
          "base_uri": "https://localhost:8080/"
        },
        "outputId": "eba29187-3cf6-4128-a6e3-8d4c0d1e47ea"
      },
      "source": [
        "data3.Date.unique()#to check seperately"
      ],
      "execution_count": 44,
      "outputs": [
        {
          "output_type": "execute_result",
          "data": {
            "text/plain": [
              "array(['2015-07-31T00:00:00.000000000', '2015-07-30T00:00:00.000000000',\n",
              "       '2015-07-29T00:00:00.000000000', '2015-07-28T00:00:00.000000000',\n",
              "       '2015-07-27T00:00:00.000000000', '2015-07-26T00:00:00.000000000',\n",
              "       '2015-07-25T00:00:00.000000000', '2015-07-24T00:00:00.000000000',\n",
              "       '2015-07-23T00:00:00.000000000', '2015-07-22T00:00:00.000000000',\n",
              "       '2015-07-21T00:00:00.000000000', '2015-07-20T00:00:00.000000000',\n",
              "       '2015-07-19T00:00:00.000000000', '2015-07-18T00:00:00.000000000',\n",
              "       '2015-07-17T00:00:00.000000000', '2015-07-16T00:00:00.000000000',\n",
              "       '2015-07-15T00:00:00.000000000', '2015-07-14T00:00:00.000000000',\n",
              "       '2015-07-13T00:00:00.000000000', '2015-07-12T00:00:00.000000000',\n",
              "       '2015-07-11T00:00:00.000000000', '2015-07-10T00:00:00.000000000',\n",
              "       '2015-07-09T00:00:00.000000000', '2015-07-08T00:00:00.000000000',\n",
              "       '2015-07-07T00:00:00.000000000', '2015-07-06T00:00:00.000000000',\n",
              "       '2015-07-05T00:00:00.000000000', '2015-07-04T00:00:00.000000000',\n",
              "       '2015-07-03T00:00:00.000000000', '2015-07-02T00:00:00.000000000',\n",
              "       '2015-07-01T00:00:00.000000000', '2015-06-30T00:00:00.000000000',\n",
              "       '2015-06-29T00:00:00.000000000', '2015-06-28T00:00:00.000000000',\n",
              "       '2015-06-27T00:00:00.000000000', '2015-06-26T00:00:00.000000000',\n",
              "       '2015-06-25T00:00:00.000000000', '2015-06-24T00:00:00.000000000',\n",
              "       '2015-06-23T00:00:00.000000000', '2015-06-22T00:00:00.000000000',\n",
              "       '2015-06-21T00:00:00.000000000', '2015-06-20T00:00:00.000000000',\n",
              "       '2015-06-19T00:00:00.000000000', '2015-06-18T00:00:00.000000000',\n",
              "       '2015-06-17T00:00:00.000000000', '2015-06-16T00:00:00.000000000',\n",
              "       '2015-06-15T00:00:00.000000000', '2015-06-14T00:00:00.000000000',\n",
              "       '2015-06-13T00:00:00.000000000', '2015-06-12T00:00:00.000000000',\n",
              "       '2015-06-11T00:00:00.000000000', '2015-06-10T00:00:00.000000000',\n",
              "       '2015-06-09T00:00:00.000000000', '2015-06-08T00:00:00.000000000',\n",
              "       '2015-06-07T00:00:00.000000000', '2015-06-06T00:00:00.000000000',\n",
              "       '2015-06-05T00:00:00.000000000', '2015-06-04T00:00:00.000000000',\n",
              "       '2015-06-03T00:00:00.000000000', '2015-06-02T00:00:00.000000000',\n",
              "       '2015-06-01T00:00:00.000000000', '2015-05-31T00:00:00.000000000',\n",
              "       '2015-05-30T00:00:00.000000000', '2015-05-29T00:00:00.000000000',\n",
              "       '2015-05-28T00:00:00.000000000', '2015-05-27T00:00:00.000000000',\n",
              "       '2015-05-26T00:00:00.000000000', '2015-05-25T00:00:00.000000000',\n",
              "       '2015-05-24T00:00:00.000000000', '2015-05-23T00:00:00.000000000',\n",
              "       '2015-05-22T00:00:00.000000000', '2015-05-21T00:00:00.000000000',\n",
              "       '2015-05-20T00:00:00.000000000', '2015-05-19T00:00:00.000000000',\n",
              "       '2015-05-18T00:00:00.000000000', '2015-05-17T00:00:00.000000000',\n",
              "       '2015-05-16T00:00:00.000000000', '2015-05-15T00:00:00.000000000',\n",
              "       '2015-05-14T00:00:00.000000000', '2015-05-13T00:00:00.000000000',\n",
              "       '2015-05-12T00:00:00.000000000', '2015-05-11T00:00:00.000000000',\n",
              "       '2015-05-10T00:00:00.000000000', '2015-05-09T00:00:00.000000000',\n",
              "       '2015-05-08T00:00:00.000000000', '2015-05-07T00:00:00.000000000',\n",
              "       '2015-05-06T00:00:00.000000000', '2015-05-05T00:00:00.000000000',\n",
              "       '2015-05-04T00:00:00.000000000', '2015-05-03T00:00:00.000000000',\n",
              "       '2015-05-02T00:00:00.000000000', '2015-05-01T00:00:00.000000000',\n",
              "       '2015-04-30T00:00:00.000000000', '2015-04-29T00:00:00.000000000',\n",
              "       '2015-04-28T00:00:00.000000000', '2015-04-27T00:00:00.000000000',\n",
              "       '2015-04-26T00:00:00.000000000', '2015-04-25T00:00:00.000000000',\n",
              "       '2015-04-24T00:00:00.000000000', '2015-04-23T00:00:00.000000000',\n",
              "       '2015-04-22T00:00:00.000000000', '2015-04-21T00:00:00.000000000',\n",
              "       '2015-04-20T00:00:00.000000000', '2015-04-19T00:00:00.000000000',\n",
              "       '2015-04-18T00:00:00.000000000', '2015-04-17T00:00:00.000000000',\n",
              "       '2015-04-16T00:00:00.000000000', '2015-04-15T00:00:00.000000000',\n",
              "       '2015-04-14T00:00:00.000000000', '2015-04-13T00:00:00.000000000',\n",
              "       '2015-04-12T00:00:00.000000000', '2015-04-11T00:00:00.000000000',\n",
              "       '2015-04-10T00:00:00.000000000', '2015-04-09T00:00:00.000000000',\n",
              "       '2015-04-08T00:00:00.000000000', '2015-04-07T00:00:00.000000000',\n",
              "       '2015-04-06T00:00:00.000000000', '2015-04-05T00:00:00.000000000',\n",
              "       '2015-04-04T00:00:00.000000000', '2015-04-03T00:00:00.000000000',\n",
              "       '2015-04-02T00:00:00.000000000', '2015-04-01T00:00:00.000000000',\n",
              "       '2015-03-31T00:00:00.000000000', '2015-03-30T00:00:00.000000000',\n",
              "       '2015-03-29T00:00:00.000000000', '2015-03-28T00:00:00.000000000',\n",
              "       '2015-03-27T00:00:00.000000000', '2015-03-26T00:00:00.000000000',\n",
              "       '2015-03-25T00:00:00.000000000', '2015-03-24T00:00:00.000000000',\n",
              "       '2015-03-23T00:00:00.000000000', '2015-03-22T00:00:00.000000000',\n",
              "       '2015-03-21T00:00:00.000000000', '2015-03-20T00:00:00.000000000',\n",
              "       '2015-03-19T00:00:00.000000000', '2015-03-18T00:00:00.000000000',\n",
              "       '2015-03-17T00:00:00.000000000', '2015-03-16T00:00:00.000000000',\n",
              "       '2015-03-15T00:00:00.000000000', '2015-03-14T00:00:00.000000000',\n",
              "       '2015-03-13T00:00:00.000000000', '2015-03-12T00:00:00.000000000',\n",
              "       '2015-03-11T00:00:00.000000000', '2015-03-10T00:00:00.000000000',\n",
              "       '2015-03-09T00:00:00.000000000', '2015-03-08T00:00:00.000000000',\n",
              "       '2015-03-07T00:00:00.000000000', '2015-03-06T00:00:00.000000000',\n",
              "       '2015-03-05T00:00:00.000000000', '2015-03-04T00:00:00.000000000',\n",
              "       '2015-03-03T00:00:00.000000000', '2015-03-02T00:00:00.000000000',\n",
              "       '2015-03-01T00:00:00.000000000', '2015-02-28T00:00:00.000000000',\n",
              "       '2015-02-27T00:00:00.000000000', '2015-02-26T00:00:00.000000000',\n",
              "       '2015-02-25T00:00:00.000000000', '2015-02-24T00:00:00.000000000',\n",
              "       '2015-02-23T00:00:00.000000000', '2015-02-22T00:00:00.000000000',\n",
              "       '2015-02-21T00:00:00.000000000', '2015-02-20T00:00:00.000000000',\n",
              "       '2015-02-19T00:00:00.000000000', '2015-02-18T00:00:00.000000000',\n",
              "       '2015-02-17T00:00:00.000000000', '2015-02-16T00:00:00.000000000',\n",
              "       '2015-02-15T00:00:00.000000000', '2015-02-14T00:00:00.000000000',\n",
              "       '2015-02-13T00:00:00.000000000', '2015-02-12T00:00:00.000000000',\n",
              "       '2015-02-11T00:00:00.000000000', '2015-02-10T00:00:00.000000000',\n",
              "       '2015-02-09T00:00:00.000000000', '2015-02-08T00:00:00.000000000',\n",
              "       '2015-02-07T00:00:00.000000000', '2015-02-06T00:00:00.000000000',\n",
              "       '2015-02-05T00:00:00.000000000', '2015-02-04T00:00:00.000000000',\n",
              "       '2015-02-03T00:00:00.000000000', '2015-02-02T00:00:00.000000000',\n",
              "       '2015-02-01T00:00:00.000000000', '2015-01-31T00:00:00.000000000',\n",
              "       '2015-01-30T00:00:00.000000000', '2015-01-29T00:00:00.000000000',\n",
              "       '2015-01-28T00:00:00.000000000', '2015-01-27T00:00:00.000000000',\n",
              "       '2015-01-26T00:00:00.000000000', '2015-01-25T00:00:00.000000000',\n",
              "       '2015-01-24T00:00:00.000000000', '2015-01-23T00:00:00.000000000',\n",
              "       '2015-01-22T00:00:00.000000000', '2015-01-21T00:00:00.000000000',\n",
              "       '2015-01-20T00:00:00.000000000', '2015-01-19T00:00:00.000000000',\n",
              "       '2015-01-18T00:00:00.000000000', '2015-01-17T00:00:00.000000000',\n",
              "       '2015-01-16T00:00:00.000000000', '2015-01-15T00:00:00.000000000',\n",
              "       '2015-01-14T00:00:00.000000000', '2015-01-13T00:00:00.000000000',\n",
              "       '2015-01-12T00:00:00.000000000', '2015-01-11T00:00:00.000000000',\n",
              "       '2015-01-10T00:00:00.000000000', '2015-01-09T00:00:00.000000000',\n",
              "       '2015-01-08T00:00:00.000000000', '2015-01-07T00:00:00.000000000',\n",
              "       '2015-01-06T00:00:00.000000000', '2015-01-05T00:00:00.000000000',\n",
              "       '2015-01-04T00:00:00.000000000', '2015-01-03T00:00:00.000000000',\n",
              "       '2015-01-02T00:00:00.000000000', '2015-01-01T00:00:00.000000000',\n",
              "       '2014-12-31T00:00:00.000000000', '2014-12-30T00:00:00.000000000',\n",
              "       '2014-12-29T00:00:00.000000000', '2014-12-28T00:00:00.000000000',\n",
              "       '2014-12-27T00:00:00.000000000', '2014-12-26T00:00:00.000000000',\n",
              "       '2014-12-25T00:00:00.000000000', '2014-12-24T00:00:00.000000000',\n",
              "       '2014-12-23T00:00:00.000000000', '2014-12-22T00:00:00.000000000',\n",
              "       '2014-12-21T00:00:00.000000000', '2014-12-20T00:00:00.000000000',\n",
              "       '2014-12-19T00:00:00.000000000', '2014-12-18T00:00:00.000000000',\n",
              "       '2014-12-17T00:00:00.000000000', '2014-12-16T00:00:00.000000000',\n",
              "       '2014-12-15T00:00:00.000000000', '2014-12-14T00:00:00.000000000',\n",
              "       '2014-12-13T00:00:00.000000000', '2014-12-12T00:00:00.000000000',\n",
              "       '2014-12-11T00:00:00.000000000', '2014-12-10T00:00:00.000000000',\n",
              "       '2014-12-09T00:00:00.000000000', '2014-12-08T00:00:00.000000000',\n",
              "       '2014-12-07T00:00:00.000000000', '2014-12-06T00:00:00.000000000',\n",
              "       '2014-12-05T00:00:00.000000000', '2014-12-04T00:00:00.000000000',\n",
              "       '2014-12-03T00:00:00.000000000', '2014-12-02T00:00:00.000000000',\n",
              "       '2014-12-01T00:00:00.000000000', '2014-11-30T00:00:00.000000000',\n",
              "       '2014-11-29T00:00:00.000000000', '2014-11-28T00:00:00.000000000',\n",
              "       '2014-11-27T00:00:00.000000000', '2014-11-26T00:00:00.000000000',\n",
              "       '2014-11-25T00:00:00.000000000', '2014-11-24T00:00:00.000000000',\n",
              "       '2014-11-23T00:00:00.000000000', '2014-11-22T00:00:00.000000000',\n",
              "       '2014-11-21T00:00:00.000000000', '2014-11-20T00:00:00.000000000',\n",
              "       '2014-11-19T00:00:00.000000000', '2014-11-18T00:00:00.000000000',\n",
              "       '2014-11-17T00:00:00.000000000', '2014-11-16T00:00:00.000000000',\n",
              "       '2014-11-15T00:00:00.000000000', '2014-11-14T00:00:00.000000000',\n",
              "       '2014-11-13T00:00:00.000000000', '2014-11-12T00:00:00.000000000',\n",
              "       '2014-11-11T00:00:00.000000000', '2014-11-10T00:00:00.000000000',\n",
              "       '2014-11-09T00:00:00.000000000', '2014-11-08T00:00:00.000000000',\n",
              "       '2014-11-07T00:00:00.000000000', '2014-11-06T00:00:00.000000000',\n",
              "       '2014-11-05T00:00:00.000000000', '2014-11-04T00:00:00.000000000',\n",
              "       '2014-11-03T00:00:00.000000000', '2014-11-02T00:00:00.000000000',\n",
              "       '2014-11-01T00:00:00.000000000', '2014-10-31T00:00:00.000000000',\n",
              "       '2014-10-30T00:00:00.000000000', '2014-10-29T00:00:00.000000000',\n",
              "       '2014-10-28T00:00:00.000000000', '2014-10-27T00:00:00.000000000',\n",
              "       '2014-10-26T00:00:00.000000000', '2014-10-25T00:00:00.000000000',\n",
              "       '2014-10-24T00:00:00.000000000', '2014-10-23T00:00:00.000000000',\n",
              "       '2014-10-22T00:00:00.000000000', '2014-10-21T00:00:00.000000000',\n",
              "       '2014-10-20T00:00:00.000000000', '2014-10-19T00:00:00.000000000',\n",
              "       '2014-10-18T00:00:00.000000000', '2014-10-17T00:00:00.000000000',\n",
              "       '2014-10-16T00:00:00.000000000', '2014-10-15T00:00:00.000000000',\n",
              "       '2014-10-14T00:00:00.000000000', '2014-10-13T00:00:00.000000000',\n",
              "       '2014-10-12T00:00:00.000000000', '2014-10-11T00:00:00.000000000',\n",
              "       '2014-10-10T00:00:00.000000000', '2014-10-09T00:00:00.000000000',\n",
              "       '2014-10-08T00:00:00.000000000', '2014-10-07T00:00:00.000000000',\n",
              "       '2014-10-06T00:00:00.000000000', '2014-10-05T00:00:00.000000000',\n",
              "       '2014-10-04T00:00:00.000000000', '2014-10-03T00:00:00.000000000',\n",
              "       '2014-10-02T00:00:00.000000000', '2014-10-01T00:00:00.000000000',\n",
              "       '2014-09-30T00:00:00.000000000', '2014-09-29T00:00:00.000000000',\n",
              "       '2014-09-28T00:00:00.000000000', '2014-09-27T00:00:00.000000000',\n",
              "       '2014-09-26T00:00:00.000000000', '2014-09-25T00:00:00.000000000',\n",
              "       '2014-09-24T00:00:00.000000000', '2014-09-23T00:00:00.000000000',\n",
              "       '2014-09-22T00:00:00.000000000', '2014-09-21T00:00:00.000000000',\n",
              "       '2014-09-20T00:00:00.000000000', '2014-09-19T00:00:00.000000000',\n",
              "       '2014-09-18T00:00:00.000000000', '2014-09-17T00:00:00.000000000',\n",
              "       '2014-09-16T00:00:00.000000000', '2014-09-15T00:00:00.000000000',\n",
              "       '2014-09-14T00:00:00.000000000', '2014-09-13T00:00:00.000000000',\n",
              "       '2014-09-12T00:00:00.000000000', '2014-09-11T00:00:00.000000000',\n",
              "       '2014-09-10T00:00:00.000000000', '2014-09-09T00:00:00.000000000',\n",
              "       '2014-09-08T00:00:00.000000000', '2014-09-07T00:00:00.000000000',\n",
              "       '2014-09-06T00:00:00.000000000', '2014-09-05T00:00:00.000000000',\n",
              "       '2014-09-04T00:00:00.000000000', '2014-09-03T00:00:00.000000000',\n",
              "       '2014-09-02T00:00:00.000000000', '2014-09-01T00:00:00.000000000',\n",
              "       '2014-08-31T00:00:00.000000000', '2014-08-30T00:00:00.000000000',\n",
              "       '2014-08-29T00:00:00.000000000', '2014-08-28T00:00:00.000000000',\n",
              "       '2014-08-27T00:00:00.000000000', '2014-08-26T00:00:00.000000000',\n",
              "       '2014-08-25T00:00:00.000000000', '2014-08-24T00:00:00.000000000',\n",
              "       '2014-08-23T00:00:00.000000000', '2014-08-22T00:00:00.000000000',\n",
              "       '2014-08-21T00:00:00.000000000', '2014-08-20T00:00:00.000000000',\n",
              "       '2014-08-19T00:00:00.000000000', '2014-08-18T00:00:00.000000000',\n",
              "       '2014-08-17T00:00:00.000000000', '2014-08-16T00:00:00.000000000',\n",
              "       '2014-08-15T00:00:00.000000000', '2014-08-14T00:00:00.000000000',\n",
              "       '2014-08-13T00:00:00.000000000', '2014-08-12T00:00:00.000000000',\n",
              "       '2014-08-11T00:00:00.000000000', '2014-08-10T00:00:00.000000000',\n",
              "       '2014-08-09T00:00:00.000000000', '2014-08-08T00:00:00.000000000',\n",
              "       '2014-08-07T00:00:00.000000000', '2014-08-06T00:00:00.000000000',\n",
              "       '2014-08-05T00:00:00.000000000', '2014-08-04T00:00:00.000000000',\n",
              "       '2014-08-03T00:00:00.000000000', '2014-08-02T00:00:00.000000000',\n",
              "       '2014-08-01T00:00:00.000000000', '2014-07-31T00:00:00.000000000',\n",
              "       '2014-07-30T00:00:00.000000000', '2014-07-29T00:00:00.000000000',\n",
              "       '2014-07-28T00:00:00.000000000', '2014-07-27T00:00:00.000000000',\n",
              "       '2014-07-26T00:00:00.000000000', '2014-07-25T00:00:00.000000000',\n",
              "       '2014-07-24T00:00:00.000000000', '2014-07-23T00:00:00.000000000',\n",
              "       '2014-07-22T00:00:00.000000000', '2014-07-21T00:00:00.000000000',\n",
              "       '2014-07-20T00:00:00.000000000', '2014-07-19T00:00:00.000000000',\n",
              "       '2014-07-18T00:00:00.000000000', '2014-07-17T00:00:00.000000000',\n",
              "       '2014-07-16T00:00:00.000000000', '2014-07-15T00:00:00.000000000',\n",
              "       '2014-07-14T00:00:00.000000000', '2014-07-13T00:00:00.000000000',\n",
              "       '2014-07-12T00:00:00.000000000', '2014-07-11T00:00:00.000000000',\n",
              "       '2014-07-10T00:00:00.000000000', '2014-07-09T00:00:00.000000000',\n",
              "       '2014-07-08T00:00:00.000000000', '2014-07-07T00:00:00.000000000',\n",
              "       '2014-07-06T00:00:00.000000000', '2014-07-05T00:00:00.000000000',\n",
              "       '2014-07-04T00:00:00.000000000', '2014-07-03T00:00:00.000000000',\n",
              "       '2014-07-02T00:00:00.000000000', '2014-07-01T00:00:00.000000000',\n",
              "       '2014-06-30T00:00:00.000000000', '2014-06-29T00:00:00.000000000',\n",
              "       '2014-06-28T00:00:00.000000000', '2014-06-27T00:00:00.000000000',\n",
              "       '2014-06-26T00:00:00.000000000', '2014-06-25T00:00:00.000000000',\n",
              "       '2014-06-24T00:00:00.000000000', '2014-06-23T00:00:00.000000000',\n",
              "       '2014-06-22T00:00:00.000000000', '2014-06-21T00:00:00.000000000',\n",
              "       '2014-06-20T00:00:00.000000000', '2014-06-19T00:00:00.000000000',\n",
              "       '2014-06-18T00:00:00.000000000', '2014-06-17T00:00:00.000000000',\n",
              "       '2014-06-16T00:00:00.000000000', '2014-06-15T00:00:00.000000000',\n",
              "       '2014-06-14T00:00:00.000000000', '2014-06-13T00:00:00.000000000',\n",
              "       '2014-06-12T00:00:00.000000000', '2014-06-11T00:00:00.000000000',\n",
              "       '2014-06-10T00:00:00.000000000', '2014-06-09T00:00:00.000000000',\n",
              "       '2014-06-08T00:00:00.000000000', '2014-06-07T00:00:00.000000000',\n",
              "       '2014-06-06T00:00:00.000000000', '2014-06-05T00:00:00.000000000',\n",
              "       '2014-06-04T00:00:00.000000000', '2014-06-03T00:00:00.000000000',\n",
              "       '2014-06-02T00:00:00.000000000', '2014-06-01T00:00:00.000000000',\n",
              "       '2014-05-31T00:00:00.000000000', '2014-05-30T00:00:00.000000000',\n",
              "       '2014-05-29T00:00:00.000000000', '2014-05-28T00:00:00.000000000',\n",
              "       '2014-05-27T00:00:00.000000000', '2014-05-26T00:00:00.000000000',\n",
              "       '2014-05-25T00:00:00.000000000', '2014-05-24T00:00:00.000000000',\n",
              "       '2014-05-23T00:00:00.000000000', '2014-05-22T00:00:00.000000000',\n",
              "       '2014-05-21T00:00:00.000000000', '2014-05-20T00:00:00.000000000',\n",
              "       '2014-05-19T00:00:00.000000000', '2014-05-18T00:00:00.000000000',\n",
              "       '2014-05-17T00:00:00.000000000', '2014-05-16T00:00:00.000000000',\n",
              "       '2014-05-15T00:00:00.000000000', '2014-05-14T00:00:00.000000000',\n",
              "       '2014-05-13T00:00:00.000000000', '2014-05-12T00:00:00.000000000',\n",
              "       '2014-05-11T00:00:00.000000000', '2014-05-10T00:00:00.000000000',\n",
              "       '2014-05-09T00:00:00.000000000', '2014-05-08T00:00:00.000000000',\n",
              "       '2014-05-07T00:00:00.000000000', '2014-05-06T00:00:00.000000000',\n",
              "       '2014-05-05T00:00:00.000000000', '2014-05-04T00:00:00.000000000',\n",
              "       '2014-05-03T00:00:00.000000000', '2014-05-02T00:00:00.000000000',\n",
              "       '2014-05-01T00:00:00.000000000', '2014-04-30T00:00:00.000000000',\n",
              "       '2014-04-29T00:00:00.000000000', '2014-04-28T00:00:00.000000000',\n",
              "       '2014-04-27T00:00:00.000000000', '2014-04-26T00:00:00.000000000',\n",
              "       '2014-04-25T00:00:00.000000000', '2014-04-24T00:00:00.000000000',\n",
              "       '2014-04-23T00:00:00.000000000', '2014-04-22T00:00:00.000000000',\n",
              "       '2014-04-21T00:00:00.000000000', '2014-04-20T00:00:00.000000000',\n",
              "       '2014-04-19T00:00:00.000000000', '2014-04-18T00:00:00.000000000',\n",
              "       '2014-04-17T00:00:00.000000000', '2014-04-16T00:00:00.000000000',\n",
              "       '2014-04-15T00:00:00.000000000', '2014-04-14T00:00:00.000000000',\n",
              "       '2014-04-13T00:00:00.000000000', '2014-04-12T00:00:00.000000000',\n",
              "       '2014-04-11T00:00:00.000000000', '2014-04-10T00:00:00.000000000',\n",
              "       '2014-04-09T00:00:00.000000000', '2014-04-08T00:00:00.000000000',\n",
              "       '2014-04-07T00:00:00.000000000', '2014-04-06T00:00:00.000000000',\n",
              "       '2014-04-05T00:00:00.000000000', '2014-04-04T00:00:00.000000000',\n",
              "       '2014-04-03T00:00:00.000000000', '2014-04-02T00:00:00.000000000',\n",
              "       '2014-04-01T00:00:00.000000000', '2014-03-31T00:00:00.000000000',\n",
              "       '2014-03-30T00:00:00.000000000', '2014-03-29T00:00:00.000000000',\n",
              "       '2014-03-28T00:00:00.000000000', '2014-03-27T00:00:00.000000000',\n",
              "       '2014-03-26T00:00:00.000000000', '2014-03-25T00:00:00.000000000',\n",
              "       '2014-03-24T00:00:00.000000000', '2014-03-23T00:00:00.000000000',\n",
              "       '2014-03-22T00:00:00.000000000', '2014-03-21T00:00:00.000000000',\n",
              "       '2014-03-20T00:00:00.000000000', '2014-03-19T00:00:00.000000000',\n",
              "       '2014-03-18T00:00:00.000000000', '2014-03-17T00:00:00.000000000',\n",
              "       '2014-03-16T00:00:00.000000000', '2014-03-15T00:00:00.000000000',\n",
              "       '2014-03-14T00:00:00.000000000', '2014-03-13T00:00:00.000000000',\n",
              "       '2014-03-12T00:00:00.000000000', '2014-03-11T00:00:00.000000000',\n",
              "       '2014-03-10T00:00:00.000000000', '2014-03-09T00:00:00.000000000',\n",
              "       '2014-03-08T00:00:00.000000000', '2014-03-07T00:00:00.000000000',\n",
              "       '2014-03-06T00:00:00.000000000', '2014-03-05T00:00:00.000000000',\n",
              "       '2014-03-04T00:00:00.000000000', '2014-03-03T00:00:00.000000000',\n",
              "       '2014-03-02T00:00:00.000000000', '2014-03-01T00:00:00.000000000',\n",
              "       '2014-02-28T00:00:00.000000000', '2014-02-27T00:00:00.000000000',\n",
              "       '2014-02-26T00:00:00.000000000', '2014-02-25T00:00:00.000000000',\n",
              "       '2014-02-24T00:00:00.000000000', '2014-02-23T00:00:00.000000000',\n",
              "       '2014-02-22T00:00:00.000000000', '2014-02-21T00:00:00.000000000',\n",
              "       '2014-02-20T00:00:00.000000000', '2014-02-19T00:00:00.000000000',\n",
              "       '2014-02-18T00:00:00.000000000', '2014-02-17T00:00:00.000000000',\n",
              "       '2014-02-16T00:00:00.000000000', '2014-02-15T00:00:00.000000000',\n",
              "       '2014-02-14T00:00:00.000000000', '2014-02-13T00:00:00.000000000',\n",
              "       '2014-02-12T00:00:00.000000000', '2014-02-11T00:00:00.000000000',\n",
              "       '2014-02-10T00:00:00.000000000', '2014-02-09T00:00:00.000000000',\n",
              "       '2014-02-08T00:00:00.000000000', '2014-02-07T00:00:00.000000000',\n",
              "       '2014-02-06T00:00:00.000000000', '2014-02-05T00:00:00.000000000',\n",
              "       '2014-02-04T00:00:00.000000000', '2014-02-03T00:00:00.000000000',\n",
              "       '2014-02-02T00:00:00.000000000', '2014-02-01T00:00:00.000000000',\n",
              "       '2014-01-31T00:00:00.000000000', '2014-01-30T00:00:00.000000000',\n",
              "       '2014-01-29T00:00:00.000000000', '2014-01-28T00:00:00.000000000',\n",
              "       '2014-01-27T00:00:00.000000000', '2014-01-26T00:00:00.000000000',\n",
              "       '2014-01-25T00:00:00.000000000', '2014-01-24T00:00:00.000000000',\n",
              "       '2014-01-23T00:00:00.000000000', '2014-01-22T00:00:00.000000000',\n",
              "       '2014-01-21T00:00:00.000000000', '2014-01-20T00:00:00.000000000',\n",
              "       '2014-01-19T00:00:00.000000000', '2014-01-18T00:00:00.000000000',\n",
              "       '2014-01-17T00:00:00.000000000', '2014-01-16T00:00:00.000000000',\n",
              "       '2014-01-15T00:00:00.000000000', '2014-01-14T00:00:00.000000000',\n",
              "       '2014-01-13T00:00:00.000000000', '2014-01-12T00:00:00.000000000',\n",
              "       '2014-01-11T00:00:00.000000000', '2014-01-10T00:00:00.000000000',\n",
              "       '2014-01-09T00:00:00.000000000', '2014-01-08T00:00:00.000000000',\n",
              "       '2014-01-07T00:00:00.000000000', '2014-01-06T00:00:00.000000000',\n",
              "       '2014-01-05T00:00:00.000000000', '2014-01-04T00:00:00.000000000',\n",
              "       '2014-01-03T00:00:00.000000000', '2014-01-02T00:00:00.000000000',\n",
              "       '2014-01-01T00:00:00.000000000', '2013-12-31T00:00:00.000000000',\n",
              "       '2013-12-30T00:00:00.000000000', '2013-12-29T00:00:00.000000000',\n",
              "       '2013-12-28T00:00:00.000000000', '2013-12-27T00:00:00.000000000',\n",
              "       '2013-12-26T00:00:00.000000000', '2013-12-25T00:00:00.000000000',\n",
              "       '2013-12-24T00:00:00.000000000', '2013-12-23T00:00:00.000000000',\n",
              "       '2013-12-22T00:00:00.000000000', '2013-12-21T00:00:00.000000000',\n",
              "       '2013-12-20T00:00:00.000000000', '2013-12-19T00:00:00.000000000',\n",
              "       '2013-12-18T00:00:00.000000000', '2013-12-17T00:00:00.000000000',\n",
              "       '2013-12-16T00:00:00.000000000', '2013-12-15T00:00:00.000000000',\n",
              "       '2013-12-14T00:00:00.000000000', '2013-12-13T00:00:00.000000000',\n",
              "       '2013-12-12T00:00:00.000000000', '2013-12-11T00:00:00.000000000',\n",
              "       '2013-12-10T00:00:00.000000000', '2013-12-09T00:00:00.000000000',\n",
              "       '2013-12-08T00:00:00.000000000', '2013-12-07T00:00:00.000000000',\n",
              "       '2013-12-06T00:00:00.000000000', '2013-12-05T00:00:00.000000000',\n",
              "       '2013-12-04T00:00:00.000000000', '2013-12-03T00:00:00.000000000',\n",
              "       '2013-12-02T00:00:00.000000000', '2013-12-01T00:00:00.000000000',\n",
              "       '2013-11-30T00:00:00.000000000', '2013-11-29T00:00:00.000000000',\n",
              "       '2013-11-28T00:00:00.000000000', '2013-11-27T00:00:00.000000000',\n",
              "       '2013-11-26T00:00:00.000000000', '2013-11-25T00:00:00.000000000',\n",
              "       '2013-11-24T00:00:00.000000000', '2013-11-23T00:00:00.000000000',\n",
              "       '2013-11-22T00:00:00.000000000', '2013-11-21T00:00:00.000000000',\n",
              "       '2013-11-20T00:00:00.000000000', '2013-11-19T00:00:00.000000000',\n",
              "       '2013-11-18T00:00:00.000000000', '2013-11-17T00:00:00.000000000',\n",
              "       '2013-11-16T00:00:00.000000000', '2013-11-15T00:00:00.000000000',\n",
              "       '2013-11-14T00:00:00.000000000', '2013-11-13T00:00:00.000000000',\n",
              "       '2013-11-12T00:00:00.000000000', '2013-11-11T00:00:00.000000000',\n",
              "       '2013-11-10T00:00:00.000000000', '2013-11-09T00:00:00.000000000',\n",
              "       '2013-11-08T00:00:00.000000000', '2013-11-07T00:00:00.000000000',\n",
              "       '2013-11-06T00:00:00.000000000', '2013-11-05T00:00:00.000000000',\n",
              "       '2013-11-04T00:00:00.000000000', '2013-11-03T00:00:00.000000000',\n",
              "       '2013-11-02T00:00:00.000000000', '2013-11-01T00:00:00.000000000',\n",
              "       '2013-10-31T00:00:00.000000000', '2013-10-30T00:00:00.000000000',\n",
              "       '2013-10-29T00:00:00.000000000', '2013-10-28T00:00:00.000000000',\n",
              "       '2013-10-27T00:00:00.000000000', '2013-10-26T00:00:00.000000000',\n",
              "       '2013-10-25T00:00:00.000000000', '2013-10-24T00:00:00.000000000',\n",
              "       '2013-10-23T00:00:00.000000000', '2013-10-22T00:00:00.000000000',\n",
              "       '2013-10-21T00:00:00.000000000', '2013-10-20T00:00:00.000000000',\n",
              "       '2013-10-19T00:00:00.000000000', '2013-10-18T00:00:00.000000000',\n",
              "       '2013-10-17T00:00:00.000000000', '2013-10-16T00:00:00.000000000',\n",
              "       '2013-10-15T00:00:00.000000000', '2013-10-14T00:00:00.000000000',\n",
              "       '2013-10-13T00:00:00.000000000', '2013-10-12T00:00:00.000000000',\n",
              "       '2013-10-11T00:00:00.000000000', '2013-10-10T00:00:00.000000000',\n",
              "       '2013-10-09T00:00:00.000000000', '2013-10-08T00:00:00.000000000',\n",
              "       '2013-10-07T00:00:00.000000000', '2013-10-06T00:00:00.000000000',\n",
              "       '2013-10-05T00:00:00.000000000', '2013-10-04T00:00:00.000000000',\n",
              "       '2013-10-03T00:00:00.000000000', '2013-10-02T00:00:00.000000000',\n",
              "       '2013-10-01T00:00:00.000000000', '2013-09-30T00:00:00.000000000',\n",
              "       '2013-09-29T00:00:00.000000000', '2013-09-28T00:00:00.000000000',\n",
              "       '2013-09-27T00:00:00.000000000', '2013-09-26T00:00:00.000000000',\n",
              "       '2013-09-25T00:00:00.000000000', '2013-09-24T00:00:00.000000000',\n",
              "       '2013-09-23T00:00:00.000000000', '2013-09-22T00:00:00.000000000',\n",
              "       '2013-09-21T00:00:00.000000000', '2013-09-20T00:00:00.000000000',\n",
              "       '2013-09-19T00:00:00.000000000', '2013-09-18T00:00:00.000000000',\n",
              "       '2013-09-17T00:00:00.000000000', '2013-09-16T00:00:00.000000000',\n",
              "       '2013-09-15T00:00:00.000000000', '2013-09-14T00:00:00.000000000',\n",
              "       '2013-09-13T00:00:00.000000000', '2013-09-12T00:00:00.000000000',\n",
              "       '2013-09-11T00:00:00.000000000', '2013-09-10T00:00:00.000000000',\n",
              "       '2013-09-09T00:00:00.000000000', '2013-09-08T00:00:00.000000000',\n",
              "       '2013-09-07T00:00:00.000000000', '2013-09-06T00:00:00.000000000',\n",
              "       '2013-09-05T00:00:00.000000000', '2013-09-04T00:00:00.000000000',\n",
              "       '2013-09-03T00:00:00.000000000', '2013-09-02T00:00:00.000000000',\n",
              "       '2013-09-01T00:00:00.000000000', '2013-08-31T00:00:00.000000000',\n",
              "       '2013-08-30T00:00:00.000000000', '2013-08-29T00:00:00.000000000',\n",
              "       '2013-08-28T00:00:00.000000000', '2013-08-27T00:00:00.000000000',\n",
              "       '2013-08-26T00:00:00.000000000', '2013-08-25T00:00:00.000000000',\n",
              "       '2013-08-24T00:00:00.000000000', '2013-08-23T00:00:00.000000000',\n",
              "       '2013-08-22T00:00:00.000000000', '2013-08-21T00:00:00.000000000',\n",
              "       '2013-08-20T00:00:00.000000000', '2013-08-19T00:00:00.000000000',\n",
              "       '2013-08-18T00:00:00.000000000', '2013-08-17T00:00:00.000000000',\n",
              "       '2013-08-16T00:00:00.000000000', '2013-08-15T00:00:00.000000000',\n",
              "       '2013-08-14T00:00:00.000000000', '2013-08-13T00:00:00.000000000',\n",
              "       '2013-08-12T00:00:00.000000000', '2013-08-11T00:00:00.000000000',\n",
              "       '2013-08-10T00:00:00.000000000', '2013-08-09T00:00:00.000000000',\n",
              "       '2013-08-08T00:00:00.000000000', '2013-08-07T00:00:00.000000000',\n",
              "       '2013-08-06T00:00:00.000000000', '2013-08-05T00:00:00.000000000',\n",
              "       '2013-08-04T00:00:00.000000000', '2013-08-03T00:00:00.000000000',\n",
              "       '2013-08-02T00:00:00.000000000', '2013-08-01T00:00:00.000000000',\n",
              "       '2013-07-31T00:00:00.000000000', '2013-07-30T00:00:00.000000000',\n",
              "       '2013-07-29T00:00:00.000000000', '2013-07-28T00:00:00.000000000',\n",
              "       '2013-07-27T00:00:00.000000000', '2013-07-26T00:00:00.000000000',\n",
              "       '2013-07-25T00:00:00.000000000', '2013-07-24T00:00:00.000000000',\n",
              "       '2013-07-23T00:00:00.000000000', '2013-07-22T00:00:00.000000000',\n",
              "       '2013-07-21T00:00:00.000000000', '2013-07-20T00:00:00.000000000',\n",
              "       '2013-07-19T00:00:00.000000000', '2013-07-18T00:00:00.000000000',\n",
              "       '2013-07-17T00:00:00.000000000', '2013-07-16T00:00:00.000000000',\n",
              "       '2013-07-15T00:00:00.000000000', '2013-07-14T00:00:00.000000000',\n",
              "       '2013-07-13T00:00:00.000000000', '2013-07-12T00:00:00.000000000',\n",
              "       '2013-07-11T00:00:00.000000000', '2013-07-10T00:00:00.000000000',\n",
              "       '2013-07-09T00:00:00.000000000', '2013-07-08T00:00:00.000000000',\n",
              "       '2013-07-07T00:00:00.000000000', '2013-07-06T00:00:00.000000000',\n",
              "       '2013-07-05T00:00:00.000000000', '2013-07-04T00:00:00.000000000',\n",
              "       '2013-07-03T00:00:00.000000000', '2013-07-02T00:00:00.000000000',\n",
              "       '2013-07-01T00:00:00.000000000', '2013-06-30T00:00:00.000000000',\n",
              "       '2013-06-29T00:00:00.000000000', '2013-06-28T00:00:00.000000000',\n",
              "       '2013-06-27T00:00:00.000000000', '2013-06-26T00:00:00.000000000',\n",
              "       '2013-06-25T00:00:00.000000000', '2013-06-24T00:00:00.000000000',\n",
              "       '2013-06-23T00:00:00.000000000', '2013-06-22T00:00:00.000000000',\n",
              "       '2013-06-21T00:00:00.000000000', '2013-06-20T00:00:00.000000000',\n",
              "       '2013-06-19T00:00:00.000000000', '2013-06-18T00:00:00.000000000',\n",
              "       '2013-06-17T00:00:00.000000000', '2013-06-16T00:00:00.000000000',\n",
              "       '2013-06-15T00:00:00.000000000', '2013-06-14T00:00:00.000000000',\n",
              "       '2013-06-13T00:00:00.000000000', '2013-06-12T00:00:00.000000000',\n",
              "       '2013-06-11T00:00:00.000000000', '2013-06-10T00:00:00.000000000',\n",
              "       '2013-06-09T00:00:00.000000000', '2013-06-08T00:00:00.000000000',\n",
              "       '2013-06-07T00:00:00.000000000', '2013-06-06T00:00:00.000000000',\n",
              "       '2013-06-05T00:00:00.000000000', '2013-06-04T00:00:00.000000000',\n",
              "       '2013-06-03T00:00:00.000000000', '2013-06-02T00:00:00.000000000',\n",
              "       '2013-06-01T00:00:00.000000000', '2013-05-31T00:00:00.000000000',\n",
              "       '2013-05-30T00:00:00.000000000', '2013-05-29T00:00:00.000000000',\n",
              "       '2013-05-28T00:00:00.000000000', '2013-05-27T00:00:00.000000000',\n",
              "       '2013-05-26T00:00:00.000000000', '2013-05-25T00:00:00.000000000',\n",
              "       '2013-05-24T00:00:00.000000000', '2013-05-23T00:00:00.000000000',\n",
              "       '2013-05-22T00:00:00.000000000', '2013-05-21T00:00:00.000000000',\n",
              "       '2013-05-20T00:00:00.000000000', '2013-05-19T00:00:00.000000000',\n",
              "       '2013-05-18T00:00:00.000000000', '2013-05-17T00:00:00.000000000',\n",
              "       '2013-05-16T00:00:00.000000000', '2013-05-15T00:00:00.000000000',\n",
              "       '2013-05-14T00:00:00.000000000', '2013-05-13T00:00:00.000000000',\n",
              "       '2013-05-12T00:00:00.000000000', '2013-05-11T00:00:00.000000000',\n",
              "       '2013-05-10T00:00:00.000000000', '2013-05-09T00:00:00.000000000',\n",
              "       '2013-05-08T00:00:00.000000000', '2013-05-07T00:00:00.000000000',\n",
              "       '2013-05-06T00:00:00.000000000', '2013-05-05T00:00:00.000000000',\n",
              "       '2013-05-04T00:00:00.000000000', '2013-05-03T00:00:00.000000000',\n",
              "       '2013-05-02T00:00:00.000000000', '2013-05-01T00:00:00.000000000',\n",
              "       '2013-04-30T00:00:00.000000000', '2013-04-29T00:00:00.000000000',\n",
              "       '2013-04-28T00:00:00.000000000', '2013-04-27T00:00:00.000000000',\n",
              "       '2013-04-26T00:00:00.000000000', '2013-04-25T00:00:00.000000000',\n",
              "       '2013-04-24T00:00:00.000000000', '2013-04-23T00:00:00.000000000',\n",
              "       '2013-04-22T00:00:00.000000000', '2013-04-21T00:00:00.000000000',\n",
              "       '2013-04-20T00:00:00.000000000', '2013-04-19T00:00:00.000000000',\n",
              "       '2013-04-18T00:00:00.000000000', '2013-04-17T00:00:00.000000000',\n",
              "       '2013-04-16T00:00:00.000000000', '2013-04-15T00:00:00.000000000',\n",
              "       '2013-04-14T00:00:00.000000000', '2013-04-13T00:00:00.000000000',\n",
              "       '2013-04-12T00:00:00.000000000', '2013-04-11T00:00:00.000000000',\n",
              "       '2013-04-10T00:00:00.000000000', '2013-04-09T00:00:00.000000000',\n",
              "       '2013-04-08T00:00:00.000000000', '2013-04-07T00:00:00.000000000',\n",
              "       '2013-04-06T00:00:00.000000000', '2013-04-05T00:00:00.000000000',\n",
              "       '2013-04-04T00:00:00.000000000', '2013-04-03T00:00:00.000000000',\n",
              "       '2013-04-02T00:00:00.000000000', '2013-04-01T00:00:00.000000000',\n",
              "       '2013-03-31T00:00:00.000000000', '2013-03-30T00:00:00.000000000',\n",
              "       '2013-03-29T00:00:00.000000000', '2013-03-28T00:00:00.000000000',\n",
              "       '2013-03-27T00:00:00.000000000', '2013-03-26T00:00:00.000000000',\n",
              "       '2013-03-25T00:00:00.000000000', '2013-03-24T00:00:00.000000000',\n",
              "       '2013-03-23T00:00:00.000000000', '2013-03-22T00:00:00.000000000',\n",
              "       '2013-03-21T00:00:00.000000000', '2013-03-20T00:00:00.000000000',\n",
              "       '2013-03-19T00:00:00.000000000', '2013-03-18T00:00:00.000000000',\n",
              "       '2013-03-17T00:00:00.000000000', '2013-03-16T00:00:00.000000000',\n",
              "       '2013-03-15T00:00:00.000000000', '2013-03-14T00:00:00.000000000',\n",
              "       '2013-03-13T00:00:00.000000000', '2013-03-12T00:00:00.000000000',\n",
              "       '2013-03-11T00:00:00.000000000', '2013-03-10T00:00:00.000000000',\n",
              "       '2013-03-09T00:00:00.000000000', '2013-03-08T00:00:00.000000000',\n",
              "       '2013-03-07T00:00:00.000000000', '2013-03-06T00:00:00.000000000',\n",
              "       '2013-03-05T00:00:00.000000000', '2013-03-04T00:00:00.000000000',\n",
              "       '2013-03-03T00:00:00.000000000', '2013-03-02T00:00:00.000000000',\n",
              "       '2013-03-01T00:00:00.000000000', '2013-02-28T00:00:00.000000000',\n",
              "       '2013-02-27T00:00:00.000000000', '2013-02-26T00:00:00.000000000',\n",
              "       '2013-02-25T00:00:00.000000000', '2013-02-24T00:00:00.000000000',\n",
              "       '2013-02-23T00:00:00.000000000', '2013-02-22T00:00:00.000000000',\n",
              "       '2013-02-21T00:00:00.000000000', '2013-02-20T00:00:00.000000000',\n",
              "       '2013-02-19T00:00:00.000000000', '2013-02-18T00:00:00.000000000',\n",
              "       '2013-02-17T00:00:00.000000000', '2013-02-16T00:00:00.000000000',\n",
              "       '2013-02-15T00:00:00.000000000', '2013-02-14T00:00:00.000000000',\n",
              "       '2013-02-13T00:00:00.000000000', '2013-02-12T00:00:00.000000000',\n",
              "       '2013-02-11T00:00:00.000000000', '2013-02-10T00:00:00.000000000',\n",
              "       '2013-02-09T00:00:00.000000000', '2013-02-08T00:00:00.000000000',\n",
              "       '2013-02-07T00:00:00.000000000', '2013-02-06T00:00:00.000000000',\n",
              "       '2013-02-05T00:00:00.000000000', '2013-02-04T00:00:00.000000000',\n",
              "       '2013-02-03T00:00:00.000000000', '2013-02-02T00:00:00.000000000',\n",
              "       '2013-02-01T00:00:00.000000000', '2013-01-31T00:00:00.000000000',\n",
              "       '2013-01-30T00:00:00.000000000', '2013-01-29T00:00:00.000000000',\n",
              "       '2013-01-28T00:00:00.000000000', '2013-01-27T00:00:00.000000000',\n",
              "       '2013-01-26T00:00:00.000000000', '2013-01-25T00:00:00.000000000',\n",
              "       '2013-01-24T00:00:00.000000000', '2013-01-23T00:00:00.000000000',\n",
              "       '2013-01-22T00:00:00.000000000', '2013-01-21T00:00:00.000000000',\n",
              "       '2013-01-20T00:00:00.000000000', '2013-01-19T00:00:00.000000000',\n",
              "       '2013-01-18T00:00:00.000000000', '2013-01-17T00:00:00.000000000',\n",
              "       '2013-01-16T00:00:00.000000000', '2013-01-15T00:00:00.000000000',\n",
              "       '2013-01-14T00:00:00.000000000', '2013-01-13T00:00:00.000000000',\n",
              "       '2013-01-12T00:00:00.000000000', '2013-01-11T00:00:00.000000000',\n",
              "       '2013-01-10T00:00:00.000000000', '2013-01-09T00:00:00.000000000',\n",
              "       '2013-01-08T00:00:00.000000000', '2013-01-07T00:00:00.000000000',\n",
              "       '2013-01-06T00:00:00.000000000', '2013-01-05T00:00:00.000000000',\n",
              "       '2013-01-04T00:00:00.000000000', '2013-01-03T00:00:00.000000000',\n",
              "       '2013-01-02T00:00:00.000000000', '2013-01-01T00:00:00.000000000'],\n",
              "      dtype='datetime64[ns]')"
            ]
          },
          "metadata": {},
          "execution_count": 44
        }
      ]
    },
    {
      "cell_type": "markdown",
      "metadata": {
        "id": "3XZ7jAzhlRr-"
      },
      "source": [
        "<B>The dataset is from 1 January 2013 to 31 July 2015 , i.e. approx. 2.5 yrs."
      ]
    },
    {
      "cell_type": "code",
      "metadata": {
        "colab": {
          "base_uri": "https://localhost:8080/"
        },
        "id": "9mNJneFwks_a",
        "outputId": "39e53c8f-161d-4f0b-8ab2-5d7597150e2c"
      },
      "source": [
        "li = [\"DayOfWeek\" , \"StateHoliday\" , \"SchoolHoliday\"]\n",
        "\n",
        "for i in li:\n",
        "  print(i)\n",
        "  print(data2[i].unique())\n",
        "  print(\"-----------------------\")"
      ],
      "execution_count": 45,
      "outputs": [
        {
          "output_type": "stream",
          "name": "stdout",
          "text": [
            "DayOfWeek\n",
            "[5 4 3 2 1 7 6]\n",
            "-----------------------\n",
            "StateHoliday\n",
            "[0 1]\n",
            "-----------------------\n",
            "SchoolHoliday\n",
            "[1 0]\n",
            "-----------------------\n"
          ]
        }
      ]
    },
    {
      "cell_type": "markdown",
      "metadata": {
        "id": "QvhpK1tEldmR"
      },
      "source": [
        "<b>a = public holiday, b = Easter holiday, c = Christmas, 0 = No holidays\n",
        "\n",
        "Indicates if the (Store, Date) was affected by the closure of public schools"
      ]
    },
    {
      "cell_type": "code",
      "metadata": {
        "colab": {
          "base_uri": "https://localhost:8080/"
        },
        "id": "mhRITsKrktDO",
        "outputId": "e42fea6f-bd84-4582-819f-2b54feb9d0db"
      },
      "source": [
        "data3.Store.nunique()"
      ],
      "execution_count": 46,
      "outputs": [
        {
          "output_type": "execute_result",
          "data": {
            "text/plain": [
              "1115"
            ]
          },
          "metadata": {},
          "execution_count": 46
        }
      ]
    },
    {
      "cell_type": "markdown",
      "metadata": {
        "id": "j9gw-2W4bxhb"
      },
      "source": [
        "#<b> Exploratory Data Analysis"
      ]
    },
    {
      "cell_type": "markdown",
      "metadata": {
        "id": "GRMtUuU0nufS"
      },
      "source": [
        "###<B> 1. Average Sales & Sales percent change"
      ]
    },
    {
      "cell_type": "code",
      "metadata": {
        "id": "7sHdX-s-idst"
      },
      "source": [
        "# Date\n",
        "\n",
        "# Create Year and Month columns\n",
        "R_data['Year']  = R_data['Date'].apply(lambda x: int(str(x)[:4]))\n",
        "R_data['Month'] = R_data['Date'].apply(lambda x: int(str(x)[5:7]))\n",
        "\n",
        "data3['Year']  = data3['Date'].apply(lambda x: int(str(x)[:4]))\n",
        "data3['Month'] = data3['Date'].apply(lambda x: int(str(x)[5:7]))\n",
        "\n",
        "# Assign Date column to Date(Year-Month) instead of (Year-Month-Day)\n",
        "# this column will be useful in analysis and visualization\n",
        "R_data['Date'] = R_data['Date'].apply(lambda x: (str(x)[:7]))\n",
        "data3['Date'] = data3['Date'].apply(lambda x: (str(x)[:7]))"
      ],
      "execution_count": 50,
      "outputs": []
    },
    {
      "cell_type": "code",
      "metadata": {
        "colab": {
          "base_uri": "https://localhost:8080/",
          "height": 554
        },
        "id": "i0AHxBtkilIb",
        "outputId": "92bbaa8f-0b18-4da5-c892-80411e6e8260"
      },
      "source": [
        "# group by date and get average sales, and precent change\n",
        "average_sales    = R_data.groupby('Date')[\"Sales\"].mean()\n",
        "pct_change_sales = R_data.groupby('Date')[\"Sales\"].sum().pct_change()\n",
        "\n",
        "fig, (axis1,axis2) = plt.subplots(2,1,sharex=True,figsize=(15,8))\n",
        "\n",
        "# plot average sales over time(year-month)\n",
        "ax1 = average_sales.plot(legend=True,ax=axis1,marker='o',title=\"Average Sales\")\n",
        "ax1.set_xticks(range(len(average_sales)))\n",
        "ax1.set_xticklabels(average_sales.index.tolist(), rotation=90)\n",
        "\n",
        "# plot precent change for sales over time(year-month)\n",
        "ax2 = pct_change_sales.plot(legend=True,ax=axis2,marker='o',rot=90,colormap=\"summer\",title=\"Sales Percent Change\")\n",
        "# ax2.set_xticks(range(len(pct_change_sales)))\n",
        "# ax2.set_xticklabels(pct_change_sales.index.tolist(), rotation=90)"
      ],
      "execution_count": 51,
      "outputs": [
        {
          "output_type": "display_data",
          "data": {
            "image/png": "[encoded data removed]",
            "text/plain": [
              "<Figure size 1080x576 with 2 Axes>"
            ]
          },
          "metadata": {}
        }
      ]
    },
    {
      "cell_type": "code",
      "metadata": {
        "colab": {
          "base_uri": "https://localhost:8080/",
          "height": 302
        },
        "id": "jBBPkWbaiub_",
        "outputId": "76bf224b-86a8-48ec-fc38-ad3462bb7932"
      },
      "source": [
        "# .... contiune with Date\n",
        "\n",
        "# Plot average sales & customers for every year\n",
        "fig, (axis1,axis2) = plt.subplots(1,2,figsize=(15,4))\n",
        "\n",
        "sns.barplot(x='Year', y='Sales', data=R_data, ax=axis1)\n",
        "sns.barplot(x='Year', y='Customers', data=R_data, ax=axis2)\n",
        "\n",
        "# Drop Date column\n",
        "# R_df.drop(['Date'], axis=1,inplace=True)\n",
        "# test_df.drop(['Date'], axis=1,inplace=True)"
      ],
      "execution_count": 52,
      "outputs": [
        {
          "output_type": "execute_result",
          "data": {
            "text/plain": [
              "<matplotlib.axes._subplots.AxesSubplot at 0x7f6f25de38d0>"
            ]
          },
          "metadata": {},
          "execution_count": 52
        },
        {
          "output_type": "display_data",
          "data": {
            "image/png": "[encoded data removed]",
            "text/plain": [
              "<Figure size 1080x288 with 2 Axes>"
            ]
          },
          "metadata": {}
        }
      ]
    },
    {
      "cell_type": "markdown",
      "metadata": {
        "id": "_bNvedpuoyjK"
      },
      "source": [
        "###<B>2. Sales affected by SchoolHoliday or not?"
      ]
    },
    {
      "cell_type": "code",
      "metadata": {
        "colab": {
          "base_uri": "https://localhost:8080/",
          "height": 570
        },
        "id": "59cfP4epxVyQ",
        "outputId": "0357be44-8167-40df-b3c1-8d22548d38d7"
      },
      "source": [
        "# SchoolHoliday\n",
        "\n",
        "# Plot\n",
        "sns.countplot(x='SchoolHoliday', data=R_data)\n",
        "\n",
        "fig, (axis1,axis2) = plt.subplots(1,2,figsize=(15,4))\n",
        "\n",
        "sns.barplot(x='SchoolHoliday', y='Sales', data=R_data, ax=axis1)\n",
        "sns.barplot(x='SchoolHoliday', y='Customers', data=R_data, ax=axis2)"
      ],
      "execution_count": 53,
      "outputs": [
        {
          "output_type": "execute_result",
          "data": {
            "text/plain": [
              "<matplotlib.axes._subplots.AxesSubplot at 0x7f6f260f3150>"
            ]
          },
          "metadata": {},
          "execution_count": 53
        },
        {
          "output_type": "display_data",
          "data": {
            "image/png": "[encoded data removed]",
            "text/plain": [
              "<Figure size 432x288 with 1 Axes>"
            ]
          },
          "metadata": {}
        },
        {
          "output_type": "display_data",
          "data": {
            "image/png": "[encoded data removed]",
            "text/plain": [
              "<Figure size 1080x288 with 2 Axes>"
            ]
          },
          "metadata": {}
        }
      ]
    },
    {
      "cell_type": "code",
      "metadata": {
        "colab": {
          "base_uri": "https://localhost:8080/",
          "height": 373
        },
        "id": "9nLUHW4K9vEq",
        "outputId": "89e96d23-dad6-4966-931c-75e8a63a3147"
      },
      "source": [
        "labels = 'Not-Affected' , 'Affected'\n",
        "sizes = data.SchoolHoliday.value_counts()\n",
        "colors = ['gold', 'silver']\n",
        "explode = (0.1, 0.0)\n",
        "plt.pie(sizes, explode=explode, labels=labels, colors=colors,\n",
        "        autopct='%1.1f%%', shadow=True, startangle=180)\n",
        "plt.axis('equal')\n",
        "plt.title(\"Sales Affected by Schoolholiday or Not ?\")\n",
        "plt.plot()\n",
        "fig=plt.gcf()\n",
        "fig.set_size_inches(6,6)\n",
        "plt.show()"
      ],
      "execution_count": 54,
      "outputs": [
        {
          "output_type": "display_data",
          "data": {
            "image/png": "[encoded data removed]",
            "text/plain": [
              "<Figure size 432x432 with 1 Axes>"
            ]
          },
          "metadata": {}
        }
      ]
    },
    {
      "cell_type": "code",
      "metadata": {
        "colab": {
          "base_uri": "https://localhost:8080/"
        },
        "id": "x0K65ANN96bI",
        "outputId": "17789ca6-c9f1-4aa6-a257-bc1fe5df752c"
      },
      "source": [
        "R_data.SchoolHoliday.value_counts()"
      ],
      "execution_count": 55,
      "outputs": [
        {
          "output_type": "execute_result",
          "data": {
            "text/plain": [
              "0    835488\n",
              "1    181721\n",
              "Name: SchoolHoliday, dtype: int64"
            ]
          },
          "metadata": {},
          "execution_count": 55
        }
      ]
    },
    {
      "cell_type": "markdown",
      "metadata": {
        "id": "IRGY3inbm3wB"
      },
      "source": [
        "##<B>3. Sales by StoreTypes"
      ]
    },
    {
      "cell_type": "code",
      "metadata": {
        "id": "Q3B2cAVm-D0c"
      },
      "source": [
        "temp = []\n",
        "for i in data3.groupby('Store')[[\"Sales\", \"Customers\"]].mean()[\"Sales\"]:\n",
        "  temp.append(i)\n",
        "store[\"Sales\"] = temp"
      ],
      "execution_count": 56,
      "outputs": []
    },
    {
      "cell_type": "code",
      "metadata": {
        "id": "kLIwzpCN-gs4"
      },
      "source": [
        "temp = []\n",
        "for i in data3.groupby('Store')[[\"Sales\", \"Customers\"]].mean()[\"Customers\"]:\n",
        "  temp.append(i)\n",
        "store[\"Customers\"] = temp"
      ],
      "execution_count": 57,
      "outputs": []
    },
    {
      "cell_type": "code",
      "metadata": {
        "colab": {
          "base_uri": "https://localhost:8080/",
          "height": 223
        },
        "id": "Mo7uKZrZ-qtx",
        "outputId": "5e3feb16-3ea8-4250-bdab-9c1db4cc10e9"
      },
      "source": [
        "store.head()"
      ],
      "execution_count": 58,
      "outputs": [
        {
          "output_type": "execute_result",
          "data": {
            "text/html": [
              "<div>\n",
              "<style scoped>\n",
              "    .dataframe tbody tr th:only-of-type {\n",
              "        vertical-align: middle;\n",
              "    }\n",
              "\n",
              "    .dataframe tbody tr th {\n",
              "        vertical-align: top;\n",
              "    }\n",
              "\n",
              "    .dataframe thead th {\n",
              "        text-align: right;\n",
              "    }\n",
              "</style>\n",
              "<table border=\"1\" class=\"dataframe\">\n",
              "  <thead>\n",
              "    <tr style=\"text-align: right;\">\n",
              "      <th></th>\n",
              "      <th>Store</th>\n",
              "      <th>StoreType</th>\n",
              "      <th>Assortment</th>\n",
              "      <th>CompetitionDistance</th>\n",
              "      <th>CompetitionOpenSinceMonth</th>\n",
              "      <th>CompetitionOpenSinceYear</th>\n",
              "      <th>Promo2</th>\n",
              "      <th>Promo2SinceWeek</th>\n",
              "      <th>Promo2SinceYear</th>\n",
              "      <th>PromoInterval</th>\n",
              "      <th>Sales</th>\n",
              "      <th>Customers</th>\n",
              "    </tr>\n",
              "  </thead>\n",
              "  <tbody>\n",
              "    <tr>\n",
              "      <th>0</th>\n",
              "      <td>1</td>\n",
              "      <td>c</td>\n",
              "      <td>a</td>\n",
              "      <td>1270.0</td>\n",
              "      <td>9.0</td>\n",
              "      <td>2008.0</td>\n",
              "      <td>0</td>\n",
              "      <td>NaN</td>\n",
              "      <td>NaN</td>\n",
              "      <td>NaN</td>\n",
              "      <td>4759.096031</td>\n",
              "      <td>564.049936</td>\n",
              "    </tr>\n",
              "    <tr>\n",
              "      <th>1</th>\n",
              "      <td>2</td>\n",
              "      <td>a</td>\n",
              "      <td>a</td>\n",
              "      <td>570.0</td>\n",
              "      <td>11.0</td>\n",
              "      <td>2007.0</td>\n",
              "      <td>1</td>\n",
              "      <td>13.0</td>\n",
              "      <td>2010.0</td>\n",
              "      <td>Jan,Apr,Jul,Oct</td>\n",
              "      <td>4953.900510</td>\n",
              "      <td>583.998724</td>\n",
              "    </tr>\n",
              "    <tr>\n",
              "      <th>2</th>\n",
              "      <td>3</td>\n",
              "      <td>a</td>\n",
              "      <td>a</td>\n",
              "      <td>14130.0</td>\n",
              "      <td>12.0</td>\n",
              "      <td>2006.0</td>\n",
              "      <td>1</td>\n",
              "      <td>14.0</td>\n",
              "      <td>2011.0</td>\n",
              "      <td>Jan,Apr,Jul,Oct</td>\n",
              "      <td>6942.568678</td>\n",
              "      <td>750.077022</td>\n",
              "    </tr>\n",
              "    <tr>\n",
              "      <th>3</th>\n",
              "      <td>4</td>\n",
              "      <td>c</td>\n",
              "      <td>c</td>\n",
              "      <td>620.0</td>\n",
              "      <td>9.0</td>\n",
              "      <td>2009.0</td>\n",
              "      <td>0</td>\n",
              "      <td>NaN</td>\n",
              "      <td>NaN</td>\n",
              "      <td>NaN</td>\n",
              "      <td>9638.401786</td>\n",
              "      <td>1321.752551</td>\n",
              "    </tr>\n",
              "    <tr>\n",
              "      <th>4</th>\n",
              "      <td>5</td>\n",
              "      <td>a</td>\n",
              "      <td>a</td>\n",
              "      <td>29910.0</td>\n",
              "      <td>4.0</td>\n",
              "      <td>2015.0</td>\n",
              "      <td>0</td>\n",
              "      <td>NaN</td>\n",
              "      <td>NaN</td>\n",
              "      <td>NaN</td>\n",
              "      <td>4676.274711</td>\n",
              "      <td>537.340180</td>\n",
              "    </tr>\n",
              "  </tbody>\n",
              "</table>\n",
              "</div>"
            ],
            "text/plain": [
              "   Store StoreType Assortment  ...    PromoInterval        Sales    Customers\n",
              "0      1         c          a  ...              NaN  4759.096031   564.049936\n",
              "1      2         a          a  ...  Jan,Apr,Jul,Oct  4953.900510   583.998724\n",
              "2      3         a          a  ...  Jan,Apr,Jul,Oct  6942.568678   750.077022\n",
              "3      4         c          c  ...              NaN  9638.401786  1321.752551\n",
              "4      5         a          a  ...              NaN  4676.274711   537.340180\n",
              "\n",
              "[5 rows x 12 columns]"
            ]
          },
          "metadata": {},
          "execution_count": 58
        }
      ]
    },
    {
      "cell_type": "code",
      "metadata": {
        "colab": {
          "base_uri": "https://localhost:8080/",
          "height": 377
        },
        "id": "R7Re65pb-rY0",
        "outputId": "b8660e3a-c792-4676-d7e6-aaba38ddcc78"
      },
      "source": [
        "labels = 'a' , 'b' , 'c' , 'd'\n",
        "sizes = store.StoreType.value_counts()\n",
        "colors = ['orange', 'green' , 'red' , 'pink']\n",
        "explode = (0.1, 0.0 , 0.15 , 0.0)\n",
        "plt.pie(sizes, explode=explode, labels=labels, colors=colors,\n",
        "        autopct='%1.1f%%', shadow=True, startangle=180)\n",
        "plt.axis('equal')\n",
        "plt.title(\"Distribution of different StoreTypes\")\n",
        "plt.plot()\n",
        "fig=plt.gcf()\n",
        "fig.set_size_inches(6,6)\n",
        "plt.show()"
      ],
      "execution_count": 59,
      "outputs": [
        {
          "output_type": "display_data",
          "data": {
            "image/png": "[encoded data removed]",
            "text/plain": [
              "<Figure size 432x432 with 1 Axes>"
            ]
          },
          "metadata": {}
        }
      ]
    },
    {
      "cell_type": "markdown",
      "metadata": {
        "id": "9Qtd9VNNqkcA"
      },
      "source": [
        "#####<b>Stores which are opened on Sundays"
      ]
    },
    {
      "cell_type": "code",
      "metadata": {
        "colab": {
          "base_uri": "https://localhost:8080/"
        },
        "id": "I3QB4mMU_EhN",
        "outputId": "21fc6d08-ded4-404e-a527-0c87e4a84761"
      },
      "source": [
        "store.isnull().sum()"
      ],
      "execution_count": 60,
      "outputs": [
        {
          "output_type": "execute_result",
          "data": {
            "text/plain": [
              "Store                          0\n",
              "StoreType                      0\n",
              "Assortment                     0\n",
              "CompetitionDistance            3\n",
              "CompetitionOpenSinceMonth    354\n",
              "CompetitionOpenSinceYear     354\n",
              "Promo2                         0\n",
              "Promo2SinceWeek              544\n",
              "Promo2SinceYear              544\n",
              "PromoInterval                544\n",
              "Sales                          0\n",
              "Customers                      0\n",
              "dtype: int64"
            ]
          },
          "metadata": {},
          "execution_count": 60
        }
      ]
    },
    {
      "cell_type": "markdown",
      "metadata": {
        "id": "NIUveg1heSGd"
      },
      "source": [
        "## 4. Sales by Season"
      ]
    },
    {
      "cell_type": "code",
      "metadata": {
        "id": "80jVTAZzfdle"
      },
      "source": [
        "# Create new column Season\n",
        "\n",
        "data['Date'] = pd.to_datetime(data['Date'], infer_datetime_format = True)\n",
        "\n",
        "data['Year'] = data['Date'].dt.year\n",
        "data['Month'] = data['Date'].dt.month\n",
        "data['Quarter'] = data['Date'].dt.quarter\n",
        "data['Week'] = data['Date'].dt.week\n",
        "data['Day'] = data['Date'].dt.day\n",
        "\n",
        "data['Season'] = np.where(data['Month'].isin([3,4,5]), \"Spring\",\n",
        "                 np.where(data['Month'].isin([6,7,8]), \"Summer\",\n",
        "                 np.where(data['Month'].isin([9,10,11]), \"Fall\",\n",
        "                 np.where(data['Month'].isin([12,1,2]), \"Winter\", \"None\"))))"
      ],
      "execution_count": 61,
      "outputs": []
    },
    {
      "cell_type": "code",
      "metadata": {
        "colab": {
          "base_uri": "https://localhost:8080/",
          "height": 518
        },
        "id": "8xEx0B27n9A3",
        "outputId": "30a2d089-263e-4184-b075-e6c7f88b45de"
      },
      "source": [
        "# Prepare data\n",
        "data['year'] = [d.year for d in data.Date]\n",
        "data['month'] = [d.strftime('%b') for d in data.Date]\n",
        "years = data['year'].unique()\n",
        "\n",
        "# Draw Plot\n",
        "fig, axes = plt.subplots(1, 3, figsize=(20,7), dpi= 80)\n",
        "sns.boxplot(x='year', y='Sales', data=data, ax=axes[0])\n",
        "sns.boxplot(x='month', y='Sales', data=data.loc[~data.year.isin([2013, 2015]), :])\n",
        "sns.boxplot(x='Season', y='Sales', data=data, ax=axes[1])\n",
        "\n",
        "# Set Title\n",
        "axes[0].set_title('Year-wise Box Plot', fontsize=18)\n",
        "axes[1].set_title('Season-wise Box Plot', fontsize=18)\n",
        "axes[2].set_title('Month-wise Box Plot', fontsize=18)\n",
        "plt.show()"
      ],
      "execution_count": 62,
      "outputs": [
        {
          "output_type": "display_data",
          "data": {
            "image/png": "[encoded data removed]",
            "text/plain": [
              "<Figure size 1600x560 with 3 Axes>"
            ]
          },
          "metadata": {}
        }
      ]
    },
    {
      "cell_type": "code",
      "metadata": {
        "id": "4dyStW1x014Y",
        "colab": {
          "base_uri": "https://localhost:8080/",
          "height": 120
        },
        "outputId": "5edd5e39-c44f-4801-d60e-1434ceb8d15f"
      },
      "source": [
        "'''# Cell will not run as columns dropped already\n",
        "\n",
        "\n",
        "\n",
        "# What happened to the average sales of a store over time when competition started?\n",
        "# Example: the average sales for store_id = 6 has dramatically decreased since the competition started\n",
        "\n",
        "store_id = 6\n",
        "store_data = R_data[R_data[\"Store\"] == store_id]\n",
        "\n",
        "average_store_sales = store_data.groupby('Date')[\"Sales\"].mean()\n",
        "\n",
        "# Get year, and month when Competition started\n",
        "y = store[\"CompetitionOpenSinceYear\"].loc[store[\"Store\"]  == store_id].values[0]\n",
        "m = store[\"CompetitionOpenSinceMonth\"].loc[store[\"Store\"] == store_id].values[0]\n",
        "\n",
        "# Plot \n",
        "ax = average_store_sales.plot(legend=True,figsize=(15,4),marker='o')\n",
        "ax.set_xticks(range(len(average_store_sales)))\n",
        "ax.set_xticklabels(average_store_sales.index.tolist(), rotation=90)\n",
        "\n",
        "# Since all data of store sales given in rossmann_df starts with year=2013 till 2015,\n",
        "# So, we need to check if year>=2013 and y & m aren't NaN values.\n",
        "if y >= 2013 and y == y and m == m:\n",
        "    plt.axvline(x=((y-2013) * 12) + (m - 1), linewidth=3, color='grey')\n",
        "\n",
        "\n",
        "\n",
        "\n",
        "# Risk Analysis\n",
        "# Analyze the risk of a store; Risk(std) Vs Expected(mean)\n",
        "\n",
        "# .... countiue using data2\n",
        "store_average = R_data[\"Sales\"].mean()\n",
        "store_std     = R_data[\"Sales\"].std()\n",
        "\n",
        "# Plot\n",
        "plt.scatter(store_average, store_std,alpha = 0.5,s =np.pi*20)\n",
        "\n",
        "# Get min & max mean and std of store sales\n",
        "\n",
        "std_sales = R_data.groupby('Store')[\"Sales\"].std()\n",
        "\n",
        "min_average = R_data[\"Sales\"].min()\n",
        "max_average = R_data[\"Sales\"].max()\n",
        "min_std     = std_sales.min()\n",
        "max_std     = std_sales.max()\n",
        "\n",
        "# Set the x and y limits of the plot\n",
        "plt.ylim([min_std, max_std])\n",
        "plt.xlim([min_average, max_average])\n",
        "\n",
        "# Set the plot axis titles\n",
        "plt.xlabel('Expected Sales')\n",
        "plt.ylabel('Risk')\n",
        "\n",
        "# Set label\n",
        "label, x, y = \"Store {}\".format(store_id), store_average, store_std\n",
        "plt.annotate(\n",
        "        label, \n",
        "        xy = (x, y), xytext = (50, 50),\n",
        "        textcoords = 'offset points', ha = 'right', va = 'bottom',\n",
        "        arrowprops = dict(arrowstyle = '-', connectionstyle = 'arc3,rad=-0.3'))'''"
      ],
      "execution_count": 63,
      "outputs": [
        {
          "output_type": "execute_result",
          "data": {
            "application/vnd.google.colaboratory.intrinsic+json": {
              "type": "string"
            },
            "text/plain": [
              "'# Cell will not run as columns dropped already\\n\\n\\n\\n# What happened to the average sales of a store over time when competition started?\\n# Example: the average sales for store_id = 6 has dramatically decreased since the competition started\\n\\nstore_id = 6\\nstore_data = R_data[R_data[\"Store\"] == store_id]\\n\\naverage_store_sales = store_data.groupby(\\'Date\\')[\"Sales\"].mean()\\n\\n# Get year, and month when Competition started\\ny = store[\"CompetitionOpenSinceYear\"].loc[store[\"Store\"]  == store_id].values[0]\\nm = store[\"CompetitionOpenSinceMonth\"].loc[store[\"Store\"] == store_id].values[0]\\n\\n# Plot \\nax = average_store_sales.plot(legend=True,figsize=(15,4),marker=\\'o\\')\\nax.set_xticks(range(len(average_store_sales)))\\nax.set_xticklabels(average_store_sales.index.tolist(), rotation=90)\\n\\n# Since all data of store sales given in rossmann_df starts with year=2013 till 2015,\\n# So, we need to check if year>=2013 and y & m aren\\'t NaN values.\\nif y >= 2013 and y == y and m == m:\\n    plt.axvline(x=((y-2013) * 12) + (m - 1), linewidth=3, color=\\'grey\\')\\n\\n\\n\\n\\n# Risk Analysis\\n# Analyze the risk of a store; Risk(std) Vs Expected(mean)\\n\\n# .... countiue using data2\\nstore_average = R_data[\"Sales\"].mean()\\nstore_std     = R_data[\"Sales\"].std()\\n\\n# Plot\\nplt.scatter(store_average, store_std,alpha = 0.5,s =np.pi*20)\\n\\n# Get min & max mean and std of store sales\\n\\nstd_sales = R_data.groupby(\\'Store\\')[\"Sales\"].std()\\n\\nmin_average = R_data[\"Sales\"].min()\\nmax_average = R_data[\"Sales\"].max()\\nmin_std     = std_sales.min()\\nmax_std     = std_sales.max()\\n\\n# Set the x and y limits of the plot\\nplt.ylim([min_std, max_std])\\nplt.xlim([min_average, max_average])\\n\\n# Set the plot axis titles\\nplt.xlabel(\\'Expected Sales\\')\\nplt.ylabel(\\'Risk\\')\\n\\n# Set label\\nlabel, x, y = \"Store {}\".format(store_id), store_average, store_std\\nplt.annotate(\\n        label, \\n        xy = (x, y), xytext = (50, 50),\\n        textcoords = \\'offset points\\', ha = \\'right\\', va = \\'bottom\\',\\n        arrowprops = dict(arrowstyle = \\'-\\', connectionstyle = \\'arc3,rad=-0.3\\'))'"
            ]
          },
          "metadata": {},
          "execution_count": 63
        }
      ]
    },
    {
      "cell_type": "code",
      "metadata": {
        "colab": {
          "base_uri": "https://localhost:8080/",
          "height": 1000
        },
        "id": "lXlZtymX4Jsn",
        "outputId": "6203ab1b-c220-4371-e50c-c3d4996dc278"
      },
      "source": [
        "# Sales trend over the seasons and year\n",
        "sns.factorplot(data = data, x =\"Season\", y = \"Sales\", \n",
        "               col = 'StoreType',\n",
        "               row = \"Year\")"
      ],
      "execution_count": 64,
      "outputs": [
        {
          "output_type": "execute_result",
          "data": {
            "text/plain": [
              "<seaborn.axisgrid.FacetGrid at 0x7f6f25ef4ed0>"
            ]
          },
          "metadata": {},
          "execution_count": 64
        },
        {
          "output_type": "display_data",
          "data": {
            "image/png": "[encoded data removed]",
            "text/plain": [
              "<Figure size 1440x1080 with 12 Axes>"
            ]
          },
          "metadata": {}
        }
      ]
    },
    {
      "cell_type": "markdown",
      "metadata": {
        "id": "k0V16zyRHeIi"
      },
      "source": [
        "## 5. Affect of Promotion on sales\n"
      ]
    },
    {
      "cell_type": "code",
      "metadata": {
        "colab": {
          "base_uri": "https://localhost:8080/",
          "height": 539
        },
        "id": "gK4ABkpE7rjl",
        "outputId": "2b51f006-6eec-4cff-93a9-25bcaf809b61"
      },
      "source": [
        "fig, axes = plt.subplots(2,1)\n",
        "fig.set_size_inches(12,8)\n",
        "sns.barplot(x= \"Promo\", y= \"Sales\", data=data2 ,hue=\"StoreType\", ax=axes[0])\n",
        "sns.barplot(x= \"Promo2\", y= \"Sales\", data=data2 ,hue=\"StoreType\", ax=axes[1])\n",
        "axes[0].set_title('Effect on sales after first promotion', fontsize=18)\n",
        "axes[1].set_title('Effect of sales after second promotion', fontsize=18)"
      ],
      "execution_count": 65,
      "outputs": [
        {
          "output_type": "execute_result",
          "data": {
            "text/plain": [
              "Text(0.5, 1.0, 'Effect of sales after second promotion')"
            ]
          },
          "metadata": {},
          "execution_count": 65
        },
        {
          "output_type": "display_data",
          "data": {
            "image/png": "[encoded data removed]",
            "text/plain": [
              "<Figure size 864x576 with 2 Axes>"
            ]
          },
          "metadata": {}
        }
      ]
    },
    {
      "cell_type": "markdown",
      "metadata": {
        "id": "pjkNGAk4Hx4p"
      },
      "source": [
        "First promotion have positive effect on sales, but second promotion has negative impact on sales."
      ]
    },
    {
      "cell_type": "markdown",
      "metadata": {
        "id": "Sjfa1dLMILjg"
      },
      "source": [
        "## 6. DayOfWeek\n",
        "In both cases where the store is closed and opened -"
      ]
    },
    {
      "cell_type": "code",
      "metadata": {
        "colab": {
          "base_uri": "https://localhost:8080/",
          "height": 302
        },
        "id": "gk7et3ojP4GM",
        "outputId": "21ed0d0a-3c22-44ed-89ec-54ea616f32b6"
      },
      "source": [
        "# DayOfWeek\n",
        "# In both cases where the store is closed and opened\n",
        "\n",
        "fig, (axis1,axis2) = plt.subplots(1,2,figsize=(15,4))\n",
        "\n",
        "sns.barplot(x='DayOfWeek', y='Sales', data=R_data, order=[1,2,3,4,5,6,7], ax=axis1)\n",
        "sns.barplot(x='DayOfWeek', y='Customers', data=R_data, order=[1,2,3,4,5,6,7], ax=axis2)"
      ],
      "execution_count": 66,
      "outputs": [
        {
          "output_type": "execute_result",
          "data": {
            "text/plain": [
              "<matplotlib.axes._subplots.AxesSubplot at 0x7f6f1555f210>"
            ]
          },
          "metadata": {},
          "execution_count": 66
        },
        {
          "output_type": "display_data",
          "data": {
            "image/png": "[encoded data removed]",
            "text/plain": [
              "<Figure size 1080x288 with 2 Axes>"
            ]
          },
          "metadata": {}
        }
      ]
    },
    {
      "cell_type": "markdown",
      "metadata": {
        "id": "e5SGWn1CILjj"
      },
      "source": [
        "##  7. State holiday - before & after\n",
        "continue with StateHoliday - "
      ]
    },
    {
      "cell_type": "code",
      "metadata": {
        "colab": {
          "base_uri": "https://localhost:8080/"
        },
        "id": "LKUFkdWcaOwd",
        "outputId": "eeb9b2ae-6278-4b41-b590-4dca8e85be41"
      },
      "source": [
        "R_data.StateHoliday.unique()"
      ],
      "execution_count": 67,
      "outputs": [
        {
          "output_type": "execute_result",
          "data": {
            "text/plain": [
              "array(['0', 'a', 'b', 'c', 0], dtype=object)"
            ]
          },
          "metadata": {},
          "execution_count": 67
        }
      ]
    },
    {
      "cell_type": "code",
      "metadata": {
        "colab": {
          "base_uri": "https://localhost:8080/",
          "height": 581
        },
        "id": "BHe8K473ZJ33",
        "outputId": "5010bd8d-469a-4b97-d411-4066c349f6e9"
      },
      "source": [
        "# StateHoliday\n",
        "\n",
        "# StateHoliday column has values 0 & \"0\", So, we need to merge values with 0 to \"0\"\n",
        "R_data[\"StateHoliday\"].loc[R_data[\"StateHoliday\"] == 0] = \"0\"\n",
        "\n",
        "# Plot\n",
        "sns.countplot(x='StateHoliday', data=R_data)\n",
        "\n",
        "# Before\n",
        "fig, (axis1,axis2) = plt.subplots(1,2,figsize=(15,4))\n",
        "\n",
        "sns.barplot(x='StateHoliday', y='Sales', data=R_data, ax=axis1)\n",
        "\n",
        "mask = (R_data[\"StateHoliday\"] != \"0\") & (R_data[\"Sales\"] > 0)\n",
        "sns.barplot(x='StateHoliday', y='Sales', data=R_data[mask], ax=axis2)"
      ],
      "execution_count": 68,
      "outputs": [
        {
          "output_type": "execute_result",
          "data": {
            "text/plain": [
              "<matplotlib.axes._subplots.AxesSubplot at 0x7f6f15440f50>"
            ]
          },
          "metadata": {},
          "execution_count": 68
        },
        {
          "output_type": "display_data",
          "data": {
            "image/png": "[encoded data removed]",
            "text/plain": [
              "<Figure size 432x288 with 1 Axes>"
            ]
          },
          "metadata": {}
        },
        {
          "output_type": "display_data",
          "data": {
            "image/png": "[encoded data removed]",
            "text/plain": [
              "<Figure size 1080x288 with 2 Axes>"
            ]
          },
          "metadata": {}
        }
      ]
    },
    {
      "cell_type": "markdown",
      "metadata": {
        "id": "IRDYXKcCg5tg"
      },
      "source": [
        ".....continue with StateHoliday"
      ]
    },
    {
      "cell_type": "code",
      "metadata": {
        "colab": {
          "base_uri": "https://localhost:8080/",
          "height": 302
        },
        "id": "-MhGRpAtg3ti",
        "outputId": "44d2f611-263c-44b3-a4a2-2e2184db936d"
      },
      "source": [
        "# .... continue with StateHoliday\n",
        "\n",
        "# After\n",
        "R_data[\"StateHoliday\"] = R_data[\"StateHoliday\"].map({0: 0, \"0\": 0, \"a\": 1, \"b\": 1, \"c\": 1})\n",
        "\n",
        "fig, (axis1,axis2) = plt.subplots(1,2,figsize=(15,4))\n",
        "\n",
        "sns.barplot(x='StateHoliday', y='Sales', data=R_data, ax=axis1)\n",
        "sns.barplot(x='StateHoliday', y='Customers', data=R_data, ax=axis2)"
      ],
      "execution_count": 69,
      "outputs": [
        {
          "data": {
            "text/plain": [
              "<matplotlib.axes._subplots.AxesSubplot at 0x7f6f15350e90>"
            ]
          },
          "execution_count": null,
          "metadata": {},
          "output_type": "execute_result"
        },
        {
          "data": {
            "image/png": "[encoded data removed]",
            "text/plain": [
              "<Figure size 1080x288 with 2 Axes>"
            ]
          },
          "metadata": {},
          "output_type": "display_data"
        }
      ]
    },
    {
      "cell_type": "markdown",
      "metadata": {
        "id": "2EgxurMUILjn"
      },
      "source": [
        "## 8. Sales Distribution  - "
      ]
    },
    {
      "cell_type": "code",
      "metadata": {
        "colab": {
          "base_uri": "https://localhost:8080/"
        },
        "id": "EilSh9NOh_x-",
        "outputId": "f88bf831-e361-4246-f430-2cfaa60d5e9a"
      },
      "source": [
        "R_data.info()"
      ],
      "execution_count": 70,
      "outputs": [
        {
          "metadata": {
            "tags": null
          },
          "name": "stdout",
          "output_type": "stream",
          "text": [
            "<class 'pandas.core.frame.DataFrame'>\n",
            "RangeIndex: 1017209 entries, 0 to 1017208\n",
            "Data columns (total 13 columns):\n",
            " #   Column         Non-Null Count    Dtype \n",
            "---  ------         --------------    ----- \n",
            " 0   Store          1017209 non-null  int64 \n",
            " 1   DayOfWeek      1017209 non-null  int64 \n",
            " 2   Date           1017209 non-null  object\n",
            " 3   Sales          1017209 non-null  int64 \n",
            " 4   Customers      1017209 non-null  int64 \n",
            " 5   Open           1017209 non-null  int64 \n",
            " 6   Promo          1017209 non-null  int64 \n",
            " 7   StateHoliday   1017209 non-null  int64 \n",
            " 8   SchoolHoliday  1017209 non-null  int64 \n",
            " 9   Year           1017209 non-null  int64 \n",
            " 10  Month          1017209 non-null  int64 \n",
            " 11  Day            1017209 non-null  int64 \n",
            " 12  WeekOfYear     1017209 non-null  int64 \n",
            "dtypes: int64(12), object(1)\n",
            "memory usage: 100.9+ MB\n"
          ]
        }
      ]
    },
    {
      "cell_type": "code",
      "metadata": {
        "colab": {
          "base_uri": "https://localhost:8080/",
          "height": 502
        },
        "id": "XwW9P-1oILjp",
        "outputId": "85b0cc7c-0634-4b36-8db7-9a04274a6b61"
      },
      "source": [
        "# Sales\n",
        "\n",
        "fig, (axis1,axis2) = plt.subplots(2,1,figsize=(15,8))\n",
        "\n",
        "# Plot max, min values, & 2nd, 3rd quartile\n",
        "sns.boxplot(x= R_data[\"Customers\"], whis=np.inf, ax=axis1)\n",
        "\n",
        "# Plot sales values \n",
        "# Notice that values with 0 is mostly because the store was closed\n",
        "R_data[\"Sales\"].plot(kind='hist',bins=70,xlim=(0,15000),ax=axis2)"
      ],
      "execution_count": 71,
      "outputs": [
        {
          "data": {
            "text/plain": [
              "<matplotlib.axes._subplots.AxesSubplot at 0x7f6f1541ea90>"
            ]
          },
          "execution_count": null,
          "metadata": {},
          "output_type": "execute_result"
        },
        {
          "data": {
            "image/png": "[encoded data removed]",
            "text/plain": [
              "<Figure size 1080x576 with 2 Axes>"
            ]
          },
          "metadata": {},
          "output_type": "display_data"
        }
      ]
    },
    {
      "cell_type": "markdown",
      "metadata": {
        "id": "eu5RDTmfILjq"
      },
      "source": [
        "## 9. Competition distance - "
      ]
    },
    {
      "cell_type": "code",
      "metadata": {
        "colab": {
          "base_uri": "https://localhost:8080/",
          "height": 592
        },
        "id": "xLKhrqseGqeo",
        "outputId": "d3b5d353-e105-41b3-dfc3-e5666b9fbbcd"
      },
      "source": [
        "# CompetitionDistance\n",
        "\n",
        "# fill NaN values\n",
        "store[\"CompetitionDistance\"].fillna(store_df[\"CompetitionDistance\"].median())\n",
        "\n",
        "# Plot CompetitionDistance Vs Sales\n",
        "store.plot(kind='scatter',x='CompetitionDistance',y='Sales',figsize=(15,4))\n",
        "store.plot(kind='kde',x='CompetitionDistance',y='Sales',figsize=(15,4))"
      ],
      "execution_count": 72,
      "outputs": [
        {
          "metadata": {
            "tags": null
          },
          "name": "stderr",
          "output_type": "stream",
          "text": [
            "*c* argument looks like a single numeric RGB or RGBA sequence, which should be avoided as value-mapping will have precedence in case its length matches with *x* & *y*.  Please use the *color* keyword-argument or provide a 2-D array with a single row if you intend to specify the same RGB or RGBA value for all points.\n"
          ]
        },
        {
          "data": {
            "text/plain": [
              "<matplotlib.axes._subplots.AxesSubplot at 0x7f6f150af250>"
            ]
          },
          "execution_count": null,
          "metadata": {},
          "output_type": "execute_result"
        },
        {
          "data": {
            "image/png": "[encoded data removed]",
            "text/plain": [
              "<Figure size 1080x288 with 1 Axes>"
            ]
          },
          "metadata": {},
          "output_type": "display_data"
        },
        {
          "data": {
            "image/png": "[encoded data removed]",
            "text/plain": [
              "<Figure size 1080x288 with 1 Axes>"
            ]
          },
          "metadata": {},
          "output_type": "display_data"
        }
      ]
    },
    {
      "cell_type": "markdown",
      "metadata": {
        "id": "xMcTATcNnH8W"
      },
      "source": [
        "##<B>Correlation Heatmap"
      ]
    },
    {
      "cell_type": "code",
      "metadata": {
        "id": "K04dIz_WKh9Q",
        "colab": {
          "base_uri": "https://localhost:8080/",
          "height": 450
        },
        "outputId": "3818c397-ba13-4bc3-85b2-426d7a22f24f"
      },
      "source": [
        "corr = data2.corr()\n",
        "corr"
      ],
      "execution_count": 73,
      "outputs": [
        {
          "data": {
            "text/html": [
              "<div>\n",
              "<style scoped>\n",
              "    .dataframe tbody tr th:only-of-type {\n",
              "        vertical-align: middle;\n",
              "    }\n",
              "\n",
              "    .dataframe tbody tr th {\n",
              "        vertical-align: top;\n",
              "    }\n",
              "\n",
              "    .dataframe thead th {\n",
              "        text-align: right;\n",
              "    }\n",
              "</style>\n",
              "<table border=\"1\" class=\"dataframe\">\n",
              "  <thead>\n",
              "    <tr style=\"text-align: right;\">\n",
              "      <th></th>\n",
              "      <th>DayOfWeek</th>\n",
              "      <th>Sales</th>\n",
              "      <th>Promo</th>\n",
              "      <th>StateHoliday</th>\n",
              "      <th>SchoolHoliday</th>\n",
              "      <th>Year</th>\n",
              "      <th>Month</th>\n",
              "      <th>Day</th>\n",
              "      <th>WeekOfYear</th>\n",
              "      <th>CompetitionDistance</th>\n",
              "      <th>Promo2</th>\n",
              "      <th>AvgSales</th>\n",
              "      <th>AvgCustomer</th>\n",
              "    </tr>\n",
              "  </thead>\n",
              "  <tbody>\n",
              "    <tr>\n",
              "      <th>DayOfWeek</th>\n",
              "      <td>1.000000</td>\n",
              "      <td>-0.178733</td>\n",
              "      <td>-0.286350</td>\n",
              "      <td>-0.002101</td>\n",
              "      <td>-0.135893</td>\n",
              "      <td>0.002316</td>\n",
              "      <td>-0.020707</td>\n",
              "      <td>0.006419</td>\n",
              "      <td>-0.011978</td>\n",
              "      <td>0.004971</td>\n",
              "      <td>-0.003150</td>\n",
              "      <td>0.001605</td>\n",
              "      <td>0.014897</td>\n",
              "    </tr>\n",
              "    <tr>\n",
              "      <th>Sales</th>\n",
              "      <td>-0.178733</td>\n",
              "      <td>1.000000</td>\n",
              "      <td>0.369741</td>\n",
              "      <td>0.019434</td>\n",
              "      <td>0.036777</td>\n",
              "      <td>0.036711</td>\n",
              "      <td>0.087562</td>\n",
              "      <td>-0.055308</td>\n",
              "      <td>0.088965</td>\n",
              "      <td>-0.033232</td>\n",
              "      <td>-0.125413</td>\n",
              "      <td>0.774885</td>\n",
              "      <td>0.644470</td>\n",
              "    </tr>\n",
              "    <tr>\n",
              "      <th>Promo</th>\n",
              "      <td>-0.286350</td>\n",
              "      <td>0.369741</td>\n",
              "      <td>1.000000</td>\n",
              "      <td>0.001268</td>\n",
              "      <td>0.017027</td>\n",
              "      <td>0.026754</td>\n",
              "      <td>0.000732</td>\n",
              "      <td>-0.132124</td>\n",
              "      <td>0.016307</td>\n",
              "      <td>-0.001703</td>\n",
              "      <td>-0.000708</td>\n",
              "      <td>0.001422</td>\n",
              "      <td>-0.005552</td>\n",
              "    </tr>\n",
              "    <tr>\n",
              "      <th>StateHoliday</th>\n",
              "      <td>-0.002101</td>\n",
              "      <td>0.019434</td>\n",
              "      <td>0.001268</td>\n",
              "      <td>1.000000</td>\n",
              "      <td>0.014592</td>\n",
              "      <td>0.002879</td>\n",
              "      <td>0.000827</td>\n",
              "      <td>-0.008347</td>\n",
              "      <td>0.000885</td>\n",
              "      <td>0.009308</td>\n",
              "      <td>-0.010480</td>\n",
              "      <td>0.019200</td>\n",
              "      <td>0.053578</td>\n",
              "    </tr>\n",
              "    <tr>\n",
              "      <th>SchoolHoliday</th>\n",
              "      <td>-0.135893</td>\n",
              "      <td>0.036777</td>\n",
              "      <td>0.017027</td>\n",
              "      <td>0.014592</td>\n",
              "      <td>1.000000</td>\n",
              "      <td>-0.031159</td>\n",
              "      <td>0.103183</td>\n",
              "      <td>0.029469</td>\n",
              "      <td>0.056861</td>\n",
              "      <td>-0.004091</td>\n",
              "      <td>-0.007698</td>\n",
              "      <td>-0.002353</td>\n",
              "      <td>-0.001876</td>\n",
              "    </tr>\n",
              "    <tr>\n",
              "      <th>Year</th>\n",
              "      <td>0.002316</td>\n",
              "      <td>0.036711</td>\n",
              "      <td>0.026754</td>\n",
              "      <td>0.002879</td>\n",
              "      <td>-0.031159</td>\n",
              "      <td>1.000000</td>\n",
              "      <td>-0.244638</td>\n",
              "      <td>0.006749</td>\n",
              "      <td>-0.230790</td>\n",
              "      <td>0.000875</td>\n",
              "      <td>-0.007467</td>\n",
              "      <td>0.045135</td>\n",
              "      <td>0.003051</td>\n",
              "    </tr>\n",
              "    <tr>\n",
              "      <th>Month</th>\n",
              "      <td>-0.020707</td>\n",
              "      <td>0.087562</td>\n",
              "      <td>0.000732</td>\n",
              "      <td>0.000827</td>\n",
              "      <td>0.103183</td>\n",
              "      <td>-0.244638</td>\n",
              "      <td>1.000000</td>\n",
              "      <td>-0.011624</td>\n",
              "      <td>0.958622</td>\n",
              "      <td>0.009754</td>\n",
              "      <td>-0.024807</td>\n",
              "      <td>0.072891</td>\n",
              "      <td>0.048639</td>\n",
              "    </tr>\n",
              "    <tr>\n",
              "      <th>Day</th>\n",
              "      <td>0.006419</td>\n",
              "      <td>-0.055308</td>\n",
              "      <td>-0.132124</td>\n",
              "      <td>-0.008347</td>\n",
              "      <td>0.029469</td>\n",
              "      <td>0.006749</td>\n",
              "      <td>-0.011624</td>\n",
              "      <td>1.000000</td>\n",
              "      <td>0.030196</td>\n",
              "      <td>-0.000525</td>\n",
              "      <td>0.001740</td>\n",
              "      <td>-0.002638</td>\n",
              "      <td>-0.002813</td>\n",
              "    </tr>\n",
              "    <tr>\n",
              "      <th>WeekOfYear</th>\n",
              "      <td>-0.011978</td>\n",
              "      <td>0.088965</td>\n",
              "      <td>0.016307</td>\n",
              "      <td>0.000885</td>\n",
              "      <td>0.056861</td>\n",
              "      <td>-0.230790</td>\n",
              "      <td>0.958622</td>\n",
              "      <td>0.030196</td>\n",
              "      <td>1.000000</td>\n",
              "      <td>0.009418</td>\n",
              "      <td>-0.023877</td>\n",
              "      <td>0.060182</td>\n",
              "      <td>0.042028</td>\n",
              "    </tr>\n",
              "    <tr>\n",
              "      <th>CompetitionDistance</th>\n",
              "      <td>0.004971</td>\n",
              "      <td>-0.033232</td>\n",
              "      <td>-0.001703</td>\n",
              "      <td>0.009308</td>\n",
              "      <td>-0.004091</td>\n",
              "      <td>0.000875</td>\n",
              "      <td>0.009754</td>\n",
              "      <td>-0.000525</td>\n",
              "      <td>0.009418</td>\n",
              "      <td>1.000000</td>\n",
              "      <td>-0.140969</td>\n",
              "      <td>-0.046730</td>\n",
              "      <td>-0.157409</td>\n",
              "    </tr>\n",
              "    <tr>\n",
              "      <th>Promo2</th>\n",
              "      <td>-0.003150</td>\n",
              "      <td>-0.125413</td>\n",
              "      <td>-0.000708</td>\n",
              "      <td>-0.010480</td>\n",
              "      <td>-0.007698</td>\n",
              "      <td>-0.007467</td>\n",
              "      <td>-0.024807</td>\n",
              "      <td>0.001740</td>\n",
              "      <td>-0.023877</td>\n",
              "      <td>-0.140969</td>\n",
              "      <td>1.000000</td>\n",
              "      <td>-0.153337</td>\n",
              "      <td>-0.213213</td>\n",
              "    </tr>\n",
              "    <tr>\n",
              "      <th>AvgSales</th>\n",
              "      <td>0.001605</td>\n",
              "      <td>0.774885</td>\n",
              "      <td>0.001422</td>\n",
              "      <td>0.019200</td>\n",
              "      <td>-0.002353</td>\n",
              "      <td>0.045135</td>\n",
              "      <td>0.072891</td>\n",
              "      <td>-0.002638</td>\n",
              "      <td>0.060182</td>\n",
              "      <td>-0.046730</td>\n",
              "      <td>-0.153337</td>\n",
              "      <td>1.000000</td>\n",
              "      <td>0.797845</td>\n",
              "    </tr>\n",
              "    <tr>\n",
              "      <th>AvgCustomer</th>\n",
              "      <td>0.014897</td>\n",
              "      <td>0.644470</td>\n",
              "      <td>-0.005552</td>\n",
              "      <td>0.053578</td>\n",
              "      <td>-0.001876</td>\n",
              "      <td>0.003051</td>\n",
              "      <td>0.048639</td>\n",
              "      <td>-0.002813</td>\n",
              "      <td>0.042028</td>\n",
              "      <td>-0.157409</td>\n",
              "      <td>-0.213213</td>\n",
              "      <td>0.797845</td>\n",
              "      <td>1.000000</td>\n",
              "    </tr>\n",
              "  </tbody>\n",
              "</table>\n",
              "</div>"
            ],
            "text/plain": [
              "                     DayOfWeek     Sales  ...  AvgSales  AvgCustomer\n",
              "DayOfWeek             1.000000 -0.178733  ...  0.001605     0.014897\n",
              "Sales                -0.178733  1.000000  ...  0.774885     0.644470\n",
              "Promo                -0.286350  0.369741  ...  0.001422    -0.005552\n",
              "StateHoliday         -0.002101  0.019434  ...  0.019200     0.053578\n",
              "SchoolHoliday        -0.135893  0.036777  ... -0.002353    -0.001876\n",
              "Year                  0.002316  0.036711  ...  0.045135     0.003051\n",
              "Month                -0.020707  0.087562  ...  0.072891     0.048639\n",
              "Day                   0.006419 -0.055308  ... -0.002638    -0.002813\n",
              "WeekOfYear           -0.011978  0.088965  ...  0.060182     0.042028\n",
              "CompetitionDistance   0.004971 -0.033232  ... -0.046730    -0.157409\n",
              "Promo2               -0.003150 -0.125413  ... -0.153337    -0.213213\n",
              "AvgSales              0.001605  0.774885  ...  1.000000     0.797845\n",
              "AvgCustomer           0.014897  0.644470  ...  0.797845     1.000000\n",
              "\n",
              "[13 rows x 13 columns]"
            ]
          },
          "execution_count": null,
          "metadata": {},
          "output_type": "execute_result"
        }
      ]
    },
    {
      "cell_type": "code",
      "metadata": {
        "colab": {
          "base_uri": "https://localhost:8080/",
          "height": 684
        },
        "id": "IIVMr8sNnUNW",
        "outputId": "8ca84e4b-488c-4e63-f31c-f853e06b703a"
      },
      "source": [
        "mask = np.zeros_like(corr, dtype = np.bool)\n",
        "mask[np.triu_indices_from(mask)] = True\n",
        "f, ax = plt.subplots(figsize = (11, 9))\n",
        "# sns.heatmap(corr, mask = mask,square = True, linewidths = .5, ax = ax, cmap = \"BuPu\")\n",
        "sns.heatmap(corr,square = True,mask=mask, linewidths = .5,ax=ax, cmap = \"BuPu\")\n",
        "plt.title(\"Correlation Heatmap\", fontsize=20)"
      ],
      "execution_count": 74,
      "outputs": [
        {
          "data": {
            "text/plain": [
              "Text(0.5, 1.0, 'Correlation Heatmap')"
            ]
          },
          "execution_count": null,
          "metadata": {},
          "output_type": "execute_result"
        },
        {
          "data": {
            "image/png": "[encoded data removed]",
            "text/plain": [
              "<Figure size 792x648 with 2 Axes>"
            ]
          },
          "metadata": {},
          "output_type": "display_data"
        }
      ]
    },
    {
      "cell_type": "code",
      "metadata": {
        "colab": {
          "base_uri": "https://localhost:8080/",
          "height": 302
        },
        "id": "01AcZ4-UOmAF",
        "outputId": "d75ab20c-dbce-4c83-92ae-540785479775"
      },
      "source": [
        "# Open\n",
        "fig, (axis1) = plt.subplots(1,1,figsize=(15,4))\n",
        "sns.countplot(x='Open',hue='DayOfWeek', data=R_data,palette=\"husl\", ax=axis1)\n",
        "\n",
        "# fill NaN values in test_df with Open=1 if DayOfWeek != 7\n",
        "# data3[\"Open\"][data3[\"Open\"] != data3[\"Open\"]] = (data3[\"DayOfWeek\"] != 7).astype(int)\n",
        "\n",
        "# Drop Open column\n",
        "# rossmann_df.drop(\"Open\", axis=1, inplace=True)\n",
        "# test_df.drop(\"Open\", axis=1, inplace=True)"
      ],
      "execution_count": 80,
      "outputs": [
        {
          "output_type": "execute_result",
          "data": {
            "text/plain": [
              "<matplotlib.axes._subplots.AxesSubplot at 0x7f6f14c06790>"
            ]
          },
          "metadata": {},
          "execution_count": 80
        },
        {
          "output_type": "display_data",
          "data": {
            "image/png": "[encoded data removed]",
            "text/plain": [
              "<Figure size 1080x288 with 1 Axes>"
            ]
          },
          "metadata": {}
        }
      ]
    },
    {
      "cell_type": "code",
      "metadata": {
        "colab": {
          "base_uri": "https://localhost:8080/",
          "height": 877
        },
        "id": "D7tO85jQOmyM",
        "outputId": "a89c9a07-4181-4a59-fb9c-b8f0f7c69f93"
      },
      "source": [
        "# Assortment \n",
        "\n",
        "# Plot Assortment, & Assortment Vs average sales and customers\n",
        "\n",
        "sns.countplot(x='Assortment', data=store_df, order=['a','b','c'])\n",
        "\n",
        "fig, (axis1,axis2) = plt.subplots(1,2,figsize=(15,4))\n",
        "\n",
        "sns.barplot(x='Assortment', y='Sales', data=store_df, order=['a','b','c'], ax=axis1)\n",
        "sns.barplot(x='Assortment', y='Customers', data=store_df, order=['a','b','c'], ax=axis2)"
      ],
      "execution_count": 81,
      "outputs": [
        {
          "output_type": "error",
          "ename": "ValueError",
          "evalue": "ignored",
          "traceback": [
            "\u001b[0;31m---------------------------------------------------------------------------\u001b[0m",
            "\u001b[0;31mValueError\u001b[0m                                Traceback (most recent call last)",
            "\u001b[0;32m<ipython-input-81-26e7d7afbe42>\u001b[0m in \u001b[0;36m<module>\u001b[0;34m()\u001b[0m\n\u001b[1;32m      7\u001b[0m \u001b[0mfig\u001b[0m\u001b[0;34m,\u001b[0m \u001b[0;34m(\u001b[0m\u001b[0maxis1\u001b[0m\u001b[0;34m,\u001b[0m\u001b[0maxis2\u001b[0m\u001b[0;34m)\u001b[0m \u001b[0;34m=\u001b[0m \u001b[0mplt\u001b[0m\u001b[0;34m.\u001b[0m\u001b[0msubplots\u001b[0m\u001b[0;34m(\u001b[0m\u001b[0;36m1\u001b[0m\u001b[0;34m,\u001b[0m\u001b[0;36m2\u001b[0m\u001b[0;34m,\u001b[0m\u001b[0mfigsize\u001b[0m\u001b[0;34m=\u001b[0m\u001b[0;34m(\u001b[0m\u001b[0;36m15\u001b[0m\u001b[0;34m,\u001b[0m\u001b[0;36m4\u001b[0m\u001b[0;34m)\u001b[0m\u001b[0;34m)\u001b[0m\u001b[0;34m\u001b[0m\u001b[0;34m\u001b[0m\u001b[0m\n\u001b[1;32m      8\u001b[0m \u001b[0;34m\u001b[0m\u001b[0m\n\u001b[0;32m----> 9\u001b[0;31m \u001b[0msns\u001b[0m\u001b[0;34m.\u001b[0m\u001b[0mbarplot\u001b[0m\u001b[0;34m(\u001b[0m\u001b[0mx\u001b[0m\u001b[0;34m=\u001b[0m\u001b[0;34m'Assortment'\u001b[0m\u001b[0;34m,\u001b[0m \u001b[0my\u001b[0m\u001b[0;34m=\u001b[0m\u001b[0;34m'Sales'\u001b[0m\u001b[0;34m,\u001b[0m \u001b[0mdata\u001b[0m\u001b[0;34m=\u001b[0m\u001b[0mstore_df\u001b[0m\u001b[0;34m,\u001b[0m \u001b[0morder\u001b[0m\u001b[0;34m=\u001b[0m\u001b[0;34m[\u001b[0m\u001b[0;34m'a'\u001b[0m\u001b[0;34m,\u001b[0m\u001b[0;34m'b'\u001b[0m\u001b[0;34m,\u001b[0m\u001b[0;34m'c'\u001b[0m\u001b[0;34m]\u001b[0m\u001b[0;34m,\u001b[0m \u001b[0max\u001b[0m\u001b[0;34m=\u001b[0m\u001b[0maxis1\u001b[0m\u001b[0;34m)\u001b[0m\u001b[0;34m\u001b[0m\u001b[0;34m\u001b[0m\u001b[0m\n\u001b[0m\u001b[1;32m     10\u001b[0m \u001b[0msns\u001b[0m\u001b[0;34m.\u001b[0m\u001b[0mbarplot\u001b[0m\u001b[0;34m(\u001b[0m\u001b[0mx\u001b[0m\u001b[0;34m=\u001b[0m\u001b[0;34m'Assortment'\u001b[0m\u001b[0;34m,\u001b[0m \u001b[0my\u001b[0m\u001b[0;34m=\u001b[0m\u001b[0;34m'Customers'\u001b[0m\u001b[0;34m,\u001b[0m \u001b[0mdata\u001b[0m\u001b[0;34m=\u001b[0m\u001b[0mstore_df\u001b[0m\u001b[0;34m,\u001b[0m \u001b[0morder\u001b[0m\u001b[0;34m=\u001b[0m\u001b[0;34m[\u001b[0m\u001b[0;34m'a'\u001b[0m\u001b[0;34m,\u001b[0m\u001b[0;34m'b'\u001b[0m\u001b[0;34m,\u001b[0m\u001b[0;34m'c'\u001b[0m\u001b[0;34m]\u001b[0m\u001b[0;34m,\u001b[0m \u001b[0max\u001b[0m\u001b[0;34m=\u001b[0m\u001b[0maxis2\u001b[0m\u001b[0;34m)\u001b[0m\u001b[0;34m\u001b[0m\u001b[0;34m\u001b[0m\u001b[0m\n",
            "\u001b[0;32m/usr/local/lib/python3.7/dist-packages/seaborn/_decorators.py\u001b[0m in \u001b[0;36minner_f\u001b[0;34m(*args, **kwargs)\u001b[0m\n\u001b[1;32m     44\u001b[0m             )\n\u001b[1;32m     45\u001b[0m         \u001b[0mkwargs\u001b[0m\u001b[0;34m.\u001b[0m\u001b[0mupdate\u001b[0m\u001b[0;34m(\u001b[0m\u001b[0;34m{\u001b[0m\u001b[0mk\u001b[0m\u001b[0;34m:\u001b[0m \u001b[0marg\u001b[0m \u001b[0;32mfor\u001b[0m \u001b[0mk\u001b[0m\u001b[0;34m,\u001b[0m \u001b[0marg\u001b[0m \u001b[0;32min\u001b[0m \u001b[0mzip\u001b[0m\u001b[0;34m(\u001b[0m\u001b[0msig\u001b[0m\u001b[0;34m.\u001b[0m\u001b[0mparameters\u001b[0m\u001b[0;34m,\u001b[0m \u001b[0margs\u001b[0m\u001b[0;34m)\u001b[0m\u001b[0;34m}\u001b[0m\u001b[0;34m)\u001b[0m\u001b[0;34m\u001b[0m\u001b[0;34m\u001b[0m\u001b[0m\n\u001b[0;32m---> 46\u001b[0;31m         \u001b[0;32mreturn\u001b[0m \u001b[0mf\u001b[0m\u001b[0;34m(\u001b[0m\u001b[0;34m**\u001b[0m\u001b[0mkwargs\u001b[0m\u001b[0;34m)\u001b[0m\u001b[0;34m\u001b[0m\u001b[0;34m\u001b[0m\u001b[0m\n\u001b[0m\u001b[1;32m     47\u001b[0m     \u001b[0;32mreturn\u001b[0m \u001b[0minner_f\u001b[0m\u001b[0;34m\u001b[0m\u001b[0;34m\u001b[0m\u001b[0m\n\u001b[1;32m     48\u001b[0m \u001b[0;34m\u001b[0m\u001b[0m\n",
            "\u001b[0;32m/usr/local/lib/python3.7/dist-packages/seaborn/categorical.py\u001b[0m in \u001b[0;36mbarplot\u001b[0;34m(x, y, hue, data, order, hue_order, estimator, ci, n_boot, units, seed, orient, color, palette, saturation, errcolor, errwidth, capsize, dodge, ax, **kwargs)\u001b[0m\n\u001b[1;32m   3183\u001b[0m                           \u001b[0mestimator\u001b[0m\u001b[0;34m,\u001b[0m \u001b[0mci\u001b[0m\u001b[0;34m,\u001b[0m \u001b[0mn_boot\u001b[0m\u001b[0;34m,\u001b[0m \u001b[0munits\u001b[0m\u001b[0;34m,\u001b[0m \u001b[0mseed\u001b[0m\u001b[0;34m,\u001b[0m\u001b[0;34m\u001b[0m\u001b[0;34m\u001b[0m\u001b[0m\n\u001b[1;32m   3184\u001b[0m                           \u001b[0morient\u001b[0m\u001b[0;34m,\u001b[0m \u001b[0mcolor\u001b[0m\u001b[0;34m,\u001b[0m \u001b[0mpalette\u001b[0m\u001b[0;34m,\u001b[0m \u001b[0msaturation\u001b[0m\u001b[0;34m,\u001b[0m\u001b[0;34m\u001b[0m\u001b[0;34m\u001b[0m\u001b[0m\n\u001b[0;32m-> 3185\u001b[0;31m                           errcolor, errwidth, capsize, dodge)\n\u001b[0m\u001b[1;32m   3186\u001b[0m \u001b[0;34m\u001b[0m\u001b[0m\n\u001b[1;32m   3187\u001b[0m     \u001b[0;32mif\u001b[0m \u001b[0max\u001b[0m \u001b[0;32mis\u001b[0m \u001b[0;32mNone\u001b[0m\u001b[0;34m:\u001b[0m\u001b[0;34m\u001b[0m\u001b[0;34m\u001b[0m\u001b[0m\n",
            "\u001b[0;32m/usr/local/lib/python3.7/dist-packages/seaborn/categorical.py\u001b[0m in \u001b[0;36m__init__\u001b[0;34m(self, x, y, hue, data, order, hue_order, estimator, ci, n_boot, units, seed, orient, color, palette, saturation, errcolor, errwidth, capsize, dodge)\u001b[0m\n\u001b[1;32m   1583\u001b[0m         \u001b[0;34m\"\"\"Initialize the plotter.\"\"\"\u001b[0m\u001b[0;34m\u001b[0m\u001b[0;34m\u001b[0m\u001b[0m\n\u001b[1;32m   1584\u001b[0m         self.establish_variables(x, y, hue, data, orient,\n\u001b[0;32m-> 1585\u001b[0;31m                                  order, hue_order, units)\n\u001b[0m\u001b[1;32m   1586\u001b[0m         \u001b[0mself\u001b[0m\u001b[0;34m.\u001b[0m\u001b[0mestablish_colors\u001b[0m\u001b[0;34m(\u001b[0m\u001b[0mcolor\u001b[0m\u001b[0;34m,\u001b[0m \u001b[0mpalette\u001b[0m\u001b[0;34m,\u001b[0m \u001b[0msaturation\u001b[0m\u001b[0;34m)\u001b[0m\u001b[0;34m\u001b[0m\u001b[0;34m\u001b[0m\u001b[0m\n\u001b[1;32m   1587\u001b[0m         \u001b[0mself\u001b[0m\u001b[0;34m.\u001b[0m\u001b[0mestimate_statistic\u001b[0m\u001b[0;34m(\u001b[0m\u001b[0mestimator\u001b[0m\u001b[0;34m,\u001b[0m \u001b[0mci\u001b[0m\u001b[0;34m,\u001b[0m \u001b[0mn_boot\u001b[0m\u001b[0;34m,\u001b[0m \u001b[0mseed\u001b[0m\u001b[0;34m)\u001b[0m\u001b[0;34m\u001b[0m\u001b[0;34m\u001b[0m\u001b[0m\n",
            "\u001b[0;32m/usr/local/lib/python3.7/dist-packages/seaborn/categorical.py\u001b[0m in \u001b[0;36mestablish_variables\u001b[0;34m(self, x, y, hue, data, orient, order, hue_order, units)\u001b[0m\n\u001b[1;32m    151\u001b[0m                 \u001b[0;32mif\u001b[0m \u001b[0misinstance\u001b[0m\u001b[0;34m(\u001b[0m\u001b[0mvar\u001b[0m\u001b[0;34m,\u001b[0m \u001b[0mstr\u001b[0m\u001b[0;34m)\u001b[0m\u001b[0;34m:\u001b[0m\u001b[0;34m\u001b[0m\u001b[0;34m\u001b[0m\u001b[0m\n\u001b[1;32m    152\u001b[0m                     \u001b[0merr\u001b[0m \u001b[0;34m=\u001b[0m \u001b[0;34m\"Could not interpret input '{}'\"\u001b[0m\u001b[0;34m.\u001b[0m\u001b[0mformat\u001b[0m\u001b[0;34m(\u001b[0m\u001b[0mvar\u001b[0m\u001b[0;34m)\u001b[0m\u001b[0;34m\u001b[0m\u001b[0;34m\u001b[0m\u001b[0m\n\u001b[0;32m--> 153\u001b[0;31m                     \u001b[0;32mraise\u001b[0m \u001b[0mValueError\u001b[0m\u001b[0;34m(\u001b[0m\u001b[0merr\u001b[0m\u001b[0;34m)\u001b[0m\u001b[0;34m\u001b[0m\u001b[0;34m\u001b[0m\u001b[0m\n\u001b[0m\u001b[1;32m    154\u001b[0m \u001b[0;34m\u001b[0m\u001b[0m\n\u001b[1;32m    155\u001b[0m             \u001b[0;31m# Figure out the plotting orientation\u001b[0m\u001b[0;34m\u001b[0m\u001b[0;34m\u001b[0m\u001b[0;34m\u001b[0m\u001b[0m\n",
            "\u001b[0;31mValueError\u001b[0m: Could not interpret input 'Sales'"
          ]
        },
        {
          "output_type": "display_data",
          "data": {
            "image/png": "[encoded data removed]",
            "text/plain": [
              "<Figure size 432x288 with 1 Axes>"
            ]
          },
          "metadata": {}
        },
        {
          "output_type": "display_data",
          "data": {
            "image/png": "[encoded data removed]",
            "text/plain": [
              "<Figure size 1080x288 with 2 Axes>"
            ]
          },
          "metadata": {}
        }
      ]
    },
    {
      "cell_type": "code",
      "metadata": {
        "colab": {
          "base_uri": "https://localhost:8080/",
          "height": 877
        },
        "id": "uOj0BD0ORJC9",
        "outputId": "d6bf0e29-be8e-42cc-a6d8-4c77a8d2d0c2"
      },
      "source": [
        "# Promo2\n",
        "\n",
        "# Plot Promo2, & Promo2 Vs average sales and customers\n",
        "\n",
        "sns.countplot(x='Promo2', data=store_df)\n",
        "\n",
        "fig, (axis1,axis2) = plt.subplots(1,2,figsize=(15,4))\n",
        "\n",
        "sns.barplot(x='Promo2', y='Sales', data=store_df, ax=axis1)\n",
        "sns.barplot(x='Promo2', y='Customers', data=store_df, ax=axis2)"
      ],
      "execution_count": 82,
      "outputs": [
        {
          "output_type": "error",
          "ename": "ValueError",
          "evalue": "ignored",
          "traceback": [
            "\u001b[0;31m---------------------------------------------------------------------------\u001b[0m",
            "\u001b[0;31mValueError\u001b[0m                                Traceback (most recent call last)",
            "\u001b[0;32m<ipython-input-82-99553e518314>\u001b[0m in \u001b[0;36m<module>\u001b[0;34m()\u001b[0m\n\u001b[1;32m      7\u001b[0m \u001b[0mfig\u001b[0m\u001b[0;34m,\u001b[0m \u001b[0;34m(\u001b[0m\u001b[0maxis1\u001b[0m\u001b[0;34m,\u001b[0m\u001b[0maxis2\u001b[0m\u001b[0;34m)\u001b[0m \u001b[0;34m=\u001b[0m \u001b[0mplt\u001b[0m\u001b[0;34m.\u001b[0m\u001b[0msubplots\u001b[0m\u001b[0;34m(\u001b[0m\u001b[0;36m1\u001b[0m\u001b[0;34m,\u001b[0m\u001b[0;36m2\u001b[0m\u001b[0;34m,\u001b[0m\u001b[0mfigsize\u001b[0m\u001b[0;34m=\u001b[0m\u001b[0;34m(\u001b[0m\u001b[0;36m15\u001b[0m\u001b[0;34m,\u001b[0m\u001b[0;36m4\u001b[0m\u001b[0;34m)\u001b[0m\u001b[0;34m)\u001b[0m\u001b[0;34m\u001b[0m\u001b[0;34m\u001b[0m\u001b[0m\n\u001b[1;32m      8\u001b[0m \u001b[0;34m\u001b[0m\u001b[0m\n\u001b[0;32m----> 9\u001b[0;31m \u001b[0msns\u001b[0m\u001b[0;34m.\u001b[0m\u001b[0mbarplot\u001b[0m\u001b[0;34m(\u001b[0m\u001b[0mx\u001b[0m\u001b[0;34m=\u001b[0m\u001b[0;34m'Promo2'\u001b[0m\u001b[0;34m,\u001b[0m \u001b[0my\u001b[0m\u001b[0;34m=\u001b[0m\u001b[0;34m'Sales'\u001b[0m\u001b[0;34m,\u001b[0m \u001b[0mdata\u001b[0m\u001b[0;34m=\u001b[0m\u001b[0mstore_df\u001b[0m\u001b[0;34m,\u001b[0m \u001b[0max\u001b[0m\u001b[0;34m=\u001b[0m\u001b[0maxis1\u001b[0m\u001b[0;34m)\u001b[0m\u001b[0;34m\u001b[0m\u001b[0;34m\u001b[0m\u001b[0m\n\u001b[0m\u001b[1;32m     10\u001b[0m \u001b[0msns\u001b[0m\u001b[0;34m.\u001b[0m\u001b[0mbarplot\u001b[0m\u001b[0;34m(\u001b[0m\u001b[0mx\u001b[0m\u001b[0;34m=\u001b[0m\u001b[0;34m'Promo2'\u001b[0m\u001b[0;34m,\u001b[0m \u001b[0my\u001b[0m\u001b[0;34m=\u001b[0m\u001b[0;34m'Customers'\u001b[0m\u001b[0;34m,\u001b[0m \u001b[0mdata\u001b[0m\u001b[0;34m=\u001b[0m\u001b[0mstore_df\u001b[0m\u001b[0;34m,\u001b[0m \u001b[0max\u001b[0m\u001b[0;34m=\u001b[0m\u001b[0maxis2\u001b[0m\u001b[0;34m)\u001b[0m\u001b[0;34m\u001b[0m\u001b[0;34m\u001b[0m\u001b[0m\n",
            "\u001b[0;32m/usr/local/lib/python3.7/dist-packages/seaborn/_decorators.py\u001b[0m in \u001b[0;36minner_f\u001b[0;34m(*args, **kwargs)\u001b[0m\n\u001b[1;32m     44\u001b[0m             )\n\u001b[1;32m     45\u001b[0m         \u001b[0mkwargs\u001b[0m\u001b[0;34m.\u001b[0m\u001b[0mupdate\u001b[0m\u001b[0;34m(\u001b[0m\u001b[0;34m{\u001b[0m\u001b[0mk\u001b[0m\u001b[0;34m:\u001b[0m \u001b[0marg\u001b[0m \u001b[0;32mfor\u001b[0m \u001b[0mk\u001b[0m\u001b[0;34m,\u001b[0m \u001b[0marg\u001b[0m \u001b[0;32min\u001b[0m \u001b[0mzip\u001b[0m\u001b[0;34m(\u001b[0m\u001b[0msig\u001b[0m\u001b[0;34m.\u001b[0m\u001b[0mparameters\u001b[0m\u001b[0;34m,\u001b[0m \u001b[0margs\u001b[0m\u001b[0;34m)\u001b[0m\u001b[0;34m}\u001b[0m\u001b[0;34m)\u001b[0m\u001b[0;34m\u001b[0m\u001b[0;34m\u001b[0m\u001b[0m\n\u001b[0;32m---> 46\u001b[0;31m         \u001b[0;32mreturn\u001b[0m \u001b[0mf\u001b[0m\u001b[0;34m(\u001b[0m\u001b[0;34m**\u001b[0m\u001b[0mkwargs\u001b[0m\u001b[0;34m)\u001b[0m\u001b[0;34m\u001b[0m\u001b[0;34m\u001b[0m\u001b[0m\n\u001b[0m\u001b[1;32m     47\u001b[0m     \u001b[0;32mreturn\u001b[0m \u001b[0minner_f\u001b[0m\u001b[0;34m\u001b[0m\u001b[0;34m\u001b[0m\u001b[0m\n\u001b[1;32m     48\u001b[0m \u001b[0;34m\u001b[0m\u001b[0m\n",
            "\u001b[0;32m/usr/local/lib/python3.7/dist-packages/seaborn/categorical.py\u001b[0m in \u001b[0;36mbarplot\u001b[0;34m(x, y, hue, data, order, hue_order, estimator, ci, n_boot, units, seed, orient, color, palette, saturation, errcolor, errwidth, capsize, dodge, ax, **kwargs)\u001b[0m\n\u001b[1;32m   3183\u001b[0m                           \u001b[0mestimator\u001b[0m\u001b[0;34m,\u001b[0m \u001b[0mci\u001b[0m\u001b[0;34m,\u001b[0m \u001b[0mn_boot\u001b[0m\u001b[0;34m,\u001b[0m \u001b[0munits\u001b[0m\u001b[0;34m,\u001b[0m \u001b[0mseed\u001b[0m\u001b[0;34m,\u001b[0m\u001b[0;34m\u001b[0m\u001b[0;34m\u001b[0m\u001b[0m\n\u001b[1;32m   3184\u001b[0m                           \u001b[0morient\u001b[0m\u001b[0;34m,\u001b[0m \u001b[0mcolor\u001b[0m\u001b[0;34m,\u001b[0m \u001b[0mpalette\u001b[0m\u001b[0;34m,\u001b[0m \u001b[0msaturation\u001b[0m\u001b[0;34m,\u001b[0m\u001b[0;34m\u001b[0m\u001b[0;34m\u001b[0m\u001b[0m\n\u001b[0;32m-> 3185\u001b[0;31m                           errcolor, errwidth, capsize, dodge)\n\u001b[0m\u001b[1;32m   3186\u001b[0m \u001b[0;34m\u001b[0m\u001b[0m\n\u001b[1;32m   3187\u001b[0m     \u001b[0;32mif\u001b[0m \u001b[0max\u001b[0m \u001b[0;32mis\u001b[0m \u001b[0;32mNone\u001b[0m\u001b[0;34m:\u001b[0m\u001b[0;34m\u001b[0m\u001b[0;34m\u001b[0m\u001b[0m\n",
            "\u001b[0;32m/usr/local/lib/python3.7/dist-packages/seaborn/categorical.py\u001b[0m in \u001b[0;36m__init__\u001b[0;34m(self, x, y, hue, data, order, hue_order, estimator, ci, n_boot, units, seed, orient, color, palette, saturation, errcolor, errwidth, capsize, dodge)\u001b[0m\n\u001b[1;32m   1583\u001b[0m         \u001b[0;34m\"\"\"Initialize the plotter.\"\"\"\u001b[0m\u001b[0;34m\u001b[0m\u001b[0;34m\u001b[0m\u001b[0m\n\u001b[1;32m   1584\u001b[0m         self.establish_variables(x, y, hue, data, orient,\n\u001b[0;32m-> 1585\u001b[0;31m                                  order, hue_order, units)\n\u001b[0m\u001b[1;32m   1586\u001b[0m         \u001b[0mself\u001b[0m\u001b[0;34m.\u001b[0m\u001b[0mestablish_colors\u001b[0m\u001b[0;34m(\u001b[0m\u001b[0mcolor\u001b[0m\u001b[0;34m,\u001b[0m \u001b[0mpalette\u001b[0m\u001b[0;34m,\u001b[0m \u001b[0msaturation\u001b[0m\u001b[0;34m)\u001b[0m\u001b[0;34m\u001b[0m\u001b[0;34m\u001b[0m\u001b[0m\n\u001b[1;32m   1587\u001b[0m         \u001b[0mself\u001b[0m\u001b[0;34m.\u001b[0m\u001b[0mestimate_statistic\u001b[0m\u001b[0;34m(\u001b[0m\u001b[0mestimator\u001b[0m\u001b[0;34m,\u001b[0m \u001b[0mci\u001b[0m\u001b[0;34m,\u001b[0m \u001b[0mn_boot\u001b[0m\u001b[0;34m,\u001b[0m \u001b[0mseed\u001b[0m\u001b[0;34m)\u001b[0m\u001b[0;34m\u001b[0m\u001b[0;34m\u001b[0m\u001b[0m\n",
            "\u001b[0;32m/usr/local/lib/python3.7/dist-packages/seaborn/categorical.py\u001b[0m in \u001b[0;36mestablish_variables\u001b[0;34m(self, x, y, hue, data, orient, order, hue_order, units)\u001b[0m\n\u001b[1;32m    151\u001b[0m                 \u001b[0;32mif\u001b[0m \u001b[0misinstance\u001b[0m\u001b[0;34m(\u001b[0m\u001b[0mvar\u001b[0m\u001b[0;34m,\u001b[0m \u001b[0mstr\u001b[0m\u001b[0;34m)\u001b[0m\u001b[0;34m:\u001b[0m\u001b[0;34m\u001b[0m\u001b[0;34m\u001b[0m\u001b[0m\n\u001b[1;32m    152\u001b[0m                     \u001b[0merr\u001b[0m \u001b[0;34m=\u001b[0m \u001b[0;34m\"Could not interpret input '{}'\"\u001b[0m\u001b[0;34m.\u001b[0m\u001b[0mformat\u001b[0m\u001b[0;34m(\u001b[0m\u001b[0mvar\u001b[0m\u001b[0;34m)\u001b[0m\u001b[0;34m\u001b[0m\u001b[0;34m\u001b[0m\u001b[0m\n\u001b[0;32m--> 153\u001b[0;31m                     \u001b[0;32mraise\u001b[0m \u001b[0mValueError\u001b[0m\u001b[0;34m(\u001b[0m\u001b[0merr\u001b[0m\u001b[0;34m)\u001b[0m\u001b[0;34m\u001b[0m\u001b[0;34m\u001b[0m\u001b[0m\n\u001b[0m\u001b[1;32m    154\u001b[0m \u001b[0;34m\u001b[0m\u001b[0m\n\u001b[1;32m    155\u001b[0m             \u001b[0;31m# Figure out the plotting orientation\u001b[0m\u001b[0;34m\u001b[0m\u001b[0;34m\u001b[0m\u001b[0;34m\u001b[0m\u001b[0m\n",
            "\u001b[0;31mValueError\u001b[0m: Could not interpret input 'Sales'"
          ]
        },
        {
          "output_type": "display_data",
          "data": {
            "image/png": "[encoded data removed]",
            "text/plain": [
              "<Figure size 432x288 with 1 Axes>"
            ]
          },
          "metadata": {}
        },
        {
          "output_type": "display_data",
          "data": {
            "image/png": "[encoded data removed]",
            "text/plain": [
              "<Figure size 1080x288 with 2 Axes>"
            ]
          },
          "metadata": {}
        }
      ]
    },
    {
      "cell_type": "code",
      "metadata": {
        "id": "E9F4O8GGR_u3"
      },
      "source": [
        ""
      ],
      "execution_count": null,
      "outputs": []
    }
  ]
}