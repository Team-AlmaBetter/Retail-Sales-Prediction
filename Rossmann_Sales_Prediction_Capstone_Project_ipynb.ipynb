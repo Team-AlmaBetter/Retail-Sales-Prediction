{
  "nbformat": 4,
  "nbformat_minor": 0,
  "metadata": {
    "kernelspec": {
      "display_name": "Python 3",
      "language": "python",
      "name": "python3"
    },
    "language_info": {
      "codemirror_mode": {
        "name": "ipython",
        "version": 3
      },
      "file_extension": ".py",
      "mimetype": "text/x-python",
      "name": "python",
      "nbconvert_exporter": "python",
      "pygments_lexer": "ipython3",
      "version": "3.6.6"
    },
    "colab": {
      "name": "Rossmann Sales Prediction - Capstone Project.ipynb.ipynb",
      "provenance": [],
      "collapsed_sections": [
        "Y06xIdG26kRF",
        "WWeU1f9bwqQq"
      ],
      "include_colab_link": true
    }
  },
  "cells": [
    {
      "cell_type": "markdown",
      "metadata": {
        "id": "view-in-github",
        "colab_type": "text"
      },
      "source": [
        "<a href=\"https://colab.research.google.com/github/Team-AlmaBetter/Retail-Sales-Prediction/blob/main/Rossmann_Sales_Prediction_Capstone_Project_ipynb.ipynb\" target=\"_parent\"><img src=\"https://colab.research.google.com/assets/colab-badge.svg\" alt=\"Open In Colab\"/></a>"
      ]
    },
    {
      "cell_type": "markdown",
      "metadata": {
        "id": "tOGC-qoyhJeX"
      },
      "source": [
        "# <b><u> Project Title : Sales Prediction : Predicting sales of a major store chain Rossmann</u></b>"
      ]
    },
    {
      "cell_type": "markdown",
      "metadata": {
        "id": "Y06xIdG26kRF"
      },
      "source": [
        "## <b> Problem Description </b>\n",
        "\n",
        "### Rossmann operates over 3,000 drug stores in 7 European countries. Currently, Rossmann store managers are tasked with predicting their daily sales for up to six weeks in advance. Store sales are influenced by many factors, including promotions, competition, school and state holidays, seasonality, and locality. With thousands of individual managers predicting sales based on their unique circumstances, the accuracy of results can be quite varied.\n",
        "\n",
        "### You are provided with historical sales data for 1,115 Rossmann stores. The task is to forecast the \"Sales\" column for the test set. Note that some stores in the dataset were temporarily closed for refurbishment."
      ]
    },
    {
      "cell_type": "markdown",
      "metadata": {
        "id": "WWeU1f9bwqQq"
      },
      "source": [
        "## <b> Data Description </b>\n",
        "\n",
        "### <b>Rossmann Stores Data.csv </b> - historical data including Sales\n",
        "### <b>store.csv </b> - supplemental information about the stores\n",
        "\n",
        "\n",
        "### <b><u>Data fields</u></b>\n",
        "### Most of the fields are self-explanatory. The following are descriptions for those that aren't.\n",
        "\n",
        "* #### Id - an Id that represents a (Store, Date) duple within the test set\n",
        "* #### Store - a unique Id for each store\n",
        "* #### Sales - the turnover for any given day (this is what you are predicting)\n",
        "* #### Customers - the number of customers on a given day\n",
        "* #### Open - an indicator for whether the store was open: 0 = closed, 1 = open\n",
        "* #### StateHoliday - indicates a state holiday. Normally all stores, with few exceptions, are closed on state holidays. Note that all schools are closed on public holidays and weekends. a = public holiday, b = Easter holiday, c = Christmas, 0 = None\n",
        "* #### SchoolHoliday - indicates if the (Store, Date) was affected by the closure of public schools\n",
        "* #### StoreType - differentiates between 4 different store models: a, b, c, d\n",
        "* #### Assortment - describes an assortment level: a = basic, b = extra, c = extended\n",
        "* #### CompetitionDistance - distance in meters to the nearest competitor store\n",
        "* #### CompetitionOpenSince[Month/Year] - gives the approximate year and month of the time the nearest competitor was opened\n",
        "* #### Promo - indicates whether a store is running a promo on that day\n",
        "* #### Promo2 - Promo2 is a continuing and consecutive promotion for some stores: 0 = store is not participating, 1 = store is participating\n",
        "* #### Promo2Since[Year/Week] - describes the year and calendar week when the store started participating in Promo2\n",
        "* #### PromoInterval - describes the consecutive intervals Promo2 is started, naming the months the promotion is started anew. E.g. \"Feb,May,Aug,Nov\" means each round starts in February, May, August, November of any given year for that store"
      ]
    },
    {
      "cell_type": "markdown",
      "metadata": {
        "id": "T3MoEdinglmF"
      },
      "source": [
        "#<b>Import necessary libraries"
      ]
    },
    {
      "cell_type": "code",
      "metadata": {
        "id": "bbW-99A1gWrp"
      },
      "source": [
        "import pandas as pd, datetime\n",
        "import numpy as np\n",
        "import matplotlib.pyplot as plt\n",
        "import scipy.stats as stats\n",
        "import seaborn as sns\n",
        "\n",
        "from statsmodels.tsa.stattools import adfuller\n",
        "import matplotlib.pyplot as plt\n",
        "get_ipython().run_line_magic('matplotlib', 'inline')\n",
        "from time import time\n",
        "import os\n",
        "from math import sqrt\n",
        "from statsmodels.tsa.seasonal import seasonal_decompose\n",
        "from statsmodels.graphics.tsaplots import plot_acf, plot_pacf\n",
        "import itertools\n",
        "import statsmodels.api as sm\n",
        "from statsmodels.tsa.stattools import acf,pacf\n",
        "from statsmodels.tsa.arima_model import  ARIMA\n",
        "from sklearn import model_selection\n",
        "from sklearn.metrics import mean_squared_error, r2_score\n",
        "from pandas import DataFrame\n",
        "import xgboost as xgb\n",
        "from fbprophet import Prophet\n",
        "import warnings\n",
        "warnings.filterwarnings('ignore')"
      ],
      "execution_count": 165,
      "outputs": []
    },
    {
      "cell_type": "markdown",
      "metadata": {
        "id": "S7w84heoa1T1"
      },
      "source": [
        "# <b>2.Data Preparation"
      ]
    },
    {
      "cell_type": "markdown",
      "metadata": {
        "id": "iP29Mf7Dhd3I"
      },
      "source": [
        "##<b>2.1 Import Datasets"
      ]
    },
    {
      "cell_type": "code",
      "metadata": {
        "colab": {
          "base_uri": "https://localhost:8080/"
        },
        "id": "9q1zIoR6ivsV",
        "outputId": "b6b9c299-c70f-4937-cb67-806cad4cf1c5"
      },
      "source": [
        "from google.colab import drive\n",
        "drive.mount('/content/drive')"
      ],
      "execution_count": 166,
      "outputs": [
        {
          "output_type": "stream",
          "name": "stdout",
          "text": [
            "Drive already mounted at /content/drive; to attempt to forcibly remount, call drive.mount(\"/content/drive\", force_remount=True).\n"
          ]
        }
      ]
    },
    {
      "cell_type": "code",
      "metadata": {
        "colab": {
          "base_uri": "https://localhost:8080/",
          "height": 203
        },
        "id": "oXI6uRS2i1FB",
        "outputId": "3e94c043-2fd5-40c5-b61a-ab02682848e1"
      },
      "source": [
        "R_data = pd.read_csv('/content/drive/MyDrive/Retail Sales Prediction-Capstone 2/Data & Resources/Rossmann Stores Data.csv')\n",
        "R_data.head()"
      ],
      "execution_count": 167,
      "outputs": [
        {
          "output_type": "execute_result",
          "data": {
            "text/html": [
              "<div>\n",
              "<style scoped>\n",
              "    .dataframe tbody tr th:only-of-type {\n",
              "        vertical-align: middle;\n",
              "    }\n",
              "\n",
              "    .dataframe tbody tr th {\n",
              "        vertical-align: top;\n",
              "    }\n",
              "\n",
              "    .dataframe thead th {\n",
              "        text-align: right;\n",
              "    }\n",
              "</style>\n",
              "<table border=\"1\" class=\"dataframe\">\n",
              "  <thead>\n",
              "    <tr style=\"text-align: right;\">\n",
              "      <th></th>\n",
              "      <th>Store</th>\n",
              "      <th>DayOfWeek</th>\n",
              "      <th>Date</th>\n",
              "      <th>Sales</th>\n",
              "      <th>Customers</th>\n",
              "      <th>Open</th>\n",
              "      <th>Promo</th>\n",
              "      <th>StateHoliday</th>\n",
              "      <th>SchoolHoliday</th>\n",
              "    </tr>\n",
              "  </thead>\n",
              "  <tbody>\n",
              "    <tr>\n",
              "      <th>0</th>\n",
              "      <td>1</td>\n",
              "      <td>5</td>\n",
              "      <td>2015-07-31</td>\n",
              "      <td>5263</td>\n",
              "      <td>555</td>\n",
              "      <td>1</td>\n",
              "      <td>1</td>\n",
              "      <td>0</td>\n",
              "      <td>1</td>\n",
              "    </tr>\n",
              "    <tr>\n",
              "      <th>1</th>\n",
              "      <td>2</td>\n",
              "      <td>5</td>\n",
              "      <td>2015-07-31</td>\n",
              "      <td>6064</td>\n",
              "      <td>625</td>\n",
              "      <td>1</td>\n",
              "      <td>1</td>\n",
              "      <td>0</td>\n",
              "      <td>1</td>\n",
              "    </tr>\n",
              "    <tr>\n",
              "      <th>2</th>\n",
              "      <td>3</td>\n",
              "      <td>5</td>\n",
              "      <td>2015-07-31</td>\n",
              "      <td>8314</td>\n",
              "      <td>821</td>\n",
              "      <td>1</td>\n",
              "      <td>1</td>\n",
              "      <td>0</td>\n",
              "      <td>1</td>\n",
              "    </tr>\n",
              "    <tr>\n",
              "      <th>3</th>\n",
              "      <td>4</td>\n",
              "      <td>5</td>\n",
              "      <td>2015-07-31</td>\n",
              "      <td>13995</td>\n",
              "      <td>1498</td>\n",
              "      <td>1</td>\n",
              "      <td>1</td>\n",
              "      <td>0</td>\n",
              "      <td>1</td>\n",
              "    </tr>\n",
              "    <tr>\n",
              "      <th>4</th>\n",
              "      <td>5</td>\n",
              "      <td>5</td>\n",
              "      <td>2015-07-31</td>\n",
              "      <td>4822</td>\n",
              "      <td>559</td>\n",
              "      <td>1</td>\n",
              "      <td>1</td>\n",
              "      <td>0</td>\n",
              "      <td>1</td>\n",
              "    </tr>\n",
              "  </tbody>\n",
              "</table>\n",
              "</div>"
            ],
            "text/plain": [
              "   Store  DayOfWeek        Date  Sales  ...  Open  Promo  StateHoliday SchoolHoliday\n",
              "0      1          5  2015-07-31   5263  ...     1      1             0             1\n",
              "1      2          5  2015-07-31   6064  ...     1      1             0             1\n",
              "2      3          5  2015-07-31   8314  ...     1      1             0             1\n",
              "3      4          5  2015-07-31  13995  ...     1      1             0             1\n",
              "4      5          5  2015-07-31   4822  ...     1      1             0             1\n",
              "\n",
              "[5 rows x 9 columns]"
            ]
          },
          "metadata": {},
          "execution_count": 167
        }
      ]
    },
    {
      "cell_type": "code",
      "metadata": {
        "colab": {
          "base_uri": "https://localhost:8080/"
        },
        "id": "3DppFg4vjfcC",
        "outputId": "a0495ff8-c454-4e85-8196-90c16714e704"
      },
      "source": [
        "R_data.shape"
      ],
      "execution_count": 168,
      "outputs": [
        {
          "output_type": "execute_result",
          "data": {
            "text/plain": [
              "(1017209, 9)"
            ]
          },
          "metadata": {},
          "execution_count": 168
        }
      ]
    },
    {
      "cell_type": "code",
      "metadata": {
        "colab": {
          "base_uri": "https://localhost:8080/",
          "height": 223
        },
        "id": "3ZoNe3mcjrNT",
        "outputId": "32c5230a-c95f-450a-fb0c-aae71ec0eeae"
      },
      "source": [
        "store = pd.read_csv('/content/drive/MyDrive/Retail Sales Prediction-Capstone 2/Data & Resources/store.csv')\n",
        "store.head()"
      ],
      "execution_count": 169,
      "outputs": [
        {
          "output_type": "execute_result",
          "data": {
            "text/html": [
              "<div>\n",
              "<style scoped>\n",
              "    .dataframe tbody tr th:only-of-type {\n",
              "        vertical-align: middle;\n",
              "    }\n",
              "\n",
              "    .dataframe tbody tr th {\n",
              "        vertical-align: top;\n",
              "    }\n",
              "\n",
              "    .dataframe thead th {\n",
              "        text-align: right;\n",
              "    }\n",
              "</style>\n",
              "<table border=\"1\" class=\"dataframe\">\n",
              "  <thead>\n",
              "    <tr style=\"text-align: right;\">\n",
              "      <th></th>\n",
              "      <th>Store</th>\n",
              "      <th>StoreType</th>\n",
              "      <th>Assortment</th>\n",
              "      <th>CompetitionDistance</th>\n",
              "      <th>CompetitionOpenSinceMonth</th>\n",
              "      <th>CompetitionOpenSinceYear</th>\n",
              "      <th>Promo2</th>\n",
              "      <th>Promo2SinceWeek</th>\n",
              "      <th>Promo2SinceYear</th>\n",
              "      <th>PromoInterval</th>\n",
              "    </tr>\n",
              "  </thead>\n",
              "  <tbody>\n",
              "    <tr>\n",
              "      <th>0</th>\n",
              "      <td>1</td>\n",
              "      <td>c</td>\n",
              "      <td>a</td>\n",
              "      <td>1270.0</td>\n",
              "      <td>9.0</td>\n",
              "      <td>2008.0</td>\n",
              "      <td>0</td>\n",
              "      <td>NaN</td>\n",
              "      <td>NaN</td>\n",
              "      <td>NaN</td>\n",
              "    </tr>\n",
              "    <tr>\n",
              "      <th>1</th>\n",
              "      <td>2</td>\n",
              "      <td>a</td>\n",
              "      <td>a</td>\n",
              "      <td>570.0</td>\n",
              "      <td>11.0</td>\n",
              "      <td>2007.0</td>\n",
              "      <td>1</td>\n",
              "      <td>13.0</td>\n",
              "      <td>2010.0</td>\n",
              "      <td>Jan,Apr,Jul,Oct</td>\n",
              "    </tr>\n",
              "    <tr>\n",
              "      <th>2</th>\n",
              "      <td>3</td>\n",
              "      <td>a</td>\n",
              "      <td>a</td>\n",
              "      <td>14130.0</td>\n",
              "      <td>12.0</td>\n",
              "      <td>2006.0</td>\n",
              "      <td>1</td>\n",
              "      <td>14.0</td>\n",
              "      <td>2011.0</td>\n",
              "      <td>Jan,Apr,Jul,Oct</td>\n",
              "    </tr>\n",
              "    <tr>\n",
              "      <th>3</th>\n",
              "      <td>4</td>\n",
              "      <td>c</td>\n",
              "      <td>c</td>\n",
              "      <td>620.0</td>\n",
              "      <td>9.0</td>\n",
              "      <td>2009.0</td>\n",
              "      <td>0</td>\n",
              "      <td>NaN</td>\n",
              "      <td>NaN</td>\n",
              "      <td>NaN</td>\n",
              "    </tr>\n",
              "    <tr>\n",
              "      <th>4</th>\n",
              "      <td>5</td>\n",
              "      <td>a</td>\n",
              "      <td>a</td>\n",
              "      <td>29910.0</td>\n",
              "      <td>4.0</td>\n",
              "      <td>2015.0</td>\n",
              "      <td>0</td>\n",
              "      <td>NaN</td>\n",
              "      <td>NaN</td>\n",
              "      <td>NaN</td>\n",
              "    </tr>\n",
              "  </tbody>\n",
              "</table>\n",
              "</div>"
            ],
            "text/plain": [
              "   Store StoreType  ... Promo2SinceYear    PromoInterval\n",
              "0      1         c  ...             NaN              NaN\n",
              "1      2         a  ...          2010.0  Jan,Apr,Jul,Oct\n",
              "2      3         a  ...          2011.0  Jan,Apr,Jul,Oct\n",
              "3      4         c  ...             NaN              NaN\n",
              "4      5         a  ...             NaN              NaN\n",
              "\n",
              "[5 rows x 10 columns]"
            ]
          },
          "metadata": {},
          "execution_count": 169
        }
      ]
    },
    {
      "cell_type": "code",
      "metadata": {
        "colab": {
          "base_uri": "https://localhost:8080/"
        },
        "id": "15HCcccgjzzb",
        "outputId": "e66e0823-6e2c-44a3-e3d9-637a0327f39a"
      },
      "source": [
        "store.shape"
      ],
      "execution_count": 170,
      "outputs": [
        {
          "output_type": "execute_result",
          "data": {
            "text/plain": [
              "(1115, 10)"
            ]
          },
          "metadata": {},
          "execution_count": 170
        }
      ]
    },
    {
      "cell_type": "markdown",
      "metadata": {
        "id": "N_QGYvgYc0S5"
      },
      "source": [
        "#<B>2.2 Dealing With Missing Values "
      ]
    },
    {
      "cell_type": "markdown",
      "metadata": {
        "id": "q4fV5t4ycm8W"
      },
      "source": [
        "##<b>2.2.1 Count missing values in each dataset"
      ]
    },
    {
      "cell_type": "code",
      "metadata": {
        "colab": {
          "base_uri": "https://localhost:8080/"
        },
        "id": "OtaJ0Cj_dJIs",
        "outputId": "ed1abbd3-6947-411b-c242-cdab9507c7d5"
      },
      "source": [
        "print(\"R_data:\\n\\n\", R_data.isnull().sum(),  \n",
        "     \"\\n\\nstore:\\n\\n\", store.isnull().sum())"
      ],
      "execution_count": 171,
      "outputs": [
        {
          "output_type": "stream",
          "name": "stdout",
          "text": [
            "R_data:\n",
            "\n",
            " Store            0\n",
            "DayOfWeek        0\n",
            "Date             0\n",
            "Sales            0\n",
            "Customers        0\n",
            "Open             0\n",
            "Promo            0\n",
            "StateHoliday     0\n",
            "SchoolHoliday    0\n",
            "dtype: int64 \n",
            "\n",
            "store:\n",
            "\n",
            " Store                          0\n",
            "StoreType                      0\n",
            "Assortment                     0\n",
            "CompetitionDistance            3\n",
            "CompetitionOpenSinceMonth    354\n",
            "CompetitionOpenSinceYear     354\n",
            "Promo2                         0\n",
            "Promo2SinceWeek              544\n",
            "Promo2SinceYear              544\n",
            "PromoInterval                544\n",
            "dtype: int64\n"
          ]
        }
      ]
    },
    {
      "cell_type": "markdown",
      "metadata": {
        "id": "8KX6H6QmdULG"
      },
      "source": [
        "##<b>2.2.2 Remove features with high percentages of missing values"
      ]
    },
    {
      "cell_type": "markdown",
      "metadata": {
        "id": "riLUcOnvdfW9"
      },
      "source": [
        "We can see that some features have a high percentage of missing values and they won't be accurate as indicators, so we will remove features with more than 30% missing values."
      ]
    },
    {
      "cell_type": "code",
      "metadata": {
        "id": "dlce4psPdTNg"
      },
      "source": [
        "# remove features\n",
        "store = store.drop(['CompetitionOpenSinceMonth', 'CompetitionOpenSinceYear','Promo2SinceWeek',\n",
        "                     'Promo2SinceYear', 'PromoInterval'], axis=1)"
      ],
      "execution_count": 172,
      "outputs": []
    },
    {
      "cell_type": "markdown",
      "metadata": {
        "id": "-2VharjuITN7"
      },
      "source": [
        "##<B>2.2.3\n"
      ]
    },
    {
      "cell_type": "markdown",
      "metadata": {
        "id": "QV6x7SVZL5JB"
      },
      "source": [
        "#  Replace missing values in features with low percentages of missing values"
      ]
    },
    {
      "cell_type": "code",
      "metadata": {
        "id": "hWaj1lwyNXdp",
        "colab": {
          "base_uri": "https://localhost:8080/"
        },
        "outputId": "933d311f-aafa-42e6-b1fc-1b9b4a8c9af6"
      },
      "source": [
        "# check for any null values\n",
        "store.isnull().sum()"
      ],
      "execution_count": 173,
      "outputs": [
        {
          "output_type": "execute_result",
          "data": {
            "text/plain": [
              "Store                  0\n",
              "StoreType              0\n",
              "Assortment             0\n",
              "CompetitionDistance    3\n",
              "Promo2                 0\n",
              "dtype: int64"
            ]
          },
          "metadata": {},
          "execution_count": 173
        }
      ]
    },
    {
      "cell_type": "markdown",
      "metadata": {
        "id": "DyL1IKkeNh4V"
      },
      "source": [
        "Since Compition distance have 3 null values.\n",
        "So we will fill the null values with its mean"
      ]
    },
    {
      "cell_type": "code",
      "metadata": {
        "id": "-z9lOSSMM8Qb"
      },
      "source": [
        "# filling competition distance with mean\n",
        "store['CompetitionDistance'].fillna(store['CompetitionDistance'].mean(), inplace = True)\n"
      ],
      "execution_count": 174,
      "outputs": []
    },
    {
      "cell_type": "code",
      "metadata": {
        "id": "GxaT_4teN7Rx",
        "colab": {
          "base_uri": "https://localhost:8080/"
        },
        "outputId": "93c0dde8-bf59-4ee3-da6c-7d352a275d3d"
      },
      "source": [
        "# lets check again for null value\n",
        "store.isnull().sum()"
      ],
      "execution_count": 175,
      "outputs": [
        {
          "output_type": "execute_result",
          "data": {
            "text/plain": [
              "Store                  0\n",
              "StoreType              0\n",
              "Assortment             0\n",
              "CompetitionDistance    0\n",
              "Promo2                 0\n",
              "dtype: int64"
            ]
          },
          "metadata": {},
          "execution_count": 175
        }
      ]
    },
    {
      "cell_type": "markdown",
      "metadata": {
        "id": "SnfDpSMUMBSx"
      },
      "source": [
        "#2.3 Date Extraction"
      ]
    },
    {
      "cell_type": "markdown",
      "metadata": {
        "id": "EutMSO34OjSe"
      },
      "source": [
        "Lets extractthe dates from date features\n",
        "Since we have only dates, we will extract years, months, day and weakof year"
      ]
    },
    {
      "cell_type": "code",
      "metadata": {
        "id": "FOe2Hc8jQ9ll",
        "colab": {
          "base_uri": "https://localhost:8080/"
        },
        "outputId": "fb4451d5-a27c-4136-e55b-a229616b879c"
      },
      "source": [
        "R_data.info()"
      ],
      "execution_count": 176,
      "outputs": [
        {
          "output_type": "stream",
          "name": "stdout",
          "text": [
            "<class 'pandas.core.frame.DataFrame'>\n",
            "RangeIndex: 1017209 entries, 0 to 1017208\n",
            "Data columns (total 9 columns):\n",
            " #   Column         Non-Null Count    Dtype \n",
            "---  ------         --------------    ----- \n",
            " 0   Store          1017209 non-null  int64 \n",
            " 1   DayOfWeek      1017209 non-null  int64 \n",
            " 2   Date           1017209 non-null  object\n",
            " 3   Sales          1017209 non-null  int64 \n",
            " 4   Customers      1017209 non-null  int64 \n",
            " 5   Open           1017209 non-null  int64 \n",
            " 6   Promo          1017209 non-null  int64 \n",
            " 7   StateHoliday   1017209 non-null  object\n",
            " 8   SchoolHoliday  1017209 non-null  int64 \n",
            "dtypes: int64(7), object(2)\n",
            "memory usage: 69.8+ MB\n"
          ]
        }
      ]
    },
    {
      "cell_type": "markdown",
      "metadata": {
        "id": "O7wg10I_RdzE"
      },
      "source": [
        "Firstly convert the datatype of 'Date' column to datetime format"
      ]
    },
    {
      "cell_type": "code",
      "metadata": {
        "id": "-qJlFDVMRvnH"
      },
      "source": [
        "# converting to datetime datatype\n",
        "\n",
        "R_data['Date']=pd.to_datetime(R_data['Date'])\n"
      ],
      "execution_count": 177,
      "outputs": []
    },
    {
      "cell_type": "code",
      "metadata": {
        "id": "aruC5bODSNB8",
        "colab": {
          "base_uri": "https://localhost:8080/"
        },
        "outputId": "735c8668-adae-4c4d-ea61-a0663e57a4cc"
      },
      "source": [
        "R_data.info()"
      ],
      "execution_count": 178,
      "outputs": [
        {
          "output_type": "stream",
          "name": "stdout",
          "text": [
            "<class 'pandas.core.frame.DataFrame'>\n",
            "RangeIndex: 1017209 entries, 0 to 1017208\n",
            "Data columns (total 9 columns):\n",
            " #   Column         Non-Null Count    Dtype         \n",
            "---  ------         --------------    -----         \n",
            " 0   Store          1017209 non-null  int64         \n",
            " 1   DayOfWeek      1017209 non-null  int64         \n",
            " 2   Date           1017209 non-null  datetime64[ns]\n",
            " 3   Sales          1017209 non-null  int64         \n",
            " 4   Customers      1017209 non-null  int64         \n",
            " 5   Open           1017209 non-null  int64         \n",
            " 6   Promo          1017209 non-null  int64         \n",
            " 7   StateHoliday   1017209 non-null  object        \n",
            " 8   SchoolHoliday  1017209 non-null  int64         \n",
            "dtypes: datetime64[ns](1), int64(7), object(1)\n",
            "memory usage: 69.8+ MB\n"
          ]
        }
      ]
    },
    {
      "cell_type": "code",
      "metadata": {
        "id": "sj_phudoOggS"
      },
      "source": [
        "# extract year, month, day and week of year from \"Date\"\n",
        "R_data['Year'] =pd.DatetimeIndex(R_data['Date']).year\n",
        "R_data['Month'] =pd.DatetimeIndex(R_data['Date']).month\n",
        "R_data['Day'] =pd.DatetimeIndex(R_data['Date']).day\n",
        "R_data['WeekOfYear'] = pd.DatetimeIndex(R_data['Date']).weekofyear\n",
        "# R_data = R_data.reset_index()"
      ],
      "execution_count": 179,
      "outputs": []
    },
    {
      "cell_type": "code",
      "metadata": {
        "id": "GecTFP75ULOi",
        "colab": {
          "base_uri": "https://localhost:8080/"
        },
        "outputId": "c1d864a2-8563-4c71-b21f-9013b3de3921"
      },
      "source": [
        "R_data.info()"
      ],
      "execution_count": 180,
      "outputs": [
        {
          "output_type": "stream",
          "name": "stdout",
          "text": [
            "<class 'pandas.core.frame.DataFrame'>\n",
            "RangeIndex: 1017209 entries, 0 to 1017208\n",
            "Data columns (total 13 columns):\n",
            " #   Column         Non-Null Count    Dtype         \n",
            "---  ------         --------------    -----         \n",
            " 0   Store          1017209 non-null  int64         \n",
            " 1   DayOfWeek      1017209 non-null  int64         \n",
            " 2   Date           1017209 non-null  datetime64[ns]\n",
            " 3   Sales          1017209 non-null  int64         \n",
            " 4   Customers      1017209 non-null  int64         \n",
            " 5   Open           1017209 non-null  int64         \n",
            " 6   Promo          1017209 non-null  int64         \n",
            " 7   StateHoliday   1017209 non-null  object        \n",
            " 8   SchoolHoliday  1017209 non-null  int64         \n",
            " 9   Year           1017209 non-null  int64         \n",
            " 10  Month          1017209 non-null  int64         \n",
            " 11  Day            1017209 non-null  int64         \n",
            " 12  WeekOfYear     1017209 non-null  int64         \n",
            "dtypes: datetime64[ns](1), int64(11), object(1)\n",
            "memory usage: 100.9+ MB\n"
          ]
        }
      ]
    },
    {
      "cell_type": "markdown",
      "metadata": {
        "id": "i1u8gTt9MHxH"
      },
      "source": [
        "# 2.4 Joining Tables"
      ]
    },
    {
      "cell_type": "markdown",
      "metadata": {
        "id": "Sixe8EKdUsFW"
      },
      "source": [
        "Now join let join the table R_data and store dataframe "
      ]
    },
    {
      "cell_type": "code",
      "metadata": {
        "id": "1saB7171UWuD",
        "colab": {
          "base_uri": "https://localhost:8080/",
          "height": 307
        },
        "outputId": "e2bbeeaa-2734-4982-8b5f-31f744ceba9e"
      },
      "source": [
        "data = pd.merge(R_data, store, how='left', on='Store')\n",
        "data.head()"
      ],
      "execution_count": 181,
      "outputs": [
        {
          "output_type": "execute_result",
          "data": {
            "text/html": [
              "<div>\n",
              "<style scoped>\n",
              "    .dataframe tbody tr th:only-of-type {\n",
              "        vertical-align: middle;\n",
              "    }\n",
              "\n",
              "    .dataframe tbody tr th {\n",
              "        vertical-align: top;\n",
              "    }\n",
              "\n",
              "    .dataframe thead th {\n",
              "        text-align: right;\n",
              "    }\n",
              "</style>\n",
              "<table border=\"1\" class=\"dataframe\">\n",
              "  <thead>\n",
              "    <tr style=\"text-align: right;\">\n",
              "      <th></th>\n",
              "      <th>Store</th>\n",
              "      <th>DayOfWeek</th>\n",
              "      <th>Date</th>\n",
              "      <th>Sales</th>\n",
              "      <th>Customers</th>\n",
              "      <th>Open</th>\n",
              "      <th>Promo</th>\n",
              "      <th>StateHoliday</th>\n",
              "      <th>SchoolHoliday</th>\n",
              "      <th>Year</th>\n",
              "      <th>Month</th>\n",
              "      <th>Day</th>\n",
              "      <th>WeekOfYear</th>\n",
              "      <th>StoreType</th>\n",
              "      <th>Assortment</th>\n",
              "      <th>CompetitionDistance</th>\n",
              "      <th>Promo2</th>\n",
              "    </tr>\n",
              "  </thead>\n",
              "  <tbody>\n",
              "    <tr>\n",
              "      <th>0</th>\n",
              "      <td>1</td>\n",
              "      <td>5</td>\n",
              "      <td>2015-07-31</td>\n",
              "      <td>5263</td>\n",
              "      <td>555</td>\n",
              "      <td>1</td>\n",
              "      <td>1</td>\n",
              "      <td>0</td>\n",
              "      <td>1</td>\n",
              "      <td>2015</td>\n",
              "      <td>7</td>\n",
              "      <td>31</td>\n",
              "      <td>31</td>\n",
              "      <td>c</td>\n",
              "      <td>a</td>\n",
              "      <td>1270.0</td>\n",
              "      <td>0</td>\n",
              "    </tr>\n",
              "    <tr>\n",
              "      <th>1</th>\n",
              "      <td>2</td>\n",
              "      <td>5</td>\n",
              "      <td>2015-07-31</td>\n",
              "      <td>6064</td>\n",
              "      <td>625</td>\n",
              "      <td>1</td>\n",
              "      <td>1</td>\n",
              "      <td>0</td>\n",
              "      <td>1</td>\n",
              "      <td>2015</td>\n",
              "      <td>7</td>\n",
              "      <td>31</td>\n",
              "      <td>31</td>\n",
              "      <td>a</td>\n",
              "      <td>a</td>\n",
              "      <td>570.0</td>\n",
              "      <td>1</td>\n",
              "    </tr>\n",
              "    <tr>\n",
              "      <th>2</th>\n",
              "      <td>3</td>\n",
              "      <td>5</td>\n",
              "      <td>2015-07-31</td>\n",
              "      <td>8314</td>\n",
              "      <td>821</td>\n",
              "      <td>1</td>\n",
              "      <td>1</td>\n",
              "      <td>0</td>\n",
              "      <td>1</td>\n",
              "      <td>2015</td>\n",
              "      <td>7</td>\n",
              "      <td>31</td>\n",
              "      <td>31</td>\n",
              "      <td>a</td>\n",
              "      <td>a</td>\n",
              "      <td>14130.0</td>\n",
              "      <td>1</td>\n",
              "    </tr>\n",
              "    <tr>\n",
              "      <th>3</th>\n",
              "      <td>4</td>\n",
              "      <td>5</td>\n",
              "      <td>2015-07-31</td>\n",
              "      <td>13995</td>\n",
              "      <td>1498</td>\n",
              "      <td>1</td>\n",
              "      <td>1</td>\n",
              "      <td>0</td>\n",
              "      <td>1</td>\n",
              "      <td>2015</td>\n",
              "      <td>7</td>\n",
              "      <td>31</td>\n",
              "      <td>31</td>\n",
              "      <td>c</td>\n",
              "      <td>c</td>\n",
              "      <td>620.0</td>\n",
              "      <td>0</td>\n",
              "    </tr>\n",
              "    <tr>\n",
              "      <th>4</th>\n",
              "      <td>5</td>\n",
              "      <td>5</td>\n",
              "      <td>2015-07-31</td>\n",
              "      <td>4822</td>\n",
              "      <td>559</td>\n",
              "      <td>1</td>\n",
              "      <td>1</td>\n",
              "      <td>0</td>\n",
              "      <td>1</td>\n",
              "      <td>2015</td>\n",
              "      <td>7</td>\n",
              "      <td>31</td>\n",
              "      <td>31</td>\n",
              "      <td>a</td>\n",
              "      <td>a</td>\n",
              "      <td>29910.0</td>\n",
              "      <td>0</td>\n",
              "    </tr>\n",
              "  </tbody>\n",
              "</table>\n",
              "</div>"
            ],
            "text/plain": [
              "   Store  DayOfWeek       Date  ...  Assortment  CompetitionDistance  Promo2\n",
              "0      1          5 2015-07-31  ...           a               1270.0       0\n",
              "1      2          5 2015-07-31  ...           a                570.0       1\n",
              "2      3          5 2015-07-31  ...           a              14130.0       1\n",
              "3      4          5 2015-07-31  ...           c                620.0       0\n",
              "4      5          5 2015-07-31  ...           a              29910.0       0\n",
              "\n",
              "[5 rows x 17 columns]"
            ]
          },
          "metadata": {},
          "execution_count": 181
        }
      ]
    },
    {
      "cell_type": "code",
      "metadata": {
        "id": "Z4kvFLLbVgbY",
        "colab": {
          "base_uri": "https://localhost:8080/"
        },
        "outputId": "2f1d7df0-9840-4786-81e0-16f34db9e674"
      },
      "source": [
        "data.info()"
      ],
      "execution_count": 182,
      "outputs": [
        {
          "output_type": "stream",
          "name": "stdout",
          "text": [
            "<class 'pandas.core.frame.DataFrame'>\n",
            "Int64Index: 1017209 entries, 0 to 1017208\n",
            "Data columns (total 17 columns):\n",
            " #   Column               Non-Null Count    Dtype         \n",
            "---  ------               --------------    -----         \n",
            " 0   Store                1017209 non-null  int64         \n",
            " 1   DayOfWeek            1017209 non-null  int64         \n",
            " 2   Date                 1017209 non-null  datetime64[ns]\n",
            " 3   Sales                1017209 non-null  int64         \n",
            " 4   Customers            1017209 non-null  int64         \n",
            " 5   Open                 1017209 non-null  int64         \n",
            " 6   Promo                1017209 non-null  int64         \n",
            " 7   StateHoliday         1017209 non-null  object        \n",
            " 8   SchoolHoliday        1017209 non-null  int64         \n",
            " 9   Year                 1017209 non-null  int64         \n",
            " 10  Month                1017209 non-null  int64         \n",
            " 11  Day                  1017209 non-null  int64         \n",
            " 12  WeekOfYear           1017209 non-null  int64         \n",
            " 13  StoreType            1017209 non-null  object        \n",
            " 14  Assortment           1017209 non-null  object        \n",
            " 15  CompetitionDistance  1017209 non-null  float64       \n",
            " 16  Promo2               1017209 non-null  int64         \n",
            "dtypes: datetime64[ns](1), float64(1), int64(12), object(3)\n",
            "memory usage: 139.7+ MB\n"
          ]
        }
      ]
    },
    {
      "cell_type": "code",
      "metadata": {
        "id": "cm_9Q5VJVl8Y",
        "colab": {
          "base_uri": "https://localhost:8080/"
        },
        "outputId": "9ebfa02a-98cd-484a-ddb5-f0b79c1c24bc"
      },
      "source": [
        "data.isnull().sum()"
      ],
      "execution_count": 183,
      "outputs": [
        {
          "output_type": "execute_result",
          "data": {
            "text/plain": [
              "Store                  0\n",
              "DayOfWeek              0\n",
              "Date                   0\n",
              "Sales                  0\n",
              "Customers              0\n",
              "Open                   0\n",
              "Promo                  0\n",
              "StateHoliday           0\n",
              "SchoolHoliday          0\n",
              "Year                   0\n",
              "Month                  0\n",
              "Day                    0\n",
              "WeekOfYear             0\n",
              "StoreType              0\n",
              "Assortment             0\n",
              "CompetitionDistance    0\n",
              "Promo2                 0\n",
              "dtype: int64"
            ]
          },
          "metadata": {},
          "execution_count": 183
        }
      ]
    },
    {
      "cell_type": "markdown",
      "metadata": {
        "id": "B0jT3jd4MT8J"
      },
      "source": [
        "# 2.5 Drop Subsets Of Data Which Might Cause Bias"
      ]
    },
    {
      "cell_type": "code",
      "metadata": {
        "id": "N505G9h3ZlOU"
      },
      "source": [
        "# We will remove the part of the datasets,where stores are closed, they won't generate sales\n",
        "data=data[data.Open != 0]"
      ],
      "execution_count": 184,
      "outputs": []
    },
    {
      "cell_type": "code",
      "metadata": {
        "id": "tdEvbgmiW_Xq"
      },
      "source": [
        "# lets drop open column as it have no use now\n",
        "data.drop('Open',axis=1,inplace=True)"
      ],
      "execution_count": 185,
      "outputs": []
    },
    {
      "cell_type": "code",
      "metadata": {
        "colab": {
          "base_uri": "https://localhost:8080/"
        },
        "id": "TC2VlgbvaUVl",
        "outputId": "457bb258-d4ea-41c9-c52b-36e40c7ae533"
      },
      "source": [
        "# Check for Opened store with zero sales\n",
        "data[data.Sales==0]['Store'].sum()"
      ],
      "execution_count": 186,
      "outputs": [
        {
          "output_type": "execute_result",
          "data": {
            "text/plain": [
              "31460"
            ]
          },
          "metadata": {},
          "execution_count": 186
        }
      ]
    },
    {
      "cell_type": "code",
      "metadata": {
        "colab": {
          "base_uri": "https://localhost:8080/"
        },
        "id": "UbyK3mnibXHh",
        "outputId": "e2178454-ded2-4339-ba0a-c6ff421a0596"
      },
      "source": [
        "# percentage of open stored with zero sales\n",
        "data[data.Sales == 0]['Sales'].sum()/data.Sales.sum()"
      ],
      "execution_count": 187,
      "outputs": [
        {
          "output_type": "execute_result",
          "data": {
            "text/plain": [
              "0.0"
            ]
          },
          "metadata": {},
          "execution_count": 187
        }
      ]
    },
    {
      "cell_type": "code",
      "metadata": {
        "id": "j3Jucy5DbjG-"
      },
      "source": [
        "# Remove the Stores with zero sales\n",
        "data=data[data.Sales != 0]"
      ],
      "execution_count": 188,
      "outputs": []
    },
    {
      "cell_type": "markdown",
      "metadata": {
        "id": "99MPfQlsm3z0"
      },
      "source": [
        "Checking the nominal values"
      ]
    },
    {
      "cell_type": "code",
      "metadata": {
        "colab": {
          "base_uri": "https://localhost:8080/"
        },
        "id": "19dlmuv5m_x3",
        "outputId": "3d0d6b99-7e15-4ada-fdbc-2982b9eb26d8"
      },
      "source": [
        "# Nominal Values\n",
        "set(data.StateHoliday),set(data.Assortment),set(data.StoreType)"
      ],
      "execution_count": 189,
      "outputs": [
        {
          "output_type": "execute_result",
          "data": {
            "text/plain": [
              "({0, '0', 'a', 'b', 'c'}, {'a', 'b', 'c'}, {'a', 'b', 'c', 'd'})"
            ]
          },
          "metadata": {},
          "execution_count": 189
        }
      ]
    },
    {
      "cell_type": "markdown",
      "metadata": {
        "id": "oEpkIRr6nepY"
      },
      "source": [
        "Since StateHoliday have zero for none.\n",
        "let's convert that into string '0'"
      ]
    },
    {
      "cell_type": "code",
      "metadata": {
        "id": "lgbmuu_inxVc"
      },
      "source": [
        "# converting 0 to string '0'\n",
        "data.loc[data.StateHoliday == 0,'StateHoliday'] = data.loc[data.StateHoliday == 0,'StateHoliday'].astype(str)"
      ],
      "execution_count": 190,
      "outputs": []
    },
    {
      "cell_type": "code",
      "metadata": {
        "colab": {
          "base_uri": "https://localhost:8080/"
        },
        "id": "oA-6KSi6dS74",
        "outputId": "01973614-6be1-4419-a389-2cdece297b41"
      },
      "source": [
        "data.info()"
      ],
      "execution_count": 191,
      "outputs": [
        {
          "output_type": "stream",
          "name": "stdout",
          "text": [
            "<class 'pandas.core.frame.DataFrame'>\n",
            "Int64Index: 844338 entries, 0 to 1017190\n",
            "Data columns (total 16 columns):\n",
            " #   Column               Non-Null Count   Dtype         \n",
            "---  ------               --------------   -----         \n",
            " 0   Store                844338 non-null  int64         \n",
            " 1   DayOfWeek            844338 non-null  int64         \n",
            " 2   Date                 844338 non-null  datetime64[ns]\n",
            " 3   Sales                844338 non-null  int64         \n",
            " 4   Customers            844338 non-null  int64         \n",
            " 5   Promo                844338 non-null  int64         \n",
            " 6   StateHoliday         844338 non-null  object        \n",
            " 7   SchoolHoliday        844338 non-null  int64         \n",
            " 8   Year                 844338 non-null  int64         \n",
            " 9   Month                844338 non-null  int64         \n",
            " 10  Day                  844338 non-null  int64         \n",
            " 11  WeekOfYear           844338 non-null  int64         \n",
            " 12  StoreType            844338 non-null  object        \n",
            " 13  Assortment           844338 non-null  object        \n",
            " 14  CompetitionDistance  844338 non-null  float64       \n",
            " 15  Promo2               844338 non-null  int64         \n",
            "dtypes: datetime64[ns](1), float64(1), int64(11), object(3)\n",
            "memory usage: 109.5+ MB\n"
          ]
        }
      ]
    },
    {
      "cell_type": "code",
      "metadata": {
        "colab": {
          "base_uri": "https://localhost:8080/",
          "height": 307
        },
        "id": "ErMAHVXAJp2A",
        "outputId": "99c71b9b-b882-4958-cea3-557c3acf744a"
      },
      "source": [
        "data.head()"
      ],
      "execution_count": 192,
      "outputs": [
        {
          "output_type": "execute_result",
          "data": {
            "text/html": [
              "<div>\n",
              "<style scoped>\n",
              "    .dataframe tbody tr th:only-of-type {\n",
              "        vertical-align: middle;\n",
              "    }\n",
              "\n",
              "    .dataframe tbody tr th {\n",
              "        vertical-align: top;\n",
              "    }\n",
              "\n",
              "    .dataframe thead th {\n",
              "        text-align: right;\n",
              "    }\n",
              "</style>\n",
              "<table border=\"1\" class=\"dataframe\">\n",
              "  <thead>\n",
              "    <tr style=\"text-align: right;\">\n",
              "      <th></th>\n",
              "      <th>Store</th>\n",
              "      <th>DayOfWeek</th>\n",
              "      <th>Date</th>\n",
              "      <th>Sales</th>\n",
              "      <th>Customers</th>\n",
              "      <th>Promo</th>\n",
              "      <th>StateHoliday</th>\n",
              "      <th>SchoolHoliday</th>\n",
              "      <th>Year</th>\n",
              "      <th>Month</th>\n",
              "      <th>Day</th>\n",
              "      <th>WeekOfYear</th>\n",
              "      <th>StoreType</th>\n",
              "      <th>Assortment</th>\n",
              "      <th>CompetitionDistance</th>\n",
              "      <th>Promo2</th>\n",
              "    </tr>\n",
              "  </thead>\n",
              "  <tbody>\n",
              "    <tr>\n",
              "      <th>0</th>\n",
              "      <td>1</td>\n",
              "      <td>5</td>\n",
              "      <td>2015-07-31</td>\n",
              "      <td>5263</td>\n",
              "      <td>555</td>\n",
              "      <td>1</td>\n",
              "      <td>0</td>\n",
              "      <td>1</td>\n",
              "      <td>2015</td>\n",
              "      <td>7</td>\n",
              "      <td>31</td>\n",
              "      <td>31</td>\n",
              "      <td>c</td>\n",
              "      <td>a</td>\n",
              "      <td>1270.0</td>\n",
              "      <td>0</td>\n",
              "    </tr>\n",
              "    <tr>\n",
              "      <th>1</th>\n",
              "      <td>2</td>\n",
              "      <td>5</td>\n",
              "      <td>2015-07-31</td>\n",
              "      <td>6064</td>\n",
              "      <td>625</td>\n",
              "      <td>1</td>\n",
              "      <td>0</td>\n",
              "      <td>1</td>\n",
              "      <td>2015</td>\n",
              "      <td>7</td>\n",
              "      <td>31</td>\n",
              "      <td>31</td>\n",
              "      <td>a</td>\n",
              "      <td>a</td>\n",
              "      <td>570.0</td>\n",
              "      <td>1</td>\n",
              "    </tr>\n",
              "    <tr>\n",
              "      <th>2</th>\n",
              "      <td>3</td>\n",
              "      <td>5</td>\n",
              "      <td>2015-07-31</td>\n",
              "      <td>8314</td>\n",
              "      <td>821</td>\n",
              "      <td>1</td>\n",
              "      <td>0</td>\n",
              "      <td>1</td>\n",
              "      <td>2015</td>\n",
              "      <td>7</td>\n",
              "      <td>31</td>\n",
              "      <td>31</td>\n",
              "      <td>a</td>\n",
              "      <td>a</td>\n",
              "      <td>14130.0</td>\n",
              "      <td>1</td>\n",
              "    </tr>\n",
              "    <tr>\n",
              "      <th>3</th>\n",
              "      <td>4</td>\n",
              "      <td>5</td>\n",
              "      <td>2015-07-31</td>\n",
              "      <td>13995</td>\n",
              "      <td>1498</td>\n",
              "      <td>1</td>\n",
              "      <td>0</td>\n",
              "      <td>1</td>\n",
              "      <td>2015</td>\n",
              "      <td>7</td>\n",
              "      <td>31</td>\n",
              "      <td>31</td>\n",
              "      <td>c</td>\n",
              "      <td>c</td>\n",
              "      <td>620.0</td>\n",
              "      <td>0</td>\n",
              "    </tr>\n",
              "    <tr>\n",
              "      <th>4</th>\n",
              "      <td>5</td>\n",
              "      <td>5</td>\n",
              "      <td>2015-07-31</td>\n",
              "      <td>4822</td>\n",
              "      <td>559</td>\n",
              "      <td>1</td>\n",
              "      <td>0</td>\n",
              "      <td>1</td>\n",
              "      <td>2015</td>\n",
              "      <td>7</td>\n",
              "      <td>31</td>\n",
              "      <td>31</td>\n",
              "      <td>a</td>\n",
              "      <td>a</td>\n",
              "      <td>29910.0</td>\n",
              "      <td>0</td>\n",
              "    </tr>\n",
              "  </tbody>\n",
              "</table>\n",
              "</div>"
            ],
            "text/plain": [
              "   Store  DayOfWeek       Date  ...  Assortment  CompetitionDistance  Promo2\n",
              "0      1          5 2015-07-31  ...           a               1270.0       0\n",
              "1      2          5 2015-07-31  ...           a                570.0       1\n",
              "2      3          5 2015-07-31  ...           a              14130.0       1\n",
              "3      4          5 2015-07-31  ...           c                620.0       0\n",
              "4      5          5 2015-07-31  ...           a              29910.0       0\n",
              "\n",
              "[5 rows x 16 columns]"
            ]
          },
          "metadata": {},
          "execution_count": 192
        }
      ]
    },
    {
      "cell_type": "markdown",
      "metadata": {
        "id": "CGXW9BliWk6f"
      },
      "source": [
        "---\n",
        "## 2.6 Feature Engineering \n",
        "---"
      ]
    },
    {
      "cell_type": "code",
      "metadata": {
        "id": "AT4kpBHCWx74",
        "colab": {
          "base_uri": "https://localhost:8080/"
        },
        "outputId": "191ebb1d-979e-431d-b65d-4f4f30148315"
      },
      "source": [
        "# see what variable types we have\n",
        "data.info()"
      ],
      "execution_count": 193,
      "outputs": [
        {
          "output_type": "stream",
          "name": "stdout",
          "text": [
            "<class 'pandas.core.frame.DataFrame'>\n",
            "Int64Index: 844338 entries, 0 to 1017190\n",
            "Data columns (total 16 columns):\n",
            " #   Column               Non-Null Count   Dtype         \n",
            "---  ------               --------------   -----         \n",
            " 0   Store                844338 non-null  int64         \n",
            " 1   DayOfWeek            844338 non-null  int64         \n",
            " 2   Date                 844338 non-null  datetime64[ns]\n",
            " 3   Sales                844338 non-null  int64         \n",
            " 4   Customers            844338 non-null  int64         \n",
            " 5   Promo                844338 non-null  int64         \n",
            " 6   StateHoliday         844338 non-null  object        \n",
            " 7   SchoolHoliday        844338 non-null  int64         \n",
            " 8   Year                 844338 non-null  int64         \n",
            " 9   Month                844338 non-null  int64         \n",
            " 10  Day                  844338 non-null  int64         \n",
            " 11  WeekOfYear           844338 non-null  int64         \n",
            " 12  StoreType            844338 non-null  object        \n",
            " 13  Assortment           844338 non-null  object        \n",
            " 14  CompetitionDistance  844338 non-null  float64       \n",
            " 15  Promo2               844338 non-null  int64         \n",
            "dtypes: datetime64[ns](1), float64(1), int64(11), object(3)\n",
            "memory usage: 109.5+ MB\n"
          ]
        }
      ]
    },
    {
      "cell_type": "code",
      "metadata": {
        "id": "0txVkeCvXNOQ"
      },
      "source": [
        "# make a copy in case I mess up anything \n",
        "data2 = data.copy()"
      ],
      "execution_count": 194,
      "outputs": []
    },
    {
      "cell_type": "code",
      "metadata": {
        "colab": {
          "base_uri": "https://localhost:8080/"
        },
        "id": "oIa18aiQdJEu",
        "outputId": "e872cb74-a47a-44e4-ee5a-66eca257f02c"
      },
      "source": [
        "data2.info()"
      ],
      "execution_count": 195,
      "outputs": [
        {
          "output_type": "stream",
          "name": "stdout",
          "text": [
            "<class 'pandas.core.frame.DataFrame'>\n",
            "Int64Index: 844338 entries, 0 to 1017190\n",
            "Data columns (total 16 columns):\n",
            " #   Column               Non-Null Count   Dtype         \n",
            "---  ------               --------------   -----         \n",
            " 0   Store                844338 non-null  int64         \n",
            " 1   DayOfWeek            844338 non-null  int64         \n",
            " 2   Date                 844338 non-null  datetime64[ns]\n",
            " 3   Sales                844338 non-null  int64         \n",
            " 4   Customers            844338 non-null  int64         \n",
            " 5   Promo                844338 non-null  int64         \n",
            " 6   StateHoliday         844338 non-null  object        \n",
            " 7   SchoolHoliday        844338 non-null  int64         \n",
            " 8   Year                 844338 non-null  int64         \n",
            " 9   Month                844338 non-null  int64         \n",
            " 10  Day                  844338 non-null  int64         \n",
            " 11  WeekOfYear           844338 non-null  int64         \n",
            " 12  StoreType            844338 non-null  object        \n",
            " 13  Assortment           844338 non-null  object        \n",
            " 14  CompetitionDistance  844338 non-null  float64       \n",
            " 15  Promo2               844338 non-null  int64         \n",
            "dtypes: datetime64[ns](1), float64(1), int64(11), object(3)\n",
            "memory usage: 109.5+ MB\n"
          ]
        }
      ]
    },
    {
      "cell_type": "markdown",
      "metadata": {
        "id": "W7K7YGQQYEK7"
      },
      "source": [
        "## 2.6.1 Create new variable \"AvgSales\" \n",
        "create a variable that calculates monthly average sales for each store"
      ]
    },
    {
      "cell_type": "code",
      "metadata": {
        "id": "N1p57NKGXlFh"
      },
      "source": [
        "# calculate weekly average sales\n",
        "sales = data2[['Year','Month','Store','Sales']].groupby(['Year','Month','Store']).mean()\n",
        "sales = sales.rename(columns={'Sales':'AvgSales'})\n",
        "sales = sales.reset_index()"
      ],
      "execution_count": 196,
      "outputs": []
    },
    {
      "cell_type": "code",
      "metadata": {
        "id": "yZwjhUd6cegn"
      },
      "source": [
        "data2['sales_key']=data2['Year'].map(str) + data['Month'].map(str) + data['Store'].map(str)\n",
        "sales['sales_key']=sales['Year'].map(str) + sales['Month'].map(str) + sales['Store'].map(str)"
      ],
      "execution_count": 197,
      "outputs": []
    },
    {
      "cell_type": "code",
      "metadata": {
        "id": "aNURw-hccjVk"
      },
      "source": [
        "# drop extra columns\n",
        "sales = sales.drop(['Year','Month','Store'], axis=1)\n",
        "# merge\n",
        "data2 = pd.merge(data2, sales, how='left', on=('sales_key'))"
      ],
      "execution_count": 198,
      "outputs": []
    },
    {
      "cell_type": "code",
      "metadata": {
        "colab": {
          "base_uri": "https://localhost:8080/"
        },
        "id": "D7HHucVGdDLq",
        "outputId": "7c3c4826-91a1-4a56-8660-0e5fa14dafe1"
      },
      "source": [
        "data2.info()"
      ],
      "execution_count": 199,
      "outputs": [
        {
          "output_type": "stream",
          "name": "stdout",
          "text": [
            "<class 'pandas.core.frame.DataFrame'>\n",
            "Int64Index: 864294 entries, 0 to 864293\n",
            "Data columns (total 18 columns):\n",
            " #   Column               Non-Null Count   Dtype         \n",
            "---  ------               --------------   -----         \n",
            " 0   Store                864294 non-null  int64         \n",
            " 1   DayOfWeek            864294 non-null  int64         \n",
            " 2   Date                 864294 non-null  datetime64[ns]\n",
            " 3   Sales                864294 non-null  int64         \n",
            " 4   Customers            864294 non-null  int64         \n",
            " 5   Promo                864294 non-null  int64         \n",
            " 6   StateHoliday         864294 non-null  object        \n",
            " 7   SchoolHoliday        864294 non-null  int64         \n",
            " 8   Year                 864294 non-null  int64         \n",
            " 9   Month                864294 non-null  int64         \n",
            " 10  Day                  864294 non-null  int64         \n",
            " 11  WeekOfYear           864294 non-null  int64         \n",
            " 12  StoreType            864294 non-null  object        \n",
            " 13  Assortment           864294 non-null  object        \n",
            " 14  CompetitionDistance  864294 non-null  float64       \n",
            " 15  Promo2               864294 non-null  int64         \n",
            " 16  sales_key            864294 non-null  object        \n",
            " 17  AvgSales             864294 non-null  float64       \n",
            "dtypes: datetime64[ns](1), float64(2), int64(11), object(4)\n",
            "memory usage: 125.3+ MB\n"
          ]
        }
      ]
    },
    {
      "cell_type": "markdown",
      "metadata": {
        "id": "fm4vv6VuYtZg"
      },
      "source": [
        "## 2.6.2 Create new variable \"AvgCustomer\" \n",
        "create a variable that calculates Monthly average number of customers for each store, becuase daily number of customer is another variable to be predicted"
      ]
    },
    {
      "cell_type": "code",
      "metadata": {
        "id": "QTgSSlyLYKQF"
      },
      "source": [
        "# calculate weekly average\n",
        "cust = data2[['Year','Month','Store','Customers']].groupby(['Year','Month', 'Store']).mean()\n",
        "cust = cust.rename(columns={'Customers':'AvgCustomer'})\n",
        "cust = cust.reset_index()\n",
        "\n",
        "data2['cust_key']=data2['Year'].map(str) + data2['Month'].map(str) + data2['Store'].map(str)\n",
        "cust['cust_key']=cust['Year'].map(str) + cust['Month'].map(str) + cust['Store'].map(str)\n",
        "\n",
        "# drop original feature Customers\n",
        "data2 = data2.drop('Customers', axis=1)# drop extra columns\n",
        "cust = cust.drop(['Year', 'Month', 'Store'], axis=1)\n",
        "\n",
        "# merge\n",
        "data2 = pd.merge(data2, cust, how=\"left\", on=('cust_key'))"
      ],
      "execution_count": 200,
      "outputs": []
    },
    {
      "cell_type": "code",
      "metadata": {
        "colab": {
          "base_uri": "https://localhost:8080/"
        },
        "id": "vSOqy0m7d24T",
        "outputId": "2f978199-556e-483e-ef21-b56e51426dc8"
      },
      "source": [
        "data2.info()"
      ],
      "execution_count": 201,
      "outputs": [
        {
          "output_type": "stream",
          "name": "stdout",
          "text": [
            "<class 'pandas.core.frame.DataFrame'>\n",
            "Int64Index: 904206 entries, 0 to 904205\n",
            "Data columns (total 19 columns):\n",
            " #   Column               Non-Null Count   Dtype         \n",
            "---  ------               --------------   -----         \n",
            " 0   Store                904206 non-null  int64         \n",
            " 1   DayOfWeek            904206 non-null  int64         \n",
            " 2   Date                 904206 non-null  datetime64[ns]\n",
            " 3   Sales                904206 non-null  int64         \n",
            " 4   Promo                904206 non-null  int64         \n",
            " 5   StateHoliday         904206 non-null  object        \n",
            " 6   SchoolHoliday        904206 non-null  int64         \n",
            " 7   Year                 904206 non-null  int64         \n",
            " 8   Month                904206 non-null  int64         \n",
            " 9   Day                  904206 non-null  int64         \n",
            " 10  WeekOfYear           904206 non-null  int64         \n",
            " 11  StoreType            904206 non-null  object        \n",
            " 12  Assortment           904206 non-null  object        \n",
            " 13  CompetitionDistance  904206 non-null  float64       \n",
            " 14  Promo2               904206 non-null  int64         \n",
            " 15  sales_key            904206 non-null  object        \n",
            " 16  AvgSales             904206 non-null  float64       \n",
            " 17  cust_key             904206 non-null  object        \n",
            " 18  AvgCustomer          904206 non-null  float64       \n",
            "dtypes: datetime64[ns](1), float64(3), int64(10), object(5)\n",
            "memory usage: 138.0+ MB\n"
          ]
        }
      ]
    },
    {
      "cell_type": "markdown",
      "metadata": {
        "id": "lATXBly7YoAW"
      },
      "source": [
        "## 2.6.3 Transform Variable \"StateHoliday\""
      ]
    },
    {
      "cell_type": "code",
      "metadata": {
        "id": "LnWgYzR6YbVc"
      },
      "source": [
        "# 0 - not a state holiday; 1- is on a state holiday\n",
        "data2['StateHoliday'] = data2.StateHoliday.map({'0':0, 'a':1 ,'b' : 1,'c': 1})\n",
        "\n",
        "# drop extra columns\n",
        "data2 = data2.drop(['cust_key','sales_key','Store','Date'], axis=1)"
      ],
      "execution_count": 202,
      "outputs": []
    },
    {
      "cell_type": "markdown",
      "metadata": {
        "id": "-mXPWrbvRJH7"
      },
      "source": [
        "# Correlation Heatmap"
      ]
    },
    {
      "cell_type": "code",
      "metadata": {
        "id": "z8lVItWpY1tB",
        "colab": {
          "base_uri": "https://localhost:8080/",
          "height": 470
        },
        "outputId": "0b8b50c6-fddb-4b25-f2c1-62f03b469a37"
      },
      "source": [
        "corr = data2.corr()\n",
        "corr"
      ],
      "execution_count": 203,
      "outputs": [
        {
          "output_type": "execute_result",
          "data": {
            "text/html": [
              "<div>\n",
              "<style scoped>\n",
              "    .dataframe tbody tr th:only-of-type {\n",
              "        vertical-align: middle;\n",
              "    }\n",
              "\n",
              "    .dataframe tbody tr th {\n",
              "        vertical-align: top;\n",
              "    }\n",
              "\n",
              "    .dataframe thead th {\n",
              "        text-align: right;\n",
              "    }\n",
              "</style>\n",
              "<table border=\"1\" class=\"dataframe\">\n",
              "  <thead>\n",
              "    <tr style=\"text-align: right;\">\n",
              "      <th></th>\n",
              "      <th>DayOfWeek</th>\n",
              "      <th>Sales</th>\n",
              "      <th>Promo</th>\n",
              "      <th>StateHoliday</th>\n",
              "      <th>SchoolHoliday</th>\n",
              "      <th>Year</th>\n",
              "      <th>Month</th>\n",
              "      <th>Day</th>\n",
              "      <th>WeekOfYear</th>\n",
              "      <th>CompetitionDistance</th>\n",
              "      <th>Promo2</th>\n",
              "      <th>AvgSales</th>\n",
              "      <th>AvgCustomer</th>\n",
              "    </tr>\n",
              "  </thead>\n",
              "  <tbody>\n",
              "    <tr>\n",
              "      <th>DayOfWeek</th>\n",
              "      <td>1.000000</td>\n",
              "      <td>-0.178733</td>\n",
              "      <td>-0.286350</td>\n",
              "      <td>-0.002101</td>\n",
              "      <td>-0.135893</td>\n",
              "      <td>0.002316</td>\n",
              "      <td>-0.020707</td>\n",
              "      <td>0.006419</td>\n",
              "      <td>-0.011978</td>\n",
              "      <td>0.004971</td>\n",
              "      <td>-0.003150</td>\n",
              "      <td>0.001605</td>\n",
              "      <td>0.014897</td>\n",
              "    </tr>\n",
              "    <tr>\n",
              "      <th>Sales</th>\n",
              "      <td>-0.178733</td>\n",
              "      <td>1.000000</td>\n",
              "      <td>0.369741</td>\n",
              "      <td>0.019434</td>\n",
              "      <td>0.036777</td>\n",
              "      <td>0.036711</td>\n",
              "      <td>0.087562</td>\n",
              "      <td>-0.055308</td>\n",
              "      <td>0.088965</td>\n",
              "      <td>-0.033232</td>\n",
              "      <td>-0.125413</td>\n",
              "      <td>0.774885</td>\n",
              "      <td>0.644470</td>\n",
              "    </tr>\n",
              "    <tr>\n",
              "      <th>Promo</th>\n",
              "      <td>-0.286350</td>\n",
              "      <td>0.369741</td>\n",
              "      <td>1.000000</td>\n",
              "      <td>0.001268</td>\n",
              "      <td>0.017027</td>\n",
              "      <td>0.026754</td>\n",
              "      <td>0.000732</td>\n",
              "      <td>-0.132124</td>\n",
              "      <td>0.016307</td>\n",
              "      <td>-0.001703</td>\n",
              "      <td>-0.000708</td>\n",
              "      <td>0.001422</td>\n",
              "      <td>-0.005552</td>\n",
              "    </tr>\n",
              "    <tr>\n",
              "      <th>StateHoliday</th>\n",
              "      <td>-0.002101</td>\n",
              "      <td>0.019434</td>\n",
              "      <td>0.001268</td>\n",
              "      <td>1.000000</td>\n",
              "      <td>0.014592</td>\n",
              "      <td>0.002879</td>\n",
              "      <td>0.000827</td>\n",
              "      <td>-0.008347</td>\n",
              "      <td>0.000885</td>\n",
              "      <td>0.009308</td>\n",
              "      <td>-0.010480</td>\n",
              "      <td>0.019200</td>\n",
              "      <td>0.053578</td>\n",
              "    </tr>\n",
              "    <tr>\n",
              "      <th>SchoolHoliday</th>\n",
              "      <td>-0.135893</td>\n",
              "      <td>0.036777</td>\n",
              "      <td>0.017027</td>\n",
              "      <td>0.014592</td>\n",
              "      <td>1.000000</td>\n",
              "      <td>-0.031159</td>\n",
              "      <td>0.103183</td>\n",
              "      <td>0.029469</td>\n",
              "      <td>0.056861</td>\n",
              "      <td>-0.004091</td>\n",
              "      <td>-0.007698</td>\n",
              "      <td>-0.002353</td>\n",
              "      <td>-0.001876</td>\n",
              "    </tr>\n",
              "    <tr>\n",
              "      <th>Year</th>\n",
              "      <td>0.002316</td>\n",
              "      <td>0.036711</td>\n",
              "      <td>0.026754</td>\n",
              "      <td>0.002879</td>\n",
              "      <td>-0.031159</td>\n",
              "      <td>1.000000</td>\n",
              "      <td>-0.244638</td>\n",
              "      <td>0.006749</td>\n",
              "      <td>-0.230790</td>\n",
              "      <td>0.000875</td>\n",
              "      <td>-0.007467</td>\n",
              "      <td>0.045135</td>\n",
              "      <td>0.003051</td>\n",
              "    </tr>\n",
              "    <tr>\n",
              "      <th>Month</th>\n",
              "      <td>-0.020707</td>\n",
              "      <td>0.087562</td>\n",
              "      <td>0.000732</td>\n",
              "      <td>0.000827</td>\n",
              "      <td>0.103183</td>\n",
              "      <td>-0.244638</td>\n",
              "      <td>1.000000</td>\n",
              "      <td>-0.011624</td>\n",
              "      <td>0.958622</td>\n",
              "      <td>0.009754</td>\n",
              "      <td>-0.024807</td>\n",
              "      <td>0.072891</td>\n",
              "      <td>0.048639</td>\n",
              "    </tr>\n",
              "    <tr>\n",
              "      <th>Day</th>\n",
              "      <td>0.006419</td>\n",
              "      <td>-0.055308</td>\n",
              "      <td>-0.132124</td>\n",
              "      <td>-0.008347</td>\n",
              "      <td>0.029469</td>\n",
              "      <td>0.006749</td>\n",
              "      <td>-0.011624</td>\n",
              "      <td>1.000000</td>\n",
              "      <td>0.030196</td>\n",
              "      <td>-0.000525</td>\n",
              "      <td>0.001740</td>\n",
              "      <td>-0.002638</td>\n",
              "      <td>-0.002813</td>\n",
              "    </tr>\n",
              "    <tr>\n",
              "      <th>WeekOfYear</th>\n",
              "      <td>-0.011978</td>\n",
              "      <td>0.088965</td>\n",
              "      <td>0.016307</td>\n",
              "      <td>0.000885</td>\n",
              "      <td>0.056861</td>\n",
              "      <td>-0.230790</td>\n",
              "      <td>0.958622</td>\n",
              "      <td>0.030196</td>\n",
              "      <td>1.000000</td>\n",
              "      <td>0.009418</td>\n",
              "      <td>-0.023877</td>\n",
              "      <td>0.060182</td>\n",
              "      <td>0.042028</td>\n",
              "    </tr>\n",
              "    <tr>\n",
              "      <th>CompetitionDistance</th>\n",
              "      <td>0.004971</td>\n",
              "      <td>-0.033232</td>\n",
              "      <td>-0.001703</td>\n",
              "      <td>0.009308</td>\n",
              "      <td>-0.004091</td>\n",
              "      <td>0.000875</td>\n",
              "      <td>0.009754</td>\n",
              "      <td>-0.000525</td>\n",
              "      <td>0.009418</td>\n",
              "      <td>1.000000</td>\n",
              "      <td>-0.140969</td>\n",
              "      <td>-0.046730</td>\n",
              "      <td>-0.157409</td>\n",
              "    </tr>\n",
              "    <tr>\n",
              "      <th>Promo2</th>\n",
              "      <td>-0.003150</td>\n",
              "      <td>-0.125413</td>\n",
              "      <td>-0.000708</td>\n",
              "      <td>-0.010480</td>\n",
              "      <td>-0.007698</td>\n",
              "      <td>-0.007467</td>\n",
              "      <td>-0.024807</td>\n",
              "      <td>0.001740</td>\n",
              "      <td>-0.023877</td>\n",
              "      <td>-0.140969</td>\n",
              "      <td>1.000000</td>\n",
              "      <td>-0.153337</td>\n",
              "      <td>-0.213213</td>\n",
              "    </tr>\n",
              "    <tr>\n",
              "      <th>AvgSales</th>\n",
              "      <td>0.001605</td>\n",
              "      <td>0.774885</td>\n",
              "      <td>0.001422</td>\n",
              "      <td>0.019200</td>\n",
              "      <td>-0.002353</td>\n",
              "      <td>0.045135</td>\n",
              "      <td>0.072891</td>\n",
              "      <td>-0.002638</td>\n",
              "      <td>0.060182</td>\n",
              "      <td>-0.046730</td>\n",
              "      <td>-0.153337</td>\n",
              "      <td>1.000000</td>\n",
              "      <td>0.797845</td>\n",
              "    </tr>\n",
              "    <tr>\n",
              "      <th>AvgCustomer</th>\n",
              "      <td>0.014897</td>\n",
              "      <td>0.644470</td>\n",
              "      <td>-0.005552</td>\n",
              "      <td>0.053578</td>\n",
              "      <td>-0.001876</td>\n",
              "      <td>0.003051</td>\n",
              "      <td>0.048639</td>\n",
              "      <td>-0.002813</td>\n",
              "      <td>0.042028</td>\n",
              "      <td>-0.157409</td>\n",
              "      <td>-0.213213</td>\n",
              "      <td>0.797845</td>\n",
              "      <td>1.000000</td>\n",
              "    </tr>\n",
              "  </tbody>\n",
              "</table>\n",
              "</div>"
            ],
            "text/plain": [
              "                     DayOfWeek     Sales  ...  AvgSales  AvgCustomer\n",
              "DayOfWeek             1.000000 -0.178733  ...  0.001605     0.014897\n",
              "Sales                -0.178733  1.000000  ...  0.774885     0.644470\n",
              "Promo                -0.286350  0.369741  ...  0.001422    -0.005552\n",
              "StateHoliday         -0.002101  0.019434  ...  0.019200     0.053578\n",
              "SchoolHoliday        -0.135893  0.036777  ... -0.002353    -0.001876\n",
              "Year                  0.002316  0.036711  ...  0.045135     0.003051\n",
              "Month                -0.020707  0.087562  ...  0.072891     0.048639\n",
              "Day                   0.006419 -0.055308  ... -0.002638    -0.002813\n",
              "WeekOfYear           -0.011978  0.088965  ...  0.060182     0.042028\n",
              "CompetitionDistance   0.004971 -0.033232  ... -0.046730    -0.157409\n",
              "Promo2               -0.003150 -0.125413  ... -0.153337    -0.213213\n",
              "AvgSales              0.001605  0.774885  ...  1.000000     0.797845\n",
              "AvgCustomer           0.014897  0.644470  ...  0.797845     1.000000\n",
              "\n",
              "[13 rows x 13 columns]"
            ]
          },
          "metadata": {},
          "execution_count": 203
        }
      ]
    },
    {
      "cell_type": "code",
      "metadata": {
        "colab": {
          "base_uri": "https://localhost:8080/",
          "height": 670
        },
        "id": "dc9grDV_T3da",
        "outputId": "8b530592-88c9-40f8-ec79-86829a99e643"
      },
      "source": [
        "mask = np.zeros_like(corr, dtype = np.bool)\n",
        "mask[np.triu_indices_from(mask)] = True\n",
        "f, ax = plt.subplots(figsize = (11, 9))\n",
        "# sns.heatmap(corr, mask = mask,square = True, linewidths = .5, ax = ax, cmap = \"BuPu\")\n",
        "sns.heatmap(corr,square = True,mask=mask, linewidths = .5,ax=ax, cmap = \"BuPu\")\n",
        "plt.title(\"Correlation Heatmap\", fontsize=20)"
      ],
      "execution_count": 211,
      "outputs": [
        {
          "output_type": "execute_result",
          "data": {
            "text/plain": [
              "Text(0.5, 1.0, 'Correlation Heatmap')"
            ]
          },
          "metadata": {},
          "execution_count": 211
        },
        {
          "output_type": "display_data",
          "data": {
            "image/png": "[encoded data removed]",
            "text/plain": [
              "<Figure size 792x648 with 2 Axes>"
            ]
          },
          "metadata": {
            "needs_background": "light"
          }
        }
      ]
    }
  ]
}