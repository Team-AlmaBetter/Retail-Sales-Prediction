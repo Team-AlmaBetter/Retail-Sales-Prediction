{
  "nbformat": 4,
  "nbformat_minor": 0,
  "metadata": {
    "kernelspec": {
      "display_name": "Python 3",
      "language": "python",
      "name": "python3"
    },
    "language_info": {
      "codemirror_mode": {
        "name": "ipython",
        "version": 3
      },
      "file_extension": ".py",
      "mimetype": "text/x-python",
      "name": "python",
      "nbconvert_exporter": "python",
      "pygments_lexer": "ipython3",
      "version": "3.6.6"
    },
    "colab": {
      "name": "Rossmann Sales Prediction - Capstone Project.ipynb.ipynb",
      "provenance": [],
      "collapsed_sections": [
        "Y06xIdG26kRF",
        "WWeU1f9bwqQq"
      ],
      "include_colab_link": true
    }
  },
  "cells": [
    {
      "cell_type": "markdown",
      "metadata": {
        "id": "view-in-github",
        "colab_type": "text"
      },
      "source": [
        "<a href=\"https://colab.research.google.com/github/Team-AlmaBetter/Retail-Sales-Prediction/blob/main/Rossmann_Sales_Prediction_Capstone_Project_ipynb.ipynb\" target=\"_parent\"><img src=\"https://colab.research.google.com/assets/colab-badge.svg\" alt=\"Open In Colab\"/></a>"
      ]
    },
    {
      "cell_type": "markdown",
      "metadata": {
        "id": "tOGC-qoyhJeX"
      },
      "source": [
        "# <b><u> Project Title : Sales Prediction : Predicting sales of a major store chain Rossmann</u></b>"
      ]
    },
    {
      "cell_type": "markdown",
      "metadata": {
        "id": "Y06xIdG26kRF"
      },
      "source": [
        "## <b> Problem Description </b>\n",
        "\n",
        "### Rossmann operates over 3,000 drug stores in 7 European countries. Currently, Rossmann store managers are tasked with predicting their daily sales for up to six weeks in advance. Store sales are influenced by many factors, including promotions, competition, school and state holidays, seasonality, and locality. With thousands of individual managers predicting sales based on their unique circumstances, the accuracy of results can be quite varied.\n",
        "\n",
        "### You are provided with historical sales data for 1,115 Rossmann stores. The task is to forecast the \"Sales\" column for the test set. Note that some stores in the dataset were temporarily closed for refurbishment."
      ]
    },
    {
      "cell_type": "markdown",
      "metadata": {
        "id": "WWeU1f9bwqQq"
      },
      "source": [
        "## <b> Data Description </b>\n",
        "\n",
        "### <b>Rossmann Stores Data.csv </b> - historical data including Sales\n",
        "### <b>store.csv </b> - supplemental information about the stores\n",
        "\n",
        "\n",
        "### <b><u>Data fields</u></b>\n",
        "### Most of the fields are self-explanatory. The following are descriptions for those that aren't.\n",
        "\n",
        "* #### Id - an Id that represents a (Store, Date) duple within the test set\n",
        "* #### Store - a unique Id for each store\n",
        "* #### Sales - the turnover for any given day (this is what you are predicting)\n",
        "* #### Customers - the number of customers on a given day\n",
        "* #### Open - an indicator for whether the store was open: 0 = closed, 1 = open\n",
        "* #### StateHoliday - indicates a state holiday. Normally all stores, with few exceptions, are closed on state holidays. Note that all schools are closed on public holidays and weekends. a = public holiday, b = Easter holiday, c = Christmas, 0 = None\n",
        "* #### SchoolHoliday - indicates if the (Store, Date) was affected by the closure of public schools\n",
        "* #### StoreType - differentiates between 4 different store models: a, b, c, d\n",
        "* #### Assortment - describes an assortment level: a = basic, b = extra, c = extended\n",
        "* #### CompetitionDistance - distance in meters to the nearest competitor store\n",
        "* #### CompetitionOpenSince[Month/Year] - gives the approximate year and month of the time the nearest competitor was opened\n",
        "* #### Promo - indicates whether a store is running a promo on that day\n",
        "* #### Promo2 - Promo2 is a continuing and consecutive promotion for some stores: 0 = store is not participating, 1 = store is participating\n",
        "* #### Promo2Since[Year/Week] - describes the year and calendar week when the store started participating in Promo2\n",
        "* #### PromoInterval - describes the consecutive intervals Promo2 is started, naming the months the promotion is started anew. E.g. \"Feb,May,Aug,Nov\" means each round starts in February, May, August, November of any given year for that store"
      ]
    },
    {
      "cell_type": "markdown",
      "metadata": {
        "id": "T3MoEdinglmF"
      },
      "source": [
        "#<b>1. Import necessary libraries"
      ]
    },
    {
      "cell_type": "code",
      "metadata": {
        "id": "bbW-99A1gWrp",
        "colab": {
          "base_uri": "https://localhost:8080/"
        },
        "outputId": "f0cc4d7a-d237-488b-bd82-eb99fb9f3663"
      },
      "source": [
        "!pip install chart_studio\n",
        "import pandas as pd, datetime\n",
        "import numpy as np\n",
        "import matplotlib.pyplot as plt\n",
        "import scipy.stats as stats\n",
        "import seaborn as sns\n",
        "from statsmodels.tsa.stattools import adfuller\n",
        "get_ipython().run_line_magic('matplotlib', 'inline')\n",
        "from time import time\n",
        "from math import sqrt\n",
        "from statsmodels.tsa.seasonal import seasonal_decompose\n",
        "from statsmodels.graphics.tsaplots import plot_acf, plot_pacf\n",
        "import itertools\n",
        "import statsmodels.api as sm\n",
        "from statsmodels.tsa.stattools import acf,pacf\n",
        "from statsmodels.tsa.arima_model import  ARIMA\n",
        "from sklearn import model_selection\n",
        "from sklearn.metrics import mean_squared_error, r2_score\n",
        "from pandas import DataFrame\n",
        "import plotly.graph_objs as go\n",
        "import chart_studio.plotly as py\n",
        "from plotly.offline import iplot\n",
        "from matplotlib.pyplot import *\n",
        "import numpy as np\n",
        "import matplotlib.pyplot as plt\n",
        "sns.set(style=\"whitegrid\")\n",
        "import warnings\n",
        "warnings.filterwarnings('ignore')"
      ],
      "execution_count": 162,
      "outputs": [
        {
          "output_type": "stream",
          "name": "stdout",
          "text": [
            "Requirement already satisfied: chart_studio in /usr/local/lib/python3.7/dist-packages (1.1.0)\n",
            "Requirement already satisfied: retrying>=1.3.3 in /usr/local/lib/python3.7/dist-packages (from chart_studio) (1.3.3)\n",
            "Requirement already satisfied: plotly in /usr/local/lib/python3.7/dist-packages (from chart_studio) (4.4.1)\n",
            "Requirement already satisfied: requests in /usr/local/lib/python3.7/dist-packages (from chart_studio) (2.23.0)\n",
            "Requirement already satisfied: six in /usr/local/lib/python3.7/dist-packages (from chart_studio) (1.15.0)\n",
            "Requirement already satisfied: idna<3,>=2.5 in /usr/local/lib/python3.7/dist-packages (from requests->chart_studio) (2.10)\n",
            "Requirement already satisfied: chardet<4,>=3.0.2 in /usr/local/lib/python3.7/dist-packages (from requests->chart_studio) (3.0.4)\n",
            "Requirement already satisfied: urllib3!=1.25.0,!=1.25.1,<1.26,>=1.21.1 in /usr/local/lib/python3.7/dist-packages (from requests->chart_studio) (1.24.3)\n",
            "Requirement already satisfied: certifi>=2017.4.17 in /usr/local/lib/python3.7/dist-packages (from requests->chart_studio) (2021.5.30)\n"
          ]
        }
      ]
    },
    {
      "cell_type": "markdown",
      "metadata": {
        "id": "S7w84heoa1T1"
      },
      "source": [
        "#<b>2. Data Preparation"
      ]
    },
    {
      "cell_type": "markdown",
      "metadata": {
        "id": "iP29Mf7Dhd3I"
      },
      "source": [
        "##<b>2.1 Import Datasets"
      ]
    },
    {
      "cell_type": "code",
      "metadata": {
        "colab": {
          "base_uri": "https://localhost:8080/"
        },
        "id": "9q1zIoR6ivsV",
        "outputId": "cf2fd95c-b0f0-4a35-d4ae-d910147c969f"
      },
      "source": [
        "from google.colab import drive\n",
        "drive.mount('/content/drive')"
      ],
      "execution_count": 163,
      "outputs": [
        {
          "output_type": "stream",
          "name": "stdout",
          "text": [
            "Drive already mounted at /content/drive; to attempt to forcibly remount, call drive.mount(\"/content/drive\", force_remount=True).\n"
          ]
        }
      ]
    },
    {
      "cell_type": "code",
      "metadata": {
        "colab": {
          "base_uri": "https://localhost:8080/",
          "height": 203
        },
        "id": "oXI6uRS2i1FB",
        "outputId": "4c0de570-3d4f-4838-d7ff-381ee6cff45b"
      },
      "source": [
        "R_data = pd.read_csv('/content/drive/MyDrive/Retail Sales Prediction-Capstone 2/Data & Resources/Rossmann Stores Data.csv')\n",
        "R_data.head()"
      ],
      "execution_count": 164,
      "outputs": [
        {
          "output_type": "execute_result",
          "data": {
            "text/html": [
              "<div>\n",
              "<style scoped>\n",
              "    .dataframe tbody tr th:only-of-type {\n",
              "        vertical-align: middle;\n",
              "    }\n",
              "\n",
              "    .dataframe tbody tr th {\n",
              "        vertical-align: top;\n",
              "    }\n",
              "\n",
              "    .dataframe thead th {\n",
              "        text-align: right;\n",
              "    }\n",
              "</style>\n",
              "<table border=\"1\" class=\"dataframe\">\n",
              "  <thead>\n",
              "    <tr style=\"text-align: right;\">\n",
              "      <th></th>\n",
              "      <th>Store</th>\n",
              "      <th>DayOfWeek</th>\n",
              "      <th>Date</th>\n",
              "      <th>Sales</th>\n",
              "      <th>Customers</th>\n",
              "      <th>Open</th>\n",
              "      <th>Promo</th>\n",
              "      <th>StateHoliday</th>\n",
              "      <th>SchoolHoliday</th>\n",
              "    </tr>\n",
              "  </thead>\n",
              "  <tbody>\n",
              "    <tr>\n",
              "      <th>0</th>\n",
              "      <td>1</td>\n",
              "      <td>5</td>\n",
              "      <td>2015-07-31</td>\n",
              "      <td>5263</td>\n",
              "      <td>555</td>\n",
              "      <td>1</td>\n",
              "      <td>1</td>\n",
              "      <td>0</td>\n",
              "      <td>1</td>\n",
              "    </tr>\n",
              "    <tr>\n",
              "      <th>1</th>\n",
              "      <td>2</td>\n",
              "      <td>5</td>\n",
              "      <td>2015-07-31</td>\n",
              "      <td>6064</td>\n",
              "      <td>625</td>\n",
              "      <td>1</td>\n",
              "      <td>1</td>\n",
              "      <td>0</td>\n",
              "      <td>1</td>\n",
              "    </tr>\n",
              "    <tr>\n",
              "      <th>2</th>\n",
              "      <td>3</td>\n",
              "      <td>5</td>\n",
              "      <td>2015-07-31</td>\n",
              "      <td>8314</td>\n",
              "      <td>821</td>\n",
              "      <td>1</td>\n",
              "      <td>1</td>\n",
              "      <td>0</td>\n",
              "      <td>1</td>\n",
              "    </tr>\n",
              "    <tr>\n",
              "      <th>3</th>\n",
              "      <td>4</td>\n",
              "      <td>5</td>\n",
              "      <td>2015-07-31</td>\n",
              "      <td>13995</td>\n",
              "      <td>1498</td>\n",
              "      <td>1</td>\n",
              "      <td>1</td>\n",
              "      <td>0</td>\n",
              "      <td>1</td>\n",
              "    </tr>\n",
              "    <tr>\n",
              "      <th>4</th>\n",
              "      <td>5</td>\n",
              "      <td>5</td>\n",
              "      <td>2015-07-31</td>\n",
              "      <td>4822</td>\n",
              "      <td>559</td>\n",
              "      <td>1</td>\n",
              "      <td>1</td>\n",
              "      <td>0</td>\n",
              "      <td>1</td>\n",
              "    </tr>\n",
              "  </tbody>\n",
              "</table>\n",
              "</div>"
            ],
            "text/plain": [
              "   Store  DayOfWeek        Date  Sales  ...  Open  Promo  StateHoliday SchoolHoliday\n",
              "0      1          5  2015-07-31   5263  ...     1      1             0             1\n",
              "1      2          5  2015-07-31   6064  ...     1      1             0             1\n",
              "2      3          5  2015-07-31   8314  ...     1      1             0             1\n",
              "3      4          5  2015-07-31  13995  ...     1      1             0             1\n",
              "4      5          5  2015-07-31   4822  ...     1      1             0             1\n",
              "\n",
              "[5 rows x 9 columns]"
            ]
          },
          "metadata": {},
          "execution_count": 164
        }
      ]
    },
    {
      "cell_type": "code",
      "metadata": {
        "colab": {
          "base_uri": "https://localhost:8080/",
          "height": 203
        },
        "id": "LIh9qVTNYl8S",
        "outputId": "cdea37ce-e5e1-47e5-8373-8bb643b10e9b"
      },
      "source": [
        "R_data.tail()"
      ],
      "execution_count": 165,
      "outputs": [
        {
          "output_type": "execute_result",
          "data": {
            "text/html": [
              "<div>\n",
              "<style scoped>\n",
              "    .dataframe tbody tr th:only-of-type {\n",
              "        vertical-align: middle;\n",
              "    }\n",
              "\n",
              "    .dataframe tbody tr th {\n",
              "        vertical-align: top;\n",
              "    }\n",
              "\n",
              "    .dataframe thead th {\n",
              "        text-align: right;\n",
              "    }\n",
              "</style>\n",
              "<table border=\"1\" class=\"dataframe\">\n",
              "  <thead>\n",
              "    <tr style=\"text-align: right;\">\n",
              "      <th></th>\n",
              "      <th>Store</th>\n",
              "      <th>DayOfWeek</th>\n",
              "      <th>Date</th>\n",
              "      <th>Sales</th>\n",
              "      <th>Customers</th>\n",
              "      <th>Open</th>\n",
              "      <th>Promo</th>\n",
              "      <th>StateHoliday</th>\n",
              "      <th>SchoolHoliday</th>\n",
              "    </tr>\n",
              "  </thead>\n",
              "  <tbody>\n",
              "    <tr>\n",
              "      <th>1017204</th>\n",
              "      <td>1111</td>\n",
              "      <td>2</td>\n",
              "      <td>2013-01-01</td>\n",
              "      <td>0</td>\n",
              "      <td>0</td>\n",
              "      <td>0</td>\n",
              "      <td>0</td>\n",
              "      <td>a</td>\n",
              "      <td>1</td>\n",
              "    </tr>\n",
              "    <tr>\n",
              "      <th>1017205</th>\n",
              "      <td>1112</td>\n",
              "      <td>2</td>\n",
              "      <td>2013-01-01</td>\n",
              "      <td>0</td>\n",
              "      <td>0</td>\n",
              "      <td>0</td>\n",
              "      <td>0</td>\n",
              "      <td>a</td>\n",
              "      <td>1</td>\n",
              "    </tr>\n",
              "    <tr>\n",
              "      <th>1017206</th>\n",
              "      <td>1113</td>\n",
              "      <td>2</td>\n",
              "      <td>2013-01-01</td>\n",
              "      <td>0</td>\n",
              "      <td>0</td>\n",
              "      <td>0</td>\n",
              "      <td>0</td>\n",
              "      <td>a</td>\n",
              "      <td>1</td>\n",
              "    </tr>\n",
              "    <tr>\n",
              "      <th>1017207</th>\n",
              "      <td>1114</td>\n",
              "      <td>2</td>\n",
              "      <td>2013-01-01</td>\n",
              "      <td>0</td>\n",
              "      <td>0</td>\n",
              "      <td>0</td>\n",
              "      <td>0</td>\n",
              "      <td>a</td>\n",
              "      <td>1</td>\n",
              "    </tr>\n",
              "    <tr>\n",
              "      <th>1017208</th>\n",
              "      <td>1115</td>\n",
              "      <td>2</td>\n",
              "      <td>2013-01-01</td>\n",
              "      <td>0</td>\n",
              "      <td>0</td>\n",
              "      <td>0</td>\n",
              "      <td>0</td>\n",
              "      <td>a</td>\n",
              "      <td>1</td>\n",
              "    </tr>\n",
              "  </tbody>\n",
              "</table>\n",
              "</div>"
            ],
            "text/plain": [
              "         Store  DayOfWeek        Date  ...  Promo  StateHoliday  SchoolHoliday\n",
              "1017204   1111          2  2013-01-01  ...      0             a              1\n",
              "1017205   1112          2  2013-01-01  ...      0             a              1\n",
              "1017206   1113          2  2013-01-01  ...      0             a              1\n",
              "1017207   1114          2  2013-01-01  ...      0             a              1\n",
              "1017208   1115          2  2013-01-01  ...      0             a              1\n",
              "\n",
              "[5 rows x 9 columns]"
            ]
          },
          "metadata": {},
          "execution_count": 165
        }
      ]
    },
    {
      "cell_type": "code",
      "metadata": {
        "colab": {
          "base_uri": "https://localhost:8080/"
        },
        "id": "3DppFg4vjfcC",
        "outputId": "21c4bb60-4178-4513-e147-ed31a377a1e1"
      },
      "source": [
        "R_data.shape"
      ],
      "execution_count": 166,
      "outputs": [
        {
          "output_type": "execute_result",
          "data": {
            "text/plain": [
              "(1017209, 9)"
            ]
          },
          "metadata": {},
          "execution_count": 166
        }
      ]
    },
    {
      "cell_type": "code",
      "metadata": {
        "colab": {
          "base_uri": "https://localhost:8080/",
          "height": 223
        },
        "id": "3ZoNe3mcjrNT",
        "outputId": "50240b95-a216-48b6-86be-a8689d61a7a1"
      },
      "source": [
        "store = pd.read_csv('/content/drive/MyDrive/Retail Sales Prediction-Capstone 2/Data & Resources/store.csv')\n",
        "store.head()"
      ],
      "execution_count": 167,
      "outputs": [
        {
          "output_type": "execute_result",
          "data": {
            "text/html": [
              "<div>\n",
              "<style scoped>\n",
              "    .dataframe tbody tr th:only-of-type {\n",
              "        vertical-align: middle;\n",
              "    }\n",
              "\n",
              "    .dataframe tbody tr th {\n",
              "        vertical-align: top;\n",
              "    }\n",
              "\n",
              "    .dataframe thead th {\n",
              "        text-align: right;\n",
              "    }\n",
              "</style>\n",
              "<table border=\"1\" class=\"dataframe\">\n",
              "  <thead>\n",
              "    <tr style=\"text-align: right;\">\n",
              "      <th></th>\n",
              "      <th>Store</th>\n",
              "      <th>StoreType</th>\n",
              "      <th>Assortment</th>\n",
              "      <th>CompetitionDistance</th>\n",
              "      <th>CompetitionOpenSinceMonth</th>\n",
              "      <th>CompetitionOpenSinceYear</th>\n",
              "      <th>Promo2</th>\n",
              "      <th>Promo2SinceWeek</th>\n",
              "      <th>Promo2SinceYear</th>\n",
              "      <th>PromoInterval</th>\n",
              "    </tr>\n",
              "  </thead>\n",
              "  <tbody>\n",
              "    <tr>\n",
              "      <th>0</th>\n",
              "      <td>1</td>\n",
              "      <td>c</td>\n",
              "      <td>a</td>\n",
              "      <td>1270.0</td>\n",
              "      <td>9.0</td>\n",
              "      <td>2008.0</td>\n",
              "      <td>0</td>\n",
              "      <td>NaN</td>\n",
              "      <td>NaN</td>\n",
              "      <td>NaN</td>\n",
              "    </tr>\n",
              "    <tr>\n",
              "      <th>1</th>\n",
              "      <td>2</td>\n",
              "      <td>a</td>\n",
              "      <td>a</td>\n",
              "      <td>570.0</td>\n",
              "      <td>11.0</td>\n",
              "      <td>2007.0</td>\n",
              "      <td>1</td>\n",
              "      <td>13.0</td>\n",
              "      <td>2010.0</td>\n",
              "      <td>Jan,Apr,Jul,Oct</td>\n",
              "    </tr>\n",
              "    <tr>\n",
              "      <th>2</th>\n",
              "      <td>3</td>\n",
              "      <td>a</td>\n",
              "      <td>a</td>\n",
              "      <td>14130.0</td>\n",
              "      <td>12.0</td>\n",
              "      <td>2006.0</td>\n",
              "      <td>1</td>\n",
              "      <td>14.0</td>\n",
              "      <td>2011.0</td>\n",
              "      <td>Jan,Apr,Jul,Oct</td>\n",
              "    </tr>\n",
              "    <tr>\n",
              "      <th>3</th>\n",
              "      <td>4</td>\n",
              "      <td>c</td>\n",
              "      <td>c</td>\n",
              "      <td>620.0</td>\n",
              "      <td>9.0</td>\n",
              "      <td>2009.0</td>\n",
              "      <td>0</td>\n",
              "      <td>NaN</td>\n",
              "      <td>NaN</td>\n",
              "      <td>NaN</td>\n",
              "    </tr>\n",
              "    <tr>\n",
              "      <th>4</th>\n",
              "      <td>5</td>\n",
              "      <td>a</td>\n",
              "      <td>a</td>\n",
              "      <td>29910.0</td>\n",
              "      <td>4.0</td>\n",
              "      <td>2015.0</td>\n",
              "      <td>0</td>\n",
              "      <td>NaN</td>\n",
              "      <td>NaN</td>\n",
              "      <td>NaN</td>\n",
              "    </tr>\n",
              "  </tbody>\n",
              "</table>\n",
              "</div>"
            ],
            "text/plain": [
              "   Store StoreType  ... Promo2SinceYear    PromoInterval\n",
              "0      1         c  ...             NaN              NaN\n",
              "1      2         a  ...          2010.0  Jan,Apr,Jul,Oct\n",
              "2      3         a  ...          2011.0  Jan,Apr,Jul,Oct\n",
              "3      4         c  ...             NaN              NaN\n",
              "4      5         a  ...             NaN              NaN\n",
              "\n",
              "[5 rows x 10 columns]"
            ]
          },
          "metadata": {},
          "execution_count": 167
        }
      ]
    },
    {
      "cell_type": "code",
      "metadata": {
        "colab": {
          "base_uri": "https://localhost:8080/",
          "height": 223
        },
        "id": "ELCyqhiLYvY_",
        "outputId": "e1867d81-3fc1-412c-9af8-78b0bb317892"
      },
      "source": [
        "store.tail()"
      ],
      "execution_count": 168,
      "outputs": [
        {
          "output_type": "execute_result",
          "data": {
            "text/html": [
              "<div>\n",
              "<style scoped>\n",
              "    .dataframe tbody tr th:only-of-type {\n",
              "        vertical-align: middle;\n",
              "    }\n",
              "\n",
              "    .dataframe tbody tr th {\n",
              "        vertical-align: top;\n",
              "    }\n",
              "\n",
              "    .dataframe thead th {\n",
              "        text-align: right;\n",
              "    }\n",
              "</style>\n",
              "<table border=\"1\" class=\"dataframe\">\n",
              "  <thead>\n",
              "    <tr style=\"text-align: right;\">\n",
              "      <th></th>\n",
              "      <th>Store</th>\n",
              "      <th>StoreType</th>\n",
              "      <th>Assortment</th>\n",
              "      <th>CompetitionDistance</th>\n",
              "      <th>CompetitionOpenSinceMonth</th>\n",
              "      <th>CompetitionOpenSinceYear</th>\n",
              "      <th>Promo2</th>\n",
              "      <th>Promo2SinceWeek</th>\n",
              "      <th>Promo2SinceYear</th>\n",
              "      <th>PromoInterval</th>\n",
              "    </tr>\n",
              "  </thead>\n",
              "  <tbody>\n",
              "    <tr>\n",
              "      <th>1110</th>\n",
              "      <td>1111</td>\n",
              "      <td>a</td>\n",
              "      <td>a</td>\n",
              "      <td>1900.0</td>\n",
              "      <td>6.0</td>\n",
              "      <td>2014.0</td>\n",
              "      <td>1</td>\n",
              "      <td>31.0</td>\n",
              "      <td>2013.0</td>\n",
              "      <td>Jan,Apr,Jul,Oct</td>\n",
              "    </tr>\n",
              "    <tr>\n",
              "      <th>1111</th>\n",
              "      <td>1112</td>\n",
              "      <td>c</td>\n",
              "      <td>c</td>\n",
              "      <td>1880.0</td>\n",
              "      <td>4.0</td>\n",
              "      <td>2006.0</td>\n",
              "      <td>0</td>\n",
              "      <td>NaN</td>\n",
              "      <td>NaN</td>\n",
              "      <td>NaN</td>\n",
              "    </tr>\n",
              "    <tr>\n",
              "      <th>1112</th>\n",
              "      <td>1113</td>\n",
              "      <td>a</td>\n",
              "      <td>c</td>\n",
              "      <td>9260.0</td>\n",
              "      <td>NaN</td>\n",
              "      <td>NaN</td>\n",
              "      <td>0</td>\n",
              "      <td>NaN</td>\n",
              "      <td>NaN</td>\n",
              "      <td>NaN</td>\n",
              "    </tr>\n",
              "    <tr>\n",
              "      <th>1113</th>\n",
              "      <td>1114</td>\n",
              "      <td>a</td>\n",
              "      <td>c</td>\n",
              "      <td>870.0</td>\n",
              "      <td>NaN</td>\n",
              "      <td>NaN</td>\n",
              "      <td>0</td>\n",
              "      <td>NaN</td>\n",
              "      <td>NaN</td>\n",
              "      <td>NaN</td>\n",
              "    </tr>\n",
              "    <tr>\n",
              "      <th>1114</th>\n",
              "      <td>1115</td>\n",
              "      <td>d</td>\n",
              "      <td>c</td>\n",
              "      <td>5350.0</td>\n",
              "      <td>NaN</td>\n",
              "      <td>NaN</td>\n",
              "      <td>1</td>\n",
              "      <td>22.0</td>\n",
              "      <td>2012.0</td>\n",
              "      <td>Mar,Jun,Sept,Dec</td>\n",
              "    </tr>\n",
              "  </tbody>\n",
              "</table>\n",
              "</div>"
            ],
            "text/plain": [
              "      Store StoreType  ... Promo2SinceYear     PromoInterval\n",
              "1110   1111         a  ...          2013.0   Jan,Apr,Jul,Oct\n",
              "1111   1112         c  ...             NaN               NaN\n",
              "1112   1113         a  ...             NaN               NaN\n",
              "1113   1114         a  ...             NaN               NaN\n",
              "1114   1115         d  ...          2012.0  Mar,Jun,Sept,Dec\n",
              "\n",
              "[5 rows x 10 columns]"
            ]
          },
          "metadata": {},
          "execution_count": 168
        }
      ]
    },
    {
      "cell_type": "code",
      "metadata": {
        "colab": {
          "base_uri": "https://localhost:8080/"
        },
        "id": "15HCcccgjzzb",
        "outputId": "45607bf7-e711-4a14-c6f4-3773de7858ae"
      },
      "source": [
        "store.shape"
      ],
      "execution_count": 169,
      "outputs": [
        {
          "output_type": "execute_result",
          "data": {
            "text/plain": [
              "(1115, 10)"
            ]
          },
          "metadata": {},
          "execution_count": 169
        }
      ]
    },
    {
      "cell_type": "markdown",
      "metadata": {
        "id": "N_QGYvgYc0S5"
      },
      "source": [
        "##<b>2.2 Dealing With Missing Values "
      ]
    },
    {
      "cell_type": "markdown",
      "metadata": {
        "id": "q4fV5t4ycm8W"
      },
      "source": [
        "###<b>2.2.1 Count missing values in each dataset"
      ]
    },
    {
      "cell_type": "code",
      "metadata": {
        "colab": {
          "base_uri": "https://localhost:8080/"
        },
        "id": "OtaJ0Cj_dJIs",
        "outputId": "e88c1c5b-50d4-46e7-91d1-c7c6612f2fa2"
      },
      "source": [
        "print(\"R_data:\\n\\n\", R_data.isnull().sum(),  \n",
        "     \"\\n\\nstore:\\n\\n\", store.isnull().sum())"
      ],
      "execution_count": 170,
      "outputs": [
        {
          "output_type": "stream",
          "name": "stdout",
          "text": [
            "R_data:\n",
            "\n",
            " Store            0\n",
            "DayOfWeek        0\n",
            "Date             0\n",
            "Sales            0\n",
            "Customers        0\n",
            "Open             0\n",
            "Promo            0\n",
            "StateHoliday     0\n",
            "SchoolHoliday    0\n",
            "dtype: int64 \n",
            "\n",
            "store:\n",
            "\n",
            " Store                          0\n",
            "StoreType                      0\n",
            "Assortment                     0\n",
            "CompetitionDistance            3\n",
            "CompetitionOpenSinceMonth    354\n",
            "CompetitionOpenSinceYear     354\n",
            "Promo2                         0\n",
            "Promo2SinceWeek              544\n",
            "Promo2SinceYear              544\n",
            "PromoInterval                544\n",
            "dtype: int64\n"
          ]
        }
      ]
    },
    {
      "cell_type": "markdown",
      "metadata": {
        "id": "QV6x7SVZL5JB"
      },
      "source": [
        "### 2.2.2 Replace missing values in features with low percentages of missing values"
      ]
    },
    {
      "cell_type": "code",
      "metadata": {
        "id": "hWaj1lwyNXdp",
        "colab": {
          "base_uri": "https://localhost:8080/"
        },
        "outputId": "ef6dd070-ecdb-4f99-ee0d-7f979b6c7188"
      },
      "source": [
        "# check for any null values\n",
        "store.isnull().sum()"
      ],
      "execution_count": 171,
      "outputs": [
        {
          "output_type": "execute_result",
          "data": {
            "text/plain": [
              "Store                          0\n",
              "StoreType                      0\n",
              "Assortment                     0\n",
              "CompetitionDistance            3\n",
              "CompetitionOpenSinceMonth    354\n",
              "CompetitionOpenSinceYear     354\n",
              "Promo2                         0\n",
              "Promo2SinceWeek              544\n",
              "Promo2SinceYear              544\n",
              "PromoInterval                544\n",
              "dtype: int64"
            ]
          },
          "metadata": {},
          "execution_count": 171
        }
      ]
    },
    {
      "cell_type": "markdown",
      "metadata": {
        "id": "DyL1IKkeNh4V"
      },
      "source": [
        "Since Competition distance have 3 null values.\n",
        "So we will fill the null values with its mean"
      ]
    },
    {
      "cell_type": "code",
      "metadata": {
        "id": "-z9lOSSMM8Qb"
      },
      "source": [
        "# filling competition distance with mean\n",
        "store['CompetitionDistance'].fillna(store['CompetitionDistance'].mean(), inplace = True)\n"
      ],
      "execution_count": 172,
      "outputs": []
    },
    {
      "cell_type": "code",
      "metadata": {
        "id": "GxaT_4teN7Rx",
        "colab": {
          "base_uri": "https://localhost:8080/"
        },
        "outputId": "406f39a5-17ef-4c5e-c4ca-95ae02a1017e"
      },
      "source": [
        "# lets check again for null value\n",
        "store.isnull().sum()"
      ],
      "execution_count": 173,
      "outputs": [
        {
          "output_type": "execute_result",
          "data": {
            "text/plain": [
              "Store                          0\n",
              "StoreType                      0\n",
              "Assortment                     0\n",
              "CompetitionDistance            0\n",
              "CompetitionOpenSinceMonth    354\n",
              "CompetitionOpenSinceYear     354\n",
              "Promo2                         0\n",
              "Promo2SinceWeek              544\n",
              "Promo2SinceYear              544\n",
              "PromoInterval                544\n",
              "dtype: int64"
            ]
          },
          "metadata": {},
          "execution_count": 173
        }
      ]
    },
    {
      "cell_type": "markdown",
      "metadata": {
        "id": "SnfDpSMUMBSx"
      },
      "source": [
        "##<b>2.3 Date Extraction"
      ]
    },
    {
      "cell_type": "markdown",
      "metadata": {
        "id": "EutMSO34OjSe"
      },
      "source": [
        "Lets extract the dates from date features\n",
        "Since we have only dates, we will extract years, months, day and weakof year"
      ]
    },
    {
      "cell_type": "code",
      "metadata": {
        "id": "FOe2Hc8jQ9ll",
        "colab": {
          "base_uri": "https://localhost:8080/"
        },
        "outputId": "91abdcb2-0640-42eb-b979-0f981c2b0984"
      },
      "source": [
        "R_data.info()"
      ],
      "execution_count": 174,
      "outputs": [
        {
          "output_type": "stream",
          "name": "stdout",
          "text": [
            "<class 'pandas.core.frame.DataFrame'>\n",
            "RangeIndex: 1017209 entries, 0 to 1017208\n",
            "Data columns (total 9 columns):\n",
            " #   Column         Non-Null Count    Dtype \n",
            "---  ------         --------------    ----- \n",
            " 0   Store          1017209 non-null  int64 \n",
            " 1   DayOfWeek      1017209 non-null  int64 \n",
            " 2   Date           1017209 non-null  object\n",
            " 3   Sales          1017209 non-null  int64 \n",
            " 4   Customers      1017209 non-null  int64 \n",
            " 5   Open           1017209 non-null  int64 \n",
            " 6   Promo          1017209 non-null  int64 \n",
            " 7   StateHoliday   1017209 non-null  object\n",
            " 8   SchoolHoliday  1017209 non-null  int64 \n",
            "dtypes: int64(7), object(2)\n",
            "memory usage: 69.8+ MB\n"
          ]
        }
      ]
    },
    {
      "cell_type": "markdown",
      "metadata": {
        "id": "O7wg10I_RdzE"
      },
      "source": [
        "  Firstly convert the datatype of 'Date' column to datetime format"
      ]
    },
    {
      "cell_type": "code",
      "metadata": {
        "id": "-qJlFDVMRvnH"
      },
      "source": [
        "# converting to datetime datatype\n",
        "\n",
        "R_data['Date']=pd.to_datetime(R_data['Date'])"
      ],
      "execution_count": 175,
      "outputs": []
    },
    {
      "cell_type": "code",
      "metadata": {
        "id": "aruC5bODSNB8",
        "colab": {
          "base_uri": "https://localhost:8080/"
        },
        "outputId": "ea9a9e07-c979-4dda-a97c-810c932ee74f"
      },
      "source": [
        "R_data.info()"
      ],
      "execution_count": 176,
      "outputs": [
        {
          "output_type": "stream",
          "name": "stdout",
          "text": [
            "<class 'pandas.core.frame.DataFrame'>\n",
            "RangeIndex: 1017209 entries, 0 to 1017208\n",
            "Data columns (total 9 columns):\n",
            " #   Column         Non-Null Count    Dtype         \n",
            "---  ------         --------------    -----         \n",
            " 0   Store          1017209 non-null  int64         \n",
            " 1   DayOfWeek      1017209 non-null  int64         \n",
            " 2   Date           1017209 non-null  datetime64[ns]\n",
            " 3   Sales          1017209 non-null  int64         \n",
            " 4   Customers      1017209 non-null  int64         \n",
            " 5   Open           1017209 non-null  int64         \n",
            " 6   Promo          1017209 non-null  int64         \n",
            " 7   StateHoliday   1017209 non-null  object        \n",
            " 8   SchoolHoliday  1017209 non-null  int64         \n",
            "dtypes: datetime64[ns](1), int64(7), object(1)\n",
            "memory usage: 69.8+ MB\n"
          ]
        }
      ]
    },
    {
      "cell_type": "code",
      "metadata": {
        "id": "sj_phudoOggS"
      },
      "source": [
        "# extract year, month, day and week of year from \"Date\"\n",
        "R_data['Year'] =pd.DatetimeIndex(R_data['Date']).year\n",
        "R_data['Month'] =pd.DatetimeIndex(R_data['Date']).month\n",
        "R_data['Day'] =pd.DatetimeIndex(R_data['Date']).day\n",
        "R_data['WeekOfYear'] = pd.DatetimeIndex(R_data['Date']).weekofyear\n",
        "# R_data = R_data.reset_index()"
      ],
      "execution_count": 177,
      "outputs": []
    },
    {
      "cell_type": "code",
      "metadata": {
        "id": "GecTFP75ULOi",
        "colab": {
          "base_uri": "https://localhost:8080/"
        },
        "outputId": "c2d57c58-656b-4246-8bcc-1bf310db760e"
      },
      "source": [
        "R_data.info()"
      ],
      "execution_count": 178,
      "outputs": [
        {
          "output_type": "stream",
          "name": "stdout",
          "text": [
            "<class 'pandas.core.frame.DataFrame'>\n",
            "RangeIndex: 1017209 entries, 0 to 1017208\n",
            "Data columns (total 13 columns):\n",
            " #   Column         Non-Null Count    Dtype         \n",
            "---  ------         --------------    -----         \n",
            " 0   Store          1017209 non-null  int64         \n",
            " 1   DayOfWeek      1017209 non-null  int64         \n",
            " 2   Date           1017209 non-null  datetime64[ns]\n",
            " 3   Sales          1017209 non-null  int64         \n",
            " 4   Customers      1017209 non-null  int64         \n",
            " 5   Open           1017209 non-null  int64         \n",
            " 6   Promo          1017209 non-null  int64         \n",
            " 7   StateHoliday   1017209 non-null  object        \n",
            " 8   SchoolHoliday  1017209 non-null  int64         \n",
            " 9   Year           1017209 non-null  int64         \n",
            " 10  Month          1017209 non-null  int64         \n",
            " 11  Day            1017209 non-null  int64         \n",
            " 12  WeekOfYear     1017209 non-null  int64         \n",
            "dtypes: datetime64[ns](1), int64(11), object(1)\n",
            "memory usage: 100.9+ MB\n"
          ]
        }
      ]
    },
    {
      "cell_type": "markdown",
      "metadata": {
        "id": "i1u8gTt9MHxH"
      },
      "source": [
        "##<b> 2.4 Joining Tables"
      ]
    },
    {
      "cell_type": "markdown",
      "metadata": {
        "id": "Sixe8EKdUsFW"
      },
      "source": [
        "Now join the table R_data and store dataframe "
      ]
    },
    {
      "cell_type": "code",
      "metadata": {
        "id": "1saB7171UWuD",
        "colab": {
          "base_uri": "https://localhost:8080/",
          "height": 0
        },
        "outputId": "b739102f-67bf-48eb-f3cd-19f2980d08fc"
      },
      "source": [
        "data = pd.merge(R_data, store, how='left', on='Store')\n",
        "data.head()"
      ],
      "execution_count": 179,
      "outputs": [
        {
          "output_type": "execute_result",
          "data": {
            "text/html": [
              "<div>\n",
              "<style scoped>\n",
              "    .dataframe tbody tr th:only-of-type {\n",
              "        vertical-align: middle;\n",
              "    }\n",
              "\n",
              "    .dataframe tbody tr th {\n",
              "        vertical-align: top;\n",
              "    }\n",
              "\n",
              "    .dataframe thead th {\n",
              "        text-align: right;\n",
              "    }\n",
              "</style>\n",
              "<table border=\"1\" class=\"dataframe\">\n",
              "  <thead>\n",
              "    <tr style=\"text-align: right;\">\n",
              "      <th></th>\n",
              "      <th>Store</th>\n",
              "      <th>DayOfWeek</th>\n",
              "      <th>Date</th>\n",
              "      <th>Sales</th>\n",
              "      <th>Customers</th>\n",
              "      <th>Open</th>\n",
              "      <th>Promo</th>\n",
              "      <th>StateHoliday</th>\n",
              "      <th>SchoolHoliday</th>\n",
              "      <th>Year</th>\n",
              "      <th>Month</th>\n",
              "      <th>Day</th>\n",
              "      <th>WeekOfYear</th>\n",
              "      <th>StoreType</th>\n",
              "      <th>Assortment</th>\n",
              "      <th>CompetitionDistance</th>\n",
              "      <th>CompetitionOpenSinceMonth</th>\n",
              "      <th>CompetitionOpenSinceYear</th>\n",
              "      <th>Promo2</th>\n",
              "      <th>Promo2SinceWeek</th>\n",
              "      <th>Promo2SinceYear</th>\n",
              "      <th>PromoInterval</th>\n",
              "    </tr>\n",
              "  </thead>\n",
              "  <tbody>\n",
              "    <tr>\n",
              "      <th>0</th>\n",
              "      <td>1</td>\n",
              "      <td>5</td>\n",
              "      <td>2015-07-31</td>\n",
              "      <td>5263</td>\n",
              "      <td>555</td>\n",
              "      <td>1</td>\n",
              "      <td>1</td>\n",
              "      <td>0</td>\n",
              "      <td>1</td>\n",
              "      <td>2015</td>\n",
              "      <td>7</td>\n",
              "      <td>31</td>\n",
              "      <td>31</td>\n",
              "      <td>c</td>\n",
              "      <td>a</td>\n",
              "      <td>1270.0</td>\n",
              "      <td>9.0</td>\n",
              "      <td>2008.0</td>\n",
              "      <td>0</td>\n",
              "      <td>NaN</td>\n",
              "      <td>NaN</td>\n",
              "      <td>NaN</td>\n",
              "    </tr>\n",
              "    <tr>\n",
              "      <th>1</th>\n",
              "      <td>2</td>\n",
              "      <td>5</td>\n",
              "      <td>2015-07-31</td>\n",
              "      <td>6064</td>\n",
              "      <td>625</td>\n",
              "      <td>1</td>\n",
              "      <td>1</td>\n",
              "      <td>0</td>\n",
              "      <td>1</td>\n",
              "      <td>2015</td>\n",
              "      <td>7</td>\n",
              "      <td>31</td>\n",
              "      <td>31</td>\n",
              "      <td>a</td>\n",
              "      <td>a</td>\n",
              "      <td>570.0</td>\n",
              "      <td>11.0</td>\n",
              "      <td>2007.0</td>\n",
              "      <td>1</td>\n",
              "      <td>13.0</td>\n",
              "      <td>2010.0</td>\n",
              "      <td>Jan,Apr,Jul,Oct</td>\n",
              "    </tr>\n",
              "    <tr>\n",
              "      <th>2</th>\n",
              "      <td>3</td>\n",
              "      <td>5</td>\n",
              "      <td>2015-07-31</td>\n",
              "      <td>8314</td>\n",
              "      <td>821</td>\n",
              "      <td>1</td>\n",
              "      <td>1</td>\n",
              "      <td>0</td>\n",
              "      <td>1</td>\n",
              "      <td>2015</td>\n",
              "      <td>7</td>\n",
              "      <td>31</td>\n",
              "      <td>31</td>\n",
              "      <td>a</td>\n",
              "      <td>a</td>\n",
              "      <td>14130.0</td>\n",
              "      <td>12.0</td>\n",
              "      <td>2006.0</td>\n",
              "      <td>1</td>\n",
              "      <td>14.0</td>\n",
              "      <td>2011.0</td>\n",
              "      <td>Jan,Apr,Jul,Oct</td>\n",
              "    </tr>\n",
              "    <tr>\n",
              "      <th>3</th>\n",
              "      <td>4</td>\n",
              "      <td>5</td>\n",
              "      <td>2015-07-31</td>\n",
              "      <td>13995</td>\n",
              "      <td>1498</td>\n",
              "      <td>1</td>\n",
              "      <td>1</td>\n",
              "      <td>0</td>\n",
              "      <td>1</td>\n",
              "      <td>2015</td>\n",
              "      <td>7</td>\n",
              "      <td>31</td>\n",
              "      <td>31</td>\n",
              "      <td>c</td>\n",
              "      <td>c</td>\n",
              "      <td>620.0</td>\n",
              "      <td>9.0</td>\n",
              "      <td>2009.0</td>\n",
              "      <td>0</td>\n",
              "      <td>NaN</td>\n",
              "      <td>NaN</td>\n",
              "      <td>NaN</td>\n",
              "    </tr>\n",
              "    <tr>\n",
              "      <th>4</th>\n",
              "      <td>5</td>\n",
              "      <td>5</td>\n",
              "      <td>2015-07-31</td>\n",
              "      <td>4822</td>\n",
              "      <td>559</td>\n",
              "      <td>1</td>\n",
              "      <td>1</td>\n",
              "      <td>0</td>\n",
              "      <td>1</td>\n",
              "      <td>2015</td>\n",
              "      <td>7</td>\n",
              "      <td>31</td>\n",
              "      <td>31</td>\n",
              "      <td>a</td>\n",
              "      <td>a</td>\n",
              "      <td>29910.0</td>\n",
              "      <td>4.0</td>\n",
              "      <td>2015.0</td>\n",
              "      <td>0</td>\n",
              "      <td>NaN</td>\n",
              "      <td>NaN</td>\n",
              "      <td>NaN</td>\n",
              "    </tr>\n",
              "  </tbody>\n",
              "</table>\n",
              "</div>"
            ],
            "text/plain": [
              "   Store  DayOfWeek  ... Promo2SinceYear    PromoInterval\n",
              "0      1          5  ...             NaN              NaN\n",
              "1      2          5  ...          2010.0  Jan,Apr,Jul,Oct\n",
              "2      3          5  ...          2011.0  Jan,Apr,Jul,Oct\n",
              "3      4          5  ...             NaN              NaN\n",
              "4      5          5  ...             NaN              NaN\n",
              "\n",
              "[5 rows x 22 columns]"
            ]
          },
          "metadata": {},
          "execution_count": 179
        }
      ]
    },
    {
      "cell_type": "code",
      "metadata": {
        "id": "Z4kvFLLbVgbY",
        "colab": {
          "base_uri": "https://localhost:8080/"
        },
        "outputId": "1f96bc69-89c7-45d6-d210-dc4a2e275ed6"
      },
      "source": [
        "data.info()"
      ],
      "execution_count": 180,
      "outputs": [
        {
          "output_type": "stream",
          "name": "stdout",
          "text": [
            "<class 'pandas.core.frame.DataFrame'>\n",
            "Int64Index: 1017209 entries, 0 to 1017208\n",
            "Data columns (total 22 columns):\n",
            " #   Column                     Non-Null Count    Dtype         \n",
            "---  ------                     --------------    -----         \n",
            " 0   Store                      1017209 non-null  int64         \n",
            " 1   DayOfWeek                  1017209 non-null  int64         \n",
            " 2   Date                       1017209 non-null  datetime64[ns]\n",
            " 3   Sales                      1017209 non-null  int64         \n",
            " 4   Customers                  1017209 non-null  int64         \n",
            " 5   Open                       1017209 non-null  int64         \n",
            " 6   Promo                      1017209 non-null  int64         \n",
            " 7   StateHoliday               1017209 non-null  object        \n",
            " 8   SchoolHoliday              1017209 non-null  int64         \n",
            " 9   Year                       1017209 non-null  int64         \n",
            " 10  Month                      1017209 non-null  int64         \n",
            " 11  Day                        1017209 non-null  int64         \n",
            " 12  WeekOfYear                 1017209 non-null  int64         \n",
            " 13  StoreType                  1017209 non-null  object        \n",
            " 14  Assortment                 1017209 non-null  object        \n",
            " 15  CompetitionDistance        1017209 non-null  float64       \n",
            " 16  CompetitionOpenSinceMonth  693861 non-null   float64       \n",
            " 17  CompetitionOpenSinceYear   693861 non-null   float64       \n",
            " 18  Promo2                     1017209 non-null  int64         \n",
            " 19  Promo2SinceWeek            509178 non-null   float64       \n",
            " 20  Promo2SinceYear            509178 non-null   float64       \n",
            " 21  PromoInterval              509178 non-null   object        \n",
            "dtypes: datetime64[ns](1), float64(5), int64(12), object(4)\n",
            "memory usage: 178.5+ MB\n"
          ]
        }
      ]
    },
    {
      "cell_type": "code",
      "metadata": {
        "id": "cm_9Q5VJVl8Y",
        "colab": {
          "base_uri": "https://localhost:8080/"
        },
        "outputId": "b0638f7f-83e1-46ae-bbe4-02cd250156d7"
      },
      "source": [
        "data.isnull().sum()"
      ],
      "execution_count": 181,
      "outputs": [
        {
          "output_type": "execute_result",
          "data": {
            "text/plain": [
              "Store                             0\n",
              "DayOfWeek                         0\n",
              "Date                              0\n",
              "Sales                             0\n",
              "Customers                         0\n",
              "Open                              0\n",
              "Promo                             0\n",
              "StateHoliday                      0\n",
              "SchoolHoliday                     0\n",
              "Year                              0\n",
              "Month                             0\n",
              "Day                               0\n",
              "WeekOfYear                        0\n",
              "StoreType                         0\n",
              "Assortment                        0\n",
              "CompetitionDistance               0\n",
              "CompetitionOpenSinceMonth    323348\n",
              "CompetitionOpenSinceYear     323348\n",
              "Promo2                            0\n",
              "Promo2SinceWeek              508031\n",
              "Promo2SinceYear              508031\n",
              "PromoInterval                508031\n",
              "dtype: int64"
            ]
          },
          "metadata": {},
          "execution_count": 181
        }
      ]
    },
    {
      "cell_type": "markdown",
      "metadata": {
        "id": "99MPfQlsm3z0"
      },
      "source": [
        "##<b>Checking the nominal values"
      ]
    },
    {
      "cell_type": "code",
      "metadata": {
        "colab": {
          "base_uri": "https://localhost:8080/"
        },
        "id": "19dlmuv5m_x3",
        "outputId": "7703a136-4ffd-46ac-e4b6-9892acb0fced"
      },
      "source": [
        "# Nominal Values\n",
        "set(data.StateHoliday),set(data.Assortment),set(data.StoreType)"
      ],
      "execution_count": 182,
      "outputs": [
        {
          "output_type": "execute_result",
          "data": {
            "text/plain": [
              "({0, '0', 'a', 'b', 'c'}, {'a', 'b', 'c'}, {'a', 'b', 'c', 'd'})"
            ]
          },
          "metadata": {},
          "execution_count": 182
        }
      ]
    },
    {
      "cell_type": "markdown",
      "metadata": {
        "id": "oEpkIRr6nepY"
      },
      "source": [
        "Since StateHoliday have zero for none.\n",
        "let's convert that into string '0'"
      ]
    },
    {
      "cell_type": "code",
      "metadata": {
        "id": "lgbmuu_inxVc"
      },
      "source": [
        "# converting 0 to string '0'\n",
        "data.loc[data.StateHoliday == 0,'StateHoliday'] = data.loc[data.StateHoliday == 0,'StateHoliday'].astype(str)"
      ],
      "execution_count": 183,
      "outputs": []
    },
    {
      "cell_type": "code",
      "metadata": {
        "colab": {
          "base_uri": "https://localhost:8080/"
        },
        "id": "D7HHucVGdDLq",
        "outputId": "87467430-c8f5-4724-e7d4-94a2d865c024"
      },
      "source": [
        "data.info()"
      ],
      "execution_count": 184,
      "outputs": [
        {
          "output_type": "stream",
          "name": "stdout",
          "text": [
            "<class 'pandas.core.frame.DataFrame'>\n",
            "Int64Index: 1017209 entries, 0 to 1017208\n",
            "Data columns (total 22 columns):\n",
            " #   Column                     Non-Null Count    Dtype         \n",
            "---  ------                     --------------    -----         \n",
            " 0   Store                      1017209 non-null  int64         \n",
            " 1   DayOfWeek                  1017209 non-null  int64         \n",
            " 2   Date                       1017209 non-null  datetime64[ns]\n",
            " 3   Sales                      1017209 non-null  int64         \n",
            " 4   Customers                  1017209 non-null  int64         \n",
            " 5   Open                       1017209 non-null  int64         \n",
            " 6   Promo                      1017209 non-null  int64         \n",
            " 7   StateHoliday               1017209 non-null  object        \n",
            " 8   SchoolHoliday              1017209 non-null  int64         \n",
            " 9   Year                       1017209 non-null  int64         \n",
            " 10  Month                      1017209 non-null  int64         \n",
            " 11  Day                        1017209 non-null  int64         \n",
            " 12  WeekOfYear                 1017209 non-null  int64         \n",
            " 13  StoreType                  1017209 non-null  object        \n",
            " 14  Assortment                 1017209 non-null  object        \n",
            " 15  CompetitionDistance        1017209 non-null  float64       \n",
            " 16  CompetitionOpenSinceMonth  693861 non-null   float64       \n",
            " 17  CompetitionOpenSinceYear   693861 non-null   float64       \n",
            " 18  Promo2                     1017209 non-null  int64         \n",
            " 19  Promo2SinceWeek            509178 non-null   float64       \n",
            " 20  Promo2SinceYear            509178 non-null   float64       \n",
            " 21  PromoInterval              509178 non-null   object        \n",
            "dtypes: datetime64[ns](1), float64(5), int64(12), object(4)\n",
            "memory usage: 178.5+ MB\n"
          ]
        }
      ]
    },
    {
      "cell_type": "markdown",
      "metadata": {
        "id": "7pkPBB0BlwyX"
      },
      "source": [
        "###Checking data(merged) columns,unique values"
      ]
    },
    {
      "cell_type": "code",
      "metadata": {
        "id": "GnfS6-6Jks4A",
        "colab": {
          "base_uri": "https://localhost:8080/"
        },
        "outputId": "55268d89-b33a-4f0a-d2b6-14d87ff6ece2"
      },
      "source": [
        "data.columns"
      ],
      "execution_count": 185,
      "outputs": [
        {
          "output_type": "execute_result",
          "data": {
            "text/plain": [
              "Index(['Store', 'DayOfWeek', 'Date', 'Sales', 'Customers', 'Open', 'Promo',\n",
              "       'StateHoliday', 'SchoolHoliday', 'Year', 'Month', 'Day', 'WeekOfYear',\n",
              "       'StoreType', 'Assortment', 'CompetitionDistance',\n",
              "       'CompetitionOpenSinceMonth', 'CompetitionOpenSinceYear', 'Promo2',\n",
              "       'Promo2SinceWeek', 'Promo2SinceYear', 'PromoInterval'],\n",
              "      dtype='object')"
            ]
          },
          "metadata": {},
          "execution_count": 185
        }
      ]
    },
    {
      "cell_type": "code",
      "metadata": {
        "id": "Yu3DqQzmks69",
        "colab": {
          "base_uri": "https://localhost:8080/"
        },
        "outputId": "93abb482-47f5-47b1-db74-1c9d29ad2254"
      },
      "source": [
        "data.nunique()"
      ],
      "execution_count": 186,
      "outputs": [
        {
          "output_type": "execute_result",
          "data": {
            "text/plain": [
              "Store                         1115\n",
              "DayOfWeek                        7\n",
              "Date                           942\n",
              "Sales                        21734\n",
              "Customers                     4086\n",
              "Open                             2\n",
              "Promo                            2\n",
              "StateHoliday                     4\n",
              "SchoolHoliday                    2\n",
              "Year                             3\n",
              "Month                           12\n",
              "Day                             31\n",
              "WeekOfYear                      52\n",
              "StoreType                        4\n",
              "Assortment                       3\n",
              "CompetitionDistance            655\n",
              "CompetitionOpenSinceMonth       12\n",
              "CompetitionOpenSinceYear        23\n",
              "Promo2                           2\n",
              "Promo2SinceWeek                 24\n",
              "Promo2SinceYear                  7\n",
              "PromoInterval                    3\n",
              "dtype: int64"
            ]
          },
          "metadata": {},
          "execution_count": 186
        }
      ]
    },
    {
      "cell_type": "code",
      "metadata": {
        "id": "qHFfBoACks8l",
        "colab": {
          "base_uri": "https://localhost:8080/"
        },
        "outputId": "2973f1fb-4002-4bc3-e98d-49cc4ad0a477"
      },
      "source": [
        "data.Date.unique()#to check seperately"
      ],
      "execution_count": 187,
      "outputs": [
        {
          "output_type": "execute_result",
          "data": {
            "text/plain": [
              "array(['2015-07-31T00:00:00.000000000', '2015-07-30T00:00:00.000000000',\n",
              "       '2015-07-29T00:00:00.000000000', '2015-07-28T00:00:00.000000000',\n",
              "       '2015-07-27T00:00:00.000000000', '2015-07-26T00:00:00.000000000',\n",
              "       '2015-07-25T00:00:00.000000000', '2015-07-24T00:00:00.000000000',\n",
              "       '2015-07-23T00:00:00.000000000', '2015-07-22T00:00:00.000000000',\n",
              "       '2015-07-21T00:00:00.000000000', '2015-07-20T00:00:00.000000000',\n",
              "       '2015-07-19T00:00:00.000000000', '2015-07-18T00:00:00.000000000',\n",
              "       '2015-07-17T00:00:00.000000000', '2015-07-16T00:00:00.000000000',\n",
              "       '2015-07-15T00:00:00.000000000', '2015-07-14T00:00:00.000000000',\n",
              "       '2015-07-13T00:00:00.000000000', '2015-07-12T00:00:00.000000000',\n",
              "       '2015-07-11T00:00:00.000000000', '2015-07-10T00:00:00.000000000',\n",
              "       '2015-07-09T00:00:00.000000000', '2015-07-08T00:00:00.000000000',\n",
              "       '2015-07-07T00:00:00.000000000', '2015-07-06T00:00:00.000000000',\n",
              "       '2015-07-05T00:00:00.000000000', '2015-07-04T00:00:00.000000000',\n",
              "       '2015-07-03T00:00:00.000000000', '2015-07-02T00:00:00.000000000',\n",
              "       '2015-07-01T00:00:00.000000000', '2015-06-30T00:00:00.000000000',\n",
              "       '2015-06-29T00:00:00.000000000', '2015-06-28T00:00:00.000000000',\n",
              "       '2015-06-27T00:00:00.000000000', '2015-06-26T00:00:00.000000000',\n",
              "       '2015-06-25T00:00:00.000000000', '2015-06-24T00:00:00.000000000',\n",
              "       '2015-06-23T00:00:00.000000000', '2015-06-22T00:00:00.000000000',\n",
              "       '2015-06-21T00:00:00.000000000', '2015-06-20T00:00:00.000000000',\n",
              "       '2015-06-19T00:00:00.000000000', '2015-06-18T00:00:00.000000000',\n",
              "       '2015-06-17T00:00:00.000000000', '2015-06-16T00:00:00.000000000',\n",
              "       '2015-06-15T00:00:00.000000000', '2015-06-14T00:00:00.000000000',\n",
              "       '2015-06-13T00:00:00.000000000', '2015-06-12T00:00:00.000000000',\n",
              "       '2015-06-11T00:00:00.000000000', '2015-06-10T00:00:00.000000000',\n",
              "       '2015-06-09T00:00:00.000000000', '2015-06-08T00:00:00.000000000',\n",
              "       '2015-06-07T00:00:00.000000000', '2015-06-06T00:00:00.000000000',\n",
              "       '2015-06-05T00:00:00.000000000', '2015-06-04T00:00:00.000000000',\n",
              "       '2015-06-03T00:00:00.000000000', '2015-06-02T00:00:00.000000000',\n",
              "       '2015-06-01T00:00:00.000000000', '2015-05-31T00:00:00.000000000',\n",
              "       '2015-05-30T00:00:00.000000000', '2015-05-29T00:00:00.000000000',\n",
              "       '2015-05-28T00:00:00.000000000', '2015-05-27T00:00:00.000000000',\n",
              "       '2015-05-26T00:00:00.000000000', '2015-05-25T00:00:00.000000000',\n",
              "       '2015-05-24T00:00:00.000000000', '2015-05-23T00:00:00.000000000',\n",
              "       '2015-05-22T00:00:00.000000000', '2015-05-21T00:00:00.000000000',\n",
              "       '2015-05-20T00:00:00.000000000', '2015-05-19T00:00:00.000000000',\n",
              "       '2015-05-18T00:00:00.000000000', '2015-05-17T00:00:00.000000000',\n",
              "       '2015-05-16T00:00:00.000000000', '2015-05-15T00:00:00.000000000',\n",
              "       '2015-05-14T00:00:00.000000000', '2015-05-13T00:00:00.000000000',\n",
              "       '2015-05-12T00:00:00.000000000', '2015-05-11T00:00:00.000000000',\n",
              "       '2015-05-10T00:00:00.000000000', '2015-05-09T00:00:00.000000000',\n",
              "       '2015-05-08T00:00:00.000000000', '2015-05-07T00:00:00.000000000',\n",
              "       '2015-05-06T00:00:00.000000000', '2015-05-05T00:00:00.000000000',\n",
              "       '2015-05-04T00:00:00.000000000', '2015-05-03T00:00:00.000000000',\n",
              "       '2015-05-02T00:00:00.000000000', '2015-05-01T00:00:00.000000000',\n",
              "       '2015-04-30T00:00:00.000000000', '2015-04-29T00:00:00.000000000',\n",
              "       '2015-04-28T00:00:00.000000000', '2015-04-27T00:00:00.000000000',\n",
              "       '2015-04-26T00:00:00.000000000', '2015-04-25T00:00:00.000000000',\n",
              "       '2015-04-24T00:00:00.000000000', '2015-04-23T00:00:00.000000000',\n",
              "       '2015-04-22T00:00:00.000000000', '2015-04-21T00:00:00.000000000',\n",
              "       '2015-04-20T00:00:00.000000000', '2015-04-19T00:00:00.000000000',\n",
              "       '2015-04-18T00:00:00.000000000', '2015-04-17T00:00:00.000000000',\n",
              "       '2015-04-16T00:00:00.000000000', '2015-04-15T00:00:00.000000000',\n",
              "       '2015-04-14T00:00:00.000000000', '2015-04-13T00:00:00.000000000',\n",
              "       '2015-04-12T00:00:00.000000000', '2015-04-11T00:00:00.000000000',\n",
              "       '2015-04-10T00:00:00.000000000', '2015-04-09T00:00:00.000000000',\n",
              "       '2015-04-08T00:00:00.000000000', '2015-04-07T00:00:00.000000000',\n",
              "       '2015-04-06T00:00:00.000000000', '2015-04-05T00:00:00.000000000',\n",
              "       '2015-04-04T00:00:00.000000000', '2015-04-03T00:00:00.000000000',\n",
              "       '2015-04-02T00:00:00.000000000', '2015-04-01T00:00:00.000000000',\n",
              "       '2015-03-31T00:00:00.000000000', '2015-03-30T00:00:00.000000000',\n",
              "       '2015-03-29T00:00:00.000000000', '2015-03-28T00:00:00.000000000',\n",
              "       '2015-03-27T00:00:00.000000000', '2015-03-26T00:00:00.000000000',\n",
              "       '2015-03-25T00:00:00.000000000', '2015-03-24T00:00:00.000000000',\n",
              "       '2015-03-23T00:00:00.000000000', '2015-03-22T00:00:00.000000000',\n",
              "       '2015-03-21T00:00:00.000000000', '2015-03-20T00:00:00.000000000',\n",
              "       '2015-03-19T00:00:00.000000000', '2015-03-18T00:00:00.000000000',\n",
              "       '2015-03-17T00:00:00.000000000', '2015-03-16T00:00:00.000000000',\n",
              "       '2015-03-15T00:00:00.000000000', '2015-03-14T00:00:00.000000000',\n",
              "       '2015-03-13T00:00:00.000000000', '2015-03-12T00:00:00.000000000',\n",
              "       '2015-03-11T00:00:00.000000000', '2015-03-10T00:00:00.000000000',\n",
              "       '2015-03-09T00:00:00.000000000', '2015-03-08T00:00:00.000000000',\n",
              "       '2015-03-07T00:00:00.000000000', '2015-03-06T00:00:00.000000000',\n",
              "       '2015-03-05T00:00:00.000000000', '2015-03-04T00:00:00.000000000',\n",
              "       '2015-03-03T00:00:00.000000000', '2015-03-02T00:00:00.000000000',\n",
              "       '2015-03-01T00:00:00.000000000', '2015-02-28T00:00:00.000000000',\n",
              "       '2015-02-27T00:00:00.000000000', '2015-02-26T00:00:00.000000000',\n",
              "       '2015-02-25T00:00:00.000000000', '2015-02-24T00:00:00.000000000',\n",
              "       '2015-02-23T00:00:00.000000000', '2015-02-22T00:00:00.000000000',\n",
              "       '2015-02-21T00:00:00.000000000', '2015-02-20T00:00:00.000000000',\n",
              "       '2015-02-19T00:00:00.000000000', '2015-02-18T00:00:00.000000000',\n",
              "       '2015-02-17T00:00:00.000000000', '2015-02-16T00:00:00.000000000',\n",
              "       '2015-02-15T00:00:00.000000000', '2015-02-14T00:00:00.000000000',\n",
              "       '2015-02-13T00:00:00.000000000', '2015-02-12T00:00:00.000000000',\n",
              "       '2015-02-11T00:00:00.000000000', '2015-02-10T00:00:00.000000000',\n",
              "       '2015-02-09T00:00:00.000000000', '2015-02-08T00:00:00.000000000',\n",
              "       '2015-02-07T00:00:00.000000000', '2015-02-06T00:00:00.000000000',\n",
              "       '2015-02-05T00:00:00.000000000', '2015-02-04T00:00:00.000000000',\n",
              "       '2015-02-03T00:00:00.000000000', '2015-02-02T00:00:00.000000000',\n",
              "       '2015-02-01T00:00:00.000000000', '2015-01-31T00:00:00.000000000',\n",
              "       '2015-01-30T00:00:00.000000000', '2015-01-29T00:00:00.000000000',\n",
              "       '2015-01-28T00:00:00.000000000', '2015-01-27T00:00:00.000000000',\n",
              "       '2015-01-26T00:00:00.000000000', '2015-01-25T00:00:00.000000000',\n",
              "       '2015-01-24T00:00:00.000000000', '2015-01-23T00:00:00.000000000',\n",
              "       '2015-01-22T00:00:00.000000000', '2015-01-21T00:00:00.000000000',\n",
              "       '2015-01-20T00:00:00.000000000', '2015-01-19T00:00:00.000000000',\n",
              "       '2015-01-18T00:00:00.000000000', '2015-01-17T00:00:00.000000000',\n",
              "       '2015-01-16T00:00:00.000000000', '2015-01-15T00:00:00.000000000',\n",
              "       '2015-01-14T00:00:00.000000000', '2015-01-13T00:00:00.000000000',\n",
              "       '2015-01-12T00:00:00.000000000', '2015-01-11T00:00:00.000000000',\n",
              "       '2015-01-10T00:00:00.000000000', '2015-01-09T00:00:00.000000000',\n",
              "       '2015-01-08T00:00:00.000000000', '2015-01-07T00:00:00.000000000',\n",
              "       '2015-01-06T00:00:00.000000000', '2015-01-05T00:00:00.000000000',\n",
              "       '2015-01-04T00:00:00.000000000', '2015-01-03T00:00:00.000000000',\n",
              "       '2015-01-02T00:00:00.000000000', '2015-01-01T00:00:00.000000000',\n",
              "       '2014-12-31T00:00:00.000000000', '2014-12-30T00:00:00.000000000',\n",
              "       '2014-12-29T00:00:00.000000000', '2014-12-28T00:00:00.000000000',\n",
              "       '2014-12-27T00:00:00.000000000', '2014-12-26T00:00:00.000000000',\n",
              "       '2014-12-25T00:00:00.000000000', '2014-12-24T00:00:00.000000000',\n",
              "       '2014-12-23T00:00:00.000000000', '2014-12-22T00:00:00.000000000',\n",
              "       '2014-12-21T00:00:00.000000000', '2014-12-20T00:00:00.000000000',\n",
              "       '2014-12-19T00:00:00.000000000', '2014-12-18T00:00:00.000000000',\n",
              "       '2014-12-17T00:00:00.000000000', '2014-12-16T00:00:00.000000000',\n",
              "       '2014-12-15T00:00:00.000000000', '2014-12-14T00:00:00.000000000',\n",
              "       '2014-12-13T00:00:00.000000000', '2014-12-12T00:00:00.000000000',\n",
              "       '2014-12-11T00:00:00.000000000', '2014-12-10T00:00:00.000000000',\n",
              "       '2014-12-09T00:00:00.000000000', '2014-12-08T00:00:00.000000000',\n",
              "       '2014-12-07T00:00:00.000000000', '2014-12-06T00:00:00.000000000',\n",
              "       '2014-12-05T00:00:00.000000000', '2014-12-04T00:00:00.000000000',\n",
              "       '2014-12-03T00:00:00.000000000', '2014-12-02T00:00:00.000000000',\n",
              "       '2014-12-01T00:00:00.000000000', '2014-11-30T00:00:00.000000000',\n",
              "       '2014-11-29T00:00:00.000000000', '2014-11-28T00:00:00.000000000',\n",
              "       '2014-11-27T00:00:00.000000000', '2014-11-26T00:00:00.000000000',\n",
              "       '2014-11-25T00:00:00.000000000', '2014-11-24T00:00:00.000000000',\n",
              "       '2014-11-23T00:00:00.000000000', '2014-11-22T00:00:00.000000000',\n",
              "       '2014-11-21T00:00:00.000000000', '2014-11-20T00:00:00.000000000',\n",
              "       '2014-11-19T00:00:00.000000000', '2014-11-18T00:00:00.000000000',\n",
              "       '2014-11-17T00:00:00.000000000', '2014-11-16T00:00:00.000000000',\n",
              "       '2014-11-15T00:00:00.000000000', '2014-11-14T00:00:00.000000000',\n",
              "       '2014-11-13T00:00:00.000000000', '2014-11-12T00:00:00.000000000',\n",
              "       '2014-11-11T00:00:00.000000000', '2014-11-10T00:00:00.000000000',\n",
              "       '2014-11-09T00:00:00.000000000', '2014-11-08T00:00:00.000000000',\n",
              "       '2014-11-07T00:00:00.000000000', '2014-11-06T00:00:00.000000000',\n",
              "       '2014-11-05T00:00:00.000000000', '2014-11-04T00:00:00.000000000',\n",
              "       '2014-11-03T00:00:00.000000000', '2014-11-02T00:00:00.000000000',\n",
              "       '2014-11-01T00:00:00.000000000', '2014-10-31T00:00:00.000000000',\n",
              "       '2014-10-30T00:00:00.000000000', '2014-10-29T00:00:00.000000000',\n",
              "       '2014-10-28T00:00:00.000000000', '2014-10-27T00:00:00.000000000',\n",
              "       '2014-10-26T00:00:00.000000000', '2014-10-25T00:00:00.000000000',\n",
              "       '2014-10-24T00:00:00.000000000', '2014-10-23T00:00:00.000000000',\n",
              "       '2014-10-22T00:00:00.000000000', '2014-10-21T00:00:00.000000000',\n",
              "       '2014-10-20T00:00:00.000000000', '2014-10-19T00:00:00.000000000',\n",
              "       '2014-10-18T00:00:00.000000000', '2014-10-17T00:00:00.000000000',\n",
              "       '2014-10-16T00:00:00.000000000', '2014-10-15T00:00:00.000000000',\n",
              "       '2014-10-14T00:00:00.000000000', '2014-10-13T00:00:00.000000000',\n",
              "       '2014-10-12T00:00:00.000000000', '2014-10-11T00:00:00.000000000',\n",
              "       '2014-10-10T00:00:00.000000000', '2014-10-09T00:00:00.000000000',\n",
              "       '2014-10-08T00:00:00.000000000', '2014-10-07T00:00:00.000000000',\n",
              "       '2014-10-06T00:00:00.000000000', '2014-10-05T00:00:00.000000000',\n",
              "       '2014-10-04T00:00:00.000000000', '2014-10-03T00:00:00.000000000',\n",
              "       '2014-10-02T00:00:00.000000000', '2014-10-01T00:00:00.000000000',\n",
              "       '2014-09-30T00:00:00.000000000', '2014-09-29T00:00:00.000000000',\n",
              "       '2014-09-28T00:00:00.000000000', '2014-09-27T00:00:00.000000000',\n",
              "       '2014-09-26T00:00:00.000000000', '2014-09-25T00:00:00.000000000',\n",
              "       '2014-09-24T00:00:00.000000000', '2014-09-23T00:00:00.000000000',\n",
              "       '2014-09-22T00:00:00.000000000', '2014-09-21T00:00:00.000000000',\n",
              "       '2014-09-20T00:00:00.000000000', '2014-09-19T00:00:00.000000000',\n",
              "       '2014-09-18T00:00:00.000000000', '2014-09-17T00:00:00.000000000',\n",
              "       '2014-09-16T00:00:00.000000000', '2014-09-15T00:00:00.000000000',\n",
              "       '2014-09-14T00:00:00.000000000', '2014-09-13T00:00:00.000000000',\n",
              "       '2014-09-12T00:00:00.000000000', '2014-09-11T00:00:00.000000000',\n",
              "       '2014-09-10T00:00:00.000000000', '2014-09-09T00:00:00.000000000',\n",
              "       '2014-09-08T00:00:00.000000000', '2014-09-07T00:00:00.000000000',\n",
              "       '2014-09-06T00:00:00.000000000', '2014-09-05T00:00:00.000000000',\n",
              "       '2014-09-04T00:00:00.000000000', '2014-09-03T00:00:00.000000000',\n",
              "       '2014-09-02T00:00:00.000000000', '2014-09-01T00:00:00.000000000',\n",
              "       '2014-08-31T00:00:00.000000000', '2014-08-30T00:00:00.000000000',\n",
              "       '2014-08-29T00:00:00.000000000', '2014-08-28T00:00:00.000000000',\n",
              "       '2014-08-27T00:00:00.000000000', '2014-08-26T00:00:00.000000000',\n",
              "       '2014-08-25T00:00:00.000000000', '2014-08-24T00:00:00.000000000',\n",
              "       '2014-08-23T00:00:00.000000000', '2014-08-22T00:00:00.000000000',\n",
              "       '2014-08-21T00:00:00.000000000', '2014-08-20T00:00:00.000000000',\n",
              "       '2014-08-19T00:00:00.000000000', '2014-08-18T00:00:00.000000000',\n",
              "       '2014-08-17T00:00:00.000000000', '2014-08-16T00:00:00.000000000',\n",
              "       '2014-08-15T00:00:00.000000000', '2014-08-14T00:00:00.000000000',\n",
              "       '2014-08-13T00:00:00.000000000', '2014-08-12T00:00:00.000000000',\n",
              "       '2014-08-11T00:00:00.000000000', '2014-08-10T00:00:00.000000000',\n",
              "       '2014-08-09T00:00:00.000000000', '2014-08-08T00:00:00.000000000',\n",
              "       '2014-08-07T00:00:00.000000000', '2014-08-06T00:00:00.000000000',\n",
              "       '2014-08-05T00:00:00.000000000', '2014-08-04T00:00:00.000000000',\n",
              "       '2014-08-03T00:00:00.000000000', '2014-08-02T00:00:00.000000000',\n",
              "       '2014-08-01T00:00:00.000000000', '2014-07-31T00:00:00.000000000',\n",
              "       '2014-07-30T00:00:00.000000000', '2014-07-29T00:00:00.000000000',\n",
              "       '2014-07-28T00:00:00.000000000', '2014-07-27T00:00:00.000000000',\n",
              "       '2014-07-26T00:00:00.000000000', '2014-07-25T00:00:00.000000000',\n",
              "       '2014-07-24T00:00:00.000000000', '2014-07-23T00:00:00.000000000',\n",
              "       '2014-07-22T00:00:00.000000000', '2014-07-21T00:00:00.000000000',\n",
              "       '2014-07-20T00:00:00.000000000', '2014-07-19T00:00:00.000000000',\n",
              "       '2014-07-18T00:00:00.000000000', '2014-07-17T00:00:00.000000000',\n",
              "       '2014-07-16T00:00:00.000000000', '2014-07-15T00:00:00.000000000',\n",
              "       '2014-07-14T00:00:00.000000000', '2014-07-13T00:00:00.000000000',\n",
              "       '2014-07-12T00:00:00.000000000', '2014-07-11T00:00:00.000000000',\n",
              "       '2014-07-10T00:00:00.000000000', '2014-07-09T00:00:00.000000000',\n",
              "       '2014-07-08T00:00:00.000000000', '2014-07-07T00:00:00.000000000',\n",
              "       '2014-07-06T00:00:00.000000000', '2014-07-05T00:00:00.000000000',\n",
              "       '2014-07-04T00:00:00.000000000', '2014-07-03T00:00:00.000000000',\n",
              "       '2014-07-02T00:00:00.000000000', '2014-07-01T00:00:00.000000000',\n",
              "       '2014-06-30T00:00:00.000000000', '2014-06-29T00:00:00.000000000',\n",
              "       '2014-06-28T00:00:00.000000000', '2014-06-27T00:00:00.000000000',\n",
              "       '2014-06-26T00:00:00.000000000', '2014-06-25T00:00:00.000000000',\n",
              "       '2014-06-24T00:00:00.000000000', '2014-06-23T00:00:00.000000000',\n",
              "       '2014-06-22T00:00:00.000000000', '2014-06-21T00:00:00.000000000',\n",
              "       '2014-06-20T00:00:00.000000000', '2014-06-19T00:00:00.000000000',\n",
              "       '2014-06-18T00:00:00.000000000', '2014-06-17T00:00:00.000000000',\n",
              "       '2014-06-16T00:00:00.000000000', '2014-06-15T00:00:00.000000000',\n",
              "       '2014-06-14T00:00:00.000000000', '2014-06-13T00:00:00.000000000',\n",
              "       '2014-06-12T00:00:00.000000000', '2014-06-11T00:00:00.000000000',\n",
              "       '2014-06-10T00:00:00.000000000', '2014-06-09T00:00:00.000000000',\n",
              "       '2014-06-08T00:00:00.000000000', '2014-06-07T00:00:00.000000000',\n",
              "       '2014-06-06T00:00:00.000000000', '2014-06-05T00:00:00.000000000',\n",
              "       '2014-06-04T00:00:00.000000000', '2014-06-03T00:00:00.000000000',\n",
              "       '2014-06-02T00:00:00.000000000', '2014-06-01T00:00:00.000000000',\n",
              "       '2014-05-31T00:00:00.000000000', '2014-05-30T00:00:00.000000000',\n",
              "       '2014-05-29T00:00:00.000000000', '2014-05-28T00:00:00.000000000',\n",
              "       '2014-05-27T00:00:00.000000000', '2014-05-26T00:00:00.000000000',\n",
              "       '2014-05-25T00:00:00.000000000', '2014-05-24T00:00:00.000000000',\n",
              "       '2014-05-23T00:00:00.000000000', '2014-05-22T00:00:00.000000000',\n",
              "       '2014-05-21T00:00:00.000000000', '2014-05-20T00:00:00.000000000',\n",
              "       '2014-05-19T00:00:00.000000000', '2014-05-18T00:00:00.000000000',\n",
              "       '2014-05-17T00:00:00.000000000', '2014-05-16T00:00:00.000000000',\n",
              "       '2014-05-15T00:00:00.000000000', '2014-05-14T00:00:00.000000000',\n",
              "       '2014-05-13T00:00:00.000000000', '2014-05-12T00:00:00.000000000',\n",
              "       '2014-05-11T00:00:00.000000000', '2014-05-10T00:00:00.000000000',\n",
              "       '2014-05-09T00:00:00.000000000', '2014-05-08T00:00:00.000000000',\n",
              "       '2014-05-07T00:00:00.000000000', '2014-05-06T00:00:00.000000000',\n",
              "       '2014-05-05T00:00:00.000000000', '2014-05-04T00:00:00.000000000',\n",
              "       '2014-05-03T00:00:00.000000000', '2014-05-02T00:00:00.000000000',\n",
              "       '2014-05-01T00:00:00.000000000', '2014-04-30T00:00:00.000000000',\n",
              "       '2014-04-29T00:00:00.000000000', '2014-04-28T00:00:00.000000000',\n",
              "       '2014-04-27T00:00:00.000000000', '2014-04-26T00:00:00.000000000',\n",
              "       '2014-04-25T00:00:00.000000000', '2014-04-24T00:00:00.000000000',\n",
              "       '2014-04-23T00:00:00.000000000', '2014-04-22T00:00:00.000000000',\n",
              "       '2014-04-21T00:00:00.000000000', '2014-04-20T00:00:00.000000000',\n",
              "       '2014-04-19T00:00:00.000000000', '2014-04-18T00:00:00.000000000',\n",
              "       '2014-04-17T00:00:00.000000000', '2014-04-16T00:00:00.000000000',\n",
              "       '2014-04-15T00:00:00.000000000', '2014-04-14T00:00:00.000000000',\n",
              "       '2014-04-13T00:00:00.000000000', '2014-04-12T00:00:00.000000000',\n",
              "       '2014-04-11T00:00:00.000000000', '2014-04-10T00:00:00.000000000',\n",
              "       '2014-04-09T00:00:00.000000000', '2014-04-08T00:00:00.000000000',\n",
              "       '2014-04-07T00:00:00.000000000', '2014-04-06T00:00:00.000000000',\n",
              "       '2014-04-05T00:00:00.000000000', '2014-04-04T00:00:00.000000000',\n",
              "       '2014-04-03T00:00:00.000000000', '2014-04-02T00:00:00.000000000',\n",
              "       '2014-04-01T00:00:00.000000000', '2014-03-31T00:00:00.000000000',\n",
              "       '2014-03-30T00:00:00.000000000', '2014-03-29T00:00:00.000000000',\n",
              "       '2014-03-28T00:00:00.000000000', '2014-03-27T00:00:00.000000000',\n",
              "       '2014-03-26T00:00:00.000000000', '2014-03-25T00:00:00.000000000',\n",
              "       '2014-03-24T00:00:00.000000000', '2014-03-23T00:00:00.000000000',\n",
              "       '2014-03-22T00:00:00.000000000', '2014-03-21T00:00:00.000000000',\n",
              "       '2014-03-20T00:00:00.000000000', '2014-03-19T00:00:00.000000000',\n",
              "       '2014-03-18T00:00:00.000000000', '2014-03-17T00:00:00.000000000',\n",
              "       '2014-03-16T00:00:00.000000000', '2014-03-15T00:00:00.000000000',\n",
              "       '2014-03-14T00:00:00.000000000', '2014-03-13T00:00:00.000000000',\n",
              "       '2014-03-12T00:00:00.000000000', '2014-03-11T00:00:00.000000000',\n",
              "       '2014-03-10T00:00:00.000000000', '2014-03-09T00:00:00.000000000',\n",
              "       '2014-03-08T00:00:00.000000000', '2014-03-07T00:00:00.000000000',\n",
              "       '2014-03-06T00:00:00.000000000', '2014-03-05T00:00:00.000000000',\n",
              "       '2014-03-04T00:00:00.000000000', '2014-03-03T00:00:00.000000000',\n",
              "       '2014-03-02T00:00:00.000000000', '2014-03-01T00:00:00.000000000',\n",
              "       '2014-02-28T00:00:00.000000000', '2014-02-27T00:00:00.000000000',\n",
              "       '2014-02-26T00:00:00.000000000', '2014-02-25T00:00:00.000000000',\n",
              "       '2014-02-24T00:00:00.000000000', '2014-02-23T00:00:00.000000000',\n",
              "       '2014-02-22T00:00:00.000000000', '2014-02-21T00:00:00.000000000',\n",
              "       '2014-02-20T00:00:00.000000000', '2014-02-19T00:00:00.000000000',\n",
              "       '2014-02-18T00:00:00.000000000', '2014-02-17T00:00:00.000000000',\n",
              "       '2014-02-16T00:00:00.000000000', '2014-02-15T00:00:00.000000000',\n",
              "       '2014-02-14T00:00:00.000000000', '2014-02-13T00:00:00.000000000',\n",
              "       '2014-02-12T00:00:00.000000000', '2014-02-11T00:00:00.000000000',\n",
              "       '2014-02-10T00:00:00.000000000', '2014-02-09T00:00:00.000000000',\n",
              "       '2014-02-08T00:00:00.000000000', '2014-02-07T00:00:00.000000000',\n",
              "       '2014-02-06T00:00:00.000000000', '2014-02-05T00:00:00.000000000',\n",
              "       '2014-02-04T00:00:00.000000000', '2014-02-03T00:00:00.000000000',\n",
              "       '2014-02-02T00:00:00.000000000', '2014-02-01T00:00:00.000000000',\n",
              "       '2014-01-31T00:00:00.000000000', '2014-01-30T00:00:00.000000000',\n",
              "       '2014-01-29T00:00:00.000000000', '2014-01-28T00:00:00.000000000',\n",
              "       '2014-01-27T00:00:00.000000000', '2014-01-26T00:00:00.000000000',\n",
              "       '2014-01-25T00:00:00.000000000', '2014-01-24T00:00:00.000000000',\n",
              "       '2014-01-23T00:00:00.000000000', '2014-01-22T00:00:00.000000000',\n",
              "       '2014-01-21T00:00:00.000000000', '2014-01-20T00:00:00.000000000',\n",
              "       '2014-01-19T00:00:00.000000000', '2014-01-18T00:00:00.000000000',\n",
              "       '2014-01-17T00:00:00.000000000', '2014-01-16T00:00:00.000000000',\n",
              "       '2014-01-15T00:00:00.000000000', '2014-01-14T00:00:00.000000000',\n",
              "       '2014-01-13T00:00:00.000000000', '2014-01-12T00:00:00.000000000',\n",
              "       '2014-01-11T00:00:00.000000000', '2014-01-10T00:00:00.000000000',\n",
              "       '2014-01-09T00:00:00.000000000', '2014-01-08T00:00:00.000000000',\n",
              "       '2014-01-07T00:00:00.000000000', '2014-01-06T00:00:00.000000000',\n",
              "       '2014-01-05T00:00:00.000000000', '2014-01-04T00:00:00.000000000',\n",
              "       '2014-01-03T00:00:00.000000000', '2014-01-02T00:00:00.000000000',\n",
              "       '2014-01-01T00:00:00.000000000', '2013-12-31T00:00:00.000000000',\n",
              "       '2013-12-30T00:00:00.000000000', '2013-12-29T00:00:00.000000000',\n",
              "       '2013-12-28T00:00:00.000000000', '2013-12-27T00:00:00.000000000',\n",
              "       '2013-12-26T00:00:00.000000000', '2013-12-25T00:00:00.000000000',\n",
              "       '2013-12-24T00:00:00.000000000', '2013-12-23T00:00:00.000000000',\n",
              "       '2013-12-22T00:00:00.000000000', '2013-12-21T00:00:00.000000000',\n",
              "       '2013-12-20T00:00:00.000000000', '2013-12-19T00:00:00.000000000',\n",
              "       '2013-12-18T00:00:00.000000000', '2013-12-17T00:00:00.000000000',\n",
              "       '2013-12-16T00:00:00.000000000', '2013-12-15T00:00:00.000000000',\n",
              "       '2013-12-14T00:00:00.000000000', '2013-12-13T00:00:00.000000000',\n",
              "       '2013-12-12T00:00:00.000000000', '2013-12-11T00:00:00.000000000',\n",
              "       '2013-12-10T00:00:00.000000000', '2013-12-09T00:00:00.000000000',\n",
              "       '2013-12-08T00:00:00.000000000', '2013-12-07T00:00:00.000000000',\n",
              "       '2013-12-06T00:00:00.000000000', '2013-12-05T00:00:00.000000000',\n",
              "       '2013-12-04T00:00:00.000000000', '2013-12-03T00:00:00.000000000',\n",
              "       '2013-12-02T00:00:00.000000000', '2013-12-01T00:00:00.000000000',\n",
              "       '2013-11-30T00:00:00.000000000', '2013-11-29T00:00:00.000000000',\n",
              "       '2013-11-28T00:00:00.000000000', '2013-11-27T00:00:00.000000000',\n",
              "       '2013-11-26T00:00:00.000000000', '2013-11-25T00:00:00.000000000',\n",
              "       '2013-11-24T00:00:00.000000000', '2013-11-23T00:00:00.000000000',\n",
              "       '2013-11-22T00:00:00.000000000', '2013-11-21T00:00:00.000000000',\n",
              "       '2013-11-20T00:00:00.000000000', '2013-11-19T00:00:00.000000000',\n",
              "       '2013-11-18T00:00:00.000000000', '2013-11-17T00:00:00.000000000',\n",
              "       '2013-11-16T00:00:00.000000000', '2013-11-15T00:00:00.000000000',\n",
              "       '2013-11-14T00:00:00.000000000', '2013-11-13T00:00:00.000000000',\n",
              "       '2013-11-12T00:00:00.000000000', '2013-11-11T00:00:00.000000000',\n",
              "       '2013-11-10T00:00:00.000000000', '2013-11-09T00:00:00.000000000',\n",
              "       '2013-11-08T00:00:00.000000000', '2013-11-07T00:00:00.000000000',\n",
              "       '2013-11-06T00:00:00.000000000', '2013-11-05T00:00:00.000000000',\n",
              "       '2013-11-04T00:00:00.000000000', '2013-11-03T00:00:00.000000000',\n",
              "       '2013-11-02T00:00:00.000000000', '2013-11-01T00:00:00.000000000',\n",
              "       '2013-10-31T00:00:00.000000000', '2013-10-30T00:00:00.000000000',\n",
              "       '2013-10-29T00:00:00.000000000', '2013-10-28T00:00:00.000000000',\n",
              "       '2013-10-27T00:00:00.000000000', '2013-10-26T00:00:00.000000000',\n",
              "       '2013-10-25T00:00:00.000000000', '2013-10-24T00:00:00.000000000',\n",
              "       '2013-10-23T00:00:00.000000000', '2013-10-22T00:00:00.000000000',\n",
              "       '2013-10-21T00:00:00.000000000', '2013-10-20T00:00:00.000000000',\n",
              "       '2013-10-19T00:00:00.000000000', '2013-10-18T00:00:00.000000000',\n",
              "       '2013-10-17T00:00:00.000000000', '2013-10-16T00:00:00.000000000',\n",
              "       '2013-10-15T00:00:00.000000000', '2013-10-14T00:00:00.000000000',\n",
              "       '2013-10-13T00:00:00.000000000', '2013-10-12T00:00:00.000000000',\n",
              "       '2013-10-11T00:00:00.000000000', '2013-10-10T00:00:00.000000000',\n",
              "       '2013-10-09T00:00:00.000000000', '2013-10-08T00:00:00.000000000',\n",
              "       '2013-10-07T00:00:00.000000000', '2013-10-06T00:00:00.000000000',\n",
              "       '2013-10-05T00:00:00.000000000', '2013-10-04T00:00:00.000000000',\n",
              "       '2013-10-03T00:00:00.000000000', '2013-10-02T00:00:00.000000000',\n",
              "       '2013-10-01T00:00:00.000000000', '2013-09-30T00:00:00.000000000',\n",
              "       '2013-09-29T00:00:00.000000000', '2013-09-28T00:00:00.000000000',\n",
              "       '2013-09-27T00:00:00.000000000', '2013-09-26T00:00:00.000000000',\n",
              "       '2013-09-25T00:00:00.000000000', '2013-09-24T00:00:00.000000000',\n",
              "       '2013-09-23T00:00:00.000000000', '2013-09-22T00:00:00.000000000',\n",
              "       '2013-09-21T00:00:00.000000000', '2013-09-20T00:00:00.000000000',\n",
              "       '2013-09-19T00:00:00.000000000', '2013-09-18T00:00:00.000000000',\n",
              "       '2013-09-17T00:00:00.000000000', '2013-09-16T00:00:00.000000000',\n",
              "       '2013-09-15T00:00:00.000000000', '2013-09-14T00:00:00.000000000',\n",
              "       '2013-09-13T00:00:00.000000000', '2013-09-12T00:00:00.000000000',\n",
              "       '2013-09-11T00:00:00.000000000', '2013-09-10T00:00:00.000000000',\n",
              "       '2013-09-09T00:00:00.000000000', '2013-09-08T00:00:00.000000000',\n",
              "       '2013-09-07T00:00:00.000000000', '2013-09-06T00:00:00.000000000',\n",
              "       '2013-09-05T00:00:00.000000000', '2013-09-04T00:00:00.000000000',\n",
              "       '2013-09-03T00:00:00.000000000', '2013-09-02T00:00:00.000000000',\n",
              "       '2013-09-01T00:00:00.000000000', '2013-08-31T00:00:00.000000000',\n",
              "       '2013-08-30T00:00:00.000000000', '2013-08-29T00:00:00.000000000',\n",
              "       '2013-08-28T00:00:00.000000000', '2013-08-27T00:00:00.000000000',\n",
              "       '2013-08-26T00:00:00.000000000', '2013-08-25T00:00:00.000000000',\n",
              "       '2013-08-24T00:00:00.000000000', '2013-08-23T00:00:00.000000000',\n",
              "       '2013-08-22T00:00:00.000000000', '2013-08-21T00:00:00.000000000',\n",
              "       '2013-08-20T00:00:00.000000000', '2013-08-19T00:00:00.000000000',\n",
              "       '2013-08-18T00:00:00.000000000', '2013-08-17T00:00:00.000000000',\n",
              "       '2013-08-16T00:00:00.000000000', '2013-08-15T00:00:00.000000000',\n",
              "       '2013-08-14T00:00:00.000000000', '2013-08-13T00:00:00.000000000',\n",
              "       '2013-08-12T00:00:00.000000000', '2013-08-11T00:00:00.000000000',\n",
              "       '2013-08-10T00:00:00.000000000', '2013-08-09T00:00:00.000000000',\n",
              "       '2013-08-08T00:00:00.000000000', '2013-08-07T00:00:00.000000000',\n",
              "       '2013-08-06T00:00:00.000000000', '2013-08-05T00:00:00.000000000',\n",
              "       '2013-08-04T00:00:00.000000000', '2013-08-03T00:00:00.000000000',\n",
              "       '2013-08-02T00:00:00.000000000', '2013-08-01T00:00:00.000000000',\n",
              "       '2013-07-31T00:00:00.000000000', '2013-07-30T00:00:00.000000000',\n",
              "       '2013-07-29T00:00:00.000000000', '2013-07-28T00:00:00.000000000',\n",
              "       '2013-07-27T00:00:00.000000000', '2013-07-26T00:00:00.000000000',\n",
              "       '2013-07-25T00:00:00.000000000', '2013-07-24T00:00:00.000000000',\n",
              "       '2013-07-23T00:00:00.000000000', '2013-07-22T00:00:00.000000000',\n",
              "       '2013-07-21T00:00:00.000000000', '2013-07-20T00:00:00.000000000',\n",
              "       '2013-07-19T00:00:00.000000000', '2013-07-18T00:00:00.000000000',\n",
              "       '2013-07-17T00:00:00.000000000', '2013-07-16T00:00:00.000000000',\n",
              "       '2013-07-15T00:00:00.000000000', '2013-07-14T00:00:00.000000000',\n",
              "       '2013-07-13T00:00:00.000000000', '2013-07-12T00:00:00.000000000',\n",
              "       '2013-07-11T00:00:00.000000000', '2013-07-10T00:00:00.000000000',\n",
              "       '2013-07-09T00:00:00.000000000', '2013-07-08T00:00:00.000000000',\n",
              "       '2013-07-07T00:00:00.000000000', '2013-07-06T00:00:00.000000000',\n",
              "       '2013-07-05T00:00:00.000000000', '2013-07-04T00:00:00.000000000',\n",
              "       '2013-07-03T00:00:00.000000000', '2013-07-02T00:00:00.000000000',\n",
              "       '2013-07-01T00:00:00.000000000', '2013-06-30T00:00:00.000000000',\n",
              "       '2013-06-29T00:00:00.000000000', '2013-06-28T00:00:00.000000000',\n",
              "       '2013-06-27T00:00:00.000000000', '2013-06-26T00:00:00.000000000',\n",
              "       '2013-06-25T00:00:00.000000000', '2013-06-24T00:00:00.000000000',\n",
              "       '2013-06-23T00:00:00.000000000', '2013-06-22T00:00:00.000000000',\n",
              "       '2013-06-21T00:00:00.000000000', '2013-06-20T00:00:00.000000000',\n",
              "       '2013-06-19T00:00:00.000000000', '2013-06-18T00:00:00.000000000',\n",
              "       '2013-06-17T00:00:00.000000000', '2013-06-16T00:00:00.000000000',\n",
              "       '2013-06-15T00:00:00.000000000', '2013-06-14T00:00:00.000000000',\n",
              "       '2013-06-13T00:00:00.000000000', '2013-06-12T00:00:00.000000000',\n",
              "       '2013-06-11T00:00:00.000000000', '2013-06-10T00:00:00.000000000',\n",
              "       '2013-06-09T00:00:00.000000000', '2013-06-08T00:00:00.000000000',\n",
              "       '2013-06-07T00:00:00.000000000', '2013-06-06T00:00:00.000000000',\n",
              "       '2013-06-05T00:00:00.000000000', '2013-06-04T00:00:00.000000000',\n",
              "       '2013-06-03T00:00:00.000000000', '2013-06-02T00:00:00.000000000',\n",
              "       '2013-06-01T00:00:00.000000000', '2013-05-31T00:00:00.000000000',\n",
              "       '2013-05-30T00:00:00.000000000', '2013-05-29T00:00:00.000000000',\n",
              "       '2013-05-28T00:00:00.000000000', '2013-05-27T00:00:00.000000000',\n",
              "       '2013-05-26T00:00:00.000000000', '2013-05-25T00:00:00.000000000',\n",
              "       '2013-05-24T00:00:00.000000000', '2013-05-23T00:00:00.000000000',\n",
              "       '2013-05-22T00:00:00.000000000', '2013-05-21T00:00:00.000000000',\n",
              "       '2013-05-20T00:00:00.000000000', '2013-05-19T00:00:00.000000000',\n",
              "       '2013-05-18T00:00:00.000000000', '2013-05-17T00:00:00.000000000',\n",
              "       '2013-05-16T00:00:00.000000000', '2013-05-15T00:00:00.000000000',\n",
              "       '2013-05-14T00:00:00.000000000', '2013-05-13T00:00:00.000000000',\n",
              "       '2013-05-12T00:00:00.000000000', '2013-05-11T00:00:00.000000000',\n",
              "       '2013-05-10T00:00:00.000000000', '2013-05-09T00:00:00.000000000',\n",
              "       '2013-05-08T00:00:00.000000000', '2013-05-07T00:00:00.000000000',\n",
              "       '2013-05-06T00:00:00.000000000', '2013-05-05T00:00:00.000000000',\n",
              "       '2013-05-04T00:00:00.000000000', '2013-05-03T00:00:00.000000000',\n",
              "       '2013-05-02T00:00:00.000000000', '2013-05-01T00:00:00.000000000',\n",
              "       '2013-04-30T00:00:00.000000000', '2013-04-29T00:00:00.000000000',\n",
              "       '2013-04-28T00:00:00.000000000', '2013-04-27T00:00:00.000000000',\n",
              "       '2013-04-26T00:00:00.000000000', '2013-04-25T00:00:00.000000000',\n",
              "       '2013-04-24T00:00:00.000000000', '2013-04-23T00:00:00.000000000',\n",
              "       '2013-04-22T00:00:00.000000000', '2013-04-21T00:00:00.000000000',\n",
              "       '2013-04-20T00:00:00.000000000', '2013-04-19T00:00:00.000000000',\n",
              "       '2013-04-18T00:00:00.000000000', '2013-04-17T00:00:00.000000000',\n",
              "       '2013-04-16T00:00:00.000000000', '2013-04-15T00:00:00.000000000',\n",
              "       '2013-04-14T00:00:00.000000000', '2013-04-13T00:00:00.000000000',\n",
              "       '2013-04-12T00:00:00.000000000', '2013-04-11T00:00:00.000000000',\n",
              "       '2013-04-10T00:00:00.000000000', '2013-04-09T00:00:00.000000000',\n",
              "       '2013-04-08T00:00:00.000000000', '2013-04-07T00:00:00.000000000',\n",
              "       '2013-04-06T00:00:00.000000000', '2013-04-05T00:00:00.000000000',\n",
              "       '2013-04-04T00:00:00.000000000', '2013-04-03T00:00:00.000000000',\n",
              "       '2013-04-02T00:00:00.000000000', '2013-04-01T00:00:00.000000000',\n",
              "       '2013-03-31T00:00:00.000000000', '2013-03-30T00:00:00.000000000',\n",
              "       '2013-03-29T00:00:00.000000000', '2013-03-28T00:00:00.000000000',\n",
              "       '2013-03-27T00:00:00.000000000', '2013-03-26T00:00:00.000000000',\n",
              "       '2013-03-25T00:00:00.000000000', '2013-03-24T00:00:00.000000000',\n",
              "       '2013-03-23T00:00:00.000000000', '2013-03-22T00:00:00.000000000',\n",
              "       '2013-03-21T00:00:00.000000000', '2013-03-20T00:00:00.000000000',\n",
              "       '2013-03-19T00:00:00.000000000', '2013-03-18T00:00:00.000000000',\n",
              "       '2013-03-17T00:00:00.000000000', '2013-03-16T00:00:00.000000000',\n",
              "       '2013-03-15T00:00:00.000000000', '2013-03-14T00:00:00.000000000',\n",
              "       '2013-03-13T00:00:00.000000000', '2013-03-12T00:00:00.000000000',\n",
              "       '2013-03-11T00:00:00.000000000', '2013-03-10T00:00:00.000000000',\n",
              "       '2013-03-09T00:00:00.000000000', '2013-03-08T00:00:00.000000000',\n",
              "       '2013-03-07T00:00:00.000000000', '2013-03-06T00:00:00.000000000',\n",
              "       '2013-03-05T00:00:00.000000000', '2013-03-04T00:00:00.000000000',\n",
              "       '2013-03-03T00:00:00.000000000', '2013-03-02T00:00:00.000000000',\n",
              "       '2013-03-01T00:00:00.000000000', '2013-02-28T00:00:00.000000000',\n",
              "       '2013-02-27T00:00:00.000000000', '2013-02-26T00:00:00.000000000',\n",
              "       '2013-02-25T00:00:00.000000000', '2013-02-24T00:00:00.000000000',\n",
              "       '2013-02-23T00:00:00.000000000', '2013-02-22T00:00:00.000000000',\n",
              "       '2013-02-21T00:00:00.000000000', '2013-02-20T00:00:00.000000000',\n",
              "       '2013-02-19T00:00:00.000000000', '2013-02-18T00:00:00.000000000',\n",
              "       '2013-02-17T00:00:00.000000000', '2013-02-16T00:00:00.000000000',\n",
              "       '2013-02-15T00:00:00.000000000', '2013-02-14T00:00:00.000000000',\n",
              "       '2013-02-13T00:00:00.000000000', '2013-02-12T00:00:00.000000000',\n",
              "       '2013-02-11T00:00:00.000000000', '2013-02-10T00:00:00.000000000',\n",
              "       '2013-02-09T00:00:00.000000000', '2013-02-08T00:00:00.000000000',\n",
              "       '2013-02-07T00:00:00.000000000', '2013-02-06T00:00:00.000000000',\n",
              "       '2013-02-05T00:00:00.000000000', '2013-02-04T00:00:00.000000000',\n",
              "       '2013-02-03T00:00:00.000000000', '2013-02-02T00:00:00.000000000',\n",
              "       '2013-02-01T00:00:00.000000000', '2013-01-31T00:00:00.000000000',\n",
              "       '2013-01-30T00:00:00.000000000', '2013-01-29T00:00:00.000000000',\n",
              "       '2013-01-28T00:00:00.000000000', '2013-01-27T00:00:00.000000000',\n",
              "       '2013-01-26T00:00:00.000000000', '2013-01-25T00:00:00.000000000',\n",
              "       '2013-01-24T00:00:00.000000000', '2013-01-23T00:00:00.000000000',\n",
              "       '2013-01-22T00:00:00.000000000', '2013-01-21T00:00:00.000000000',\n",
              "       '2013-01-20T00:00:00.000000000', '2013-01-19T00:00:00.000000000',\n",
              "       '2013-01-18T00:00:00.000000000', '2013-01-17T00:00:00.000000000',\n",
              "       '2013-01-16T00:00:00.000000000', '2013-01-15T00:00:00.000000000',\n",
              "       '2013-01-14T00:00:00.000000000', '2013-01-13T00:00:00.000000000',\n",
              "       '2013-01-12T00:00:00.000000000', '2013-01-11T00:00:00.000000000',\n",
              "       '2013-01-10T00:00:00.000000000', '2013-01-09T00:00:00.000000000',\n",
              "       '2013-01-08T00:00:00.000000000', '2013-01-07T00:00:00.000000000',\n",
              "       '2013-01-06T00:00:00.000000000', '2013-01-05T00:00:00.000000000',\n",
              "       '2013-01-04T00:00:00.000000000', '2013-01-03T00:00:00.000000000',\n",
              "       '2013-01-02T00:00:00.000000000', '2013-01-01T00:00:00.000000000'],\n",
              "      dtype='datetime64[ns]')"
            ]
          },
          "metadata": {},
          "execution_count": 187
        }
      ]
    },
    {
      "cell_type": "markdown",
      "metadata": {
        "id": "3XZ7jAzhlRr-"
      },
      "source": [
        "<B>The dataset is from 1 January 2013 to 31 July 2015 , i.e. approx. 2.5 yrs."
      ]
    },
    {
      "cell_type": "code",
      "metadata": {
        "id": "9mNJneFwks_a",
        "colab": {
          "base_uri": "https://localhost:8080/"
        },
        "outputId": "2319e98f-6876-44d1-f397-6c98f790244b"
      },
      "source": [
        "li = [\"DayOfWeek\" , \"StateHoliday\" , \"SchoolHoliday\"]\n",
        "\n",
        "for i in li:\n",
        "  print(i)\n",
        "  print(data2[i].unique())\n",
        "  print(\"-----------------------\")"
      ],
      "execution_count": 188,
      "outputs": [
        {
          "output_type": "stream",
          "name": "stdout",
          "text": [
            "DayOfWeek\n",
            "[5 4 3 2 1 7 6]\n",
            "-----------------------\n",
            "StateHoliday\n",
            "[0 1]\n",
            "-----------------------\n",
            "SchoolHoliday\n",
            "[1 0]\n",
            "-----------------------\n"
          ]
        }
      ]
    },
    {
      "cell_type": "markdown",
      "metadata": {
        "id": "QvhpK1tEldmR"
      },
      "source": [
        "<b>a = public holiday, b = Easter holiday, c = Christmas, 0 = No holidays\n",
        "\n",
        "Indicates if the (Store, Date) was affected by the closure of public schools"
      ]
    },
    {
      "cell_type": "code",
      "metadata": {
        "id": "mhRITsKrktDO",
        "colab": {
          "base_uri": "https://localhost:8080/"
        },
        "outputId": "3cf823dc-475b-48ed-e31e-3387c18d1197"
      },
      "source": [
        "data.Store.nunique()"
      ],
      "execution_count": 189,
      "outputs": [
        {
          "output_type": "execute_result",
          "data": {
            "text/plain": [
              "1115"
            ]
          },
          "metadata": {},
          "execution_count": 189
        }
      ]
    },
    {
      "cell_type": "markdown",
      "metadata": {
        "id": "j9gw-2W4bxhb"
      },
      "source": [
        "#<b>3. Exploratory Data Analysis"
      ]
    },
    {
      "cell_type": "markdown",
      "metadata": {
        "id": "FcTMfHJ3U0Bv"
      },
      "source": [
        "## 3.1 Opened store"
      ]
    },
    {
      "cell_type": "code",
      "metadata": {
        "colab": {
          "base_uri": "https://localhost:8080/",
          "height": 285
        },
        "id": "gjCWiGd-CnWb",
        "outputId": "a3937e53-fde3-41f8-d971-7aa68384e0d3"
      },
      "source": [
        "# Open\n",
        "fig, (axis1) = plt.subplots(1,1,figsize=(15,4))\n",
        "sns.countplot(x='Open',hue='DayOfWeek', data=data,palette=\"husl\", ax=axis1)\n",
        "\n",
        "# fill NaN values in data with Open=1 if DayOfWeek != 7\n",
        "data[\"Open\"][data[\"Open\"] != data[\"Open\"]] = (data[\"DayOfWeek\"] != 7).astype(int)\n",
        "\n",
        "# Drop Open column\n",
        "\n",
        "data.drop(\"Open\", axis=1, inplace=True)"
      ],
      "execution_count": 108,
      "outputs": [
        {
          "output_type": "display_data",
          "data": {
            "image/png": "[encoded data removed]",
            "text/plain": [
              "<Figure size 1080x288 with 1 Axes>"
            ]
          },
          "metadata": {}
        }
      ]
    },
    {
      "cell_type": "markdown",
      "metadata": {
        "id": "GRMtUuU0nufS"
      },
      "source": [
        "## 3.2. Average Sales & Sales percent change"
      ]
    },
    {
      "cell_type": "code",
      "metadata": {
        "id": "7sHdX-s-idst"
      },
      "source": [
        "# Date\n",
        "\n",
        "# Create Year and Month columns\n",
        "\n",
        "data['Year']  = data['Date'].apply(lambda x: int(str(x)[:4]))\n",
        "data['Month'] = data['Date'].apply(lambda x: int(str(x)[5:7]))\n",
        "\n",
        "# Assign Date column to Date(Year-Month) instead of (Year-Month-Day)\n",
        "# this column will be useful in analysis and visualization\n",
        "\n",
        "data['Date'] = data['Date'].apply(lambda x: (str(x)[:7]))"
      ],
      "execution_count": 109,
      "outputs": []
    },
    {
      "cell_type": "markdown",
      "metadata": {
        "id": "acQOqmpoUHqe"
      },
      "source": [
        "## 3.3. Average sales over time(year-month)"
      ]
    },
    {
      "cell_type": "code",
      "metadata": {
        "id": "i0AHxBtkilIb",
        "colab": {
          "base_uri": "https://localhost:8080/",
          "height": 554
        },
        "outputId": "f6746115-e382-44de-9e58-9265fbd2e5de"
      },
      "source": [
        "# group by date and get average sales, and precent change\n",
        "average_sales    = data.groupby('Date')[\"Sales\"].mean()\n",
        "pct_change_sales = data.groupby('Date')[\"Sales\"].sum().pct_change()\n",
        "\n",
        "fig, (axis1,axis2) = plt.subplots(2,1,sharex=True,figsize=(15,8))\n",
        "\n",
        "# plot average sales over time(year-month)\n",
        "ax1 = average_sales.plot(legend=True,ax=axis1,marker='o',title=\"Average Sales\")\n",
        "ax1.set_xticks(range(len(average_sales)))\n",
        "ax1.set_xticklabels(average_sales.index.tolist(), rotation=90)\n",
        "\n",
        "# plot precent change for sales over time(year-month)\n",
        "ax2 = pct_change_sales.plot(legend=True,ax=axis2,marker='o',rot=90,colormap=\"summer\",title=\"Sales Percent Change\")\n",
        "# ax2.set_xticks(range(len(pct_change_sales)))\n",
        "# ax2.set_xticklabels(pct_change_sales.index.tolist(), rotation=90)"
      ],
      "execution_count": 110,
      "outputs": [
        {
          "output_type": "display_data",
          "data": {
            "image/png": "[encoded data removed]",
            "text/plain": [
              "<Figure size 1080x576 with 2 Axes>"
            ]
          },
          "metadata": {}
        }
      ]
    },
    {
      "cell_type": "markdown",
      "metadata": {
        "id": "-9wANckkUMYq"
      },
      "source": [
        "## 3.4. Average sales & customers for every year"
      ]
    },
    {
      "cell_type": "code",
      "metadata": {
        "id": "jBBPkWbaiub_",
        "colab": {
          "base_uri": "https://localhost:8080/",
          "height": 285
        },
        "outputId": "220ef26b-f467-4dc1-c810-1b5bd0963d6c"
      },
      "source": [
        "# .... contiune with Date\n",
        "\n",
        "# Plot average sales & customers for every year\n",
        "fig, (axis1,axis2) = plt.subplots(1,2,figsize=(15,4))\n",
        "\n",
        "sns.barplot(x='Year', y='Sales', data=data, ax=axis1)\n",
        "sns.barplot(x='Year', y='Customers', data=data, ax=axis2)\n",
        "\n",
        "# Drop Date column\n",
        "\n",
        "data.drop(['Date'], axis=1,inplace=True)"
      ],
      "execution_count": 111,
      "outputs": [
        {
          "output_type": "display_data",
          "data": {
            "image/png": "[encoded data removed]",
            "text/plain": [
              "<Figure size 1080x288 with 2 Axes>"
            ]
          },
          "metadata": {}
        }
      ]
    },
    {
      "cell_type": "markdown",
      "metadata": {
        "id": "CJKMFvJ-UQ20"
      },
      "source": [
        "##  3.5. DayOfWeek"
      ]
    },
    {
      "cell_type": "code",
      "metadata": {
        "colab": {
          "base_uri": "https://localhost:8080/",
          "height": 302
        },
        "id": "Yh8UJSCqD-7m",
        "outputId": "fab90bf0-11ec-42e8-81f7-af4e233eb776"
      },
      "source": [
        "# DayOfWeek\n",
        "# In both cases where the store is closed and opened\n",
        "\n",
        "fig, (axis1,axis2) = plt.subplots(1,2,figsize=(15,4))\n",
        "\n",
        "sns.barplot(x='DayOfWeek', y='Sales', data=data, order=[1,2,3,4,5,6,7], ax=axis1)\n",
        "sns.barplot(x='DayOfWeek', y='Customers', data=data, order=[1,2,3,4,5,6,7], ax=axis2)\n"
      ],
      "execution_count": 120,
      "outputs": [
        {
          "output_type": "execute_result",
          "data": {
            "text/plain": [
              "<matplotlib.axes._subplots.AxesSubplot at 0x7fd763148150>"
            ]
          },
          "metadata": {},
          "execution_count": 120
        },
        {
          "output_type": "display_data",
          "data": {
            "image/png": "[encoded data removed]",
            "text/plain": [
              "<Figure size 1080x288 with 2 Axes>"
            ]
          },
          "metadata": {}
        }
      ]
    },
    {
      "cell_type": "markdown",
      "metadata": {
        "id": "VW3hJ_UaUgbV"
      },
      "source": [
        "## 3.6. StateHoliday"
      ]
    },
    {
      "cell_type": "code",
      "metadata": {
        "colab": {
          "base_uri": "https://localhost:8080/",
          "height": 581
        },
        "id": "uPPZYYgfERoe",
        "outputId": "207084ac-1ed6-45b8-930d-a90379ebddef"
      },
      "source": [
        "# StateHoliday\n",
        "\n",
        "# StateHoliday column has values 0 & \"0\", So, we need to merge values with 0 to \"0\"\n",
        "data[\"StateHoliday\"].loc[data[\"StateHoliday\"] == 0] = \"0\"\n",
        "# data[\"StateHoliday\"].loc[data[\"StateHoliday\"] == 0] = \"0\"\n",
        "\n",
        "# Plot\n",
        "sns.countplot(x='StateHoliday', data=data)\n",
        "\n",
        "# Before\n",
        "fig, (axis1,axis2) = plt.subplots(1,2,figsize=(15,4))\n",
        "\n",
        "sns.barplot(x='StateHoliday', y='Sales', data=data, ax=axis1)\n",
        "\n",
        "mask = (data[\"StateHoliday\"] != \"0\") & (data[\"Sales\"] > 0)\n",
        "sns.barplot(x='StateHoliday', y='Sales', data=data[mask], ax=axis2)"
      ],
      "execution_count": 121,
      "outputs": [
        {
          "output_type": "execute_result",
          "data": {
            "text/plain": [
              "<matplotlib.axes._subplots.AxesSubplot at 0x7fd752aa88d0>"
            ]
          },
          "metadata": {},
          "execution_count": 121
        },
        {
          "output_type": "display_data",
          "data": {
            "image/png": "[encoded data removed]",
            "text/plain": [
              "<Figure size 432x288 with 1 Axes>"
            ]
          },
          "metadata": {}
        },
        {
          "output_type": "display_data",
          "data": {
            "image/png": "[encoded data removed]",
            "text/plain": [
              "<Figure size 1080x288 with 2 Axes>"
            ]
          },
          "metadata": {}
        }
      ]
    },
    {
      "cell_type": "markdown",
      "metadata": {
        "id": "ehuJE1D9VCK-"
      },
      "source": [
        "continue with StateHoliday"
      ]
    },
    {
      "cell_type": "code",
      "metadata": {
        "colab": {
          "base_uri": "https://localhost:8080/",
          "height": 302
        },
        "id": "HxZlQQptEb-7",
        "outputId": "2a14780b-6c49-428c-ba3a-f173659dbf73"
      },
      "source": [
        "# .... continue with StateHoliday\n",
        "\n",
        "# After\n",
        "# R_data[\"StateHoliday\"] = R_data[\"StateHoliday\"].map({0: 0, \"0\": 0, \"a\": 1, \"b\": 1, \"c\": 1})\n",
        "data[\"StateHoliday\"]     = data[\"StateHoliday\"].map({0: 0, \"0\": 0, \"a\": 1, \"b\": 1, \"c\": 1})\n",
        "\n",
        "fig, (axis1,axis2) = plt.subplots(1,2,figsize=(15,4))\n",
        "\n",
        "sns.barplot(x='StateHoliday', y='Sales', data=data, ax=axis1)\n",
        "sns.barplot(x='StateHoliday', y='Customers', data=data, ax=axis2)"
      ],
      "execution_count": 158,
      "outputs": [
        {
          "output_type": "execute_result",
          "data": {
            "text/plain": [
              "<matplotlib.axes._subplots.AxesSubplot at 0x7fd76768c310>"
            ]
          },
          "metadata": {},
          "execution_count": 158
        },
        {
          "output_type": "display_data",
          "data": {
            "image/png": "[encoded data removed]",
            "text/plain": [
              "<Figure size 1080x288 with 2 Axes>"
            ]
          },
          "metadata": {}
        }
      ]
    },
    {
      "cell_type": "markdown",
      "metadata": {
        "id": "G8n3xUtWEuOo"
      },
      "source": [
        "##<B>3.7. Sales affected by SchoolHoliday or not?"
      ]
    },
    {
      "cell_type": "code",
      "metadata": {
        "colab": {
          "base_uri": "https://localhost:8080/",
          "height": 570
        },
        "id": "EgnHFTq4Emep",
        "outputId": "b3283ae1-c43a-4c70-862e-7cd8ce077989"
      },
      "source": [
        "# SchoolHoliday\n",
        "\n",
        "# Plot\n",
        "sns.countplot(x='SchoolHoliday', data=data)\n",
        "\n",
        "fig, (axis1,axis2) = plt.subplots(1,2,figsize=(15,4))\n",
        "\n",
        "sns.barplot(x='SchoolHoliday', y='Sales', data=data, ax=axis1)\n",
        "sns.barplot(x='SchoolHoliday', y='Customers', data=data, ax=axis2)"
      ],
      "execution_count": 117,
      "outputs": [
        {
          "output_type": "execute_result",
          "data": {
            "text/plain": [
              "<matplotlib.axes._subplots.AxesSubplot at 0x7fd7540a91d0>"
            ]
          },
          "metadata": {},
          "execution_count": 117
        },
        {
          "output_type": "display_data",
          "data": {
            "image/png": "[encoded data removed]",
            "text/plain": [
              "<Figure size 432x288 with 1 Axes>"
            ]
          },
          "metadata": {}
        },
        {
          "output_type": "display_data",
          "data": {
            "image/png": "[encoded data removed]",
            "text/plain": [
              "<Figure size 1080x288 with 2 Axes>"
            ]
          },
          "metadata": {}
        }
      ]
    },
    {
      "cell_type": "code",
      "metadata": {
        "colab": {
          "base_uri": "https://localhost:8080/",
          "height": 373
        },
        "id": "EghC6cKXE3R6",
        "outputId": "2845d68b-c482-4caa-b7a2-dc5a25285dcf"
      },
      "source": [
        "labels = 'Not-Affected' , 'Affected'\n",
        "sizes = data.SchoolHoliday.value_counts()\n",
        "colors = ['gold', 'silver']\n",
        "explode = (0.1, 0.0)\n",
        "plt.pie(sizes, explode=explode, labels=labels, colors=colors,\n",
        "        autopct='%1.1f%%', shadow=True, startangle=180)\n",
        "plt.axis('equal')\n",
        "plt.title(\"Sales Affected by Schoolholiday or Not ?\")\n",
        "plt.plot()\n",
        "fig=plt.gcf()\n",
        "fig.set_size_inches(6,6)\n",
        "plt.show()"
      ],
      "execution_count": null,
      "outputs": [
        {
          "output_type": "display_data",
          "data": {
            "image/png": "[encoded data removed]",
            "text/plain": [
              "<Figure size 432x432 with 1 Axes>"
            ]
          },
          "metadata": {}
        }
      ]
    },
    {
      "cell_type": "markdown",
      "metadata": {
        "id": "IRGY3inbm3wB"
      },
      "source": [
        "##<B>3.8 Sales by StoreTypes"
      ]
    },
    {
      "cell_type": "code",
      "metadata": {
        "id": "Q3B2cAVm-D0c"
      },
      "source": [
        "temp = []\n",
        "for i in data.groupby('Store')[[\"Sales\", \"Customers\"]].mean()[\"Sales\"]:\n",
        "  temp.append(i)\n",
        "store[\"AvgSales\"] = temp"
      ],
      "execution_count": 190,
      "outputs": []
    },
    {
      "cell_type": "code",
      "metadata": {
        "id": "kLIwzpCN-gs4"
      },
      "source": [
        "temp = []\n",
        "for i in data.groupby('Store')[[\"Sales\", \"Customers\"]].mean()[\"Customers\"]:\n",
        "  temp.append(i)\n",
        "store[\"AvgCustomers\"] = temp"
      ],
      "execution_count": 191,
      "outputs": []
    },
    {
      "cell_type": "code",
      "metadata": {
        "id": "R7Re65pb-rY0",
        "colab": {
          "base_uri": "https://localhost:8080/",
          "height": 377
        },
        "outputId": "9e0c9dd5-13e8-417a-d1b0-e1103c3c5aa7"
      },
      "source": [
        "labels = 'a' , 'b' , 'c' , 'd'\n",
        "sizes = store.StoreType.value_counts()\n",
        "colors = ['orange', 'green' , 'red' , 'pink']\n",
        "explode = (0.1, 0.0 , 0.15 , 0.0)\n",
        "plt.pie(sizes, explode=explode, labels=labels, colors=colors,\n",
        "        autopct='%1.1f%%', shadow=True, startangle=180)\n",
        "plt.axis('equal')\n",
        "plt.title(\"Distribution of different StoreTypes\")\n",
        "plt.plot()\n",
        "fig=plt.gcf()\n",
        "fig.set_size_inches(6,6)\n",
        "plt.show()"
      ],
      "execution_count": 192,
      "outputs": [
        {
          "output_type": "display_data",
          "data": {
            "image/png": "[encoded data removed]",
            "text/plain": [
              "<Figure size 432x432 with 1 Axes>"
            ]
          },
          "metadata": {}
        }
      ]
    },
    {
      "cell_type": "markdown",
      "metadata": {
        "id": "MWHqXHwGQFM_"
      },
      "source": [
        "## 3.9. StoreType, & StoreType Vs average sales and customers"
      ]
    },
    {
      "cell_type": "code",
      "metadata": {
        "colab": {
          "base_uri": "https://localhost:8080/",
          "height": 570
        },
        "id": "Wn_BqT8AMA9q",
        "outputId": "a61879bf-152d-4d14-f036-9216ca5cf549"
      },
      "source": [
        "# StoreType \n",
        "\n",
        "# Plot StoreType, & StoreType Vs average sales and customers\n",
        "\n",
        "sns.countplot(x='StoreType', data=data, order=['a','b','c', 'd'])\n",
        "\n",
        "fig, (axis1,axis2) = plt.subplots(1,2,figsize=(15,4))\n",
        "\n",
        "sns.barplot(x='StoreType', y='Sales', data=data, order=['a','b','c', 'd'],ax=axis1)\n",
        "sns.barplot(x='StoreType', y='Customers', data=data, order=['a','b','c', 'd'], ax=axis2)"
      ],
      "execution_count": 193,
      "outputs": [
        {
          "output_type": "execute_result",
          "data": {
            "text/plain": [
              "<matplotlib.axes._subplots.AxesSubplot at 0x7fd76ac76690>"
            ]
          },
          "metadata": {},
          "execution_count": 193
        },
        {
          "output_type": "display_data",
          "data": {
            "image/png": "[encoded data removed]",
            "text/plain": [
              "<Figure size 432x288 with 1 Axes>"
            ]
          },
          "metadata": {}
        },
        {
          "output_type": "display_data",
          "data": {
            "image/png": "[encoded data removed]",
            "text/plain": [
              "<Figure size 1080x288 with 2 Axes>"
            ]
          },
          "metadata": {}
        }
      ]
    },
    {
      "cell_type": "markdown",
      "metadata": {
        "id": "9Qtd9VNNqkcA"
      },
      "source": [
        "#####<b>Stores which are opened on Sundays"
      ]
    },
    {
      "cell_type": "code",
      "metadata": {
        "id": "I3QB4mMU_EhN",
        "colab": {
          "base_uri": "https://localhost:8080/"
        },
        "outputId": "59da47d9-3709-4e27-b4fa-42b050838b82"
      },
      "source": [
        "store.isnull().sum()"
      ],
      "execution_count": null,
      "outputs": [
        {
          "output_type": "execute_result",
          "data": {
            "text/plain": [
              "Store                          0\n",
              "StoreType                      0\n",
              "Assortment                     0\n",
              "CompetitionDistance            0\n",
              "CompetitionOpenSinceMonth    354\n",
              "CompetitionOpenSinceYear     354\n",
              "Promo2                         0\n",
              "Promo2SinceWeek              544\n",
              "Promo2SinceYear              544\n",
              "PromoInterval                544\n",
              "Sales                          0\n",
              "Customers                      0\n",
              "dtype: int64"
            ]
          },
          "metadata": {},
          "execution_count": 292
        }
      ]
    },
    {
      "cell_type": "code",
      "metadata": {
        "colab": {
          "base_uri": "https://localhost:8080/"
        },
        "id": "62_k9vqLGvc-",
        "outputId": "631500da-1d54-4253-d43e-1caf2959788f"
      },
      "source": [
        "R_data.SchoolHoliday.value_counts()"
      ],
      "execution_count": null,
      "outputs": [
        {
          "output_type": "execute_result",
          "data": {
            "text/plain": [
              "0    835488\n",
              "1    181721\n",
              "Name: SchoolHoliday, dtype: int64"
            ]
          },
          "metadata": {},
          "execution_count": 293
        }
      ]
    },
    {
      "cell_type": "markdown",
      "metadata": {
        "id": "ZeJsPIM0QLVR"
      },
      "source": [
        "## 3.10. Assortment, & Assortment Vs average sales and customers"
      ]
    },
    {
      "cell_type": "code",
      "metadata": {
        "colab": {
          "base_uri": "https://localhost:8080/",
          "height": 570
        },
        "id": "vv80jr5NGJQr",
        "outputId": "d15084e7-87e5-4e60-d5da-e7e4fc7d0ce9"
      },
      "source": [
        "# Assortment \n",
        "\n",
        "# Plot Assortment, & Assortment Vs average sales and customers\n",
        "\n",
        "sns.countplot(x='Assortment', data=data, order=['a','b','c'])\n",
        "\n",
        "fig, (axis1,axis2) = plt.subplots(1,2,figsize=(15,4))\n",
        "\n",
        "sns.barplot(x='Assortment', y='Sales', data=data, order=['a','b','c'], ax=axis1)\n",
        "sns.barplot(x='Assortment', y='Customers', data=data, order=['a','b','c'], ax=axis2)"
      ],
      "execution_count": 123,
      "outputs": [
        {
          "output_type": "execute_result",
          "data": {
            "text/plain": [
              "<matplotlib.axes._subplots.AxesSubplot at 0x7fd7706ee6d0>"
            ]
          },
          "metadata": {},
          "execution_count": 123
        },
        {
          "output_type": "display_data",
          "data": {
            "image/png": "[encoded data removed]",
            "text/plain": [
              "<Figure size 432x288 with 1 Axes>"
            ]
          },
          "metadata": {}
        },
        {
          "output_type": "display_data",
          "data": {
            "image/png": "[encoded data removed]",
            "text/plain": [
              "<Figure size 1080x288 with 2 Axes>"
            ]
          },
          "metadata": {}
        }
      ]
    },
    {
      "cell_type": "markdown",
      "metadata": {
        "id": "TzBex2iMWXAa"
      },
      "source": [
        "## 3.11. CompetitionDistance"
      ]
    },
    {
      "cell_type": "code",
      "metadata": {
        "colab": {
          "base_uri": "https://localhost:8080/",
          "height": 590
        },
        "id": "06sJOsMOG_rn",
        "outputId": "99a494a1-12ae-41e4-9619-f2d9862d2aa9"
      },
      "source": [
        "# CompetitionDistance\n",
        "\n",
        "# Plot CompetitionDistance Vs Sales\n",
        "\n",
        "store.plot(kind='scatter',x='CompetitionDistance',y='AvgSales',figsize=(15,4))\n",
        "store.plot(kind='kde',x='CompetitionDistance',y='AvgSales',figsize=(15,4))"
      ],
      "execution_count": 197,
      "outputs": [
        {
          "output_type": "stream",
          "name": "stderr",
          "text": [
            "*c* argument looks like a single numeric RGB or RGBA sequence, which should be avoided as value-mapping will have precedence in case its length matches with *x* & *y*.  Please use the *color* keyword-argument or provide a 2-D array with a single row if you intend to specify the same RGB or RGBA value for all points.\n"
          ]
        },
        {
          "output_type": "execute_result",
          "data": {
            "text/plain": [
              "<matplotlib.axes._subplots.AxesSubplot at 0x7fd76a8d36d0>"
            ]
          },
          "metadata": {},
          "execution_count": 197
        },
        {
          "output_type": "display_data",
          "data": {
            "image/png": "[encoded data removed]",
            "text/plain": [
              "<Figure size 1080x288 with 1 Axes>"
            ]
          },
          "metadata": {}
        },
        {
          "output_type": "display_data",
          "data": {
            "image/png": "[encoded data removed]",
            "text/plain": [
              "<Figure size 1080x288 with 1 Axes>"
            ]
          },
          "metadata": {}
        }
      ]
    },
    {
      "cell_type": "code",
      "metadata": {
        "colab": {
          "base_uri": "https://localhost:8080/",
          "height": 322
        },
        "id": "jTRFmlWCHKeE",
        "outputId": "dd79f5de-51dd-4fc9-a312-b167d511d678"
      },
      "source": [
        "# What happened to the average sales of a store over time when competition started?\n",
        "# Example: the average sales for store_id = 6 has dramatically decreased since the competition started\n",
        "\n",
        "store_id = 6\n",
        "store_data = R_data[R_data[\"Store\"] == store_id]\n",
        "\n",
        "average_store_sales = store_data.groupby('Date')[\"Sales\"].mean()\n",
        "\n",
        "# Get year, and month when Competition started\n",
        "y = store[\"CompetitionOpenSinceYear\"].loc[store[\"Store\"]  == store_id].values[0]\n",
        "m = store[\"CompetitionOpenSinceMonth\"].loc[store[\"Store\"] == store_id].values[0]\n",
        "\n",
        "# Plot \n",
        "ax = average_store_sales.plot(legend=True,figsize=(15,4),marker='o')\n",
        "ax.set_xticks(range(len(average_store_sales)))\n",
        "ax.set_xticklabels(average_store_sales.index.tolist(), rotation=90)\n",
        "\n",
        "# Since all data of store sales given in rossmann_df starts with year=2013 till 2015,\n",
        "# So, we need to check if year>=2013 and y & m aren't NaN values.\n",
        "if y >= 2013 and y == y and m == m:\n",
        "    plt.axvline(x=((y-2013) * 12) + (m - 1), linewidth=3, color='grey')"
      ],
      "execution_count": null,
      "outputs": [
        {
          "output_type": "display_data",
          "data": {
            "image/png": "[encoded data removed]",
            "text/plain": [
              "<Figure size 1080x288 with 1 Axes>"
            ]
          },
          "metadata": {}
        }
      ]
    },
    {
      "cell_type": "markdown",
      "metadata": {
        "id": "NIUveg1heSGd"
      },
      "source": [
        "## 3.12. Sales by Season"
      ]
    },
    {
      "cell_type": "code",
      "metadata": {
        "colab": {
          "base_uri": "https://localhost:8080/"
        },
        "id": "VDpsM-e-aB99",
        "outputId": "76df3ba2-3874-419c-c298-8bdb50e88275"
      },
      "source": [
        "data.info()"
      ],
      "execution_count": 198,
      "outputs": [
        {
          "output_type": "stream",
          "name": "stdout",
          "text": [
            "<class 'pandas.core.frame.DataFrame'>\n",
            "Int64Index: 1017209 entries, 0 to 1017208\n",
            "Data columns (total 22 columns):\n",
            " #   Column                     Non-Null Count    Dtype         \n",
            "---  ------                     --------------    -----         \n",
            " 0   Store                      1017209 non-null  int64         \n",
            " 1   DayOfWeek                  1017209 non-null  int64         \n",
            " 2   Date                       1017209 non-null  datetime64[ns]\n",
            " 3   Sales                      1017209 non-null  int64         \n",
            " 4   Customers                  1017209 non-null  int64         \n",
            " 5   Open                       1017209 non-null  int64         \n",
            " 6   Promo                      1017209 non-null  int64         \n",
            " 7   StateHoliday               1017209 non-null  object        \n",
            " 8   SchoolHoliday              1017209 non-null  int64         \n",
            " 9   Year                       1017209 non-null  int64         \n",
            " 10  Month                      1017209 non-null  int64         \n",
            " 11  Day                        1017209 non-null  int64         \n",
            " 12  WeekOfYear                 1017209 non-null  int64         \n",
            " 13  StoreType                  1017209 non-null  object        \n",
            " 14  Assortment                 1017209 non-null  object        \n",
            " 15  CompetitionDistance        1017209 non-null  float64       \n",
            " 16  CompetitionOpenSinceMonth  693861 non-null   float64       \n",
            " 17  CompetitionOpenSinceYear   693861 non-null   float64       \n",
            " 18  Promo2                     1017209 non-null  int64         \n",
            " 19  Promo2SinceWeek            509178 non-null   float64       \n",
            " 20  Promo2SinceYear            509178 non-null   float64       \n",
            " 21  PromoInterval              509178 non-null   object        \n",
            "dtypes: datetime64[ns](1), float64(5), int64(12), object(4)\n",
            "memory usage: 178.5+ MB\n"
          ]
        }
      ]
    },
    {
      "cell_type": "code",
      "metadata": {
        "id": "80jVTAZzfdle"
      },
      "source": [
        "# Create new column Season\n",
        "\n",
        "data['Season'] = np.where(data['Month'].isin([3,4,5]), \"Spring\",\n",
        "                 np.where(data['Month'].isin([6,7,8]), \"Summer\",\n",
        "                 np.where(data['Month'].isin([9,10,11]), \"Fall\",\n",
        "                 np.where(data['Month'].isin([12,1,2]), \"Winter\", \"None\"))))"
      ],
      "execution_count": 199,
      "outputs": []
    },
    {
      "cell_type": "code",
      "metadata": {
        "id": "8xEx0B27n9A3",
        "colab": {
          "base_uri": "https://localhost:8080/",
          "height": 385
        },
        "outputId": "1dcff4be-c511-4ceb-ffde-e49b25e35800"
      },
      "source": [
        "# Prepare data\n",
        "\n",
        "years = data['Year'].unique()\n",
        "\n",
        "# Draw Plot\n",
        "fig, axes = plt.subplots(1, 3, figsize=(20,7), dpi= 80)\n",
        "sns.boxplot(x='Year', y='Sales', data=data, ax=axes[0])\n",
        "sns.boxplot(x='Month', y='Sales', data=data.loc[~data.Year.isin([2013, 2015]), :])\n",
        "sns.boxplot(x='Season', y='Sales', data=data, ax=axes[1])\n",
        "\n",
        "# Set Title\n",
        "axes[0].set_title('Year-wise Box Plot', fontsize=18)\n",
        "axes[1].set_title('Season-wise Box Plot', fontsize=18)\n",
        "axes[2].set_title('Month-wise Box Plot', fontsize=18)\n",
        "plt.show()"
      ],
      "execution_count": 203,
      "outputs": [
        {
          "output_type": "display_data",
          "data": {
            "image/png": "[encoded data removed]",
            "text/plain": [
              "<Figure size 1600x560 with 3 Axes>"
            ]
          },
          "metadata": {}
        }
      ]
    },
    {
      "cell_type": "code",
      "metadata": {
        "id": "lXlZtymX4Jsn",
        "colab": {
          "base_uri": "https://localhost:8080/",
          "height": 760
        },
        "outputId": "b22222a8-14ed-4833-bcc8-700a78beb506"
      },
      "source": [
        "# Sales trend over the seasons and year\n",
        "sns.factorplot(data = data, x =\"Season\", y = \"Sales\", \n",
        "               col = 'StoreType',\n",
        "               row = \"Year\")"
      ],
      "execution_count": 204,
      "outputs": [
        {
          "output_type": "execute_result",
          "data": {
            "text/plain": [
              "<seaborn.axisgrid.FacetGrid at 0x7fd758a29290>"
            ]
          },
          "metadata": {},
          "execution_count": 204
        },
        {
          "output_type": "display_data",
          "data": {
            "image/png": "[encoded data removed]",
            "text/plain": [
              "<Figure size 1440x1080 with 12 Axes>"
            ]
          },
          "metadata": {}
        }
      ]
    },
    {
      "cell_type": "markdown",
      "metadata": {
        "id": "k0V16zyRHeIi"
      },
      "source": [
        "## 3.13.  Effect of Promotion on sales"
      ]
    },
    {
      "cell_type": "code",
      "metadata": {
        "colab": {
          "base_uri": "https://localhost:8080/",
          "height": 302
        },
        "id": "M75X7y4qEHGs",
        "outputId": "4ccafdb0-c629-4fd9-967e-fea3e3ee7dee"
      },
      "source": [
        "# Promo\n",
        "\n",
        "# Plot average sales & customers with/without promo\n",
        "fig, (axis1,axis2) = plt.subplots(1,2,figsize=(15,4))\n",
        "\n",
        "sns.barplot(x='Promo', y='Sales', data=data, ax=axis1)\n",
        "sns.barplot(x='Promo', y='Customers', data=data, ax=axis2)"
      ],
      "execution_count": 119,
      "outputs": [
        {
          "output_type": "execute_result",
          "data": {
            "text/plain": [
              "<matplotlib.axes._subplots.AxesSubplot at 0x7fd7631f6410>"
            ]
          },
          "metadata": {},
          "execution_count": 119
        },
        {
          "output_type": "display_data",
          "data": {
            "image/png": "[encoded data removed]",
            "text/plain": [
              "<Figure size 1080x288 with 2 Axes>"
            ]
          },
          "metadata": {}
        }
      ]
    },
    {
      "cell_type": "markdown",
      "metadata": {
        "id": "SZ2BY8tiQSRj"
      },
      "source": [
        "## Promo2, & Promo2 Vs average sales and customers"
      ]
    },
    {
      "cell_type": "code",
      "metadata": {
        "colab": {
          "base_uri": "https://localhost:8080/",
          "height": 570
        },
        "id": "38PCpKcsG2_S",
        "outputId": "86baff58-36e0-4c75-c070-17da191d1d4f"
      },
      "source": [
        "# Promo2\n",
        "\n",
        "# Plot Promo2, & Promo2 Vs average sales and customers\n",
        "\n",
        "sns.countplot(x='Promo2', data=store)\n",
        "\n",
        "fig, (axis1,axis2) = plt.subplots(1,2,figsize=(15,4))\n",
        "\n",
        "sns.barplot(x='Promo2', y='Sales', data=store, ax=axis1)\n",
        "sns.barplot(x='Promo2', y='Customers', data=store, ax=axis2)"
      ],
      "execution_count": null,
      "outputs": [
        {
          "output_type": "execute_result",
          "data": {
            "text/plain": [
              "<matplotlib.axes._subplots.AxesSubplot at 0x7f878de82190>"
            ]
          },
          "metadata": {},
          "execution_count": 295
        },
        {
          "output_type": "display_data",
          "data": {
            "image/png": "[encoded data removed]",
            "text/plain": [
              "<Figure size 432x288 with 1 Axes>"
            ]
          },
          "metadata": {}
        },
        {
          "output_type": "display_data",
          "data": {
            "image/png": "[encoded data removed]",
            "text/plain": [
              "<Figure size 1080x288 with 2 Axes>"
            ]
          },
          "metadata": {}
        }
      ]
    },
    {
      "cell_type": "code",
      "metadata": {
        "id": "gK4ABkpE7rjl",
        "colab": {
          "base_uri": "https://localhost:8080/",
          "height": 539
        },
        "outputId": "6a362514-b2b6-4150-860c-224c64ba3998"
      },
      "source": [
        "fig, axes = plt.subplots(2,1)\n",
        "fig.set_size_inches(12,8)\n",
        "sns.barplot(x= \"Promo\", y= \"Sales\", data=data ,hue=\"StoreType\", ax=axes[0])\n",
        "sns.barplot(x= \"Promo2\", y= \"Sales\", data=data ,hue=\"StoreType\", ax=axes[1])\n",
        "axes[0].set_title('Effect on sales after first promotion', fontsize=18)\n",
        "axes[1].set_title('Effect of sales after second promotion', fontsize=18)"
      ],
      "execution_count": null,
      "outputs": [
        {
          "output_type": "execute_result",
          "data": {
            "text/plain": [
              "Text(0.5, 1.0, 'Effect of sales after second promotion')"
            ]
          },
          "metadata": {},
          "execution_count": 304
        },
        {
          "output_type": "display_data",
          "data": {
            "image/png": "[encoded data removed]",
            "text/plain": [
              "<Figure size 864x576 with 2 Axes>"
            ]
          },
          "metadata": {}
        }
      ]
    },
    {
      "cell_type": "markdown",
      "metadata": {
        "id": "pjkNGAk4Hx4p"
      },
      "source": [
        "First promotion have positive effect on sales, but second promotion has negative impact on sales."
      ]
    },
    {
      "cell_type": "markdown",
      "metadata": {
        "id": "HGniGYwpZ1iI"
      },
      "source": [
        "## Risk Analysis"
      ]
    },
    {
      "cell_type": "code",
      "metadata": {
        "colab": {
          "base_uri": "https://localhost:8080/"
        },
        "id": "D-pb1jWAbhLQ",
        "outputId": "3d941464-a52c-48f2-bdad-6ab7c7e2ba8f"
      },
      "source": [
        "R_data.info()"
      ],
      "execution_count": 208,
      "outputs": [
        {
          "output_type": "stream",
          "name": "stdout",
          "text": [
            "<class 'pandas.core.frame.DataFrame'>\n",
            "RangeIndex: 1017209 entries, 0 to 1017208\n",
            "Data columns (total 13 columns):\n",
            " #   Column         Non-Null Count    Dtype         \n",
            "---  ------         --------------    -----         \n",
            " 0   Store          1017209 non-null  int64         \n",
            " 1   DayOfWeek      1017209 non-null  int64         \n",
            " 2   Date           1017209 non-null  datetime64[ns]\n",
            " 3   Sales          1017209 non-null  int64         \n",
            " 4   Customers      1017209 non-null  int64         \n",
            " 5   Open           1017209 non-null  int64         \n",
            " 6   Promo          1017209 non-null  int64         \n",
            " 7   StateHoliday   1017209 non-null  object        \n",
            " 8   SchoolHoliday  1017209 non-null  int64         \n",
            " 9   Year           1017209 non-null  int64         \n",
            " 10  Month          1017209 non-null  int64         \n",
            " 11  Day            1017209 non-null  int64         \n",
            " 12  WeekOfYear     1017209 non-null  int64         \n",
            "dtypes: datetime64[ns](1), int64(11), object(1)\n",
            "memory usage: 100.9+ MB\n"
          ]
        }
      ]
    },
    {
      "cell_type": "code",
      "metadata": {
        "id": "r3LBY3EfHX5S"
      },
      "source": [
        "# Risk Analysis\n",
        "# Analyze the risk of a store; Risk(std) Vs Expected(mean)\n",
        "\n",
        "# .... continue using data\n",
        "store_average = data[\"Sales\"].mean()\n",
        "store_std     = data[\"Sales\"].std()\n",
        "\n",
        "# Plot\n",
        "plt.scatter(store_average, store_std,alpha = 0.5,s =np.pi*20)\n",
        "\n",
        "# Get min & max mean and std of store sales\n",
        "\n",
        "std_sales = data.groupby('Store')[\"Sales\"].std()\n",
        "\n",
        "min_average = data[\"Sales\"].min()\n",
        "max_average = data[\"Sales\"].max()\n",
        "min_std     = std_sales.min()\n",
        "max_std     = std_sales.max()\n",
        "\n",
        "# Set the x and y limits of the plot\n",
        "plt.ylim([min_std, max_std])\n",
        "plt.xlim([min_average, max_average])\n",
        "\n",
        "# Set the plot axis titles\n",
        "plt.xlabel('Expected Sales')\n",
        "plt.ylabel('Risk')\n",
        "\n",
        "# Set label\n",
        "label, x, y = \"Store {}\".format(store), store_average, store_std\n",
        "plt.annotate(\n",
        "        label, \n",
        "        xy = (x, y), xytext = (50, 50),\n",
        "        textcoords = 'offset points', ha = 'right', va = 'bottom',\n",
        "        arrowprops = dict(arrowstyle = '-', connectionstyle = 'arc3,rad=-0.3'))"
      ],
      "execution_count": null,
      "outputs": []
    },
    {
      "cell_type": "markdown",
      "metadata": {
        "id": "Ocv0zIi-j1qJ"
      },
      "source": [
        "#<B>4.Feature Engineering"
      ]
    },
    {
      "cell_type": "markdown",
      "metadata": {
        "id": "wv-zikFLjztC"
      },
      "source": [
        "## 4.1 Remove features with high percentages of missing values"
      ]
    },
    {
      "cell_type": "markdown",
      "metadata": {
        "id": "L-LX1kTwkA4d"
      },
      "source": [
        "We can see that some features have a high percentage of missing values and they won't be accurate as indicators, so we will remove features with more than 30% missing values."
      ]
    },
    {
      "cell_type": "code",
      "metadata": {
        "id": "60wEGeYtj_yW"
      },
      "source": [
        "# remove features\n",
        "data = data.drop(['CompetitionOpenSinceMonth', 'CompetitionOpenSinceYear','Promo2SinceWeek',\n",
        "                     'Promo2SinceYear', 'PromoInterval'], axis=1)"
      ],
      "execution_count": 212,
      "outputs": []
    },
    {
      "cell_type": "code",
      "metadata": {
        "colab": {
          "base_uri": "https://localhost:8080/"
        },
        "id": "xb7HQX5TcdNA",
        "outputId": "c5af480a-a72c-4d53-d98e-008385c29336"
      },
      "source": [
        "data.info()"
      ],
      "execution_count": 214,
      "outputs": [
        {
          "output_type": "stream",
          "name": "stdout",
          "text": [
            "<class 'pandas.core.frame.DataFrame'>\n",
            "Int64Index: 844392 entries, 0 to 1017190\n",
            "Data columns (total 18 columns):\n",
            " #   Column               Non-Null Count   Dtype         \n",
            "---  ------               --------------   -----         \n",
            " 0   Store                844392 non-null  int64         \n",
            " 1   DayOfWeek            844392 non-null  int64         \n",
            " 2   Date                 844392 non-null  datetime64[ns]\n",
            " 3   Sales                844392 non-null  int64         \n",
            " 4   Customers            844392 non-null  int64         \n",
            " 5   Open                 844392 non-null  int64         \n",
            " 6   Promo                844392 non-null  int64         \n",
            " 7   StateHoliday         844392 non-null  object        \n",
            " 8   SchoolHoliday        844392 non-null  int64         \n",
            " 9   Year                 844392 non-null  int64         \n",
            " 10  Month                844392 non-null  int64         \n",
            " 11  Day                  844392 non-null  int64         \n",
            " 12  WeekOfYear           844392 non-null  int64         \n",
            " 13  StoreType            844392 non-null  object        \n",
            " 14  Assortment           844392 non-null  object        \n",
            " 15  CompetitionDistance  844392 non-null  float64       \n",
            " 16  Promo2               844392 non-null  int64         \n",
            " 17  Season               844392 non-null  object        \n",
            "dtypes: datetime64[ns](1), float64(1), int64(12), object(4)\n",
            "memory usage: 122.4+ MB\n"
          ]
        }
      ]
    },
    {
      "cell_type": "markdown",
      "metadata": {
        "id": "_kCHNuGikG-t"
      },
      "source": [
        "## 4.2 Drop Subsets Of Data Which Might Cause Bias"
      ]
    },
    {
      "cell_type": "code",
      "metadata": {
        "id": "hSlaejAwIZ0p"
      },
      "source": [
        "# We will remove the part of the datasets,where stores are closed, they won't generate sales\n",
        "data=data[data.Open != 0]"
      ],
      "execution_count": 215,
      "outputs": []
    },
    {
      "cell_type": "code",
      "metadata": {
        "id": "6_5ugFarIZ47"
      },
      "source": [
        "# lets drop open column as it have no use now\n",
        "data.drop('Open',axis=1,inplace=True)"
      ],
      "execution_count": 216,
      "outputs": []
    },
    {
      "cell_type": "code",
      "metadata": {
        "colab": {
          "base_uri": "https://localhost:8080/"
        },
        "id": "GNvTzSVhkOCo",
        "outputId": "d6608dfa-76e7-4996-c953-67fa00e7395a"
      },
      "source": [
        "# Check for Opened store with zero sales\n",
        "data[data.Sales==0]['Store'].sum()"
      ],
      "execution_count": 217,
      "outputs": [
        {
          "output_type": "execute_result",
          "data": {
            "text/plain": [
              "31460"
            ]
          },
          "metadata": {},
          "execution_count": 217
        }
      ]
    },
    {
      "cell_type": "code",
      "metadata": {
        "colab": {
          "base_uri": "https://localhost:8080/"
        },
        "id": "OXEP9A6ykQWT",
        "outputId": "e0f8712c-8965-424e-8979-511edbd51f69"
      },
      "source": [
        "# percentage of open stored with zero sales\n",
        "data[data.Sales == 0]['Sales'].sum()/data.Sales.sum()"
      ],
      "execution_count": 218,
      "outputs": [
        {
          "output_type": "execute_result",
          "data": {
            "text/plain": [
              "0.0"
            ]
          },
          "metadata": {},
          "execution_count": 218
        }
      ]
    },
    {
      "cell_type": "code",
      "metadata": {
        "id": "iITzSqrKkUZO"
      },
      "source": [
        "# Remove the Stores with zero sales\n",
        "data=data[data.Sales != 0]"
      ],
      "execution_count": 219,
      "outputs": []
    },
    {
      "cell_type": "code",
      "metadata": {
        "colab": {
          "base_uri": "https://localhost:8080/"
        },
        "id": "luwl2ht-kWyy",
        "outputId": "a5110d50-0416-4b10-c6fd-7bc47728d983"
      },
      "source": [
        "# see what variable types we have\n",
        "data.info()"
      ],
      "execution_count": 220,
      "outputs": [
        {
          "output_type": "stream",
          "name": "stdout",
          "text": [
            "<class 'pandas.core.frame.DataFrame'>\n",
            "Int64Index: 844338 entries, 0 to 1017190\n",
            "Data columns (total 17 columns):\n",
            " #   Column               Non-Null Count   Dtype         \n",
            "---  ------               --------------   -----         \n",
            " 0   Store                844338 non-null  int64         \n",
            " 1   DayOfWeek            844338 non-null  int64         \n",
            " 2   Date                 844338 non-null  datetime64[ns]\n",
            " 3   Sales                844338 non-null  int64         \n",
            " 4   Customers            844338 non-null  int64         \n",
            " 5   Promo                844338 non-null  int64         \n",
            " 6   StateHoliday         844338 non-null  object        \n",
            " 7   SchoolHoliday        844338 non-null  int64         \n",
            " 8   Year                 844338 non-null  int64         \n",
            " 9   Month                844338 non-null  int64         \n",
            " 10  Day                  844338 non-null  int64         \n",
            " 11  WeekOfYear           844338 non-null  int64         \n",
            " 12  StoreType            844338 non-null  object        \n",
            " 13  Assortment           844338 non-null  object        \n",
            " 14  CompetitionDistance  844338 non-null  float64       \n",
            " 15  Promo2               844338 non-null  int64         \n",
            " 16  Season               844338 non-null  object        \n",
            "dtypes: datetime64[ns](1), float64(1), int64(11), object(4)\n",
            "memory usage: 116.0+ MB\n"
          ]
        }
      ]
    },
    {
      "cell_type": "code",
      "metadata": {
        "colab": {
          "base_uri": "https://localhost:8080/"
        },
        "id": "Uoy7-ZmFkZY8",
        "outputId": "9dfd8317-8e13-42bf-9e2a-c9591cd2ce21"
      },
      "source": [
        "store.info()"
      ],
      "execution_count": null,
      "outputs": [
        {
          "output_type": "stream",
          "name": "stdout",
          "text": [
            "<class 'pandas.core.frame.DataFrame'>\n",
            "RangeIndex: 1115 entries, 0 to 1114\n",
            "Data columns (total 7 columns):\n",
            " #   Column               Non-Null Count  Dtype  \n",
            "---  ------               --------------  -----  \n",
            " 0   Store                1115 non-null   int64  \n",
            " 1   StoreType            1115 non-null   object \n",
            " 2   Assortment           1115 non-null   object \n",
            " 3   CompetitionDistance  1115 non-null   float64\n",
            " 4   Promo2               1115 non-null   int64  \n",
            " 5   Sales                1115 non-null   float64\n",
            " 6   Customers            1115 non-null   float64\n",
            "dtypes: float64(3), int64(2), object(2)\n",
            "memory usage: 61.1+ KB\n"
          ]
        }
      ]
    },
    {
      "cell_type": "markdown",
      "metadata": {
        "id": "1DDzWZMBkiAb"
      },
      "source": [
        "## 4.3 Create new variable \"AvgSales\" create a variable that calculates monthly average sales for each store"
      ]
    },
    {
      "cell_type": "code",
      "metadata": {
        "id": "74A8qpOLkce2"
      },
      "source": [
        "# calculate weekly average sales\n",
        "sales = data[['Year','Month','Store','Sales']].groupby(['Year','Month','Store']).mean()\n",
        "sales = sales.rename(columns={'Sales':'AvgSales'})\n",
        "sales = sales.reset_index()"
      ],
      "execution_count": 221,
      "outputs": []
    },
    {
      "cell_type": "code",
      "metadata": {
        "id": "DPY35t9kklgR"
      },
      "source": [
        "data['sales_key']=data['Year'].map(str) + data['Month'].map(str) + data['Store'].map(str)\n",
        "sales['sales_key']=sales['Year'].map(str) + sales['Month'].map(str) + sales['Store'].map(str)"
      ],
      "execution_count": 222,
      "outputs": []
    },
    {
      "cell_type": "code",
      "metadata": {
        "id": "Innbj_aJkq9K"
      },
      "source": [
        "# drop extra columns\n",
        "sales = sales.drop(['Year','Month','Store'], axis=1)\n",
        "# merge\n",
        "data = pd.merge(data, sales, how='left', on=('sales_key'))"
      ],
      "execution_count": 223,
      "outputs": []
    },
    {
      "cell_type": "markdown",
      "metadata": {
        "id": "czj8-93Sk07i"
      },
      "source": [
        "Create new variable \"AvgCustomer\" create a variable that calculates Monthly average number of customers for each store, becuase daily number of customer is another variable to be predicted"
      ]
    },
    {
      "cell_type": "code",
      "metadata": {
        "id": "FZt_q7pEkw7i"
      },
      "source": [
        "# calculate weekly average\n",
        "cust = data[['Year','Month','Store','Customers']].groupby(['Year','Month', 'Store']).mean()\n",
        "cust = cust.rename(columns={'Customers':'AvgCustomer'})\n",
        "cust = cust.reset_index()\n",
        "\n",
        "data['cust_key']=data['Year'].map(str) + data['Month'].map(str) + data['Store'].map(str)\n",
        "cust['cust_key']=cust['Year'].map(str) + cust['Month'].map(str) + cust['Store'].map(str)\n",
        "\n",
        "# drop original feature Customers\n",
        "data = data.drop('Customers', axis=1)# drop extra columns\n",
        "cust = cust.drop(['Year', 'Month', 'Store'], axis=1)\n",
        "\n",
        "# merge\n",
        "data = pd.merge(data, cust, how=\"left\", on=('cust_key'))"
      ],
      "execution_count": 225,
      "outputs": []
    },
    {
      "cell_type": "markdown",
      "metadata": {
        "id": "17j2tZfslpbf"
      },
      "source": [
        "## 4.4 Transform Variable \"StateHoliday\""
      ]
    },
    {
      "cell_type": "code",
      "metadata": {
        "id": "gbIXk7yflUtW"
      },
      "source": [
        "# 0 - not a state holiday; 1- is on a state holiday\n",
        "data['StateHoliday'] = data.StateHoliday.map({'0':0, 'a':1 ,'b' : 1,'c': 1})\n",
        "\n",
        "# drop extra columns\n",
        "data = data.drop(['cust_key','sales_key','Store','Date'], axis=1)"
      ],
      "execution_count": 226,
      "outputs": []
    },
    {
      "cell_type": "code",
      "metadata": {
        "id": "UzobgZAZdIdI"
      },
      "source": [
        "data.drop('Season',axis=1,inplace=True)"
      ],
      "execution_count": 230,
      "outputs": []
    },
    {
      "cell_type": "markdown",
      "metadata": {
        "id": "xMcTATcNnH8W"
      },
      "source": [
        "#<B>Correlation Heatmap"
      ]
    },
    {
      "cell_type": "code",
      "metadata": {
        "id": "K04dIz_WKh9Q",
        "colab": {
          "base_uri": "https://localhost:8080/",
          "height": 470
        },
        "outputId": "699824a7-ee37-4f6e-95ba-3b62aaf7d4ab"
      },
      "source": [
        "corr = data.corr()\n",
        "corr"
      ],
      "execution_count": 232,
      "outputs": [
        {
          "output_type": "execute_result",
          "data": {
            "text/html": [
              "<div>\n",
              "<style scoped>\n",
              "    .dataframe tbody tr th:only-of-type {\n",
              "        vertical-align: middle;\n",
              "    }\n",
              "\n",
              "    .dataframe tbody tr th {\n",
              "        vertical-align: top;\n",
              "    }\n",
              "\n",
              "    .dataframe thead th {\n",
              "        text-align: right;\n",
              "    }\n",
              "</style>\n",
              "<table border=\"1\" class=\"dataframe\">\n",
              "  <thead>\n",
              "    <tr style=\"text-align: right;\">\n",
              "      <th></th>\n",
              "      <th>DayOfWeek</th>\n",
              "      <th>Sales</th>\n",
              "      <th>Promo</th>\n",
              "      <th>StateHoliday</th>\n",
              "      <th>SchoolHoliday</th>\n",
              "      <th>Year</th>\n",
              "      <th>Month</th>\n",
              "      <th>Day</th>\n",
              "      <th>WeekOfYear</th>\n",
              "      <th>CompetitionDistance</th>\n",
              "      <th>Promo2</th>\n",
              "      <th>AvgSales</th>\n",
              "      <th>AvgCustomer</th>\n",
              "    </tr>\n",
              "  </thead>\n",
              "  <tbody>\n",
              "    <tr>\n",
              "      <th>DayOfWeek</th>\n",
              "      <td>1.000000</td>\n",
              "      <td>-0.178733</td>\n",
              "      <td>-0.286350</td>\n",
              "      <td>-0.002101</td>\n",
              "      <td>-0.135893</td>\n",
              "      <td>0.002316</td>\n",
              "      <td>-0.020707</td>\n",
              "      <td>0.006419</td>\n",
              "      <td>-0.011978</td>\n",
              "      <td>0.004971</td>\n",
              "      <td>-0.003150</td>\n",
              "      <td>0.001605</td>\n",
              "      <td>0.014897</td>\n",
              "    </tr>\n",
              "    <tr>\n",
              "      <th>Sales</th>\n",
              "      <td>-0.178733</td>\n",
              "      <td>1.000000</td>\n",
              "      <td>0.369741</td>\n",
              "      <td>0.019434</td>\n",
              "      <td>0.036777</td>\n",
              "      <td>0.036711</td>\n",
              "      <td>0.087562</td>\n",
              "      <td>-0.055308</td>\n",
              "      <td>0.088965</td>\n",
              "      <td>-0.033232</td>\n",
              "      <td>-0.125413</td>\n",
              "      <td>0.774885</td>\n",
              "      <td>0.644470</td>\n",
              "    </tr>\n",
              "    <tr>\n",
              "      <th>Promo</th>\n",
              "      <td>-0.286350</td>\n",
              "      <td>0.369741</td>\n",
              "      <td>1.000000</td>\n",
              "      <td>0.001268</td>\n",
              "      <td>0.017027</td>\n",
              "      <td>0.026754</td>\n",
              "      <td>0.000732</td>\n",
              "      <td>-0.132124</td>\n",
              "      <td>0.016307</td>\n",
              "      <td>-0.001703</td>\n",
              "      <td>-0.000708</td>\n",
              "      <td>0.001422</td>\n",
              "      <td>-0.005552</td>\n",
              "    </tr>\n",
              "    <tr>\n",
              "      <th>StateHoliday</th>\n",
              "      <td>-0.002101</td>\n",
              "      <td>0.019434</td>\n",
              "      <td>0.001268</td>\n",
              "      <td>1.000000</td>\n",
              "      <td>0.014592</td>\n",
              "      <td>0.002879</td>\n",
              "      <td>0.000827</td>\n",
              "      <td>-0.008347</td>\n",
              "      <td>0.000885</td>\n",
              "      <td>0.009308</td>\n",
              "      <td>-0.010480</td>\n",
              "      <td>0.019200</td>\n",
              "      <td>0.053578</td>\n",
              "    </tr>\n",
              "    <tr>\n",
              "      <th>SchoolHoliday</th>\n",
              "      <td>-0.135893</td>\n",
              "      <td>0.036777</td>\n",
              "      <td>0.017027</td>\n",
              "      <td>0.014592</td>\n",
              "      <td>1.000000</td>\n",
              "      <td>-0.031159</td>\n",
              "      <td>0.103183</td>\n",
              "      <td>0.029469</td>\n",
              "      <td>0.056861</td>\n",
              "      <td>-0.004091</td>\n",
              "      <td>-0.007698</td>\n",
              "      <td>-0.002353</td>\n",
              "      <td>-0.001876</td>\n",
              "    </tr>\n",
              "    <tr>\n",
              "      <th>Year</th>\n",
              "      <td>0.002316</td>\n",
              "      <td>0.036711</td>\n",
              "      <td>0.026754</td>\n",
              "      <td>0.002879</td>\n",
              "      <td>-0.031159</td>\n",
              "      <td>1.000000</td>\n",
              "      <td>-0.244638</td>\n",
              "      <td>0.006749</td>\n",
              "      <td>-0.230790</td>\n",
              "      <td>0.000875</td>\n",
              "      <td>-0.007467</td>\n",
              "      <td>0.045135</td>\n",
              "      <td>0.003051</td>\n",
              "    </tr>\n",
              "    <tr>\n",
              "      <th>Month</th>\n",
              "      <td>-0.020707</td>\n",
              "      <td>0.087562</td>\n",
              "      <td>0.000732</td>\n",
              "      <td>0.000827</td>\n",
              "      <td>0.103183</td>\n",
              "      <td>-0.244638</td>\n",
              "      <td>1.000000</td>\n",
              "      <td>-0.011624</td>\n",
              "      <td>0.958622</td>\n",
              "      <td>0.009754</td>\n",
              "      <td>-0.024807</td>\n",
              "      <td>0.072891</td>\n",
              "      <td>0.048639</td>\n",
              "    </tr>\n",
              "    <tr>\n",
              "      <th>Day</th>\n",
              "      <td>0.006419</td>\n",
              "      <td>-0.055308</td>\n",
              "      <td>-0.132124</td>\n",
              "      <td>-0.008347</td>\n",
              "      <td>0.029469</td>\n",
              "      <td>0.006749</td>\n",
              "      <td>-0.011624</td>\n",
              "      <td>1.000000</td>\n",
              "      <td>0.030196</td>\n",
              "      <td>-0.000525</td>\n",
              "      <td>0.001740</td>\n",
              "      <td>-0.002638</td>\n",
              "      <td>-0.002813</td>\n",
              "    </tr>\n",
              "    <tr>\n",
              "      <th>WeekOfYear</th>\n",
              "      <td>-0.011978</td>\n",
              "      <td>0.088965</td>\n",
              "      <td>0.016307</td>\n",
              "      <td>0.000885</td>\n",
              "      <td>0.056861</td>\n",
              "      <td>-0.230790</td>\n",
              "      <td>0.958622</td>\n",
              "      <td>0.030196</td>\n",
              "      <td>1.000000</td>\n",
              "      <td>0.009418</td>\n",
              "      <td>-0.023877</td>\n",
              "      <td>0.060182</td>\n",
              "      <td>0.042028</td>\n",
              "    </tr>\n",
              "    <tr>\n",
              "      <th>CompetitionDistance</th>\n",
              "      <td>0.004971</td>\n",
              "      <td>-0.033232</td>\n",
              "      <td>-0.001703</td>\n",
              "      <td>0.009308</td>\n",
              "      <td>-0.004091</td>\n",
              "      <td>0.000875</td>\n",
              "      <td>0.009754</td>\n",
              "      <td>-0.000525</td>\n",
              "      <td>0.009418</td>\n",
              "      <td>1.000000</td>\n",
              "      <td>-0.140969</td>\n",
              "      <td>-0.046730</td>\n",
              "      <td>-0.157409</td>\n",
              "    </tr>\n",
              "    <tr>\n",
              "      <th>Promo2</th>\n",
              "      <td>-0.003150</td>\n",
              "      <td>-0.125413</td>\n",
              "      <td>-0.000708</td>\n",
              "      <td>-0.010480</td>\n",
              "      <td>-0.007698</td>\n",
              "      <td>-0.007467</td>\n",
              "      <td>-0.024807</td>\n",
              "      <td>0.001740</td>\n",
              "      <td>-0.023877</td>\n",
              "      <td>-0.140969</td>\n",
              "      <td>1.000000</td>\n",
              "      <td>-0.153337</td>\n",
              "      <td>-0.213213</td>\n",
              "    </tr>\n",
              "    <tr>\n",
              "      <th>AvgSales</th>\n",
              "      <td>0.001605</td>\n",
              "      <td>0.774885</td>\n",
              "      <td>0.001422</td>\n",
              "      <td>0.019200</td>\n",
              "      <td>-0.002353</td>\n",
              "      <td>0.045135</td>\n",
              "      <td>0.072891</td>\n",
              "      <td>-0.002638</td>\n",
              "      <td>0.060182</td>\n",
              "      <td>-0.046730</td>\n",
              "      <td>-0.153337</td>\n",
              "      <td>1.000000</td>\n",
              "      <td>0.797845</td>\n",
              "    </tr>\n",
              "    <tr>\n",
              "      <th>AvgCustomer</th>\n",
              "      <td>0.014897</td>\n",
              "      <td>0.644470</td>\n",
              "      <td>-0.005552</td>\n",
              "      <td>0.053578</td>\n",
              "      <td>-0.001876</td>\n",
              "      <td>0.003051</td>\n",
              "      <td>0.048639</td>\n",
              "      <td>-0.002813</td>\n",
              "      <td>0.042028</td>\n",
              "      <td>-0.157409</td>\n",
              "      <td>-0.213213</td>\n",
              "      <td>0.797845</td>\n",
              "      <td>1.000000</td>\n",
              "    </tr>\n",
              "  </tbody>\n",
              "</table>\n",
              "</div>"
            ],
            "text/plain": [
              "                     DayOfWeek     Sales  ...  AvgSales  AvgCustomer\n",
              "DayOfWeek             1.000000 -0.178733  ...  0.001605     0.014897\n",
              "Sales                -0.178733  1.000000  ...  0.774885     0.644470\n",
              "Promo                -0.286350  0.369741  ...  0.001422    -0.005552\n",
              "StateHoliday         -0.002101  0.019434  ...  0.019200     0.053578\n",
              "SchoolHoliday        -0.135893  0.036777  ... -0.002353    -0.001876\n",
              "Year                  0.002316  0.036711  ...  0.045135     0.003051\n",
              "Month                -0.020707  0.087562  ...  0.072891     0.048639\n",
              "Day                   0.006419 -0.055308  ... -0.002638    -0.002813\n",
              "WeekOfYear           -0.011978  0.088965  ...  0.060182     0.042028\n",
              "CompetitionDistance   0.004971 -0.033232  ... -0.046730    -0.157409\n",
              "Promo2               -0.003150 -0.125413  ... -0.153337    -0.213213\n",
              "AvgSales              0.001605  0.774885  ...  1.000000     0.797845\n",
              "AvgCustomer           0.014897  0.644470  ...  0.797845     1.000000\n",
              "\n",
              "[13 rows x 13 columns]"
            ]
          },
          "metadata": {},
          "execution_count": 232
        }
      ]
    },
    {
      "cell_type": "code",
      "metadata": {
        "id": "IIVMr8sNnUNW",
        "colab": {
          "base_uri": "https://localhost:8080/",
          "height": 684
        },
        "outputId": "00794334-0e13-40ed-eec2-35973f0cd1a2"
      },
      "source": [
        "mask = np.zeros_like(corr, dtype = np.bool)\n",
        "mask[np.triu_indices_from(mask)] = True\n",
        "f, ax = plt.subplots(figsize = (11, 9))\n",
        "# sns.heatmap(corr, mask = mask,square = True, linewidths = .5, ax = ax, cmap = \"BuPu\")\n",
        "sns.heatmap(corr,square = True,mask=mask, linewidths = .5,ax=ax, cmap = \"BuPu\")\n",
        "plt.title(\"Correlation Heatmap\", fontsize=20)"
      ],
      "execution_count": 233,
      "outputs": [
        {
          "output_type": "execute_result",
          "data": {
            "text/plain": [
              "Text(0.5, 1.0, 'Correlation Heatmap')"
            ]
          },
          "metadata": {},
          "execution_count": 233
        },
        {
          "output_type": "display_data",
          "data": {
            "image/png": "[encoded data removed]",
            "text/plain": [
              "<Figure size 792x648 with 2 Axes>"
            ]
          },
          "metadata": {}
        }
      ]
    },
    {
      "cell_type": "markdown",
      "metadata": {
        "id": "YI28vYkWo1j9"
      },
      "source": [
        "#Encode the data"
      ]
    },
    {
      "cell_type": "code",
      "metadata": {
        "id": "IDl3wopNo4UL"
      },
      "source": [
        "from sklearn.preprocessing import LabelEncoder\n",
        "from sklearn.preprocessing import OneHotEncoder"
      ],
      "execution_count": 235,
      "outputs": []
    },
    {
      "cell_type": "code",
      "metadata": {
        "id": "c7siZXBho7iC"
      },
      "source": [
        "target = ['Sales']\n",
        "numeric_col = ['Customers', 'Open', 'Promo', 'Promo2', 'StateHoliday', 'SchoolHoliday', 'CompetitionDistance']\n",
        "categorical_col = ['DayOfWeek', 'Quarter', 'Month', 'Year', 'StoreType', 'Assortment', 'Season']"
      ],
      "execution_count": 236,
      "outputs": []
    },
    {
      "cell_type": "code",
      "metadata": {
        "id": "hNigLXX8pL9F"
      },
      "source": [
        "def create_encode(df, col):\n",
        "    le = LabelEncoder()\n",
        "    a = le.fit_transform(data[col]).reshape(-1,1)\n",
        "    ohe = OneHotEncoder(sparse=False)\n",
        "    col_names = [col+ \"_\" + str(i) for i in le.classes_]\n",
        "    return (pd.DataFrame(ohe.fit_transform(a), columns = col_names))"
      ],
      "execution_count": 237,
      "outputs": []
    },
    {
      "cell_type": "markdown",
      "metadata": {
        "id": "oH8GElcjn8Gn"
      },
      "source": [
        "#<B>Store Sales Prediction"
      ]
    },
    {
      "cell_type": "code",
      "metadata": {
        "id": "IoRpkD7XpNzj"
      },
      "source": [
        ""
      ],
      "execution_count": null,
      "outputs": []
    },
    {
      "cell_type": "code",
      "metadata": {
        "id": "3QWYGTqHoD5j"
      },
      "source": [
        ""
      ],
      "execution_count": null,
      "outputs": []
    }
  ]
}