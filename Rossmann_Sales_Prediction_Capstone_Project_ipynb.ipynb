{
  "nbformat": 4,
  "nbformat_minor": 0,
  "metadata": {
    "kernelspec": {
      "display_name": "Python 3",
      "language": "python",
      "name": "python3"
    },
    "language_info": {
      "codemirror_mode": {
        "name": "ipython",
        "version": 3
      },
      "file_extension": ".py",
      "mimetype": "text/x-python",
      "name": "python",
      "nbconvert_exporter": "python",
      "pygments_lexer": "ipython3",
      "version": "3.6.6"
    },
    "colab": {
      "name": "Rossmann Sales Prediction - Capstone Project.ipynb.ipynb",
      "provenance": [],
      "collapsed_sections": [
        "Y06xIdG26kRF",
        "WWeU1f9bwqQq"
      ],
      "include_colab_link": true
    }
  },
  "cells": [
    {
      "cell_type": "markdown",
      "metadata": {
        "id": "view-in-github",
        "colab_type": "text"
      },
      "source": [
        "<a href=\"https://colab.research.google.com/github/Team-AlmaBetter/Retail-Sales-Prediction/blob/main/Rossmann_Sales_Prediction_Capstone_Project_ipynb.ipynb\" target=\"_parent\"><img src=\"https://colab.research.google.com/assets/colab-badge.svg\" alt=\"Open In Colab\"/></a>"
      ]
    },
    {
      "cell_type": "markdown",
      "metadata": {
        "id": "tOGC-qoyhJeX"
      },
      "source": [
        "# <b><u> Project Title : Sales Prediction : Predicting sales of a major store chain Rossmann</u></b>"
      ]
    },
    {
      "cell_type": "markdown",
      "metadata": {
        "id": "Y06xIdG26kRF"
      },
      "source": [
        "## <b> Problem Description </b>\n",
        "\n",
        "### Rossmann operates over 3,000 drug stores in 7 European countries. Currently, Rossmann store managers are tasked with predicting their daily sales for up to six weeks in advance. Store sales are influenced by many factors, including promotions, competition, school and state holidays, seasonality, and locality. With thousands of individual managers predicting sales based on their unique circumstances, the accuracy of results can be quite varied.\n",
        "\n",
        "### You are provided with historical sales data for 1,115 Rossmann stores. The task is to forecast the \"Sales\" column for the test set. Note that some stores in the dataset were temporarily closed for refurbishment."
      ]
    },
    {
      "cell_type": "markdown",
      "metadata": {
        "id": "WWeU1f9bwqQq"
      },
      "source": [
        "## <b> Data Description </b>\n",
        "\n",
        "### <b>Rossmann Stores Data.csv </b> - historical data including Sales\n",
        "### <b>store.csv </b> - supplemental information about the stores\n",
        "\n",
        "\n",
        "### <b><u>Data fields</u></b>\n",
        "### Most of the fields are self-explanatory. The following are descriptions for those that aren't.\n",
        "\n",
        "* #### Id - an Id that represents a (Store, Date) duple within the test set\n",
        "* #### Store - a unique Id for each store\n",
        "* #### Sales - the turnover for any given day (this is what you are predicting)\n",
        "* #### Customers - the number of customers on a given day\n",
        "* #### Open - an indicator for whether the store was open: 0 = closed, 1 = open\n",
        "* #### StateHoliday - indicates a state holiday. Normally all stores, with few exceptions, are closed on state holidays. Note that all schools are closed on public holidays and weekends. a = public holiday, b = Easter holiday, c = Christmas, 0 = None\n",
        "* #### SchoolHoliday - indicates if the (Store, Date) was affected by the closure of public schools\n",
        "* #### StoreType - differentiates between 4 different store models: a, b, c, d\n",
        "* #### Assortment - describes an assortment level: a = basic, b = extra, c = extended\n",
        "* #### CompetitionDistance - distance in meters to the nearest competitor store\n",
        "* #### CompetitionOpenSince[Month/Year] - gives the approximate year and month of the time the nearest competitor was opened\n",
        "* #### Promo - indicates whether a store is running a promo on that day\n",
        "* #### Promo2 - Promo2 is a continuing and consecutive promotion for some stores: 0 = store is not participating, 1 = store is participating\n",
        "* #### Promo2Since[Year/Week] - describes the year and calendar week when the store started participating in Promo2\n",
        "* #### PromoInterval - describes the consecutive intervals Promo2 is started, naming the months the promotion is started anew. E.g. \"Feb,May,Aug,Nov\" means each round starts in February, May, August, November of any given year for that store"
      ]
    },
    {
      "cell_type": "markdown",
      "metadata": {
        "id": "T3MoEdinglmF"
      },
      "source": [
        "#<b>1. Import necessary libraries"
      ]
    },
    {
      "cell_type": "code",
      "metadata": {
        "id": "bbW-99A1gWrp"
      },
      "source": [
        "import pandas as pd, datetime\n",
        "import numpy as np\n",
        "import matplotlib.pyplot as plt\n",
        "\n",
        "import seaborn as sns\n",
        "\n",
        "get_ipython().run_line_magic('matplotlib', 'inline')\n",
        "from time import time\n",
        "from math import sqrt\n",
        "\n",
        "from sklearn import model_selection\n",
        "from sklearn.metrics import mean_squared_error, r2_score\n",
        "\n",
        "import plotly.graph_objs as go\n",
        "from matplotlib.pyplot import *\n"
      ],
      "execution_count": 1,
      "outputs": []
    },
    {
      "cell_type": "markdown",
      "metadata": {
        "id": "S7w84heoa1T1"
      },
      "source": [
        "#<b>2. Data Preparation"
      ]
    },
    {
      "cell_type": "markdown",
      "metadata": {
        "id": "iP29Mf7Dhd3I"
      },
      "source": [
        "##<b>2.1 Import Datasets"
      ]
    },
    {
      "cell_type": "code",
      "metadata": {
        "colab": {
          "base_uri": "https://localhost:8080/"
        },
        "id": "9q1zIoR6ivsV",
        "outputId": "54e0d85a-f193-4ffa-b7be-0784cda8ec22"
      },
      "source": [
        "from google.colab import drive\n",
        "drive.mount('/content/drive')"
      ],
      "execution_count": 2,
      "outputs": [
        {
          "output_type": "stream",
          "name": "stdout",
          "text": [
            "Mounted at /content/drive\n"
          ]
        }
      ]
    },
    {
      "cell_type": "code",
      "metadata": {
        "colab": {
          "base_uri": "https://localhost:8080/",
          "height": 265
        },
        "id": "oXI6uRS2i1FB",
        "outputId": "7b868996-e315-4bd7-fd87-79f97e3b2f64"
      },
      "source": [
        "R_data = pd.read_csv('/content/drive/MyDrive/Retail Sales- Capstone 2/Data & Resources/Rossmann Stores Data.csv')\n",
        "R_data.head()"
      ],
      "execution_count": 4,
      "outputs": [
        {
          "output_type": "stream",
          "name": "stderr",
          "text": [
            "/usr/local/lib/python3.7/dist-packages/IPython/core/interactiveshell.py:2718: DtypeWarning:\n",
            "\n",
            "Columns (7) have mixed types.Specify dtype option on import or set low_memory=False.\n",
            "\n"
          ]
        },
        {
          "output_type": "execute_result",
          "data": {
            "text/html": [
              "<div>\n",
              "<style scoped>\n",
              "    .dataframe tbody tr th:only-of-type {\n",
              "        vertical-align: middle;\n",
              "    }\n",
              "\n",
              "    .dataframe tbody tr th {\n",
              "        vertical-align: top;\n",
              "    }\n",
              "\n",
              "    .dataframe thead th {\n",
              "        text-align: right;\n",
              "    }\n",
              "</style>\n",
              "<table border=\"1\" class=\"dataframe\">\n",
              "  <thead>\n",
              "    <tr style=\"text-align: right;\">\n",
              "      <th></th>\n",
              "      <th>Store</th>\n",
              "      <th>DayOfWeek</th>\n",
              "      <th>Date</th>\n",
              "      <th>Sales</th>\n",
              "      <th>Customers</th>\n",
              "      <th>Open</th>\n",
              "      <th>Promo</th>\n",
              "      <th>StateHoliday</th>\n",
              "      <th>SchoolHoliday</th>\n",
              "    </tr>\n",
              "  </thead>\n",
              "  <tbody>\n",
              "    <tr>\n",
              "      <th>0</th>\n",
              "      <td>1</td>\n",
              "      <td>5</td>\n",
              "      <td>2015-07-31</td>\n",
              "      <td>5263</td>\n",
              "      <td>555</td>\n",
              "      <td>1</td>\n",
              "      <td>1</td>\n",
              "      <td>0</td>\n",
              "      <td>1</td>\n",
              "    </tr>\n",
              "    <tr>\n",
              "      <th>1</th>\n",
              "      <td>2</td>\n",
              "      <td>5</td>\n",
              "      <td>2015-07-31</td>\n",
              "      <td>6064</td>\n",
              "      <td>625</td>\n",
              "      <td>1</td>\n",
              "      <td>1</td>\n",
              "      <td>0</td>\n",
              "      <td>1</td>\n",
              "    </tr>\n",
              "    <tr>\n",
              "      <th>2</th>\n",
              "      <td>3</td>\n",
              "      <td>5</td>\n",
              "      <td>2015-07-31</td>\n",
              "      <td>8314</td>\n",
              "      <td>821</td>\n",
              "      <td>1</td>\n",
              "      <td>1</td>\n",
              "      <td>0</td>\n",
              "      <td>1</td>\n",
              "    </tr>\n",
              "    <tr>\n",
              "      <th>3</th>\n",
              "      <td>4</td>\n",
              "      <td>5</td>\n",
              "      <td>2015-07-31</td>\n",
              "      <td>13995</td>\n",
              "      <td>1498</td>\n",
              "      <td>1</td>\n",
              "      <td>1</td>\n",
              "      <td>0</td>\n",
              "      <td>1</td>\n",
              "    </tr>\n",
              "    <tr>\n",
              "      <th>4</th>\n",
              "      <td>5</td>\n",
              "      <td>5</td>\n",
              "      <td>2015-07-31</td>\n",
              "      <td>4822</td>\n",
              "      <td>559</td>\n",
              "      <td>1</td>\n",
              "      <td>1</td>\n",
              "      <td>0</td>\n",
              "      <td>1</td>\n",
              "    </tr>\n",
              "  </tbody>\n",
              "</table>\n",
              "</div>"
            ],
            "text/plain": [
              "   Store  DayOfWeek        Date  Sales  ...  Open  Promo  StateHoliday SchoolHoliday\n",
              "0      1          5  2015-07-31   5263  ...     1      1             0             1\n",
              "1      2          5  2015-07-31   6064  ...     1      1             0             1\n",
              "2      3          5  2015-07-31   8314  ...     1      1             0             1\n",
              "3      4          5  2015-07-31  13995  ...     1      1             0             1\n",
              "4      5          5  2015-07-31   4822  ...     1      1             0             1\n",
              "\n",
              "[5 rows x 9 columns]"
            ]
          },
          "metadata": {},
          "execution_count": 4
        }
      ]
    },
    {
      "cell_type": "code",
      "metadata": {
        "colab": {
          "base_uri": "https://localhost:8080/",
          "height": 206
        },
        "id": "LIh9qVTNYl8S",
        "outputId": "603440f6-f59c-467e-f892-29c75c522989"
      },
      "source": [
        "R_data.tail()"
      ],
      "execution_count": null,
      "outputs": [
        {
          "output_type": "execute_result",
          "data": {
            "text/html": [
              "<div>\n",
              "<style scoped>\n",
              "    .dataframe tbody tr th:only-of-type {\n",
              "        vertical-align: middle;\n",
              "    }\n",
              "\n",
              "    .dataframe tbody tr th {\n",
              "        vertical-align: top;\n",
              "    }\n",
              "\n",
              "    .dataframe thead th {\n",
              "        text-align: right;\n",
              "    }\n",
              "</style>\n",
              "<table border=\"1\" class=\"dataframe\">\n",
              "  <thead>\n",
              "    <tr style=\"text-align: right;\">\n",
              "      <th></th>\n",
              "      <th>Store</th>\n",
              "      <th>DayOfWeek</th>\n",
              "      <th>Date</th>\n",
              "      <th>Sales</th>\n",
              "      <th>Customers</th>\n",
              "      <th>Open</th>\n",
              "      <th>Promo</th>\n",
              "      <th>StateHoliday</th>\n",
              "      <th>SchoolHoliday</th>\n",
              "    </tr>\n",
              "  </thead>\n",
              "  <tbody>\n",
              "    <tr>\n",
              "      <th>1017204</th>\n",
              "      <td>1111</td>\n",
              "      <td>2</td>\n",
              "      <td>2013-01-01</td>\n",
              "      <td>0</td>\n",
              "      <td>0</td>\n",
              "      <td>0</td>\n",
              "      <td>0</td>\n",
              "      <td>a</td>\n",
              "      <td>1</td>\n",
              "    </tr>\n",
              "    <tr>\n",
              "      <th>1017205</th>\n",
              "      <td>1112</td>\n",
              "      <td>2</td>\n",
              "      <td>2013-01-01</td>\n",
              "      <td>0</td>\n",
              "      <td>0</td>\n",
              "      <td>0</td>\n",
              "      <td>0</td>\n",
              "      <td>a</td>\n",
              "      <td>1</td>\n",
              "    </tr>\n",
              "    <tr>\n",
              "      <th>1017206</th>\n",
              "      <td>1113</td>\n",
              "      <td>2</td>\n",
              "      <td>2013-01-01</td>\n",
              "      <td>0</td>\n",
              "      <td>0</td>\n",
              "      <td>0</td>\n",
              "      <td>0</td>\n",
              "      <td>a</td>\n",
              "      <td>1</td>\n",
              "    </tr>\n",
              "    <tr>\n",
              "      <th>1017207</th>\n",
              "      <td>1114</td>\n",
              "      <td>2</td>\n",
              "      <td>2013-01-01</td>\n",
              "      <td>0</td>\n",
              "      <td>0</td>\n",
              "      <td>0</td>\n",
              "      <td>0</td>\n",
              "      <td>a</td>\n",
              "      <td>1</td>\n",
              "    </tr>\n",
              "    <tr>\n",
              "      <th>1017208</th>\n",
              "      <td>1115</td>\n",
              "      <td>2</td>\n",
              "      <td>2013-01-01</td>\n",
              "      <td>0</td>\n",
              "      <td>0</td>\n",
              "      <td>0</td>\n",
              "      <td>0</td>\n",
              "      <td>a</td>\n",
              "      <td>1</td>\n",
              "    </tr>\n",
              "  </tbody>\n",
              "</table>\n",
              "</div>"
            ],
            "text/plain": [
              "         Store  DayOfWeek        Date  ...  Promo  StateHoliday  SchoolHoliday\n",
              "1017204   1111          2  2013-01-01  ...      0             a              1\n",
              "1017205   1112          2  2013-01-01  ...      0             a              1\n",
              "1017206   1113          2  2013-01-01  ...      0             a              1\n",
              "1017207   1114          2  2013-01-01  ...      0             a              1\n",
              "1017208   1115          2  2013-01-01  ...      0             a              1\n",
              "\n",
              "[5 rows x 9 columns]"
            ]
          },
          "metadata": {},
          "execution_count": 4
        }
      ]
    },
    {
      "cell_type": "code",
      "metadata": {
        "colab": {
          "base_uri": "https://localhost:8080/"
        },
        "id": "3DppFg4vjfcC",
        "outputId": "c9d4236d-766b-42ca-91cd-ca0fe4a0d44f"
      },
      "source": [
        "R_data.shape"
      ],
      "execution_count": null,
      "outputs": [
        {
          "output_type": "execute_result",
          "data": {
            "text/plain": [
              "(1017209, 9)"
            ]
          },
          "metadata": {},
          "execution_count": 5
        }
      ]
    },
    {
      "cell_type": "code",
      "metadata": {
        "colab": {
          "base_uri": "https://localhost:8080/",
          "height": 200
        },
        "id": "3ZoNe3mcjrNT",
        "outputId": "b9ad4607-290c-411a-b176-048b9a72e48b"
      },
      "source": [
        "store = pd.read_csv('/content/drive/MyDrive/Retail Sales- Capstone 2/Data & Resources/store.csv')\n",
        "store.head()"
      ],
      "execution_count": 5,
      "outputs": [
        {
          "output_type": "execute_result",
          "data": {
            "text/html": [
              "<div>\n",
              "<style scoped>\n",
              "    .dataframe tbody tr th:only-of-type {\n",
              "        vertical-align: middle;\n",
              "    }\n",
              "\n",
              "    .dataframe tbody tr th {\n",
              "        vertical-align: top;\n",
              "    }\n",
              "\n",
              "    .dataframe thead th {\n",
              "        text-align: right;\n",
              "    }\n",
              "</style>\n",
              "<table border=\"1\" class=\"dataframe\">\n",
              "  <thead>\n",
              "    <tr style=\"text-align: right;\">\n",
              "      <th></th>\n",
              "      <th>Store</th>\n",
              "      <th>StoreType</th>\n",
              "      <th>Assortment</th>\n",
              "      <th>CompetitionDistance</th>\n",
              "      <th>CompetitionOpenSinceMonth</th>\n",
              "      <th>CompetitionOpenSinceYear</th>\n",
              "      <th>Promo2</th>\n",
              "      <th>Promo2SinceWeek</th>\n",
              "      <th>Promo2SinceYear</th>\n",
              "      <th>PromoInterval</th>\n",
              "    </tr>\n",
              "  </thead>\n",
              "  <tbody>\n",
              "    <tr>\n",
              "      <th>0</th>\n",
              "      <td>1</td>\n",
              "      <td>c</td>\n",
              "      <td>a</td>\n",
              "      <td>1270.0</td>\n",
              "      <td>9.0</td>\n",
              "      <td>2008.0</td>\n",
              "      <td>0</td>\n",
              "      <td>NaN</td>\n",
              "      <td>NaN</td>\n",
              "      <td>NaN</td>\n",
              "    </tr>\n",
              "    <tr>\n",
              "      <th>1</th>\n",
              "      <td>2</td>\n",
              "      <td>a</td>\n",
              "      <td>a</td>\n",
              "      <td>570.0</td>\n",
              "      <td>11.0</td>\n",
              "      <td>2007.0</td>\n",
              "      <td>1</td>\n",
              "      <td>13.0</td>\n",
              "      <td>2010.0</td>\n",
              "      <td>Jan,Apr,Jul,Oct</td>\n",
              "    </tr>\n",
              "    <tr>\n",
              "      <th>2</th>\n",
              "      <td>3</td>\n",
              "      <td>a</td>\n",
              "      <td>a</td>\n",
              "      <td>14130.0</td>\n",
              "      <td>12.0</td>\n",
              "      <td>2006.0</td>\n",
              "      <td>1</td>\n",
              "      <td>14.0</td>\n",
              "      <td>2011.0</td>\n",
              "      <td>Jan,Apr,Jul,Oct</td>\n",
              "    </tr>\n",
              "    <tr>\n",
              "      <th>3</th>\n",
              "      <td>4</td>\n",
              "      <td>c</td>\n",
              "      <td>c</td>\n",
              "      <td>620.0</td>\n",
              "      <td>9.0</td>\n",
              "      <td>2009.0</td>\n",
              "      <td>0</td>\n",
              "      <td>NaN</td>\n",
              "      <td>NaN</td>\n",
              "      <td>NaN</td>\n",
              "    </tr>\n",
              "    <tr>\n",
              "      <th>4</th>\n",
              "      <td>5</td>\n",
              "      <td>a</td>\n",
              "      <td>a</td>\n",
              "      <td>29910.0</td>\n",
              "      <td>4.0</td>\n",
              "      <td>2015.0</td>\n",
              "      <td>0</td>\n",
              "      <td>NaN</td>\n",
              "      <td>NaN</td>\n",
              "      <td>NaN</td>\n",
              "    </tr>\n",
              "  </tbody>\n",
              "</table>\n",
              "</div>"
            ],
            "text/plain": [
              "   Store StoreType  ... Promo2SinceYear    PromoInterval\n",
              "0      1         c  ...             NaN              NaN\n",
              "1      2         a  ...          2010.0  Jan,Apr,Jul,Oct\n",
              "2      3         a  ...          2011.0  Jan,Apr,Jul,Oct\n",
              "3      4         c  ...             NaN              NaN\n",
              "4      5         a  ...             NaN              NaN\n",
              "\n",
              "[5 rows x 10 columns]"
            ]
          },
          "metadata": {},
          "execution_count": 5
        }
      ]
    },
    {
      "cell_type": "code",
      "metadata": {
        "colab": {
          "base_uri": "https://localhost:8080/",
          "height": 226
        },
        "id": "ELCyqhiLYvY_",
        "outputId": "5104a68e-5a9a-4ca4-97dc-c0b68d2a7639"
      },
      "source": [
        "store.tail()"
      ],
      "execution_count": null,
      "outputs": [
        {
          "output_type": "execute_result",
          "data": {
            "text/html": [
              "<div>\n",
              "<style scoped>\n",
              "    .dataframe tbody tr th:only-of-type {\n",
              "        vertical-align: middle;\n",
              "    }\n",
              "\n",
              "    .dataframe tbody tr th {\n",
              "        vertical-align: top;\n",
              "    }\n",
              "\n",
              "    .dataframe thead th {\n",
              "        text-align: right;\n",
              "    }\n",
              "</style>\n",
              "<table border=\"1\" class=\"dataframe\">\n",
              "  <thead>\n",
              "    <tr style=\"text-align: right;\">\n",
              "      <th></th>\n",
              "      <th>Store</th>\n",
              "      <th>StoreType</th>\n",
              "      <th>Assortment</th>\n",
              "      <th>CompetitionDistance</th>\n",
              "      <th>CompetitionOpenSinceMonth</th>\n",
              "      <th>CompetitionOpenSinceYear</th>\n",
              "      <th>Promo2</th>\n",
              "      <th>Promo2SinceWeek</th>\n",
              "      <th>Promo2SinceYear</th>\n",
              "      <th>PromoInterval</th>\n",
              "    </tr>\n",
              "  </thead>\n",
              "  <tbody>\n",
              "    <tr>\n",
              "      <th>1110</th>\n",
              "      <td>1111</td>\n",
              "      <td>a</td>\n",
              "      <td>a</td>\n",
              "      <td>1900.0</td>\n",
              "      <td>6.0</td>\n",
              "      <td>2014.0</td>\n",
              "      <td>1</td>\n",
              "      <td>31.0</td>\n",
              "      <td>2013.0</td>\n",
              "      <td>Jan,Apr,Jul,Oct</td>\n",
              "    </tr>\n",
              "    <tr>\n",
              "      <th>1111</th>\n",
              "      <td>1112</td>\n",
              "      <td>c</td>\n",
              "      <td>c</td>\n",
              "      <td>1880.0</td>\n",
              "      <td>4.0</td>\n",
              "      <td>2006.0</td>\n",
              "      <td>0</td>\n",
              "      <td>NaN</td>\n",
              "      <td>NaN</td>\n",
              "      <td>NaN</td>\n",
              "    </tr>\n",
              "    <tr>\n",
              "      <th>1112</th>\n",
              "      <td>1113</td>\n",
              "      <td>a</td>\n",
              "      <td>c</td>\n",
              "      <td>9260.0</td>\n",
              "      <td>NaN</td>\n",
              "      <td>NaN</td>\n",
              "      <td>0</td>\n",
              "      <td>NaN</td>\n",
              "      <td>NaN</td>\n",
              "      <td>NaN</td>\n",
              "    </tr>\n",
              "    <tr>\n",
              "      <th>1113</th>\n",
              "      <td>1114</td>\n",
              "      <td>a</td>\n",
              "      <td>c</td>\n",
              "      <td>870.0</td>\n",
              "      <td>NaN</td>\n",
              "      <td>NaN</td>\n",
              "      <td>0</td>\n",
              "      <td>NaN</td>\n",
              "      <td>NaN</td>\n",
              "      <td>NaN</td>\n",
              "    </tr>\n",
              "    <tr>\n",
              "      <th>1114</th>\n",
              "      <td>1115</td>\n",
              "      <td>d</td>\n",
              "      <td>c</td>\n",
              "      <td>5350.0</td>\n",
              "      <td>NaN</td>\n",
              "      <td>NaN</td>\n",
              "      <td>1</td>\n",
              "      <td>22.0</td>\n",
              "      <td>2012.0</td>\n",
              "      <td>Mar,Jun,Sept,Dec</td>\n",
              "    </tr>\n",
              "  </tbody>\n",
              "</table>\n",
              "</div>"
            ],
            "text/plain": [
              "      Store StoreType  ... Promo2SinceYear     PromoInterval\n",
              "1110   1111         a  ...          2013.0   Jan,Apr,Jul,Oct\n",
              "1111   1112         c  ...             NaN               NaN\n",
              "1112   1113         a  ...             NaN               NaN\n",
              "1113   1114         a  ...             NaN               NaN\n",
              "1114   1115         d  ...          2012.0  Mar,Jun,Sept,Dec\n",
              "\n",
              "[5 rows x 10 columns]"
            ]
          },
          "metadata": {},
          "execution_count": 7
        }
      ]
    },
    {
      "cell_type": "code",
      "metadata": {
        "colab": {
          "base_uri": "https://localhost:8080/"
        },
        "id": "15HCcccgjzzb",
        "outputId": "71111248-e8b9-4c2b-ded1-860de2ee7400"
      },
      "source": [
        "store.shape"
      ],
      "execution_count": null,
      "outputs": [
        {
          "output_type": "execute_result",
          "data": {
            "text/plain": [
              "(1115, 10)"
            ]
          },
          "metadata": {},
          "execution_count": 8
        }
      ]
    },
    {
      "cell_type": "markdown",
      "metadata": {
        "id": "N_QGYvgYc0S5"
      },
      "source": [
        "##<b>2.2 Dealing With Missing Values "
      ]
    },
    {
      "cell_type": "markdown",
      "metadata": {
        "id": "q4fV5t4ycm8W"
      },
      "source": [
        "###<b>2.2.1 Count missing values in each dataset"
      ]
    },
    {
      "cell_type": "code",
      "metadata": {
        "colab": {
          "base_uri": "https://localhost:8080/"
        },
        "id": "OtaJ0Cj_dJIs",
        "outputId": "d32c19ea-deff-426f-ad19-db88f2c0923c"
      },
      "source": [
        "print(\"R_data:\\n\\n\", R_data.isnull().sum(),  \n",
        "     \"\\n\\nstore:\\n\\n\", store.isnull().sum())"
      ],
      "execution_count": null,
      "outputs": [
        {
          "output_type": "stream",
          "name": "stdout",
          "text": [
            "R_data:\n",
            "\n",
            " Store            0\n",
            "DayOfWeek        0\n",
            "Date             0\n",
            "Sales            0\n",
            "Customers        0\n",
            "Open             0\n",
            "Promo            0\n",
            "StateHoliday     0\n",
            "SchoolHoliday    0\n",
            "dtype: int64 \n",
            "\n",
            "store:\n",
            "\n",
            " Store                          0\n",
            "StoreType                      0\n",
            "Assortment                     0\n",
            "CompetitionDistance            3\n",
            "CompetitionOpenSinceMonth    354\n",
            "CompetitionOpenSinceYear     354\n",
            "Promo2                         0\n",
            "Promo2SinceWeek              544\n",
            "Promo2SinceYear              544\n",
            "PromoInterval                544\n",
            "dtype: int64\n"
          ]
        }
      ]
    },
    {
      "cell_type": "markdown",
      "metadata": {
        "id": "QV6x7SVZL5JB"
      },
      "source": [
        "### 2.2.2 Replace missing values in features with low percentages of missing values"
      ]
    },
    {
      "cell_type": "code",
      "metadata": {
        "id": "hWaj1lwyNXdp",
        "colab": {
          "base_uri": "https://localhost:8080/"
        },
        "outputId": "0444b9a4-8250-4560-dad5-2f49c7837246"
      },
      "source": [
        "# check for any null values\n",
        "store.isnull().sum()"
      ],
      "execution_count": null,
      "outputs": [
        {
          "output_type": "execute_result",
          "data": {
            "text/plain": [
              "Store                          0\n",
              "StoreType                      0\n",
              "Assortment                     0\n",
              "CompetitionDistance            3\n",
              "CompetitionOpenSinceMonth    354\n",
              "CompetitionOpenSinceYear     354\n",
              "Promo2                         0\n",
              "Promo2SinceWeek              544\n",
              "Promo2SinceYear              544\n",
              "PromoInterval                544\n",
              "dtype: int64"
            ]
          },
          "metadata": {},
          "execution_count": 10
        }
      ]
    },
    {
      "cell_type": "markdown",
      "metadata": {
        "id": "w_0fj0z1igVO"
      },
      "source": [
        "### Let's start the cleansing process by order"
      ]
    },
    {
      "cell_type": "markdown",
      "metadata": {
        "id": "aYISp3UejbHF"
      },
      "source": [
        "CompetitionDistance:"
      ]
    },
    {
      "cell_type": "markdown",
      "metadata": {
        "id": "DyL1IKkeNh4V"
      },
      "source": [
        "Since Competition distance have 3 null values.\n"
      ]
    },
    {
      "cell_type": "markdown",
      "metadata": {
        "id": "tMZ6oNFRjjl5"
      },
      "source": [
        "Before deciding how to treat this,we know there are infinite ways of filling missing values.\n",
        "\n",
        "The most common and simplistic approach is to fill it with either the mean or the median of this variable.\n"
      ]
    },
    {
      "cell_type": "markdown",
      "metadata": {
        "id": "Wh6t6aVWj7GR"
      },
      "source": [
        "It is realistically better to input the median value to the three Nan stores then the mean since the mean is biased by those outliers."
      ]
    },
    {
      "cell_type": "code",
      "metadata": {
        "id": "-z9lOSSMM8Qb"
      },
      "source": [
        "# filling competition distance with mean\n",
        "store['CompetitionDistance'].fillna(store['CompetitionDistance'].median(), inplace = True)\n"
      ],
      "execution_count": 6,
      "outputs": []
    },
    {
      "cell_type": "code",
      "metadata": {
        "id": "GxaT_4teN7Rx",
        "colab": {
          "base_uri": "https://localhost:8080/"
        },
        "outputId": "85f7d558-7ff7-4f8a-e91e-19dc0bc778f3"
      },
      "source": [
        "# lets check again for null value\n",
        "store.isnull().sum()"
      ],
      "execution_count": null,
      "outputs": [
        {
          "output_type": "execute_result",
          "data": {
            "text/plain": [
              "Store                          0\n",
              "StoreType                      0\n",
              "Assortment                     0\n",
              "CompetitionDistance            0\n",
              "CompetitionOpenSinceMonth    354\n",
              "CompetitionOpenSinceYear     354\n",
              "Promo2                         0\n",
              "Promo2SinceWeek              544\n",
              "Promo2SinceYear              544\n",
              "PromoInterval                544\n",
              "dtype: int64"
            ]
          },
          "metadata": {},
          "execution_count": 12
        }
      ]
    },
    {
      "cell_type": "markdown",
      "metadata": {
        "id": "SnfDpSMUMBSx"
      },
      "source": [
        "##<b>2.3 Date Extraction"
      ]
    },
    {
      "cell_type": "markdown",
      "metadata": {
        "id": "EutMSO34OjSe"
      },
      "source": [
        "Lets extract the dates from date features\n",
        "Since we have only dates, we will extract years, months, day and weakof year"
      ]
    },
    {
      "cell_type": "code",
      "metadata": {
        "id": "FOe2Hc8jQ9ll",
        "colab": {
          "base_uri": "https://localhost:8080/"
        },
        "outputId": "7cc61ccc-858c-4229-8ecc-910d339f6378"
      },
      "source": [
        "R_data.info()"
      ],
      "execution_count": null,
      "outputs": [
        {
          "output_type": "stream",
          "name": "stdout",
          "text": [
            "<class 'pandas.core.frame.DataFrame'>\n",
            "RangeIndex: 1017209 entries, 0 to 1017208\n",
            "Data columns (total 9 columns):\n",
            " #   Column         Non-Null Count    Dtype \n",
            "---  ------         --------------    ----- \n",
            " 0   Store          1017209 non-null  int64 \n",
            " 1   DayOfWeek      1017209 non-null  int64 \n",
            " 2   Date           1017209 non-null  object\n",
            " 3   Sales          1017209 non-null  int64 \n",
            " 4   Customers      1017209 non-null  int64 \n",
            " 5   Open           1017209 non-null  int64 \n",
            " 6   Promo          1017209 non-null  int64 \n",
            " 7   StateHoliday   1017209 non-null  object\n",
            " 8   SchoolHoliday  1017209 non-null  int64 \n",
            "dtypes: int64(7), object(2)\n",
            "memory usage: 69.8+ MB\n"
          ]
        }
      ]
    },
    {
      "cell_type": "markdown",
      "metadata": {
        "id": "O7wg10I_RdzE"
      },
      "source": [
        "  Firstly convert the datatype of 'Date' column to datetime format"
      ]
    },
    {
      "cell_type": "code",
      "metadata": {
        "id": "-qJlFDVMRvnH"
      },
      "source": [
        "# converting to datetime datatype\n",
        "\n",
        "R_data['Date']=pd.to_datetime(R_data['Date'])"
      ],
      "execution_count": 7,
      "outputs": []
    },
    {
      "cell_type": "code",
      "metadata": {
        "id": "aruC5bODSNB8",
        "colab": {
          "base_uri": "https://localhost:8080/"
        },
        "outputId": "182ed71b-cc6e-4af4-95f5-15d70c1fd60e"
      },
      "source": [
        "R_data.info()"
      ],
      "execution_count": null,
      "outputs": [
        {
          "output_type": "stream",
          "name": "stdout",
          "text": [
            "<class 'pandas.core.frame.DataFrame'>\n",
            "RangeIndex: 1017209 entries, 0 to 1017208\n",
            "Data columns (total 9 columns):\n",
            " #   Column         Non-Null Count    Dtype         \n",
            "---  ------         --------------    -----         \n",
            " 0   Store          1017209 non-null  int64         \n",
            " 1   DayOfWeek      1017209 non-null  int64         \n",
            " 2   Date           1017209 non-null  datetime64[ns]\n",
            " 3   Sales          1017209 non-null  int64         \n",
            " 4   Customers      1017209 non-null  int64         \n",
            " 5   Open           1017209 non-null  int64         \n",
            " 6   Promo          1017209 non-null  int64         \n",
            " 7   StateHoliday   1017209 non-null  object        \n",
            " 8   SchoolHoliday  1017209 non-null  int64         \n",
            "dtypes: datetime64[ns](1), int64(7), object(1)\n",
            "memory usage: 69.8+ MB\n"
          ]
        }
      ]
    },
    {
      "cell_type": "code",
      "metadata": {
        "id": "sj_phudoOggS",
        "colab": {
          "base_uri": "https://localhost:8080/"
        },
        "outputId": "dcbccbb2-adfe-47e6-cc14-975722fb33a7"
      },
      "source": [
        "# extract year, month, day and week of year from \"Date\"\n",
        "R_data['Year'] =pd.DatetimeIndex(R_data['Date']).year\n",
        "R_data['Month'] =pd.DatetimeIndex(R_data['Date']).month\n",
        "R_data['Day'] =pd.DatetimeIndex(R_data['Date']).day\n",
        "R_data['WeekOfYear'] = pd.DatetimeIndex(R_data['Date']).weekofyear\n",
        "# R_data = R_data.reset_index()"
      ],
      "execution_count": 8,
      "outputs": [
        {
          "output_type": "stream",
          "name": "stderr",
          "text": [
            "/usr/local/lib/python3.7/dist-packages/ipykernel_launcher.py:5: FutureWarning:\n",
            "\n",
            "weekofyear and week have been deprecated, please use DatetimeIndex.isocalendar().week instead, which returns a Series.  To exactly reproduce the behavior of week and weekofyear and return an Index, you may call pd.Int64Index(idx.isocalendar().week)\n",
            "\n"
          ]
        }
      ]
    },
    {
      "cell_type": "code",
      "metadata": {
        "id": "GecTFP75ULOi",
        "colab": {
          "base_uri": "https://localhost:8080/"
        },
        "outputId": "a5fdf1cd-159a-4459-a612-49200e5d158f"
      },
      "source": [
        "R_data.info()"
      ],
      "execution_count": null,
      "outputs": [
        {
          "output_type": "stream",
          "name": "stdout",
          "text": [
            "<class 'pandas.core.frame.DataFrame'>\n",
            "RangeIndex: 1017209 entries, 0 to 1017208\n",
            "Data columns (total 13 columns):\n",
            " #   Column         Non-Null Count    Dtype         \n",
            "---  ------         --------------    -----         \n",
            " 0   Store          1017209 non-null  int64         \n",
            " 1   DayOfWeek      1017209 non-null  int64         \n",
            " 2   Date           1017209 non-null  datetime64[ns]\n",
            " 3   Sales          1017209 non-null  int64         \n",
            " 4   Customers      1017209 non-null  int64         \n",
            " 5   Open           1017209 non-null  int64         \n",
            " 6   Promo          1017209 non-null  int64         \n",
            " 7   StateHoliday   1017209 non-null  object        \n",
            " 8   SchoolHoliday  1017209 non-null  int64         \n",
            " 9   Year           1017209 non-null  int64         \n",
            " 10  Month          1017209 non-null  int64         \n",
            " 11  Day            1017209 non-null  int64         \n",
            " 12  WeekOfYear     1017209 non-null  int64         \n",
            "dtypes: datetime64[ns](1), int64(11), object(1)\n",
            "memory usage: 100.9+ MB\n"
          ]
        }
      ]
    },
    {
      "cell_type": "markdown",
      "metadata": {
        "id": "i1u8gTt9MHxH"
      },
      "source": [
        "##<b> 2.4 Joining Tables"
      ]
    },
    {
      "cell_type": "markdown",
      "metadata": {
        "id": "Sixe8EKdUsFW"
      },
      "source": [
        "Now join the table R_data and store dataframe "
      ]
    },
    {
      "cell_type": "code",
      "metadata": {
        "id": "1saB7171UWuD",
        "colab": {
          "base_uri": "https://localhost:8080/",
          "height": 301
        },
        "outputId": "9470165a-1ed5-42c6-f1aa-84c723142656"
      },
      "source": [
        "data = pd.merge(R_data, store, how='left', on='Store')\n",
        "data.head()"
      ],
      "execution_count": 9,
      "outputs": [
        {
          "output_type": "execute_result",
          "data": {
            "text/html": [
              "<div>\n",
              "<style scoped>\n",
              "    .dataframe tbody tr th:only-of-type {\n",
              "        vertical-align: middle;\n",
              "    }\n",
              "\n",
              "    .dataframe tbody tr th {\n",
              "        vertical-align: top;\n",
              "    }\n",
              "\n",
              "    .dataframe thead th {\n",
              "        text-align: right;\n",
              "    }\n",
              "</style>\n",
              "<table border=\"1\" class=\"dataframe\">\n",
              "  <thead>\n",
              "    <tr style=\"text-align: right;\">\n",
              "      <th></th>\n",
              "      <th>Store</th>\n",
              "      <th>DayOfWeek</th>\n",
              "      <th>Date</th>\n",
              "      <th>Sales</th>\n",
              "      <th>Customers</th>\n",
              "      <th>Open</th>\n",
              "      <th>Promo</th>\n",
              "      <th>StateHoliday</th>\n",
              "      <th>SchoolHoliday</th>\n",
              "      <th>Year</th>\n",
              "      <th>Month</th>\n",
              "      <th>Day</th>\n",
              "      <th>WeekOfYear</th>\n",
              "      <th>StoreType</th>\n",
              "      <th>Assortment</th>\n",
              "      <th>CompetitionDistance</th>\n",
              "      <th>CompetitionOpenSinceMonth</th>\n",
              "      <th>CompetitionOpenSinceYear</th>\n",
              "      <th>Promo2</th>\n",
              "      <th>Promo2SinceWeek</th>\n",
              "      <th>Promo2SinceYear</th>\n",
              "      <th>PromoInterval</th>\n",
              "    </tr>\n",
              "  </thead>\n",
              "  <tbody>\n",
              "    <tr>\n",
              "      <th>0</th>\n",
              "      <td>1</td>\n",
              "      <td>5</td>\n",
              "      <td>2015-07-31</td>\n",
              "      <td>5263</td>\n",
              "      <td>555</td>\n",
              "      <td>1</td>\n",
              "      <td>1</td>\n",
              "      <td>0</td>\n",
              "      <td>1</td>\n",
              "      <td>2015</td>\n",
              "      <td>7</td>\n",
              "      <td>31</td>\n",
              "      <td>31</td>\n",
              "      <td>c</td>\n",
              "      <td>a</td>\n",
              "      <td>1270.0</td>\n",
              "      <td>9.0</td>\n",
              "      <td>2008.0</td>\n",
              "      <td>0</td>\n",
              "      <td>NaN</td>\n",
              "      <td>NaN</td>\n",
              "      <td>NaN</td>\n",
              "    </tr>\n",
              "    <tr>\n",
              "      <th>1</th>\n",
              "      <td>2</td>\n",
              "      <td>5</td>\n",
              "      <td>2015-07-31</td>\n",
              "      <td>6064</td>\n",
              "      <td>625</td>\n",
              "      <td>1</td>\n",
              "      <td>1</td>\n",
              "      <td>0</td>\n",
              "      <td>1</td>\n",
              "      <td>2015</td>\n",
              "      <td>7</td>\n",
              "      <td>31</td>\n",
              "      <td>31</td>\n",
              "      <td>a</td>\n",
              "      <td>a</td>\n",
              "      <td>570.0</td>\n",
              "      <td>11.0</td>\n",
              "      <td>2007.0</td>\n",
              "      <td>1</td>\n",
              "      <td>13.0</td>\n",
              "      <td>2010.0</td>\n",
              "      <td>Jan,Apr,Jul,Oct</td>\n",
              "    </tr>\n",
              "    <tr>\n",
              "      <th>2</th>\n",
              "      <td>3</td>\n",
              "      <td>5</td>\n",
              "      <td>2015-07-31</td>\n",
              "      <td>8314</td>\n",
              "      <td>821</td>\n",
              "      <td>1</td>\n",
              "      <td>1</td>\n",
              "      <td>0</td>\n",
              "      <td>1</td>\n",
              "      <td>2015</td>\n",
              "      <td>7</td>\n",
              "      <td>31</td>\n",
              "      <td>31</td>\n",
              "      <td>a</td>\n",
              "      <td>a</td>\n",
              "      <td>14130.0</td>\n",
              "      <td>12.0</td>\n",
              "      <td>2006.0</td>\n",
              "      <td>1</td>\n",
              "      <td>14.0</td>\n",
              "      <td>2011.0</td>\n",
              "      <td>Jan,Apr,Jul,Oct</td>\n",
              "    </tr>\n",
              "    <tr>\n",
              "      <th>3</th>\n",
              "      <td>4</td>\n",
              "      <td>5</td>\n",
              "      <td>2015-07-31</td>\n",
              "      <td>13995</td>\n",
              "      <td>1498</td>\n",
              "      <td>1</td>\n",
              "      <td>1</td>\n",
              "      <td>0</td>\n",
              "      <td>1</td>\n",
              "      <td>2015</td>\n",
              "      <td>7</td>\n",
              "      <td>31</td>\n",
              "      <td>31</td>\n",
              "      <td>c</td>\n",
              "      <td>c</td>\n",
              "      <td>620.0</td>\n",
              "      <td>9.0</td>\n",
              "      <td>2009.0</td>\n",
              "      <td>0</td>\n",
              "      <td>NaN</td>\n",
              "      <td>NaN</td>\n",
              "      <td>NaN</td>\n",
              "    </tr>\n",
              "    <tr>\n",
              "      <th>4</th>\n",
              "      <td>5</td>\n",
              "      <td>5</td>\n",
              "      <td>2015-07-31</td>\n",
              "      <td>4822</td>\n",
              "      <td>559</td>\n",
              "      <td>1</td>\n",
              "      <td>1</td>\n",
              "      <td>0</td>\n",
              "      <td>1</td>\n",
              "      <td>2015</td>\n",
              "      <td>7</td>\n",
              "      <td>31</td>\n",
              "      <td>31</td>\n",
              "      <td>a</td>\n",
              "      <td>a</td>\n",
              "      <td>29910.0</td>\n",
              "      <td>4.0</td>\n",
              "      <td>2015.0</td>\n",
              "      <td>0</td>\n",
              "      <td>NaN</td>\n",
              "      <td>NaN</td>\n",
              "      <td>NaN</td>\n",
              "    </tr>\n",
              "  </tbody>\n",
              "</table>\n",
              "</div>"
            ],
            "text/plain": [
              "   Store  DayOfWeek  ... Promo2SinceYear    PromoInterval\n",
              "0      1          5  ...             NaN              NaN\n",
              "1      2          5  ...          2010.0  Jan,Apr,Jul,Oct\n",
              "2      3          5  ...          2011.0  Jan,Apr,Jul,Oct\n",
              "3      4          5  ...             NaN              NaN\n",
              "4      5          5  ...             NaN              NaN\n",
              "\n",
              "[5 rows x 22 columns]"
            ]
          },
          "metadata": {},
          "execution_count": 9
        }
      ]
    },
    {
      "cell_type": "code",
      "metadata": {
        "id": "Z4kvFLLbVgbY",
        "colab": {
          "base_uri": "https://localhost:8080/"
        },
        "outputId": "5f0e615e-0469-4783-e553-6542eb73f1aa"
      },
      "source": [
        "data.info()"
      ],
      "execution_count": null,
      "outputs": [
        {
          "output_type": "stream",
          "name": "stdout",
          "text": [
            "<class 'pandas.core.frame.DataFrame'>\n",
            "Int64Index: 1017209 entries, 0 to 1017208\n",
            "Data columns (total 22 columns):\n",
            " #   Column                     Non-Null Count    Dtype         \n",
            "---  ------                     --------------    -----         \n",
            " 0   Store                      1017209 non-null  int64         \n",
            " 1   DayOfWeek                  1017209 non-null  int64         \n",
            " 2   Date                       1017209 non-null  datetime64[ns]\n",
            " 3   Sales                      1017209 non-null  int64         \n",
            " 4   Customers                  1017209 non-null  int64         \n",
            " 5   Open                       1017209 non-null  int64         \n",
            " 6   Promo                      1017209 non-null  int64         \n",
            " 7   StateHoliday               1017209 non-null  object        \n",
            " 8   SchoolHoliday              1017209 non-null  int64         \n",
            " 9   Year                       1017209 non-null  int64         \n",
            " 10  Month                      1017209 non-null  int64         \n",
            " 11  Day                        1017209 non-null  int64         \n",
            " 12  WeekOfYear                 1017209 non-null  int64         \n",
            " 13  StoreType                  1017209 non-null  object        \n",
            " 14  Assortment                 1017209 non-null  object        \n",
            " 15  CompetitionDistance        1017209 non-null  float64       \n",
            " 16  CompetitionOpenSinceMonth  693861 non-null   float64       \n",
            " 17  CompetitionOpenSinceYear   693861 non-null   float64       \n",
            " 18  Promo2                     1017209 non-null  int64         \n",
            " 19  Promo2SinceWeek            509178 non-null   float64       \n",
            " 20  Promo2SinceYear            509178 non-null   float64       \n",
            " 21  PromoInterval              509178 non-null   object        \n",
            "dtypes: datetime64[ns](1), float64(5), int64(12), object(4)\n",
            "memory usage: 178.5+ MB\n"
          ]
        }
      ]
    },
    {
      "cell_type": "code",
      "metadata": {
        "id": "cm_9Q5VJVl8Y",
        "colab": {
          "base_uri": "https://localhost:8080/"
        },
        "outputId": "db938717-10a2-4409-bfd4-4d455d8f2816"
      },
      "source": [
        "data.isnull().sum()"
      ],
      "execution_count": null,
      "outputs": [
        {
          "output_type": "execute_result",
          "data": {
            "text/plain": [
              "Store                             0\n",
              "DayOfWeek                         0\n",
              "Date                              0\n",
              "Sales                             0\n",
              "Customers                         0\n",
              "Open                              0\n",
              "Promo                             0\n",
              "StateHoliday                      0\n",
              "SchoolHoliday                     0\n",
              "Year                              0\n",
              "Month                             0\n",
              "Day                               0\n",
              "WeekOfYear                        0\n",
              "StoreType                         0\n",
              "Assortment                        0\n",
              "CompetitionDistance               0\n",
              "CompetitionOpenSinceMonth    323348\n",
              "CompetitionOpenSinceYear     323348\n",
              "Promo2                            0\n",
              "Promo2SinceWeek              508031\n",
              "Promo2SinceYear              508031\n",
              "PromoInterval                508031\n",
              "dtype: int64"
            ]
          },
          "metadata": {},
          "execution_count": 20
        }
      ]
    },
    {
      "cell_type": "markdown",
      "metadata": {
        "id": "99MPfQlsm3z0"
      },
      "source": [
        "##<b>Checking the nominal values"
      ]
    },
    {
      "cell_type": "code",
      "metadata": {
        "colab": {
          "base_uri": "https://localhost:8080/"
        },
        "id": "19dlmuv5m_x3",
        "outputId": "2a7c6f12-daf8-498d-dd4b-7ff2a087f4d7"
      },
      "source": [
        "# Nominal Values\n",
        "set(data.StateHoliday),set(data.Assortment),set(data.StoreType)"
      ],
      "execution_count": 10,
      "outputs": [
        {
          "output_type": "execute_result",
          "data": {
            "text/plain": [
              "({0, '0', 'a', 'b', 'c'}, {'a', 'b', 'c'}, {'a', 'b', 'c', 'd'})"
            ]
          },
          "metadata": {},
          "execution_count": 10
        }
      ]
    },
    {
      "cell_type": "markdown",
      "metadata": {
        "id": "oEpkIRr6nepY"
      },
      "source": [
        "Since StateHoliday have zero for none.\n",
        "let's convert that into string '0'"
      ]
    },
    {
      "cell_type": "code",
      "metadata": {
        "id": "lgbmuu_inxVc"
      },
      "source": [
        "# converting 0 to string '0'\n",
        "data.loc[data.StateHoliday == 0,'StateHoliday'] = data.loc[data.StateHoliday == 0,'StateHoliday'].astype(str)"
      ],
      "execution_count": 11,
      "outputs": []
    },
    {
      "cell_type": "code",
      "metadata": {
        "colab": {
          "base_uri": "https://localhost:8080/"
        },
        "id": "D7HHucVGdDLq",
        "outputId": "db670246-816d-41f0-a465-e6f76e6d83c8"
      },
      "source": [
        "data.info()"
      ],
      "execution_count": null,
      "outputs": [
        {
          "output_type": "stream",
          "name": "stdout",
          "text": [
            "<class 'pandas.core.frame.DataFrame'>\n",
            "Int64Index: 1017209 entries, 0 to 1017208\n",
            "Data columns (total 22 columns):\n",
            " #   Column                     Non-Null Count    Dtype         \n",
            "---  ------                     --------------    -----         \n",
            " 0   Store                      1017209 non-null  int64         \n",
            " 1   DayOfWeek                  1017209 non-null  int64         \n",
            " 2   Date                       1017209 non-null  datetime64[ns]\n",
            " 3   Sales                      1017209 non-null  int64         \n",
            " 4   Customers                  1017209 non-null  int64         \n",
            " 5   Open                       1017209 non-null  int64         \n",
            " 6   Promo                      1017209 non-null  int64         \n",
            " 7   StateHoliday               1017209 non-null  object        \n",
            " 8   SchoolHoliday              1017209 non-null  int64         \n",
            " 9   Year                       1017209 non-null  int64         \n",
            " 10  Month                      1017209 non-null  int64         \n",
            " 11  Day                        1017209 non-null  int64         \n",
            " 12  WeekOfYear                 1017209 non-null  int64         \n",
            " 13  StoreType                  1017209 non-null  object        \n",
            " 14  Assortment                 1017209 non-null  object        \n",
            " 15  CompetitionDistance        1017209 non-null  float64       \n",
            " 16  CompetitionOpenSinceMonth  693861 non-null   float64       \n",
            " 17  CompetitionOpenSinceYear   693861 non-null   float64       \n",
            " 18  Promo2                     1017209 non-null  int64         \n",
            " 19  Promo2SinceWeek            509178 non-null   float64       \n",
            " 20  Promo2SinceYear            509178 non-null   float64       \n",
            " 21  PromoInterval              509178 non-null   object        \n",
            "dtypes: datetime64[ns](1), float64(5), int64(12), object(4)\n",
            "memory usage: 178.5+ MB\n"
          ]
        }
      ]
    },
    {
      "cell_type": "markdown",
      "metadata": {
        "id": "7pkPBB0BlwyX"
      },
      "source": [
        "###Checking data(merged) columns,unique values"
      ]
    },
    {
      "cell_type": "code",
      "metadata": {
        "id": "GnfS6-6Jks4A",
        "colab": {
          "base_uri": "https://localhost:8080/"
        },
        "outputId": "3865c60d-be55-4b43-b87d-abd140b6e943"
      },
      "source": [
        "data.columns"
      ],
      "execution_count": null,
      "outputs": [
        {
          "output_type": "execute_result",
          "data": {
            "text/plain": [
              "Index(['Store', 'DayOfWeek', 'Date', 'Sales', 'Customers', 'Open', 'Promo',\n",
              "       'StateHoliday', 'SchoolHoliday', 'Year', 'Month', 'Day', 'WeekOfYear',\n",
              "       'StoreType', 'Assortment', 'CompetitionDistance',\n",
              "       'CompetitionOpenSinceMonth', 'CompetitionOpenSinceYear', 'Promo2',\n",
              "       'Promo2SinceWeek', 'Promo2SinceYear', 'PromoInterval'],\n",
              "      dtype='object')"
            ]
          },
          "metadata": {},
          "execution_count": 24
        }
      ]
    },
    {
      "cell_type": "code",
      "metadata": {
        "id": "Yu3DqQzmks69",
        "colab": {
          "base_uri": "https://localhost:8080/"
        },
        "outputId": "056a3637-2bba-4d9c-dace-54e55e4ea7ad"
      },
      "source": [
        "data.nunique()"
      ],
      "execution_count": null,
      "outputs": [
        {
          "output_type": "execute_result",
          "data": {
            "text/plain": [
              "Store                         1115\n",
              "DayOfWeek                        7\n",
              "Date                           942\n",
              "Sales                        21734\n",
              "Customers                     4086\n",
              "Open                             2\n",
              "Promo                            2\n",
              "StateHoliday                     4\n",
              "SchoolHoliday                    2\n",
              "Year                             3\n",
              "Month                           12\n",
              "Day                             31\n",
              "WeekOfYear                      52\n",
              "StoreType                        4\n",
              "Assortment                       3\n",
              "CompetitionDistance            655\n",
              "CompetitionOpenSinceMonth       12\n",
              "CompetitionOpenSinceYear        23\n",
              "Promo2                           2\n",
              "Promo2SinceWeek                 24\n",
              "Promo2SinceYear                  7\n",
              "PromoInterval                    3\n",
              "dtype: int64"
            ]
          },
          "metadata": {},
          "execution_count": 25
        }
      ]
    },
    {
      "cell_type": "code",
      "metadata": {
        "id": "qHFfBoACks8l",
        "colab": {
          "base_uri": "https://localhost:8080/"
        },
        "outputId": "8a03607d-09e3-405e-a9c0-3faa7aaf052f"
      },
      "source": [
        "data.Date.unique()#to check seperately"
      ],
      "execution_count": null,
      "outputs": [
        {
          "output_type": "execute_result",
          "data": {
            "text/plain": [
              "array(['2015-07-31T00:00:00.000000000', '2015-07-30T00:00:00.000000000',\n",
              "       '2015-07-29T00:00:00.000000000', '2015-07-28T00:00:00.000000000',\n",
              "       '2015-07-27T00:00:00.000000000', '2015-07-26T00:00:00.000000000',\n",
              "       '2015-07-25T00:00:00.000000000', '2015-07-24T00:00:00.000000000',\n",
              "       '2015-07-23T00:00:00.000000000', '2015-07-22T00:00:00.000000000',\n",
              "       '2015-07-21T00:00:00.000000000', '2015-07-20T00:00:00.000000000',\n",
              "       '2015-07-19T00:00:00.000000000', '2015-07-18T00:00:00.000000000',\n",
              "       '2015-07-17T00:00:00.000000000', '2015-07-16T00:00:00.000000000',\n",
              "       '2015-07-15T00:00:00.000000000', '2015-07-14T00:00:00.000000000',\n",
              "       '2015-07-13T00:00:00.000000000', '2015-07-12T00:00:00.000000000',\n",
              "       '2015-07-11T00:00:00.000000000', '2015-07-10T00:00:00.000000000',\n",
              "       '2015-07-09T00:00:00.000000000', '2015-07-08T00:00:00.000000000',\n",
              "       '2015-07-07T00:00:00.000000000', '2015-07-06T00:00:00.000000000',\n",
              "       '2015-07-05T00:00:00.000000000', '2015-07-04T00:00:00.000000000',\n",
              "       '2015-07-03T00:00:00.000000000', '2015-07-02T00:00:00.000000000',\n",
              "       '2015-07-01T00:00:00.000000000', '2015-06-30T00:00:00.000000000',\n",
              "       '2015-06-29T00:00:00.000000000', '2015-06-28T00:00:00.000000000',\n",
              "       '2015-06-27T00:00:00.000000000', '2015-06-26T00:00:00.000000000',\n",
              "       '2015-06-25T00:00:00.000000000', '2015-06-24T00:00:00.000000000',\n",
              "       '2015-06-23T00:00:00.000000000', '2015-06-22T00:00:00.000000000',\n",
              "       '2015-06-21T00:00:00.000000000', '2015-06-20T00:00:00.000000000',\n",
              "       '2015-06-19T00:00:00.000000000', '2015-06-18T00:00:00.000000000',\n",
              "       '2015-06-17T00:00:00.000000000', '2015-06-16T00:00:00.000000000',\n",
              "       '2015-06-15T00:00:00.000000000', '2015-06-14T00:00:00.000000000',\n",
              "       '2015-06-13T00:00:00.000000000', '2015-06-12T00:00:00.000000000',\n",
              "       '2015-06-11T00:00:00.000000000', '2015-06-10T00:00:00.000000000',\n",
              "       '2015-06-09T00:00:00.000000000', '2015-06-08T00:00:00.000000000',\n",
              "       '2015-06-07T00:00:00.000000000', '2015-06-06T00:00:00.000000000',\n",
              "       '2015-06-05T00:00:00.000000000', '2015-06-04T00:00:00.000000000',\n",
              "       '2015-06-03T00:00:00.000000000', '2015-06-02T00:00:00.000000000',\n",
              "       '2015-06-01T00:00:00.000000000', '2015-05-31T00:00:00.000000000',\n",
              "       '2015-05-30T00:00:00.000000000', '2015-05-29T00:00:00.000000000',\n",
              "       '2015-05-28T00:00:00.000000000', '2015-05-27T00:00:00.000000000',\n",
              "       '2015-05-26T00:00:00.000000000', '2015-05-25T00:00:00.000000000',\n",
              "       '2015-05-24T00:00:00.000000000', '2015-05-23T00:00:00.000000000',\n",
              "       '2015-05-22T00:00:00.000000000', '2015-05-21T00:00:00.000000000',\n",
              "       '2015-05-20T00:00:00.000000000', '2015-05-19T00:00:00.000000000',\n",
              "       '2015-05-18T00:00:00.000000000', '2015-05-17T00:00:00.000000000',\n",
              "       '2015-05-16T00:00:00.000000000', '2015-05-15T00:00:00.000000000',\n",
              "       '2015-05-14T00:00:00.000000000', '2015-05-13T00:00:00.000000000',\n",
              "       '2015-05-12T00:00:00.000000000', '2015-05-11T00:00:00.000000000',\n",
              "       '2015-05-10T00:00:00.000000000', '2015-05-09T00:00:00.000000000',\n",
              "       '2015-05-08T00:00:00.000000000', '2015-05-07T00:00:00.000000000',\n",
              "       '2015-05-06T00:00:00.000000000', '2015-05-05T00:00:00.000000000',\n",
              "       '2015-05-04T00:00:00.000000000', '2015-05-03T00:00:00.000000000',\n",
              "       '2015-05-02T00:00:00.000000000', '2015-05-01T00:00:00.000000000',\n",
              "       '2015-04-30T00:00:00.000000000', '2015-04-29T00:00:00.000000000',\n",
              "       '2015-04-28T00:00:00.000000000', '2015-04-27T00:00:00.000000000',\n",
              "       '2015-04-26T00:00:00.000000000', '2015-04-25T00:00:00.000000000',\n",
              "       '2015-04-24T00:00:00.000000000', '2015-04-23T00:00:00.000000000',\n",
              "       '2015-04-22T00:00:00.000000000', '2015-04-21T00:00:00.000000000',\n",
              "       '2015-04-20T00:00:00.000000000', '2015-04-19T00:00:00.000000000',\n",
              "       '2015-04-18T00:00:00.000000000', '2015-04-17T00:00:00.000000000',\n",
              "       '2015-04-16T00:00:00.000000000', '2015-04-15T00:00:00.000000000',\n",
              "       '2015-04-14T00:00:00.000000000', '2015-04-13T00:00:00.000000000',\n",
              "       '2015-04-12T00:00:00.000000000', '2015-04-11T00:00:00.000000000',\n",
              "       '2015-04-10T00:00:00.000000000', '2015-04-09T00:00:00.000000000',\n",
              "       '2015-04-08T00:00:00.000000000', '2015-04-07T00:00:00.000000000',\n",
              "       '2015-04-06T00:00:00.000000000', '2015-04-05T00:00:00.000000000',\n",
              "       '2015-04-04T00:00:00.000000000', '2015-04-03T00:00:00.000000000',\n",
              "       '2015-04-02T00:00:00.000000000', '2015-04-01T00:00:00.000000000',\n",
              "       '2015-03-31T00:00:00.000000000', '2015-03-30T00:00:00.000000000',\n",
              "       '2015-03-29T00:00:00.000000000', '2015-03-28T00:00:00.000000000',\n",
              "       '2015-03-27T00:00:00.000000000', '2015-03-26T00:00:00.000000000',\n",
              "       '2015-03-25T00:00:00.000000000', '2015-03-24T00:00:00.000000000',\n",
              "       '2015-03-23T00:00:00.000000000', '2015-03-22T00:00:00.000000000',\n",
              "       '2015-03-21T00:00:00.000000000', '2015-03-20T00:00:00.000000000',\n",
              "       '2015-03-19T00:00:00.000000000', '2015-03-18T00:00:00.000000000',\n",
              "       '2015-03-17T00:00:00.000000000', '2015-03-16T00:00:00.000000000',\n",
              "       '2015-03-15T00:00:00.000000000', '2015-03-14T00:00:00.000000000',\n",
              "       '2015-03-13T00:00:00.000000000', '2015-03-12T00:00:00.000000000',\n",
              "       '2015-03-11T00:00:00.000000000', '2015-03-10T00:00:00.000000000',\n",
              "       '2015-03-09T00:00:00.000000000', '2015-03-08T00:00:00.000000000',\n",
              "       '2015-03-07T00:00:00.000000000', '2015-03-06T00:00:00.000000000',\n",
              "       '2015-03-05T00:00:00.000000000', '2015-03-04T00:00:00.000000000',\n",
              "       '2015-03-03T00:00:00.000000000', '2015-03-02T00:00:00.000000000',\n",
              "       '2015-03-01T00:00:00.000000000', '2015-02-28T00:00:00.000000000',\n",
              "       '2015-02-27T00:00:00.000000000', '2015-02-26T00:00:00.000000000',\n",
              "       '2015-02-25T00:00:00.000000000', '2015-02-24T00:00:00.000000000',\n",
              "       '2015-02-23T00:00:00.000000000', '2015-02-22T00:00:00.000000000',\n",
              "       '2015-02-21T00:00:00.000000000', '2015-02-20T00:00:00.000000000',\n",
              "       '2015-02-19T00:00:00.000000000', '2015-02-18T00:00:00.000000000',\n",
              "       '2015-02-17T00:00:00.000000000', '2015-02-16T00:00:00.000000000',\n",
              "       '2015-02-15T00:00:00.000000000', '2015-02-14T00:00:00.000000000',\n",
              "       '2015-02-13T00:00:00.000000000', '2015-02-12T00:00:00.000000000',\n",
              "       '2015-02-11T00:00:00.000000000', '2015-02-10T00:00:00.000000000',\n",
              "       '2015-02-09T00:00:00.000000000', '2015-02-08T00:00:00.000000000',\n",
              "       '2015-02-07T00:00:00.000000000', '2015-02-06T00:00:00.000000000',\n",
              "       '2015-02-05T00:00:00.000000000', '2015-02-04T00:00:00.000000000',\n",
              "       '2015-02-03T00:00:00.000000000', '2015-02-02T00:00:00.000000000',\n",
              "       '2015-02-01T00:00:00.000000000', '2015-01-31T00:00:00.000000000',\n",
              "       '2015-01-30T00:00:00.000000000', '2015-01-29T00:00:00.000000000',\n",
              "       '2015-01-28T00:00:00.000000000', '2015-01-27T00:00:00.000000000',\n",
              "       '2015-01-26T00:00:00.000000000', '2015-01-25T00:00:00.000000000',\n",
              "       '2015-01-24T00:00:00.000000000', '2015-01-23T00:00:00.000000000',\n",
              "       '2015-01-22T00:00:00.000000000', '2015-01-21T00:00:00.000000000',\n",
              "       '2015-01-20T00:00:00.000000000', '2015-01-19T00:00:00.000000000',\n",
              "       '2015-01-18T00:00:00.000000000', '2015-01-17T00:00:00.000000000',\n",
              "       '2015-01-16T00:00:00.000000000', '2015-01-15T00:00:00.000000000',\n",
              "       '2015-01-14T00:00:00.000000000', '2015-01-13T00:00:00.000000000',\n",
              "       '2015-01-12T00:00:00.000000000', '2015-01-11T00:00:00.000000000',\n",
              "       '2015-01-10T00:00:00.000000000', '2015-01-09T00:00:00.000000000',\n",
              "       '2015-01-08T00:00:00.000000000', '2015-01-07T00:00:00.000000000',\n",
              "       '2015-01-06T00:00:00.000000000', '2015-01-05T00:00:00.000000000',\n",
              "       '2015-01-04T00:00:00.000000000', '2015-01-03T00:00:00.000000000',\n",
              "       '2015-01-02T00:00:00.000000000', '2015-01-01T00:00:00.000000000',\n",
              "       '2014-12-31T00:00:00.000000000', '2014-12-30T00:00:00.000000000',\n",
              "       '2014-12-29T00:00:00.000000000', '2014-12-28T00:00:00.000000000',\n",
              "       '2014-12-27T00:00:00.000000000', '2014-12-26T00:00:00.000000000',\n",
              "       '2014-12-25T00:00:00.000000000', '2014-12-24T00:00:00.000000000',\n",
              "       '2014-12-23T00:00:00.000000000', '2014-12-22T00:00:00.000000000',\n",
              "       '2014-12-21T00:00:00.000000000', '2014-12-20T00:00:00.000000000',\n",
              "       '2014-12-19T00:00:00.000000000', '2014-12-18T00:00:00.000000000',\n",
              "       '2014-12-17T00:00:00.000000000', '2014-12-16T00:00:00.000000000',\n",
              "       '2014-12-15T00:00:00.000000000', '2014-12-14T00:00:00.000000000',\n",
              "       '2014-12-13T00:00:00.000000000', '2014-12-12T00:00:00.000000000',\n",
              "       '2014-12-11T00:00:00.000000000', '2014-12-10T00:00:00.000000000',\n",
              "       '2014-12-09T00:00:00.000000000', '2014-12-08T00:00:00.000000000',\n",
              "       '2014-12-07T00:00:00.000000000', '2014-12-06T00:00:00.000000000',\n",
              "       '2014-12-05T00:00:00.000000000', '2014-12-04T00:00:00.000000000',\n",
              "       '2014-12-03T00:00:00.000000000', '2014-12-02T00:00:00.000000000',\n",
              "       '2014-12-01T00:00:00.000000000', '2014-11-30T00:00:00.000000000',\n",
              "       '2014-11-29T00:00:00.000000000', '2014-11-28T00:00:00.000000000',\n",
              "       '2014-11-27T00:00:00.000000000', '2014-11-26T00:00:00.000000000',\n",
              "       '2014-11-25T00:00:00.000000000', '2014-11-24T00:00:00.000000000',\n",
              "       '2014-11-23T00:00:00.000000000', '2014-11-22T00:00:00.000000000',\n",
              "       '2014-11-21T00:00:00.000000000', '2014-11-20T00:00:00.000000000',\n",
              "       '2014-11-19T00:00:00.000000000', '2014-11-18T00:00:00.000000000',\n",
              "       '2014-11-17T00:00:00.000000000', '2014-11-16T00:00:00.000000000',\n",
              "       '2014-11-15T00:00:00.000000000', '2014-11-14T00:00:00.000000000',\n",
              "       '2014-11-13T00:00:00.000000000', '2014-11-12T00:00:00.000000000',\n",
              "       '2014-11-11T00:00:00.000000000', '2014-11-10T00:00:00.000000000',\n",
              "       '2014-11-09T00:00:00.000000000', '2014-11-08T00:00:00.000000000',\n",
              "       '2014-11-07T00:00:00.000000000', '2014-11-06T00:00:00.000000000',\n",
              "       '2014-11-05T00:00:00.000000000', '2014-11-04T00:00:00.000000000',\n",
              "       '2014-11-03T00:00:00.000000000', '2014-11-02T00:00:00.000000000',\n",
              "       '2014-11-01T00:00:00.000000000', '2014-10-31T00:00:00.000000000',\n",
              "       '2014-10-30T00:00:00.000000000', '2014-10-29T00:00:00.000000000',\n",
              "       '2014-10-28T00:00:00.000000000', '2014-10-27T00:00:00.000000000',\n",
              "       '2014-10-26T00:00:00.000000000', '2014-10-25T00:00:00.000000000',\n",
              "       '2014-10-24T00:00:00.000000000', '2014-10-23T00:00:00.000000000',\n",
              "       '2014-10-22T00:00:00.000000000', '2014-10-21T00:00:00.000000000',\n",
              "       '2014-10-20T00:00:00.000000000', '2014-10-19T00:00:00.000000000',\n",
              "       '2014-10-18T00:00:00.000000000', '2014-10-17T00:00:00.000000000',\n",
              "       '2014-10-16T00:00:00.000000000', '2014-10-15T00:00:00.000000000',\n",
              "       '2014-10-14T00:00:00.000000000', '2014-10-13T00:00:00.000000000',\n",
              "       '2014-10-12T00:00:00.000000000', '2014-10-11T00:00:00.000000000',\n",
              "       '2014-10-10T00:00:00.000000000', '2014-10-09T00:00:00.000000000',\n",
              "       '2014-10-08T00:00:00.000000000', '2014-10-07T00:00:00.000000000',\n",
              "       '2014-10-06T00:00:00.000000000', '2014-10-05T00:00:00.000000000',\n",
              "       '2014-10-04T00:00:00.000000000', '2014-10-03T00:00:00.000000000',\n",
              "       '2014-10-02T00:00:00.000000000', '2014-10-01T00:00:00.000000000',\n",
              "       '2014-09-30T00:00:00.000000000', '2014-09-29T00:00:00.000000000',\n",
              "       '2014-09-28T00:00:00.000000000', '2014-09-27T00:00:00.000000000',\n",
              "       '2014-09-26T00:00:00.000000000', '2014-09-25T00:00:00.000000000',\n",
              "       '2014-09-24T00:00:00.000000000', '2014-09-23T00:00:00.000000000',\n",
              "       '2014-09-22T00:00:00.000000000', '2014-09-21T00:00:00.000000000',\n",
              "       '2014-09-20T00:00:00.000000000', '2014-09-19T00:00:00.000000000',\n",
              "       '2014-09-18T00:00:00.000000000', '2014-09-17T00:00:00.000000000',\n",
              "       '2014-09-16T00:00:00.000000000', '2014-09-15T00:00:00.000000000',\n",
              "       '2014-09-14T00:00:00.000000000', '2014-09-13T00:00:00.000000000',\n",
              "       '2014-09-12T00:00:00.000000000', '2014-09-11T00:00:00.000000000',\n",
              "       '2014-09-10T00:00:00.000000000', '2014-09-09T00:00:00.000000000',\n",
              "       '2014-09-08T00:00:00.000000000', '2014-09-07T00:00:00.000000000',\n",
              "       '2014-09-06T00:00:00.000000000', '2014-09-05T00:00:00.000000000',\n",
              "       '2014-09-04T00:00:00.000000000', '2014-09-03T00:00:00.000000000',\n",
              "       '2014-09-02T00:00:00.000000000', '2014-09-01T00:00:00.000000000',\n",
              "       '2014-08-31T00:00:00.000000000', '2014-08-30T00:00:00.000000000',\n",
              "       '2014-08-29T00:00:00.000000000', '2014-08-28T00:00:00.000000000',\n",
              "       '2014-08-27T00:00:00.000000000', '2014-08-26T00:00:00.000000000',\n",
              "       '2014-08-25T00:00:00.000000000', '2014-08-24T00:00:00.000000000',\n",
              "       '2014-08-23T00:00:00.000000000', '2014-08-22T00:00:00.000000000',\n",
              "       '2014-08-21T00:00:00.000000000', '2014-08-20T00:00:00.000000000',\n",
              "       '2014-08-19T00:00:00.000000000', '2014-08-18T00:00:00.000000000',\n",
              "       '2014-08-17T00:00:00.000000000', '2014-08-16T00:00:00.000000000',\n",
              "       '2014-08-15T00:00:00.000000000', '2014-08-14T00:00:00.000000000',\n",
              "       '2014-08-13T00:00:00.000000000', '2014-08-12T00:00:00.000000000',\n",
              "       '2014-08-11T00:00:00.000000000', '2014-08-10T00:00:00.000000000',\n",
              "       '2014-08-09T00:00:00.000000000', '2014-08-08T00:00:00.000000000',\n",
              "       '2014-08-07T00:00:00.000000000', '2014-08-06T00:00:00.000000000',\n",
              "       '2014-08-05T00:00:00.000000000', '2014-08-04T00:00:00.000000000',\n",
              "       '2014-08-03T00:00:00.000000000', '2014-08-02T00:00:00.000000000',\n",
              "       '2014-08-01T00:00:00.000000000', '2014-07-31T00:00:00.000000000',\n",
              "       '2014-07-30T00:00:00.000000000', '2014-07-29T00:00:00.000000000',\n",
              "       '2014-07-28T00:00:00.000000000', '2014-07-27T00:00:00.000000000',\n",
              "       '2014-07-26T00:00:00.000000000', '2014-07-25T00:00:00.000000000',\n",
              "       '2014-07-24T00:00:00.000000000', '2014-07-23T00:00:00.000000000',\n",
              "       '2014-07-22T00:00:00.000000000', '2014-07-21T00:00:00.000000000',\n",
              "       '2014-07-20T00:00:00.000000000', '2014-07-19T00:00:00.000000000',\n",
              "       '2014-07-18T00:00:00.000000000', '2014-07-17T00:00:00.000000000',\n",
              "       '2014-07-16T00:00:00.000000000', '2014-07-15T00:00:00.000000000',\n",
              "       '2014-07-14T00:00:00.000000000', '2014-07-13T00:00:00.000000000',\n",
              "       '2014-07-12T00:00:00.000000000', '2014-07-11T00:00:00.000000000',\n",
              "       '2014-07-10T00:00:00.000000000', '2014-07-09T00:00:00.000000000',\n",
              "       '2014-07-08T00:00:00.000000000', '2014-07-07T00:00:00.000000000',\n",
              "       '2014-07-06T00:00:00.000000000', '2014-07-05T00:00:00.000000000',\n",
              "       '2014-07-04T00:00:00.000000000', '2014-07-03T00:00:00.000000000',\n",
              "       '2014-07-02T00:00:00.000000000', '2014-07-01T00:00:00.000000000',\n",
              "       '2014-06-30T00:00:00.000000000', '2014-06-29T00:00:00.000000000',\n",
              "       '2014-06-28T00:00:00.000000000', '2014-06-27T00:00:00.000000000',\n",
              "       '2014-06-26T00:00:00.000000000', '2014-06-25T00:00:00.000000000',\n",
              "       '2014-06-24T00:00:00.000000000', '2014-06-23T00:00:00.000000000',\n",
              "       '2014-06-22T00:00:00.000000000', '2014-06-21T00:00:00.000000000',\n",
              "       '2014-06-20T00:00:00.000000000', '2014-06-19T00:00:00.000000000',\n",
              "       '2014-06-18T00:00:00.000000000', '2014-06-17T00:00:00.000000000',\n",
              "       '2014-06-16T00:00:00.000000000', '2014-06-15T00:00:00.000000000',\n",
              "       '2014-06-14T00:00:00.000000000', '2014-06-13T00:00:00.000000000',\n",
              "       '2014-06-12T00:00:00.000000000', '2014-06-11T00:00:00.000000000',\n",
              "       '2014-06-10T00:00:00.000000000', '2014-06-09T00:00:00.000000000',\n",
              "       '2014-06-08T00:00:00.000000000', '2014-06-07T00:00:00.000000000',\n",
              "       '2014-06-06T00:00:00.000000000', '2014-06-05T00:00:00.000000000',\n",
              "       '2014-06-04T00:00:00.000000000', '2014-06-03T00:00:00.000000000',\n",
              "       '2014-06-02T00:00:00.000000000', '2014-06-01T00:00:00.000000000',\n",
              "       '2014-05-31T00:00:00.000000000', '2014-05-30T00:00:00.000000000',\n",
              "       '2014-05-29T00:00:00.000000000', '2014-05-28T00:00:00.000000000',\n",
              "       '2014-05-27T00:00:00.000000000', '2014-05-26T00:00:00.000000000',\n",
              "       '2014-05-25T00:00:00.000000000', '2014-05-24T00:00:00.000000000',\n",
              "       '2014-05-23T00:00:00.000000000', '2014-05-22T00:00:00.000000000',\n",
              "       '2014-05-21T00:00:00.000000000', '2014-05-20T00:00:00.000000000',\n",
              "       '2014-05-19T00:00:00.000000000', '2014-05-18T00:00:00.000000000',\n",
              "       '2014-05-17T00:00:00.000000000', '2014-05-16T00:00:00.000000000',\n",
              "       '2014-05-15T00:00:00.000000000', '2014-05-14T00:00:00.000000000',\n",
              "       '2014-05-13T00:00:00.000000000', '2014-05-12T00:00:00.000000000',\n",
              "       '2014-05-11T00:00:00.000000000', '2014-05-10T00:00:00.000000000',\n",
              "       '2014-05-09T00:00:00.000000000', '2014-05-08T00:00:00.000000000',\n",
              "       '2014-05-07T00:00:00.000000000', '2014-05-06T00:00:00.000000000',\n",
              "       '2014-05-05T00:00:00.000000000', '2014-05-04T00:00:00.000000000',\n",
              "       '2014-05-03T00:00:00.000000000', '2014-05-02T00:00:00.000000000',\n",
              "       '2014-05-01T00:00:00.000000000', '2014-04-30T00:00:00.000000000',\n",
              "       '2014-04-29T00:00:00.000000000', '2014-04-28T00:00:00.000000000',\n",
              "       '2014-04-27T00:00:00.000000000', '2014-04-26T00:00:00.000000000',\n",
              "       '2014-04-25T00:00:00.000000000', '2014-04-24T00:00:00.000000000',\n",
              "       '2014-04-23T00:00:00.000000000', '2014-04-22T00:00:00.000000000',\n",
              "       '2014-04-21T00:00:00.000000000', '2014-04-20T00:00:00.000000000',\n",
              "       '2014-04-19T00:00:00.000000000', '2014-04-18T00:00:00.000000000',\n",
              "       '2014-04-17T00:00:00.000000000', '2014-04-16T00:00:00.000000000',\n",
              "       '2014-04-15T00:00:00.000000000', '2014-04-14T00:00:00.000000000',\n",
              "       '2014-04-13T00:00:00.000000000', '2014-04-12T00:00:00.000000000',\n",
              "       '2014-04-11T00:00:00.000000000', '2014-04-10T00:00:00.000000000',\n",
              "       '2014-04-09T00:00:00.000000000', '2014-04-08T00:00:00.000000000',\n",
              "       '2014-04-07T00:00:00.000000000', '2014-04-06T00:00:00.000000000',\n",
              "       '2014-04-05T00:00:00.000000000', '2014-04-04T00:00:00.000000000',\n",
              "       '2014-04-03T00:00:00.000000000', '2014-04-02T00:00:00.000000000',\n",
              "       '2014-04-01T00:00:00.000000000', '2014-03-31T00:00:00.000000000',\n",
              "       '2014-03-30T00:00:00.000000000', '2014-03-29T00:00:00.000000000',\n",
              "       '2014-03-28T00:00:00.000000000', '2014-03-27T00:00:00.000000000',\n",
              "       '2014-03-26T00:00:00.000000000', '2014-03-25T00:00:00.000000000',\n",
              "       '2014-03-24T00:00:00.000000000', '2014-03-23T00:00:00.000000000',\n",
              "       '2014-03-22T00:00:00.000000000', '2014-03-21T00:00:00.000000000',\n",
              "       '2014-03-20T00:00:00.000000000', '2014-03-19T00:00:00.000000000',\n",
              "       '2014-03-18T00:00:00.000000000', '2014-03-17T00:00:00.000000000',\n",
              "       '2014-03-16T00:00:00.000000000', '2014-03-15T00:00:00.000000000',\n",
              "       '2014-03-14T00:00:00.000000000', '2014-03-13T00:00:00.000000000',\n",
              "       '2014-03-12T00:00:00.000000000', '2014-03-11T00:00:00.000000000',\n",
              "       '2014-03-10T00:00:00.000000000', '2014-03-09T00:00:00.000000000',\n",
              "       '2014-03-08T00:00:00.000000000', '2014-03-07T00:00:00.000000000',\n",
              "       '2014-03-06T00:00:00.000000000', '2014-03-05T00:00:00.000000000',\n",
              "       '2014-03-04T00:00:00.000000000', '2014-03-03T00:00:00.000000000',\n",
              "       '2014-03-02T00:00:00.000000000', '2014-03-01T00:00:00.000000000',\n",
              "       '2014-02-28T00:00:00.000000000', '2014-02-27T00:00:00.000000000',\n",
              "       '2014-02-26T00:00:00.000000000', '2014-02-25T00:00:00.000000000',\n",
              "       '2014-02-24T00:00:00.000000000', '2014-02-23T00:00:00.000000000',\n",
              "       '2014-02-22T00:00:00.000000000', '2014-02-21T00:00:00.000000000',\n",
              "       '2014-02-20T00:00:00.000000000', '2014-02-19T00:00:00.000000000',\n",
              "       '2014-02-18T00:00:00.000000000', '2014-02-17T00:00:00.000000000',\n",
              "       '2014-02-16T00:00:00.000000000', '2014-02-15T00:00:00.000000000',\n",
              "       '2014-02-14T00:00:00.000000000', '2014-02-13T00:00:00.000000000',\n",
              "       '2014-02-12T00:00:00.000000000', '2014-02-11T00:00:00.000000000',\n",
              "       '2014-02-10T00:00:00.000000000', '2014-02-09T00:00:00.000000000',\n",
              "       '2014-02-08T00:00:00.000000000', '2014-02-07T00:00:00.000000000',\n",
              "       '2014-02-06T00:00:00.000000000', '2014-02-05T00:00:00.000000000',\n",
              "       '2014-02-04T00:00:00.000000000', '2014-02-03T00:00:00.000000000',\n",
              "       '2014-02-02T00:00:00.000000000', '2014-02-01T00:00:00.000000000',\n",
              "       '2014-01-31T00:00:00.000000000', '2014-01-30T00:00:00.000000000',\n",
              "       '2014-01-29T00:00:00.000000000', '2014-01-28T00:00:00.000000000',\n",
              "       '2014-01-27T00:00:00.000000000', '2014-01-26T00:00:00.000000000',\n",
              "       '2014-01-25T00:00:00.000000000', '2014-01-24T00:00:00.000000000',\n",
              "       '2014-01-23T00:00:00.000000000', '2014-01-22T00:00:00.000000000',\n",
              "       '2014-01-21T00:00:00.000000000', '2014-01-20T00:00:00.000000000',\n",
              "       '2014-01-19T00:00:00.000000000', '2014-01-18T00:00:00.000000000',\n",
              "       '2014-01-17T00:00:00.000000000', '2014-01-16T00:00:00.000000000',\n",
              "       '2014-01-15T00:00:00.000000000', '2014-01-14T00:00:00.000000000',\n",
              "       '2014-01-13T00:00:00.000000000', '2014-01-12T00:00:00.000000000',\n",
              "       '2014-01-11T00:00:00.000000000', '2014-01-10T00:00:00.000000000',\n",
              "       '2014-01-09T00:00:00.000000000', '2014-01-08T00:00:00.000000000',\n",
              "       '2014-01-07T00:00:00.000000000', '2014-01-06T00:00:00.000000000',\n",
              "       '2014-01-05T00:00:00.000000000', '2014-01-04T00:00:00.000000000',\n",
              "       '2014-01-03T00:00:00.000000000', '2014-01-02T00:00:00.000000000',\n",
              "       '2014-01-01T00:00:00.000000000', '2013-12-31T00:00:00.000000000',\n",
              "       '2013-12-30T00:00:00.000000000', '2013-12-29T00:00:00.000000000',\n",
              "       '2013-12-28T00:00:00.000000000', '2013-12-27T00:00:00.000000000',\n",
              "       '2013-12-26T00:00:00.000000000', '2013-12-25T00:00:00.000000000',\n",
              "       '2013-12-24T00:00:00.000000000', '2013-12-23T00:00:00.000000000',\n",
              "       '2013-12-22T00:00:00.000000000', '2013-12-21T00:00:00.000000000',\n",
              "       '2013-12-20T00:00:00.000000000', '2013-12-19T00:00:00.000000000',\n",
              "       '2013-12-18T00:00:00.000000000', '2013-12-17T00:00:00.000000000',\n",
              "       '2013-12-16T00:00:00.000000000', '2013-12-15T00:00:00.000000000',\n",
              "       '2013-12-14T00:00:00.000000000', '2013-12-13T00:00:00.000000000',\n",
              "       '2013-12-12T00:00:00.000000000', '2013-12-11T00:00:00.000000000',\n",
              "       '2013-12-10T00:00:00.000000000', '2013-12-09T00:00:00.000000000',\n",
              "       '2013-12-08T00:00:00.000000000', '2013-12-07T00:00:00.000000000',\n",
              "       '2013-12-06T00:00:00.000000000', '2013-12-05T00:00:00.000000000',\n",
              "       '2013-12-04T00:00:00.000000000', '2013-12-03T00:00:00.000000000',\n",
              "       '2013-12-02T00:00:00.000000000', '2013-12-01T00:00:00.000000000',\n",
              "       '2013-11-30T00:00:00.000000000', '2013-11-29T00:00:00.000000000',\n",
              "       '2013-11-28T00:00:00.000000000', '2013-11-27T00:00:00.000000000',\n",
              "       '2013-11-26T00:00:00.000000000', '2013-11-25T00:00:00.000000000',\n",
              "       '2013-11-24T00:00:00.000000000', '2013-11-23T00:00:00.000000000',\n",
              "       '2013-11-22T00:00:00.000000000', '2013-11-21T00:00:00.000000000',\n",
              "       '2013-11-20T00:00:00.000000000', '2013-11-19T00:00:00.000000000',\n",
              "       '2013-11-18T00:00:00.000000000', '2013-11-17T00:00:00.000000000',\n",
              "       '2013-11-16T00:00:00.000000000', '2013-11-15T00:00:00.000000000',\n",
              "       '2013-11-14T00:00:00.000000000', '2013-11-13T00:00:00.000000000',\n",
              "       '2013-11-12T00:00:00.000000000', '2013-11-11T00:00:00.000000000',\n",
              "       '2013-11-10T00:00:00.000000000', '2013-11-09T00:00:00.000000000',\n",
              "       '2013-11-08T00:00:00.000000000', '2013-11-07T00:00:00.000000000',\n",
              "       '2013-11-06T00:00:00.000000000', '2013-11-05T00:00:00.000000000',\n",
              "       '2013-11-04T00:00:00.000000000', '2013-11-03T00:00:00.000000000',\n",
              "       '2013-11-02T00:00:00.000000000', '2013-11-01T00:00:00.000000000',\n",
              "       '2013-10-31T00:00:00.000000000', '2013-10-30T00:00:00.000000000',\n",
              "       '2013-10-29T00:00:00.000000000', '2013-10-28T00:00:00.000000000',\n",
              "       '2013-10-27T00:00:00.000000000', '2013-10-26T00:00:00.000000000',\n",
              "       '2013-10-25T00:00:00.000000000', '2013-10-24T00:00:00.000000000',\n",
              "       '2013-10-23T00:00:00.000000000', '2013-10-22T00:00:00.000000000',\n",
              "       '2013-10-21T00:00:00.000000000', '2013-10-20T00:00:00.000000000',\n",
              "       '2013-10-19T00:00:00.000000000', '2013-10-18T00:00:00.000000000',\n",
              "       '2013-10-17T00:00:00.000000000', '2013-10-16T00:00:00.000000000',\n",
              "       '2013-10-15T00:00:00.000000000', '2013-10-14T00:00:00.000000000',\n",
              "       '2013-10-13T00:00:00.000000000', '2013-10-12T00:00:00.000000000',\n",
              "       '2013-10-11T00:00:00.000000000', '2013-10-10T00:00:00.000000000',\n",
              "       '2013-10-09T00:00:00.000000000', '2013-10-08T00:00:00.000000000',\n",
              "       '2013-10-07T00:00:00.000000000', '2013-10-06T00:00:00.000000000',\n",
              "       '2013-10-05T00:00:00.000000000', '2013-10-04T00:00:00.000000000',\n",
              "       '2013-10-03T00:00:00.000000000', '2013-10-02T00:00:00.000000000',\n",
              "       '2013-10-01T00:00:00.000000000', '2013-09-30T00:00:00.000000000',\n",
              "       '2013-09-29T00:00:00.000000000', '2013-09-28T00:00:00.000000000',\n",
              "       '2013-09-27T00:00:00.000000000', '2013-09-26T00:00:00.000000000',\n",
              "       '2013-09-25T00:00:00.000000000', '2013-09-24T00:00:00.000000000',\n",
              "       '2013-09-23T00:00:00.000000000', '2013-09-22T00:00:00.000000000',\n",
              "       '2013-09-21T00:00:00.000000000', '2013-09-20T00:00:00.000000000',\n",
              "       '2013-09-19T00:00:00.000000000', '2013-09-18T00:00:00.000000000',\n",
              "       '2013-09-17T00:00:00.000000000', '2013-09-16T00:00:00.000000000',\n",
              "       '2013-09-15T00:00:00.000000000', '2013-09-14T00:00:00.000000000',\n",
              "       '2013-09-13T00:00:00.000000000', '2013-09-12T00:00:00.000000000',\n",
              "       '2013-09-11T00:00:00.000000000', '2013-09-10T00:00:00.000000000',\n",
              "       '2013-09-09T00:00:00.000000000', '2013-09-08T00:00:00.000000000',\n",
              "       '2013-09-07T00:00:00.000000000', '2013-09-06T00:00:00.000000000',\n",
              "       '2013-09-05T00:00:00.000000000', '2013-09-04T00:00:00.000000000',\n",
              "       '2013-09-03T00:00:00.000000000', '2013-09-02T00:00:00.000000000',\n",
              "       '2013-09-01T00:00:00.000000000', '2013-08-31T00:00:00.000000000',\n",
              "       '2013-08-30T00:00:00.000000000', '2013-08-29T00:00:00.000000000',\n",
              "       '2013-08-28T00:00:00.000000000', '2013-08-27T00:00:00.000000000',\n",
              "       '2013-08-26T00:00:00.000000000', '2013-08-25T00:00:00.000000000',\n",
              "       '2013-08-24T00:00:00.000000000', '2013-08-23T00:00:00.000000000',\n",
              "       '2013-08-22T00:00:00.000000000', '2013-08-21T00:00:00.000000000',\n",
              "       '2013-08-20T00:00:00.000000000', '2013-08-19T00:00:00.000000000',\n",
              "       '2013-08-18T00:00:00.000000000', '2013-08-17T00:00:00.000000000',\n",
              "       '2013-08-16T00:00:00.000000000', '2013-08-15T00:00:00.000000000',\n",
              "       '2013-08-14T00:00:00.000000000', '2013-08-13T00:00:00.000000000',\n",
              "       '2013-08-12T00:00:00.000000000', '2013-08-11T00:00:00.000000000',\n",
              "       '2013-08-10T00:00:00.000000000', '2013-08-09T00:00:00.000000000',\n",
              "       '2013-08-08T00:00:00.000000000', '2013-08-07T00:00:00.000000000',\n",
              "       '2013-08-06T00:00:00.000000000', '2013-08-05T00:00:00.000000000',\n",
              "       '2013-08-04T00:00:00.000000000', '2013-08-03T00:00:00.000000000',\n",
              "       '2013-08-02T00:00:00.000000000', '2013-08-01T00:00:00.000000000',\n",
              "       '2013-07-31T00:00:00.000000000', '2013-07-30T00:00:00.000000000',\n",
              "       '2013-07-29T00:00:00.000000000', '2013-07-28T00:00:00.000000000',\n",
              "       '2013-07-27T00:00:00.000000000', '2013-07-26T00:00:00.000000000',\n",
              "       '2013-07-25T00:00:00.000000000', '2013-07-24T00:00:00.000000000',\n",
              "       '2013-07-23T00:00:00.000000000', '2013-07-22T00:00:00.000000000',\n",
              "       '2013-07-21T00:00:00.000000000', '2013-07-20T00:00:00.000000000',\n",
              "       '2013-07-19T00:00:00.000000000', '2013-07-18T00:00:00.000000000',\n",
              "       '2013-07-17T00:00:00.000000000', '2013-07-16T00:00:00.000000000',\n",
              "       '2013-07-15T00:00:00.000000000', '2013-07-14T00:00:00.000000000',\n",
              "       '2013-07-13T00:00:00.000000000', '2013-07-12T00:00:00.000000000',\n",
              "       '2013-07-11T00:00:00.000000000', '2013-07-10T00:00:00.000000000',\n",
              "       '2013-07-09T00:00:00.000000000', '2013-07-08T00:00:00.000000000',\n",
              "       '2013-07-07T00:00:00.000000000', '2013-07-06T00:00:00.000000000',\n",
              "       '2013-07-05T00:00:00.000000000', '2013-07-04T00:00:00.000000000',\n",
              "       '2013-07-03T00:00:00.000000000', '2013-07-02T00:00:00.000000000',\n",
              "       '2013-07-01T00:00:00.000000000', '2013-06-30T00:00:00.000000000',\n",
              "       '2013-06-29T00:00:00.000000000', '2013-06-28T00:00:00.000000000',\n",
              "       '2013-06-27T00:00:00.000000000', '2013-06-26T00:00:00.000000000',\n",
              "       '2013-06-25T00:00:00.000000000', '2013-06-24T00:00:00.000000000',\n",
              "       '2013-06-23T00:00:00.000000000', '2013-06-22T00:00:00.000000000',\n",
              "       '2013-06-21T00:00:00.000000000', '2013-06-20T00:00:00.000000000',\n",
              "       '2013-06-19T00:00:00.000000000', '2013-06-18T00:00:00.000000000',\n",
              "       '2013-06-17T00:00:00.000000000', '2013-06-16T00:00:00.000000000',\n",
              "       '2013-06-15T00:00:00.000000000', '2013-06-14T00:00:00.000000000',\n",
              "       '2013-06-13T00:00:00.000000000', '2013-06-12T00:00:00.000000000',\n",
              "       '2013-06-11T00:00:00.000000000', '2013-06-10T00:00:00.000000000',\n",
              "       '2013-06-09T00:00:00.000000000', '2013-06-08T00:00:00.000000000',\n",
              "       '2013-06-07T00:00:00.000000000', '2013-06-06T00:00:00.000000000',\n",
              "       '2013-06-05T00:00:00.000000000', '2013-06-04T00:00:00.000000000',\n",
              "       '2013-06-03T00:00:00.000000000', '2013-06-02T00:00:00.000000000',\n",
              "       '2013-06-01T00:00:00.000000000', '2013-05-31T00:00:00.000000000',\n",
              "       '2013-05-30T00:00:00.000000000', '2013-05-29T00:00:00.000000000',\n",
              "       '2013-05-28T00:00:00.000000000', '2013-05-27T00:00:00.000000000',\n",
              "       '2013-05-26T00:00:00.000000000', '2013-05-25T00:00:00.000000000',\n",
              "       '2013-05-24T00:00:00.000000000', '2013-05-23T00:00:00.000000000',\n",
              "       '2013-05-22T00:00:00.000000000', '2013-05-21T00:00:00.000000000',\n",
              "       '2013-05-20T00:00:00.000000000', '2013-05-19T00:00:00.000000000',\n",
              "       '2013-05-18T00:00:00.000000000', '2013-05-17T00:00:00.000000000',\n",
              "       '2013-05-16T00:00:00.000000000', '2013-05-15T00:00:00.000000000',\n",
              "       '2013-05-14T00:00:00.000000000', '2013-05-13T00:00:00.000000000',\n",
              "       '2013-05-12T00:00:00.000000000', '2013-05-11T00:00:00.000000000',\n",
              "       '2013-05-10T00:00:00.000000000', '2013-05-09T00:00:00.000000000',\n",
              "       '2013-05-08T00:00:00.000000000', '2013-05-07T00:00:00.000000000',\n",
              "       '2013-05-06T00:00:00.000000000', '2013-05-05T00:00:00.000000000',\n",
              "       '2013-05-04T00:00:00.000000000', '2013-05-03T00:00:00.000000000',\n",
              "       '2013-05-02T00:00:00.000000000', '2013-05-01T00:00:00.000000000',\n",
              "       '2013-04-30T00:00:00.000000000', '2013-04-29T00:00:00.000000000',\n",
              "       '2013-04-28T00:00:00.000000000', '2013-04-27T00:00:00.000000000',\n",
              "       '2013-04-26T00:00:00.000000000', '2013-04-25T00:00:00.000000000',\n",
              "       '2013-04-24T00:00:00.000000000', '2013-04-23T00:00:00.000000000',\n",
              "       '2013-04-22T00:00:00.000000000', '2013-04-21T00:00:00.000000000',\n",
              "       '2013-04-20T00:00:00.000000000', '2013-04-19T00:00:00.000000000',\n",
              "       '2013-04-18T00:00:00.000000000', '2013-04-17T00:00:00.000000000',\n",
              "       '2013-04-16T00:00:00.000000000', '2013-04-15T00:00:00.000000000',\n",
              "       '2013-04-14T00:00:00.000000000', '2013-04-13T00:00:00.000000000',\n",
              "       '2013-04-12T00:00:00.000000000', '2013-04-11T00:00:00.000000000',\n",
              "       '2013-04-10T00:00:00.000000000', '2013-04-09T00:00:00.000000000',\n",
              "       '2013-04-08T00:00:00.000000000', '2013-04-07T00:00:00.000000000',\n",
              "       '2013-04-06T00:00:00.000000000', '2013-04-05T00:00:00.000000000',\n",
              "       '2013-04-04T00:00:00.000000000', '2013-04-03T00:00:00.000000000',\n",
              "       '2013-04-02T00:00:00.000000000', '2013-04-01T00:00:00.000000000',\n",
              "       '2013-03-31T00:00:00.000000000', '2013-03-30T00:00:00.000000000',\n",
              "       '2013-03-29T00:00:00.000000000', '2013-03-28T00:00:00.000000000',\n",
              "       '2013-03-27T00:00:00.000000000', '2013-03-26T00:00:00.000000000',\n",
              "       '2013-03-25T00:00:00.000000000', '2013-03-24T00:00:00.000000000',\n",
              "       '2013-03-23T00:00:00.000000000', '2013-03-22T00:00:00.000000000',\n",
              "       '2013-03-21T00:00:00.000000000', '2013-03-20T00:00:00.000000000',\n",
              "       '2013-03-19T00:00:00.000000000', '2013-03-18T00:00:00.000000000',\n",
              "       '2013-03-17T00:00:00.000000000', '2013-03-16T00:00:00.000000000',\n",
              "       '2013-03-15T00:00:00.000000000', '2013-03-14T00:00:00.000000000',\n",
              "       '2013-03-13T00:00:00.000000000', '2013-03-12T00:00:00.000000000',\n",
              "       '2013-03-11T00:00:00.000000000', '2013-03-10T00:00:00.000000000',\n",
              "       '2013-03-09T00:00:00.000000000', '2013-03-08T00:00:00.000000000',\n",
              "       '2013-03-07T00:00:00.000000000', '2013-03-06T00:00:00.000000000',\n",
              "       '2013-03-05T00:00:00.000000000', '2013-03-04T00:00:00.000000000',\n",
              "       '2013-03-03T00:00:00.000000000', '2013-03-02T00:00:00.000000000',\n",
              "       '2013-03-01T00:00:00.000000000', '2013-02-28T00:00:00.000000000',\n",
              "       '2013-02-27T00:00:00.000000000', '2013-02-26T00:00:00.000000000',\n",
              "       '2013-02-25T00:00:00.000000000', '2013-02-24T00:00:00.000000000',\n",
              "       '2013-02-23T00:00:00.000000000', '2013-02-22T00:00:00.000000000',\n",
              "       '2013-02-21T00:00:00.000000000', '2013-02-20T00:00:00.000000000',\n",
              "       '2013-02-19T00:00:00.000000000', '2013-02-18T00:00:00.000000000',\n",
              "       '2013-02-17T00:00:00.000000000', '2013-02-16T00:00:00.000000000',\n",
              "       '2013-02-15T00:00:00.000000000', '2013-02-14T00:00:00.000000000',\n",
              "       '2013-02-13T00:00:00.000000000', '2013-02-12T00:00:00.000000000',\n",
              "       '2013-02-11T00:00:00.000000000', '2013-02-10T00:00:00.000000000',\n",
              "       '2013-02-09T00:00:00.000000000', '2013-02-08T00:00:00.000000000',\n",
              "       '2013-02-07T00:00:00.000000000', '2013-02-06T00:00:00.000000000',\n",
              "       '2013-02-05T00:00:00.000000000', '2013-02-04T00:00:00.000000000',\n",
              "       '2013-02-03T00:00:00.000000000', '2013-02-02T00:00:00.000000000',\n",
              "       '2013-02-01T00:00:00.000000000', '2013-01-31T00:00:00.000000000',\n",
              "       '2013-01-30T00:00:00.000000000', '2013-01-29T00:00:00.000000000',\n",
              "       '2013-01-28T00:00:00.000000000', '2013-01-27T00:00:00.000000000',\n",
              "       '2013-01-26T00:00:00.000000000', '2013-01-25T00:00:00.000000000',\n",
              "       '2013-01-24T00:00:00.000000000', '2013-01-23T00:00:00.000000000',\n",
              "       '2013-01-22T00:00:00.000000000', '2013-01-21T00:00:00.000000000',\n",
              "       '2013-01-20T00:00:00.000000000', '2013-01-19T00:00:00.000000000',\n",
              "       '2013-01-18T00:00:00.000000000', '2013-01-17T00:00:00.000000000',\n",
              "       '2013-01-16T00:00:00.000000000', '2013-01-15T00:00:00.000000000',\n",
              "       '2013-01-14T00:00:00.000000000', '2013-01-13T00:00:00.000000000',\n",
              "       '2013-01-12T00:00:00.000000000', '2013-01-11T00:00:00.000000000',\n",
              "       '2013-01-10T00:00:00.000000000', '2013-01-09T00:00:00.000000000',\n",
              "       '2013-01-08T00:00:00.000000000', '2013-01-07T00:00:00.000000000',\n",
              "       '2013-01-06T00:00:00.000000000', '2013-01-05T00:00:00.000000000',\n",
              "       '2013-01-04T00:00:00.000000000', '2013-01-03T00:00:00.000000000',\n",
              "       '2013-01-02T00:00:00.000000000', '2013-01-01T00:00:00.000000000'],\n",
              "      dtype='datetime64[ns]')"
            ]
          },
          "metadata": {},
          "execution_count": 26
        }
      ]
    },
    {
      "cell_type": "markdown",
      "metadata": {
        "id": "3XZ7jAzhlRr-"
      },
      "source": [
        "<B>The dataset is from 1 January 2013 to 31 July 2015 , i.e. approx. 2.5 yrs."
      ]
    },
    {
      "cell_type": "code",
      "metadata": {
        "id": "9mNJneFwks_a",
        "colab": {
          "base_uri": "https://localhost:8080/"
        },
        "outputId": "962995cc-3ec2-4594-ef48-13289b6b9b52"
      },
      "source": [
        "li = [\"DayOfWeek\" , \"StateHoliday\" , \"SchoolHoliday\"]\n",
        "\n",
        "for i in li:\n",
        "  print(i)\n",
        "  print(data[i].unique())\n",
        "  print(\"-----------------------\")"
      ],
      "execution_count": 12,
      "outputs": [
        {
          "output_type": "stream",
          "name": "stdout",
          "text": [
            "DayOfWeek\n",
            "[5 4 3 2 1 7 6]\n",
            "-----------------------\n",
            "StateHoliday\n",
            "['0' 'a' 'b' 'c']\n",
            "-----------------------\n",
            "SchoolHoliday\n",
            "[1 0]\n",
            "-----------------------\n"
          ]
        }
      ]
    },
    {
      "cell_type": "markdown",
      "metadata": {
        "id": "QvhpK1tEldmR"
      },
      "source": [
        "<b>a = public holiday, b = Easter holiday, c = Christmas, 0 = No holidays\n",
        "\n",
        "Indicates if the (Store, Date) was affected by the closure of public schools"
      ]
    },
    {
      "cell_type": "code",
      "metadata": {
        "id": "mhRITsKrktDO",
        "colab": {
          "base_uri": "https://localhost:8080/"
        },
        "outputId": "f39e5ff7-5710-4b96-f795-6324d80fd7fe"
      },
      "source": [
        "data.Store.nunique()"
      ],
      "execution_count": null,
      "outputs": [
        {
          "output_type": "execute_result",
          "data": {
            "text/plain": [
              "1115"
            ]
          },
          "metadata": {},
          "execution_count": 28
        }
      ]
    },
    {
      "cell_type": "markdown",
      "metadata": {
        "id": "j9gw-2W4bxhb"
      },
      "source": [
        "#<b>3. Exploratory Data Analysis"
      ]
    },
    {
      "cell_type": "markdown",
      "metadata": {
        "id": "FcTMfHJ3U0Bv"
      },
      "source": [
        "## 3.1 Opened store"
      ]
    },
    {
      "cell_type": "code",
      "metadata": {
        "colab": {
          "base_uri": "https://localhost:8080/",
          "height": 392
        },
        "id": "gjCWiGd-CnWb",
        "outputId": "c2c26357-4661-48ab-a6d3-835dd84f27d8"
      },
      "source": [
        "# Open\n",
        "fig, (axis1) = plt.subplots(1,1,figsize=(15,4))\n",
        "sns.countplot(x='Open',hue='DayOfWeek', data=data,palette=\"husl\", ax=axis1)\n",
        "\n",
        "# fill NaN values in data with Open=1 if DayOfWeek != 7\n",
        "data[\"Open\"][data[\"Open\"] != data[\"Open\"]] = (data[\"DayOfWeek\"] != 7).astype(int)\n",
        "\n",
        "# Drop Open column\n",
        "\n",
        "data.drop(\"Open\", axis=1, inplace=True)"
      ],
      "execution_count": 13,
      "outputs": [
        {
          "output_type": "stream",
          "name": "stderr",
          "text": [
            "/usr/local/lib/python3.7/dist-packages/ipykernel_launcher.py:6: SettingWithCopyWarning:\n",
            "\n",
            "\n",
            "A value is trying to be set on a copy of a slice from a DataFrame\n",
            "\n",
            "See the caveats in the documentation: https://pandas.pydata.org/pandas-docs/stable/user_guide/indexing.html#returning-a-view-versus-a-copy\n",
            "\n"
          ]
        },
        {
          "output_type": "display_data",
          "data": {
            "image/png": "[encoded data removed]",
            "text/plain": [
              "<Figure size 1080x288 with 1 Axes>"
            ]
          },
          "metadata": {
            "needs_background": "light"
          }
        }
      ]
    },
    {
      "cell_type": "markdown",
      "metadata": {
        "id": "GRMtUuU0nufS"
      },
      "source": [
        "## 3.2. Average Sales & Sales percent change"
      ]
    },
    {
      "cell_type": "code",
      "metadata": {
        "id": "7sHdX-s-idst"
      },
      "source": [
        "# Date\n",
        "\n",
        "# Create Year and Month columns\n",
        "\n",
        "data['Year']  = data['Date'].apply(lambda x: int(str(x)[:4]))\n",
        "data['Month'] = data['Date'].apply(lambda x: int(str(x)[5:7]))\n",
        "\n",
        "# Assign Date column to Date(Year-Month) instead of (Year-Month-Day)\n",
        "# this column will be useful in analysis and visualization\n",
        "\n",
        "data['Date'] = data['Date'].apply(lambda x: (str(x)[:7]))"
      ],
      "execution_count": 14,
      "outputs": []
    },
    {
      "cell_type": "markdown",
      "metadata": {
        "id": "acQOqmpoUHqe"
      },
      "source": [
        "## 3.3. Average sales over time(year-month)"
      ]
    },
    {
      "cell_type": "code",
      "metadata": {
        "id": "i0AHxBtkilIb",
        "colab": {
          "base_uri": "https://localhost:8080/",
          "height": 543
        },
        "outputId": "9f68b3d2-a762-44f1-adc4-49471cf1600f"
      },
      "source": [
        "# group by date and get average sales, and precent change\n",
        "average_sales    = data.groupby('Date')[\"Sales\"].mean()\n",
        "pct_change_sales = data.groupby('Date')[\"Sales\"].sum().pct_change()\n",
        "\n",
        "fig, (axis1,axis2) = plt.subplots(2,1,sharex=True,figsize=(15,8))\n",
        "\n",
        "# plot average sales over time(year-month)\n",
        "ax1 = average_sales.plot(legend=True,ax=axis1,marker='o',title=\"Average Sales\")\n",
        "ax1.set_xticks(range(len(average_sales)))\n",
        "ax1.set_xticklabels(average_sales.index.tolist(), rotation=90)\n",
        "\n",
        "# plot precent change for sales over time(year-month)\n",
        "ax2 = pct_change_sales.plot(legend=True,ax=axis2,marker='o',rot=90,colormap=\"summer\",title=\"Sales Percent Change\")\n",
        "# ax2.set_xticks(range(len(pct_change_sales)))\n",
        "# ax2.set_xticklabels(pct_change_sales.index.tolist(), rotation=90)"
      ],
      "execution_count": 15,
      "outputs": [
        {
          "output_type": "display_data",
          "data": {
            "image/png": "[encoded data removed]",
            "text/plain": [
              "<Figure size 1080x576 with 2 Axes>"
            ]
          },
          "metadata": {
            "needs_background": "light"
          }
        }
      ]
    },
    {
      "cell_type": "markdown",
      "metadata": {
        "id": "-9wANckkUMYq"
      },
      "source": [
        "## 3.4. Average sales & customers for every year"
      ]
    },
    {
      "cell_type": "code",
      "metadata": {
        "id": "jBBPkWbaiub_",
        "colab": {
          "base_uri": "https://localhost:8080/",
          "height": 247
        },
        "outputId": "4db3584e-bdd2-4f8a-a74f-6b5778c730fb"
      },
      "source": [
        "# .... contiune with Date\n",
        "\n",
        "# Plot average sales & customers for every year\n",
        "fig, (axis1,axis2) = plt.subplots(1,2,figsize=(15,4))\n",
        "\n",
        "sns.barplot(x='Year', y='Sales', data=data, ax=axis1)\n",
        "sns.barplot(x='Year', y='Customers', data=data, ax=axis2)\n",
        "\n",
        "# Drop Date column\n",
        "\n",
        "data.drop(['Date'], axis=1,inplace=True)"
      ],
      "execution_count": null,
      "outputs": [
        {
          "output_type": "display_data",
          "data": {
            "image/png": "[encoded data removed]",
            "text/plain": [
              "<Figure size 1080x288 with 2 Axes>"
            ]
          },
          "metadata": {
            "needs_background": "light"
          }
        }
      ]
    },
    {
      "cell_type": "markdown",
      "metadata": {
        "id": "CJKMFvJ-UQ20"
      },
      "source": [
        "##  3.5. DayOfWeek"
      ]
    },
    {
      "cell_type": "code",
      "metadata": {
        "colab": {
          "base_uri": "https://localhost:8080/",
          "height": 265
        },
        "id": "Yh8UJSCqD-7m",
        "outputId": "e672ae3f-4419-4363-aa13-4c13cda3cf19"
      },
      "source": [
        "# DayOfWeek\n",
        "# In both cases where the store is closed and opened\n",
        "\n",
        "fig, (axis1,axis2) = plt.subplots(1,2,figsize=(15,4))\n",
        "\n",
        "sns.barplot(x='DayOfWeek', y='Sales', data=data, order=[1,2,3,4,5,6,7], ax=axis1)\n",
        "sns.barplot(x='DayOfWeek', y='Customers', data=data, order=[1,2,3,4,5,6,7], ax=axis2)\n"
      ],
      "execution_count": null,
      "outputs": [
        {
          "output_type": "execute_result",
          "data": {
            "text/plain": [
              "<matplotlib.axes._subplots.AxesSubplot at 0x7f8bdb291790>"
            ]
          },
          "metadata": {},
          "execution_count": 33
        },
        {
          "output_type": "display_data",
          "data": {
            "image/png": "[encoded data removed]",
            "text/plain": [
              "<Figure size 1080x288 with 2 Axes>"
            ]
          },
          "metadata": {
            "needs_background": "light"
          }
        }
      ]
    },
    {
      "cell_type": "markdown",
      "metadata": {
        "id": "VW3hJ_UaUgbV"
      },
      "source": [
        "## 3.6. StateHoliday"
      ]
    },
    {
      "cell_type": "code",
      "metadata": {
        "colab": {
          "base_uri": "https://localhost:8080/",
          "height": 679
        },
        "id": "uPPZYYgfERoe",
        "outputId": "5bfd5953-9e71-4d43-859b-64af93c55f82"
      },
      "source": [
        "# StateHoliday\n",
        "\n",
        "# StateHoliday column has values 0 & \"0\", So, we need to merge values with 0 to \"0\"\n",
        "data[\"StateHoliday\"].loc[data[\"StateHoliday\"] == 0] = \"0\"\n",
        "\n",
        "# Plot\n",
        "sns.countplot(x='StateHoliday', data=data)\n",
        "\n",
        "# Before\n",
        "fig, (axis1,axis2) = plt.subplots(1,2,figsize=(15,4))\n",
        "\n",
        "sns.barplot(x='StateHoliday', y='Sales', data=data, ax=axis1)\n",
        "\n",
        "mask = (data[\"StateHoliday\"] != \"0\") & (data[\"Sales\"] > 0)\n",
        "sns.barplot(x='StateHoliday', y='Sales', data=data[mask], ax=axis2)"
      ],
      "execution_count": null,
      "outputs": [
        {
          "output_type": "stream",
          "name": "stderr",
          "text": [
            "/usr/local/lib/python3.7/dist-packages/pandas/core/indexing.py:670: SettingWithCopyWarning:\n",
            "\n",
            "\n",
            "A value is trying to be set on a copy of a slice from a DataFrame\n",
            "\n",
            "See the caveats in the documentation: https://pandas.pydata.org/pandas-docs/stable/user_guide/indexing.html#returning-a-view-versus-a-copy\n",
            "\n"
          ]
        },
        {
          "output_type": "execute_result",
          "data": {
            "text/plain": [
              "<matplotlib.axes._subplots.AxesSubplot at 0x7f8bd9b32250>"
            ]
          },
          "metadata": {},
          "execution_count": 34
        },
        {
          "output_type": "display_data",
          "data": {
            "image/png": "[encoded data removed]",
            "text/plain": [
              "<Figure size 432x288 with 1 Axes>"
            ]
          },
          "metadata": {
            "needs_background": "light"
          }
        },
        {
          "output_type": "display_data",
          "data": {
            "image/png": "[encoded data removed]",
            "text/plain": [
              "<Figure size 1080x288 with 2 Axes>"
            ]
          },
          "metadata": {
            "needs_background": "light"
          }
        }
      ]
    },
    {
      "cell_type": "markdown",
      "metadata": {
        "id": "ehuJE1D9VCK-"
      },
      "source": [
        "continue with StateHoliday"
      ]
    },
    {
      "cell_type": "markdown",
      "metadata": {
        "id": "NnWSFXQdugT7"
      },
      "source": [
        "We have StateHoliday as Obejcts we need to convert them to numerical categories:\n",
        "\n"
      ]
    },
    {
      "cell_type": "code",
      "metadata": {
        "colab": {
          "base_uri": "https://localhost:8080/",
          "height": 265
        },
        "id": "HxZlQQptEb-7",
        "outputId": "a723b60f-c9a3-4a0e-e22f-b44cfacd3ba4"
      },
      "source": [
        "# .... continue with StateHoliday\n",
        "\n",
        "# After\n",
        "data[\"StateHoliday\"]     = data[\"StateHoliday\"].map({0: 0, \"0\": 0, \"a\": 1, \"b\": 1, \"c\": 1})\n",
        "\n",
        "fig, (axis1,axis2) = plt.subplots(1,2,figsize=(15,4))\n",
        "\n",
        "sns.barplot(x='StateHoliday', y='Sales', data=data, ax=axis1)\n",
        "sns.barplot(x='StateHoliday', y='Customers', data=data, ax=axis2)"
      ],
      "execution_count": null,
      "outputs": [
        {
          "output_type": "execute_result",
          "data": {
            "text/plain": [
              "<matplotlib.axes._subplots.AxesSubplot at 0x7f8bdbde1450>"
            ]
          },
          "metadata": {},
          "execution_count": 35
        },
        {
          "output_type": "display_data",
          "data": {
            "image/png": "[encoded data removed]",
            "text/plain": [
              "<Figure size 1080x288 with 2 Axes>"
            ]
          },
          "metadata": {
            "needs_background": "light"
          }
        }
      ]
    },
    {
      "cell_type": "markdown",
      "metadata": {
        "id": "CnZlGXHgu-Ev"
      },
      "source": [
        "Finding:"
      ]
    },
    {
      "cell_type": "markdown",
      "metadata": {
        "id": "rWGiHK79vP_z"
      },
      "source": [
        "From the graph, we can see that, Sales and customer are dramatically high on stateholidays"
      ]
    },
    {
      "cell_type": "markdown",
      "metadata": {
        "id": "G8n3xUtWEuOo"
      },
      "source": [
        "##3.7. Sales affected by SchoolHoliday or not?"
      ]
    },
    {
      "cell_type": "code",
      "metadata": {
        "colab": {
          "base_uri": "https://localhost:8080/",
          "height": 527
        },
        "id": "EgnHFTq4Emep",
        "outputId": "5f238a10-0b43-4346-c4be-0277d6ce38ea"
      },
      "source": [
        "# SchoolHoliday\n",
        "\n",
        "# Plot\n",
        "sns.countplot(x='SchoolHoliday', data=data)\n",
        "\n",
        "fig, (axis1,axis2) = plt.subplots(1,2,figsize=(15,4))\n",
        "\n",
        "sns.barplot(x='SchoolHoliday', y='Sales', data=data, ax=axis1)\n",
        "sns.barplot(x='SchoolHoliday', y='Customers', data=data, ax=axis2)"
      ],
      "execution_count": null,
      "outputs": [
        {
          "output_type": "execute_result",
          "data": {
            "text/plain": [
              "<matplotlib.axes._subplots.AxesSubplot at 0x7f8bda40d790>"
            ]
          },
          "metadata": {},
          "execution_count": 36
        },
        {
          "output_type": "display_data",
          "data": {
            "image/png": "[encoded data removed]",
            "text/plain": [
              "<Figure size 432x288 with 1 Axes>"
            ]
          },
          "metadata": {
            "needs_background": "light"
          }
        },
        {
          "output_type": "display_data",
          "data": {
            "image/png": "[encoded data removed]",
            "text/plain": [
              "<Figure size 1080x288 with 2 Axes>"
            ]
          },
          "metadata": {
            "needs_background": "light"
          }
        }
      ]
    },
    {
      "cell_type": "code",
      "metadata": {
        "colab": {
          "base_uri": "https://localhost:8080/",
          "height": 373
        },
        "id": "EghC6cKXE3R6",
        "outputId": "03de5ce7-ae77-4c33-fb36-b589a2bf0bc9"
      },
      "source": [
        "labels = 'Not-Affected' , 'Affected'\n",
        "sizes = data.SchoolHoliday.value_counts()\n",
        "colors = ['gold', 'silver']\n",
        "explode = (0.1, 0.0)\n",
        "plt.pie(sizes, explode=explode, labels=labels, colors=colors,\n",
        "        autopct='%1.1f%%', shadow=True, startangle=180)\n",
        "plt.axis('equal')\n",
        "plt.title(\"Sales Affected by Schoolholiday or Not ?\")\n",
        "plt.plot()\n",
        "fig=plt.gcf()\n",
        "fig.set_size_inches(6,6)\n",
        "plt.show()"
      ],
      "execution_count": null,
      "outputs": [
        {
          "output_type": "display_data",
          "data": {
            "image/png": "[encoded data removed]",
            "text/plain": [
              "<Figure size 432x432 with 1 Axes>"
            ]
          },
          "metadata": {}
        }
      ]
    },
    {
      "cell_type": "markdown",
      "metadata": {
        "id": "IRGY3inbm3wB"
      },
      "source": [
        "##3.8 Sales by StoreTypes"
      ]
    },
    {
      "cell_type": "code",
      "metadata": {
        "id": "Q3B2cAVm-D0c"
      },
      "source": [
        "temp = []\n",
        "for i in data.groupby('Store')[[\"Sales\", \"Customers\"]].mean()[\"Sales\"]:\n",
        "  temp.append(i)\n",
        "store[\"AvgSales\"] = temp"
      ],
      "execution_count": null,
      "outputs": []
    },
    {
      "cell_type": "code",
      "metadata": {
        "id": "kLIwzpCN-gs4"
      },
      "source": [
        "temp = []\n",
        "for i in data.groupby('Store')[[\"Sales\", \"Customers\"]].mean()[\"Customers\"]:\n",
        "  temp.append(i)\n",
        "store[\"AvgCustomers\"] = temp"
      ],
      "execution_count": null,
      "outputs": []
    },
    {
      "cell_type": "code",
      "metadata": {
        "id": "R7Re65pb-rY0",
        "colab": {
          "base_uri": "https://localhost:8080/",
          "height": 377
        },
        "outputId": "9a60f569-eac3-479a-aed2-b9ad324ce0e7"
      },
      "source": [
        "labels = 'a' , 'b' , 'c' , 'd'\n",
        "sizes = store.StoreType.value_counts()\n",
        "colors = ['orange', 'green' , 'red' , 'pink']\n",
        "explode = (0.1, 0.0 , 0.15 , 0.0)\n",
        "plt.pie(sizes, explode=explode, labels=labels, colors=colors,\n",
        "        autopct='%1.1f%%', shadow=True, startangle=180)\n",
        "plt.axis('equal')\n",
        "plt.title(\"Distribution of different StoreTypes\")\n",
        "plt.plot()\n",
        "fig=plt.gcf()\n",
        "fig.set_size_inches(6,6)\n",
        "plt.show()"
      ],
      "execution_count": null,
      "outputs": [
        {
          "output_type": "display_data",
          "data": {
            "image/png": "[encoded data removed]",
            "text/plain": [
              "<Figure size 432x432 with 1 Axes>"
            ]
          },
          "metadata": {}
        }
      ]
    },
    {
      "cell_type": "markdown",
      "metadata": {
        "id": "MWHqXHwGQFM_"
      },
      "source": [
        "## 3.9. StoreType, & StoreType Vs average sales and customers"
      ]
    },
    {
      "cell_type": "markdown",
      "metadata": {
        "id": "Jd5fRxw_kYv5"
      },
      "source": [
        "The best way to asses the performance of a store type is to see what is the sales per customer so that we normalize everything and we get the store that makes its customers spend the most on average."
      ]
    },
    {
      "cell_type": "markdown",
      "metadata": {
        "id": "YuTiCT2VkfLN"
      },
      "source": [
        "Let's compare first the total sales of each store type, its average sales and then see how it changes when we add the customers to the equation:"
      ]
    },
    {
      "cell_type": "code",
      "metadata": {
        "colab": {
          "base_uri": "https://localhost:8080/",
          "height": 557
        },
        "id": "Wn_BqT8AMA9q",
        "outputId": "8e6f7b1f-310e-45db-df41-8a12a55b48f5"
      },
      "source": [
        "# StoreType \n",
        "\n",
        "# Plot StoreType, & StoreType Vs average sales and customers\n",
        "\n",
        "sns.countplot(x='StoreType', data=data, order=['a','b','c', 'd'])\n",
        "\n",
        "fig, (axis1,axis2) = plt.subplots(1,2,figsize=(15,4))\n",
        "\n",
        "sns.barplot(x='StoreType', y='Sales', data=data, order=['a','b','c', 'd'],ax=axis1)\n",
        "sns.barplot(x='StoreType', y='Customers', data=data, order=['a','b','c', 'd'], ax=axis2)"
      ],
      "execution_count": 16,
      "outputs": [
        {
          "output_type": "execute_result",
          "data": {
            "text/plain": [
              "<matplotlib.axes._subplots.AxesSubplot at 0x7f838fa1e090>"
            ]
          },
          "metadata": {},
          "execution_count": 16
        },
        {
          "output_type": "display_data",
          "data": {
            "image/png": "[encoded data removed]",
            "text/plain": [
              "<Figure size 432x288 with 1 Axes>"
            ]
          },
          "metadata": {
            "needs_background": "light"
          }
        },
        {
          "output_type": "display_data",
          "data": {
            "image/png": "[encoded data removed]",
            "text/plain": [
              "<Figure size 1080x288 with 2 Axes>"
            ]
          },
          "metadata": {
            "needs_background": "light"
          }
        }
      ]
    },
    {
      "cell_type": "markdown",
      "metadata": {
        "id": "anQ-O6fnkqjV"
      },
      "source": [
        "**Findings:**"
      ]
    },
    {
      "cell_type": "markdown",
      "metadata": {
        "id": "dgpZ0kGIktXO"
      },
      "source": [
        "From this training set we can see that Storetype A \n",
        "has the highest number of branches,sales and customers from the 4 different storetypes. But this doesn't mean it's the best performing Storetype.\n"
      ]
    },
    {
      "cell_type": "markdown",
      "metadata": {
        "id": "qz-v9kh0kwm9"
      },
      "source": [
        "When looking at the average sales and number of customers, we see that actually it is Storetype B who was the highest average Sales and highest average Number of Customers. One assumption could be that if B has only 17 stores but such a high amount of average sales and customers that it is likely hyper Rossman branches whereas A would be smaller in size but much more present."
      ]
    },
    {
      "cell_type": "markdown",
      "metadata": {
        "id": "9Qtd9VNNqkcA"
      },
      "source": [
        "#####<b>Stores which are opened on Sundays"
      ]
    },
    {
      "cell_type": "code",
      "metadata": {
        "id": "I3QB4mMU_EhN",
        "colab": {
          "base_uri": "https://localhost:8080/"
        },
        "outputId": "a09cd122-6da6-40f7-9fbd-aeb57c04738a"
      },
      "source": [
        "store.isnull().sum()"
      ],
      "execution_count": null,
      "outputs": [
        {
          "output_type": "execute_result",
          "data": {
            "text/plain": [
              "Store                          0\n",
              "StoreType                      0\n",
              "Assortment                     0\n",
              "CompetitionDistance            0\n",
              "CompetitionOpenSinceMonth    354\n",
              "CompetitionOpenSinceYear     354\n",
              "Promo2                         0\n",
              "Promo2SinceWeek              544\n",
              "Promo2SinceYear              544\n",
              "PromoInterval                544\n",
              "AvgSales                       0\n",
              "AvgCustomers                   0\n",
              "dtype: int64"
            ]
          },
          "metadata": {},
          "execution_count": 42
        }
      ]
    },
    {
      "cell_type": "code",
      "metadata": {
        "colab": {
          "base_uri": "https://localhost:8080/"
        },
        "id": "62_k9vqLGvc-",
        "outputId": "7c202860-46c0-4eab-c4e0-c696951278ba"
      },
      "source": [
        "R_data.SchoolHoliday.value_counts()"
      ],
      "execution_count": null,
      "outputs": [
        {
          "output_type": "execute_result",
          "data": {
            "text/plain": [
              "0    835488\n",
              "1    181721\n",
              "Name: SchoolHoliday, dtype: int64"
            ]
          },
          "metadata": {},
          "execution_count": 43
        }
      ]
    },
    {
      "cell_type": "markdown",
      "metadata": {
        "id": "ZeJsPIM0QLVR"
      },
      "source": [
        "## 3.10. Assortment, & Assortment Vs average sales and customers"
      ]
    },
    {
      "cell_type": "markdown",
      "metadata": {
        "id": "9uCf7emBlUXS"
      },
      "source": [
        "As we cited in the description, assortments have three types and each store has a defined type and assortment type:\n",
        "\n"
      ]
    },
    {
      "cell_type": "markdown",
      "metadata": {
        "id": "mR7E1jM_ldxD"
      },
      "source": [
        "\n",
        "\n",
        "*   a-means basic things\n",
        "*   b-means extra things\n",
        "*   c-means extended things so the highest variety    of products.\n",
        "\n",
        "\n",
        "\n",
        "\n",
        "\n",
        "\n"
      ]
    },
    {
      "cell_type": "markdown",
      "metadata": {
        "id": "W7B4vynFl2TQ"
      },
      "source": [
        "\n",
        "What could be interesting is to see the relationship between a store type and its respective assortment type."
      ]
    },
    {
      "cell_type": "code",
      "metadata": {
        "colab": {
          "base_uri": "https://localhost:8080/",
          "height": 527
        },
        "id": "vv80jr5NGJQr",
        "outputId": "cd4a98c4-33fe-4dcf-e112-90cb31f9b32c"
      },
      "source": [
        "# Assortment \n",
        "\n",
        "# Plot Assortment, & Assortment Vs average sales and customers\n",
        "\n",
        "sns.countplot(x='Assortment', data=data, order=['a','b','c'])\n",
        "\n",
        "fig, (axis1,axis2) = plt.subplots(1,2,figsize=(15,4))\n",
        "\n",
        "sns.barplot(x='Assortment', y='Sales', data=data, order=['a','b','c'], ax=axis1)\n",
        "sns.barplot(x='Assortment', y='Customers', data=data, order=['a','b','c'], ax=axis2)"
      ],
      "execution_count": null,
      "outputs": [
        {
          "output_type": "execute_result",
          "data": {
            "text/plain": [
              "<matplotlib.axes._subplots.AxesSubplot at 0x7f8bdb0c1610>"
            ]
          },
          "metadata": {},
          "execution_count": 44
        },
        {
          "output_type": "display_data",
          "data": {
            "image/png": "[encoded data removed]",
            "text/plain": [
              "<Figure size 432x288 with 1 Axes>"
            ]
          },
          "metadata": {
            "needs_background": "light"
          }
        },
        {
          "output_type": "display_data",
          "data": {
            "image/png": "[encoded data removed]",
            "text/plain": [
              "<Figure size 1080x288 with 2 Axes>"
            ]
          },
          "metadata": {
            "needs_background": "light"
          }
        }
      ]
    },
    {
      "cell_type": "markdown",
      "metadata": {
        "id": "ciTd5WawmHJt"
      },
      "source": [
        "Findings:"
      ]
    },
    {
      "cell_type": "markdown",
      "metadata": {
        "id": "2semRgFwmNH2"
      },
      "source": [
        "We can clearly see here that most of the stores have either a assortment type or c assortment type.\n"
      ]
    },
    {
      "cell_type": "markdown",
      "metadata": {
        "id": "hc-UFeGKmULo"
      },
      "source": [
        "Interestingly enough assortment type B have maximum sales and customers.\n"
      ]
    },
    {
      "cell_type": "markdown",
      "metadata": {
        "id": "TzBex2iMWXAa"
      },
      "source": [
        "## 3.11. CompetitionDistance"
      ]
    },
    {
      "cell_type": "markdown",
      "metadata": {
        "id": "D1IxTU96rFvy"
      },
      "source": [
        "What we find also interesting to plot is the effect of the closest competition distance on Sales, to see whether the one with very far competition actually make more sales then the one with close competition."
      ]
    },
    {
      "cell_type": "code",
      "metadata": {
        "colab": {
          "base_uri": "https://localhost:8080/",
          "height": 477
        },
        "id": "06sJOsMOG_rn",
        "outputId": "2fb49541-2639-4ac8-bc88-d03ba7495992"
      },
      "source": [
        "# CompetitionDistance\n",
        "\n",
        "# Plot CompetitionDistance Vs Sales\n",
        "\n",
        "store.plot(kind='scatter',x='CompetitionDistance',y='AvgSales',figsize=(15,4))\n",
        "store.plot(kind='kde',x='CompetitionDistance',y='AvgSales',figsize=(15,4))"
      ],
      "execution_count": null,
      "outputs": [
        {
          "output_type": "execute_result",
          "data": {
            "text/plain": [
              "<matplotlib.axes._subplots.AxesSubplot at 0x7f8bdb8a0610>"
            ]
          },
          "metadata": {},
          "execution_count": 45
        },
        {
          "output_type": "display_data",
          "data": {
            "image/png": "[encoded data removed]",
            "text/plain": [
              "<Figure size 1080x288 with 1 Axes>"
            ]
          },
          "metadata": {
            "needs_background": "light"
          }
        },
        {
          "output_type": "display_data",
          "data": {
            "image/png": "[encoded data removed]",
            "text/plain": [
              "<Figure size 1080x288 with 1 Axes>"
            ]
          },
          "metadata": {
            "needs_background": "light"
          }
        }
      ]
    },
    {
      "cell_type": "markdown",
      "metadata": {
        "id": "2lOUG6OTs5pZ"
      },
      "source": [
        "Findings:"
      ]
    },
    {
      "cell_type": "markdown",
      "metadata": {
        "id": "auKponwes7t5"
      },
      "source": [
        "As we can see here, like i thought, the stores that are the furthest have the highest average sales and number of customers."
      ]
    },
    {
      "cell_type": "markdown",
      "metadata": {
        "id": "Rplvv7P-s-At"
      },
      "source": [
        "This doesn't mean automatically that the furthest the better, but it does shed light on the fact that when there are no competition nearby, stores tend to sell more and have more customers because there are almost a monopoly in this region. We could think of it as McDonalds on highways where there are no other restaurants around, people who are hungry are forced to go there to eat."
      ]
    },
    {
      "cell_type": "code",
      "metadata": {
        "colab": {
          "base_uri": "https://localhost:8080/",
          "height": 334
        },
        "id": "jTRFmlWCHKeE",
        "outputId": "2c230d9d-c6aa-42a2-d5a2-4b218db0aa71"
      },
      "source": [
        "# What happened to the average sales of a store over time when competition started?\n",
        "# Example: the average sales for store_id = 6 has dramatically decreased since the competition started\n",
        "\n",
        "store_id = 6\n",
        "store_data = R_data[R_data[\"Store\"] == store_id]\n",
        "\n",
        "average_store_sales = store_data.groupby('Date')[\"Sales\"].mean()\n",
        "\n",
        "# Get year, and month when Competition started\n",
        "y = store[\"CompetitionOpenSinceYear\"].loc[store[\"Store\"]  == store_id].values[0]\n",
        "m = store[\"CompetitionOpenSinceMonth\"].loc[store[\"Store\"] == store_id].values[0]\n",
        "\n",
        "# Plot \n",
        "ax = average_store_sales.plot(legend=True,figsize=(15,4),marker='o')\n",
        "ax.set_xticks(range(len(average_store_sales)))\n",
        "ax.set_xticklabels(average_store_sales.index.tolist(), rotation=90)\n",
        "\n",
        "# Since all data of store sales given in rossmann_df starts with year=2013 till 2015,\n",
        "# So, we need to check if year>=2013 and y & m aren't NaN values.\n",
        "if y >= 2013 and y == y and m == m:\n",
        "    plt.axvline(x=((y-2013) * 12) + (m - 1), linewidth=3, color='grey')"
      ],
      "execution_count": null,
      "outputs": [
        {
          "output_type": "display_data",
          "data": {
            "image/png": "[encoded data removed]",
            "text/plain": [
              "<Figure size 1080x288 with 1 Axes>"
            ]
          },
          "metadata": {
            "needs_background": "light"
          }
        }
      ]
    },
    {
      "cell_type": "markdown",
      "metadata": {
        "id": "NIUveg1heSGd"
      },
      "source": [
        "## 3.12. Sales by Season"
      ]
    },
    {
      "cell_type": "code",
      "metadata": {
        "colab": {
          "base_uri": "https://localhost:8080/"
        },
        "id": "VDpsM-e-aB99",
        "outputId": "5a15fc62-47db-4636-fe3a-449da260400c"
      },
      "source": [
        "data.info()"
      ],
      "execution_count": null,
      "outputs": [
        {
          "output_type": "stream",
          "name": "stdout",
          "text": [
            "<class 'pandas.core.frame.DataFrame'>\n",
            "Int64Index: 1017209 entries, 0 to 1017208\n",
            "Data columns (total 20 columns):\n",
            " #   Column                     Non-Null Count    Dtype  \n",
            "---  ------                     --------------    -----  \n",
            " 0   Store                      1017209 non-null  int64  \n",
            " 1   DayOfWeek                  1017209 non-null  int64  \n",
            " 2   Sales                      1017209 non-null  int64  \n",
            " 3   Customers                  1017209 non-null  int64  \n",
            " 4   Promo                      1017209 non-null  int64  \n",
            " 5   StateHoliday               1017209 non-null  int64  \n",
            " 6   SchoolHoliday              1017209 non-null  int64  \n",
            " 7   Year                       1017209 non-null  int64  \n",
            " 8   Month                      1017209 non-null  int64  \n",
            " 9   Day                        1017209 non-null  int64  \n",
            " 10  WeekOfYear                 1017209 non-null  int64  \n",
            " 11  StoreType                  1017209 non-null  object \n",
            " 12  Assortment                 1017209 non-null  object \n",
            " 13  CompetitionDistance        1017209 non-null  float64\n",
            " 14  CompetitionOpenSinceMonth  693861 non-null   float64\n",
            " 15  CompetitionOpenSinceYear   693861 non-null   float64\n",
            " 16  Promo2                     1017209 non-null  int64  \n",
            " 17  Promo2SinceWeek            509178 non-null   float64\n",
            " 18  Promo2SinceYear            509178 non-null   float64\n",
            " 19  PromoInterval              509178 non-null   object \n",
            "dtypes: float64(5), int64(12), object(3)\n",
            "memory usage: 163.0+ MB\n"
          ]
        }
      ]
    },
    {
      "cell_type": "code",
      "metadata": {
        "id": "80jVTAZzfdle"
      },
      "source": [
        "# Create new column Season\n",
        "\n",
        "data['Season'] = np.where(data['Month'].isin([3,4,5]), \"Spring\",\n",
        "                 np.where(data['Month'].isin([6,7,8]), \"Summer\",\n",
        "                 np.where(data['Month'].isin([9,10,11]), \"Fall\",\n",
        "                 np.where(data['Month'].isin([12,1,2]), \"Winter\", \"None\"))))"
      ],
      "execution_count": 17,
      "outputs": []
    },
    {
      "cell_type": "code",
      "metadata": {
        "id": "8xEx0B27n9A3",
        "colab": {
          "base_uri": "https://localhost:8080/",
          "height": 313
        },
        "outputId": "570f96d0-fef2-4fd2-99b4-137d3352c416"
      },
      "source": [
        "# Prepare data\n",
        "\n",
        "years = data['Year'].unique()\n",
        "\n",
        "# Draw Plot\n",
        "fig, axes = plt.subplots(1, 3, figsize=(20,7), dpi= 80)\n",
        "sns.boxplot(x='Year', y='Sales', data=data, ax=axes[0])\n",
        "sns.boxplot(x='Month', y='Sales', data=data.loc[~data.Year.isin([2013, 2015]), :])\n",
        "sns.boxplot(x='Season', y='Sales', data=data, ax=axes[1])\n",
        "\n",
        "# Set Title\n",
        "axes[0].set_title('Year-wise Box Plot', fontsize=18)\n",
        "axes[1].set_title('Season-wise Box Plot', fontsize=18)\n",
        "axes[2].set_title('Month-wise Box Plot', fontsize=18)\n",
        "plt.show()"
      ],
      "execution_count": null,
      "outputs": [
        {
          "output_type": "display_data",
          "data": {
            "image/png": "[encoded data removed]",
            "text/plain": [
              "<Figure size 1600x560 with 3 Axes>"
            ]
          },
          "metadata": {
            "needs_background": "light"
          }
        }
      ]
    },
    {
      "cell_type": "code",
      "metadata": {
        "id": "lXlZtymX4Jsn",
        "colab": {
          "base_uri": "https://localhost:8080/",
          "height": 714
        },
        "outputId": "78624705-84f3-49c3-ef37-c1962311af85"
      },
      "source": [
        "# Sales trend over the seasons and year\n",
        "sns.factorplot(data = data, x =\"Season\", y = \"Sales\", \n",
        "               col = 'StoreType',\n",
        "               row = \"Year\")"
      ],
      "execution_count": null,
      "outputs": [
        {
          "output_type": "stream",
          "name": "stderr",
          "text": [
            "/usr/local/lib/python3.7/dist-packages/seaborn/categorical.py:3717: UserWarning:\n",
            "\n",
            "The `factorplot` function has been renamed to `catplot`. The original name will be removed in a future release. Please update your code. Note that the default `kind` in `factorplot` (`'point'`) has changed `'strip'` in `catplot`.\n",
            "\n"
          ]
        },
        {
          "output_type": "execute_result",
          "data": {
            "text/plain": [
              "<seaborn.axisgrid.FacetGrid at 0x7f8bdec46c90>"
            ]
          },
          "metadata": {},
          "execution_count": 50
        },
        {
          "output_type": "display_data",
          "data": {
            "image/png": "[encoded data removed]",
            "text/plain": [
              "<Figure size 1440x1080 with 12 Axes>"
            ]
          },
          "metadata": {
            "needs_background": "light"
          }
        }
      ]
    },
    {
      "cell_type": "markdown",
      "metadata": {
        "id": "k0V16zyRHeIi"
      },
      "source": [
        "## 3.13.  Effect of Promotion on sales"
      ]
    },
    {
      "cell_type": "markdown",
      "metadata": {
        "id": "lrfvDzyeniKN"
      },
      "source": [
        "Promotion:"
      ]
    },
    {
      "cell_type": "markdown",
      "metadata": {
        "id": "IfLjB1ewnp53"
      },
      "source": [
        "Let's see how Promotion affect the overall sales of Rossman by looking at when there is and when there isn't promotion over those 3 years. This allow us first to see the impact of promotion and as well to see the evolution of sales over specific years (so trends in a given year) and the gradual increase in sales from 2013 to 2015:"
      ]
    },
    {
      "cell_type": "code",
      "metadata": {
        "colab": {
          "base_uri": "https://localhost:8080/",
          "height": 265
        },
        "id": "M75X7y4qEHGs",
        "outputId": "ab1cb265-3f0c-4e9d-99fb-db13e31e5c3e"
      },
      "source": [
        "# Promo\n",
        "\n",
        "# Plot average sales & customers with/without promo\n",
        "fig, (axis1,axis2) = plt.subplots(1,2,figsize=(15,4))\n",
        "\n",
        "sns.barplot(x='Promo', y='Sales', data=data, ax=axis1)\n",
        "sns.barplot(x='Promo', y='Customers', data=data, ax=axis2)"
      ],
      "execution_count": null,
      "outputs": [
        {
          "output_type": "execute_result",
          "data": {
            "text/plain": [
              "<matplotlib.axes._subplots.AxesSubplot at 0x7f8bdc33f310>"
            ]
          },
          "metadata": {},
          "execution_count": 51
        },
        {
          "output_type": "display_data",
          "data": {
            "image/png": "[encoded data removed]",
            "text/plain": [
              "<Figure size 1080x288 with 2 Axes>"
            ]
          },
          "metadata": {
            "needs_background": "light"
          }
        }
      ]
    },
    {
      "cell_type": "markdown",
      "metadata": {
        "id": "t5WcFeJXoTaG"
      },
      "source": [
        "**Finding :**"
      ]
    },
    {
      "cell_type": "markdown",
      "metadata": {
        "id": "00Fp54CvoWTa"
      },
      "source": [
        "We see the dramatic change when we compare having promotion Promo=1 to not having promotion Promo=0 and can conclude that a store that have promotion on a given day changes its amount of sales considerably."
      ]
    },
    {
      "cell_type": "markdown",
      "metadata": {
        "id": "SZ2BY8tiQSRj"
      },
      "source": [
        "### Promo2 & Promo2 Vs average sales and customers"
      ]
    },
    {
      "cell_type": "code",
      "metadata": {
        "colab": {
          "base_uri": "https://localhost:8080/",
          "height": 527
        },
        "id": "38PCpKcsG2_S",
        "outputId": "75cfaa86-2a6b-488b-9324-5b098162720f"
      },
      "source": [
        "# Promo2\n",
        "\n",
        "# Plot Promo2, & Promo2 Vs average sales and customers\n",
        "\n",
        "sns.countplot(x='Promo2', data=data)\n",
        "\n",
        "fig, (axis1,axis2) = plt.subplots(1,2,figsize=(15,4))\n",
        "\n",
        "sns.barplot(x='Promo2', y='Sales', data=data, ax=axis1)\n",
        "sns.barplot(x='Promo2', y='Customers', data=data, ax=axis2)"
      ],
      "execution_count": null,
      "outputs": [
        {
          "output_type": "execute_result",
          "data": {
            "text/plain": [
              "<matplotlib.axes._subplots.AxesSubplot at 0x7f8bda835490>"
            ]
          },
          "metadata": {},
          "execution_count": 52
        },
        {
          "output_type": "display_data",
          "data": {
            "image/png": "[encoded data removed]",
            "text/plain": [
              "<Figure size 432x288 with 1 Axes>"
            ]
          },
          "metadata": {
            "needs_background": "light"
          }
        },
        {
          "output_type": "display_data",
          "data": {
            "image/png": "[encoded data removed]",
            "text/plain": [
              "<Figure size 1080x288 with 2 Axes>"
            ]
          },
          "metadata": {
            "needs_background": "light"
          }
        }
      ]
    },
    {
      "cell_type": "markdown",
      "metadata": {
        "id": "pzFg2LySpOLE"
      },
      "source": [
        "Finding :"
      ]
    },
    {
      "cell_type": "markdown",
      "metadata": {
        "id": "q2aDl2PEpPzq"
      },
      "source": [
        "Customer over promotion we understand that initially those stores suffer from low sales and those continuous promotion shows a tremending increase in the buying power of customers."
      ]
    },
    {
      "cell_type": "code",
      "metadata": {
        "id": "gK4ABkpE7rjl",
        "colab": {
          "base_uri": "https://localhost:8080/",
          "height": 513
        },
        "outputId": "282a22a9-dab4-469c-ea6c-7fc5373a5851"
      },
      "source": [
        "fig, axes = plt.subplots(2,1)\n",
        "fig.set_size_inches(15,9)\n",
        "sns.barplot(x= \"Promo\", y= \"Sales\", data=data ,hue=\"StoreType\", ax=axes[0])\n",
        "axes[0].set_title('Effect on sales after first promotion', fontsize=10)\n",
        "\n",
        "sns.barplot(x= \"Promo2\", y= \"Sales\", data=data ,hue=\"StoreType\", ax=axes[1])\n",
        "axes[1].set_title('Effect of sales after second promotion', fontsize=10)"
      ],
      "execution_count": null,
      "outputs": [
        {
          "output_type": "execute_result",
          "data": {
            "text/plain": [
              "Text(0.5, 1.0, 'Effect of sales after second promotion')"
            ]
          },
          "metadata": {},
          "execution_count": 53
        },
        {
          "output_type": "display_data",
          "data": {
            "image/png": "[encoded data removed]",
            "text/plain": [
              "<Figure size 1080x648 with 2 Axes>"
            ]
          },
          "metadata": {
            "needs_background": "light"
          }
        }
      ]
    },
    {
      "cell_type": "markdown",
      "metadata": {
        "id": "GZaOqOwto95X"
      },
      "source": [
        "**Findings:**"
      ]
    },
    {
      "cell_type": "markdown",
      "metadata": {
        "id": "pjkNGAk4Hx4p"
      },
      "source": [
        "First promotion have positive effect on sales, but second promotion has negative impact on sales."
      ]
    },
    {
      "cell_type": "markdown",
      "metadata": {
        "id": "Ee5JySDxOVY-"
      },
      "source": [
        "## 3.14. Sales Distribution  - "
      ]
    },
    {
      "cell_type": "code",
      "metadata": {
        "colab": {
          "base_uri": "https://localhost:8080/"
        },
        "id": "EilSh9NOh_x-",
        "outputId": "d96d9390-34d4-43eb-ff09-e634a8b11e5a"
      },
      "source": [
        "R_data.info()"
      ],
      "execution_count": null,
      "outputs": [
        {
          "output_type": "stream",
          "name": "stdout",
          "text": [
            "<class 'pandas.core.frame.DataFrame'>\n",
            "RangeIndex: 1017209 entries, 0 to 1017208\n",
            "Data columns (total 13 columns):\n",
            " #   Column         Non-Null Count    Dtype         \n",
            "---  ------         --------------    -----         \n",
            " 0   Store          1017209 non-null  int64         \n",
            " 1   DayOfWeek      1017209 non-null  int64         \n",
            " 2   Date           1017209 non-null  datetime64[ns]\n",
            " 3   Sales          1017209 non-null  int64         \n",
            " 4   Customers      1017209 non-null  int64         \n",
            " 5   Open           1017209 non-null  int64         \n",
            " 6   Promo          1017209 non-null  int64         \n",
            " 7   StateHoliday   1017209 non-null  object        \n",
            " 8   SchoolHoliday  1017209 non-null  int64         \n",
            " 9   Year           1017209 non-null  int64         \n",
            " 10  Month          1017209 non-null  int64         \n",
            " 11  Day            1017209 non-null  int64         \n",
            " 12  WeekOfYear     1017209 non-null  int64         \n",
            "dtypes: datetime64[ns](1), int64(11), object(1)\n",
            "memory usage: 100.9+ MB\n"
          ]
        }
      ]
    },
    {
      "cell_type": "code",
      "metadata": {
        "id": "Xktn82CWOoyb",
        "colab": {
          "base_uri": "https://localhost:8080/",
          "height": 249
        },
        "outputId": "1f6cccaf-fbe7-47c4-cb4d-6014790d3357"
      },
      "source": [
        "# Sales\n",
        "fig, (axis1) = plt.subplots(1,1,figsize=(15,4))\n",
        "# Plot sales values \n",
        "# Notice that values with 0 is mostly because the store was closed\n",
        "R_data[\"Sales\"].plot(kind='hist',bins=70,xlim=(0,15000),ax=axis1)"
      ],
      "execution_count": null,
      "outputs": [
        {
          "output_type": "execute_result",
          "data": {
            "text/plain": [
              "<matplotlib.axes._subplots.AxesSubplot at 0x7f8bdcc88090>"
            ]
          },
          "metadata": {},
          "execution_count": 106
        },
        {
          "output_type": "display_data",
          "data": {
            "image/png": "[encoded data removed]",
            "text/plain": [
              "<Figure size 1080x288 with 1 Axes>"
            ]
          },
          "metadata": {
            "needs_background": "light"
          }
        }
      ]
    },
    {
      "cell_type": "markdown",
      "metadata": {
        "id": "Zoi7QlF_HmhB"
      },
      "source": [
        "## 3.15. Customer Distribution  - "
      ]
    },
    {
      "cell_type": "code",
      "metadata": {
        "colab": {
          "base_uri": "https://localhost:8080/",
          "height": 277
        },
        "id": "X_kp0b9iHts1",
        "outputId": "81606e51-4cbb-4875-a01b-f70f717894d7"
      },
      "source": [
        "# Plot max, min values, & 2nd, 3rd quartile\n",
        "fig, (axis1) = plt.subplots(1,1,figsize=(15,4))\n",
        "sns.boxplot(x= R_data[\"Customers\"], whis=np.inf, ax=axis1)"
      ],
      "execution_count": null,
      "outputs": [
        {
          "output_type": "execute_result",
          "data": {
            "text/plain": [
              "<matplotlib.axes._subplots.AxesSubplot at 0x7f8bdd07cd50>"
            ]
          },
          "metadata": {},
          "execution_count": 105
        },
        {
          "output_type": "display_data",
          "data": {
            "image/png": "[encoded data removed]",
            "text/plain": [
              "<Figure size 1080x288 with 1 Axes>"
            ]
          },
          "metadata": {
            "needs_background": "light"
          }
        }
      ]
    },
    {
      "cell_type": "markdown",
      "metadata": {
        "id": "HGniGYwpZ1iI"
      },
      "source": [
        "## Risk Analysis"
      ]
    },
    {
      "cell_type": "code",
      "metadata": {
        "colab": {
          "base_uri": "https://localhost:8080/"
        },
        "id": "D-pb1jWAbhLQ",
        "outputId": "d85f5276-3fde-4c40-935e-eb9e2596e731"
      },
      "source": [
        "R_data.info()"
      ],
      "execution_count": null,
      "outputs": [
        {
          "output_type": "stream",
          "name": "stdout",
          "text": [
            "<class 'pandas.core.frame.DataFrame'>\n",
            "RangeIndex: 1017209 entries, 0 to 1017208\n",
            "Data columns (total 13 columns):\n",
            " #   Column         Non-Null Count    Dtype         \n",
            "---  ------         --------------    -----         \n",
            " 0   Store          1017209 non-null  int64         \n",
            " 1   DayOfWeek      1017209 non-null  int64         \n",
            " 2   Date           1017209 non-null  datetime64[ns]\n",
            " 3   Sales          1017209 non-null  int64         \n",
            " 4   Customers      1017209 non-null  int64         \n",
            " 5   Open           1017209 non-null  int64         \n",
            " 6   Promo          1017209 non-null  int64         \n",
            " 7   StateHoliday   1017209 non-null  object        \n",
            " 8   SchoolHoliday  1017209 non-null  int64         \n",
            " 9   Year           1017209 non-null  int64         \n",
            " 10  Month          1017209 non-null  int64         \n",
            " 11  Day            1017209 non-null  int64         \n",
            " 12  WeekOfYear     1017209 non-null  int64         \n",
            "dtypes: datetime64[ns](1), int64(11), object(1)\n",
            "memory usage: 100.9+ MB\n"
          ]
        }
      ]
    },
    {
      "cell_type": "code",
      "metadata": {
        "id": "ECtH0JmZmIJw",
        "colab": {
          "base_uri": "https://localhost:8080/",
          "height": 297
        },
        "outputId": "1248e7ce-dc59-4c51-ab1c-6cbcdbe4ed4c"
      },
      "source": [
        "# Risk Analysis\n",
        "# Analyze the risk of a store; Risk(std) Vs Expected(mean)\n",
        "\n",
        "# .... countiue using data\n",
        "store_average = data[\"Sales\"].mean()\n",
        "store_std     = data[\"Sales\"].std()\n",
        "\n",
        "# Plot\n",
        "plt.scatter(store_average, store_std,alpha = 0.5,s =np.pi*20)\n",
        "\n",
        "# Get min & max mean and std of data sales\n",
        "std_sales = data.groupby('Store')[\"Sales\"].std()\n",
        "\n",
        "min_average = data[\"Sales\"].min()\n",
        "max_average = data[\"Sales\"].max()\n",
        "min_std     = std_sales.min()\n",
        "max_std     = std_sales.max()\n",
        "\n",
        "# Set the x and y limits of the plot\n",
        "plt.ylim([min_std, max_std])\n",
        "plt.xlim([min_average, max_average])\n",
        "\n",
        "# Set the plot axis titles\n",
        "plt.xlabel('Expected Sales')\n",
        "plt.ylabel('Risk')\n",
        "\n",
        "# Set label\n",
        "label, x, y = \"Store {}\".format(store_id), store_average, store_std\n",
        "plt.annotate(\n",
        "        label, \n",
        "        xy = (x, y), xytext = (50, 50),\n",
        "        textcoords = 'offset points', ha = 'right', va = 'bottom',\n",
        "        arrowprops = dict(arrowstyle = '-', connectionstyle = 'arc3,rad=-0.3'))"
      ],
      "execution_count": null,
      "outputs": [
        {
          "output_type": "execute_result",
          "data": {
            "text/plain": [
              "Text(50, 50, 'Store 6')"
            ]
          },
          "metadata": {},
          "execution_count": 57
        },
        {
          "output_type": "display_data",
          "data": {
            "image/png": "[encoded data removed]",
            "text/plain": [
              "<Figure size 432x288 with 1 Axes>"
            ]
          },
          "metadata": {
            "needs_background": "light"
          }
        }
      ]
    },
    {
      "cell_type": "markdown",
      "metadata": {
        "id": "Ocv0zIi-j1qJ"
      },
      "source": [
        "#<B>4.Feature Engineering"
      ]
    },
    {
      "cell_type": "markdown",
      "metadata": {
        "id": "MpPfTOY0tsL-"
      },
      "source": [
        "Since we need numerical variables for both our correlation Analysis and to feed the  models, we need to transform what is not numerical to a numerical representation while keeping the logic behind it present."
      ]
    },
    {
      "cell_type": "markdown",
      "metadata": {
        "id": "wv-zikFLjztC"
      },
      "source": [
        "## 4.1 Remove features with high percentages of missing values"
      ]
    },
    {
      "cell_type": "markdown",
      "metadata": {
        "id": "L-LX1kTwkA4d"
      },
      "source": [
        "We can see that some features have a high percentage of missing values and they won't be accurate as indicators, so we will remove features with more than 30% missing values."
      ]
    },
    {
      "cell_type": "code",
      "metadata": {
        "id": "60wEGeYtj_yW"
      },
      "source": [
        "# remove features\n",
        "data = data.drop(['CompetitionOpenSinceMonth', 'CompetitionOpenSinceYear','Promo2SinceWeek',\n",
        "                     'Promo2SinceYear', 'PromoInterval'], axis=1)"
      ],
      "execution_count": 18,
      "outputs": []
    },
    {
      "cell_type": "code",
      "metadata": {
        "colab": {
          "base_uri": "https://localhost:8080/"
        },
        "id": "xb7HQX5TcdNA",
        "outputId": "a236a98d-99f6-4c24-ad57-b3ff69c71952"
      },
      "source": [
        "data.info()"
      ],
      "execution_count": null,
      "outputs": [
        {
          "output_type": "stream",
          "name": "stdout",
          "text": [
            "<class 'pandas.core.frame.DataFrame'>\n",
            "Int64Index: 1017209 entries, 0 to 1017208\n",
            "Data columns (total 16 columns):\n",
            " #   Column               Non-Null Count    Dtype  \n",
            "---  ------               --------------    -----  \n",
            " 0   Store                1017209 non-null  int64  \n",
            " 1   DayOfWeek            1017209 non-null  int64  \n",
            " 2   Sales                1017209 non-null  int64  \n",
            " 3   Customers            1017209 non-null  int64  \n",
            " 4   Promo                1017209 non-null  int64  \n",
            " 5   StateHoliday         1017209 non-null  int64  \n",
            " 6   SchoolHoliday        1017209 non-null  int64  \n",
            " 7   Year                 1017209 non-null  int64  \n",
            " 8   Month                1017209 non-null  int64  \n",
            " 9   Day                  1017209 non-null  int64  \n",
            " 10  WeekOfYear           1017209 non-null  int64  \n",
            " 11  StoreType            1017209 non-null  object \n",
            " 12  Assortment           1017209 non-null  object \n",
            " 13  CompetitionDistance  1017209 non-null  float64\n",
            " 14  Promo2               1017209 non-null  int64  \n",
            " 15  Season               1017209 non-null  object \n",
            "dtypes: float64(1), int64(12), object(3)\n",
            "memory usage: 131.9+ MB\n"
          ]
        }
      ]
    },
    {
      "cell_type": "markdown",
      "metadata": {
        "id": "_kCHNuGikG-t"
      },
      "source": [
        "## 4.2 Drop Subsets Of Data Which Might Cause Bias"
      ]
    },
    {
      "cell_type": "code",
      "metadata": {
        "colab": {
          "base_uri": "https://localhost:8080/"
        },
        "id": "GNvTzSVhkOCo",
        "outputId": "243a6059-b29b-4cfb-ee39-ac161be0aa74"
      },
      "source": [
        "# Check for Opened store with zero sales\n",
        "data[data.Sales==0]['Store'].sum()"
      ],
      "execution_count": null,
      "outputs": [
        {
          "output_type": "execute_result",
          "data": {
            "text/plain": [
              "96543358"
            ]
          },
          "metadata": {},
          "execution_count": 60
        }
      ]
    },
    {
      "cell_type": "code",
      "metadata": {
        "colab": {
          "base_uri": "https://localhost:8080/"
        },
        "id": "OXEP9A6ykQWT",
        "outputId": "f1982938-8e99-41b4-a30d-c1117fdb22bd"
      },
      "source": [
        "# percentage of open stored with zero sales\n",
        "data[data.Sales == 0]['Sales'].sum()/data.Sales.sum()"
      ],
      "execution_count": 19,
      "outputs": [
        {
          "output_type": "execute_result",
          "data": {
            "text/plain": [
              "0.0"
            ]
          },
          "metadata": {},
          "execution_count": 19
        }
      ]
    },
    {
      "cell_type": "code",
      "metadata": {
        "id": "iITzSqrKkUZO"
      },
      "source": [
        "# Remove the Stores with zero sales\n",
        "data=data[data.Sales != 0]"
      ],
      "execution_count": 20,
      "outputs": []
    },
    {
      "cell_type": "code",
      "metadata": {
        "colab": {
          "base_uri": "https://localhost:8080/"
        },
        "id": "luwl2ht-kWyy",
        "outputId": "806f3482-113e-4b4b-ba04-78e27b376dfa"
      },
      "source": [
        "# see what variable types we have\n",
        "data.info()"
      ],
      "execution_count": null,
      "outputs": [
        {
          "output_type": "stream",
          "name": "stdout",
          "text": [
            "<class 'pandas.core.frame.DataFrame'>\n",
            "Int64Index: 844338 entries, 0 to 1017190\n",
            "Data columns (total 16 columns):\n",
            " #   Column               Non-Null Count   Dtype  \n",
            "---  ------               --------------   -----  \n",
            " 0   Store                844338 non-null  int64  \n",
            " 1   DayOfWeek            844338 non-null  int64  \n",
            " 2   Sales                844338 non-null  int64  \n",
            " 3   Customers            844338 non-null  int64  \n",
            " 4   Promo                844338 non-null  int64  \n",
            " 5   StateHoliday         844338 non-null  int64  \n",
            " 6   SchoolHoliday        844338 non-null  int64  \n",
            " 7   Year                 844338 non-null  int64  \n",
            " 8   Month                844338 non-null  int64  \n",
            " 9   Day                  844338 non-null  int64  \n",
            " 10  WeekOfYear           844338 non-null  int64  \n",
            " 11  StoreType            844338 non-null  object \n",
            " 12  Assortment           844338 non-null  object \n",
            " 13  CompetitionDistance  844338 non-null  float64\n",
            " 14  Promo2               844338 non-null  int64  \n",
            " 15  Season               844338 non-null  object \n",
            "dtypes: float64(1), int64(12), object(3)\n",
            "memory usage: 109.5+ MB\n"
          ]
        }
      ]
    },
    {
      "cell_type": "code",
      "metadata": {
        "colab": {
          "base_uri": "https://localhost:8080/"
        },
        "id": "Uoy7-ZmFkZY8",
        "outputId": "d8763a56-b409-41e1-daf3-750373f40b4e"
      },
      "source": [
        "store.info()"
      ],
      "execution_count": null,
      "outputs": [
        {
          "output_type": "stream",
          "name": "stdout",
          "text": [
            "<class 'pandas.core.frame.DataFrame'>\n",
            "RangeIndex: 1115 entries, 0 to 1114\n",
            "Data columns (total 12 columns):\n",
            " #   Column                     Non-Null Count  Dtype  \n",
            "---  ------                     --------------  -----  \n",
            " 0   Store                      1115 non-null   int64  \n",
            " 1   StoreType                  1115 non-null   object \n",
            " 2   Assortment                 1115 non-null   object \n",
            " 3   CompetitionDistance        1115 non-null   float64\n",
            " 4   CompetitionOpenSinceMonth  761 non-null    float64\n",
            " 5   CompetitionOpenSinceYear   761 non-null    float64\n",
            " 6   Promo2                     1115 non-null   int64  \n",
            " 7   Promo2SinceWeek            571 non-null    float64\n",
            " 8   Promo2SinceYear            571 non-null    float64\n",
            " 9   PromoInterval              571 non-null    object \n",
            " 10  AvgSales                   1115 non-null   float64\n",
            " 11  AvgCustomers               1115 non-null   float64\n",
            "dtypes: float64(7), int64(2), object(3)\n",
            "memory usage: 104.7+ KB\n"
          ]
        }
      ]
    },
    {
      "cell_type": "markdown",
      "metadata": {
        "id": "1DDzWZMBkiAb"
      },
      "source": [
        "## 4.3 Create new variable \"AvgSales\" create a variable that calculates monthly average sales for each store"
      ]
    },
    {
      "cell_type": "code",
      "metadata": {
        "id": "74A8qpOLkce2"
      },
      "source": [
        "# calculate weekly average sales\n",
        "sales = data[['Year','Month','Store','Sales']].groupby(['Year','Month','Store']).mean()\n",
        "sales = sales.rename(columns={'Sales':'AvgSales'})\n",
        "sales = sales.reset_index()"
      ],
      "execution_count": 21,
      "outputs": []
    },
    {
      "cell_type": "code",
      "metadata": {
        "id": "DPY35t9kklgR"
      },
      "source": [
        "data['sales_key']=data['Year'].map(str) + data['Month'].map(str) + data['Store'].map(str)\n",
        "sales['sales_key']=sales['Year'].map(str) + sales['Month'].map(str) + sales['Store'].map(str)"
      ],
      "execution_count": 22,
      "outputs": []
    },
    {
      "cell_type": "code",
      "metadata": {
        "id": "Innbj_aJkq9K"
      },
      "source": [
        "# drop extra columns\n",
        "sales = sales.drop(['Year','Month','Store'], axis=1)\n",
        "# merge\n",
        "data = pd.merge(data, sales, how='left', on=('sales_key'))"
      ],
      "execution_count": 23,
      "outputs": []
    },
    {
      "cell_type": "markdown",
      "metadata": {
        "id": "czj8-93Sk07i"
      },
      "source": [
        "Create new variable \"AvgCustomer\" create a variable that calculates Monthly average number of customers for each store, becuase daily number of customer is another variable to be predicted"
      ]
    },
    {
      "cell_type": "code",
      "metadata": {
        "id": "FZt_q7pEkw7i"
      },
      "source": [
        "# calculate weekly average\n",
        "cust = data[['Year','Month','Store','Customers']].groupby(['Year','Month', 'Store']).mean()\n",
        "cust = cust.rename(columns={'Customers':'AvgCustomer'})\n",
        "cust = cust.reset_index()\n",
        "\n",
        "data['cust_key']=data['Year'].map(str) + data['Month'].map(str) + data['Store'].map(str)\n",
        "cust['cust_key']=cust['Year'].map(str) + cust['Month'].map(str) + cust['Store'].map(str)\n",
        "\n",
        "# drop original feature Customers\n",
        "data = data.drop('Customers', axis=1)# drop extra columns\n",
        "cust = cust.drop(['Year', 'Month', 'Store'], axis=1)\n",
        "\n",
        "# merge\n",
        "data = pd.merge(data, cust, how=\"left\", on=('cust_key'))"
      ],
      "execution_count": 24,
      "outputs": []
    },
    {
      "cell_type": "markdown",
      "metadata": {
        "id": "17j2tZfslpbf"
      },
      "source": [
        "## 4.4 Transform Variable \"StateHoliday\""
      ]
    },
    {
      "cell_type": "code",
      "metadata": {
        "id": "gbIXk7yflUtW"
      },
      "source": [
        "# 0 - not a state holiday; 1- is on a state holiday\n",
        "# data['StateHoliday'] = data.StateHoliday.map({'0':0, 'a':1 ,'b' : 1,'c': 1})\n",
        "\n",
        "# drop extra columns\n",
        "data = data.drop(['cust_key','sales_key','Store','Season'], axis=1)"
      ],
      "execution_count": 25,
      "outputs": []
    },
    {
      "cell_type": "markdown",
      "metadata": {
        "id": "xMcTATcNnH8W"
      },
      "source": [
        "#<B>5. Correlation Heatmap"
      ]
    },
    {
      "cell_type": "code",
      "metadata": {
        "id": "K04dIz_WKh9Q",
        "colab": {
          "base_uri": "https://localhost:8080/",
          "height": 477
        },
        "outputId": "cf0f5969-0973-480d-f7ff-41a6652d767f"
      },
      "source": [
        "corr = data.corr()\n",
        "corr"
      ],
      "execution_count": null,
      "outputs": [
        {
          "output_type": "execute_result",
          "data": {
            "text/html": [
              "<div>\n",
              "<style scoped>\n",
              "    .dataframe tbody tr th:only-of-type {\n",
              "        vertical-align: middle;\n",
              "    }\n",
              "\n",
              "    .dataframe tbody tr th {\n",
              "        vertical-align: top;\n",
              "    }\n",
              "\n",
              "    .dataframe thead th {\n",
              "        text-align: right;\n",
              "    }\n",
              "</style>\n",
              "<table border=\"1\" class=\"dataframe\">\n",
              "  <thead>\n",
              "    <tr style=\"text-align: right;\">\n",
              "      <th></th>\n",
              "      <th>DayOfWeek</th>\n",
              "      <th>Sales</th>\n",
              "      <th>Promo</th>\n",
              "      <th>StateHoliday</th>\n",
              "      <th>SchoolHoliday</th>\n",
              "      <th>Year</th>\n",
              "      <th>Month</th>\n",
              "      <th>Day</th>\n",
              "      <th>WeekOfYear</th>\n",
              "      <th>CompetitionDistance</th>\n",
              "      <th>Promo2</th>\n",
              "      <th>AvgSales</th>\n",
              "      <th>AvgCustomer</th>\n",
              "    </tr>\n",
              "  </thead>\n",
              "  <tbody>\n",
              "    <tr>\n",
              "      <th>DayOfWeek</th>\n",
              "      <td>1.000000</td>\n",
              "      <td>-0.178733</td>\n",
              "      <td>-0.286350</td>\n",
              "      <td>-0.002101</td>\n",
              "      <td>-0.135893</td>\n",
              "      <td>0.002316</td>\n",
              "      <td>-0.020707</td>\n",
              "      <td>0.006419</td>\n",
              "      <td>-0.011978</td>\n",
              "      <td>0.004975</td>\n",
              "      <td>-0.003150</td>\n",
              "      <td>0.001605</td>\n",
              "      <td>0.014897</td>\n",
              "    </tr>\n",
              "    <tr>\n",
              "      <th>Sales</th>\n",
              "      <td>-0.178733</td>\n",
              "      <td>1.000000</td>\n",
              "      <td>0.369741</td>\n",
              "      <td>0.019434</td>\n",
              "      <td>0.036777</td>\n",
              "      <td>0.036711</td>\n",
              "      <td>0.087562</td>\n",
              "      <td>-0.055308</td>\n",
              "      <td>0.088965</td>\n",
              "      <td>-0.032779</td>\n",
              "      <td>-0.125413</td>\n",
              "      <td>0.774885</td>\n",
              "      <td>0.644470</td>\n",
              "    </tr>\n",
              "    <tr>\n",
              "      <th>Promo</th>\n",
              "      <td>-0.286350</td>\n",
              "      <td>0.369741</td>\n",
              "      <td>1.000000</td>\n",
              "      <td>0.001268</td>\n",
              "      <td>0.017027</td>\n",
              "      <td>0.026754</td>\n",
              "      <td>0.000732</td>\n",
              "      <td>-0.132124</td>\n",
              "      <td>0.016307</td>\n",
              "      <td>-0.001701</td>\n",
              "      <td>-0.000708</td>\n",
              "      <td>0.001422</td>\n",
              "      <td>-0.005552</td>\n",
              "    </tr>\n",
              "    <tr>\n",
              "      <th>StateHoliday</th>\n",
              "      <td>-0.002101</td>\n",
              "      <td>0.019434</td>\n",
              "      <td>0.001268</td>\n",
              "      <td>1.000000</td>\n",
              "      <td>0.014592</td>\n",
              "      <td>0.002879</td>\n",
              "      <td>0.000827</td>\n",
              "      <td>-0.008347</td>\n",
              "      <td>0.000885</td>\n",
              "      <td>0.009299</td>\n",
              "      <td>-0.010480</td>\n",
              "      <td>0.019200</td>\n",
              "      <td>0.053578</td>\n",
              "    </tr>\n",
              "    <tr>\n",
              "      <th>SchoolHoliday</th>\n",
              "      <td>-0.135893</td>\n",
              "      <td>0.036777</td>\n",
              "      <td>0.017027</td>\n",
              "      <td>0.014592</td>\n",
              "      <td>1.000000</td>\n",
              "      <td>-0.031159</td>\n",
              "      <td>0.103183</td>\n",
              "      <td>0.029469</td>\n",
              "      <td>0.056861</td>\n",
              "      <td>-0.004064</td>\n",
              "      <td>-0.007698</td>\n",
              "      <td>-0.002353</td>\n",
              "      <td>-0.001876</td>\n",
              "    </tr>\n",
              "    <tr>\n",
              "      <th>Year</th>\n",
              "      <td>0.002316</td>\n",
              "      <td>0.036711</td>\n",
              "      <td>0.026754</td>\n",
              "      <td>0.002879</td>\n",
              "      <td>-0.031159</td>\n",
              "      <td>1.000000</td>\n",
              "      <td>-0.244638</td>\n",
              "      <td>0.006749</td>\n",
              "      <td>-0.230790</td>\n",
              "      <td>0.000879</td>\n",
              "      <td>-0.007467</td>\n",
              "      <td>0.045135</td>\n",
              "      <td>0.003051</td>\n",
              "    </tr>\n",
              "    <tr>\n",
              "      <th>Month</th>\n",
              "      <td>-0.020707</td>\n",
              "      <td>0.087562</td>\n",
              "      <td>0.000732</td>\n",
              "      <td>0.000827</td>\n",
              "      <td>0.103183</td>\n",
              "      <td>-0.244638</td>\n",
              "      <td>1.000000</td>\n",
              "      <td>-0.011624</td>\n",
              "      <td>0.958622</td>\n",
              "      <td>0.009890</td>\n",
              "      <td>-0.024807</td>\n",
              "      <td>0.072891</td>\n",
              "      <td>0.048639</td>\n",
              "    </tr>\n",
              "    <tr>\n",
              "      <th>Day</th>\n",
              "      <td>0.006419</td>\n",
              "      <td>-0.055308</td>\n",
              "      <td>-0.132124</td>\n",
              "      <td>-0.008347</td>\n",
              "      <td>0.029469</td>\n",
              "      <td>0.006749</td>\n",
              "      <td>-0.011624</td>\n",
              "      <td>1.000000</td>\n",
              "      <td>0.030196</td>\n",
              "      <td>-0.000527</td>\n",
              "      <td>0.001740</td>\n",
              "      <td>-0.002638</td>\n",
              "      <td>-0.002813</td>\n",
              "    </tr>\n",
              "    <tr>\n",
              "      <th>WeekOfYear</th>\n",
              "      <td>-0.011978</td>\n",
              "      <td>0.088965</td>\n",
              "      <td>0.016307</td>\n",
              "      <td>0.000885</td>\n",
              "      <td>0.056861</td>\n",
              "      <td>-0.230790</td>\n",
              "      <td>0.958622</td>\n",
              "      <td>0.030196</td>\n",
              "      <td>1.000000</td>\n",
              "      <td>0.009548</td>\n",
              "      <td>-0.023877</td>\n",
              "      <td>0.060182</td>\n",
              "      <td>0.042028</td>\n",
              "    </tr>\n",
              "    <tr>\n",
              "      <th>CompetitionDistance</th>\n",
              "      <td>0.004975</td>\n",
              "      <td>-0.032779</td>\n",
              "      <td>-0.001701</td>\n",
              "      <td>0.009299</td>\n",
              "      <td>-0.004064</td>\n",
              "      <td>0.000879</td>\n",
              "      <td>0.009890</td>\n",
              "      <td>-0.000527</td>\n",
              "      <td>0.009548</td>\n",
              "      <td>1.000000</td>\n",
              "      <td>-0.140459</td>\n",
              "      <td>-0.046165</td>\n",
              "      <td>-0.156835</td>\n",
              "    </tr>\n",
              "    <tr>\n",
              "      <th>Promo2</th>\n",
              "      <td>-0.003150</td>\n",
              "      <td>-0.125413</td>\n",
              "      <td>-0.000708</td>\n",
              "      <td>-0.010480</td>\n",
              "      <td>-0.007698</td>\n",
              "      <td>-0.007467</td>\n",
              "      <td>-0.024807</td>\n",
              "      <td>0.001740</td>\n",
              "      <td>-0.023877</td>\n",
              "      <td>-0.140459</td>\n",
              "      <td>1.000000</td>\n",
              "      <td>-0.153337</td>\n",
              "      <td>-0.213213</td>\n",
              "    </tr>\n",
              "    <tr>\n",
              "      <th>AvgSales</th>\n",
              "      <td>0.001605</td>\n",
              "      <td>0.774885</td>\n",
              "      <td>0.001422</td>\n",
              "      <td>0.019200</td>\n",
              "      <td>-0.002353</td>\n",
              "      <td>0.045135</td>\n",
              "      <td>0.072891</td>\n",
              "      <td>-0.002638</td>\n",
              "      <td>0.060182</td>\n",
              "      <td>-0.046165</td>\n",
              "      <td>-0.153337</td>\n",
              "      <td>1.000000</td>\n",
              "      <td>0.797845</td>\n",
              "    </tr>\n",
              "    <tr>\n",
              "      <th>AvgCustomer</th>\n",
              "      <td>0.014897</td>\n",
              "      <td>0.644470</td>\n",
              "      <td>-0.005552</td>\n",
              "      <td>0.053578</td>\n",
              "      <td>-0.001876</td>\n",
              "      <td>0.003051</td>\n",
              "      <td>0.048639</td>\n",
              "      <td>-0.002813</td>\n",
              "      <td>0.042028</td>\n",
              "      <td>-0.156835</td>\n",
              "      <td>-0.213213</td>\n",
              "      <td>0.797845</td>\n",
              "      <td>1.000000</td>\n",
              "    </tr>\n",
              "  </tbody>\n",
              "</table>\n",
              "</div>"
            ],
            "text/plain": [
              "                     DayOfWeek     Sales  ...  AvgSales  AvgCustomer\n",
              "DayOfWeek             1.000000 -0.178733  ...  0.001605     0.014897\n",
              "Sales                -0.178733  1.000000  ...  0.774885     0.644470\n",
              "Promo                -0.286350  0.369741  ...  0.001422    -0.005552\n",
              "StateHoliday         -0.002101  0.019434  ...  0.019200     0.053578\n",
              "SchoolHoliday        -0.135893  0.036777  ... -0.002353    -0.001876\n",
              "Year                  0.002316  0.036711  ...  0.045135     0.003051\n",
              "Month                -0.020707  0.087562  ...  0.072891     0.048639\n",
              "Day                   0.006419 -0.055308  ... -0.002638    -0.002813\n",
              "WeekOfYear           -0.011978  0.088965  ...  0.060182     0.042028\n",
              "CompetitionDistance   0.004975 -0.032779  ... -0.046165    -0.156835\n",
              "Promo2               -0.003150 -0.125413  ... -0.153337    -0.213213\n",
              "AvgSales              0.001605  0.774885  ...  1.000000     0.797845\n",
              "AvgCustomer           0.014897  0.644470  ...  0.797845     1.000000\n",
              "\n",
              "[13 rows x 13 columns]"
            ]
          },
          "metadata": {},
          "execution_count": 70
        }
      ]
    },
    {
      "cell_type": "code",
      "metadata": {
        "id": "IIVMr8sNnUNW",
        "colab": {
          "base_uri": "https://localhost:8080/",
          "height": 671
        },
        "outputId": "72cda0c1-60ad-4dea-c1ce-4afbc305e421"
      },
      "source": [
        "mask = np.zeros_like(corr, dtype = np.bool)\n",
        "mask[np.triu_indices_from(mask)] = True\n",
        "f, ax = plt.subplots(figsize = (11, 9))\n",
        "# sns.heatmap(corr, mask = mask,square = True, linewidths = .5, ax = ax, cmap = \"BuPu\")\n",
        "sns.heatmap(corr,square = True,mask=mask, linewidths = .5,ax=ax, cmap = \"BuPu\")\n",
        "plt.title(\"Correlation Heatmap\", fontsize=20)"
      ],
      "execution_count": null,
      "outputs": [
        {
          "output_type": "execute_result",
          "data": {
            "text/plain": [
              "Text(0.5, 1.0, 'Correlation Heatmap')"
            ]
          },
          "metadata": {},
          "execution_count": 71
        },
        {
          "output_type": "display_data",
          "data": {
            "image/png": "[encoded data removed]",
            "text/plain": [
              "<Figure size 792x648 with 2 Axes>"
            ]
          },
          "metadata": {
            "needs_background": "light"
          }
        }
      ]
    },
    {
      "cell_type": "markdown",
      "metadata": {
        "id": "tZNgTzmuwXTe"
      },
      "source": [
        "### Interpretation:"
      ]
    },
    {
      "cell_type": "markdown",
      "metadata": {
        "id": "S7mDo6CBwdl0"
      },
      "source": [
        "We can first see the 0.8 between AvgCustomers and Avgsales which suggests that they are positively correlated like we stated above in the analysis."
      ]
    },
    {
      "cell_type": "markdown",
      "metadata": {
        "id": "ymhbAwaYwrSi"
      },
      "source": [
        "It's interesting to see that Sales and Promo ( more than 0.2) actually correlate positively, since running a promotion increases that number .\n"
      ]
    },
    {
      "cell_type": "markdown",
      "metadata": {
        "id": "Ntg0Fc12xH_g"
      },
      "source": [
        "Sales correlates with Competition Distance(more than 0.1), in a positive manner, like we said up the higher the competitionn distance the more sales per customer we do, which makes sense , the further our competition, the more monopolization Rossman can achieve in the region."
      ]
    },
    {
      "cell_type": "markdown",
      "metadata": {
        "id": "baF6xdbVy3bo"
      },
      "source": [
        "Additionally, the effect of promo to Sales like we said above as well(about 0.4), it did provoke a change in the buying pattern and increased it when continuous promotion were applied."
      ]
    },
    {
      "cell_type": "markdown",
      "metadata": {
        "id": "a0lOEINbzzcN"
      },
      "source": [
        "### Conclusion of Exploratory Analysis:\n"
      ]
    },
    {
      "cell_type": "markdown",
      "metadata": {
        "id": "M9E4JqeFz12A"
      },
      "source": [
        "At this stage, we got a solid understanding of the distributions, the statistical properties and the relationships of our variables. The next step is to identify what variables to model for training and to work on the modeling part of the project"
      ]
    },
    {
      "cell_type": "markdown",
      "metadata": {
        "id": "YI28vYkWo1j9"
      },
      "source": [
        "#<b>6. Encode the data"
      ]
    },
    {
      "cell_type": "code",
      "metadata": {
        "id": "IDl3wopNo4UL"
      },
      "source": [
        "from sklearn.preprocessing import LabelEncoder\n",
        "from sklearn.preprocessing import OneHotEncoder"
      ],
      "execution_count": 26,
      "outputs": []
    },
    {
      "cell_type": "code",
      "metadata": {
        "id": "c7siZXBho7iC"
      },
      "source": [
        "target = ['Sales']\n",
        "numeric_col = ['Customers', 'Open', 'Promo', 'Promo2', 'StateHoliday', 'SchoolHoliday', 'CompetitionDistance']\n",
        "categorical_col = ['DayOfWeek', 'Quarter', 'Month', 'Year', 'StoreType', 'Assortment', 'Season']"
      ],
      "execution_count": 27,
      "outputs": []
    },
    {
      "cell_type": "code",
      "metadata": {
        "id": "hNigLXX8pL9F"
      },
      "source": [
        "def create_encode(df, col):\n",
        "    le = LabelEncoder()\n",
        "    a = le.fit_transform(data[col]).reshape(-1,1)\n",
        "    ohe = OneHotEncoder(sparse=False)\n",
        "    col_names = [col+ \"_\" + str(i) for i in le.classes_]\n",
        "    return (pd.DataFrame(ohe.fit_transform(a), columns = col_names))"
      ],
      "execution_count": 28,
      "outputs": []
    },
    {
      "cell_type": "markdown",
      "metadata": {
        "id": "oH8GElcjn8Gn"
      },
      "source": [
        "#<B>7. Store Sales Prediction"
      ]
    },
    {
      "cell_type": "markdown",
      "metadata": {
        "id": "vnQLwEB6meP0"
      },
      "source": [
        "##<b> 7.1 Data Splitting "
      ]
    },
    {
      "cell_type": "code",
      "metadata": {
        "id": "doA6KBGomsR9"
      },
      "source": [
        "df = data.sample(n=50000, random_state=1)"
      ],
      "execution_count": 29,
      "outputs": []
    },
    {
      "cell_type": "code",
      "metadata": {
        "id": "TOja7Wnemzaa"
      },
      "source": [
        "# split features and labels\n",
        "X = df.drop('Sales', axis=1)\n",
        "y = df.Sales"
      ],
      "execution_count": 30,
      "outputs": []
    },
    {
      "cell_type": "code",
      "metadata": {
        "id": "xPvInXjenDGr"
      },
      "source": [
        "# get dummy variables for categorical features for linear regression\n",
        "X_dummies=X.copy()\n",
        "X_dummies = pd.get_dummies(X_dummies)"
      ],
      "execution_count": 31,
      "outputs": []
    },
    {
      "cell_type": "code",
      "metadata": {
        "id": "YPXGzSwZnbxp"
      },
      "source": [
        "# label nominal variables for tree based regression\n",
        "X_label = X.copy()\n",
        "\n",
        "from sklearn.preprocessing import LabelEncoder\n",
        "label = LabelEncoder()\n",
        "X_label.Assortment = label.fit_transform(X_label.Assortment)\n",
        "X_label.StoreType = label.fit_transform(X_label.StoreType)\n",
        "X_label.StateHoliday = label.fit_transform(X_label.StateHoliday)"
      ],
      "execution_count": 32,
      "outputs": []
    },
    {
      "cell_type": "markdown",
      "metadata": {
        "id": "18ReI2tJFvRK"
      },
      "source": [
        "Train-Test Split\n",
        "\n",
        "You now need to split our variable into training and testing sets. You'll perform this by importing train_test_split from the sklearn.model_selection library. It is usually a good practice to keep 70% of the data in your train dataset and the rest 30% in your test dataset"
      ]
    },
    {
      "cell_type": "code",
      "metadata": {
        "id": "3gqudhY8pQZ6"
      },
      "source": [
        "# split training and test datasets\n",
        "from sklearn.model_selection import train_test_split\n",
        "Xd_train, Xd_test, yd_train, yd_test = train_test_split(X, y, train_size = 0.7, test_size = 0.3, random_state = 100)\n",
        "Xd_train,Xd_test,yd_train,yd_test = train_test_split(X_dummies,y,test_size=0.3, random_state=1)\n",
        "Xl_train,Xl_test,yl_train,yl_test = train_test_split(X_label,y,test_size=0.3, random_state=1)"
      ],
      "execution_count": 33,
      "outputs": []
    },
    {
      "cell_type": "code",
      "metadata": {
        "id": "XSm2BIMLD3dJ",
        "colab": {
          "base_uri": "https://localhost:8080/",
          "height": 236
        },
        "outputId": "04cbb884-ed52-44f4-9c14-a23d5cabd17f"
      },
      "source": [
        "# Let's now take a look at the train dataset\n",
        "Xd_train.head()"
      ],
      "execution_count": 34,
      "outputs": [
        {
          "output_type": "execute_result",
          "data": {
            "text/html": [
              "<div>\n",
              "<style scoped>\n",
              "    .dataframe tbody tr th:only-of-type {\n",
              "        vertical-align: middle;\n",
              "    }\n",
              "\n",
              "    .dataframe tbody tr th {\n",
              "        vertical-align: top;\n",
              "    }\n",
              "\n",
              "    .dataframe thead th {\n",
              "        text-align: right;\n",
              "    }\n",
              "</style>\n",
              "<table border=\"1\" class=\"dataframe\">\n",
              "  <thead>\n",
              "    <tr style=\"text-align: right;\">\n",
              "      <th></th>\n",
              "      <th>DayOfWeek</th>\n",
              "      <th>Promo</th>\n",
              "      <th>SchoolHoliday</th>\n",
              "      <th>Year</th>\n",
              "      <th>Month</th>\n",
              "      <th>Day</th>\n",
              "      <th>WeekOfYear</th>\n",
              "      <th>CompetitionDistance</th>\n",
              "      <th>Promo2</th>\n",
              "      <th>AvgSales</th>\n",
              "      <th>AvgCustomer</th>\n",
              "      <th>Date_2013-01</th>\n",
              "      <th>Date_2013-02</th>\n",
              "      <th>Date_2013-03</th>\n",
              "      <th>Date_2013-04</th>\n",
              "      <th>Date_2013-05</th>\n",
              "      <th>Date_2013-06</th>\n",
              "      <th>Date_2013-07</th>\n",
              "      <th>Date_2013-08</th>\n",
              "      <th>Date_2013-09</th>\n",
              "      <th>Date_2013-10</th>\n",
              "      <th>Date_2013-11</th>\n",
              "      <th>Date_2013-12</th>\n",
              "      <th>Date_2014-01</th>\n",
              "      <th>Date_2014-02</th>\n",
              "      <th>Date_2014-03</th>\n",
              "      <th>Date_2014-04</th>\n",
              "      <th>Date_2014-05</th>\n",
              "      <th>Date_2014-06</th>\n",
              "      <th>Date_2014-07</th>\n",
              "      <th>Date_2014-08</th>\n",
              "      <th>Date_2014-09</th>\n",
              "      <th>Date_2014-10</th>\n",
              "      <th>Date_2014-11</th>\n",
              "      <th>Date_2014-12</th>\n",
              "      <th>Date_2015-01</th>\n",
              "      <th>Date_2015-02</th>\n",
              "      <th>Date_2015-03</th>\n",
              "      <th>Date_2015-04</th>\n",
              "      <th>Date_2015-05</th>\n",
              "      <th>Date_2015-06</th>\n",
              "      <th>Date_2015-07</th>\n",
              "      <th>StateHoliday_0</th>\n",
              "      <th>StateHoliday_a</th>\n",
              "      <th>StateHoliday_b</th>\n",
              "      <th>StateHoliday_c</th>\n",
              "      <th>StoreType_a</th>\n",
              "      <th>StoreType_b</th>\n",
              "      <th>StoreType_c</th>\n",
              "      <th>StoreType_d</th>\n",
              "      <th>Assortment_a</th>\n",
              "      <th>Assortment_b</th>\n",
              "      <th>Assortment_c</th>\n",
              "    </tr>\n",
              "  </thead>\n",
              "  <tbody>\n",
              "    <tr>\n",
              "      <th>668920</th>\n",
              "      <td>6</td>\n",
              "      <td>0</td>\n",
              "      <td>0</td>\n",
              "      <td>2013</td>\n",
              "      <td>8</td>\n",
              "      <td>24</td>\n",
              "      <td>34</td>\n",
              "      <td>1310.0</td>\n",
              "      <td>1</td>\n",
              "      <td>6341.592593</td>\n",
              "      <td>567.444444</td>\n",
              "      <td>0</td>\n",
              "      <td>0</td>\n",
              "      <td>0</td>\n",
              "      <td>0</td>\n",
              "      <td>0</td>\n",
              "      <td>0</td>\n",
              "      <td>0</td>\n",
              "      <td>1</td>\n",
              "      <td>0</td>\n",
              "      <td>0</td>\n",
              "      <td>0</td>\n",
              "      <td>0</td>\n",
              "      <td>0</td>\n",
              "      <td>0</td>\n",
              "      <td>0</td>\n",
              "      <td>0</td>\n",
              "      <td>0</td>\n",
              "      <td>0</td>\n",
              "      <td>0</td>\n",
              "      <td>0</td>\n",
              "      <td>0</td>\n",
              "      <td>0</td>\n",
              "      <td>0</td>\n",
              "      <td>0</td>\n",
              "      <td>0</td>\n",
              "      <td>0</td>\n",
              "      <td>0</td>\n",
              "      <td>0</td>\n",
              "      <td>0</td>\n",
              "      <td>0</td>\n",
              "      <td>0</td>\n",
              "      <td>1</td>\n",
              "      <td>0</td>\n",
              "      <td>0</td>\n",
              "      <td>0</td>\n",
              "      <td>1</td>\n",
              "      <td>0</td>\n",
              "      <td>0</td>\n",
              "      <td>0</td>\n",
              "      <td>1</td>\n",
              "      <td>0</td>\n",
              "      <td>0</td>\n",
              "    </tr>\n",
              "    <tr>\n",
              "      <th>37690</th>\n",
              "      <td>2</td>\n",
              "      <td>0</td>\n",
              "      <td>0</td>\n",
              "      <td>2015</td>\n",
              "      <td>6</td>\n",
              "      <td>23</td>\n",
              "      <td>26</td>\n",
              "      <td>560.0</td>\n",
              "      <td>1</td>\n",
              "      <td>7451.560000</td>\n",
              "      <td>756.000000</td>\n",
              "      <td>0</td>\n",
              "      <td>0</td>\n",
              "      <td>0</td>\n",
              "      <td>0</td>\n",
              "      <td>0</td>\n",
              "      <td>0</td>\n",
              "      <td>0</td>\n",
              "      <td>0</td>\n",
              "      <td>0</td>\n",
              "      <td>0</td>\n",
              "      <td>0</td>\n",
              "      <td>0</td>\n",
              "      <td>0</td>\n",
              "      <td>0</td>\n",
              "      <td>0</td>\n",
              "      <td>0</td>\n",
              "      <td>0</td>\n",
              "      <td>0</td>\n",
              "      <td>0</td>\n",
              "      <td>0</td>\n",
              "      <td>0</td>\n",
              "      <td>0</td>\n",
              "      <td>0</td>\n",
              "      <td>0</td>\n",
              "      <td>0</td>\n",
              "      <td>0</td>\n",
              "      <td>0</td>\n",
              "      <td>0</td>\n",
              "      <td>0</td>\n",
              "      <td>1</td>\n",
              "      <td>0</td>\n",
              "      <td>1</td>\n",
              "      <td>0</td>\n",
              "      <td>0</td>\n",
              "      <td>0</td>\n",
              "      <td>1</td>\n",
              "      <td>0</td>\n",
              "      <td>0</td>\n",
              "      <td>0</td>\n",
              "      <td>1</td>\n",
              "      <td>0</td>\n",
              "      <td>0</td>\n",
              "    </tr>\n",
              "    <tr>\n",
              "      <th>437004</th>\n",
              "      <td>6</td>\n",
              "      <td>0</td>\n",
              "      <td>0</td>\n",
              "      <td>2014</td>\n",
              "      <td>3</td>\n",
              "      <td>29</td>\n",
              "      <td>13</td>\n",
              "      <td>9230.0</td>\n",
              "      <td>1</td>\n",
              "      <td>6749.807692</td>\n",
              "      <td>556.961538</td>\n",
              "      <td>0</td>\n",
              "      <td>0</td>\n",
              "      <td>0</td>\n",
              "      <td>0</td>\n",
              "      <td>0</td>\n",
              "      <td>0</td>\n",
              "      <td>0</td>\n",
              "      <td>0</td>\n",
              "      <td>0</td>\n",
              "      <td>0</td>\n",
              "      <td>0</td>\n",
              "      <td>0</td>\n",
              "      <td>0</td>\n",
              "      <td>0</td>\n",
              "      <td>1</td>\n",
              "      <td>0</td>\n",
              "      <td>0</td>\n",
              "      <td>0</td>\n",
              "      <td>0</td>\n",
              "      <td>0</td>\n",
              "      <td>0</td>\n",
              "      <td>0</td>\n",
              "      <td>0</td>\n",
              "      <td>0</td>\n",
              "      <td>0</td>\n",
              "      <td>0</td>\n",
              "      <td>0</td>\n",
              "      <td>0</td>\n",
              "      <td>0</td>\n",
              "      <td>0</td>\n",
              "      <td>0</td>\n",
              "      <td>1</td>\n",
              "      <td>0</td>\n",
              "      <td>0</td>\n",
              "      <td>0</td>\n",
              "      <td>0</td>\n",
              "      <td>0</td>\n",
              "      <td>0</td>\n",
              "      <td>1</td>\n",
              "      <td>0</td>\n",
              "      <td>0</td>\n",
              "      <td>1</td>\n",
              "    </tr>\n",
              "    <tr>\n",
              "      <th>690799</th>\n",
              "      <td>4</td>\n",
              "      <td>1</td>\n",
              "      <td>1</td>\n",
              "      <td>2013</td>\n",
              "      <td>8</td>\n",
              "      <td>1</td>\n",
              "      <td>31</td>\n",
              "      <td>29910.0</td>\n",
              "      <td>0</td>\n",
              "      <td>4665.518519</td>\n",
              "      <td>539.444444</td>\n",
              "      <td>0</td>\n",
              "      <td>0</td>\n",
              "      <td>0</td>\n",
              "      <td>0</td>\n",
              "      <td>0</td>\n",
              "      <td>0</td>\n",
              "      <td>0</td>\n",
              "      <td>1</td>\n",
              "      <td>0</td>\n",
              "      <td>0</td>\n",
              "      <td>0</td>\n",
              "      <td>0</td>\n",
              "      <td>0</td>\n",
              "      <td>0</td>\n",
              "      <td>0</td>\n",
              "      <td>0</td>\n",
              "      <td>0</td>\n",
              "      <td>0</td>\n",
              "      <td>0</td>\n",
              "      <td>0</td>\n",
              "      <td>0</td>\n",
              "      <td>0</td>\n",
              "      <td>0</td>\n",
              "      <td>0</td>\n",
              "      <td>0</td>\n",
              "      <td>0</td>\n",
              "      <td>0</td>\n",
              "      <td>0</td>\n",
              "      <td>0</td>\n",
              "      <td>0</td>\n",
              "      <td>0</td>\n",
              "      <td>1</td>\n",
              "      <td>0</td>\n",
              "      <td>0</td>\n",
              "      <td>0</td>\n",
              "      <td>1</td>\n",
              "      <td>0</td>\n",
              "      <td>0</td>\n",
              "      <td>0</td>\n",
              "      <td>1</td>\n",
              "      <td>0</td>\n",
              "      <td>0</td>\n",
              "    </tr>\n",
              "    <tr>\n",
              "      <th>580662</th>\n",
              "      <td>4</td>\n",
              "      <td>1</td>\n",
              "      <td>0</td>\n",
              "      <td>2013</td>\n",
              "      <td>11</td>\n",
              "      <td>21</td>\n",
              "      <td>47</td>\n",
              "      <td>19700.0</td>\n",
              "      <td>1</td>\n",
              "      <td>6507.269231</td>\n",
              "      <td>545.807692</td>\n",
              "      <td>0</td>\n",
              "      <td>0</td>\n",
              "      <td>0</td>\n",
              "      <td>0</td>\n",
              "      <td>0</td>\n",
              "      <td>0</td>\n",
              "      <td>0</td>\n",
              "      <td>0</td>\n",
              "      <td>0</td>\n",
              "      <td>0</td>\n",
              "      <td>1</td>\n",
              "      <td>0</td>\n",
              "      <td>0</td>\n",
              "      <td>0</td>\n",
              "      <td>0</td>\n",
              "      <td>0</td>\n",
              "      <td>0</td>\n",
              "      <td>0</td>\n",
              "      <td>0</td>\n",
              "      <td>0</td>\n",
              "      <td>0</td>\n",
              "      <td>0</td>\n",
              "      <td>0</td>\n",
              "      <td>0</td>\n",
              "      <td>0</td>\n",
              "      <td>0</td>\n",
              "      <td>0</td>\n",
              "      <td>0</td>\n",
              "      <td>0</td>\n",
              "      <td>0</td>\n",
              "      <td>0</td>\n",
              "      <td>1</td>\n",
              "      <td>0</td>\n",
              "      <td>0</td>\n",
              "      <td>0</td>\n",
              "      <td>0</td>\n",
              "      <td>0</td>\n",
              "      <td>0</td>\n",
              "      <td>1</td>\n",
              "      <td>1</td>\n",
              "      <td>0</td>\n",
              "      <td>0</td>\n",
              "    </tr>\n",
              "  </tbody>\n",
              "</table>\n",
              "</div>"
            ],
            "text/plain": [
              "        DayOfWeek  Promo  ...  Assortment_b  Assortment_c\n",
              "668920          6      0  ...             0             0\n",
              "37690           2      0  ...             0             0\n",
              "437004          6      0  ...             0             1\n",
              "690799          4      1  ...             0             0\n",
              "580662          4      1  ...             0             0\n",
              "\n",
              "[5 rows x 53 columns]"
            ]
          },
          "metadata": {},
          "execution_count": 34
        }
      ]
    },
    {
      "cell_type": "code",
      "metadata": {
        "id": "wbqzXtqUEO74",
        "colab": {
          "base_uri": "https://localhost:8080/"
        },
        "outputId": "e7299745-a820-4374-fd3f-ef91b79a20a1"
      },
      "source": [
        "yd_train.head()"
      ],
      "execution_count": 35,
      "outputs": [
        {
          "output_type": "execute_result",
          "data": {
            "text/plain": [
              "668920    3408\n",
              "37690     6194\n",
              "437004    6079\n",
              "690799    6373\n",
              "580662    7070\n",
              "Name: Sales, dtype: int64"
            ]
          },
          "metadata": {},
          "execution_count": 35
        }
      ]
    },
    {
      "cell_type": "markdown",
      "metadata": {
        "id": "ndhFbWuVrbBx"
      },
      "source": [
        "##<b> 7.2 Linear Regression"
      ]
    },
    {
      "cell_type": "markdown",
      "metadata": {
        "id": "u4mcfhi30dbN"
      },
      "source": [
        "Training with Linear Regressor:"
      ]
    },
    {
      "cell_type": "markdown",
      "metadata": {
        "id": "zXwZnQGk0gQ-"
      },
      "source": [
        "Definition:"
      ]
    },
    {
      "cell_type": "markdown",
      "metadata": {
        "id": "7snEle4y0i34"
      },
      "source": [
        "Its advantages:"
      ]
    },
    {
      "cell_type": "markdown",
      "metadata": {
        "id": "j-Itrzgv0k-2"
      },
      "source": [
        "Its Disadvantages:"
      ]
    },
    {
      "cell_type": "code",
      "metadata": {
        "id": "MI8FugNCbBeK"
      },
      "source": [
        "from sklearn.linear_model import LinearRegression\n",
        "lin= LinearRegression()\n",
        "linreg = lin.fit(Xd_train, yd_train)"
      ],
      "execution_count": 37,
      "outputs": []
    },
    {
      "cell_type": "code",
      "metadata": {
        "id": "DN5YPeypbD-m",
        "colab": {
          "base_uri": "https://localhost:8080/"
        },
        "outputId": "652e2dc7-4a40-4e38-fff7-207305d9c417"
      },
      "source": [
        "# definte RMSE function\n",
        "from sklearn.metrics import mean_squared_error\n",
        "from math import sqrt\n",
        "\n",
        "def rmse(x, y):\n",
        "    return sqrt(mean_squared_error(x, y))\n",
        "\n",
        "# definte MAPE function\n",
        "def mape(x, y): \n",
        "    return np.mean(np.abs((x - y) / x)) * 100  \n",
        "  \n",
        "# get cross validation scores \n",
        "yd_predicted = linreg.predict(Xd_train)\n",
        "yd_test_predicted = linreg.predict(Xd_test)\n",
        "\n",
        "print(\"Regresion Model Score\" , \":\" , linreg.score(Xd_train, yd_train) , \",\" ,\n",
        "      \"Out of Sample Test Score\" ,\":\" , linreg.score(Xd_test, yd_test))\n",
        "print(\"Training RMSE\", \":\", rmse(yd_train, yd_predicted),\n",
        "      \"Testing RMSE\", \":\", rmse(yd_test, yd_test_predicted))\n",
        "print(\"Training MAPE\", \":\", mape(yd_train, yd_predicted),\n",
        "      \"Testing MAPE\", \":\", mape(yd_test, yd_test_predicted))"
      ],
      "execution_count": 38,
      "outputs": [
        {
          "output_type": "stream",
          "name": "stdout",
          "text": [
            "Regresion Model Score : 0.7572866328621075 , Out of Sample Test Score : 0.7394202493403031\n",
            "Training RMSE : 1546.4689491711047 Testing RMSE : 1563.7592390518612\n",
            "Training MAPE : 16.957703885995926 Testing MAPE : 17.230897033650443\n"
          ]
        }
      ]
    },
    {
      "cell_type": "markdown",
      "metadata": {
        "id": "HY9kl4VbEt9t"
      },
      "source": [
        "Need to import the statsmodel.api library using which will help to perform the linear regression."
      ]
    },
    {
      "cell_type": "code",
      "metadata": {
        "id": "rh1aWhuyFAFp",
        "colab": {
          "base_uri": "https://localhost:8080/"
        },
        "outputId": "3eae5af4-a1df-4111-a396-ff4908ebcdc2"
      },
      "source": [
        "import statsmodels.api as sm"
      ],
      "execution_count": 39,
      "outputs": [
        {
          "output_type": "stream",
          "name": "stderr",
          "text": [
            "/usr/local/lib/python3.7/dist-packages/statsmodels/tools/_testing.py:19: FutureWarning:\n",
            "\n",
            "pandas.util.testing is deprecated. Use the functions in the public API at pandas.testing instead.\n",
            "\n"
          ]
        }
      ]
    },
    {
      "cell_type": "markdown",
      "metadata": {
        "id": "dok6aIrBFBH6"
      },
      "source": [
        "By default, the statsmodels library fits a line on the dataset which passes through the origin. But in order to have an intercept, you need to manually use the add_constant attribute of statsmodels. And once you've added the constant to your Xd_train dataset, you can go ahead and fit a regression line using the OLS (Ordinary Least Squares) attribute of statsmodels as shown below"
      ]
    },
    {
      "cell_type": "code",
      "metadata": {
        "id": "B4wJl9YipZlu"
      },
      "source": [
        "# Add a constant to get an intercept\n",
        "Xd_train_sm = sm.add_constant(Xd_train)\n",
        "\n",
        "# Fit the resgression line using 'OLS'\n",
        "lr = sm.OLS(yd_train, Xd_train_sm).fit()"
      ],
      "execution_count": 40,
      "outputs": []
    },
    {
      "cell_type": "code",
      "metadata": {
        "id": "wTtMHJ3iGSjC",
        "colab": {
          "base_uri": "https://localhost:8080/"
        },
        "outputId": "f2d83d0e-78d3-408d-816a-e822d125d98e"
      },
      "source": [
        "# Print the parameters, i.e. the intercept and the slope of the regression line fitted\n",
        "lr.params"
      ],
      "execution_count": 41,
      "outputs": [
        {
          "output_type": "execute_result",
          "data": {
            "text/plain": [
              "const                    -0.125895\n",
              "DayOfWeek              -136.856416\n",
              "Promo                  2181.552506\n",
              "SchoolHoliday           287.537534\n",
              "Year                     -0.853457\n",
              "Month                  -124.980169\n",
              "Day                      -3.860849\n",
              "WeekOfYear               35.131677\n",
              "CompetitionDistance       0.006521\n",
              "Promo2                   21.605293\n",
              "AvgSales                  0.834130\n",
              "AvgCustomer               1.102210\n",
              "Date_2013-01            -61.199100\n",
              "Date_2013-02             93.587613\n",
              "Date_2013-03           -142.941197\n",
              "Date_2013-04            -81.340464\n",
              "Date_2013-05            -54.587679\n",
              "Date_2013-06            125.969916\n",
              "Date_2013-07           -169.616443\n",
              "Date_2013-08           -139.272123\n",
              "Date_2013-09           -131.902816\n",
              "Date_2013-10           -145.688030\n",
              "Date_2013-11            169.796345\n",
              "Date_2013-12            471.197832\n",
              "Date_2014-01            -27.426437\n",
              "Date_2014-02            286.072856\n",
              "Date_2014-03            167.172598\n",
              "Date_2014-04             29.429437\n",
              "Date_2014-05             68.611587\n",
              "Date_2014-06             26.069337\n",
              "Date_2014-07           -231.602879\n",
              "Date_2014-08           -222.729456\n",
              "Date_2014-09           -169.024535\n",
              "Date_2014-10           -278.947420\n",
              "Date_2014-11           -324.230674\n",
              "Date_2014-12            555.772525\n",
              "Date_2015-01            -75.790777\n",
              "Date_2015-02            192.210077\n",
              "Date_2015-03             66.568385\n",
              "Date_2015-04             -4.955454\n",
              "Date_2015-05             56.857577\n",
              "Date_2015-06             44.193970\n",
              "Date_2015-07            -92.380468\n",
              "StateHoliday_0         1101.756730\n",
              "StateHoliday_a          588.457466\n",
              "StateHoliday_b         3266.316418\n",
              "StateHoliday_c        -4956.656510\n",
              "StoreType_a             -19.042885\n",
              "StoreType_b             -42.954064\n",
              "StoreType_c             -43.292629\n",
              "StoreType_d             105.163683\n",
              "Assortment_a            262.314917\n",
              "Assortment_b           -627.585078\n",
              "Assortment_c            365.144266\n",
              "dtype: float64"
            ]
          },
          "metadata": {},
          "execution_count": 41
        }
      ]
    },
    {
      "cell_type": "code",
      "metadata": {
        "id": "tWXVjBVfGSk2",
        "colab": {
          "base_uri": "https://localhost:8080/"
        },
        "outputId": "a1c1d872-64d3-4122-d093-d01cee99fe8d"
      },
      "source": [
        "# Performing a summary operation lists out all the different parameters of the regression line fitted\n",
        "print(lr.summary())"
      ],
      "execution_count": 42,
      "outputs": [
        {
          "output_type": "stream",
          "name": "stdout",
          "text": [
            "                            OLS Regression Results                            \n",
            "==============================================================================\n",
            "Dep. Variable:                  Sales   R-squared:                       0.757\n",
            "Model:                            OLS   Adj. R-squared:                  0.757\n",
            "Method:                 Least Squares   F-statistic:                     2320.\n",
            "Date:                Sat, 30 Oct 2021   Prob (F-statistic):               0.00\n",
            "Time:                        10:17:46   Log-Likelihood:            -3.0669e+05\n",
            "No. Observations:               35000   AIC:                         6.135e+05\n",
            "Df Residuals:                   34952   BIC:                         6.139e+05\n",
            "Df Model:                          47                                         \n",
            "Covariance Type:            nonrobust                                         \n",
            "=======================================================================================\n",
            "                          coef    std err          t      P>|t|      [0.025      0.975]\n",
            "---------------------------------------------------------------------------------------\n",
            "const                  -0.1259      0.096     -1.318      0.188      -0.313       0.061\n",
            "DayOfWeek            -136.8564      5.077    -26.954      0.000    -146.808    -126.904\n",
            "Promo                2181.5525     17.780    122.699      0.000    2146.704    2216.401\n",
            "SchoolHoliday         287.5375     24.101     11.931      0.000     240.300     334.775\n",
            "Year                   -0.8535      0.168     -5.093      0.000      -1.182      -0.525\n",
            "Month                -124.9802      8.801    -14.200      0.000    -142.231    -107.729\n",
            "Day                    -3.8608      0.974     -3.962      0.000      -5.771      -1.951\n",
            "WeekOfYear             35.1317      2.033     17.282      0.000      31.147      39.116\n",
            "CompetitionDistance     0.0065      0.001      5.873      0.000       0.004       0.009\n",
            "Promo2                 21.6053     17.357      1.245      0.213     -12.415      55.626\n",
            "AvgSales                0.8341      0.007    124.190      0.000       0.821       0.847\n",
            "AvgCustomer             1.1022      0.052     21.260      0.000       1.001       1.204\n",
            "Date_2013-01          -61.1991     36.648     -1.670      0.095    -133.030      10.632\n",
            "Date_2013-02           93.5876     45.781      2.044      0.041       3.855     183.321\n",
            "Date_2013-03         -142.9412     46.488     -3.075      0.002    -234.060     -51.823\n",
            "Date_2013-04          -81.3405     46.403     -1.753      0.080    -172.292       9.611\n",
            "Date_2013-05          -54.5877     48.655     -1.122      0.262    -149.954      40.778\n",
            "Date_2013-06          125.9699     46.329      2.719      0.007      35.165     216.775\n",
            "Date_2013-07         -169.6164     44.466     -3.815      0.000    -256.771     -82.462\n",
            "Date_2013-08         -139.2721     45.334     -3.072      0.002    -228.128     -50.417\n",
            "Date_2013-09         -131.9028     45.579     -2.894      0.004    -221.240     -42.566\n",
            "Date_2013-10         -145.6880     44.274     -3.291      0.001    -232.466     -58.910\n",
            "Date_2013-11          169.7963     38.622      4.396      0.000      94.096     245.496\n",
            "Date_2013-12          471.1978     40.225     11.714      0.000     392.356     550.039\n",
            "Date_2014-01          -27.4264     37.073     -0.740      0.459    -100.091      45.238\n",
            "Date_2014-02          286.0729     45.210      6.328      0.000     197.460     374.686\n",
            "Date_2014-03          167.1726     44.353      3.769      0.000      80.240     254.105\n",
            "Date_2014-04           29.4294     47.508      0.619      0.536     -63.687     122.546\n",
            "Date_2014-05           68.6116     46.629      1.471      0.141     -22.784     160.007\n",
            "Date_2014-06           26.0693     48.568      0.537      0.591     -69.126     121.264\n",
            "Date_2014-07         -231.6029     48.425     -4.783      0.000    -326.517    -136.689\n",
            "Date_2014-08         -222.7295     50.868     -4.379      0.000    -322.433    -123.026\n",
            "Date_2014-09         -169.0245     49.647     -3.405      0.001    -266.333     -71.716\n",
            "Date_2014-10         -278.9474     48.870     -5.708      0.000    -374.735    -183.160\n",
            "Date_2014-11         -324.2307     43.649     -7.428      0.000    -409.784    -238.678\n",
            "Date_2014-12          555.7725     43.589     12.750      0.000     470.336     641.209\n",
            "Date_2015-01          -75.7908     44.996     -1.684      0.092    -163.985      12.404\n",
            "Date_2015-02          192.2101     44.427      4.326      0.000     105.131     279.289\n",
            "Date_2015-03           66.5684     45.186      1.473      0.141     -21.998     155.135\n",
            "Date_2015-04           -4.9555     47.690     -0.104      0.917     -98.430      88.519\n",
            "Date_2015-05           56.8576     47.982      1.185      0.236     -37.189     150.904\n",
            "Date_2015-06           44.1940     45.537      0.971      0.332     -45.060     133.448\n",
            "Date_2015-07          -92.3805     45.226     -2.043      0.041    -181.025      -3.736\n",
            "StateHoliday_0       1101.7567    333.228      3.306      0.001     448.619    1754.895\n",
            "StateHoliday_a        588.4575    387.966      1.517      0.129    -171.969    1348.884\n",
            "StateHoliday_b       3266.3164    592.418      5.514      0.000    2105.159    4427.474\n",
            "StateHoliday_c      -4956.6565    844.504     -5.869      0.000   -6611.911   -3301.402\n",
            "StoreType_a           -19.0429     25.308     -0.752      0.452     -68.647      30.561\n",
            "StoreType_b           -42.9541     71.333     -0.602      0.547    -182.769      96.861\n",
            "StoreType_c           -43.2926     28.762     -1.505      0.132     -99.667      13.082\n",
            "StoreType_d           105.1637     29.463      3.569      0.000      47.415     162.913\n",
            "Assortment_a          262.3149     42.406      6.186      0.000     179.198     345.432\n",
            "Assortment_b         -627.5851     84.331     -7.442      0.000    -792.877    -462.293\n",
            "Assortment_c          365.1443     43.737      8.349      0.000     279.419     450.870\n",
            "==============================================================================\n",
            "Omnibus:                     9338.769   Durbin-Watson:                   2.018\n",
            "Prob(Omnibus):                  0.000   Jarque-Bera (JB):           108556.078\n",
            "Skew:                           0.952   Prob(JB):                         0.00\n",
            "Kurtosis:                      11.415   Cond. No.                     2.60e+18\n",
            "==============================================================================\n",
            "\n",
            "Warnings:\n",
            "[1] Standard Errors assume that the covariance matrix of the errors is correctly specified.\n",
            "[2] The smallest eigenvalue is 6.12e-25. This might indicate that there are\n",
            "strong multicollinearity problems or that the design matrix is singular.\n"
          ]
        }
      ]
    },
    {
      "cell_type": "markdown",
      "metadata": {
        "id": "oXL7hUKONd-c"
      },
      "source": [
        "<B>Looking at some key statistics from the summary"
      ]
    },
    {
      "cell_type": "markdown",
      "metadata": {
        "id": "dAZiNP7vNhOy"
      },
      "source": [
        "The values we are concerned with are -\n",
        "\n",
        "1. The coefficients and significance (p-values)\n",
        "2. R-squared\n",
        "3. F statistic and its significance"
      ]
    },
    {
      "cell_type": "markdown",
      "metadata": {
        "id": "jdPHuO63Nvf8"
      },
      "source": [
        "1. The coefficient for Average sales is 0.8472, with a very low p value."
      ]
    },
    {
      "cell_type": "markdown",
      "metadata": {
        "id": "nmnk_miNOIzJ"
      },
      "source": [
        "2. R - squared is 0.753\n",
        "Meaning that 75.3% of the variance in Sales\n",
        "This is a decent R-squared value."
      ]
    },
    {
      "cell_type": "markdown",
      "metadata": {
        "id": "JM_T2EP9OsAb"
      },
      "source": [
        "3. F statistic has a very low p value (practically low)\n",
        "Meaning that the model fit is statistically significant, and the explained variance isn't purely by chance."
      ]
    },
    {
      "cell_type": "markdown",
      "metadata": {
        "id": "czWh0Pk1rw0s"
      },
      "source": [
        "##<b> 7.3 Bayesian Ridge Regression"
      ]
    },
    {
      "cell_type": "code",
      "metadata": {
        "id": "gUDv003c8aI4"
      },
      "source": [
        "from sklearn.linear_model import BayesianRidge\n",
        "rdg = BayesianRidge()\n",
        "rdgreg = rdg.fit(Xd_train, yd_train)"
      ],
      "execution_count": 43,
      "outputs": []
    },
    {
      "cell_type": "code",
      "metadata": {
        "colab": {
          "base_uri": "https://localhost:8080/"
        },
        "id": "89qT6csO9Ja0",
        "outputId": "2b716651-4706-441e-ce78-379eee2fdad6"
      },
      "source": [
        "# validation\n",
        "print(\"Regresion Model Score\" , \":\" , rdgreg.score(Xd_train, yd_train) , \",\" ,\n",
        "      \"Out of Sample Test Score\" ,\":\" , rdgreg.score(Xd_test, yd_test))\n",
        "\n",
        "yd_predicted = rdgreg.predict(Xd_train)\n",
        "yd_test_predicted = rdgreg.predict(Xd_test)\n",
        "\n",
        "print(\"Training RMSE\", \":\", rmse(yd_train, yd_predicted),\n",
        "      \"Testing RMSE\", \":\", rmse(yd_test, yd_test_predicted))\n",
        "print(\"Training MAPE\", \":\", mape(yd_train, yd_predicted),\n",
        "      \"Testing MAPE\", \":\", mape(yd_test, yd_test_predicted))"
      ],
      "execution_count": 44,
      "outputs": [
        {
          "output_type": "stream",
          "name": "stdout",
          "text": [
            "Regresion Model Score : 0.7570871921184814 , Out of Sample Test Score : 0.7397997705053811\n",
            "Training RMSE : 1547.1041955665848 Testing RMSE : 1562.620056176796\n",
            "Training MAPE : 16.95333238138201 Testing MAPE : 17.214437236682176\n"
          ]
        }
      ]
    },
    {
      "cell_type": "markdown",
      "metadata": {
        "id": "OyEvOO4hr7WP"
      },
      "source": [
        "##<b> 7.4 LARS Lasso Regression\n",
        "\n",
        "\n"
      ]
    },
    {
      "cell_type": "code",
      "metadata": {
        "id": "UQdQOSX990RY"
      },
      "source": [
        "from sklearn.linear_model import LassoLars\n",
        "las = LassoLars(alpha=0.3, fit_intercept=False, normalize=True)\n",
        "lasreg = las.fit(Xd_train, yd_train)"
      ],
      "execution_count": 45,
      "outputs": []
    },
    {
      "cell_type": "code",
      "metadata": {
        "colab": {
          "base_uri": "https://localhost:8080/"
        },
        "id": "oFaIX60095eJ",
        "outputId": "26a8ae2c-a0eb-4c7e-eb65-b072bef34b77"
      },
      "source": [
        "print(\"Regresion Model Score\" , \":\" , lasreg.score(Xd_train, yd_train) , \",\" ,\n",
        "      \"Out of Sample Test Score\" ,\":\" , lasreg.score(Xd_test, yd_test))\n",
        "\n",
        "yd_predicted = lasreg.predict(Xd_train)\n",
        "yd_test_predicted = lasreg.predict(Xd_test)\n",
        "\n",
        "print(\"Training RMSE\", \":\", rmse(yd_train, yd_predicted),\n",
        "      \"Testing RMSE\", \":\", rmse(yd_test, yd_test_predicted))\n",
        "print(\"Training MAPE\", \":\", mape(yd_train, yd_predicted),\n",
        "      \"Testing MAPE\", \":\", mape(yd_test, yd_test_predicted))"
      ],
      "execution_count": 46,
      "outputs": [
        {
          "output_type": "stream",
          "name": "stdout",
          "text": [
            "Regresion Model Score : 0.757038263838227 , Out of Sample Test Score : 0.7397607618640631\n",
            "Training RMSE : 1547.2599990767346 Testing RMSE : 1562.7371840536466\n",
            "Training MAPE : 16.953235523245745 Testing MAPE : 17.214409433560665\n"
          ]
        }
      ]
    },
    {
      "cell_type": "markdown",
      "metadata": {
        "id": "5Clw9vgvJOKj"
      },
      "source": [
        "##<b> 7.5 K-Nearest Neighbor Regression"
      ]
    },
    {
      "cell_type": "code",
      "metadata": {
        "id": "opsQtqK9JMiL"
      },
      "source": [
        "from sklearn.neighbors import KNeighborsRegressor\n",
        "knn = KNeighborsRegressor(n_neighbors = 30)\n",
        "knnreg = knn.fit(Xd_train, yd_train)"
      ],
      "execution_count": 47,
      "outputs": []
    },
    {
      "cell_type": "code",
      "metadata": {
        "colab": {
          "base_uri": "https://localhost:8080/"
        },
        "id": "5IDqSAsQJi5-",
        "outputId": "89afe9f0-8a99-46ff-bdd0-785f4bbfff32"
      },
      "source": [
        "print(\"Regresion Model Score\" , \":\" , knnreg.score(Xd_train, yd_train) , \",\" ,\n",
        "      \"Out of Sample Test Score\" ,\":\" , knnreg.score(Xd_test, yd_test))\n",
        "\n",
        "yd_predicted = knnreg.predict(Xd_train)\n",
        "yd_test_predicted = knnreg.predict(Xd_test)\n",
        "\n",
        "print(\"Training RMSE\", \":\", rmse(yd_train, yd_predicted),\n",
        "      \"Testing RMSE\", \":\", rmse(yd_test, yd_test_predicted))\n",
        "print(\"Training MAPE\", \":\", mape(yd_train, yd_predicted),\n",
        "      \"Testing MAPE\", \":\", mape(yd_test, yd_test_predicted))"
      ],
      "execution_count": 48,
      "outputs": [
        {
          "output_type": "stream",
          "name": "stdout",
          "text": [
            "Regresion Model Score : 0.6275778403804217 , Out of Sample Test Score : 0.5761682638248593\n",
            "Training RMSE : 1915.632135568599 Testing RMSE : 1994.3266518612797\n",
            "Training MAPE : 22.92338055020375 Testing MAPE : 23.867936340182737\n"
          ]
        }
      ]
    },
    {
      "cell_type": "code",
      "metadata": {
        "colab": {
          "base_uri": "https://localhost:8080/"
        },
        "id": "j9i6JDSKJ0rg",
        "outputId": "7c589ab8-69f8-44c8-d6c9-b8374e2508ba"
      },
      "source": [
        "for x in range(1,30):\n",
        "    knn = KNeighborsRegressor(n_neighbors = x)\n",
        "    knnreg = knn.fit(Xd_train, yd_train)\n",
        "    print(\"Regresion Model Score\" , \":\" , knnreg.score(Xd_train, yd_train) , \",\" ,\n",
        "      \"Out of Sample Test Score\" ,\":\" , knnreg.score(Xd_test, yd_test))"
      ],
      "execution_count": 49,
      "outputs": [
        {
          "output_type": "stream",
          "name": "stdout",
          "text": [
            "Regresion Model Score : 1.0 , Out of Sample Test Score : 0.2567785606037386\n",
            "Regresion Model Score : 0.8260826137684044 , Out of Sample Test Score : 0.4242663596183899\n",
            "Regresion Model Score : 0.7625362867306816 , Out of Sample Test Score : 0.48627915993604987\n",
            "Regresion Model Score : 0.729575984217631 , Out of Sample Test Score : 0.5118689357347461\n",
            "Regresion Model Score : 0.7083929767405781 , Out of Sample Test Score : 0.5316238924579666\n",
            "Regresion Model Score : 0.6921139594941537 , Out of Sample Test Score : 0.5420006627048211\n",
            "Regresion Model Score : 0.6819036651027053 , Out of Sample Test Score : 0.547427488940428\n",
            "Regresion Model Score : 0.6737859761643816 , Out of Sample Test Score : 0.5529220237960276\n",
            "Regresion Model Score : 0.6679619503077157 , Out of Sample Test Score : 0.5579376505981581\n",
            "Regresion Model Score : 0.6616151249523021 , Out of Sample Test Score : 0.5619036057046914\n",
            "Regresion Model Score : 0.6561692572634898 , Out of Sample Test Score : 0.5634929183813053\n",
            "Regresion Model Score : 0.6528010363117502 , Out of Sample Test Score : 0.5647402533555781\n",
            "Regresion Model Score : 0.6487503037543364 , Out of Sample Test Score : 0.5660245907604583\n",
            "Regresion Model Score : 0.6465239416860986 , Out of Sample Test Score : 0.5674825625973039\n",
            "Regresion Model Score : 0.6448027417480464 , Out of Sample Test Score : 0.568632744624473\n",
            "Regresion Model Score : 0.6428502968856218 , Out of Sample Test Score : 0.5690538851918499\n",
            "Regresion Model Score : 0.6414162493745479 , Out of Sample Test Score : 0.5693660335483643\n",
            "Regresion Model Score : 0.6393595361762681 , Out of Sample Test Score : 0.5699866538066383\n",
            "Regresion Model Score : 0.6377605578697519 , Out of Sample Test Score : 0.5706853328489063\n",
            "Regresion Model Score : 0.6368152247711206 , Out of Sample Test Score : 0.5716303643562741\n",
            "Regresion Model Score : 0.6353623400661599 , Out of Sample Test Score : 0.5719169121068746\n",
            "Regresion Model Score : 0.634182693632243 , Out of Sample Test Score : 0.5723338110907565\n",
            "Regresion Model Score : 0.6332911807537773 , Out of Sample Test Score : 0.5726280439561713\n",
            "Regresion Model Score : 0.6325413078928668 , Out of Sample Test Score : 0.5735546633208377\n",
            "Regresion Model Score : 0.6315184838515249 , Out of Sample Test Score : 0.5744643090619177\n",
            "Regresion Model Score : 0.6306144839291774 , Out of Sample Test Score : 0.5752574553782952\n",
            "Regresion Model Score : 0.6298282604627998 , Out of Sample Test Score : 0.5753351267109378\n",
            "Regresion Model Score : 0.6289142636803268 , Out of Sample Test Score : 0.5759231197712609\n",
            "Regresion Model Score : 0.6282241414231688 , Out of Sample Test Score : 0.5763332267524279\n"
          ]
        }
      ]
    },
    {
      "cell_type": "markdown",
      "metadata": {
        "id": "o4kiTUOV_Snx"
      },
      "source": [
        "## **7.6 Decison Tree Regression**"
      ]
    },
    {
      "cell_type": "code",
      "metadata": {
        "id": "0xpAnjIr_Z9Y"
      },
      "source": [
        "from sklearn.tree import DecisionTreeRegressor\n",
        "tree = DecisionTreeRegressor(min_samples_leaf=20)\n",
        "treereg = tree.fit(Xd_train, yd_train)"
      ],
      "execution_count": 50,
      "outputs": []
    },
    {
      "cell_type": "code",
      "metadata": {
        "colab": {
          "base_uri": "https://localhost:8080/"
        },
        "id": "-d3Mz6s0_1r8",
        "outputId": "82ab2983-bc3f-43be-939f-2db6488b17ed"
      },
      "source": [
        "print(\"Regresion Model Score\" , \":\" , treereg.score(Xd_train, yd_train) , \",\" ,\n",
        "      \"Out of Sample Test Score\" ,\":\" , treereg.score(Xd_test, yd_test))\n",
        "\n",
        "yd_predicted = treereg.predict(Xd_train)\n",
        "yd_test_predicted = treereg.predict(Xd_test)\n",
        "print(\"Training RMSE\", \":\", rmse(yd_train, yd_predicted),\n",
        "      \"Testing RMSE\", \":\", rmse(yd_test, yd_test_predicted))\n",
        "print(\"Training MAPE\", \":\", mape(yd_train, yd_predicted),\n",
        "      \"Testing MAPE\", \":\", mape(yd_test, yd_test_predicted))"
      ],
      "execution_count": 51,
      "outputs": [
        {
          "output_type": "stream",
          "name": "stdout",
          "text": [
            "Regresion Model Score : 0.8549113476276219 , Out of Sample Test Score : 0.7903814935570309\n",
            "Training RMSE : 1195.6693049761038 Testing RMSE : 1402.5371309822513\n",
            "Training MAPE : 12.456551146432087 Testing MAPE : 14.690026621660596\n"
          ]
        }
      ]
    },
    {
      "cell_type": "markdown",
      "metadata": {
        "id": "5IMf4JjiAxwF"
      },
      "source": [
        "## **7.7 Random Forest Regression**"
      ]
    },
    {
      "cell_type": "code",
      "metadata": {
        "id": "rXt4lS3NA2iM"
      },
      "source": [
        "from sklearn.ensemble import RandomForestRegressor\n",
        "rdf = RandomForestRegressor(n_estimators=30)\n",
        "rdfreg = rdf.fit(Xd_train, yd_train)"
      ],
      "execution_count": 52,
      "outputs": []
    },
    {
      "cell_type": "code",
      "metadata": {
        "colab": {
          "base_uri": "https://localhost:8080/"
        },
        "id": "SSA9st6UBNL7",
        "outputId": "eb8fb9ba-5b22-4528-9aa4-334383842451"
      },
      "source": [
        "print(\"Regresion Model Score\" , \":\" , rdfreg.score(Xd_train, yd_train) , \",\" ,\n",
        "      \"Out of Sample Test Score\" ,\":\" , rdfreg.score(Xd_test, yd_test))   \n",
        "\n",
        "yl_predicted = rdfreg.predict(Xd_train)\n",
        "yl_test_predicted = rdfreg.predict(Xd_test)\n",
        "\n",
        "print(\"Training RMSE\", \":\", rmse(yd_train, yd_predicted),\n",
        "      \"Testing RMSE\", \":\", rmse(yd_test, yd_test_predicted))\n",
        "print(\"Training MAPE\", \":\", mape(yd_train, yd_predicted),\n",
        "      \"Testing MAPE\", \":\", mape(yd_test, yd_test_predicted))"
      ],
      "execution_count": 53,
      "outputs": [
        {
          "output_type": "stream",
          "name": "stdout",
          "text": [
            "Regresion Model Score : 0.9774537478094104 , Out of Sample Test Score : 0.8417870845319915\n",
            "Training RMSE : 1195.6693049761038 Testing RMSE : 1402.5371309822513\n",
            "Training MAPE : 12.456551146432087 Testing MAPE : 14.690026621660596\n"
          ]
        }
      ]
    },
    {
      "cell_type": "markdown",
      "metadata": {
        "id": "5K7m8E2-jeWa"
      },
      "source": [
        "## **Model Selection**"
      ]
    },
    {
      "cell_type": "markdown",
      "metadata": {
        "id": "0exS330FkFDR"
      },
      "source": [
        "# 1. **Linear Regresion Model Score : 0.7534** \n",
        "\n",
        "Training RMSE : 1558.6669             Testing RMSE : 1569.7998\n",
        "\n",
        "Training MAPE : 16.9946               Testing MAPE : 17.2239\n",
        "\n",
        "---\n",
        "\n",
        "\n",
        "\n",
        "# 2. **Ridge Regresion Model Score : 0.7534**\n",
        "\n",
        "Training RMSE : 1558.6701            Testing RMSE : 1569.9300\n",
        "\n",
        "Training MAPE : 16.9945              Testing MAPE : 17.2237\n",
        "\n",
        "---\n",
        "\n",
        "\n",
        "\n",
        "# 3. **Lasso Regresion Model Score : 0.7534** \n",
        "\n",
        "Training RMSE : 1558.7251           Testing RMSE : 1570.1694\n",
        "\n",
        "Training MAPE : 16.9956             Testing MAPE : 17.2230\n",
        "\n",
        "---\n",
        "\n",
        "\n",
        "\n",
        "# 4. **K- Nearest Neighbor Regresion Model Score : 0.6275** \n",
        "\n",
        "Training RMSE : 1915.6365           Testing RMSE : 1994.3278\n",
        "\n",
        "Training MAPE : 22.9235             Testing MAPE : 23.8679\n",
        "\n",
        "---\n",
        "\n",
        "\n",
        "\n",
        "# 5. **Decision Tree Regresion Model Score : 0.8544**\n",
        "\n",
        "Training RMSE : 1197.4544           Testing RMSE : 1399.7321\n",
        "\n",
        "Training MAPE : 12.4743             Testing MAPE : 14.7060\n",
        "\n",
        "---\n",
        "\n",
        "\n",
        "\n",
        "# **6. Random Forest Regresion Model Score : 0.9779**\n",
        "\n",
        "Training RMSE : 1197.4544           Testing RMSE : 1399.7321\n",
        "\n",
        "Training MAPE : 12.4743             Testing MAPE : 14.7060\n",
        "\n",
        "---\n",
        "\n",
        "\n",
        "\n",
        "\n"
      ]
    },
    {
      "cell_type": "markdown",
      "metadata": {
        "id": "BpgQaiFQxMt5"
      },
      "source": [
        "# Best Model is Random Forest Regresion Model with highest model score![rmse2.PNG](data:image/png;base64,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)"
      ]
    },
    {
      "cell_type": "markdown",
      "metadata": {
        "id": "6hTN5LrLKY6o"
      },
      "source": [
        "# Feature Importance"
      ]
    },
    {
      "cell_type": "code",
      "metadata": {
        "id": "ILpzuMP6Lj4w"
      },
      "source": [
        "from sklearn.ensemble import RandomForestRegressor\n",
        "rdf = RandomForestRegressor(n_estimators=30)\n",
        "rdfreg = rdf.fit(Xl_train, yl_train)"
      ],
      "execution_count": null,
      "outputs": []
    },
    {
      "cell_type": "code",
      "metadata": {
        "colab": {
          "base_uri": "https://localhost:8080/"
        },
        "id": "8-yiIqJXKGsF",
        "outputId": "cd9f4da5-b4c3-49fb-b90a-5c4527dadb32"
      },
      "source": [
        "features = Xl_train.columns\n",
        "importances = rdfreg.feature_importances_\n",
        "indices = np.argsort(importances)\n",
        "plt.figure(figsize=(8,10))\n",
        "plt.title('Feature Importances', fontsize=20)\n",
        "plt.barh(range(len(indices)), importances[indices], color='pink', align='center')\n",
        "plt.yticks(range(len(indices)), features[indices])\n",
        "plt.xlabel('Relative Importance')"
      ],
      "execution_count": null,
      "outputs": [
        {
          "output_type": "execute_result",
          "data": {
            "text/plain": [
              "Text(0.5, 0, 'Relative Importance')"
            ]
          },
          "metadata": {},
          "execution_count": 100
        },
        {
          "output_type": "display_data",
          "data": {
            "image/png": "[encoded data removed]",
            "text/plain": [
              "<Figure size 576x720 with 1 Axes>"
            ]
          },
          "metadata": {
            "needs_background": "light"
          }
        }
      ]
    },
    {
      "cell_type": "markdown",
      "metadata": {
        "id": "pCZR9HeR1nyz"
      },
      "source": [
        "Findings:"
      ]
    },
    {
      "cell_type": "markdown",
      "metadata": {
        "id": "4YEIZor_1luq"
      },
      "source": [
        "\n",
        "\n",
        "Our top 5 most important variables are:\n",
        "\n",
        "1-Competitor Distance: This indeed impacts a lot the sales of a store like we saw previously in our EDA,when competition is very far stores tend to sell a lot more.\n",
        "\n",
        "2-Promo: Promotion is primordial for a store to increase its sales, it allows price breaking and thus more customers intersted in buying.\n",
        "\n",
        "3-Store: The Store itself represents a unique identificator for the algorithm to recognise which store has what attributes and indeed better accounts for the forecasting of those same stores in a future timeline.\n",
        "\n",
        "4-CompetitionOpenSince: The merging of this variable paid out and allowed us to give more accurate predicitions of the sales based on the time of opening of those competitors.\n",
        "\n",
        "5-DayofWeek: Like we said, during a week , the pattern varies a lot if it's a sunday or a monday (like we saw in our EDA) for instance and each day in the week has his own attributes and properties that allow to know how much are we going to sell.\n",
        "\n"
      ]
    },
    {
      "cell_type": "code",
      "metadata": {
        "id": "i1yhj7fJK7eu"
      },
      "source": [
        ""
      ],
      "execution_count": null,
      "outputs": []
    }
  ]
}